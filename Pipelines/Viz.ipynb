{
 "cells": [
  {
   "cell_type": "code",
   "execution_count": 1,
   "metadata": {},
   "outputs": [],
   "source": [
    "import json\n",
    "import matplotlib.pyplot as plt\n",
    "import matplotlib\n",
    "\n"
   ]
  },
  {
   "cell_type": "markdown",
   "metadata": {},
   "source": [
    "# Load from files and pre-process data"
   ]
  },
  {
   "cell_type": "code",
   "execution_count": 8,
   "metadata": {},
   "outputs": [
    {
     "name": "stdout",
     "output_type": "stream",
     "text": [
      "no such file: cnn-random-local-structured-accuracies.json\n",
      "no such file: cnn-random-local-structured-pgd-success.json\n",
      "no such file: cnn-random-local-structured-cw2-success.json\n",
      "no such file: cnn-random-local-structured-bb0-success.json\n",
      "no such file: cnn-random-global-structured-accuracies.json\n",
      "no such file: cnn-random-global-structured-pgd-success.json\n",
      "no such file: cnn-random-global-structured-cw2-success.json\n",
      "no such file: cnn-random-global-structured-bb0-success.json\n",
      "no such file: cnn-magnitude-local-structured-accuracies.json\n",
      "no such file: cnn-magnitude-local-structured-pgd-success.json\n",
      "no such file: cnn-magnitude-local-structured-cw2-success.json\n",
      "no such file: cnn-magnitude-local-structured-bb0-success.json\n",
      "no such file: cnn-magnitude-global-structured-accuracies.json\n",
      "no such file: cnn-magnitude-global-structured-pgd-success.json\n",
      "no such file: cnn-magnitude-global-structured-cw2-success.json\n",
      "no such file: cnn-magnitude-global-structured-bb0-success.json\n",
      "jup is there\n",
      "no such file: cnn-random-local-unstructured-accuracies.json\n",
      "jup is there\n",
      "jup is there\n",
      "jup is there\n",
      "no such file: cnn-random-local-unstructured-bb0-success.json\n",
      "no such file: cnn-random-global-unstructured-accuracies.json\n",
      "no such file: cnn-random-global-unstructured-pgd-success.json\n",
      "no such file: cnn-random-global-unstructured-cw2-success.json\n",
      "no such file: cnn-random-global-unstructured-bb0-success.json\n",
      "jup is there\n",
      "no such file: cnn-magnitude-local-unstructured-accuracies.json\n",
      "jup is there\n",
      "jup is there\n",
      "jup is there\n",
      "no such file: cnn-magnitude-local-unstructured-bb0-success.json\n",
      "jup is there\n",
      "no such file: cnn-magnitude-global-unstructured-accuracies.json\n",
      "jup is there\n",
      "jup is there\n",
      "jup is there\n",
      "no such file: cnn-magnitude-global-unstructured-bb0-success.json\n"
     ]
    }
   ],
   "source": [
    "compression_rates=[1,2,4,8,16,32,64]\n",
    "\n",
    "architectures = ['cnn']\n",
    "structures = ['structured', 'unstructured']\n",
    "methods = ['random', 'magnitude']\n",
    "scopes = ['local', 'global']\n",
    "result_types = ['accuracies', 'pgd-success', 'cw2-success', 'bb0-success']\n",
    "results = dict()\n",
    "\n",
    "for architecture in architectures:\n",
    "    for structure in structures:\n",
    "        for method in methods:\n",
    "            for scope in scopes:\n",
    "                for result_type in result_types:\n",
    "                    file_name = f'{architecture}-{method}-{scope}-{structure}-{result_type}.json'\n",
    "                    try:\n",
    "                        #print(f'saved-results/{file_name}')\n",
    "                        with open(f'saved-results/{file_name}', 'r') as f:\n",
    "                            print('jup is there')\n",
    "                            res = json.load(f)\n",
    "                            \n",
    "                            if 'accuracies' in file_name:\n",
    "                                avg = get_average(res, accuracies=True)\n",
    "                            if 'bb0' in file_name:\n",
    "                                avg = get_average(res[0], )\n",
    "                            else:\n",
    "                                avg = get_average(res)\n",
    "                            results[f'{architecture}-{method}-{scope}-{structure}-{result_type}'] = avg\n",
    "                    except Exception as err:\n",
    "\n",
    "                        print('no such file: ' + file_name)"
   ]
  },
  {
   "cell_type": "markdown",
   "metadata": {},
   "source": [
    "# Helper Functions"
   ]
  },
  {
   "cell_type": "code",
   "execution_count": 7,
   "metadata": {},
   "outputs": [],
   "source": [
    "def get_average(all_values, accuracies=False):\n",
    "    value_per_pruning_rate=[]\n",
    "    for i in range(len(all_values)):\n",
    "        for j in range(len(all_values[i])):\n",
    "            \n",
    "            try:\n",
    "                if accuracies == False:\n",
    "                    value_per_pruning_rate[j].append(all_values[i][j])\n",
    "                if accuracies == True:\n",
    "                    value_per_pruning_rate[j].append(all_values[i][j][1])\n",
    "            except:\n",
    "                value_per_pruning_rate.append([])\n",
    "                if accuracies == False:\n",
    "                    value_per_pruning_rate[j].append(all_values[i][j])\n",
    "                if accuracies == True:\n",
    "                    value_per_pruning_rate[j].append(all_values[i][j][1])\n",
    "    avg_value_per_pruning_rate = [sum(x)/len(x) for x in value_per_pruning_rate]\n",
    "    \n",
    "    return avg_value_per_pruning_rate\n"
   ]
  },
  {
   "cell_type": "code",
   "execution_count": null,
   "metadata": {},
   "outputs": [],
   "source": []
  },
  {
   "cell_type": "code",
   "execution_count": null,
   "metadata": {},
   "outputs": [],
   "source": []
  },
  {
   "cell_type": "code",
   "execution_count": 9,
   "metadata": {},
   "outputs": [
    {
     "ename": "KeyError",
     "evalue": "'cnn-magnitude-global-unstructured-accuracies'",
     "output_type": "error",
     "traceback": [
      "\u001b[0;31m---------------------------------------------------------------------------\u001b[0m",
      "\u001b[0;31mKeyError\u001b[0m                                  Traceback (most recent call last)",
      "\u001b[0;32m<ipython-input-9-485ae2d51a7f>\u001b[0m in \u001b[0;36m<module>\u001b[0;34m\u001b[0m\n\u001b[1;32m      5\u001b[0m \u001b[0;34m\u001b[0m\u001b[0m\n\u001b[1;32m      6\u001b[0m \u001b[0;31m#ax[0,0].plot(compression_rates, results['cnn-magnitude-global-structured-accuracies'],'go-',label='magnitude global struct')\u001b[0m\u001b[0;34m\u001b[0m\u001b[0;34m\u001b[0m\u001b[0;34m\u001b[0m\u001b[0m\n\u001b[0;32m----> 7\u001b[0;31m \u001b[0max\u001b[0m\u001b[0;34m[\u001b[0m\u001b[0;36m0\u001b[0m\u001b[0;34m,\u001b[0m\u001b[0;36m0\u001b[0m\u001b[0;34m]\u001b[0m\u001b[0;34m.\u001b[0m\u001b[0mplot\u001b[0m\u001b[0;34m(\u001b[0m\u001b[0mcompression_rates\u001b[0m\u001b[0;34m,\u001b[0m \u001b[0mresults\u001b[0m\u001b[0;34m[\u001b[0m\u001b[0;34m'cnn-magnitude-global-unstructured-accuracies'\u001b[0m\u001b[0;34m]\u001b[0m\u001b[0;34m,\u001b[0m\u001b[0;34m'ro-'\u001b[0m\u001b[0;34m,\u001b[0m \u001b[0mlabel\u001b[0m\u001b[0;34m=\u001b[0m\u001b[0;34m'magnitude global unstructured'\u001b[0m\u001b[0;34m)\u001b[0m\u001b[0;34m\u001b[0m\u001b[0;34m\u001b[0m\u001b[0m\n\u001b[0m\u001b[1;32m      8\u001b[0m \u001b[0;31m#ax[0,0].plot(compression_rates, results['cnn-magnitude-local-structured-accuracies'],'bo-', label='magnitude local struct')\u001b[0m\u001b[0;34m\u001b[0m\u001b[0;34m\u001b[0m\u001b[0;34m\u001b[0m\u001b[0m\n\u001b[1;32m      9\u001b[0m \u001b[0max\u001b[0m\u001b[0;34m[\u001b[0m\u001b[0;36m0\u001b[0m\u001b[0;34m,\u001b[0m\u001b[0;36m0\u001b[0m\u001b[0;34m]\u001b[0m\u001b[0;34m.\u001b[0m\u001b[0mplot\u001b[0m\u001b[0;34m(\u001b[0m\u001b[0mcompression_rates\u001b[0m\u001b[0;34m,\u001b[0m \u001b[0mresults\u001b[0m\u001b[0;34m[\u001b[0m\u001b[0;34m'cnn-magnitude-local-unstructured-accuracies'\u001b[0m\u001b[0;34m]\u001b[0m\u001b[0;34m,\u001b[0m\u001b[0;34m'yo-'\u001b[0m\u001b[0;34m,\u001b[0m \u001b[0mlabel\u001b[0m\u001b[0;34m=\u001b[0m\u001b[0;34m'magnitude local unstructured'\u001b[0m\u001b[0;34m)\u001b[0m\u001b[0;34m\u001b[0m\u001b[0;34m\u001b[0m\u001b[0m\n",
      "\u001b[0;31mKeyError\u001b[0m: 'cnn-magnitude-global-unstructured-accuracies'"
     ]
    },
    {
     "data": {
      "image/png": "[encoded data removed]",
      "text/plain": [
       "<Figure size 1080x360 with 4 Axes>"
      ]
     },
     "metadata": {
      "needs_background": "light"
     },
     "output_type": "display_data"
    }
   ],
   "source": [
    "\n",
    "fig, (ax) = plt.subplots(2,2,figsize=(15,5), sharex=True)\n",
    "matplotlib.rcParams['xtick.minor.size'] = 0\n",
    "matplotlib.rcParams['xtick.minor.width'] = 0\n",
    "\n",
    "\n",
    "#ax[0,0].plot(compression_rates, results['cnn-magnitude-global-structured-accuracies'],'go-',label='magnitude global struct')\n",
    "ax[0,0].plot(compression_rates, results['cnn-magnitude-global-unstructured-accuracies'],'ro-', label='magnitude global unstructured')\n",
    "#ax[0,0].plot(compression_rates, results['cnn-magnitude-local-structured-accuracies'],'bo-', label='magnitude local struct')\n",
    "ax[0,0].plot(compression_rates, results['cnn-magnitude-local-unstructured-accuracies'],'yo-', label='magnitude local unstructured')\n",
    "#ax[0,0].plot(compression_rates, results['cnn-random-local-structured-accuracies'],'co-', label='random local struct')\n",
    "ax[0,0].plot(compression_rates, results['cnn-random-local-unstructured-accuracies'],'mo-', label='random local unstructured')\n",
    "\n",
    "ax[0,0].set(title='CNN',ylabel='Accuracy', xlabel='Compression Rate')\n",
    "\n",
    "#ax[1,0].plot(compression_rates, results['cnn-magnitude-global-structured-cw2-success'],'go-',label='magnitude global struct')\n",
    "ax[1,0].plot(compression_rates, results['cnn-magnitude-global-unstructured-cw2-success'],'ro-', label='magnitude global unstructured')\n",
    "#ax[1,0].plot(compression_rates, results['cnn-magnitude-local-structured-cw2-success'],'bo-', label='magnitude local struct')\n",
    "ax[1,0].plot(compression_rates, results['cnn-magnitude-local-unstructured-cw2-success'],'yo-', label='magnitude local unstructured')\n",
    "#ax[1,0].plot(compression_rates, results['cnn-random-local-structured-cw2-success'],'co-', label='random local struct')\n",
    "ax[1,0].plot(compression_rates, results['cnn-random-local-unstructured-cw2-success'],'mo-', label='random local unstructured')\n",
    "\n",
    "ax[1,0].set(title='',ylabel='CW2 Attack Success Rate', xlabel='Compression Rate')\n",
    "\n",
    "#ax[0,1].plot(compression_rates, results['cnn-magnitude-global-structured-pgd-success'],'go-',label='magnitude global struct')\n",
    "ax[0,1].plot(compression_rates, results['cnn-magnitude-global-unstructured-pgd-success'],'ro-', label='magnitude global unstructured')\n",
    "#ax[0,1].plot(compression_rates, results['cnn-magnitude-local-structured-pgd-success'],'bo-', label='magnitude local struct')\n",
    "ax[0,1].plot(compression_rates, results['cnn-magnitude-local-unstructured-pgd-success'],'yo-', label='magnitude local unstructured')\n",
    "#ax[0,1].plot(compression_rates, results['cnn-random-local-structured-pgd-success'],'co-', label='random local struct')\n",
    "ax[0,1].plot(compression_rates, results['cnn-random-local-unstructured-pgd-success'],'mo-', label='random local unstructured')\n",
    "\n",
    "ax[0,1].set(title='',ylabel='PGD Attack Success Rate', xlabel='Compression Rate')\n",
    "\n",
    "#ax[1,1].plot(compression_rates, results['cnn-magnitude-global-structured-bb0-success'],'go-',label='magnitude global struct')\n",
    "ax[1,1].plot(compression_rates, results['cnn-magnitude-global-unstructured-bb0-success'],'ro-', label='magnitude global unstructured')\n",
    "#ax[1,1].plot(compression_rates, results['cnn-magnitude-local-structured-bb0-success'],'bo-', label='magnitude local struct')\n",
    "ax[1,1].plot(compression_rates, results['cnn-magnitude-local-unstructured-bb0-success'],'yo-', label='magnitude local unstructured')\n",
    "#ax[1,1].plot(compression_rates, results['cnn-random-local-structured-bb0-success'],'co-', label='random local struct')\n",
    "ax[1,1].plot(compression_rates, results['cnn-random-local-unstructured-bb0-success'],'mo-', label='random local unstructured')\n",
    "\n",
    "ax[1,1].set(title='',ylabel='BB0 Attack Success Rate', xlabel='Compression Rate')\n",
    "\n",
    "# format xscale\n",
    "ax[1,0].set_xscale('log')\n",
    "ax[1,0].set_xticks(compression_rates)\n",
    "\n",
    "ax[1,0].get_xaxis().set_major_formatter(matplotlib.ticker.ScalarFormatter())\n",
    "\n",
    "handles, labels = ax[0,0].get_legend_handles_labels()\n",
    "fig.legend(handles, labels, )#loc='upper center')\n",
    "\n",
    "plt.show()"
   ]
  },
  {
   "cell_type": "code",
   "execution_count": 68,
   "metadata": {},
   "outputs": [
    {
     "data": {
      "text/plain": [
       "[0.9856200039386749,\n",
       " 0.985999995470047,\n",
       " 0.986570006608963,\n",
       " 0.9870000064373017,\n",
       " 0.9871300041675568,\n",
       " 0.987550002336502,\n",
       " 0.9877900063991547]"
      ]
     },
     "execution_count": 68,
     "metadata": {},
     "output_type": "execute_result"
    }
   ],
   "source": [
    "results['cnn-magnitude-local-struct-accuracies']"
   ]
  },
  {
   "cell_type": "code",
   "execution_count": 69,
   "metadata": {},
   "outputs": [
    {
     "data": {
      "text/plain": [
       "[0.9843600034713745,\n",
       " 0.9863899946212769,\n",
       " 0.9866699993610382,\n",
       " 0.9870499968528748,\n",
       " 0.9873600006103516,\n",
       " 0.9874700009822845,\n",
       " 0.9872499942779541]"
      ]
     },
     "execution_count": 69,
     "metadata": {},
     "output_type": "execute_result"
    }
   ],
   "source": [
    "results['cnn-random-local-struct-accuracies']"
   ]
  },
  {
   "cell_type": "code",
   "execution_count": 71,
   "metadata": {},
   "outputs": [
    {
     "name": "stdout",
     "output_type": "stream",
     "text": [
      "0.0012600004673003484\n",
      "-0.0003899991512298362\n",
      "-9.999275207517311e-05\n",
      "-4.999041557307571e-05\n",
      "-0.0002299964427947554\n",
      "8.000135421748489e-05\n",
      "0.0005400121212005837\n"
     ]
    }
   ],
   "source": [
    "for i in range (len(results['cnn-random-local-struct-accuracies'])):\n",
    "    print(results['cnn-magnitude-local-struct-accuracies'][i]- results['cnn-random-local-struct-accuracies'][i])"
   ]
  },
  {
   "cell_type": "code",
   "execution_count": 7,
   "metadata": {},
   "outputs": [
    {
     "data": {
      "text/plain": [
       "{}"
      ]
     },
     "execution_count": 7,
     "metadata": {},
     "output_type": "execute_result"
    }
   ],
   "source": [
    "results"
   ]
  },
  {
   "cell_type": "code",
   "execution_count": null,
   "metadata": {},
   "outputs": [],
   "source": []
  }
 ],
 "metadata": {
  "kernelspec": {
   "display_name": "Python 3",
   "language": "python",
   "name": "python3"
  },
  "language_info": {
   "codemirror_mode": {
    "name": "ipython",
    "version": 3
   },
   "file_extension": ".py",
   "mimetype": "text/x-python",
   "name": "python",
   "nbconvert_exporter": "python",
   "pygments_lexer": "ipython3",
   "version": "3.8.3"
  }
 },
 "nbformat": 4,
 "nbformat_minor": 4
}
