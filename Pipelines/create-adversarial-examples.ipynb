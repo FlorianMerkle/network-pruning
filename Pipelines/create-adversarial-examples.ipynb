{
 "cells": [
  {
   "cell_type": "code",
   "execution_count": 1,
   "metadata": {},
   "outputs": [],
   "source": [
    "import foolbox as fb\n",
    "import helpers.helpers as helpers\n",
    "import helpers.experiment as experiment"
   ]
  },
  {
   "cell_type": "code",
   "execution_count": 2,
   "metadata": {},
   "outputs": [
    {
     "name": "stdout",
     "output_type": "stream",
     "text": [
      "WARNING:tensorflow:Gradients do not exist for variables ['w:0', 'w:0', 'w:0'] when minimizing the loss.\n"
     ]
    },
    {
     "name": "stderr",
     "output_type": "stream",
     "text": [
      "WARNING:tensorflow:Gradients do not exist for variables ['w:0', 'w:0', 'w:0'] when minimizing the loss.\n"
     ]
    },
    {
     "name": "stdout",
     "output_type": "stream",
     "text": [
      "WARNING:tensorflow:Gradients do not exist for variables ['w:0', 'w:0', 'w:0'] when minimizing the loss.\n"
     ]
    },
    {
     "name": "stderr",
     "output_type": "stream",
     "text": [
      "WARNING:tensorflow:Gradients do not exist for variables ['w:0', 'w:0', 'w:0'] when minimizing the loss.\n"
     ]
    },
    {
     "name": "stdout",
     "output_type": "stream",
     "text": [
      "WARNING:tensorflow:Gradients do not exist for variables ['w:0', 'w:0', 'w:0'] when minimizing the loss.\n"
     ]
    },
    {
     "name": "stderr",
     "output_type": "stream",
     "text": [
      "WARNING:tensorflow:Gradients do not exist for variables ['w:0', 'w:0', 'w:0'] when minimizing the loss.\n"
     ]
    },
    {
     "name": "stdout",
     "output_type": "stream",
     "text": [
      "WARNING:tensorflow:Gradients do not exist for variables ['w:0', 'w:0', 'w:0'] when minimizing the loss.\n"
     ]
    },
    {
     "name": "stderr",
     "output_type": "stream",
     "text": [
      "WARNING:tensorflow:Gradients do not exist for variables ['w:0', 'w:0', 'w:0'] when minimizing the loss.\n"
     ]
    },
    {
     "name": "stdout",
     "output_type": "stream",
     "text": [
      "74/74 [==============================] - 11s 155ms/step - loss: 2.3829 - accuracy: 0.2096\n",
      "Epoch 1/100\n",
      "74/74 [==============================] - 15s 209ms/step - loss: 1.8673 - accuracy: 0.3446 - val_loss: 2.9386 - val_accuracy: 0.1027 - lr: 0.0010\n",
      "Epoch 2/100\n",
      "74/74 [==============================] - 12s 168ms/step - loss: 1.7194 - accuracy: 0.4048 - val_loss: 3.1925 - val_accuracy: 0.1350 - lr: 0.0010\n",
      "Epoch 3/100\n",
      "74/74 [==============================] - 12s 168ms/step - loss: 1.5748 - accuracy: 0.4550 - val_loss: 3.4583 - val_accuracy: 0.1485 - lr: 0.0010\n",
      "Epoch 4/100\n",
      "74/74 [==============================] - 12s 164ms/step - loss: 1.4500 - accuracy: 0.5139 - val_loss: 2.7630 - val_accuracy: 0.2367 - lr: 0.0010\n",
      "Epoch 5/100\n",
      "74/74 [==============================] - 12s 163ms/step - loss: 1.3102 - accuracy: 0.5612 - val_loss: 1.8690 - val_accuracy: 0.3641 - lr: 0.0010\n",
      "Epoch 6/100\n",
      "74/74 [==============================] - 12s 164ms/step - loss: 1.2231 - accuracy: 0.5871 - val_loss: 1.6851 - val_accuracy: 0.4899 - lr: 0.0010\n",
      "Epoch 7/100\n",
      "74/74 [==============================] - 12s 164ms/step - loss: 1.1059 - accuracy: 0.6365 - val_loss: 1.7167 - val_accuracy: 0.4670 - lr: 0.0010\n",
      "Epoch 8/100\n",
      "74/74 [==============================] - 12s 164ms/step - loss: 1.0454 - accuracy: 0.6562 - val_loss: 1.4554 - val_accuracy: 0.5282 - lr: 0.0010\n",
      "Epoch 9/100\n",
      "74/74 [==============================] - 12s 164ms/step - loss: 0.9134 - accuracy: 0.7011 - val_loss: 1.8714 - val_accuracy: 0.4726 - lr: 0.0010\n",
      "Epoch 10/100\n",
      "74/74 [==============================] - 12s 164ms/step - loss: 0.8661 - accuracy: 0.7158 - val_loss: 1.9666 - val_accuracy: 0.4428 - lr: 0.0010\n",
      "Epoch 11/100\n",
      "74/74 [==============================] - 12s 163ms/step - loss: 0.8013 - accuracy: 0.7360 - val_loss: 1.3356 - val_accuracy: 0.5806 - lr: 0.0010\n",
      "Epoch 12/100\n",
      "74/74 [==============================] - 12s 164ms/step - loss: 0.7331 - accuracy: 0.7570 - val_loss: 1.4326 - val_accuracy: 0.5434 - lr: 0.0010\n",
      "Epoch 13/100\n",
      "74/74 [==============================] - 12s 164ms/step - loss: 0.6693 - accuracy: 0.7814 - val_loss: 1.6650 - val_accuracy: 0.5075 - lr: 0.0010\n",
      "Epoch 14/100\n",
      "74/74 [==============================] - 12s 164ms/step - loss: 0.6283 - accuracy: 0.7905 - val_loss: 0.9745 - val_accuracy: 0.6955 - lr: 0.0010\n",
      "Epoch 15/100\n",
      "74/74 [==============================] - 12s 164ms/step - loss: 0.5657 - accuracy: 0.8134 - val_loss: 2.2228 - val_accuracy: 0.4657 - lr: 0.0010\n",
      "Epoch 16/100\n",
      "74/74 [==============================] - 12s 164ms/step - loss: 0.5142 - accuracy: 0.8279 - val_loss: 1.1383 - val_accuracy: 0.6589 - lr: 0.0010\n",
      "Epoch 17/100\n",
      "74/74 [==============================] - 12s 164ms/step - loss: 0.4780 - accuracy: 0.8431 - val_loss: 1.1597 - val_accuracy: 0.6594 - lr: 0.0010\n",
      "Epoch 18/100\n",
      "74/74 [==============================] - 12s 164ms/step - loss: 0.4086 - accuracy: 0.8628 - val_loss: 1.1742 - val_accuracy: 0.6517 - lr: 0.0010\n",
      "Epoch 19/100\n",
      "74/74 [==============================] - 12s 164ms/step - loss: 0.3753 - accuracy: 0.8747 - val_loss: 2.3887 - val_accuracy: 0.4487 - lr: 0.0010\n",
      "Epoch 20/100\n",
      "74/74 [==============================] - 12s 164ms/step - loss: 0.3417 - accuracy: 0.8853 - val_loss: 2.3937 - val_accuracy: 0.4920 - lr: 0.0010\n",
      "Epoch 21/100\n",
      "74/74 [==============================] - 12s 164ms/step - loss: 0.2034 - accuracy: 0.9339 - val_loss: 0.9761 - val_accuracy: 0.7488 - lr: 3.0000e-04\n",
      "Epoch 22/100\n",
      "74/74 [==============================] - 12s 164ms/step - loss: 0.1350 - accuracy: 0.9575 - val_loss: 0.8884 - val_accuracy: 0.7712 - lr: 3.0000e-04\n",
      "Epoch 23/100\n",
      "74/74 [==============================] - 12s 165ms/step - loss: 0.0973 - accuracy: 0.9716 - val_loss: 0.9047 - val_accuracy: 0.7847 - lr: 3.0000e-04\n",
      "Epoch 24/100\n",
      "74/74 [==============================] - 12s 165ms/step - loss: 0.0855 - accuracy: 0.9734 - val_loss: 0.9572 - val_accuracy: 0.7806 - lr: 3.0000e-04\n",
      "Epoch 25/100\n",
      "74/74 [==============================] - 12s 164ms/step - loss: 0.0671 - accuracy: 0.9814 - val_loss: 1.0059 - val_accuracy: 0.7868 - lr: 3.0000e-04\n",
      "Epoch 26/100\n",
      "74/74 [==============================] - 12s 164ms/step - loss: 0.0638 - accuracy: 0.9805 - val_loss: 1.0488 - val_accuracy: 0.7771 - lr: 3.0000e-04\n",
      "Epoch 27/100\n",
      "74/74 [==============================] - 12s 164ms/step - loss: 0.0578 - accuracy: 0.9806 - val_loss: 1.0297 - val_accuracy: 0.7806 - lr: 3.0000e-04\n",
      "Epoch 28/100\n",
      "74/74 [==============================] - 12s 164ms/step - loss: 0.0525 - accuracy: 0.9839 - val_loss: 1.1356 - val_accuracy: 0.7748 - lr: 3.0000e-04\n",
      "Epoch 29/100\n",
      "74/74 [==============================] - 12s 164ms/step - loss: 0.0353 - accuracy: 0.9909 - val_loss: 1.0510 - val_accuracy: 0.7834 - lr: 9.0000e-05\n",
      "Epoch 30/100\n",
      "74/74 [==============================] - 12s 164ms/step - loss: 0.0262 - accuracy: 0.9925 - val_loss: 1.0468 - val_accuracy: 0.7845 - lr: 9.0000e-05\n",
      "Epoch 31/100\n",
      "74/74 [==============================] - 12s 164ms/step - loss: 0.0260 - accuracy: 0.9935 - val_loss: 1.0772 - val_accuracy: 0.7827 - lr: 9.0000e-05\n",
      "Epoch 32/100\n",
      "74/74 [==============================] - 12s 164ms/step - loss: 0.0198 - accuracy: 0.9962 - val_loss: 1.0759 - val_accuracy: 0.7824 - lr: 9.0000e-05\n",
      "Epoch 33/100\n",
      "74/74 [==============================] - 12s 164ms/step - loss: 0.0199 - accuracy: 0.9949 - val_loss: 1.0797 - val_accuracy: 0.7898 - lr: 9.0000e-05\n",
      "Epoch 34/100\n",
      "74/74 [==============================] - 12s 164ms/step - loss: 0.0187 - accuracy: 0.9951 - val_loss: 1.0851 - val_accuracy: 0.7896 - lr: 9.0000e-05\n",
      "Epoch 35/100\n",
      "74/74 [==============================] - 12s 164ms/step - loss: 0.0159 - accuracy: 0.9968 - val_loss: 1.1031 - val_accuracy: 0.7878 - lr: 2.7000e-05\n",
      "Epoch 36/100\n",
      "74/74 [==============================] - 12s 164ms/step - loss: 0.0166 - accuracy: 0.9963 - val_loss: 1.0951 - val_accuracy: 0.7901 - lr: 2.7000e-05\n",
      "Epoch 37/100\n",
      "74/74 [==============================] - 12s 164ms/step - loss: 0.0172 - accuracy: 0.9964 - val_loss: 1.0889 - val_accuracy: 0.7880 - lr: 2.7000e-05\n",
      "Epoch 38/100\n",
      "74/74 [==============================] - 12s 164ms/step - loss: 0.0179 - accuracy: 0.9954 - val_loss: 1.0871 - val_accuracy: 0.7888 - lr: 2.7000e-05\n",
      "Epoch 39/100\n",
      "74/74 [==============================] - 12s 164ms/step - loss: 0.0125 - accuracy: 0.9974 - val_loss: 1.0993 - val_accuracy: 0.7860 - lr: 2.7000e-05\n",
      "Epoch 40/100\n",
      "74/74 [==============================] - 12s 164ms/step - loss: 0.0148 - accuracy: 0.9970 - val_loss: 1.1100 - val_accuracy: 0.7888 - lr: 2.7000e-05\n",
      "Epoch 41/100\n",
      "74/74 [==============================] - 12s 164ms/step - loss: 0.0139 - accuracy: 0.9970 - val_loss: 1.1090 - val_accuracy: 0.7880 - lr: 1.0000e-05\n",
      "Epoch 42/100\n",
      "74/74 [==============================] - 12s 164ms/step - loss: 0.0123 - accuracy: 0.9977 - val_loss: 1.1099 - val_accuracy: 0.7880 - lr: 1.0000e-05\n",
      "Epoch 43/100\n",
      "74/74 [==============================] - 12s 164ms/step - loss: 0.0117 - accuracy: 0.9975 - val_loss: 1.1078 - val_accuracy: 0.7888 - lr: 1.0000e-05\n",
      "Epoch 44/100\n",
      "74/74 [==============================] - 12s 164ms/step - loss: 0.0140 - accuracy: 0.9965 - val_loss: 1.1099 - val_accuracy: 0.7878 - lr: 1.0000e-05\n",
      "Epoch 45/100\n",
      "74/74 [==============================] - 12s 164ms/step - loss: 0.0126 - accuracy: 0.9967 - val_loss: 1.1178 - val_accuracy: 0.7870 - lr: 1.0000e-05\n",
      "Epoch 46/100\n",
      "74/74 [==============================] - 12s 164ms/step - loss: 0.0121 - accuracy: 0.9975 - val_loss: 1.1160 - val_accuracy: 0.7890 - lr: 1.0000e-05\n",
      "Epoch 47/100\n",
      "74/74 [==============================] - 12s 164ms/step - loss: 0.0114 - accuracy: 0.9980 - val_loss: 1.1180 - val_accuracy: 0.7880 - lr: 1.0000e-05\n",
      "Epoch 48/100\n",
      "74/74 [==============================] - 12s 164ms/step - loss: 0.0125 - accuracy: 0.9966 - val_loss: 1.1196 - val_accuracy: 0.7873 - lr: 1.0000e-05\n"
     ]
    },
    {
     "data": {
      "image/png": "[encoded data removed]",
      "text/plain": [
       "<Figure size 432x288 with 1 Axes>"
      ]
     },
     "metadata": {
      "needs_background": "light"
     },
     "output_type": "display_data"
    },
    {
     "data": {
      "image/png": "[encoded data removed]",
      "text/plain": [
       "<Figure size 432x288 with 1 Axes>"
      ]
     },
     "metadata": {
      "needs_background": "light"
     },
     "output_type": "display_data"
    },
    {
     "data": {
      "image/png": "[encoded data removed]",
      "text/plain": [
       "<Figure size 432x288 with 1 Axes>"
      ]
     },
     "metadata": {
      "needs_background": "light"
     },
     "output_type": "display_data"
    }
   ],
   "source": [
    "ds_train, ds_test, attack_images, attack_labels = experiment.load_data('100%')\n",
    "model = helpers.initialize_base_model(ds_train,'',1, lr=1e-3)\n",
    "hist = helpers.train_model(ds_train, ds_test,model)\n",
    "helpers.plot_hist(hist)"
   ]
  },
  {
   "cell_type": "code",
   "execution_count": 3,
   "metadata": {},
   "outputs": [
    {
     "name": "stdout",
     "output_type": "stream",
     "text": [
      "WARNING:tensorflow:From /home/florian/dev/foolbox/foolbox/models/tensorflow.py:13: is_gpu_available (from tensorflow.python.framework.test_util) is deprecated and will be removed in a future version.\n",
      "Instructions for updating:\n",
      "Use `tf.config.list_physical_devices('GPU')` instead.\n"
     ]
    },
    {
     "name": "stderr",
     "output_type": "stream",
     "text": [
      "WARNING:tensorflow:From /home/florian/dev/foolbox/foolbox/models/tensorflow.py:13: is_gpu_available (from tensorflow.python.framework.test_util) is deprecated and will be removed in a future version.\n",
      "Instructions for updating:\n",
      "Use `tf.config.list_physical_devices('GPU')` instead.\n"
     ]
    }
   ],
   "source": [
    "fmodel = fb.models.TensorFlowModel(model, bounds=(0,1))\n",
    "attack = fb.attacks.L2CarliniWagnerAttack(\n",
    "    binary_search_steps = 9,\n",
    "    steps= 5000,\n",
    "    stepsize = .01,\n",
    "    confidence = 0,\n",
    "    initial_const = 1000000,\n",
    "    abort_early = True,\n",
    ")\n",
    "\n",
    "adversarials, _, batch_success = attack(\n",
    "        fmodel,\n",
    "        attack_images[:3],\n",
    "        attack_labels[:3],\n",
    "        epsilons=None\n",
    "    )\n",
    "l2_adv = adversarials[0]\n",
    "l2_pert = (attack_images[0]-l2_adv)"
   ]
  },
  {
   "cell_type": "code",
   "execution_count": 4,
   "metadata": {},
   "outputs": [],
   "source": [
    "fmodel = fb.models.TensorFlowModel(model, bounds=(0,1))\n",
    "init_attack = fb.attacks.DatasetAttack()\n",
    "BATCHSIZE = 64\n",
    "batches = [\n",
    "    (attack_images[:BATCHSIZE], attack_labels[:BATCHSIZE]), \n",
    "    (attack_images[BATCHSIZE:2*BATCHSIZE], attack_labels[BATCHSIZE:2*BATCHSIZE]),\n",
    "    (attack_images[2*BATCHSIZE:3*BATCHSIZE], attack_labels[2*BATCHSIZE:3*BATCHSIZE]), \n",
    "    (attack_images[3*BATCHSIZE:4*BATCHSIZE], attack_labels[3*BATCHSIZE:4*BATCHSIZE])\n",
    "]\n",
    "\n",
    "init_attack = fb.attacks.DatasetAttack()\n",
    "\n",
    "init_attack.feed(fmodel, batches[0][0])   # feed 1st batch of inputs\n",
    "init_attack.feed(fmodel, batches[1][0])   # feed 2nd batch of inputs\n",
    "init_attack.feed(fmodel, batches[2][0])   # feed 1st batch of inputs\n",
    "init_attack.feed(fmodel, batches[3][0])   # feed 2nd batch of inputs\n",
    "attack = fb.attacks.L0BrendelBethgeAttack(binary_search_steps=30, steps=500,lr_num_decay=30, lr=1e7, init_attack=init_attack)\n",
    "\n",
    "adversarials, _, batch_success = attack(\n",
    "    fmodel,\n",
    "    attack_images[:3],\n",
    "    criterion=fb.criteria.Misclassification(attack_labels[:3]),\n",
    "    epsilons=[None]\n",
    ")\n",
    "l0_adv = adversarials[0][0]\n",
    "l0_pert = (attack_images[0]-l0_adv)"
   ]
  },
  {
   "cell_type": "code",
   "execution_count": 5,
   "metadata": {},
   "outputs": [],
   "source": [
    "fmodel = fb.models.TensorFlowModel(model, bounds=(0,1))\n",
    "attack = fb.attacks.LinfProjectedGradientDescentAttack()\n",
    "res = [[],[],[],[],[],[]]\n",
    "strengths = [0.125,0.25,0.5,1,2,4]\n",
    "\n",
    "\n",
    "adversarials, _, success = attack(\n",
    "    fmodel,\n",
    "    attack_images[:3],\n",
    "    attack_labels[:3],\n",
    "    epsilons=8/255\n",
    ")\n",
    "l_inf_adv = adversarials[0]\n",
    "\n",
    "l_inf_pert = (attack_images[0]-l_inf_adv)"
   ]
  },
  {
   "cell_type": "code",
   "execution_count": null,
   "metadata": {},
   "outputs": [],
   "source": [
    "advs = {\n",
    "    'l0':{\n",
    "        'original':attack_images[0],\n",
    "        'adversarial':l0_adv,\n",
    "        'perturbation':l0_pert,\n",
    "        'adversarial_class':5,\n",
    "    },\n",
    "    'l2':{\n",
    "        'original':attack_images[0],\n",
    "        'adversarial':l2_adv,\n",
    "        'perturbation':l2_pert,\n",
    "        'adversarial_class':8\n",
    "    },\n",
    "    'linf':{\n",
    "        'original':attack_images[0],\n",
    "        'adversarial':l_inf_adv,\n",
    "        'perturbation':l_inf_pert,\n",
    "        'adversarial_class':8\n",
    "    },\n",
    "}\n",
    "\n",
    "import pickle\n",
    "filename = 'advs'\n",
    "outfile = open(filename,'wb')\n",
    "pickle.dump(advs,outfile)\n",
    "outfile.close()"
   ]
  }
 ],
 "metadata": {
  "kernelspec": {
   "display_name": "Python 3",
   "language": "python",
   "name": "python3"
  },
  "language_info": {
   "codemirror_mode": {
    "name": "ipython",
    "version": 3
   },
   "file_extension": ".py",
   "mimetype": "text/x-python",
   "name": "python",
   "nbconvert_exporter": "python",
   "pygments_lexer": "ipython3",
   "version": "3.8.3"
  }
 },
 "nbformat": 4,
 "nbformat_minor": 4
}
