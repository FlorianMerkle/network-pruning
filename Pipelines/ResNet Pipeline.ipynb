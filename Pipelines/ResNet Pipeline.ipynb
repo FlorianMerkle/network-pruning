{
 "cells": [
  {
   "cell_type": "code",
   "execution_count": 1,
   "metadata": {},
   "outputs": [],
   "source": [
    "ARCHITECTURE = 'ResNet'\n",
    "EXPERIMENT_TYPE = 'fixed-eps'\n",
    "ITERATIONS = 2"
   ]
  },
  {
   "cell_type": "code",
   "execution_count": 2,
   "metadata": {
    "scrolled": true
   },
   "outputs": [],
   "source": [
    "from __future__ import absolute_import, division, print_function, unicode_literals\n",
    "import tensorflow as tf\n",
    "\n",
    "#from helperfiles.helpers import *\n",
    "import helperfiles.experiment as experiment\n",
    "\n",
    "\n"
   ]
  },
  {
   "cell_type": "code",
   "execution_count": null,
   "metadata": {},
   "outputs": [
    {
     "name": "stderr",
     "output_type": "stream",
     "text": [
      "\r",
      "  0%|          | 0/2 [00:00<?, ?it/s]"
     ]
    },
    {
     "name": "stdout",
     "output_type": "stream",
     "text": [
      "no model to delete\n",
      "WARNING:tensorflow:Gradients do not exist for variables ['w:0', 'w:0', 'w:0'] when minimizing the loss.\n"
     ]
    },
    {
     "name": "stderr",
     "output_type": "stream",
     "text": [
      "WARNING:tensorflow:Gradients do not exist for variables ['w:0', 'w:0', 'w:0'] when minimizing the loss.\n"
     ]
    },
    {
     "name": "stdout",
     "output_type": "stream",
     "text": [
      "WARNING:tensorflow:Gradients do not exist for variables ['w:0', 'w:0', 'w:0'] when minimizing the loss.\n"
     ]
    },
    {
     "name": "stderr",
     "output_type": "stream",
     "text": [
      "WARNING:tensorflow:Gradients do not exist for variables ['w:0', 'w:0', 'w:0'] when minimizing the loss.\n"
     ]
    },
    {
     "name": "stdout",
     "output_type": "stream",
     "text": [
      "WARNING:tensorflow:Gradients do not exist for variables ['w:0', 'w:0', 'w:0'] when minimizing the loss.\n"
     ]
    },
    {
     "name": "stderr",
     "output_type": "stream",
     "text": [
      "WARNING:tensorflow:Gradients do not exist for variables ['w:0', 'w:0', 'w:0'] when minimizing the loss.\n"
     ]
    },
    {
     "name": "stdout",
     "output_type": "stream",
     "text": [
      "WARNING:tensorflow:Gradients do not exist for variables ['w:0', 'w:0', 'w:0'] when minimizing the loss.\n"
     ]
    },
    {
     "name": "stderr",
     "output_type": "stream",
     "text": [
      "WARNING:tensorflow:Gradients do not exist for variables ['w:0', 'w:0', 'w:0'] when minimizing the loss.\n"
     ]
    },
    {
     "name": "stdout",
     "output_type": "stream",
     "text": [
      "74/74 [==============================] - 12s 158ms/step - loss: 2.1210 - accuracy: 0.2979\n"
     ]
    },
    {
     "name": "stderr",
     "output_type": "stream",
     "text": [
      "\n",
      "0it [00:00, ?it/s]\u001b[A"
     ]
    },
    {
     "name": "stdout",
     "output_type": "stream",
     "text": [
      "current pruning ratio is0.0, current iteration is 0\n",
      "Epoch 1/150\n",
      "WARNING:tensorflow:Gradients do not exist for variables ['w:0', 'w:0', 'w:0'] when minimizing the loss.\n"
     ]
    },
    {
     "name": "stderr",
     "output_type": "stream",
     "text": [
      "WARNING:tensorflow:Gradients do not exist for variables ['w:0', 'w:0', 'w:0'] when minimizing the loss.\n"
     ]
    },
    {
     "name": "stdout",
     "output_type": "stream",
     "text": [
      "WARNING:tensorflow:Gradients do not exist for variables ['w:0', 'w:0', 'w:0'] when minimizing the loss.\n"
     ]
    },
    {
     "name": "stderr",
     "output_type": "stream",
     "text": [
      "WARNING:tensorflow:Gradients do not exist for variables ['w:0', 'w:0', 'w:0'] when minimizing the loss.\n"
     ]
    },
    {
     "name": "stdout",
     "output_type": "stream",
     "text": [
      "WARNING:tensorflow:Gradients do not exist for variables ['w:0', 'w:0', 'w:0'] when minimizing the loss.\n"
     ]
    },
    {
     "name": "stderr",
     "output_type": "stream",
     "text": [
      "WARNING:tensorflow:Gradients do not exist for variables ['w:0', 'w:0', 'w:0'] when minimizing the loss.\n"
     ]
    },
    {
     "name": "stdout",
     "output_type": "stream",
     "text": [
      "WARNING:tensorflow:Gradients do not exist for variables ['w:0', 'w:0', 'w:0'] when minimizing the loss.\n"
     ]
    },
    {
     "name": "stderr",
     "output_type": "stream",
     "text": [
      "WARNING:tensorflow:Gradients do not exist for variables ['w:0', 'w:0', 'w:0'] when minimizing the loss.\n"
     ]
    },
    {
     "name": "stdout",
     "output_type": "stream",
     "text": [
      "74/74 [==============================] - 17s 223ms/step - loss: 1.7038 - accuracy: 0.4294 - val_loss: 2.5375 - val_accuracy: 0.1355 - lr: 0.0010\n",
      "Epoch 2/150\n",
      "74/74 [==============================] - 12s 164ms/step - loss: 1.4551 - accuracy: 0.5128 - val_loss: 2.3220 - val_accuracy: 0.1371 - lr: 0.0010\n",
      "Epoch 3/150\n",
      "74/74 [==============================] - 12s 164ms/step - loss: 1.2726 - accuracy: 0.5823 - val_loss: 2.3603 - val_accuracy: 0.2652 - lr: 0.0010\n",
      "Epoch 4/150\n",
      "74/74 [==============================] - 12s 164ms/step - loss: 1.1422 - accuracy: 0.6223 - val_loss: 1.6544 - val_accuracy: 0.4395 - lr: 0.0010\n",
      "Epoch 5/150\n",
      "74/74 [==============================] - 12s 165ms/step - loss: 1.0596 - accuracy: 0.6502 - val_loss: 1.6346 - val_accuracy: 0.4731 - lr: 0.0010\n",
      "Epoch 6/150\n",
      "74/74 [==============================] - 13s 173ms/step - loss: 0.9595 - accuracy: 0.6866 - val_loss: 2.5994 - val_accuracy: 0.3271 - lr: 0.0010\n",
      "Epoch 7/150\n",
      "74/74 [==============================] - 13s 170ms/step - loss: 0.9066 - accuracy: 0.7009 - val_loss: 1.8056 - val_accuracy: 0.4808 - lr: 0.0010\n",
      "Epoch 8/150\n",
      "74/74 [==============================] - 13s 170ms/step - loss: 0.8608 - accuracy: 0.7173 - val_loss: 1.1833 - val_accuracy: 0.6341 - lr: 0.0010\n",
      "Epoch 9/150\n",
      "74/74 [==============================] - 13s 170ms/step - loss: 0.7649 - accuracy: 0.7472 - val_loss: 1.4234 - val_accuracy: 0.5625 - lr: 0.0010\n",
      "Epoch 10/150\n",
      "74/74 [==============================] - 13s 175ms/step - loss: 0.8489 - accuracy: 0.7238 - val_loss: 3.1429 - val_accuracy: 0.1376 - lr: 0.0010\n",
      "Epoch 11/150\n",
      "74/74 [==============================] - 13s 171ms/step - loss: 0.8918 - accuracy: 0.7005 - val_loss: 2.0135 - val_accuracy: 0.3870 - lr: 0.0010\n",
      "Epoch 12/150\n",
      "74/74 [==============================] - 13s 171ms/step - loss: 0.7987 - accuracy: 0.7359 - val_loss: 1.3375 - val_accuracy: 0.6020 - lr: 0.0010\n",
      "Epoch 13/150\n",
      "74/74 [==============================] - 13s 171ms/step - loss: 0.7787 - accuracy: 0.7430 - val_loss: 2.9093 - val_accuracy: 0.2219 - lr: 0.0010\n",
      "Epoch 14/150\n",
      "74/74 [==============================] - 13s 171ms/step - loss: 0.7761 - accuracy: 0.7466 - val_loss: 1.1464 - val_accuracy: 0.6308 - lr: 0.0010\n",
      "Epoch 15/150\n",
      "74/74 [==============================] - 13s 175ms/step - loss: 0.8263 - accuracy: 0.7267 - val_loss: 4.4675 - val_accuracy: 0.2048 - lr: 0.0010\n",
      "Epoch 16/150\n",
      "74/74 [==============================] - 13s 171ms/step - loss: 0.7609 - accuracy: 0.7496 - val_loss: 1.8170 - val_accuracy: 0.5134 - lr: 0.0010\n",
      "Epoch 17/150\n",
      "74/74 [==============================] - 13s 176ms/step - loss: 0.6880 - accuracy: 0.7728 - val_loss: 1.2955 - val_accuracy: 0.6341 - lr: 0.0010\n",
      "Epoch 18/150\n",
      "74/74 [==============================] - 12s 165ms/step - loss: 0.6640 - accuracy: 0.7829 - val_loss: 2.9497 - val_accuracy: 0.2395 - lr: 0.0010\n",
      "Epoch 19/150\n",
      "74/74 [==============================] - 12s 165ms/step - loss: 0.7224 - accuracy: 0.7610 - val_loss: 3.0570 - val_accuracy: 0.2721 - lr: 0.0010\n",
      "Epoch 20/150\n",
      "74/74 [==============================] - 12s 164ms/step - loss: 0.6916 - accuracy: 0.7703 - val_loss: 1.5198 - val_accuracy: 0.5608 - lr: 0.0010\n",
      "Epoch 21/150\n",
      "74/74 [==============================] - 12s 165ms/step - loss: 0.6920 - accuracy: 0.7718 - val_loss: 2.8068 - val_accuracy: 0.3353 - lr: 0.0010\n",
      "Epoch 22/150\n",
      "74/74 [==============================] - 12s 164ms/step - loss: 0.6304 - accuracy: 0.7931 - val_loss: 1.4200 - val_accuracy: 0.6143 - lr: 0.0010\n",
      "Epoch 23/150\n",
      "74/74 [==============================] - 12s 165ms/step - loss: 0.5562 - accuracy: 0.8163 - val_loss: 3.7998 - val_accuracy: 0.2222 - lr: 0.0010\n",
      "Epoch 24/150\n",
      "74/74 [==============================] - 12s 164ms/step - loss: 0.6414 - accuracy: 0.7845 - val_loss: 2.9754 - val_accuracy: 0.3419 - lr: 0.0010\n",
      "Epoch 25/150\n",
      "74/74 [==============================] - 12s 165ms/step - loss: 0.5045 - accuracy: 0.8326 - val_loss: 1.0777 - val_accuracy: 0.6925 - lr: 0.0010\n",
      "Epoch 26/150\n",
      "74/74 [==============================] - 12s 165ms/step - loss: 0.4611 - accuracy: 0.8468 - val_loss: 1.2408 - val_accuracy: 0.6380 - lr: 0.0010\n",
      "Epoch 27/150\n",
      "74/74 [==============================] - 12s 165ms/step - loss: 0.4508 - accuracy: 0.8502 - val_loss: 1.1892 - val_accuracy: 0.6854 - lr: 0.0010\n",
      "Epoch 28/150\n",
      "74/74 [==============================] - 12s 164ms/step - loss: 0.4397 - accuracy: 0.8528 - val_loss: 1.3542 - val_accuracy: 0.6324 - lr: 0.0010\n",
      "Epoch 29/150\n",
      "74/74 [==============================] - 12s 165ms/step - loss: 0.4089 - accuracy: 0.8629 - val_loss: 1.3242 - val_accuracy: 0.6787 - lr: 0.0010\n",
      "Epoch 30/150\n",
      "74/74 [==============================] - 12s 165ms/step - loss: 0.4043 - accuracy: 0.8642 - val_loss: 1.4204 - val_accuracy: 0.5969 - lr: 0.0010\n",
      "Epoch 31/150\n",
      "74/74 [==============================] - 12s 165ms/step - loss: 0.4134 - accuracy: 0.8611 - val_loss: 0.9071 - val_accuracy: 0.7521 - lr: 0.0010\n",
      "Epoch 32/150\n",
      "74/74 [==============================] - 13s 169ms/step - loss: 0.3604 - accuracy: 0.8787 - val_loss: 1.3393 - val_accuracy: 0.6581 - lr: 0.0010\n",
      "Epoch 33/150\n",
      "74/74 [==============================] - 13s 170ms/step - loss: 0.3850 - accuracy: 0.8715 - val_loss: 0.8893 - val_accuracy: 0.7608 - lr: 0.0010\n",
      "Epoch 34/150\n",
      "74/74 [==============================] - 12s 168ms/step - loss: 0.3140 - accuracy: 0.8937 - val_loss: 1.1673 - val_accuracy: 0.7190 - lr: 0.0010\n",
      "Epoch 35/150\n",
      "74/74 [==============================] - 13s 170ms/step - loss: 0.2692 - accuracy: 0.9086 - val_loss: 1.0219 - val_accuracy: 0.7457 - lr: 0.0010\n",
      "Epoch 36/150\n",
      "74/74 [==============================] - 13s 171ms/step - loss: 0.2534 - accuracy: 0.9176 - val_loss: 0.8892 - val_accuracy: 0.7875 - lr: 0.0010\n",
      "Epoch 37/150\n",
      "74/74 [==============================] - 13s 170ms/step - loss: 0.2359 - accuracy: 0.9190 - val_loss: 1.2709 - val_accuracy: 0.7269 - lr: 0.0010\n",
      "Epoch 38/150\n",
      "74/74 [==============================] - 13s 170ms/step - loss: 0.2266 - accuracy: 0.9228 - val_loss: 1.1280 - val_accuracy: 0.7391 - lr: 0.0010\n",
      "Epoch 39/150\n",
      "74/74 [==============================] - 13s 171ms/step - loss: 0.2026 - accuracy: 0.9308 - val_loss: 0.9601 - val_accuracy: 0.7727 - lr: 0.0010\n",
      "Epoch 40/150\n",
      "74/74 [==============================] - 13s 170ms/step - loss: 0.2045 - accuracy: 0.9280 - val_loss: 1.0580 - val_accuracy: 0.7529 - lr: 0.0010\n",
      "Epoch 41/150\n",
      "74/74 [==============================] - 13s 170ms/step - loss: 0.1770 - accuracy: 0.9412 - val_loss: 1.0695 - val_accuracy: 0.7641 - lr: 0.0010\n",
      "Epoch 42/150\n",
      "74/74 [==============================] - 13s 170ms/step - loss: 0.2424 - accuracy: 0.9195 - val_loss: 1.2813 - val_accuracy: 0.7159 - lr: 0.0010\n",
      "Epoch 43/150\n",
      "74/74 [==============================] - 13s 170ms/step - loss: 0.2034 - accuracy: 0.9338 - val_loss: 1.6962 - val_accuracy: 0.6668 - lr: 0.0010\n",
      "Epoch 44/150\n",
      "74/74 [==============================] - 13s 170ms/step - loss: 0.2051 - accuracy: 0.9278 - val_loss: 1.4167 - val_accuracy: 0.7098 - lr: 0.0010\n",
      "Epoch 45/150\n",
      "74/74 [==============================] - 13s 171ms/step - loss: 0.1599 - accuracy: 0.9439 - val_loss: 1.0397 - val_accuracy: 0.7809 - lr: 0.0010\n",
      "Epoch 46/150\n",
      "74/74 [==============================] - 13s 171ms/step - loss: 0.1513 - accuracy: 0.9499 - val_loss: 0.9844 - val_accuracy: 0.7865 - lr: 0.0010\n",
      "Epoch 47/150\n",
      "74/74 [==============================] - 13s 170ms/step - loss: 0.1329 - accuracy: 0.9532 - val_loss: 2.8251 - val_accuracy: 0.4999 - lr: 0.0010\n",
      "Epoch 48/150\n",
      "74/74 [==============================] - 13s 171ms/step - loss: 0.1291 - accuracy: 0.9558 - val_loss: 1.3249 - val_accuracy: 0.7577 - lr: 0.0010\n",
      "Epoch 49/150\n",
      "74/74 [==============================] - 13s 170ms/step - loss: 0.0809 - accuracy: 0.9722 - val_loss: 0.9117 - val_accuracy: 0.8163 - lr: 3.0000e-04\n",
      "Epoch 50/150\n",
      "74/74 [==============================] - 13s 170ms/step - loss: 0.0537 - accuracy: 0.9832 - val_loss: 0.9430 - val_accuracy: 0.8097 - lr: 3.0000e-04\n",
      "Epoch 51/150\n",
      "74/74 [==============================] - 13s 171ms/step - loss: 0.0399 - accuracy: 0.9886 - val_loss: 0.9100 - val_accuracy: 0.8214 - lr: 3.0000e-04\n"
     ]
    },
    {
     "data": {
      "image/png": "[encoded data removed]",
      "text/plain": [
       "<Figure size 432x288 with 1 Axes>"
      ]
     },
     "metadata": {
      "needs_background": "light"
     },
     "output_type": "display_data"
    },
    {
     "data": {
      "image/png": "[encoded data removed]",
      "text/plain": [
       "<Figure size 432x288 with 1 Axes>"
      ]
     },
     "metadata": {
      "needs_background": "light"
     },
     "output_type": "display_data"
    },
    {
     "data": {
      "image/png": "[encoded data removed]",
      "text/plain": [
       "<Figure size 432x288 with 1 Axes>"
      ]
     },
     "metadata": {
      "needs_background": "light"
     },
     "output_type": "display_data"
    },
    {
     "name": "stdout",
     "output_type": "stream",
     "text": [
      "starting bb0 11:12:45\n",
      "WARNING:tensorflow:From /home/florian/dev/foolbox/foolbox/models/tensorflow.py:13: is_gpu_available (from tensorflow.python.framework.test_util) is deprecated and will be removed in a future version.\n",
      "Instructions for updating:\n",
      "Use `tf.config.list_physical_devices('GPU')` instead.\n"
     ]
    },
    {
     "name": "stderr",
     "output_type": "stream",
     "text": [
      "WARNING:tensorflow:From /home/florian/dev/foolbox/foolbox/models/tensorflow.py:13: is_gpu_available (from tensorflow.python.framework.test_util) is deprecated and will be removed in a future version.\n",
      "Instructions for updating:\n",
      "Use `tf.config.list_physical_devices('GPU')` instead.\n"
     ]
    },
    {
     "name": "stdout",
     "output_type": "stream",
     "text": [
      "bb0 batch 0 11:12:45\n",
      "bb0 batch 1 11:19:12\n",
      "bb0 batch 2 11:25:08\n",
      "bb0 batch 3 11:31:07\n",
      "bb0 batch 4 11:37:07\n",
      "bb0 batch 5 11:43:07\n"
     ]
    }
   ],
   "source": [
    "experiment.run(\n",
    "    \n",
    "    structure='unstructured', \n",
    "    method='magnitude', \n",
    "    scope='local', \n",
    "    iterations=ITERATIONS,\n",
    "    architecture = ARCHITECTURE,\n",
    "    experiment_type = EXPERIMENT_TYPE,\n",
    ")"
   ]
  },
  {
   "cell_type": "code",
   "execution_count": null,
   "metadata": {},
   "outputs": [],
   "source": []
  },
  {
   "cell_type": "code",
   "execution_count": null,
   "metadata": {},
   "outputs": [],
   "source": [
    "gpus = tf.config.experimental.list_physical_devices('GPU')\n",
    "if gpus:\n",
    "    # Restrict TensorFlow to only allocate 1GB * 2 of memory on the first GPU\n",
    "    try:\n",
    "        tf.config.experimental.set_virtual_device_configuration(\n",
    "            gpus[0],\n",
    "            [tf.config.experimental.VirtualDeviceConfiguration(memory_limit=1024 * 9.5)])\n",
    "        logical_gpus = tf.config.experimental.list_logical_devices('GPU')\n",
    "        print(len(gpus), \"Physical GPUs,\", len(logical_gpus), \"Logical GPUs\")\n",
    "    except RuntimeError as e:\n",
    "        # Virtual devices must be set before GPUs have been initialized\n",
    "        print(e)\n"
   ]
  },
  {
   "cell_type": "code",
   "execution_count": null,
   "metadata": {},
   "outputs": [],
   "source": [
    "\n",
    "tf.get_logger().setLevel('ERROR')"
   ]
  },
  {
   "cell_type": "code",
   "execution_count": null,
   "metadata": {},
   "outputs": [],
   "source": [
    "run_experiment(\n",
    "    structure='unstructured', \n",
    "    method='random', \n",
    "    scope='local', \n",
    "    iterations=ITERATIONS\n",
    ")"
   ]
  },
  {
   "cell_type": "code",
   "execution_count": null,
   "metadata": {},
   "outputs": [],
   "source": [
    "run_experiment(\n",
    "    structure='unstructured', \n",
    "    method='magnitude', \n",
    "    scope='local', \n",
    "    iterations=ITERATIONS\n",
    ")"
   ]
  },
  {
   "cell_type": "code",
   "execution_count": null,
   "metadata": {},
   "outputs": [],
   "source": [
    "run_experiment(\n",
    "    structure='unstructured', \n",
    "    method='magnitude', \n",
    "    scope='global', \n",
    "    iterations=ITERATIONS\n",
    ")"
   ]
  },
  {
   "cell_type": "code",
   "execution_count": null,
   "metadata": {},
   "outputs": [],
   "source": [
    "run_experiment(\n",
    "    structure='structured', \n",
    "    method='random', \n",
    "    scope='local', \n",
    "    iterations=ITERATIONS\n",
    ")"
   ]
  },
  {
   "cell_type": "code",
   "execution_count": null,
   "metadata": {},
   "outputs": [],
   "source": [
    "run_experiment(\n",
    "    structure='structured', \n",
    "    method='magnitude', \n",
    "    scope='local', \n",
    "    iterations=ITERATIONS\n",
    ")"
   ]
  },
  {
   "cell_type": "code",
   "execution_count": null,
   "metadata": {},
   "outputs": [],
   "source": []
  },
  {
   "cell_type": "code",
   "execution_count": null,
   "metadata": {},
   "outputs": [],
   "source": [
    "run_experiment(\n",
    "    structure='structured', \n",
    "    method='magnitude', \n",
    "    scope='global', \n",
    "    iterations=ITERATIONS\n",
    ")"
   ]
  },
  {
   "cell_type": "code",
   "execution_count": null,
   "metadata": {},
   "outputs": [],
   "source": []
  },
  {
   "cell_type": "code",
   "execution_count": null,
   "metadata": {},
   "outputs": [],
   "source": []
  },
  {
   "cell_type": "code",
   "execution_count": null,
   "metadata": {},
   "outputs": [],
   "source": []
  },
  {
   "cell_type": "code",
   "execution_count": null,
   "metadata": {
    "scrolled": true
   },
   "outputs": [],
   "source": []
  },
  {
   "cell_type": "code",
   "execution_count": null,
   "metadata": {},
   "outputs": [],
   "source": []
  },
  {
   "cell_type": "code",
   "execution_count": null,
   "metadata": {},
   "outputs": [],
   "source": []
  },
  {
   "cell_type": "markdown",
   "metadata": {},
   "source": [
    "# newer"
   ]
  },
  {
   "cell_type": "code",
   "execution_count": null,
   "metadata": {
    "scrolled": true
   },
   "outputs": [],
   "source": [
    "model = initialize_base_model('',1, lr=1e-3)\n",
    "hist = train_model(model)\n",
    "plot_hist(hist)\n",
    "\n",
    "fmodel = fb.models.TensorFlowModel(model, bounds=(0,1))\n",
    "attack = fb.attacks.L2CarliniWagnerAttack(\n",
    "    binary_search_steps = 9,\n",
    "    steps= 5000,\n",
    "    stepsize = .01,\n",
    "    confidence = 0,\n",
    "    initial_const = 1000000,\n",
    "    abort_early = True,\n",
    ")\n",
    "\n",
    "adversarials, _, batch_success = attack(\n",
    "        fmodel,\n",
    "        attack_images[:3],\n",
    "        attack_labels[:3],\n",
    "        epsilons=None\n",
    "    )\n",
    "l2_adv = adversarials[0]\n",
    "l2_pert = (attack_images[0]-l2_adv)\n",
    "\n",
    "fmodel = fb.models.TensorFlowModel(model, bounds=(0,1))\n",
    "init_attack = fb.attacks.DatasetAttack()\n",
    "BATCHSIZE = 64\n",
    "batches = [\n",
    "    (attack_images[:BATCHSIZE], attack_labels[:BATCHSIZE]), \n",
    "    (attack_images[BATCHSIZE:2*BATCHSIZE], attack_labels[BATCHSIZE:2*BATCHSIZE]),\n",
    "    (attack_images[2*BATCHSIZE:3*BATCHSIZE], attack_labels[2*BATCHSIZE:3*BATCHSIZE]), \n",
    "    (attack_images[3*BATCHSIZE:4*BATCHSIZE], attack_labels[3*BATCHSIZE:4*BATCHSIZE])\n",
    "]\n",
    "\n",
    "init_attack = fb.attacks.DatasetAttack()\n",
    "\n",
    "init_attack.feed(fmodel, batches[0][0])   # feed 1st batch of inputs\n",
    "init_attack.feed(fmodel, batches[1][0])   # feed 2nd batch of inputs\n",
    "init_attack.feed(fmodel, batches[2][0])   # feed 1st batch of inputs\n",
    "init_attack.feed(fmodel, batches[3][0])   # feed 2nd batch of inputs\n",
    "attack = fb.attacks.L0BrendelBethgeAttack(binary_search_steps=30, steps=500,lr_num_decay=30, lr=1e7, init_attack=init_attack)\n",
    "\n",
    "adversarials, _, batch_success = attack(\n",
    "    fmodel,\n",
    "    attack_images[:3],\n",
    "    criterion=fb.criteria.Misclassification(attack_labels[:3]),\n",
    "    epsilons=[None]\n",
    ")\n",
    "l0_adv = adversarials[0][0]\n",
    "l0_pert = (attack_images[0]-l0_adv)\n",
    "\n",
    "\n",
    "\n",
    "fmodel = fb.models.TensorFlowModel(model, bounds=(0,1))\n",
    "attack = fb.attacks.LinfProjectedGradientDescentAttack()\n",
    "res = [[],[],[],[],[],[]]\n",
    "strengths = [0.125,0.25,0.5,1,2,4]\n",
    "\n",
    "\n",
    "adversarials, _, success = attack(\n",
    "    fmodel,\n",
    "    attack_images[:3],\n",
    "    attack_labels[:3],\n",
    "    epsilons=8/255\n",
    ")\n",
    "l_inf_adv = adversarials[0]\n",
    "\n",
    "l_inf_pert = (attack_images[0]-l_inf_adv)\n",
    "\n",
    "advs = {\n",
    "    'l0':{\n",
    "        'original':attack_images[0],\n",
    "        'adversarial':l0_adv,\n",
    "        'perturbation':l0_pert,\n",
    "        'adversarial_class':5,\n",
    "    },\n",
    "    'l2':{\n",
    "        'original':attack_images[0],\n",
    "        'adversarial':l2_adv,\n",
    "        'perturbation':l2_pert,\n",
    "        'adversarial_class':8\n",
    "    },\n",
    "    'linf':{\n",
    "        'original':attack_images[0],\n",
    "        'adversarial':l_inf_adv,\n",
    "        'perturbation':l_inf_pert,\n",
    "        'adversarial_class':8\n",
    "    },\n",
    "}\n",
    "\n",
    "import pickle\n",
    "filename = 'advs'\n",
    "outfile = open(filename,'wb')\n",
    "pickle.dump(advs,outfile)\n",
    "outfile.close()"
   ]
  },
  {
   "cell_type": "code",
   "execution_count": null,
   "metadata": {},
   "outputs": [],
   "source": []
  }
 ],
 "metadata": {
  "kernelspec": {
   "display_name": "Python 3",
   "language": "python",
   "name": "python3"
  },
  "language_info": {
   "codemirror_mode": {
    "name": "ipython",
    "version": 3
   },
   "file_extension": ".py",
   "mimetype": "text/x-python",
   "name": "python",
   "nbconvert_exporter": "python",
   "pygments_lexer": "ipython3",
   "version": "3.8.3"
  }
 },
 "nbformat": 4,
 "nbformat_minor": 2
}
