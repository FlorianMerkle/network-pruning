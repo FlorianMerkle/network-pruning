{
 "cells": [
  {
   "cell_type": "code",
   "execution_count": 1,
   "metadata": {},
   "outputs": [],
   "source": [
    "ARCHITECTURE = 'ResNet'\n",
    "EXPERIMENT_TYPE = 'fixed-eps'\n",
    "ITERATIONS = 10"
   ]
  },
  {
   "cell_type": "code",
   "execution_count": 2,
   "metadata": {
    "scrolled": true
   },
   "outputs": [],
   "source": [
    "from __future__ import absolute_import, division, print_function, unicode_literals\n",
    "import tensorflow as tf\n",
    "\n",
    "#from helperfiles.helpers import *\n",
    "import helperfiles.experiment as experiment\n",
    "\n",
    "\n"
   ]
  },
  {
   "cell_type": "code",
   "execution_count": null,
   "metadata": {},
   "outputs": [],
   "source": []
  },
  {
   "cell_type": "code",
   "execution_count": null,
   "metadata": {},
   "outputs": [],
   "source": [
    "gpus = tf.config.experimental.list_physical_devices('GPU')\n",
    "if gpus:\n",
    "    # Restrict TensorFlow to only allocate 1GB * 2 of memory on the first GPU\n",
    "    try:\n",
    "        tf.config.experimental.set_virtual_device_configuration(\n",
    "            gpus[0],\n",
    "            [tf.config.experimental.VirtualDeviceConfiguration(memory_limit=1024 * 9.5)])\n",
    "        logical_gpus = tf.config.experimental.list_logical_devices('GPU')\n",
    "        print(len(gpus), \"Physical GPUs,\", len(logical_gpus), \"Logical GPUs\")\n",
    "    except RuntimeError as e:\n",
    "        # Virtual devices must be set before GPUs have been initialized\n",
    "        print(e)\n"
   ]
  },
  {
   "cell_type": "code",
   "execution_count": null,
   "metadata": {},
   "outputs": [],
   "source": [
    "\n",
    "tf.get_logger().setLevel('ERROR')"
   ]
  },
  {
   "cell_type": "code",
   "execution_count": null,
   "metadata": {},
   "outputs": [],
   "source": [
    "experiment.run(\n",
    "    structure='unstructured', \n",
    "    method='random', \n",
    "    scope='local', \n",
    "    iterations=ITERATIONS,\n",
    "    architecture = ARCHITECTURE,\n",
    "    experiment_type = EXPERIMENT_TYPE,\n",
    ")"
   ]
  },
  {
   "cell_type": "code",
   "execution_count": null,
   "metadata": {},
   "outputs": [],
   "source": [
    "experiment.run(\n",
    "    \n",
    "    structure='unstructured', \n",
    "    method='magnitude', \n",
    "    scope='local', \n",
    "    iterations=ITERATIONS,\n",
    "    architecture = ARCHITECTURE,\n",
    "    experiment_type = EXPERIMENT_TYPE,\n",
    ")"
   ]
  },
  {
   "cell_type": "code",
   "execution_count": null,
   "metadata": {},
   "outputs": [],
   "source": [
    "experiment.run(\n",
    "    structure='unstructured', \n",
    "    method='magnitude', \n",
    "    scope='global', \n",
    "    iterations=ITERATIONS,\n",
    "    architecture = ARCHITECTURE,\n",
    "    experiment_type = EXPERIMENT_TYPE,\n",
    ")"
   ]
  },
  {
   "cell_type": "code",
   "execution_count": null,
   "metadata": {},
   "outputs": [],
   "source": [
    "experiment.run(\n",
    "    structure='structured',\n",
    "    method='random', \n",
    "    scope='local', \n",
    "    structure_to_prune='kernel',\n",
    "    prune_dense_layers=False,\n",
    "    iterations=ITERATIONS,\n",
    "    architecture = ARCHITECTURE,\n",
    "    experiment_type = EXPERIMENT_TYPE,\n",
    ")"
   ]
  },
  {
   "cell_type": "code",
   "execution_count": null,
   "metadata": {
    "scrolled": false
   },
   "outputs": [],
   "source": [
    "experiment.run(\n",
    "    structure='structured',\n",
    "    method='random', \n",
    "    scope='local', \n",
    "    structure_to_prune='filter',\n",
    "    prune_dense_layers=False,\n",
    "    iterations=ITERATIONS,\n",
    "    architecture = ARCHITECTURE,\n",
    "    experiment_type = EXPERIMENT_TYPE,\n",
    ")"
   ]
  },
  {
   "cell_type": "code",
   "execution_count": null,
   "metadata": {},
   "outputs": [
    {
     "name": "stderr",
     "output_type": "stream",
     "text": [
      "\r",
      "  0%|          | 0/10 [00:00<?, ?it/s]"
     ]
    },
    {
     "name": "stdout",
     "output_type": "stream",
     "text": [
      "no model to delete\n",
      "WARNING:tensorflow:Gradients do not exist for variables ['w:0', 'w:0', 'w:0'] when minimizing the loss.\n"
     ]
    },
    {
     "name": "stderr",
     "output_type": "stream",
     "text": [
      "WARNING:tensorflow:Gradients do not exist for variables ['w:0', 'w:0', 'w:0'] when minimizing the loss.\n"
     ]
    },
    {
     "name": "stdout",
     "output_type": "stream",
     "text": [
      "WARNING:tensorflow:Gradients do not exist for variables ['w:0', 'w:0', 'w:0'] when minimizing the loss.\n"
     ]
    },
    {
     "name": "stderr",
     "output_type": "stream",
     "text": [
      "WARNING:tensorflow:Gradients do not exist for variables ['w:0', 'w:0', 'w:0'] when minimizing the loss.\n"
     ]
    },
    {
     "name": "stdout",
     "output_type": "stream",
     "text": [
      "WARNING:tensorflow:Gradients do not exist for variables ['w:0', 'w:0', 'w:0'] when minimizing the loss.\n"
     ]
    },
    {
     "name": "stderr",
     "output_type": "stream",
     "text": [
      "WARNING:tensorflow:Gradients do not exist for variables ['w:0', 'w:0', 'w:0'] when minimizing the loss.\n"
     ]
    },
    {
     "name": "stdout",
     "output_type": "stream",
     "text": [
      "WARNING:tensorflow:Gradients do not exist for variables ['w:0', 'w:0', 'w:0'] when minimizing the loss.\n"
     ]
    },
    {
     "name": "stderr",
     "output_type": "stream",
     "text": [
      "WARNING:tensorflow:Gradients do not exist for variables ['w:0', 'w:0', 'w:0'] when minimizing the loss.\n"
     ]
    },
    {
     "name": "stdout",
     "output_type": "stream",
     "text": [
      "74/74 [==============================] - 12s 158ms/step - loss: 2.1931 - accuracy: 0.2859\n"
     ]
    },
    {
     "name": "stderr",
     "output_type": "stream",
     "text": [
      "\n",
      "0it [00:00, ?it/s]\u001b[A"
     ]
    },
    {
     "name": "stdout",
     "output_type": "stream",
     "text": [
      "current pruning ratio is0.0, current iteration is 0\n",
      "Epoch 1/150\n",
      "WARNING:tensorflow:Gradients do not exist for variables ['w:0', 'w:0', 'w:0'] when minimizing the loss.\n"
     ]
    },
    {
     "name": "stderr",
     "output_type": "stream",
     "text": [
      "WARNING:tensorflow:Gradients do not exist for variables ['w:0', 'w:0', 'w:0'] when minimizing the loss.\n"
     ]
    },
    {
     "name": "stdout",
     "output_type": "stream",
     "text": [
      "WARNING:tensorflow:Gradients do not exist for variables ['w:0', 'w:0', 'w:0'] when minimizing the loss.\n"
     ]
    },
    {
     "name": "stderr",
     "output_type": "stream",
     "text": [
      "WARNING:tensorflow:Gradients do not exist for variables ['w:0', 'w:0', 'w:0'] when minimizing the loss.\n"
     ]
    },
    {
     "name": "stdout",
     "output_type": "stream",
     "text": [
      "WARNING:tensorflow:Gradients do not exist for variables ['w:0', 'w:0', 'w:0'] when minimizing the loss.\n"
     ]
    },
    {
     "name": "stderr",
     "output_type": "stream",
     "text": [
      "WARNING:tensorflow:Gradients do not exist for variables ['w:0', 'w:0', 'w:0'] when minimizing the loss.\n"
     ]
    },
    {
     "name": "stdout",
     "output_type": "stream",
     "text": [
      "WARNING:tensorflow:Gradients do not exist for variables ['w:0', 'w:0', 'w:0'] when minimizing the loss.\n"
     ]
    },
    {
     "name": "stderr",
     "output_type": "stream",
     "text": [
      "WARNING:tensorflow:Gradients do not exist for variables ['w:0', 'w:0', 'w:0'] when minimizing the loss.\n"
     ]
    },
    {
     "name": "stdout",
     "output_type": "stream",
     "text": [
      "74/74 [==============================] - 16s 222ms/step - loss: 1.6987 - accuracy: 0.4308 - val_loss: 2.3491 - val_accuracy: 0.1144 - lr: 0.0010\n",
      "Epoch 2/150\n",
      "74/74 [==============================] - 12s 168ms/step - loss: 1.4549 - accuracy: 0.5152 - val_loss: 2.8868 - val_accuracy: 0.1246 - lr: 0.0010\n",
      "Epoch 3/150\n",
      "74/74 [==============================] - 12s 163ms/step - loss: 1.2697 - accuracy: 0.5871 - val_loss: 2.0962 - val_accuracy: 0.2461 - lr: 0.0010\n",
      "Epoch 4/150\n",
      "74/74 [==============================] - 12s 163ms/step - loss: 1.2500 - accuracy: 0.5865 - val_loss: 2.3586 - val_accuracy: 0.2115 - lr: 0.0010\n",
      "Epoch 5/150\n",
      "74/74 [==============================] - 12s 168ms/step - loss: 1.2670 - accuracy: 0.5833 - val_loss: 4.4611 - val_accuracy: 0.1819 - lr: 0.0010\n",
      "Epoch 6/150\n",
      "74/74 [==============================] - 12s 163ms/step - loss: 1.1192 - accuracy: 0.6273 - val_loss: 2.2389 - val_accuracy: 0.3254 - lr: 0.0010\n",
      "Epoch 7/150\n",
      "74/74 [==============================] - 12s 163ms/step - loss: 1.1305 - accuracy: 0.6307 - val_loss: 2.9197 - val_accuracy: 0.2321 - lr: 0.0010\n",
      "Epoch 8/150\n",
      "74/74 [==============================] - 12s 164ms/step - loss: 1.1694 - accuracy: 0.6172 - val_loss: 2.6639 - val_accuracy: 0.1590 - lr: 0.0010\n",
      "Epoch 9/150\n",
      "74/74 [==============================] - 12s 164ms/step - loss: 1.2235 - accuracy: 0.5953 - val_loss: 3.0101 - val_accuracy: 0.1982 - lr: 0.0010\n",
      "Epoch 10/150\n",
      "74/74 [==============================] - 12s 164ms/step - loss: 1.2062 - accuracy: 0.6018 - val_loss: 1.7425 - val_accuracy: 0.4510 - lr: 0.0010\n",
      "Epoch 11/150\n",
      "74/74 [==============================] - 12s 164ms/step - loss: 1.0789 - accuracy: 0.6417 - val_loss: 1.9559 - val_accuracy: 0.4627 - lr: 0.0010\n",
      "Epoch 12/150\n",
      "74/74 [==============================] - 12s 168ms/step - loss: 1.0410 - accuracy: 0.6538 - val_loss: 5.1314 - val_accuracy: 0.1315 - lr: 0.0010\n",
      "Epoch 13/150\n",
      "74/74 [==============================] - 12s 164ms/step - loss: 1.0446 - accuracy: 0.6520 - val_loss: 2.0034 - val_accuracy: 0.3837 - lr: 0.0010\n",
      "Epoch 14/150\n",
      "74/74 [==============================] - 12s 164ms/step - loss: 0.9456 - accuracy: 0.6905 - val_loss: 1.6726 - val_accuracy: 0.4561 - lr: 0.0010\n",
      "Epoch 15/150\n",
      "74/74 [==============================] - 12s 164ms/step - loss: 0.9247 - accuracy: 0.6981 - val_loss: 1.9739 - val_accuracy: 0.4069 - lr: 0.0010\n",
      "Epoch 16/150\n",
      "74/74 [==============================] - 12s 164ms/step - loss: 0.9063 - accuracy: 0.7027 - val_loss: 1.3088 - val_accuracy: 0.6031 - lr: 0.0010\n",
      "Epoch 17/150\n",
      "74/74 [==============================] - 12s 164ms/step - loss: 0.8452 - accuracy: 0.7229 - val_loss: 1.2660 - val_accuracy: 0.6191 - lr: 0.0010\n",
      "Epoch 18/150\n",
      "74/74 [==============================] - 13s 174ms/step - loss: 0.8779 - accuracy: 0.7049 - val_loss: 1.7814 - val_accuracy: 0.4859 - lr: 0.0010\n",
      "Epoch 19/150\n",
      "74/74 [==============================] - 13s 170ms/step - loss: 0.8309 - accuracy: 0.7223 - val_loss: 3.1852 - val_accuracy: 0.2716 - lr: 0.0010\n",
      "Epoch 20/150\n",
      "74/74 [==============================] - 13s 170ms/step - loss: 0.7652 - accuracy: 0.7474 - val_loss: 1.7541 - val_accuracy: 0.4938 - lr: 0.0010\n",
      "Epoch 21/150\n",
      "74/74 [==============================] - 13s 170ms/step - loss: 0.7096 - accuracy: 0.7664 - val_loss: 1.6487 - val_accuracy: 0.5414 - lr: 0.0010\n",
      "Epoch 22/150\n",
      "74/74 [==============================] - 13s 169ms/step - loss: 0.6618 - accuracy: 0.7801 - val_loss: 1.4047 - val_accuracy: 0.5850 - lr: 0.0010\n",
      "Epoch 23/150\n",
      "74/74 [==============================] - 13s 170ms/step - loss: 0.6205 - accuracy: 0.7947 - val_loss: 3.5670 - val_accuracy: 0.2869 - lr: 0.0010\n",
      "Epoch 24/150\n",
      "74/74 [==============================] - 13s 169ms/step - loss: 0.6624 - accuracy: 0.7765 - val_loss: 1.5081 - val_accuracy: 0.5460 - lr: 0.0010\n",
      "Epoch 25/150\n",
      "74/74 [==============================] - 13s 170ms/step - loss: 0.7307 - accuracy: 0.7557 - val_loss: 3.0061 - val_accuracy: 0.2469 - lr: 0.0010\n",
      "Epoch 26/150\n",
      "74/74 [==============================] - 13s 169ms/step - loss: 0.7410 - accuracy: 0.7529 - val_loss: 1.2633 - val_accuracy: 0.6056 - lr: 0.0010\n",
      "Epoch 27/150\n",
      "74/74 [==============================] - 13s 170ms/step - loss: 0.6128 - accuracy: 0.8003 - val_loss: 1.0488 - val_accuracy: 0.6808 - lr: 0.0010\n",
      "Epoch 28/150\n",
      "74/74 [==============================] - 13s 169ms/step - loss: 0.5942 - accuracy: 0.7987 - val_loss: 2.2348 - val_accuracy: 0.4092 - lr: 0.0010\n",
      "Epoch 29/150\n",
      "74/74 [==============================] - 13s 170ms/step - loss: 0.6025 - accuracy: 0.7962 - val_loss: 1.6419 - val_accuracy: 0.5631 - lr: 0.0010\n",
      "Epoch 30/150\n",
      "74/74 [==============================] - 13s 170ms/step - loss: 0.5321 - accuracy: 0.8209 - val_loss: 4.3422 - val_accuracy: 0.2510 - lr: 0.0010\n",
      "Epoch 31/150\n",
      "74/74 [==============================] - 13s 169ms/step - loss: 0.5250 - accuracy: 0.8230 - val_loss: 1.4457 - val_accuracy: 0.6252 - lr: 0.0010\n",
      "Epoch 32/150\n",
      "74/74 [==============================] - 13s 170ms/step - loss: 0.4638 - accuracy: 0.8400 - val_loss: 1.2054 - val_accuracy: 0.6831 - lr: 0.0010\n",
      "Epoch 33/150\n",
      "74/74 [==============================] - 13s 169ms/step - loss: 0.5836 - accuracy: 0.8081 - val_loss: 3.7788 - val_accuracy: 0.2566 - lr: 0.0010\n",
      "Epoch 34/150\n",
      "74/74 [==============================] - 13s 170ms/step - loss: 0.7712 - accuracy: 0.7383 - val_loss: 1.8669 - val_accuracy: 0.4910 - lr: 0.0010\n",
      "Epoch 35/150\n",
      "74/74 [==============================] - 13s 169ms/step - loss: 0.5950 - accuracy: 0.7984 - val_loss: 1.4722 - val_accuracy: 0.6003 - lr: 0.0010\n",
      "Epoch 36/150\n",
      "74/74 [==============================] - 13s 170ms/step - loss: 0.4885 - accuracy: 0.8362 - val_loss: 1.4696 - val_accuracy: 0.6318 - lr: 0.0010\n",
      "Epoch 37/150\n",
      "74/74 [==============================] - 13s 169ms/step - loss: 0.4441 - accuracy: 0.8506 - val_loss: 1.4723 - val_accuracy: 0.6369 - lr: 0.0010\n",
      "Epoch 38/150\n",
      "74/74 [==============================] - 13s 170ms/step - loss: 0.5010 - accuracy: 0.8302 - val_loss: 2.4521 - val_accuracy: 0.4346 - lr: 0.0010\n",
      "Epoch 39/150\n",
      "74/74 [==============================] - 13s 169ms/step - loss: 0.4439 - accuracy: 0.8512 - val_loss: 1.5120 - val_accuracy: 0.6250 - lr: 0.0010\n",
      "Epoch 40/150\n",
      "74/74 [==============================] - 13s 169ms/step - loss: 0.3116 - accuracy: 0.8969 - val_loss: 0.9048 - val_accuracy: 0.7646 - lr: 3.0000e-04\n",
      "Epoch 41/150\n",
      "74/74 [==============================] - 13s 169ms/step - loss: 0.2538 - accuracy: 0.9151 - val_loss: 0.9049 - val_accuracy: 0.7669 - lr: 3.0000e-04\n",
      "Epoch 42/150\n",
      "74/74 [==============================] - 13s 169ms/step - loss: 0.2289 - accuracy: 0.9243 - val_loss: 0.9391 - val_accuracy: 0.7641 - lr: 3.0000e-04\n",
      "Epoch 43/150\n",
      "74/74 [==============================] - 13s 169ms/step - loss: 0.2125 - accuracy: 0.9287 - val_loss: 1.0388 - val_accuracy: 0.7478 - lr: 3.0000e-04\n",
      "Epoch 44/150\n",
      "74/74 [==============================] - 13s 169ms/step - loss: 0.1915 - accuracy: 0.9364 - val_loss: 0.9407 - val_accuracy: 0.7771 - lr: 3.0000e-04\n",
      "Epoch 45/150\n",
      "74/74 [==============================] - 13s 170ms/step - loss: 0.1724 - accuracy: 0.9439 - val_loss: 0.9363 - val_accuracy: 0.7809 - lr: 3.0000e-04\n",
      "Epoch 46/150\n",
      "74/74 [==============================] - 13s 170ms/step - loss: 0.1562 - accuracy: 0.9472 - val_loss: 0.9599 - val_accuracy: 0.7791 - lr: 3.0000e-04\n",
      "Epoch 47/150\n",
      "74/74 [==============================] - 13s 170ms/step - loss: 0.1485 - accuracy: 0.9492 - val_loss: 1.0031 - val_accuracy: 0.7806 - lr: 3.0000e-04\n",
      "Epoch 48/150\n",
      "74/74 [==============================] - 13s 169ms/step - loss: 0.1415 - accuracy: 0.9518 - val_loss: 1.0088 - val_accuracy: 0.7817 - lr: 3.0000e-04\n",
      "Epoch 49/150\n",
      "74/74 [==============================] - 13s 170ms/step - loss: 0.1294 - accuracy: 0.9551 - val_loss: 1.0490 - val_accuracy: 0.7834 - lr: 3.0000e-04\n",
      "Epoch 50/150\n",
      "74/74 [==============================] - 13s 169ms/step - loss: 0.1092 - accuracy: 0.9650 - val_loss: 1.0768 - val_accuracy: 0.7768 - lr: 3.0000e-04\n",
      "Epoch 51/150\n",
      "74/74 [==============================] - 13s 170ms/step - loss: 0.1054 - accuracy: 0.9654 - val_loss: 1.0678 - val_accuracy: 0.7860 - lr: 3.0000e-04\n",
      "Epoch 52/150\n",
      "74/74 [==============================] - 13s 169ms/step - loss: 0.0955 - accuracy: 0.9688 - val_loss: 1.1299 - val_accuracy: 0.7806 - lr: 3.0000e-04\n"
     ]
    },
    {
     "name": "stdout",
     "output_type": "stream",
     "text": [
      "Epoch 53/150\n",
      "74/74 [==============================] - 12s 164ms/step - loss: 0.0819 - accuracy: 0.9738 - val_loss: 1.0923 - val_accuracy: 0.7878 - lr: 9.0000e-05\n",
      "Epoch 54/150\n",
      "74/74 [==============================] - 12s 164ms/step - loss: 0.0711 - accuracy: 0.9768 - val_loss: 1.0661 - val_accuracy: 0.7908 - lr: 9.0000e-05\n",
      "Epoch 55/150\n",
      "74/74 [==============================] - 12s 164ms/step - loss: 0.0626 - accuracy: 0.9801 - val_loss: 1.0641 - val_accuracy: 0.7926 - lr: 9.0000e-05\n",
      "<tensorflow.python.keras.callbacks.History object at 0x7f8f403f39a0>\n"
     ]
    },
    {
     "data": {
      "image/png": "[encoded data removed]",
      "text/plain": [
       "<Figure size 432x288 with 1 Axes>"
      ]
     },
     "metadata": {
      "needs_background": "light"
     },
     "output_type": "display_data"
    },
    {
     "data": {
      "image/png": "[encoded data removed]",
      "text/plain": [
       "<Figure size 432x288 with 1 Axes>"
      ]
     },
     "metadata": {
      "needs_background": "light"
     },
     "output_type": "display_data"
    },
    {
     "data": {
      "image/png": "[encoded data removed]",
      "text/plain": [
       "<Figure size 432x288 with 1 Axes>"
      ]
     },
     "metadata": {
      "needs_background": "light"
     },
     "output_type": "display_data"
    },
    {
     "name": "stdout",
     "output_type": "stream",
     "text": [
      "starting bb0 11:36:18\n",
      "WARNING:tensorflow:From /home/florian/dev/foolbox/foolbox/models/tensorflow.py:13: is_gpu_available (from tensorflow.python.framework.test_util) is deprecated and will be removed in a future version.\n",
      "Instructions for updating:\n",
      "Use `tf.config.list_physical_devices('GPU')` instead.\n"
     ]
    },
    {
     "name": "stderr",
     "output_type": "stream",
     "text": [
      "WARNING:tensorflow:From /home/florian/dev/foolbox/foolbox/models/tensorflow.py:13: is_gpu_available (from tensorflow.python.framework.test_util) is deprecated and will be removed in a future version.\n",
      "Instructions for updating:\n",
      "Use `tf.config.list_physical_devices('GPU')` instead.\n"
     ]
    },
    {
     "name": "stdout",
     "output_type": "stream",
     "text": [
      "bb0 batch 0 11:36:19\n",
      "bb0 batch 1 11:42:42\n",
      "bb0 batch 2 11:48:34\n",
      "bb0 batch 3 11:54:27\n",
      "bb0 batch 4 12:00:24\n",
      "bb0 batch 5 12:06:17\n"
     ]
    }
   ],
   "source": [
    "experiment.run(\n",
    "    structure='structured',\n",
    "    method='magnitude', \n",
    "    scope='local', \n",
    "    structure_to_prune='filter',\n",
    "    prune_dense_layers=False,\n",
    "    iterations=ITERATIONS,\n",
    "    architecture = ARCHITECTURE,\n",
    "    experiment_type = EXPERIMENT_TYPE,\n",
    ")"
   ]
  },
  {
   "cell_type": "code",
   "execution_count": null,
   "metadata": {},
   "outputs": [],
   "source": [
    "experiment.run(\n",
    "    structure='structured',\n",
    "    method='magnitude', \n",
    "    scope='local', \n",
    "    structure_to_prune='kernel',\n",
    "    prune_dense_layers=False,\n",
    "    iterations=ITERATIONS,\n",
    "    architecture = ARCHITECTURE,\n",
    "    experiment_type = EXPERIMENT_TYPE,\n",
    ")"
   ]
  },
  {
   "cell_type": "code",
   "execution_count": null,
   "metadata": {},
   "outputs": [],
   "source": [
    "experiment.run(\n",
    "    structure='structured',\n",
    "    method='magnitude', \n",
    "    scope='global', \n",
    "    structure_to_prune='filter',\n",
    "    prune_dense_layers=False,\n",
    "    iterations=ITERATIONS,\n",
    "    architecture = ARCHITECTURE,\n",
    "    experiment_type = EXPERIMENT_TYPE,\n",
    ")"
   ]
  },
  {
   "cell_type": "code",
   "execution_count": null,
   "metadata": {},
   "outputs": [],
   "source": [
    "experiment.run(\n",
    "    structure='structured',\n",
    "    method='magnitude', \n",
    "    scope='global', \n",
    "    structure_to_prune='kernel',\n",
    "    prune_dense_layers=False,\n",
    "    iterations=ITERATIONS,\n",
    "    architecture = ARCHITECTURE,\n",
    "    experiment_type = EXPERIMENT_TYPE,\n",
    ")"
   ]
  },
  {
   "cell_type": "code",
   "execution_count": null,
   "metadata": {},
   "outputs": [],
   "source": []
  },
  {
   "cell_type": "code",
   "execution_count": null,
   "metadata": {
    "scrolled": true
   },
   "outputs": [],
   "source": []
  },
  {
   "cell_type": "code",
   "execution_count": null,
   "metadata": {},
   "outputs": [],
   "source": []
  },
  {
   "cell_type": "code",
   "execution_count": null,
   "metadata": {},
   "outputs": [],
   "source": []
  },
  {
   "cell_type": "markdown",
   "metadata": {},
   "source": [
    "# newer"
   ]
  },
  {
   "cell_type": "code",
   "execution_count": null,
   "metadata": {
    "scrolled": true
   },
   "outputs": [],
   "source": [
    "model = initialize_base_model('',1, lr=1e-3)\n",
    "hist = train_model(model)\n",
    "plot_hist(hist)\n",
    "\n",
    "fmodel = fb.models.TensorFlowModel(model, bounds=(0,1))\n",
    "attack = fb.attacks.L2CarliniWagnerAttack(\n",
    "    binary_search_steps = 9,\n",
    "    steps= 5000,\n",
    "    stepsize = .01,\n",
    "    confidence = 0,\n",
    "    initial_const = 1000000,\n",
    "    abort_early = True,\n",
    ")\n",
    "\n",
    "adversarials, _, batch_success = attack(\n",
    "        fmodel,\n",
    "        attack_images[:3],\n",
    "        attack_labels[:3],\n",
    "        epsilons=None\n",
    "    )\n",
    "l2_adv = adversarials[0]\n",
    "l2_pert = (attack_images[0]-l2_adv)\n",
    "\n",
    "fmodel = fb.models.TensorFlowModel(model, bounds=(0,1))\n",
    "init_attack = fb.attacks.DatasetAttack()\n",
    "BATCHSIZE = 64\n",
    "batches = [\n",
    "    (attack_images[:BATCHSIZE], attack_labels[:BATCHSIZE]), \n",
    "    (attack_images[BATCHSIZE:2*BATCHSIZE], attack_labels[BATCHSIZE:2*BATCHSIZE]),\n",
    "    (attack_images[2*BATCHSIZE:3*BATCHSIZE], attack_labels[2*BATCHSIZE:3*BATCHSIZE]), \n",
    "    (attack_images[3*BATCHSIZE:4*BATCHSIZE], attack_labels[3*BATCHSIZE:4*BATCHSIZE])\n",
    "]\n",
    "\n",
    "init_attack = fb.attacks.DatasetAttack()\n",
    "\n",
    "init_attack.feed(fmodel, batches[0][0])   # feed 1st batch of inputs\n",
    "init_attack.feed(fmodel, batches[1][0])   # feed 2nd batch of inputs\n",
    "init_attack.feed(fmodel, batches[2][0])   # feed 1st batch of inputs\n",
    "init_attack.feed(fmodel, batches[3][0])   # feed 2nd batch of inputs\n",
    "attack = fb.attacks.L0BrendelBethgeAttack(binary_search_steps=30, steps=500,lr_num_decay=30, lr=1e7, init_attack=init_attack)\n",
    "\n",
    "adversarials, _, batch_success = attack(\n",
    "    fmodel,\n",
    "    attack_images[:3],\n",
    "    criterion=fb.criteria.Misclassification(attack_labels[:3]),\n",
    "    epsilons=[None]\n",
    ")\n",
    "l0_adv = adversarials[0][0]\n",
    "l0_pert = (attack_images[0]-l0_adv)\n",
    "\n",
    "\n",
    "\n",
    "fmodel = fb.models.TensorFlowModel(model, bounds=(0,1))\n",
    "attack = fb.attacks.LinfProjectedGradientDescentAttack()\n",
    "res = [[],[],[],[],[],[]]\n",
    "strengths = [0.125,0.25,0.5,1,2,4]\n",
    "\n",
    "\n",
    "adversarials, _, success = attack(\n",
    "    fmodel,\n",
    "    attack_images[:3],\n",
    "    attack_labels[:3],\n",
    "    epsilons=8/255\n",
    ")\n",
    "l_inf_adv = adversarials[0]\n",
    "\n",
    "l_inf_pert = (attack_images[0]-l_inf_adv)\n",
    "\n",
    "advs = {\n",
    "    'l0':{\n",
    "        'original':attack_images[0],\n",
    "        'adversarial':l0_adv,\n",
    "        'perturbation':l0_pert,\n",
    "        'adversarial_class':5,\n",
    "    },\n",
    "    'l2':{\n",
    "        'original':attack_images[0],\n",
    "        'adversarial':l2_adv,\n",
    "        'perturbation':l2_pert,\n",
    "        'adversarial_class':8\n",
    "    },\n",
    "    'linf':{\n",
    "        'original':attack_images[0],\n",
    "        'adversarial':l_inf_adv,\n",
    "        'perturbation':l_inf_pert,\n",
    "        'adversarial_class':8\n",
    "    },\n",
    "}\n",
    "\n",
    "import pickle\n",
    "filename = 'advs'\n",
    "outfile = open(filename,'wb')\n",
    "pickle.dump(advs,outfile)\n",
    "outfile.close()"
   ]
  },
  {
   "cell_type": "code",
   "execution_count": null,
   "metadata": {},
   "outputs": [],
   "source": []
  }
 ],
 "metadata": {
  "kernelspec": {
   "display_name": "Python 3",
   "language": "python",
   "name": "python3"
  },
  "language_info": {
   "codemirror_mode": {
    "name": "ipython",
    "version": 3
   },
   "file_extension": ".py",
   "mimetype": "text/x-python",
   "name": "python",
   "nbconvert_exporter": "python",
   "pygments_lexer": "ipython3",
   "version": "3.8.3"
  }
 },
 "nbformat": 4,
 "nbformat_minor": 2
}
