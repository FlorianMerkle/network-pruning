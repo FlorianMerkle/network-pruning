{
 "cells": [
  {
   "cell_type": "code",
   "execution_count": 1,
   "metadata": {},
   "outputs": [],
   "source": [
    "ARCHITECTURE = 'ResNet'\n",
    "EXPERIMENT_TYPE = 'fixed-eps'\n",
    "ITERATIONS = 2"
   ]
  },
  {
   "cell_type": "code",
   "execution_count": 2,
   "metadata": {},
   "outputs": [
    {
     "data": {
      "text/plain": [
       "'2.2.0'"
      ]
     },
     "execution_count": 2,
     "metadata": {},
     "output_type": "execute_result"
    }
   ],
   "source": [
    "from __future__ import absolute_import, division, print_function, unicode_literals\n",
    "\n",
    "import tensorflow as tf\n",
    "import tensorflow_datasets as tfds\n",
    "import numpy as np\n",
    "import pandas as pd\n",
    "from tensorflow.keras import layers\n",
    "import tensorflow_datasets as tfds\n",
    "from tqdm import tqdm\n",
    "import matplotlib.pyplot as plt\n",
    "import pathlib\n",
    "import os\n",
    "import random\n",
    "from secrets import randbelow\n",
    "import foolbox as fb\n",
    "from datetime import datetime\n",
    "\n",
    "AUTOTUNE = tf.data.experimental.AUTOTUNE\n",
    "tf.keras.backend.clear_session()  # For easy reset of notebook state.\n",
    "#tf.config.experimental_run_functions_eagerly(True)\n",
    "tf.__version__\n",
    "#tf.executing_eagerly()\n"
   ]
  },
  {
   "cell_type": "code",
   "execution_count": null,
   "metadata": {},
   "outputs": [],
   "source": [
    "gpus = tf.config.experimental.list_physical_devices('GPU')\n",
    "if gpus:\n",
    "    # Restrict TensorFlow to only allocate 1GB * 2 of memory on the first GPU\n",
    "    try:\n",
    "        tf.config.experimental.set_virtual_device_configuration(\n",
    "            gpus[0],\n",
    "            [tf.config.experimental.VirtualDeviceConfiguration(memory_limit=1024 * 9.5)])\n",
    "        logical_gpus = tf.config.experimental.list_logical_devices('GPU')\n",
    "        print(len(gpus), \"Physical GPUs,\", len(logical_gpus), \"Logical GPUs\")\n",
    "    except RuntimeError as e:\n",
    "        # Virtual devices must be set before GPUs have been initialized\n",
    "        print(e)\n"
   ]
  },
  {
   "cell_type": "code",
   "execution_count": null,
   "metadata": {},
   "outputs": [],
   "source": [
    "\n",
    "tf.get_logger().setLevel('ERROR')"
   ]
  },
  {
   "cell_type": "code",
   "execution_count": null,
   "metadata": {},
   "outputs": [],
   "source": [
    "run_experiment(\n",
    "    structure='unstructured', \n",
    "    method='random', \n",
    "    scope='local', \n",
    "    iterations=ITERATIONS\n",
    ")"
   ]
  },
  {
   "cell_type": "code",
   "execution_count": null,
   "metadata": {},
   "outputs": [
    {
     "name": "stderr",
     "output_type": "stream",
     "text": [
      "\r",
      "  0%|          | 0/2 [00:00<?, ?it/s]"
     ]
    },
    {
     "name": "stdout",
     "output_type": "stream",
     "text": [
      "WARNING:tensorflow:Gradients do not exist for variables ['w:0', 'w:0', 'w:0'] when minimizing the loss.\n"
     ]
    },
    {
     "name": "stderr",
     "output_type": "stream",
     "text": [
      "WARNING:tensorflow:Gradients do not exist for variables ['w:0', 'w:0', 'w:0'] when minimizing the loss.\n"
     ]
    },
    {
     "name": "stdout",
     "output_type": "stream",
     "text": [
      "WARNING:tensorflow:Gradients do not exist for variables ['w:0', 'w:0', 'w:0'] when minimizing the loss.\n"
     ]
    },
    {
     "name": "stderr",
     "output_type": "stream",
     "text": [
      "WARNING:tensorflow:Gradients do not exist for variables ['w:0', 'w:0', 'w:0'] when minimizing the loss.\n"
     ]
    },
    {
     "name": "stdout",
     "output_type": "stream",
     "text": [
      "WARNING:tensorflow:Gradients do not exist for variables ['w:0', 'w:0', 'w:0'] when minimizing the loss.\n"
     ]
    },
    {
     "name": "stderr",
     "output_type": "stream",
     "text": [
      "WARNING:tensorflow:Gradients do not exist for variables ['w:0', 'w:0', 'w:0'] when minimizing the loss.\n"
     ]
    },
    {
     "name": "stdout",
     "output_type": "stream",
     "text": [
      "WARNING:tensorflow:Gradients do not exist for variables ['w:0', 'w:0', 'w:0'] when minimizing the loss.\n"
     ]
    },
    {
     "name": "stderr",
     "output_type": "stream",
     "text": [
      "WARNING:tensorflow:Gradients do not exist for variables ['w:0', 'w:0', 'w:0'] when minimizing the loss.\n"
     ]
    },
    {
     "name": "stdout",
     "output_type": "stream",
     "text": [
      "148/148 [==============================] - 114s 768ms/step - loss: 2.1859 - accuracy: 0.2509 - val_loss: 2.6818 - val_accuracy: 0.1009\n"
     ]
    },
    {
     "name": "stderr",
     "output_type": "stream",
     "text": [
      "\n",
      "0it [00:00, ?it/s]\u001b[A"
     ]
    },
    {
     "name": "stdout",
     "output_type": "stream",
     "text": [
      "current pruning ratio is0.0, current iteration is 0\n",
      "Epoch 1/100\n",
      "WARNING:tensorflow:Gradients do not exist for variables ['w:0', 'w:0', 'w:0'] when minimizing the loss.\n"
     ]
    },
    {
     "name": "stderr",
     "output_type": "stream",
     "text": [
      "WARNING:tensorflow:Gradients do not exist for variables ['w:0', 'w:0', 'w:0'] when minimizing the loss.\n"
     ]
    },
    {
     "name": "stdout",
     "output_type": "stream",
     "text": [
      "WARNING:tensorflow:Gradients do not exist for variables ['w:0', 'w:0', 'w:0'] when minimizing the loss.\n"
     ]
    },
    {
     "name": "stderr",
     "output_type": "stream",
     "text": [
      "WARNING:tensorflow:Gradients do not exist for variables ['w:0', 'w:0', 'w:0'] when minimizing the loss.\n"
     ]
    },
    {
     "name": "stdout",
     "output_type": "stream",
     "text": [
      "WARNING:tensorflow:Gradients do not exist for variables ['w:0', 'w:0', 'w:0'] when minimizing the loss.\n"
     ]
    },
    {
     "name": "stderr",
     "output_type": "stream",
     "text": [
      "WARNING:tensorflow:Gradients do not exist for variables ['w:0', 'w:0', 'w:0'] when minimizing the loss.\n"
     ]
    },
    {
     "name": "stdout",
     "output_type": "stream",
     "text": [
      "WARNING:tensorflow:Gradients do not exist for variables ['w:0', 'w:0', 'w:0'] when minimizing the loss.\n"
     ]
    },
    {
     "name": "stderr",
     "output_type": "stream",
     "text": [
      "WARNING:tensorflow:Gradients do not exist for variables ['w:0', 'w:0', 'w:0'] when minimizing the loss.\n"
     ]
    },
    {
     "name": "stdout",
     "output_type": "stream",
     "text": [
      "148/148 [==============================] - 115s 777ms/step - loss: 1.8898 - accuracy: 0.3296 - val_loss: 2.4264 - val_accuracy: 0.2183 - lr: 0.0010\n",
      "Epoch 2/100\n",
      "148/148 [==============================] - 115s 776ms/step - loss: 1.7080 - accuracy: 0.4159 - val_loss: 2.0646 - val_accuracy: 0.3465 - lr: 0.0010\n",
      "Epoch 3/100\n",
      "148/148 [==============================] - 115s 778ms/step - loss: 1.5118 - accuracy: 0.4840 - val_loss: 1.7115 - val_accuracy: 0.4313 - lr: 0.0010\n",
      "Epoch 4/100\n",
      "148/148 [==============================] - 115s 780ms/step - loss: 1.3785 - accuracy: 0.5366 - val_loss: 2.0651 - val_accuracy: 0.3541 - lr: 0.0010\n",
      "Epoch 5/100\n",
      "148/148 [==============================] - 115s 779ms/step - loss: 1.2696 - accuracy: 0.5681 - val_loss: 2.3657 - val_accuracy: 0.3327 - lr: 0.0010\n",
      "Epoch 6/100\n",
      "148/148 [==============================] - 115s 780ms/step - loss: 1.1848 - accuracy: 0.6051 - val_loss: 1.6293 - val_accuracy: 0.4983 - lr: 0.0010\n",
      "Epoch 7/100\n",
      "148/148 [==============================] - 115s 780ms/step - loss: 1.1030 - accuracy: 0.6340 - val_loss: 1.2402 - val_accuracy: 0.5941 - lr: 0.0010\n",
      "Epoch 8/100\n",
      "148/148 [==============================] - 115s 779ms/step - loss: 1.0353 - accuracy: 0.6533 - val_loss: 1.5186 - val_accuracy: 0.5274 - lr: 0.0010\n",
      "Epoch 9/100\n",
      "148/148 [==============================] - 115s 780ms/step - loss: 0.9656 - accuracy: 0.6705 - val_loss: 1.8463 - val_accuracy: 0.5032 - lr: 0.0010\n",
      "Epoch 10/100\n",
      "148/148 [==============================] - 115s 780ms/step - loss: 0.9096 - accuracy: 0.6974 - val_loss: 1.5056 - val_accuracy: 0.5562 - lr: 0.0010\n",
      "Epoch 11/100\n",
      "148/148 [==============================] - 115s 780ms/step - loss: 0.8527 - accuracy: 0.7206 - val_loss: 1.4352 - val_accuracy: 0.5682 - lr: 0.0010\n",
      "Epoch 12/100\n",
      "148/148 [==============================] - 115s 780ms/step - loss: 0.7999 - accuracy: 0.7344 - val_loss: 1.1491 - val_accuracy: 0.6413 - lr: 0.0010\n",
      "Epoch 13/100\n",
      "148/148 [==============================] - 115s 780ms/step - loss: 0.7452 - accuracy: 0.7483 - val_loss: 1.0694 - val_accuracy: 0.6662 - lr: 0.0010\n",
      "Epoch 14/100\n",
      "148/148 [==============================] - 115s 780ms/step - loss: 0.7140 - accuracy: 0.7641 - val_loss: 2.2498 - val_accuracy: 0.4614 - lr: 0.0010\n",
      "Epoch 15/100\n",
      "148/148 [==============================] - 115s 780ms/step - loss: 0.6764 - accuracy: 0.7751 - val_loss: 1.0723 - val_accuracy: 0.6698 - lr: 0.0010\n",
      "Epoch 16/100\n",
      "148/148 [==============================] - 115s 780ms/step - loss: 0.6379 - accuracy: 0.7869 - val_loss: 0.9261 - val_accuracy: 0.7050 - lr: 0.0010\n",
      "Epoch 17/100\n",
      "148/148 [==============================] - 116s 781ms/step - loss: 0.5879 - accuracy: 0.8038 - val_loss: 1.1427 - val_accuracy: 0.6785 - lr: 0.0010\n",
      "Epoch 18/100\n",
      "148/148 [==============================] - 115s 780ms/step - loss: 0.5445 - accuracy: 0.8187 - val_loss: 0.9667 - val_accuracy: 0.7180 - lr: 0.0010\n",
      "Epoch 19/100\n",
      "148/148 [==============================] - 115s 780ms/step - loss: 0.5260 - accuracy: 0.8243 - val_loss: 1.5485 - val_accuracy: 0.5878 - lr: 0.0010\n",
      "Epoch 20/100\n",
      "148/148 [==============================] - 115s 780ms/step - loss: 0.4996 - accuracy: 0.8316 - val_loss: 0.9788 - val_accuracy: 0.7248 - lr: 0.0010\n",
      "Epoch 21/100\n",
      "148/148 [==============================] - 116s 780ms/step - loss: 0.4474 - accuracy: 0.8421 - val_loss: 0.8720 - val_accuracy: 0.7455 - lr: 0.0010\n",
      "Epoch 22/100\n",
      "148/148 [==============================] - 115s 780ms/step - loss: 0.4174 - accuracy: 0.8641 - val_loss: 0.9765 - val_accuracy: 0.7118 - lr: 0.0010\n",
      "Epoch 23/100\n",
      "148/148 [==============================] - 116s 780ms/step - loss: 0.3804 - accuracy: 0.8670 - val_loss: 1.0202 - val_accuracy: 0.7220 - lr: 0.0010\n",
      "Epoch 24/100\n",
      "148/148 [==============================] - 115s 780ms/step - loss: 0.3511 - accuracy: 0.8824 - val_loss: 1.2066 - val_accuracy: 0.6966 - lr: 0.0010\n",
      "Epoch 25/100\n",
      "148/148 [==============================] - 116s 780ms/step - loss: 0.3302 - accuracy: 0.8896 - val_loss: 0.8172 - val_accuracy: 0.7745 - lr: 0.0010\n",
      "Epoch 26/100\n",
      "148/148 [==============================] - 116s 780ms/step - loss: 0.2966 - accuracy: 0.8988 - val_loss: 1.1809 - val_accuracy: 0.7187 - lr: 0.0010\n",
      "Epoch 27/100\n",
      "148/148 [==============================] - 116s 781ms/step - loss: 0.2615 - accuracy: 0.9133 - val_loss: 0.9393 - val_accuracy: 0.7567 - lr: 0.0010\n",
      "Epoch 28/100\n",
      "148/148 [==============================] - 116s 780ms/step - loss: 0.2388 - accuracy: 0.9165 - val_loss: 1.2739 - val_accuracy: 0.6955 - lr: 0.0010\n",
      "Epoch 29/100\n",
      "148/148 [==============================] - 116s 781ms/step - loss: 0.2257 - accuracy: 0.9226 - val_loss: 0.9026 - val_accuracy: 0.7702 - lr: 0.0010\n",
      "Epoch 30/100\n",
      "148/148 [==============================] - 116s 780ms/step - loss: 0.2179 - accuracy: 0.9258 - val_loss: 1.0242 - val_accuracy: 0.7587 - lr: 0.0010\n",
      "Epoch 31/100\n",
      "148/148 [==============================] - 116s 781ms/step - loss: 0.1058 - accuracy: 0.9676 - val_loss: 0.8059 - val_accuracy: 0.8018 - lr: 3.0000e-04\n",
      "Epoch 32/100\n",
      "148/148 [==============================] - 116s 781ms/step - loss: 0.0690 - accuracy: 0.9826 - val_loss: 0.7651 - val_accuracy: 0.8122 - lr: 3.0000e-04\n",
      "Epoch 33/100\n",
      "148/148 [==============================] - 116s 781ms/step - loss: 0.0525 - accuracy: 0.9854 - val_loss: 0.8017 - val_accuracy: 0.8140 - lr: 3.0000e-04\n",
      "Epoch 34/100\n",
      "148/148 [==============================] - 115s 780ms/step - loss: 0.0472 - accuracy: 0.9865 - val_loss: 0.8632 - val_accuracy: 0.8089 - lr: 3.0000e-04\n",
      "Epoch 35/100\n",
      "148/148 [==============================] - 115s 780ms/step - loss: 0.0394 - accuracy: 0.9911 - val_loss: 0.8921 - val_accuracy: 0.8025 - lr: 3.0000e-04\n",
      "Epoch 36/100\n",
      "148/148 [==============================] - 115s 780ms/step - loss: 0.0365 - accuracy: 0.9910 - val_loss: 0.8838 - val_accuracy: 0.8059 - lr: 3.0000e-04\n",
      "Epoch 37/100\n",
      "148/148 [==============================] - 115s 780ms/step - loss: 0.0341 - accuracy: 0.9918 - val_loss: 0.9110 - val_accuracy: 0.8059 - lr: 3.0000e-04\n",
      "Epoch 38/100\n",
      "148/148 [==============================] - 116s 781ms/step - loss: 0.0308 - accuracy: 0.9922 - val_loss: 0.9995 - val_accuracy: 0.7987 - lr: 3.0000e-04\n",
      "Epoch 39/100\n",
      "148/148 [==============================] - 116s 781ms/step - loss: 0.0329 - accuracy: 0.9914 - val_loss: 1.0098 - val_accuracy: 0.7962 - lr: 3.0000e-04\n",
      "Epoch 40/100\n",
      "148/148 [==============================] - 116s 781ms/step - loss: 0.0385 - accuracy: 0.9893 - val_loss: 0.9973 - val_accuracy: 0.7850 - lr: 3.0000e-04\n",
      "Epoch 41/100\n",
      "148/148 [==============================] - 116s 781ms/step - loss: 0.0311 - accuracy: 0.9918 - val_loss: 0.9595 - val_accuracy: 0.8033 - lr: 3.0000e-04\n",
      "Epoch 42/100\n",
      "148/148 [==============================] - 116s 780ms/step - loss: 0.0336 - accuracy: 0.9922 - val_loss: 0.9975 - val_accuracy: 0.8046 - lr: 3.0000e-04\n",
      "Epoch 43/100\n",
      "148/148 [==============================] - 115s 780ms/step - loss: 0.0312 - accuracy: 0.9909 - val_loss: 0.9768 - val_accuracy: 0.8038 - lr: 3.0000e-04\n",
      "Epoch 44/100\n",
      "148/148 [==============================] - 116s 781ms/step - loss: 0.0311 - accuracy: 0.9912 - val_loss: 1.0554 - val_accuracy: 0.7977 - lr: 3.0000e-04\n",
      "Epoch 45/100\n",
      "148/148 [==============================] - 115s 780ms/step - loss: 0.0259 - accuracy: 0.9932 - val_loss: 1.0714 - val_accuracy: 0.8018 - lr: 3.0000e-04\n",
      "Epoch 46/100\n",
      "148/148 [==============================] - 115s 780ms/step - loss: 0.0308 - accuracy: 0.9922 - val_loss: 1.1486 - val_accuracy: 0.7934 - lr: 3.0000e-04\n",
      "Epoch 47/100\n",
      "148/148 [==============================] - 116s 781ms/step - loss: 0.0283 - accuracy: 0.9924 - val_loss: 1.0557 - val_accuracy: 0.8054 - lr: 3.0000e-04\n",
      "Epoch 48/100\n",
      "148/148 [==============================] - 115s 780ms/step - loss: 0.0258 - accuracy: 0.9918 - val_loss: 1.1623 - val_accuracy: 0.7850 - lr: 3.0000e-04\n",
      "Epoch 49/100\n",
      "148/148 [==============================] - 115s 780ms/step - loss: 0.0348 - accuracy: 0.9894 - val_loss: 1.0785 - val_accuracy: 0.7977 - lr: 3.0000e-04\n",
      "Epoch 50/100\n",
      "148/148 [==============================] - 115s 780ms/step - loss: 0.0185 - accuracy: 0.9945 - val_loss: 1.0544 - val_accuracy: 0.7952 - lr: 3.0000e-04\n",
      "Epoch 51/100\n"
     ]
    },
    {
     "name": "stdout",
     "output_type": "stream",
     "text": [
      "148/148 [==============================] - 115s 780ms/step - loss: 0.0157 - accuracy: 0.9954 - val_loss: 0.9871 - val_accuracy: 0.8158 - lr: 1.0000e-04\n",
      "Epoch 52/100\n",
      "148/148 [==============================] - 115s 780ms/step - loss: 0.0097 - accuracy: 0.9977 - val_loss: 0.9728 - val_accuracy: 0.8143 - lr: 1.0000e-04\n"
     ]
    },
    {
     "data": {
      "image/png": "[encoded data removed]",
      "text/plain": [
       "<Figure size 432x288 with 1 Axes>"
      ]
     },
     "metadata": {
      "needs_background": "light"
     },
     "output_type": "display_data"
    },
    {
     "data": {
      "image/png": "[encoded data removed]",
      "text/plain": [
       "<Figure size 432x288 with 1 Axes>"
      ]
     },
     "metadata": {
      "needs_background": "light"
     },
     "output_type": "display_data"
    },
    {
     "data": {
      "image/png": "[encoded data removed]",
      "text/plain": [
       "<Figure size 432x288 with 1 Axes>"
      ]
     },
     "metadata": {
      "needs_background": "light"
     },
     "output_type": "display_data"
    },
    {
     "name": "stdout",
     "output_type": "stream",
     "text": [
      "starting bb0 19:05:31\n",
      "bb0 batch 0 19:05:31\n",
      "bb0 batch 1 19:13:19\n",
      "bb0 batch 2 19:21:09\n",
      "bb0 batch 3 19:28:55\n",
      "ending bb0 19:36:45\n",
      "starting pgd 19:36:45\n",
      "pgd batch 0 19:36:45\n",
      "pgd batch 1 19:37:45\n",
      "pgd batch 2 19:38:45\n",
      "pgd batch 3 19:39:45\n",
      "ending pgd 19:40:45\n",
      "starting cw 19:40:45\n",
      "cw batch 0 19:40:45\n",
      "cw batch 1 20:03:29\n",
      "cw batch 2 20:26:11\n",
      "cw batch 3 20:48:54\n"
     ]
    },
    {
     "name": "stderr",
     "output_type": "stream",
     "text": [
      "\n",
      "1it [3:47:19, 13639.58s/it]\u001b[A"
     ]
    },
    {
     "name": "stdout",
     "output_type": "stream",
     "text": [
      "ending cw 21:11:37\n",
      "current pruning ratio is0.5, current iteration is 0\n",
      "Epoch 1/100\n",
      "WARNING:tensorflow:Gradients do not exist for variables ['w:0', 'w:0', 'w:0'] when minimizing the loss.\n"
     ]
    },
    {
     "name": "stderr",
     "output_type": "stream",
     "text": [
      "WARNING:tensorflow:Gradients do not exist for variables ['w:0', 'w:0', 'w:0'] when minimizing the loss.\n"
     ]
    },
    {
     "name": "stdout",
     "output_type": "stream",
     "text": [
      "WARNING:tensorflow:Gradients do not exist for variables ['w:0', 'w:0', 'w:0'] when minimizing the loss.\n"
     ]
    },
    {
     "name": "stderr",
     "output_type": "stream",
     "text": [
      "WARNING:tensorflow:Gradients do not exist for variables ['w:0', 'w:0', 'w:0'] when minimizing the loss.\n"
     ]
    },
    {
     "name": "stdout",
     "output_type": "stream",
     "text": [
      "WARNING:tensorflow:Gradients do not exist for variables ['w:0', 'w:0', 'w:0'] when minimizing the loss.\n"
     ]
    },
    {
     "name": "stderr",
     "output_type": "stream",
     "text": [
      "WARNING:tensorflow:Gradients do not exist for variables ['w:0', 'w:0', 'w:0'] when minimizing the loss.\n"
     ]
    },
    {
     "name": "stdout",
     "output_type": "stream",
     "text": [
      "WARNING:tensorflow:Gradients do not exist for variables ['w:0', 'w:0', 'w:0'] when minimizing the loss.\n"
     ]
    },
    {
     "name": "stderr",
     "output_type": "stream",
     "text": [
      "WARNING:tensorflow:Gradients do not exist for variables ['w:0', 'w:0', 'w:0'] when minimizing the loss.\n"
     ]
    },
    {
     "name": "stdout",
     "output_type": "stream",
     "text": [
      "148/148 [==============================] - 116s 783ms/step - loss: 0.0783 - accuracy: 0.9756 - val_loss: 1.0352 - val_accuracy: 0.7707 - lr: 0.0010\n",
      "Epoch 2/100\n",
      "148/148 [==============================] - 116s 784ms/step - loss: 0.0741 - accuracy: 0.9757 - val_loss: 1.1565 - val_accuracy: 0.7722 - lr: 0.0010\n",
      "Epoch 3/100\n",
      "148/148 [==============================] - 116s 783ms/step - loss: 0.0712 - accuracy: 0.9779 - val_loss: 1.1656 - val_accuracy: 0.7727 - lr: 0.0010\n",
      "Epoch 4/100\n",
      "148/148 [==============================] - 116s 783ms/step - loss: 0.0846 - accuracy: 0.9722 - val_loss: 1.3280 - val_accuracy: 0.7246 - lr: 0.0010\n",
      "Epoch 5/100\n",
      "148/148 [==============================] - 116s 780ms/step - loss: 0.0981 - accuracy: 0.9680 - val_loss: 1.1931 - val_accuracy: 0.7664 - lr: 0.0010\n",
      "Epoch 6/100\n",
      "148/148 [==============================] - 115s 780ms/step - loss: 0.0475 - accuracy: 0.9850 - val_loss: 1.0727 - val_accuracy: 0.7944 - lr: 0.0010\n",
      "Epoch 7/100\n",
      "148/148 [==============================] - 115s 780ms/step - loss: 0.0506 - accuracy: 0.9834 - val_loss: 1.1720 - val_accuracy: 0.7832 - lr: 0.0010\n",
      "Epoch 8/100\n",
      "148/148 [==============================] - 116s 781ms/step - loss: 0.0512 - accuracy: 0.9843 - val_loss: 0.9880 - val_accuracy: 0.7936 - lr: 0.0010\n",
      "Epoch 9/100\n",
      "148/148 [==============================] - 116s 780ms/step - loss: 0.0391 - accuracy: 0.9872 - val_loss: 1.1858 - val_accuracy: 0.7814 - lr: 0.0010\n",
      "Epoch 10/100\n",
      "148/148 [==============================] - 116s 781ms/step - loss: 0.0622 - accuracy: 0.9799 - val_loss: 1.2981 - val_accuracy: 0.7763 - lr: 0.0010\n",
      "Epoch 11/100\n",
      "148/148 [==============================] - 115s 780ms/step - loss: 0.0555 - accuracy: 0.9818 - val_loss: 1.1365 - val_accuracy: 0.7924 - lr: 0.0010\n",
      "Epoch 12/100\n",
      "148/148 [==============================] - 115s 780ms/step - loss: 0.0545 - accuracy: 0.9824 - val_loss: 1.2875 - val_accuracy: 0.7735 - lr: 0.0010\n",
      "Epoch 13/100\n",
      "148/148 [==============================] - 116s 781ms/step - loss: 0.0579 - accuracy: 0.9796 - val_loss: 1.3236 - val_accuracy: 0.7791 - lr: 0.0010\n",
      "Epoch 14/100\n",
      "148/148 [==============================] - 116s 781ms/step - loss: 0.0423 - accuracy: 0.9866 - val_loss: 1.2361 - val_accuracy: 0.7789 - lr: 0.0010\n",
      "Epoch 15/100\n",
      "148/148 [==============================] - 116s 780ms/step - loss: 0.0454 - accuracy: 0.9863 - val_loss: 1.3111 - val_accuracy: 0.7720 - lr: 0.0010\n",
      "Epoch 16/100\n",
      "148/148 [==============================] - 116s 781ms/step - loss: 0.0613 - accuracy: 0.9800 - val_loss: 1.1264 - val_accuracy: 0.7796 - lr: 0.0010\n",
      "Epoch 17/100\n",
      "148/148 [==============================] - 116s 783ms/step - loss: 0.0554 - accuracy: 0.9816 - val_loss: 1.5110 - val_accuracy: 0.7501 - lr: 0.0010\n",
      "Epoch 18/100\n",
      "148/148 [==============================] - 115s 780ms/step - loss: 0.0457 - accuracy: 0.9857 - val_loss: 1.2654 - val_accuracy: 0.7964 - lr: 0.0010\n",
      "Epoch 19/100\n",
      "148/148 [==============================] - 116s 781ms/step - loss: 0.0349 - accuracy: 0.9883 - val_loss: 1.1268 - val_accuracy: 0.8094 - lr: 0.0010\n",
      "Epoch 20/100\n",
      "148/148 [==============================] - 115s 780ms/step - loss: 0.0277 - accuracy: 0.9913 - val_loss: 1.2320 - val_accuracy: 0.7964 - lr: 0.0010\n",
      "Epoch 21/100\n",
      "148/148 [==============================] - 115s 780ms/step - loss: 0.0279 - accuracy: 0.9916 - val_loss: 1.4726 - val_accuracy: 0.7682 - lr: 0.0010\n",
      "Epoch 22/100\n",
      "148/148 [==============================] - 115s 780ms/step - loss: 0.0480 - accuracy: 0.9833 - val_loss: 1.5037 - val_accuracy: 0.7633 - lr: 0.0010\n",
      "Epoch 23/100\n",
      "148/148 [==============================] - 115s 780ms/step - loss: 0.0502 - accuracy: 0.9822 - val_loss: 1.2951 - val_accuracy: 0.7870 - lr: 0.0010\n",
      "Epoch 24/100\n",
      "148/148 [==============================] - 116s 780ms/step - loss: 0.0473 - accuracy: 0.9851 - val_loss: 1.1830 - val_accuracy: 0.7799 - lr: 0.0010\n",
      "Epoch 25/100\n",
      "148/148 [==============================] - 116s 780ms/step - loss: 0.0502 - accuracy: 0.9831 - val_loss: 1.3705 - val_accuracy: 0.7839 - lr: 0.0010\n",
      "Epoch 26/100\n",
      "148/148 [==============================] - 115s 780ms/step - loss: 0.0417 - accuracy: 0.9853 - val_loss: 1.1436 - val_accuracy: 0.7944 - lr: 0.0010\n",
      "Epoch 27/100\n",
      "148/148 [==============================] - 116s 780ms/step - loss: 0.0308 - accuracy: 0.9908 - val_loss: 1.2991 - val_accuracy: 0.7850 - lr: 0.0010\n",
      "Epoch 28/100\n",
      "148/148 [==============================] - 115s 780ms/step - loss: 0.0356 - accuracy: 0.9879 - val_loss: 1.4724 - val_accuracy: 0.7664 - lr: 0.0010\n"
     ]
    },
    {
     "data": {
      "image/png": "[encoded data removed]",
      "text/plain": [
       "<Figure size 432x288 with 1 Axes>"
      ]
     },
     "metadata": {
      "needs_background": "light"
     },
     "output_type": "display_data"
    },
    {
     "data": {
      "image/png": "[encoded data removed]",
      "text/plain": [
       "<Figure size 432x288 with 1 Axes>"
      ]
     },
     "metadata": {
      "needs_background": "light"
     },
     "output_type": "display_data"
    },
    {
     "data": {
      "image/png": "[encoded data removed]",
      "text/plain": [
       "<Figure size 432x288 with 1 Axes>"
      ]
     },
     "metadata": {
      "needs_background": "light"
     },
     "output_type": "display_data"
    },
    {
     "name": "stdout",
     "output_type": "stream",
     "text": [
      "starting bb0 22:06:26\n",
      "bb0 batch 0 22:06:27\n",
      "bb0 batch 1 22:14:22\n",
      "bb0 batch 2 22:22:19\n",
      "bb0 batch 3 22:30:11\n",
      "ending bb0 22:38:07\n",
      "starting pgd 22:38:07\n",
      "pgd batch 0 22:38:07\n",
      "pgd batch 1 22:39:07\n",
      "pgd batch 2 22:40:07\n",
      "pgd batch 3 22:41:07\n",
      "ending pgd 22:42:07\n",
      "starting cw 22:42:07\n",
      "cw batch 0 22:42:07\n",
      "cw batch 1 23:04:51\n",
      "cw batch 2 23:27:34\n",
      "cw batch 3 23:50:16\n"
     ]
    },
    {
     "name": "stderr",
     "output_type": "stream",
     "text": [
      "\n",
      "2it [6:48:41, 12812.42s/it]\u001b[A"
     ]
    },
    {
     "name": "stdout",
     "output_type": "stream",
     "text": [
      "ending cw 00:13:00\n",
      "current pruning ratio is0.75, current iteration is 0\n",
      "Epoch 1/100\n",
      "WARNING:tensorflow:Gradients do not exist for variables ['w:0', 'w:0', 'w:0'] when minimizing the loss.\n"
     ]
    },
    {
     "name": "stderr",
     "output_type": "stream",
     "text": [
      "WARNING:tensorflow:Gradients do not exist for variables ['w:0', 'w:0', 'w:0'] when minimizing the loss.\n"
     ]
    },
    {
     "name": "stdout",
     "output_type": "stream",
     "text": [
      "WARNING:tensorflow:Gradients do not exist for variables ['w:0', 'w:0', 'w:0'] when minimizing the loss.\n"
     ]
    },
    {
     "name": "stderr",
     "output_type": "stream",
     "text": [
      "WARNING:tensorflow:Gradients do not exist for variables ['w:0', 'w:0', 'w:0'] when minimizing the loss.\n"
     ]
    },
    {
     "name": "stdout",
     "output_type": "stream",
     "text": [
      "WARNING:tensorflow:Gradients do not exist for variables ['w:0', 'w:0', 'w:0'] when minimizing the loss.\n"
     ]
    },
    {
     "name": "stderr",
     "output_type": "stream",
     "text": [
      "WARNING:tensorflow:Gradients do not exist for variables ['w:0', 'w:0', 'w:0'] when minimizing the loss.\n"
     ]
    },
    {
     "name": "stdout",
     "output_type": "stream",
     "text": [
      "WARNING:tensorflow:Gradients do not exist for variables ['w:0', 'w:0', 'w:0'] when minimizing the loss.\n"
     ]
    },
    {
     "name": "stderr",
     "output_type": "stream",
     "text": [
      "WARNING:tensorflow:Gradients do not exist for variables ['w:0', 'w:0', 'w:0'] when minimizing the loss.\n"
     ]
    },
    {
     "name": "stdout",
     "output_type": "stream",
     "text": [
      "148/148 [==============================] - 116s 781ms/step - loss: 0.2447 - accuracy: 0.9245 - val_loss: 1.9681 - val_accuracy: 0.5055 - lr: 0.0010\n",
      "Epoch 2/100\n",
      "148/148 [==============================] - 115s 778ms/step - loss: 0.0725 - accuracy: 0.9822 - val_loss: 0.8215 - val_accuracy: 0.7850 - lr: 0.0010\n",
      "Epoch 3/100\n",
      "148/148 [==============================] - 115s 778ms/step - loss: 0.0436 - accuracy: 0.9908 - val_loss: 0.8745 - val_accuracy: 0.8005 - lr: 0.0010\n",
      "Epoch 4/100\n",
      "148/148 [==============================] - 115s 778ms/step - loss: 0.0405 - accuracy: 0.9895 - val_loss: 0.9387 - val_accuracy: 0.8028 - lr: 0.0010\n",
      "Epoch 5/100\n",
      "148/148 [==============================] - 115s 778ms/step - loss: 0.0319 - accuracy: 0.9927 - val_loss: 0.9685 - val_accuracy: 0.8048 - lr: 0.0010\n",
      "Epoch 6/100\n",
      "148/148 [==============================] - 115s 778ms/step - loss: 0.0291 - accuracy: 0.9926 - val_loss: 0.8957 - val_accuracy: 0.8115 - lr: 0.0010\n",
      "Epoch 7/100\n",
      "148/148 [==============================] - 115s 778ms/step - loss: 0.0209 - accuracy: 0.9947 - val_loss: 1.1225 - val_accuracy: 0.7896 - lr: 0.0010\n",
      "Epoch 8/100\n",
      "148/148 [==============================] - 115s 778ms/step - loss: 0.0240 - accuracy: 0.9933 - val_loss: 0.9816 - val_accuracy: 0.8031 - lr: 0.0010\n",
      "Epoch 9/100\n",
      "148/148 [==============================] - 115s 778ms/step - loss: 0.0306 - accuracy: 0.9903 - val_loss: 1.0439 - val_accuracy: 0.7929 - lr: 0.0010\n",
      "Epoch 10/100\n",
      "148/148 [==============================] - 115s 778ms/step - loss: 0.0312 - accuracy: 0.9910 - val_loss: 0.9863 - val_accuracy: 0.8033 - lr: 0.0010\n",
      "Epoch 11/100\n",
      "148/148 [==============================] - 115s 778ms/step - loss: 0.0169 - accuracy: 0.9961 - val_loss: 1.0468 - val_accuracy: 0.8094 - lr: 0.0010\n",
      "Epoch 12/100\n",
      "148/148 [==============================] - 115s 778ms/step - loss: 0.0157 - accuracy: 0.9965 - val_loss: 1.0161 - val_accuracy: 0.8094 - lr: 0.0010\n",
      "Epoch 13/100\n",
      "148/148 [==============================] - 115s 778ms/step - loss: 0.0176 - accuracy: 0.9954 - val_loss: 1.1059 - val_accuracy: 0.8031 - lr: 0.0010\n",
      "Epoch 14/100\n",
      "148/148 [==============================] - 115s 778ms/step - loss: 0.0189 - accuracy: 0.9942 - val_loss: 1.1012 - val_accuracy: 0.8069 - lr: 0.0010\n",
      "Epoch 15/100\n",
      "148/148 [==============================] - 115s 778ms/step - loss: 0.0141 - accuracy: 0.9964 - val_loss: 1.2582 - val_accuracy: 0.7964 - lr: 0.0010\n",
      "Epoch 16/100\n",
      "148/148 [==============================] - 115s 778ms/step - loss: 0.0161 - accuracy: 0.9959 - val_loss: 1.1269 - val_accuracy: 0.8069 - lr: 0.0010\n",
      "Epoch 17/100\n",
      "148/148 [==============================] - 115s 778ms/step - loss: 0.0184 - accuracy: 0.9941 - val_loss: 1.1104 - val_accuracy: 0.7936 - lr: 0.0010\n",
      "Epoch 18/100\n",
      "148/148 [==============================] - 115s 778ms/step - loss: 0.0171 - accuracy: 0.9941 - val_loss: 1.0746 - val_accuracy: 0.8079 - lr: 0.0010\n",
      "Epoch 19/100\n",
      "148/148 [==============================] - 115s 778ms/step - loss: 0.0177 - accuracy: 0.9940 - val_loss: 1.5110 - val_accuracy: 0.7582 - lr: 0.0010\n",
      "Epoch 20/100\n",
      "148/148 [==============================] - 115s 778ms/step - loss: 0.0218 - accuracy: 0.9940 - val_loss: 1.0965 - val_accuracy: 0.8084 - lr: 0.0010\n",
      "Epoch 21/100\n",
      "148/148 [==============================] - 115s 778ms/step - loss: 0.0135 - accuracy: 0.9958 - val_loss: 1.2443 - val_accuracy: 0.7939 - lr: 0.0010\n",
      "Epoch 22/100\n",
      "148/148 [==============================] - 115s 778ms/step - loss: 0.0189 - accuracy: 0.9944 - val_loss: 1.1488 - val_accuracy: 0.8038 - lr: 0.0010\n"
     ]
    },
    {
     "data": {
      "image/png": "[encoded data removed]",
      "text/plain": [
       "<Figure size 432x288 with 1 Axes>"
      ]
     },
     "metadata": {
      "needs_background": "light"
     },
     "output_type": "display_data"
    },
    {
     "data": {
      "image/png": "[encoded data removed]",
      "text/plain": [
       "<Figure size 432x288 with 1 Axes>"
      ]
     },
     "metadata": {
      "needs_background": "light"
     },
     "output_type": "display_data"
    },
    {
     "data": {
      "image/png": "[encoded data removed]",
      "text/plain": [
       "<Figure size 432x288 with 1 Axes>"
      ]
     },
     "metadata": {
      "needs_background": "light"
     },
     "output_type": "display_data"
    },
    {
     "name": "stdout",
     "output_type": "stream",
     "text": [
      "starting bb0 00:56:03\n",
      "bb0 batch 0 00:56:03\n",
      "bb0 batch 1 01:04:04\n",
      "bb0 batch 2 01:12:03\n",
      "bb0 batch 3 01:20:04\n",
      "ending bb0 01:28:04\n",
      "starting pgd 01:28:04\n",
      "pgd batch 0 01:28:04\n",
      "pgd batch 1 01:29:04\n",
      "pgd batch 2 01:30:04\n",
      "pgd batch 3 01:31:04\n",
      "ending pgd 01:32:04\n",
      "starting cw 01:32:05\n",
      "cw batch 0 01:32:05\n",
      "cw batch 1 01:54:48\n",
      "cw batch 2 02:17:32\n",
      "cw batch 3 02:40:14\n"
     ]
    },
    {
     "name": "stderr",
     "output_type": "stream",
     "text": [
      "\n",
      "3it [9:38:39, 12027.92s/it]\u001b[A"
     ]
    },
    {
     "name": "stdout",
     "output_type": "stream",
     "text": [
      "ending cw 03:02:57\n",
      "current pruning ratio is0.875, current iteration is 0\n",
      "Epoch 1/100\n",
      "WARNING:tensorflow:Gradients do not exist for variables ['w:0', 'w:0', 'w:0'] when minimizing the loss.\n"
     ]
    },
    {
     "name": "stderr",
     "output_type": "stream",
     "text": [
      "WARNING:tensorflow:Gradients do not exist for variables ['w:0', 'w:0', 'w:0'] when minimizing the loss.\n"
     ]
    },
    {
     "name": "stdout",
     "output_type": "stream",
     "text": [
      "WARNING:tensorflow:Gradients do not exist for variables ['w:0', 'w:0', 'w:0'] when minimizing the loss.\n"
     ]
    },
    {
     "name": "stderr",
     "output_type": "stream",
     "text": [
      "WARNING:tensorflow:Gradients do not exist for variables ['w:0', 'w:0', 'w:0'] when minimizing the loss.\n"
     ]
    },
    {
     "name": "stdout",
     "output_type": "stream",
     "text": [
      "WARNING:tensorflow:Gradients do not exist for variables ['w:0', 'w:0', 'w:0'] when minimizing the loss.\n"
     ]
    },
    {
     "name": "stderr",
     "output_type": "stream",
     "text": [
      "WARNING:tensorflow:Gradients do not exist for variables ['w:0', 'w:0', 'w:0'] when minimizing the loss.\n"
     ]
    },
    {
     "name": "stdout",
     "output_type": "stream",
     "text": [
      "WARNING:tensorflow:Gradients do not exist for variables ['w:0', 'w:0', 'w:0'] when minimizing the loss.\n"
     ]
    },
    {
     "name": "stderr",
     "output_type": "stream",
     "text": [
      "WARNING:tensorflow:Gradients do not exist for variables ['w:0', 'w:0', 'w:0'] when minimizing the loss.\n"
     ]
    },
    {
     "name": "stdout",
     "output_type": "stream",
     "text": [
      "148/148 [==============================] - 116s 782ms/step - loss: 0.4273 - accuracy: 0.8641 - val_loss: 1.4886 - val_accuracy: 0.5488 - lr: 0.0010\n",
      "Epoch 2/100\n",
      "148/148 [==============================] - 115s 779ms/step - loss: 0.1429 - accuracy: 0.9594 - val_loss: 0.7562 - val_accuracy: 0.7839 - lr: 0.0010\n",
      "Epoch 3/100\n",
      "148/148 [==============================] - 115s 779ms/step - loss: 0.0797 - accuracy: 0.9807 - val_loss: 0.7319 - val_accuracy: 0.8127 - lr: 0.0010\n",
      "Epoch 4/100\n",
      "148/148 [==============================] - 115s 779ms/step - loss: 0.0538 - accuracy: 0.9880 - val_loss: 0.7659 - val_accuracy: 0.8148 - lr: 0.0010\n",
      "Epoch 5/100\n",
      "148/148 [==============================] - 115s 779ms/step - loss: 0.0433 - accuracy: 0.9898 - val_loss: 0.8355 - val_accuracy: 0.8025 - lr: 0.0010\n",
      "Epoch 6/100\n",
      "148/148 [==============================] - 115s 779ms/step - loss: 0.0346 - accuracy: 0.9928 - val_loss: 0.7839 - val_accuracy: 0.8201 - lr: 0.0010\n",
      "Epoch 7/100\n",
      "148/148 [==============================] - 115s 779ms/step - loss: 0.0232 - accuracy: 0.9962 - val_loss: 0.8553 - val_accuracy: 0.8158 - lr: 0.0010\n",
      "Epoch 8/100\n",
      "148/148 [==============================] - 115s 779ms/step - loss: 0.0250 - accuracy: 0.9936 - val_loss: 0.8380 - val_accuracy: 0.8155 - lr: 0.0010\n",
      "Epoch 9/100\n",
      "148/148 [==============================] - 115s 779ms/step - loss: 0.0221 - accuracy: 0.9950 - val_loss: 0.8962 - val_accuracy: 0.8120 - lr: 0.0010\n",
      "Epoch 10/100\n",
      "148/148 [==============================] - 115s 779ms/step - loss: 0.0227 - accuracy: 0.9944 - val_loss: 0.8872 - val_accuracy: 0.8117 - lr: 0.0010\n",
      "Epoch 11/100\n",
      "148/148 [==============================] - 115s 779ms/step - loss: 0.0255 - accuracy: 0.9927 - val_loss: 1.1256 - val_accuracy: 0.7819 - lr: 0.0010\n",
      "Epoch 12/100\n",
      "148/148 [==============================] - 115s 779ms/step - loss: 0.0205 - accuracy: 0.9961 - val_loss: 0.8958 - val_accuracy: 0.8150 - lr: 0.0010\n",
      "Epoch 13/100\n",
      "148/148 [==============================] - 115s 779ms/step - loss: 0.0165 - accuracy: 0.9964 - val_loss: 0.9271 - val_accuracy: 0.8145 - lr: 0.0010\n",
      "Epoch 14/100\n",
      "148/148 [==============================] - 115s 779ms/step - loss: 0.0165 - accuracy: 0.9958 - val_loss: 0.9112 - val_accuracy: 0.8199 - lr: 0.0010\n",
      "Epoch 15/100\n",
      "148/148 [==============================] - 115s 779ms/step - loss: 0.0144 - accuracy: 0.9966 - val_loss: 0.9293 - val_accuracy: 0.8242 - lr: 0.0010\n",
      "Epoch 16/100\n",
      "148/148 [==============================] - 115s 779ms/step - loss: 0.0166 - accuracy: 0.9958 - val_loss: 1.0255 - val_accuracy: 0.8036 - lr: 0.0010\n",
      "Epoch 17/100\n",
      "148/148 [==============================] - 115s 779ms/step - loss: 0.0165 - accuracy: 0.9960 - val_loss: 0.9607 - val_accuracy: 0.8171 - lr: 0.0010\n",
      "Epoch 18/100\n",
      "148/148 [==============================] - 115s 779ms/step - loss: 0.0133 - accuracy: 0.9967 - val_loss: 1.1109 - val_accuracy: 0.7967 - lr: 0.0010\n",
      "Epoch 19/100\n",
      "148/148 [==============================] - 115s 779ms/step - loss: 0.0160 - accuracy: 0.9960 - val_loss: 0.9887 - val_accuracy: 0.8204 - lr: 0.0010\n",
      "Epoch 20/100\n",
      "148/148 [==============================] - 115s 779ms/step - loss: 0.0201 - accuracy: 0.9940 - val_loss: 1.0953 - val_accuracy: 0.8038 - lr: 0.0010\n",
      "Epoch 21/100\n",
      "148/148 [==============================] - 115s 779ms/step - loss: 0.0264 - accuracy: 0.9917 - val_loss: 1.0591 - val_accuracy: 0.8112 - lr: 0.0010\n",
      "Epoch 22/100\n",
      "148/148 [==============================] - 115s 779ms/step - loss: 0.0226 - accuracy: 0.9933 - val_loss: 1.0544 - val_accuracy: 0.8051 - lr: 0.0010\n",
      "Epoch 23/100\n",
      "148/148 [==============================] - 115s 779ms/step - loss: 0.0112 - accuracy: 0.9971 - val_loss: 1.0424 - val_accuracy: 0.8102 - lr: 0.0010\n"
     ]
    },
    {
     "data": {
      "image/png": "[encoded data removed]",
      "text/plain": [
       "<Figure size 432x288 with 1 Axes>"
      ]
     },
     "metadata": {
      "needs_background": "light"
     },
     "output_type": "display_data"
    },
    {
     "data": {
      "image/png": "[encoded data removed]",
      "text/plain": [
       "<Figure size 432x288 with 1 Axes>"
      ]
     },
     "metadata": {
      "needs_background": "light"
     },
     "output_type": "display_data"
    },
    {
     "data": {
      "image/png": "[encoded data removed]",
      "text/plain": [
       "<Figure size 432x288 with 1 Axes>"
      ]
     },
     "metadata": {
      "needs_background": "light"
     },
     "output_type": "display_data"
    },
    {
     "name": "stdout",
     "output_type": "stream",
     "text": [
      "starting bb0 03:48:00\n",
      "bb0 batch 0 03:48:00\n",
      "bb0 batch 1 03:56:03\n",
      "bb0 batch 2 04:04:07\n",
      "bb0 batch 3 04:12:08\n",
      "ending bb0 04:20:15\n",
      "starting pgd 04:20:15\n",
      "pgd batch 0 04:20:15\n",
      "pgd batch 1 04:21:15\n",
      "pgd batch 2 04:22:15\n",
      "pgd batch 3 04:23:15\n",
      "ending pgd 04:24:15\n",
      "starting cw 04:24:15\n",
      "cw batch 0 04:24:15\n",
      "cw batch 1 04:46:58\n",
      "cw batch 2 05:09:41\n",
      "cw batch 3 05:32:24\n"
     ]
    },
    {
     "name": "stderr",
     "output_type": "stream",
     "text": [
      "\n",
      "4it [12:30:48, 11518.41s/it]\u001b[A"
     ]
    },
    {
     "name": "stdout",
     "output_type": "stream",
     "text": [
      "ending cw 05:55:07\n",
      "current pruning ratio is0.9375, current iteration is 0\n",
      "Epoch 1/100\n",
      "WARNING:tensorflow:Gradients do not exist for variables ['w:0', 'w:0', 'w:0'] when minimizing the loss.\n"
     ]
    },
    {
     "name": "stderr",
     "output_type": "stream",
     "text": [
      "WARNING:tensorflow:Gradients do not exist for variables ['w:0', 'w:0', 'w:0'] when minimizing the loss.\n"
     ]
    },
    {
     "name": "stdout",
     "output_type": "stream",
     "text": [
      "WARNING:tensorflow:Gradients do not exist for variables ['w:0', 'w:0', 'w:0'] when minimizing the loss.\n"
     ]
    },
    {
     "name": "stderr",
     "output_type": "stream",
     "text": [
      "WARNING:tensorflow:Gradients do not exist for variables ['w:0', 'w:0', 'w:0'] when minimizing the loss.\n"
     ]
    },
    {
     "name": "stdout",
     "output_type": "stream",
     "text": [
      "WARNING:tensorflow:Gradients do not exist for variables ['w:0', 'w:0', 'w:0'] when minimizing the loss.\n"
     ]
    },
    {
     "name": "stderr",
     "output_type": "stream",
     "text": [
      "WARNING:tensorflow:Gradients do not exist for variables ['w:0', 'w:0', 'w:0'] when minimizing the loss.\n"
     ]
    },
    {
     "name": "stdout",
     "output_type": "stream",
     "text": [
      "WARNING:tensorflow:Gradients do not exist for variables ['w:0', 'w:0', 'w:0'] when minimizing the loss.\n"
     ]
    },
    {
     "name": "stderr",
     "output_type": "stream",
     "text": [
      "WARNING:tensorflow:Gradients do not exist for variables ['w:0', 'w:0', 'w:0'] when minimizing the loss.\n"
     ]
    },
    {
     "name": "stdout",
     "output_type": "stream",
     "text": [
      "148/148 [==============================] - 116s 781ms/step - loss: 0.2358 - accuracy: 0.9291 - val_loss: 0.7203 - val_accuracy: 0.8066 - lr: 0.0010\n",
      "Epoch 2/100\n",
      "148/148 [==============================] - 115s 778ms/step - loss: 0.0553 - accuracy: 0.9877 - val_loss: 0.7090 - val_accuracy: 0.8227 - lr: 0.0010\n",
      "Epoch 3/100\n",
      "148/148 [==============================] - 116s 781ms/step - loss: 0.0347 - accuracy: 0.9949 - val_loss: 0.7771 - val_accuracy: 0.8155 - lr: 0.0010\n",
      "Epoch 4/100\n",
      "148/148 [==============================] - 116s 781ms/step - loss: 0.0293 - accuracy: 0.9936 - val_loss: 0.8568 - val_accuracy: 0.8071 - lr: 0.0010\n",
      "Epoch 5/100\n",
      "148/148 [==============================] - 116s 781ms/step - loss: 0.0239 - accuracy: 0.9949 - val_loss: 0.8680 - val_accuracy: 0.8115 - lr: 0.0010\n",
      "Epoch 6/100\n",
      "148/148 [==============================] - 116s 781ms/step - loss: 0.0189 - accuracy: 0.9959 - val_loss: 0.8861 - val_accuracy: 0.8110 - lr: 0.0010\n",
      "Epoch 7/100\n",
      "148/148 [==============================] - 116s 781ms/step - loss: 0.0195 - accuracy: 0.9957 - val_loss: 0.9406 - val_accuracy: 0.8033 - lr: 0.0010\n",
      "Epoch 8/100\n",
      "148/148 [==============================] - 116s 781ms/step - loss: 0.0113 - accuracy: 0.9982 - val_loss: 0.9691 - val_accuracy: 0.8054 - lr: 0.0010\n",
      "Epoch 9/100\n",
      "148/148 [==============================] - 115s 779ms/step - loss: 0.0148 - accuracy: 0.9970 - val_loss: 0.9218 - val_accuracy: 0.8089 - lr: 0.0010\n",
      "Epoch 10/100\n",
      "148/148 [==============================] - 116s 781ms/step - loss: 0.0192 - accuracy: 0.9954 - val_loss: 1.2864 - val_accuracy: 0.7654 - lr: 0.0010\n",
      "Epoch 11/100\n",
      "148/148 [==============================] - 115s 779ms/step - loss: 0.0195 - accuracy: 0.9950 - val_loss: 0.9809 - val_accuracy: 0.7985 - lr: 0.0010\n",
      "Epoch 12/100\n",
      "148/148 [==============================] - 115s 779ms/step - loss: 0.0176 - accuracy: 0.9954 - val_loss: 0.9915 - val_accuracy: 0.8099 - lr: 0.0010\n",
      "Epoch 13/100\n",
      "148/148 [==============================] - 115s 779ms/step - loss: 0.0210 - accuracy: 0.9939 - val_loss: 1.0145 - val_accuracy: 0.8110 - lr: 0.0010\n",
      "Epoch 14/100\n",
      "148/148 [==============================] - 115s 779ms/step - loss: 0.0153 - accuracy: 0.9955 - val_loss: 0.9233 - val_accuracy: 0.8120 - lr: 0.0010\n",
      "Epoch 15/100\n",
      "148/148 [==============================] - 115s 779ms/step - loss: 0.0125 - accuracy: 0.9969 - val_loss: 1.0537 - val_accuracy: 0.8153 - lr: 0.0010\n",
      "Epoch 16/100\n",
      "148/148 [==============================] - 115s 779ms/step - loss: 0.0119 - accuracy: 0.9975 - val_loss: 1.0235 - val_accuracy: 0.8125 - lr: 0.0010\n",
      "Epoch 17/100\n",
      "148/148 [==============================] - 115s 779ms/step - loss: 0.0084 - accuracy: 0.9981 - val_loss: 1.0489 - val_accuracy: 0.8107 - lr: 0.0010\n",
      "Epoch 18/100\n",
      "148/148 [==============================] - 115s 779ms/step - loss: 0.0084 - accuracy: 0.9982 - val_loss: 1.0172 - val_accuracy: 0.8199 - lr: 0.0010\n",
      "Epoch 19/100\n",
      "148/148 [==============================] - 115s 779ms/step - loss: 0.0105 - accuracy: 0.9971 - val_loss: 1.0912 - val_accuracy: 0.8061 - lr: 0.0010\n",
      "Epoch 20/100\n",
      "148/148 [==============================] - 115s 779ms/step - loss: 0.0158 - accuracy: 0.9956 - val_loss: 1.0677 - val_accuracy: 0.8036 - lr: 0.0010\n",
      "Epoch 21/100\n",
      "148/148 [==============================] - 115s 779ms/step - loss: 0.0137 - accuracy: 0.9966 - val_loss: 1.1220 - val_accuracy: 0.8064 - lr: 0.0010\n",
      "Epoch 22/100\n",
      "148/148 [==============================] - 115s 779ms/step - loss: 0.0176 - accuracy: 0.9940 - val_loss: 1.2007 - val_accuracy: 0.7893 - lr: 0.0010\n"
     ]
    },
    {
     "data": {
      "image/png": "[encoded data removed]",
      "text/plain": [
       "<Figure size 432x288 with 1 Axes>"
      ]
     },
     "metadata": {
      "needs_background": "light"
     },
     "output_type": "display_data"
    },
    {
     "data": {
      "image/png": "[encoded data removed]",
      "text/plain": [
       "<Figure size 432x288 with 1 Axes>"
      ]
     },
     "metadata": {
      "needs_background": "light"
     },
     "output_type": "display_data"
    },
    {
     "data": {
      "image/png": "[encoded data removed]",
      "text/plain": [
       "<Figure size 432x288 with 1 Axes>"
      ]
     },
     "metadata": {
      "needs_background": "light"
     },
     "output_type": "display_data"
    },
    {
     "name": "stdout",
     "output_type": "stream",
     "text": [
      "starting bb0 06:38:15\n",
      "bb0 batch 0 06:38:15\n",
      "bb0 batch 1 06:46:24\n",
      "bb0 batch 2 06:54:30\n",
      "bb0 batch 3 07:02:37\n",
      "ending bb0 07:10:46\n",
      "starting pgd 07:10:46\n",
      "pgd batch 0 07:10:46\n",
      "pgd batch 1 07:11:46\n",
      "pgd batch 2 07:12:46\n",
      "pgd batch 3 07:13:46\n",
      "ending pgd 07:14:46\n",
      "starting cw 07:14:47\n",
      "cw batch 0 07:14:47\n",
      "cw batch 1 07:37:28\n",
      "cw batch 2 08:00:09\n",
      "cw batch 3 08:22:50\n"
     ]
    },
    {
     "name": "stderr",
     "output_type": "stream",
     "text": [
      "\n",
      "5it [15:21:14, 11130.63s/it]\u001b[A"
     ]
    },
    {
     "name": "stdout",
     "output_type": "stream",
     "text": [
      "ending cw 08:45:32\n",
      "current pruning ratio is0.96875, current iteration is 0\n",
      "Epoch 1/100\n",
      "WARNING:tensorflow:Gradients do not exist for variables ['w:0', 'w:0', 'w:0'] when minimizing the loss.\n"
     ]
    },
    {
     "name": "stderr",
     "output_type": "stream",
     "text": [
      "WARNING:tensorflow:Gradients do not exist for variables ['w:0', 'w:0', 'w:0'] when minimizing the loss.\n"
     ]
    },
    {
     "name": "stdout",
     "output_type": "stream",
     "text": [
      "WARNING:tensorflow:Gradients do not exist for variables ['w:0', 'w:0', 'w:0'] when minimizing the loss.\n"
     ]
    },
    {
     "name": "stderr",
     "output_type": "stream",
     "text": [
      "WARNING:tensorflow:Gradients do not exist for variables ['w:0', 'w:0', 'w:0'] when minimizing the loss.\n"
     ]
    },
    {
     "name": "stdout",
     "output_type": "stream",
     "text": [
      "WARNING:tensorflow:Gradients do not exist for variables ['w:0', 'w:0', 'w:0'] when minimizing the loss.\n"
     ]
    },
    {
     "name": "stderr",
     "output_type": "stream",
     "text": [
      "WARNING:tensorflow:Gradients do not exist for variables ['w:0', 'w:0', 'w:0'] when minimizing the loss.\n"
     ]
    },
    {
     "name": "stdout",
     "output_type": "stream",
     "text": [
      "WARNING:tensorflow:Gradients do not exist for variables ['w:0', 'w:0', 'w:0'] when minimizing the loss.\n"
     ]
    },
    {
     "name": "stderr",
     "output_type": "stream",
     "text": [
      "WARNING:tensorflow:Gradients do not exist for variables ['w:0', 'w:0', 'w:0'] when minimizing the loss.\n"
     ]
    },
    {
     "name": "stdout",
     "output_type": "stream",
     "text": [
      "148/148 [==============================] - 113s 766ms/step - loss: 2.4292 - accuracy: 0.1017 - val_loss: 6.5885 - val_accuracy: 0.1017 - lr: 0.0010\n",
      "Epoch 2/100\n",
      "148/148 [==============================] - 113s 763ms/step - loss: 2.3119 - accuracy: 0.0990 - val_loss: 3.5640 - val_accuracy: 0.1017 - lr: 0.0010\n",
      "Epoch 3/100\n",
      "148/148 [==============================] - 113s 763ms/step - loss: 2.3095 - accuracy: 0.1051 - val_loss: 2.4562 - val_accuracy: 0.1017 - lr: 0.0010\n",
      "Epoch 4/100\n",
      "148/148 [==============================] - 113s 763ms/step - loss: 2.3114 - accuracy: 0.1047 - val_loss: 2.3200 - val_accuracy: 0.0983 - lr: 0.0010\n",
      "Epoch 5/100\n",
      "148/148 [==============================] - 113s 763ms/step - loss: 2.3109 - accuracy: 0.1042 - val_loss: 2.3063 - val_accuracy: 0.1068 - lr: 0.0010\n",
      "Epoch 6/100\n",
      "148/148 [==============================] - 113s 763ms/step - loss: 2.3135 - accuracy: 0.0935 - val_loss: 2.3130 - val_accuracy: 0.0994 - lr: 0.0010\n",
      "Epoch 7/100\n",
      "148/148 [==============================] - 113s 763ms/step - loss: 2.3115 - accuracy: 0.0964 - val_loss: 2.3090 - val_accuracy: 0.1068 - lr: 0.0010\n",
      "Epoch 8/100\n",
      "148/148 [==============================] - 113s 763ms/step - loss: 2.3127 - accuracy: 0.1012 - val_loss: 2.3088 - val_accuracy: 0.1042 - lr: 0.0010\n",
      "Epoch 9/100\n",
      "148/148 [==============================] - 113s 763ms/step - loss: 2.3135 - accuracy: 0.0984 - val_loss: 2.3080 - val_accuracy: 0.1006 - lr: 0.0010\n",
      "Epoch 10/100\n",
      "148/148 [==============================] - 113s 763ms/step - loss: 2.3121 - accuracy: 0.1070 - val_loss: 2.3083 - val_accuracy: 0.0994 - lr: 0.0010\n",
      "Epoch 11/100\n",
      "148/148 [==============================] - 113s 763ms/step - loss: 2.3109 - accuracy: 0.0987 - val_loss: 2.3152 - val_accuracy: 0.0910 - lr: 0.0010\n",
      "Epoch 12/100\n",
      "148/148 [==============================] - 113s 763ms/step - loss: 2.3129 - accuracy: 0.1006 - val_loss: 2.3167 - val_accuracy: 0.0986 - lr: 0.0010\n",
      "Epoch 13/100\n",
      "148/148 [==============================] - 113s 763ms/step - loss: 2.3131 - accuracy: 0.0960 - val_loss: 2.3125 - val_accuracy: 0.0910 - lr: 0.0010\n",
      "Epoch 14/100\n",
      "148/148 [==============================] - 113s 763ms/step - loss: 2.3102 - accuracy: 0.1058 - val_loss: 2.3274 - val_accuracy: 0.0994 - lr: 0.0010\n",
      "Epoch 15/100\n",
      "148/148 [==============================] - 113s 763ms/step - loss: 2.3117 - accuracy: 0.1016 - val_loss: 2.3216 - val_accuracy: 0.0991 - lr: 0.0010\n",
      "Epoch 16/100\n",
      "148/148 [==============================] - 113s 763ms/step - loss: 2.3125 - accuracy: 0.1010 - val_loss: 2.3072 - val_accuracy: 0.0994 - lr: 0.0010\n",
      "Epoch 17/100\n",
      "148/148 [==============================] - 113s 763ms/step - loss: 2.3129 - accuracy: 0.0990 - val_loss: 2.3082 - val_accuracy: 0.1017 - lr: 0.0010\n",
      "Epoch 18/100\n",
      "148/148 [==============================] - 113s 763ms/step - loss: 2.3120 - accuracy: 0.1043 - val_loss: 2.3082 - val_accuracy: 0.0994 - lr: 0.0010\n",
      "Epoch 19/100\n",
      "148/148 [==============================] - 113s 763ms/step - loss: 2.3107 - accuracy: 0.0990 - val_loss: 2.3106 - val_accuracy: 0.0983 - lr: 0.0010\n",
      "Epoch 20/100\n",
      "148/148 [==============================] - 113s 764ms/step - loss: 2.3100 - accuracy: 0.0980 - val_loss: 2.3230 - val_accuracy: 0.0991 - lr: 0.0010\n",
      "Epoch 21/100\n",
      "148/148 [==============================] - 113s 763ms/step - loss: 2.3104 - accuracy: 0.1011 - val_loss: 2.3090 - val_accuracy: 0.1068 - lr: 0.0010\n",
      "Epoch 22/100\n",
      "148/148 [==============================] - 113s 763ms/step - loss: 2.3120 - accuracy: 0.0987 - val_loss: 2.3146 - val_accuracy: 0.1042 - lr: 0.0010\n",
      "Epoch 23/100\n",
      "148/148 [==============================] - 113s 763ms/step - loss: 2.3109 - accuracy: 0.0998 - val_loss: 2.3217 - val_accuracy: 0.0910 - lr: 0.0010\n",
      "Epoch 24/100\n",
      "148/148 [==============================] - 113s 763ms/step - loss: 2.3120 - accuracy: 0.1029 - val_loss: 2.3246 - val_accuracy: 0.0991 - lr: 0.0010\n",
      "Epoch 25/100\n",
      "148/148 [==============================] - 113s 763ms/step - loss: 2.3122 - accuracy: 0.0976 - val_loss: 2.3069 - val_accuracy: 0.1006 - lr: 0.0010\n"
     ]
    },
    {
     "data": {
      "image/png": "[encoded data removed]",
      "text/plain": [
       "<Figure size 432x288 with 1 Axes>"
      ]
     },
     "metadata": {
      "needs_background": "light"
     },
     "output_type": "display_data"
    },
    {
     "data": {
      "image/png": "[encoded data removed]",
      "text/plain": [
       "<Figure size 432x288 with 1 Axes>"
      ]
     },
     "metadata": {
      "needs_background": "light"
     },
     "output_type": "display_data"
    },
    {
     "data": {
      "image/png": "[encoded data removed]",
      "text/plain": [
       "<Figure size 432x288 with 1 Axes>"
      ]
     },
     "metadata": {
      "needs_background": "light"
     },
     "output_type": "display_data"
    },
    {
     "name": "stdout",
     "output_type": "stream",
     "text": [
      "starting pgd 09:33:30\n",
      "pgd batch 0 09:33:30\n",
      "pgd batch 1 09:34:29\n",
      "pgd batch 2 09:35:29\n",
      "pgd batch 3 09:36:28\n",
      "ending pgd 09:37:28\n",
      "starting cw 09:37:28\n",
      "cw batch 0 09:37:28\n",
      "cw batch 1 10:00:12\n",
      "cw batch 2 10:22:46\n",
      "cw batch 3 10:45:20\n"
     ]
    },
    {
     "name": "stderr",
     "output_type": "stream",
     "text": [
      "\n",
      "6it [17:43:37, 10354.15s/it]\u001b[A"
     ]
    },
    {
     "name": "stdout",
     "output_type": "stream",
     "text": [
      "ending cw 11:07:55\n",
      "current pruning ratio is0.984375, current iteration is 0\n",
      "Epoch 1/100\n",
      "WARNING:tensorflow:Gradients do not exist for variables ['w:0', 'w:0', 'w:0'] when minimizing the loss.\n"
     ]
    },
    {
     "name": "stderr",
     "output_type": "stream",
     "text": [
      "WARNING:tensorflow:Gradients do not exist for variables ['w:0', 'w:0', 'w:0'] when minimizing the loss.\n"
     ]
    },
    {
     "name": "stdout",
     "output_type": "stream",
     "text": [
      "WARNING:tensorflow:Gradients do not exist for variables ['w:0', 'w:0', 'w:0'] when minimizing the loss.\n"
     ]
    },
    {
     "name": "stderr",
     "output_type": "stream",
     "text": [
      "WARNING:tensorflow:Gradients do not exist for variables ['w:0', 'w:0', 'w:0'] when minimizing the loss.\n"
     ]
    },
    {
     "name": "stdout",
     "output_type": "stream",
     "text": [
      "WARNING:tensorflow:Gradients do not exist for variables ['w:0', 'w:0', 'w:0'] when minimizing the loss.\n"
     ]
    },
    {
     "name": "stderr",
     "output_type": "stream",
     "text": [
      "WARNING:tensorflow:Gradients do not exist for variables ['w:0', 'w:0', 'w:0'] when minimizing the loss.\n"
     ]
    },
    {
     "name": "stdout",
     "output_type": "stream",
     "text": [
      "WARNING:tensorflow:Gradients do not exist for variables ['w:0', 'w:0', 'w:0'] when minimizing the loss.\n"
     ]
    },
    {
     "name": "stderr",
     "output_type": "stream",
     "text": [
      "WARNING:tensorflow:Gradients do not exist for variables ['w:0', 'w:0', 'w:0'] when minimizing the loss.\n"
     ]
    },
    {
     "name": "stdout",
     "output_type": "stream",
     "text": [
      "148/148 [==============================] - 113s 765ms/step - loss: 2.3322 - accuracy: 0.0988 - val_loss: 2.3065 - val_accuracy: 0.0910 - lr: 0.0010\n",
      "Epoch 2/100\n",
      "148/148 [==============================] - 113s 766ms/step - loss: 2.3061 - accuracy: 0.1016 - val_loss: 2.3086 - val_accuracy: 0.0910 - lr: 0.0010\n",
      "Epoch 3/100\n",
      "148/148 [==============================] - 113s 764ms/step - loss: 2.3063 - accuracy: 0.1054 - val_loss: 2.3075 - val_accuracy: 0.1017 - lr: 0.0010\n",
      "Epoch 4/100\n",
      "148/148 [==============================] - 113s 764ms/step - loss: 2.3069 - accuracy: 0.1032 - val_loss: 2.3048 - val_accuracy: 0.0991 - lr: 0.0010\n",
      "Epoch 5/100\n",
      "148/148 [==============================] - 113s 766ms/step - loss: 2.3056 - accuracy: 0.0969 - val_loss: 2.3104 - val_accuracy: 0.0910 - lr: 0.0010\n",
      "Epoch 6/100\n",
      "148/148 [==============================] - 113s 764ms/step - loss: 2.3055 - accuracy: 0.1042 - val_loss: 2.3062 - val_accuracy: 0.0991 - lr: 0.0010\n",
      "Epoch 7/100\n",
      "148/148 [==============================] - 113s 764ms/step - loss: 2.3061 - accuracy: 0.1037 - val_loss: 2.3066 - val_accuracy: 0.0994 - lr: 0.0010\n",
      "Epoch 8/100\n",
      "148/148 [==============================] - 113s 764ms/step - loss: 2.3058 - accuracy: 0.1002 - val_loss: 2.3076 - val_accuracy: 0.0986 - lr: 0.0010\n",
      "Epoch 9/100\n",
      "148/148 [==============================] - 113s 763ms/step - loss: 2.3064 - accuracy: 0.1017 - val_loss: 2.3051 - val_accuracy: 0.1004 - lr: 0.0010\n",
      "Epoch 10/100\n",
      "148/148 [==============================] - 113s 763ms/step - loss: 2.3067 - accuracy: 0.0991 - val_loss: 2.3068 - val_accuracy: 0.0910 - lr: 0.0010\n",
      "Epoch 11/100\n",
      "148/148 [==============================] - 113s 764ms/step - loss: 2.3062 - accuracy: 0.1009 - val_loss: 2.3072 - val_accuracy: 0.0910 - lr: 0.0010\n",
      "Epoch 12/100\n",
      "148/148 [==============================] - 113s 764ms/step - loss: 2.3058 - accuracy: 0.1000 - val_loss: 2.3056 - val_accuracy: 0.1042 - lr: 0.0010\n",
      "Epoch 13/100\n",
      "148/148 [==============================] - 113s 764ms/step - loss: 2.3069 - accuracy: 0.0940 - val_loss: 2.3101 - val_accuracy: 0.0910 - lr: 0.0010\n",
      "Epoch 14/100\n",
      "148/148 [==============================] - 113s 764ms/step - loss: 2.3057 - accuracy: 0.1023 - val_loss: 2.3034 - val_accuracy: 0.1017 - lr: 0.0010\n",
      "Epoch 15/100\n",
      "148/148 [==============================] - 113s 764ms/step - loss: 2.3061 - accuracy: 0.0993 - val_loss: 2.3036 - val_accuracy: 0.1068 - lr: 0.0010\n",
      "Epoch 16/100\n",
      "148/148 [==============================] - 113s 764ms/step - loss: 2.3059 - accuracy: 0.1009 - val_loss: 2.3045 - val_accuracy: 0.0994 - lr: 0.0010\n",
      "Epoch 17/100\n",
      "148/148 [==============================] - 113s 764ms/step - loss: 2.3053 - accuracy: 0.1058 - val_loss: 2.3078 - val_accuracy: 0.0986 - lr: 0.0010\n",
      "Epoch 18/100\n",
      "148/148 [==============================] - 113s 764ms/step - loss: 2.3056 - accuracy: 0.0978 - val_loss: 2.3064 - val_accuracy: 0.0910 - lr: 0.0010\n",
      "Epoch 19/100\n",
      "148/148 [==============================] - 113s 764ms/step - loss: 2.3060 - accuracy: 0.1006 - val_loss: 2.3047 - val_accuracy: 0.0910 - lr: 0.0010\n",
      "Epoch 20/100\n",
      "148/148 [==============================] - 113s 764ms/step - loss: 2.3052 - accuracy: 0.1004 - val_loss: 2.3048 - val_accuracy: 0.0991 - lr: 0.0010\n",
      "Epoch 21/100\n",
      "148/148 [==============================] - 113s 764ms/step - loss: 2.3056 - accuracy: 0.0994 - val_loss: 2.3084 - val_accuracy: 0.0910 - lr: 0.0010\n",
      "Epoch 22/100\n",
      "148/148 [==============================] - 113s 764ms/step - loss: 2.3056 - accuracy: 0.1057 - val_loss: 2.3074 - val_accuracy: 0.0910 - lr: 0.0010\n",
      "Epoch 23/100\n",
      "148/148 [==============================] - 116s 787ms/step - loss: 2.3061 - accuracy: 0.1021 - val_loss: 2.3044 - val_accuracy: 0.1017 - lr: 0.0010\n",
      "Epoch 24/100\n",
      "148/148 [==============================] - 120s 812ms/step - loss: 2.3066 - accuracy: 0.0976 - val_loss: 2.3095 - val_accuracy: 0.0910 - lr: 0.0010\n",
      "Epoch 25/100\n",
      "148/148 [==============================] - 117s 792ms/step - loss: 2.3058 - accuracy: 0.0971 - val_loss: 2.3084 - val_accuracy: 0.0910 - lr: 0.0010\n",
      "Epoch 26/100\n",
      "148/148 [==============================] - 114s 773ms/step - loss: 2.3058 - accuracy: 0.1021 - val_loss: 2.3041 - val_accuracy: 0.0983 - lr: 0.0010\n",
      "Epoch 27/100\n",
      "148/148 [==============================] - 114s 773ms/step - loss: 2.3055 - accuracy: 0.0987 - val_loss: 2.3031 - val_accuracy: 0.1068 - lr: 0.0010\n",
      "Epoch 28/100\n",
      "148/148 [==============================] - 115s 775ms/step - loss: 2.3057 - accuracy: 0.1030 - val_loss: 2.3107 - val_accuracy: 0.0910 - lr: 0.0010\n",
      "Epoch 29/100\n",
      "148/148 [==============================] - 115s 776ms/step - loss: 2.3050 - accuracy: 0.1060 - val_loss: 2.3109 - val_accuracy: 0.0986 - lr: 0.0010\n",
      "Epoch 30/100\n",
      "148/148 [==============================] - 114s 773ms/step - loss: 2.3058 - accuracy: 0.1011 - val_loss: 2.3046 - val_accuracy: 0.1017 - lr: 0.0010\n",
      "Epoch 31/100\n",
      "148/148 [==============================] - 114s 772ms/step - loss: 2.3034 - accuracy: 0.0993 - val_loss: 2.3029 - val_accuracy: 0.1006 - lr: 3.0000e-04\n",
      "Epoch 32/100\n",
      "148/148 [==============================] - 114s 772ms/step - loss: 2.3030 - accuracy: 0.0979 - val_loss: 2.3051 - val_accuracy: 0.0910 - lr: 3.0000e-04\n",
      "Epoch 33/100\n",
      "148/148 [==============================] - 114s 767ms/step - loss: 2.3034 - accuracy: 0.0985 - val_loss: 2.3040 - val_accuracy: 0.0910 - lr: 3.0000e-04\n",
      "Epoch 34/100\n",
      "148/148 [==============================] - 113s 764ms/step - loss: 2.3033 - accuracy: 0.1034 - val_loss: 2.3041 - val_accuracy: 0.0910 - lr: 3.0000e-04\n",
      "Epoch 35/100\n",
      "148/148 [==============================] - 113s 764ms/step - loss: 2.3033 - accuracy: 0.0987 - val_loss: 2.3036 - val_accuracy: 0.0910 - lr: 3.0000e-04\n",
      "Epoch 36/100\n",
      "148/148 [==============================] - 113s 764ms/step - loss: 2.3034 - accuracy: 0.0969 - val_loss: 2.3045 - val_accuracy: 0.0910 - lr: 3.0000e-04\n",
      "Epoch 37/100\n",
      "148/148 [==============================] - 113s 764ms/step - loss: 2.3031 - accuracy: 0.0978 - val_loss: 2.3037 - val_accuracy: 0.1006 - lr: 3.0000e-04\n",
      "Epoch 38/100\n",
      "148/148 [==============================] - 113s 764ms/step - loss: 2.3032 - accuracy: 0.1000 - val_loss: 2.3034 - val_accuracy: 0.0910 - lr: 3.0000e-04\n",
      "Epoch 39/100\n",
      "148/148 [==============================] - 113s 764ms/step - loss: 2.3033 - accuracy: 0.1027 - val_loss: 2.3045 - val_accuracy: 0.0910 - lr: 3.0000e-04\n",
      "Epoch 40/100\n",
      "148/148 [==============================] - 113s 764ms/step - loss: 2.3033 - accuracy: 0.0937 - val_loss: 2.3041 - val_accuracy: 0.0991 - lr: 3.0000e-04\n",
      "Epoch 41/100\n",
      "148/148 [==============================] - 113s 764ms/step - loss: 2.3035 - accuracy: 0.0990 - val_loss: 2.3027 - val_accuracy: 0.1068 - lr: 3.0000e-04\n",
      "Epoch 42/100\n",
      "148/148 [==============================] - 113s 764ms/step - loss: 2.3032 - accuracy: 0.1021 - val_loss: 2.3037 - val_accuracy: 0.1042 - lr: 3.0000e-04\n",
      "Epoch 43/100\n",
      "148/148 [==============================] - 113s 764ms/step - loss: 2.3033 - accuracy: 0.1015 - val_loss: 2.3044 - val_accuracy: 0.0986 - lr: 3.0000e-04\n",
      "Epoch 44/100\n",
      "148/148 [==============================] - 113s 764ms/step - loss: 2.3032 - accuracy: 0.1013 - val_loss: 2.3047 - val_accuracy: 0.0986 - lr: 3.0000e-04\n",
      "Epoch 45/100\n",
      "148/148 [==============================] - 113s 764ms/step - loss: 2.3034 - accuracy: 0.1012 - val_loss: 2.3048 - val_accuracy: 0.0910 - lr: 3.0000e-04\n",
      "Epoch 46/100\n",
      "148/148 [==============================] - 113s 764ms/step - loss: 2.3035 - accuracy: 0.0967 - val_loss: 2.3035 - val_accuracy: 0.0986 - lr: 3.0000e-04\n",
      "Epoch 47/100\n",
      "148/148 [==============================] - 113s 764ms/step - loss: 2.3031 - accuracy: 0.1017 - val_loss: 2.3046 - val_accuracy: 0.1004 - lr: 3.0000e-04\n",
      "Epoch 48/100\n",
      "148/148 [==============================] - 113s 764ms/step - loss: 2.3035 - accuracy: 0.1019 - val_loss: 2.3038 - val_accuracy: 0.0991 - lr: 3.0000e-04\n",
      "Epoch 49/100\n",
      "148/148 [==============================] - 113s 764ms/step - loss: 2.3031 - accuracy: 0.0996 - val_loss: 2.3035 - val_accuracy: 0.0994 - lr: 3.0000e-04\n",
      "Epoch 50/100\n",
      "148/148 [==============================] - 113s 764ms/step - loss: 2.3036 - accuracy: 0.0959 - val_loss: 2.3047 - val_accuracy: 0.0986 - lr: 3.0000e-04\n",
      "Epoch 51/100\n"
     ]
    },
    {
     "name": "stdout",
     "output_type": "stream",
     "text": [
      "148/148 [==============================] - 113s 764ms/step - loss: 2.3026 - accuracy: 0.0974 - val_loss: 2.3039 - val_accuracy: 0.0910 - lr: 1.0000e-04\n",
      "Epoch 52/100\n",
      "148/148 [==============================] - 113s 764ms/step - loss: 2.3025 - accuracy: 0.1030 - val_loss: 2.3032 - val_accuracy: 0.0910 - lr: 1.0000e-04\n",
      "Epoch 53/100\n",
      "148/148 [==============================] - 113s 764ms/step - loss: 2.3025 - accuracy: 0.1035 - val_loss: 2.3034 - val_accuracy: 0.0991 - lr: 1.0000e-04\n",
      "Epoch 54/100\n",
      "148/148 [==============================] - 113s 764ms/step - loss: 2.3025 - accuracy: 0.1037 - val_loss: 2.3035 - val_accuracy: 0.0991 - lr: 1.0000e-04\n",
      "Epoch 55/100\n",
      "148/148 [==============================] - 113s 764ms/step - loss: 2.3026 - accuracy: 0.1035 - val_loss: 2.3033 - val_accuracy: 0.0910 - lr: 1.0000e-04\n",
      "Epoch 56/100\n",
      "148/148 [==============================] - 113s 764ms/step - loss: 2.3026 - accuracy: 0.1021 - val_loss: 2.3036 - val_accuracy: 0.0910 - lr: 1.0000e-04\n",
      "Epoch 57/100\n",
      "148/148 [==============================] - 113s 764ms/step - loss: 2.3025 - accuracy: 0.1049 - val_loss: 2.3033 - val_accuracy: 0.0910 - lr: 1.0000e-04\n",
      "Epoch 58/100\n",
      "148/148 [==============================] - 113s 764ms/step - loss: 2.3023 - accuracy: 0.1027 - val_loss: 2.3038 - val_accuracy: 0.0910 - lr: 1.0000e-04\n",
      "Epoch 59/100\n",
      "148/148 [==============================] - 115s 779ms/step - loss: 2.3025 - accuracy: 0.1037 - val_loss: 2.3039 - val_accuracy: 0.0910 - lr: 1.0000e-04\n",
      "Epoch 60/100\n",
      "148/148 [==============================] - 113s 765ms/step - loss: 2.3025 - accuracy: 0.1049 - val_loss: 2.3037 - val_accuracy: 0.0910 - lr: 1.0000e-04\n",
      "Epoch 61/100\n",
      "148/148 [==============================] - 113s 765ms/step - loss: 2.3024 - accuracy: 0.1049 - val_loss: 2.3040 - val_accuracy: 0.0910 - lr: 1.0000e-04\n"
     ]
    },
    {
     "data": {
      "image/png": "[encoded data removed]",
      "text/plain": [
       "<Figure size 432x288 with 1 Axes>"
      ]
     },
     "metadata": {
      "needs_background": "light"
     },
     "output_type": "display_data"
    },
    {
     "data": {
      "image/png": "[encoded data removed]",
      "text/plain": [
       "<Figure size 432x288 with 1 Axes>"
      ]
     },
     "metadata": {
      "needs_background": "light"
     },
     "output_type": "display_data"
    },
    {
     "data": {
      "image/png": "[encoded data removed]",
      "text/plain": [
       "<Figure size 432x288 with 1 Axes>"
      ]
     },
     "metadata": {
      "needs_background": "light"
     },
     "output_type": "display_data"
    },
    {
     "name": "stdout",
     "output_type": "stream",
     "text": [
      "starting pgd 13:04:40\n",
      "pgd batch 0 13:04:40\n",
      "pgd batch 1 13:05:39\n",
      "pgd batch 2 13:06:39\n",
      "pgd batch 3 13:07:39\n",
      "ending pgd 13:08:39\n",
      "starting cw 13:08:39\n",
      "cw batch 0 13:08:39\n",
      "cw batch 1 13:31:13\n",
      "cw batch 2 17:16:49\n",
      "cw batch 3 17:39:24\n"
     ]
    },
    {
     "name": "stderr",
     "output_type": "stream",
     "text": [
      "\n",
      "7it [24:37:44, 12666.30s/it]\u001b[A\n",
      " 50%|█████     | 1/2 [24:39:40<24:39:40, 88780.46s/it]"
     ]
    },
    {
     "name": "stdout",
     "output_type": "stream",
     "text": [
      "ending cw 18:02:02\n",
      "WARNING:tensorflow:Gradients do not exist for variables ['w:0', 'w:0', 'w:0'] when minimizing the loss.\n"
     ]
    },
    {
     "name": "stderr",
     "output_type": "stream",
     "text": [
      "WARNING:tensorflow:Gradients do not exist for variables ['w:0', 'w:0', 'w:0'] when minimizing the loss.\n"
     ]
    },
    {
     "name": "stdout",
     "output_type": "stream",
     "text": [
      "WARNING:tensorflow:Gradients do not exist for variables ['w:0', 'w:0', 'w:0'] when minimizing the loss.\n"
     ]
    },
    {
     "name": "stderr",
     "output_type": "stream",
     "text": [
      "WARNING:tensorflow:Gradients do not exist for variables ['w:0', 'w:0', 'w:0'] when minimizing the loss.\n"
     ]
    },
    {
     "name": "stdout",
     "output_type": "stream",
     "text": [
      "WARNING:tensorflow:Gradients do not exist for variables ['w:0', 'w:0', 'w:0'] when minimizing the loss.\n"
     ]
    },
    {
     "name": "stderr",
     "output_type": "stream",
     "text": [
      "WARNING:tensorflow:Gradients do not exist for variables ['w:0', 'w:0', 'w:0'] when minimizing the loss.\n"
     ]
    },
    {
     "name": "stdout",
     "output_type": "stream",
     "text": [
      "WARNING:tensorflow:Gradients do not exist for variables ['w:0', 'w:0', 'w:0'] when minimizing the loss.\n"
     ]
    },
    {
     "name": "stderr",
     "output_type": "stream",
     "text": [
      "WARNING:tensorflow:Gradients do not exist for variables ['w:0', 'w:0', 'w:0'] when minimizing the loss.\n"
     ]
    },
    {
     "name": "stdout",
     "output_type": "stream",
     "text": [
      "148/148 [==============================] - 123s 834ms/step - loss: 2.1933 - accuracy: 0.2498 - val_loss: 2.5052 - val_accuracy: 0.1019\n"
     ]
    },
    {
     "name": "stderr",
     "output_type": "stream",
     "text": [
      "\n",
      "0it [00:00, ?it/s]\u001b[A"
     ]
    },
    {
     "name": "stdout",
     "output_type": "stream",
     "text": [
      "current pruning ratio is0.0, current iteration is 1\n",
      "Epoch 1/100\n",
      "WARNING:tensorflow:Gradients do not exist for variables ['w:0', 'w:0', 'w:0'] when minimizing the loss.\n"
     ]
    },
    {
     "name": "stderr",
     "output_type": "stream",
     "text": [
      "WARNING:tensorflow:Gradients do not exist for variables ['w:0', 'w:0', 'w:0'] when minimizing the loss.\n"
     ]
    },
    {
     "name": "stdout",
     "output_type": "stream",
     "text": [
      "WARNING:tensorflow:Gradients do not exist for variables ['w:0', 'w:0', 'w:0'] when minimizing the loss.\n"
     ]
    },
    {
     "name": "stderr",
     "output_type": "stream",
     "text": [
      "WARNING:tensorflow:Gradients do not exist for variables ['w:0', 'w:0', 'w:0'] when minimizing the loss.\n"
     ]
    },
    {
     "name": "stdout",
     "output_type": "stream",
     "text": [
      "WARNING:tensorflow:Gradients do not exist for variables ['w:0', 'w:0', 'w:0'] when minimizing the loss.\n"
     ]
    },
    {
     "name": "stderr",
     "output_type": "stream",
     "text": [
      "WARNING:tensorflow:Gradients do not exist for variables ['w:0', 'w:0', 'w:0'] when minimizing the loss.\n"
     ]
    },
    {
     "name": "stdout",
     "output_type": "stream",
     "text": [
      "WARNING:tensorflow:Gradients do not exist for variables ['w:0', 'w:0', 'w:0'] when minimizing the loss.\n"
     ]
    },
    {
     "name": "stderr",
     "output_type": "stream",
     "text": [
      "WARNING:tensorflow:Gradients do not exist for variables ['w:0', 'w:0', 'w:0'] when minimizing the loss.\n"
     ]
    },
    {
     "name": "stdout",
     "output_type": "stream",
     "text": [
      "148/148 [==============================] - 123s 834ms/step - loss: 1.8939 - accuracy: 0.3432 - val_loss: 2.6089 - val_accuracy: 0.1493 - lr: 0.0010\n",
      "Epoch 2/100\n",
      "148/148 [==============================] - 123s 831ms/step - loss: 1.6633 - accuracy: 0.4316 - val_loss: 2.0062 - val_accuracy: 0.3873 - lr: 0.0010\n",
      "Epoch 3/100\n",
      "148/148 [==============================] - 123s 831ms/step - loss: 1.4917 - accuracy: 0.4926 - val_loss: 2.0886 - val_accuracy: 0.3559 - lr: 0.0010\n",
      "Epoch 4/100\n",
      "148/148 [==============================] - 123s 831ms/step - loss: 1.3450 - accuracy: 0.5530 - val_loss: 2.2210 - val_accuracy: 0.3131 - lr: 0.0010\n",
      "Epoch 5/100\n",
      "148/148 [==============================] - 123s 831ms/step - loss: 1.2525 - accuracy: 0.5788 - val_loss: 1.7121 - val_accuracy: 0.4846 - lr: 0.0010\n",
      "Epoch 6/100\n",
      "148/148 [==============================] - 123s 831ms/step - loss: 1.1422 - accuracy: 0.6180 - val_loss: 1.8878 - val_accuracy: 0.4578 - lr: 0.0010\n",
      "Epoch 7/100\n",
      "148/148 [==============================] - 123s 830ms/step - loss: 1.0608 - accuracy: 0.6443 - val_loss: 1.2255 - val_accuracy: 0.6132 - lr: 0.0010\n",
      "Epoch 8/100\n",
      "148/148 [==============================] - 123s 830ms/step - loss: 0.9916 - accuracy: 0.6749 - val_loss: 1.3136 - val_accuracy: 0.5911 - lr: 0.0010\n",
      "Epoch 9/100\n",
      "148/148 [==============================] - 123s 831ms/step - loss: 0.9158 - accuracy: 0.6979 - val_loss: 1.0851 - val_accuracy: 0.6372 - lr: 0.0010\n",
      "Epoch 10/100\n",
      "148/148 [==============================] - 123s 831ms/step - loss: 0.8759 - accuracy: 0.7066 - val_loss: 1.2144 - val_accuracy: 0.6153 - lr: 0.0010\n",
      "Epoch 11/100\n",
      "148/148 [==============================] - 123s 831ms/step - loss: 0.8217 - accuracy: 0.7286 - val_loss: 1.6218 - val_accuracy: 0.4986 - lr: 0.0010\n",
      "Epoch 12/100\n",
      "148/148 [==============================] - 123s 831ms/step - loss: 0.7581 - accuracy: 0.7494 - val_loss: 1.3918 - val_accuracy: 0.5452 - lr: 0.0010\n",
      "Epoch 13/100\n",
      "148/148 [==============================] - 123s 831ms/step - loss: 0.7313 - accuracy: 0.7581 - val_loss: 1.3476 - val_accuracy: 0.6265 - lr: 0.0010\n",
      "Epoch 14/100\n",
      "148/148 [==============================] - 123s 831ms/step - loss: 0.6764 - accuracy: 0.7752 - val_loss: 1.3031 - val_accuracy: 0.6239 - lr: 0.0010\n",
      "Epoch 15/100\n",
      "148/148 [==============================] - 123s 831ms/step - loss: 0.6421 - accuracy: 0.7868 - val_loss: 1.3831 - val_accuracy: 0.5786 - lr: 0.0010\n",
      "Epoch 16/100\n",
      "148/148 [==============================] - 123s 831ms/step - loss: 0.5928 - accuracy: 0.8020 - val_loss: 1.3214 - val_accuracy: 0.6112 - lr: 0.0010\n",
      "Epoch 17/100\n",
      "148/148 [==============================] - 123s 832ms/step - loss: 0.5858 - accuracy: 0.8066 - val_loss: 1.2267 - val_accuracy: 0.6334 - lr: 0.0010\n",
      "Epoch 18/100\n",
      "148/148 [==============================] - 123s 832ms/step - loss: 0.5390 - accuracy: 0.8210 - val_loss: 0.9936 - val_accuracy: 0.7167 - lr: 0.0010\n",
      "Epoch 19/100\n",
      "148/148 [==============================] - 123s 832ms/step - loss: 0.4806 - accuracy: 0.8363 - val_loss: 1.0464 - val_accuracy: 0.7057 - lr: 0.0010\n",
      "Epoch 20/100\n",
      "148/148 [==============================] - 123s 832ms/step - loss: 0.4509 - accuracy: 0.8517 - val_loss: 0.9091 - val_accuracy: 0.7302 - lr: 0.0010\n",
      "Epoch 21/100\n",
      "148/148 [==============================] - 123s 832ms/step - loss: 0.4189 - accuracy: 0.8607 - val_loss: 0.8660 - val_accuracy: 0.7501 - lr: 0.0010\n",
      "Epoch 22/100\n",
      "148/148 [==============================] - 123s 832ms/step - loss: 0.3823 - accuracy: 0.8696 - val_loss: 0.8242 - val_accuracy: 0.7585 - lr: 0.0010\n",
      "Epoch 23/100\n",
      "148/148 [==============================] - 123s 832ms/step - loss: 0.3891 - accuracy: 0.8682 - val_loss: 1.0410 - val_accuracy: 0.7037 - lr: 0.0010\n",
      "Epoch 24/100\n",
      "148/148 [==============================] - 123s 832ms/step - loss: 0.3330 - accuracy: 0.8869 - val_loss: 0.8346 - val_accuracy: 0.7717 - lr: 0.0010\n",
      "Epoch 25/100\n",
      "148/148 [==============================] - 123s 832ms/step - loss: 0.3277 - accuracy: 0.8876 - val_loss: 1.0753 - val_accuracy: 0.7332 - lr: 0.0010\n",
      "Epoch 26/100\n",
      "148/148 [==============================] - 123s 832ms/step - loss: 0.2799 - accuracy: 0.9012 - val_loss: 1.2310 - val_accuracy: 0.7152 - lr: 0.0010\n",
      "Epoch 27/100\n",
      "148/148 [==============================] - 123s 832ms/step - loss: 0.2637 - accuracy: 0.9083 - val_loss: 1.0365 - val_accuracy: 0.7213 - lr: 0.0010\n",
      "Epoch 28/100\n",
      "148/148 [==============================] - 123s 832ms/step - loss: 0.2378 - accuracy: 0.9215 - val_loss: 1.3902 - val_accuracy: 0.6910 - lr: 0.0010\n",
      "Epoch 29/100\n",
      "148/148 [==============================] - 123s 832ms/step - loss: 0.2084 - accuracy: 0.9278 - val_loss: 0.9025 - val_accuracy: 0.7778 - lr: 0.0010\n",
      "Epoch 30/100\n",
      "148/148 [==============================] - 123s 832ms/step - loss: 0.1928 - accuracy: 0.9355 - val_loss: 1.2360 - val_accuracy: 0.7251 - lr: 0.0010\n",
      "Epoch 31/100\n",
      "148/148 [==============================] - 123s 832ms/step - loss: 0.1045 - accuracy: 0.9665 - val_loss: 0.7318 - val_accuracy: 0.8186 - lr: 3.0000e-04\n",
      "Epoch 32/100\n",
      "148/148 [==============================] - 123s 832ms/step - loss: 0.0631 - accuracy: 0.9819 - val_loss: 0.7548 - val_accuracy: 0.8234 - lr: 3.0000e-04\n",
      "Epoch 33/100\n",
      "148/148 [==============================] - 123s 832ms/step - loss: 0.0533 - accuracy: 0.9852 - val_loss: 0.7824 - val_accuracy: 0.8178 - lr: 3.0000e-04\n",
      "Epoch 34/100\n",
      "148/148 [==============================] - 123s 832ms/step - loss: 0.0461 - accuracy: 0.9870 - val_loss: 0.7984 - val_accuracy: 0.8211 - lr: 3.0000e-04\n",
      "Epoch 35/100\n",
      "148/148 [==============================] - 123s 832ms/step - loss: 0.0392 - accuracy: 0.9894 - val_loss: 0.7837 - val_accuracy: 0.8232 - lr: 3.0000e-04\n",
      "Epoch 36/100\n",
      "148/148 [==============================] - 123s 832ms/step - loss: 0.0354 - accuracy: 0.9901 - val_loss: 0.8586 - val_accuracy: 0.8140 - lr: 3.0000e-04\n",
      "Epoch 37/100\n",
      "148/148 [==============================] - 123s 832ms/step - loss: 0.0308 - accuracy: 0.9928 - val_loss: 0.8525 - val_accuracy: 0.8206 - lr: 3.0000e-04\n",
      "Epoch 38/100\n",
      "148/148 [==============================] - 123s 832ms/step - loss: 0.0314 - accuracy: 0.9913 - val_loss: 0.8919 - val_accuracy: 0.8110 - lr: 3.0000e-04\n",
      "Epoch 39/100\n",
      "148/148 [==============================] - 123s 832ms/step - loss: 0.0308 - accuracy: 0.9917 - val_loss: 0.8919 - val_accuracy: 0.8122 - lr: 3.0000e-04\n",
      "Epoch 40/100\n",
      "148/148 [==============================] - 123s 832ms/step - loss: 0.0319 - accuracy: 0.9902 - val_loss: 0.9156 - val_accuracy: 0.8115 - lr: 3.0000e-04\n",
      "Epoch 41/100\n",
      "148/148 [==============================] - 123s 832ms/step - loss: 0.0354 - accuracy: 0.9885 - val_loss: 0.9484 - val_accuracy: 0.8074 - lr: 3.0000e-04\n",
      "Epoch 42/100\n",
      "148/148 [==============================] - 123s 832ms/step - loss: 0.0339 - accuracy: 0.9900 - val_loss: 0.9033 - val_accuracy: 0.8082 - lr: 3.0000e-04\n",
      "Epoch 43/100\n",
      "148/148 [==============================] - 123s 832ms/step - loss: 0.0384 - accuracy: 0.9876 - val_loss: 0.9635 - val_accuracy: 0.8069 - lr: 3.0000e-04\n",
      "Epoch 44/100\n",
      "148/148 [==============================] - 123s 833ms/step - loss: 0.0278 - accuracy: 0.9917 - val_loss: 0.9893 - val_accuracy: 0.8082 - lr: 3.0000e-04\n",
      "Epoch 45/100\n",
      "148/148 [==============================] - 123s 832ms/step - loss: 0.0264 - accuracy: 0.9928 - val_loss: 0.9685 - val_accuracy: 0.8089 - lr: 3.0000e-04\n",
      "Epoch 46/100\n",
      "148/148 [==============================] - 123s 832ms/step - loss: 0.0287 - accuracy: 0.9920 - val_loss: 1.0311 - val_accuracy: 0.8061 - lr: 3.0000e-04\n",
      "Epoch 47/100\n",
      "148/148 [==============================] - 123s 832ms/step - loss: 0.0319 - accuracy: 0.9904 - val_loss: 0.9880 - val_accuracy: 0.8048 - lr: 3.0000e-04\n",
      "Epoch 48/100\n",
      "148/148 [==============================] - 123s 832ms/step - loss: 0.0244 - accuracy: 0.9928 - val_loss: 0.9897 - val_accuracy: 0.8066 - lr: 3.0000e-04\n",
      "Epoch 49/100\n",
      "148/148 [==============================] - 123s 832ms/step - loss: 0.0274 - accuracy: 0.9916 - val_loss: 1.0595 - val_accuracy: 0.8092 - lr: 3.0000e-04\n",
      "Epoch 50/100\n",
      "148/148 [==============================] - 123s 832ms/step - loss: 0.0236 - accuracy: 0.9926 - val_loss: 1.0345 - val_accuracy: 0.8138 - lr: 3.0000e-04\n",
      "Epoch 51/100\n"
     ]
    },
    {
     "name": "stdout",
     "output_type": "stream",
     "text": [
      "148/148 [==============================] - 123s 833ms/step - loss: 0.0135 - accuracy: 0.9973 - val_loss: 0.9905 - val_accuracy: 0.8237 - lr: 1.0000e-04\n"
     ]
    },
    {
     "data": {
      "image/png": "[encoded data removed]",
      "text/plain": [
       "<Figure size 432x288 with 1 Axes>"
      ]
     },
     "metadata": {
      "needs_background": "light"
     },
     "output_type": "display_data"
    },
    {
     "data": {
      "image/png": "[encoded data removed]",
      "text/plain": [
       "<Figure size 432x288 with 1 Axes>"
      ]
     },
     "metadata": {
      "needs_background": "light"
     },
     "output_type": "display_data"
    },
    {
     "data": {
      "image/png": "[encoded data removed]",
      "text/plain": [
       "<Figure size 432x288 with 1 Axes>"
      ]
     },
     "metadata": {
      "needs_background": "light"
     },
     "output_type": "display_data"
    },
    {
     "name": "stdout",
     "output_type": "stream",
     "text": [
      "starting bb0 19:49:57\n",
      "bb0 batch 0 19:49:58\n",
      "bb0 batch 1 19:57:49\n",
      "bb0 batch 2 20:05:42\n",
      "bb0 batch 3 20:13:35\n",
      "ending bb0 20:21:32\n",
      "starting pgd 20:21:32\n",
      "pgd batch 0 20:21:32\n",
      "pgd batch 1 20:22:32\n",
      "pgd batch 2 20:23:32\n",
      "pgd batch 3 20:24:32\n",
      "ending pgd 20:25:32\n",
      "starting cw 20:25:33\n",
      "cw batch 0 20:25:33\n",
      "cw batch 1 20:48:15\n",
      "cw batch 2 21:10:58\n",
      "cw batch 3 21:33:39\n"
     ]
    },
    {
     "name": "stderr",
     "output_type": "stream",
     "text": [
      "\n",
      "1it [3:52:14, 13934.28s/it]\u001b[A"
     ]
    },
    {
     "name": "stdout",
     "output_type": "stream",
     "text": [
      "ending cw 21:56:22\n",
      "current pruning ratio is0.5, current iteration is 1\n",
      "Epoch 1/100\n",
      "WARNING:tensorflow:Gradients do not exist for variables ['w:0', 'w:0', 'w:0'] when minimizing the loss.\n"
     ]
    },
    {
     "name": "stderr",
     "output_type": "stream",
     "text": [
      "WARNING:tensorflow:Gradients do not exist for variables ['w:0', 'w:0', 'w:0'] when minimizing the loss.\n"
     ]
    },
    {
     "name": "stdout",
     "output_type": "stream",
     "text": [
      "WARNING:tensorflow:Gradients do not exist for variables ['w:0', 'w:0', 'w:0'] when minimizing the loss.\n"
     ]
    },
    {
     "name": "stderr",
     "output_type": "stream",
     "text": [
      "WARNING:tensorflow:Gradients do not exist for variables ['w:0', 'w:0', 'w:0'] when minimizing the loss.\n"
     ]
    },
    {
     "name": "stdout",
     "output_type": "stream",
     "text": [
      "WARNING:tensorflow:Gradients do not exist for variables ['w:0', 'w:0', 'w:0'] when minimizing the loss.\n"
     ]
    },
    {
     "name": "stderr",
     "output_type": "stream",
     "text": [
      "WARNING:tensorflow:Gradients do not exist for variables ['w:0', 'w:0', 'w:0'] when minimizing the loss.\n"
     ]
    },
    {
     "name": "stdout",
     "output_type": "stream",
     "text": [
      "WARNING:tensorflow:Gradients do not exist for variables ['w:0', 'w:0', 'w:0'] when minimizing the loss.\n"
     ]
    },
    {
     "name": "stderr",
     "output_type": "stream",
     "text": [
      "WARNING:tensorflow:Gradients do not exist for variables ['w:0', 'w:0', 'w:0'] when minimizing the loss.\n"
     ]
    },
    {
     "name": "stdout",
     "output_type": "stream",
     "text": [
      "148/148 [==============================] - 124s 835ms/step - loss: 0.0833 - accuracy: 0.9725 - val_loss: 0.9366 - val_accuracy: 0.7857 - lr: 0.0010\n",
      "Epoch 2/100\n",
      "148/148 [==============================] - 124s 835ms/step - loss: 0.0699 - accuracy: 0.9772 - val_loss: 1.0055 - val_accuracy: 0.7964 - lr: 0.0010\n",
      "Epoch 3/100\n",
      "148/148 [==============================] - 124s 835ms/step - loss: 0.0610 - accuracy: 0.9807 - val_loss: 1.1974 - val_accuracy: 0.7534 - lr: 0.0010\n",
      "Epoch 4/100\n",
      "148/148 [==============================] - 124s 835ms/step - loss: 0.0658 - accuracy: 0.9777 - val_loss: 1.2060 - val_accuracy: 0.7707 - lr: 0.0010\n",
      "Epoch 5/100\n",
      "148/148 [==============================] - 123s 832ms/step - loss: 0.0750 - accuracy: 0.9759 - val_loss: 1.0698 - val_accuracy: 0.7875 - lr: 0.0010\n",
      "Epoch 6/100\n",
      "148/148 [==============================] - 123s 833ms/step - loss: 0.0680 - accuracy: 0.9769 - val_loss: 1.0599 - val_accuracy: 0.7921 - lr: 0.0010\n",
      "Epoch 7/100\n",
      "148/148 [==============================] - 124s 835ms/step - loss: 0.0587 - accuracy: 0.9805 - val_loss: 1.2478 - val_accuracy: 0.7595 - lr: 0.0010\n",
      "Epoch 8/100\n",
      "148/148 [==============================] - 123s 832ms/step - loss: 0.0628 - accuracy: 0.9790 - val_loss: 1.1249 - val_accuracy: 0.7827 - lr: 0.0010\n",
      "Epoch 9/100\n",
      "148/148 [==============================] - 123s 832ms/step - loss: 0.0562 - accuracy: 0.9824 - val_loss: 1.0012 - val_accuracy: 0.8099 - lr: 0.0010\n",
      "Epoch 10/100\n",
      "148/148 [==============================] - 123s 832ms/step - loss: 0.0498 - accuracy: 0.9836 - val_loss: 1.1003 - val_accuracy: 0.7771 - lr: 0.0010\n",
      "Epoch 11/100\n",
      "148/148 [==============================] - 123s 832ms/step - loss: 0.0564 - accuracy: 0.9803 - val_loss: 1.1948 - val_accuracy: 0.7799 - lr: 0.0010\n",
      "Epoch 12/100\n",
      "148/148 [==============================] - 123s 832ms/step - loss: 0.0482 - accuracy: 0.9832 - val_loss: 1.1344 - val_accuracy: 0.7842 - lr: 0.0010\n",
      "Epoch 13/100\n",
      "148/148 [==============================] - 124s 835ms/step - loss: 0.0492 - accuracy: 0.9828 - val_loss: 1.4262 - val_accuracy: 0.7564 - lr: 0.0010\n",
      "Epoch 14/100\n",
      "148/148 [==============================] - 123s 833ms/step - loss: 0.0448 - accuracy: 0.9846 - val_loss: 1.1580 - val_accuracy: 0.7857 - lr: 0.0010\n",
      "Epoch 15/100\n",
      "148/148 [==============================] - 123s 832ms/step - loss: 0.0597 - accuracy: 0.9804 - val_loss: 1.1266 - val_accuracy: 0.7898 - lr: 0.0010\n",
      "Epoch 16/100\n",
      "148/148 [==============================] - 123s 833ms/step - loss: 0.0511 - accuracy: 0.9827 - val_loss: 1.1147 - val_accuracy: 0.7855 - lr: 0.0010\n",
      "Epoch 17/100\n",
      "148/148 [==============================] - 123s 833ms/step - loss: 0.0563 - accuracy: 0.9796 - val_loss: 1.0401 - val_accuracy: 0.7931 - lr: 0.0010\n",
      "Epoch 18/100\n",
      "148/148 [==============================] - 123s 832ms/step - loss: 0.0472 - accuracy: 0.9841 - val_loss: 1.2369 - val_accuracy: 0.7799 - lr: 0.0010\n",
      "Epoch 19/100\n",
      "148/148 [==============================] - 123s 832ms/step - loss: 0.0388 - accuracy: 0.9871 - val_loss: 1.2732 - val_accuracy: 0.7847 - lr: 0.0010\n",
      "Epoch 20/100\n",
      "148/148 [==============================] - 123s 832ms/step - loss: 0.0357 - accuracy: 0.9891 - val_loss: 1.0990 - val_accuracy: 0.7952 - lr: 0.0010\n",
      "Epoch 21/100\n",
      "148/148 [==============================] - 123s 832ms/step - loss: 0.0364 - accuracy: 0.9891 - val_loss: 1.1271 - val_accuracy: 0.7967 - lr: 0.0010\n"
     ]
    },
    {
     "data": {
      "image/png": "[encoded data removed]",
      "text/plain": [
       "<Figure size 432x288 with 1 Axes>"
      ]
     },
     "metadata": {
      "needs_background": "light"
     },
     "output_type": "display_data"
    },
    {
     "data": {
      "image/png": "[encoded data removed]",
      "text/plain": [
       "<Figure size 432x288 with 1 Axes>"
      ]
     },
     "metadata": {
      "needs_background": "light"
     },
     "output_type": "display_data"
    },
    {
     "data": {
      "image/png": "[encoded data removed]",
      "text/plain": [
       "<Figure size 432x288 with 1 Axes>"
      ]
     },
     "metadata": {
      "needs_background": "light"
     },
     "output_type": "display_data"
    },
    {
     "name": "stdout",
     "output_type": "stream",
     "text": [
      "starting bb0 22:40:20\n",
      "bb0 batch 0 22:40:20\n",
      "bb0 batch 1 22:48:05\n",
      "bb0 batch 2 22:56:03\n",
      "bb0 batch 3 23:03:54\n",
      "ending bb0 23:12:00\n",
      "starting pgd 23:12:00\n",
      "pgd batch 0 23:12:00\n",
      "pgd batch 1 23:13:00\n",
      "pgd batch 2 23:14:00\n",
      "pgd batch 3 23:15:00\n",
      "ending pgd 23:16:00\n",
      "starting cw 23:16:01\n",
      "cw batch 0 23:16:01\n",
      "cw batch 1 23:38:43\n",
      "cw batch 2 00:01:27\n",
      "cw batch 3 00:24:09\n"
     ]
    },
    {
     "name": "stderr",
     "output_type": "stream",
     "text": [
      "\n",
      "2it [6:42:44, 12822.98s/it]\u001b[A"
     ]
    },
    {
     "name": "stdout",
     "output_type": "stream",
     "text": [
      "ending cw 00:46:52\n",
      "current pruning ratio is0.75, current iteration is 1\n",
      "Epoch 1/100\n",
      "WARNING:tensorflow:Gradients do not exist for variables ['w:0', 'w:0', 'w:0'] when minimizing the loss.\n"
     ]
    },
    {
     "name": "stderr",
     "output_type": "stream",
     "text": [
      "WARNING:tensorflow:Gradients do not exist for variables ['w:0', 'w:0', 'w:0'] when minimizing the loss.\n"
     ]
    },
    {
     "name": "stdout",
     "output_type": "stream",
     "text": [
      "WARNING:tensorflow:Gradients do not exist for variables ['w:0', 'w:0', 'w:0'] when minimizing the loss.\n"
     ]
    },
    {
     "name": "stderr",
     "output_type": "stream",
     "text": [
      "WARNING:tensorflow:Gradients do not exist for variables ['w:0', 'w:0', 'w:0'] when minimizing the loss.\n"
     ]
    },
    {
     "name": "stdout",
     "output_type": "stream",
     "text": [
      "WARNING:tensorflow:Gradients do not exist for variables ['w:0', 'w:0', 'w:0'] when minimizing the loss.\n"
     ]
    },
    {
     "name": "stderr",
     "output_type": "stream",
     "text": [
      "WARNING:tensorflow:Gradients do not exist for variables ['w:0', 'w:0', 'w:0'] when minimizing the loss.\n"
     ]
    },
    {
     "name": "stdout",
     "output_type": "stream",
     "text": [
      "WARNING:tensorflow:Gradients do not exist for variables ['w:0', 'w:0', 'w:0'] when minimizing the loss.\n"
     ]
    },
    {
     "name": "stderr",
     "output_type": "stream",
     "text": [
      "WARNING:tensorflow:Gradients do not exist for variables ['w:0', 'w:0', 'w:0'] when minimizing the loss.\n"
     ]
    },
    {
     "name": "stdout",
     "output_type": "stream",
     "text": [
      "148/148 [==============================] - 123s 833ms/step - loss: 0.2578 - accuracy: 0.9221 - val_loss: 2.0369 - val_accuracy: 0.4864 - lr: 0.0010\n",
      "Epoch 2/100\n",
      "148/148 [==============================] - 123s 830ms/step - loss: 0.0787 - accuracy: 0.9807 - val_loss: 0.8329 - val_accuracy: 0.7832 - lr: 0.0010\n",
      "Epoch 3/100\n",
      "148/148 [==============================] - 123s 830ms/step - loss: 0.0532 - accuracy: 0.9867 - val_loss: 0.8516 - val_accuracy: 0.8005 - lr: 0.0010\n",
      "Epoch 4/100\n",
      "148/148 [==============================] - 123s 831ms/step - loss: 0.0383 - accuracy: 0.9911 - val_loss: 0.8813 - val_accuracy: 0.8023 - lr: 0.0010\n",
      "Epoch 5/100\n",
      "148/148 [==============================] - 123s 830ms/step - loss: 0.0325 - accuracy: 0.9914 - val_loss: 0.9163 - val_accuracy: 0.8038 - lr: 0.0010\n",
      "Epoch 6/100\n",
      "148/148 [==============================] - 123s 830ms/step - loss: 0.0238 - accuracy: 0.9941 - val_loss: 0.9904 - val_accuracy: 0.7995 - lr: 0.0010\n",
      "Epoch 7/100\n",
      "148/148 [==============================] - 123s 831ms/step - loss: 0.0369 - accuracy: 0.9886 - val_loss: 0.9426 - val_accuracy: 0.8015 - lr: 0.0010\n",
      "Epoch 8/100\n",
      "148/148 [==============================] - 123s 830ms/step - loss: 0.0230 - accuracy: 0.9935 - val_loss: 0.9650 - val_accuracy: 0.8087 - lr: 0.0010\n",
      "Epoch 9/100\n",
      "148/148 [==============================] - 123s 830ms/step - loss: 0.0243 - accuracy: 0.9930 - val_loss: 1.0415 - val_accuracy: 0.7995 - lr: 0.0010\n",
      "Epoch 10/100\n",
      "148/148 [==============================] - 123s 831ms/step - loss: 0.0226 - accuracy: 0.9936 - val_loss: 1.0159 - val_accuracy: 0.8056 - lr: 0.0010\n",
      "Epoch 11/100\n",
      "148/148 [==============================] - 123s 830ms/step - loss: 0.0217 - accuracy: 0.9942 - val_loss: 1.0278 - val_accuracy: 0.8028 - lr: 0.0010\n",
      "Epoch 12/100\n",
      "148/148 [==============================] - 123s 830ms/step - loss: 0.0289 - accuracy: 0.9903 - val_loss: 1.0444 - val_accuracy: 0.8020 - lr: 0.0010\n",
      "Epoch 13/100\n",
      "148/148 [==============================] - 123s 830ms/step - loss: 0.0263 - accuracy: 0.9917 - val_loss: 1.0397 - val_accuracy: 0.8033 - lr: 0.0010\n",
      "Epoch 14/100\n",
      "148/148 [==============================] - 123s 830ms/step - loss: 0.0167 - accuracy: 0.9955 - val_loss: 1.0675 - val_accuracy: 0.8041 - lr: 0.0010\n",
      "Epoch 15/100\n",
      "148/148 [==============================] - 123s 831ms/step - loss: 0.0304 - accuracy: 0.9903 - val_loss: 1.1676 - val_accuracy: 0.7939 - lr: 0.0010\n",
      "Epoch 16/100\n",
      "148/148 [==============================] - 123s 830ms/step - loss: 0.0247 - accuracy: 0.9916 - val_loss: 1.0938 - val_accuracy: 0.8028 - lr: 0.0010\n",
      "Epoch 17/100\n",
      "148/148 [==============================] - 123s 830ms/step - loss: 0.0177 - accuracy: 0.9941 - val_loss: 1.0442 - val_accuracy: 0.8107 - lr: 0.0010\n",
      "Epoch 18/100\n",
      "148/148 [==============================] - 123s 830ms/step - loss: 0.0171 - accuracy: 0.9946 - val_loss: 1.1412 - val_accuracy: 0.7992 - lr: 0.0010\n",
      "Epoch 19/100\n",
      "148/148 [==============================] - 123s 830ms/step - loss: 0.0293 - accuracy: 0.9920 - val_loss: 1.1050 - val_accuracy: 0.7964 - lr: 0.0010\n",
      "Epoch 20/100\n",
      "148/148 [==============================] - 123s 830ms/step - loss: 0.0231 - accuracy: 0.9928 - val_loss: 1.2155 - val_accuracy: 0.7924 - lr: 0.0010\n",
      "Epoch 21/100\n",
      "148/148 [==============================] - 123s 830ms/step - loss: 0.0149 - accuracy: 0.9957 - val_loss: 1.2132 - val_accuracy: 0.7977 - lr: 0.0010\n",
      "Epoch 22/100\n",
      "148/148 [==============================] - 123s 830ms/step - loss: 0.0218 - accuracy: 0.9932 - val_loss: 1.0333 - val_accuracy: 0.8158 - lr: 0.0010\n"
     ]
    },
    {
     "data": {
      "image/png": "[encoded data removed]",
      "text/plain": [
       "<Figure size 432x288 with 1 Axes>"
      ]
     },
     "metadata": {
      "needs_background": "light"
     },
     "output_type": "display_data"
    },
    {
     "data": {
      "image/png": "[encoded data removed]",
      "text/plain": [
       "<Figure size 432x288 with 1 Axes>"
      ]
     },
     "metadata": {
      "needs_background": "light"
     },
     "output_type": "display_data"
    },
    {
     "data": {
      "image/png": "[encoded data removed]",
      "text/plain": [
       "<Figure size 432x288 with 1 Axes>"
      ]
     },
     "metadata": {
      "needs_background": "light"
     },
     "output_type": "display_data"
    },
    {
     "name": "stdout",
     "output_type": "stream",
     "text": [
      "starting bb0 01:32:47\n",
      "bb0 batch 0 01:32:47\n",
      "bb0 batch 1 01:40:42\n",
      "bb0 batch 2 01:48:40\n",
      "bb0 batch 3 01:56:28\n",
      "ending bb0 02:04:35\n",
      "starting pgd 02:04:35\n",
      "pgd batch 0 02:04:35\n",
      "pgd batch 1 02:05:35\n",
      "pgd batch 2 02:06:35\n",
      "pgd batch 3 02:07:35\n",
      "ending pgd 02:08:35\n",
      "starting cw 02:08:36\n",
      "cw batch 0 02:08:36\n",
      "cw batch 1 02:31:18\n",
      "cw batch 2 02:54:01\n",
      "cw batch 3 03:16:44\n"
     ]
    },
    {
     "name": "stderr",
     "output_type": "stream",
     "text": [
      "\n",
      "3it [9:35:20, 12082.87s/it]\u001b[A"
     ]
    },
    {
     "name": "stdout",
     "output_type": "stream",
     "text": [
      "ending cw 03:39:28\n",
      "current pruning ratio is0.875, current iteration is 1\n",
      "Epoch 1/100\n",
      "WARNING:tensorflow:Gradients do not exist for variables ['w:0', 'w:0', 'w:0'] when minimizing the loss.\n"
     ]
    },
    {
     "name": "stderr",
     "output_type": "stream",
     "text": [
      "WARNING:tensorflow:Gradients do not exist for variables ['w:0', 'w:0', 'w:0'] when minimizing the loss.\n"
     ]
    },
    {
     "name": "stdout",
     "output_type": "stream",
     "text": [
      "WARNING:tensorflow:Gradients do not exist for variables ['w:0', 'w:0', 'w:0'] when minimizing the loss.\n"
     ]
    },
    {
     "name": "stderr",
     "output_type": "stream",
     "text": [
      "WARNING:tensorflow:Gradients do not exist for variables ['w:0', 'w:0', 'w:0'] when minimizing the loss.\n"
     ]
    },
    {
     "name": "stdout",
     "output_type": "stream",
     "text": [
      "WARNING:tensorflow:Gradients do not exist for variables ['w:0', 'w:0', 'w:0'] when minimizing the loss.\n"
     ]
    },
    {
     "name": "stderr",
     "output_type": "stream",
     "text": [
      "WARNING:tensorflow:Gradients do not exist for variables ['w:0', 'w:0', 'w:0'] when minimizing the loss.\n"
     ]
    },
    {
     "name": "stdout",
     "output_type": "stream",
     "text": [
      "WARNING:tensorflow:Gradients do not exist for variables ['w:0', 'w:0', 'w:0'] when minimizing the loss.\n"
     ]
    },
    {
     "name": "stderr",
     "output_type": "stream",
     "text": [
      "WARNING:tensorflow:Gradients do not exist for variables ['w:0', 'w:0', 'w:0'] when minimizing the loss.\n"
     ]
    },
    {
     "name": "stdout",
     "output_type": "stream",
     "text": [
      "148/148 [==============================] - 123s 832ms/step - loss: 0.3647 - accuracy: 0.8779 - val_loss: 1.4655 - val_accuracy: 0.5587 - lr: 0.0010\n",
      "Epoch 2/100\n",
      "148/148 [==============================] - 123s 830ms/step - loss: 0.1220 - accuracy: 0.9639 - val_loss: 0.7150 - val_accuracy: 0.7975 - lr: 0.0010\n",
      "Epoch 3/100\n",
      "148/148 [==============================] - 123s 829ms/step - loss: 0.0750 - accuracy: 0.9788 - val_loss: 0.7198 - val_accuracy: 0.8112 - lr: 0.0010\n",
      "Epoch 4/100\n",
      "148/148 [==============================] - 123s 829ms/step - loss: 0.0486 - accuracy: 0.9904 - val_loss: 0.7706 - val_accuracy: 0.8132 - lr: 0.0010\n",
      "Epoch 5/100\n",
      "148/148 [==============================] - 123s 830ms/step - loss: 0.0363 - accuracy: 0.9921 - val_loss: 0.8087 - val_accuracy: 0.8143 - lr: 0.0010\n",
      "Epoch 6/100\n",
      "148/148 [==============================] - 123s 829ms/step - loss: 0.0308 - accuracy: 0.9931 - val_loss: 0.8786 - val_accuracy: 0.8064 - lr: 0.0010\n",
      "Epoch 7/100\n",
      "148/148 [==============================] - 123s 829ms/step - loss: 0.0271 - accuracy: 0.9937 - val_loss: 0.8626 - val_accuracy: 0.8038 - lr: 0.0010\n",
      "Epoch 8/100\n",
      "148/148 [==============================] - 123s 829ms/step - loss: 0.0230 - accuracy: 0.9946 - val_loss: 0.8779 - val_accuracy: 0.8145 - lr: 0.0010\n",
      "Epoch 9/100\n",
      "148/148 [==============================] - 123s 829ms/step - loss: 0.0280 - accuracy: 0.9918 - val_loss: 0.9577 - val_accuracy: 0.8089 - lr: 0.0010\n",
      "Epoch 10/100\n",
      "148/148 [==============================] - 123s 829ms/step - loss: 0.0240 - accuracy: 0.9932 - val_loss: 0.9513 - val_accuracy: 0.8099 - lr: 0.0010\n",
      "Epoch 11/100\n",
      "148/148 [==============================] - 123s 829ms/step - loss: 0.0212 - accuracy: 0.9943 - val_loss: 0.9467 - val_accuracy: 0.8033 - lr: 0.0010\n",
      "Epoch 12/100\n",
      "148/148 [==============================] - 123s 829ms/step - loss: 0.0157 - accuracy: 0.9962 - val_loss: 0.9909 - val_accuracy: 0.8110 - lr: 0.0010\n",
      "Epoch 13/100\n",
      "148/148 [==============================] - 123s 829ms/step - loss: 0.0220 - accuracy: 0.9943 - val_loss: 0.8946 - val_accuracy: 0.8181 - lr: 0.0010\n",
      "Epoch 14/100\n",
      "148/148 [==============================] - 123s 829ms/step - loss: 0.0187 - accuracy: 0.9944 - val_loss: 1.0173 - val_accuracy: 0.8089 - lr: 0.0010\n",
      "Epoch 15/100\n",
      "148/148 [==============================] - 123s 829ms/step - loss: 0.0199 - accuracy: 0.9939 - val_loss: 0.9925 - val_accuracy: 0.8110 - lr: 0.0010\n",
      "Epoch 16/100\n",
      "148/148 [==============================] - 123s 829ms/step - loss: 0.0205 - accuracy: 0.9940 - val_loss: 0.9850 - val_accuracy: 0.8082 - lr: 0.0010\n",
      "Epoch 17/100\n",
      "148/148 [==============================] - 123s 829ms/step - loss: 0.0172 - accuracy: 0.9942 - val_loss: 1.0145 - val_accuracy: 0.8178 - lr: 0.0010\n",
      "Epoch 18/100\n",
      "148/148 [==============================] - 123s 829ms/step - loss: 0.0146 - accuracy: 0.9958 - val_loss: 0.9911 - val_accuracy: 0.8102 - lr: 0.0010\n",
      "Epoch 19/100\n",
      "148/148 [==============================] - 123s 829ms/step - loss: 0.0139 - accuracy: 0.9964 - val_loss: 1.1296 - val_accuracy: 0.7903 - lr: 0.0010\n",
      "Epoch 20/100\n",
      "148/148 [==============================] - 123s 829ms/step - loss: 0.0215 - accuracy: 0.9933 - val_loss: 1.1633 - val_accuracy: 0.7964 - lr: 0.0010\n",
      "Epoch 21/100\n",
      "148/148 [==============================] - 123s 829ms/step - loss: 0.0267 - accuracy: 0.9907 - val_loss: 1.0955 - val_accuracy: 0.8023 - lr: 0.0010\n",
      "Epoch 22/100\n",
      "148/148 [==============================] - 123s 829ms/step - loss: 0.0192 - accuracy: 0.9943 - val_loss: 1.0399 - val_accuracy: 0.8061 - lr: 0.0010\n"
     ]
    },
    {
     "data": {
      "image/png": "[encoded data removed]",
      "text/plain": [
       "<Figure size 432x288 with 1 Axes>"
      ]
     },
     "metadata": {
      "needs_background": "light"
     },
     "output_type": "display_data"
    },
    {
     "data": {
      "image/png": "[encoded data removed]",
      "text/plain": [
       "<Figure size 432x288 with 1 Axes>"
      ]
     },
     "metadata": {
      "needs_background": "light"
     },
     "output_type": "display_data"
    },
    {
     "data": {
      "image/png": "[encoded data removed]",
      "text/plain": [
       "<Figure size 432x288 with 1 Axes>"
      ]
     },
     "metadata": {
      "needs_background": "light"
     },
     "output_type": "display_data"
    },
    {
     "name": "stdout",
     "output_type": "stream",
     "text": [
      "starting bb0 04:25:19\n",
      "bb0 batch 0 04:25:19\n",
      "bb0 batch 1 04:33:27\n",
      "bb0 batch 2 04:41:35\n",
      "bb0 batch 3 04:49:30\n",
      "ending bb0 04:57:37\n",
      "starting pgd 04:57:37\n",
      "pgd batch 0 04:57:37\n",
      "pgd batch 1 04:58:37\n",
      "pgd batch 2 04:59:37\n",
      "pgd batch 3 05:00:37\n",
      "ending pgd 05:01:37\n",
      "starting cw 05:01:37\n",
      "cw batch 0 05:01:37\n",
      "cw batch 1 05:24:20\n",
      "cw batch 2 05:47:03\n",
      "cw batch 3 06:09:45\n"
     ]
    },
    {
     "name": "stderr",
     "output_type": "stream",
     "text": [
      "\n",
      "4it [12:28:21, 11572.38s/it]\u001b[A"
     ]
    },
    {
     "name": "stdout",
     "output_type": "stream",
     "text": [
      "ending cw 06:32:29\n",
      "current pruning ratio is0.9375, current iteration is 1\n",
      "Epoch 1/100\n",
      "WARNING:tensorflow:Gradients do not exist for variables ['w:0', 'w:0', 'w:0'] when minimizing the loss.\n"
     ]
    },
    {
     "name": "stderr",
     "output_type": "stream",
     "text": [
      "WARNING:tensorflow:Gradients do not exist for variables ['w:0', 'w:0', 'w:0'] when minimizing the loss.\n"
     ]
    },
    {
     "name": "stdout",
     "output_type": "stream",
     "text": [
      "WARNING:tensorflow:Gradients do not exist for variables ['w:0', 'w:0', 'w:0'] when minimizing the loss.\n"
     ]
    },
    {
     "name": "stderr",
     "output_type": "stream",
     "text": [
      "WARNING:tensorflow:Gradients do not exist for variables ['w:0', 'w:0', 'w:0'] when minimizing the loss.\n"
     ]
    },
    {
     "name": "stdout",
     "output_type": "stream",
     "text": [
      "WARNING:tensorflow:Gradients do not exist for variables ['w:0', 'w:0', 'w:0'] when minimizing the loss.\n"
     ]
    },
    {
     "name": "stderr",
     "output_type": "stream",
     "text": [
      "WARNING:tensorflow:Gradients do not exist for variables ['w:0', 'w:0', 'w:0'] when minimizing the loss.\n"
     ]
    },
    {
     "name": "stdout",
     "output_type": "stream",
     "text": [
      "WARNING:tensorflow:Gradients do not exist for variables ['w:0', 'w:0', 'w:0'] when minimizing the loss.\n"
     ]
    },
    {
     "name": "stderr",
     "output_type": "stream",
     "text": [
      "WARNING:tensorflow:Gradients do not exist for variables ['w:0', 'w:0', 'w:0'] when minimizing the loss.\n"
     ]
    },
    {
     "name": "stdout",
     "output_type": "stream",
     "text": [
      "148/148 [==============================] - 123s 831ms/step - loss: 0.2756 - accuracy: 0.9153 - val_loss: 0.7971 - val_accuracy: 0.7845 - lr: 0.0010\n",
      "Epoch 2/100\n",
      "148/148 [==============================] - 123s 829ms/step - loss: 0.0517 - accuracy: 0.9902 - val_loss: 0.7171 - val_accuracy: 0.8196 - lr: 0.0010\n",
      "Epoch 3/100\n",
      "148/148 [==============================] - 123s 829ms/step - loss: 0.0371 - accuracy: 0.9930 - val_loss: 0.7640 - val_accuracy: 0.8161 - lr: 0.0010\n",
      "Epoch 4/100\n",
      "148/148 [==============================] - 123s 829ms/step - loss: 0.0263 - accuracy: 0.9947 - val_loss: 0.7879 - val_accuracy: 0.8178 - lr: 0.0010\n",
      "Epoch 5/100\n",
      "148/148 [==============================] - 123s 831ms/step - loss: 0.0217 - accuracy: 0.9956 - val_loss: 0.8178 - val_accuracy: 0.8196 - lr: 0.0010\n",
      "Epoch 6/100\n",
      "148/148 [==============================] - 123s 832ms/step - loss: 0.0169 - accuracy: 0.9970 - val_loss: 0.8222 - val_accuracy: 0.8204 - lr: 0.0010\n",
      "Epoch 7/100\n",
      "148/148 [==============================] - 123s 831ms/step - loss: 0.0165 - accuracy: 0.9968 - val_loss: 0.8545 - val_accuracy: 0.8217 - lr: 0.0010\n",
      "Epoch 8/100\n",
      "148/148 [==============================] - 123s 831ms/step - loss: 0.0195 - accuracy: 0.9952 - val_loss: 0.8717 - val_accuracy: 0.8173 - lr: 0.0010\n",
      "Epoch 9/100\n",
      "148/148 [==============================] - 123s 831ms/step - loss: 0.0159 - accuracy: 0.9962 - val_loss: 0.9215 - val_accuracy: 0.8130 - lr: 0.0010\n",
      "Epoch 10/100\n",
      "148/148 [==============================] - 123s 831ms/step - loss: 0.0127 - accuracy: 0.9978 - val_loss: 0.9356 - val_accuracy: 0.8097 - lr: 0.0010\n",
      "Epoch 11/100\n",
      "148/148 [==============================] - 123s 831ms/step - loss: 0.0191 - accuracy: 0.9954 - val_loss: 0.9432 - val_accuracy: 0.8051 - lr: 0.0010\n",
      "Epoch 12/100\n",
      "148/148 [==============================] - 123s 831ms/step - loss: 0.0213 - accuracy: 0.9939 - val_loss: 1.0741 - val_accuracy: 0.7997 - lr: 0.0010\n",
      "Epoch 13/100\n",
      "148/148 [==============================] - 123s 829ms/step - loss: 0.0189 - accuracy: 0.9950 - val_loss: 0.9430 - val_accuracy: 0.8117 - lr: 0.0010\n",
      "Epoch 14/100\n",
      "148/148 [==============================] - 123s 829ms/step - loss: 0.0100 - accuracy: 0.9983 - val_loss: 0.9009 - val_accuracy: 0.8232 - lr: 0.0010\n",
      "Epoch 15/100\n",
      "148/148 [==============================] - 123s 829ms/step - loss: 0.0113 - accuracy: 0.9970 - val_loss: 0.9561 - val_accuracy: 0.8153 - lr: 0.0010\n",
      "Epoch 16/100\n",
      "148/148 [==============================] - 123s 829ms/step - loss: 0.0140 - accuracy: 0.9963 - val_loss: 1.0378 - val_accuracy: 0.8120 - lr: 0.0010\n",
      "Epoch 17/100\n",
      "148/148 [==============================] - 123s 831ms/step - loss: 0.0144 - accuracy: 0.9959 - val_loss: 1.1256 - val_accuracy: 0.8000 - lr: 0.0010\n",
      "Epoch 18/100\n",
      "148/148 [==============================] - 123s 829ms/step - loss: 0.0242 - accuracy: 0.9936 - val_loss: 1.0568 - val_accuracy: 0.8122 - lr: 0.0010\n",
      "Epoch 19/100\n",
      "148/148 [==============================] - 123s 829ms/step - loss: 0.0215 - accuracy: 0.9933 - val_loss: 1.0410 - val_accuracy: 0.8018 - lr: 0.0010\n",
      "Epoch 20/100\n",
      "148/148 [==============================] - 123s 831ms/step - loss: 0.0201 - accuracy: 0.9936 - val_loss: 1.2171 - val_accuracy: 0.7850 - lr: 0.0010\n",
      "Epoch 21/100\n",
      "148/148 [==============================] - 123s 829ms/step - loss: 0.0144 - accuracy: 0.9957 - val_loss: 1.2118 - val_accuracy: 0.7985 - lr: 0.0010\n",
      "Epoch 22/100\n",
      "148/148 [==============================] - 123s 829ms/step - loss: 0.0114 - accuracy: 0.9969 - val_loss: 0.9910 - val_accuracy: 0.8148 - lr: 0.0010\n"
     ]
    },
    {
     "data": {
      "image/png": "[encoded data removed]",
      "text/plain": [
       "<Figure size 432x288 with 1 Axes>"
      ]
     },
     "metadata": {
      "needs_background": "light"
     },
     "output_type": "display_data"
    },
    {
     "data": {
      "image/png": "[encoded data removed]",
      "text/plain": [
       "<Figure size 432x288 with 1 Axes>"
      ]
     },
     "metadata": {
      "needs_background": "light"
     },
     "output_type": "display_data"
    },
    {
     "data": {
      "image/png": "[encoded data removed]",
      "text/plain": [
       "<Figure size 432x288 with 1 Axes>"
      ]
     },
     "metadata": {
      "needs_background": "light"
     },
     "output_type": "display_data"
    },
    {
     "name": "stdout",
     "output_type": "stream",
     "text": [
      "starting bb0 07:18:22\n",
      "bb0 batch 0 07:18:23\n",
      "bb0 batch 1 07:26:29\n",
      "bb0 batch 2 07:34:30\n",
      "bb0 batch 3 07:42:33\n",
      "ending bb0 07:50:30\n",
      "starting pgd 07:50:30\n",
      "pgd batch 0 07:50:30\n",
      "pgd batch 1 07:51:30\n",
      "pgd batch 2 07:52:30\n",
      "pgd batch 3 07:53:30\n",
      "ending pgd 07:54:30\n",
      "starting cw 07:54:30\n",
      "cw batch 0 07:54:30\n",
      "cw batch 1 08:17:14\n",
      "cw batch 2 08:39:57\n",
      "cw batch 3 09:02:40\n"
     ]
    },
    {
     "name": "stderr",
     "output_type": "stream",
     "text": [
      "\n",
      "5it [15:21:21, 11214.71s/it]\u001b[A"
     ]
    },
    {
     "name": "stdout",
     "output_type": "stream",
     "text": [
      "ending cw 09:25:29\n",
      "current pruning ratio is0.96875, current iteration is 1\n",
      "Epoch 1/100\n",
      "WARNING:tensorflow:Gradients do not exist for variables ['w:0', 'w:0', 'w:0'] when minimizing the loss.\n"
     ]
    },
    {
     "name": "stderr",
     "output_type": "stream",
     "text": [
      "WARNING:tensorflow:Gradients do not exist for variables ['w:0', 'w:0', 'w:0'] when minimizing the loss.\n"
     ]
    },
    {
     "name": "stdout",
     "output_type": "stream",
     "text": [
      "WARNING:tensorflow:Gradients do not exist for variables ['w:0', 'w:0', 'w:0'] when minimizing the loss.\n"
     ]
    },
    {
     "name": "stderr",
     "output_type": "stream",
     "text": [
      "WARNING:tensorflow:Gradients do not exist for variables ['w:0', 'w:0', 'w:0'] when minimizing the loss.\n"
     ]
    },
    {
     "name": "stdout",
     "output_type": "stream",
     "text": [
      "WARNING:tensorflow:Gradients do not exist for variables ['w:0', 'w:0', 'w:0'] when minimizing the loss.\n"
     ]
    },
    {
     "name": "stderr",
     "output_type": "stream",
     "text": [
      "WARNING:tensorflow:Gradients do not exist for variables ['w:0', 'w:0', 'w:0'] when minimizing the loss.\n"
     ]
    },
    {
     "name": "stdout",
     "output_type": "stream",
     "text": [
      "WARNING:tensorflow:Gradients do not exist for variables ['w:0', 'w:0', 'w:0'] when minimizing the loss.\n"
     ]
    },
    {
     "name": "stderr",
     "output_type": "stream",
     "text": [
      "WARNING:tensorflow:Gradients do not exist for variables ['w:0', 'w:0', 'w:0'] when minimizing the loss.\n"
     ]
    },
    {
     "name": "stdout",
     "output_type": "stream",
     "text": [
      "148/148 [==============================] - 120s 814ms/step - loss: 2.3559 - accuracy: 0.1010 - val_loss: 2.9959 - val_accuracy: 0.0986 - lr: 0.0010\n",
      "Epoch 2/100\n",
      "148/148 [==============================] - 120s 811ms/step - loss: 2.3096 - accuracy: 0.0985 - val_loss: 2.4839 - val_accuracy: 0.0986 - lr: 0.0010\n",
      "Epoch 3/100\n",
      "148/148 [==============================] - 120s 811ms/step - loss: 2.3114 - accuracy: 0.1000 - val_loss: 2.3255 - val_accuracy: 0.0986 - lr: 0.0010\n",
      "Epoch 4/100\n",
      "148/148 [==============================] - 120s 811ms/step - loss: 2.3132 - accuracy: 0.0964 - val_loss: 2.3148 - val_accuracy: 0.1006 - lr: 0.0010\n",
      "Epoch 5/100\n",
      "148/148 [==============================] - 120s 810ms/step - loss: 2.3110 - accuracy: 0.1009 - val_loss: 2.3076 - val_accuracy: 0.0986 - lr: 0.0010\n",
      "Epoch 6/100\n",
      "148/148 [==============================] - 120s 810ms/step - loss: 2.3115 - accuracy: 0.0966 - val_loss: 2.3212 - val_accuracy: 0.1017 - lr: 0.0010\n",
      "Epoch 7/100\n",
      "148/148 [==============================] - 120s 810ms/step - loss: 2.3131 - accuracy: 0.1010 - val_loss: 2.3170 - val_accuracy: 0.0910 - lr: 0.0010\n",
      "Epoch 8/100\n",
      "148/148 [==============================] - 120s 810ms/step - loss: 2.3113 - accuracy: 0.0974 - val_loss: 2.3179 - val_accuracy: 0.0910 - lr: 0.0010\n",
      "Epoch 9/100\n",
      "148/148 [==============================] - 120s 810ms/step - loss: 2.3130 - accuracy: 0.0946 - val_loss: 2.3162 - val_accuracy: 0.0986 - lr: 0.0010\n",
      "Epoch 10/100\n",
      "148/148 [==============================] - 120s 810ms/step - loss: 2.3124 - accuracy: 0.0984 - val_loss: 2.3134 - val_accuracy: 0.1004 - lr: 0.0010\n",
      "Epoch 11/100\n",
      "148/148 [==============================] - 120s 810ms/step - loss: 2.3115 - accuracy: 0.1001 - val_loss: 2.3072 - val_accuracy: 0.0983 - lr: 0.0010\n",
      "Epoch 12/100\n",
      "148/148 [==============================] - 120s 810ms/step - loss: 2.3112 - accuracy: 0.0946 - val_loss: 2.3228 - val_accuracy: 0.0910 - lr: 0.0010\n",
      "Epoch 13/100\n",
      "148/148 [==============================] - 120s 810ms/step - loss: 2.3125 - accuracy: 0.0969 - val_loss: 2.3151 - val_accuracy: 0.0991 - lr: 0.0010\n",
      "Epoch 14/100\n",
      "148/148 [==============================] - 120s 810ms/step - loss: 2.3123 - accuracy: 0.0998 - val_loss: 2.3085 - val_accuracy: 0.1004 - lr: 0.0010\n",
      "Epoch 15/100\n",
      "148/148 [==============================] - 119s 807ms/step - loss: 2.3099 - accuracy: 0.1011 - val_loss: 2.3360 - val_accuracy: 0.1017 - lr: 0.0010\n",
      "Epoch 16/100\n",
      "148/148 [==============================] - 119s 807ms/step - loss: 2.3125 - accuracy: 0.0980 - val_loss: 2.3069 - val_accuracy: 0.1017 - lr: 0.0010\n",
      "Epoch 17/100\n",
      "148/148 [==============================] - 119s 807ms/step - loss: 2.3093 - accuracy: 0.1075 - val_loss: 2.3099 - val_accuracy: 0.0910 - lr: 0.0010\n",
      "Epoch 18/100\n",
      "148/148 [==============================] - 119s 807ms/step - loss: 2.3123 - accuracy: 0.1000 - val_loss: 2.3079 - val_accuracy: 0.1042 - lr: 0.0010\n",
      "Epoch 19/100\n",
      "148/148 [==============================] - 119s 807ms/step - loss: 2.3107 - accuracy: 0.0997 - val_loss: 2.3076 - val_accuracy: 0.1004 - lr: 0.0010\n",
      "Epoch 20/100\n",
      "148/148 [==============================] - 119s 807ms/step - loss: 2.3104 - accuracy: 0.0983 - val_loss: 2.3116 - val_accuracy: 0.0994 - lr: 0.0010\n",
      "Epoch 21/100\n",
      "148/148 [==============================] - 119s 807ms/step - loss: 2.3114 - accuracy: 0.0999 - val_loss: 2.3202 - val_accuracy: 0.0910 - lr: 0.0010\n",
      "Epoch 22/100\n",
      "148/148 [==============================] - 125s 841ms/step - loss: 2.3093 - accuracy: 0.1007 - val_loss: 2.3170 - val_accuracy: 0.0994 - lr: 0.0010\n",
      "Epoch 23/100\n",
      "148/148 [==============================] - 127s 860ms/step - loss: 2.3121 - accuracy: 0.0957 - val_loss: 2.3156 - val_accuracy: 0.1017 - lr: 0.0010\n",
      "Epoch 24/100\n",
      "148/148 [==============================] - 123s 829ms/step - loss: 2.3097 - accuracy: 0.0923 - val_loss: 2.3083 - val_accuracy: 0.1004 - lr: 0.0010\n",
      "Epoch 25/100\n",
      "148/148 [==============================] - 121s 821ms/step - loss: 2.3122 - accuracy: 0.0956 - val_loss: 2.3093 - val_accuracy: 0.1068 - lr: 0.0010\n",
      "Epoch 26/100\n",
      "148/148 [==============================] - 122s 823ms/step - loss: 2.3115 - accuracy: 0.0983 - val_loss: 2.3167 - val_accuracy: 0.1068 - lr: 0.0010\n",
      "Epoch 27/100\n",
      "148/148 [==============================] - 121s 819ms/step - loss: 2.3109 - accuracy: 0.0962 - val_loss: 2.3089 - val_accuracy: 0.0994 - lr: 0.0010\n",
      "Epoch 28/100\n",
      "148/148 [==============================] - 126s 849ms/step - loss: 2.3086 - accuracy: 0.1001 - val_loss: 2.3162 - val_accuracy: 0.1004 - lr: 0.0010\n",
      "Epoch 29/100\n",
      "148/148 [==============================] - 133s 900ms/step - loss: 2.3099 - accuracy: 0.0982 - val_loss: 2.3148 - val_accuracy: 0.1004 - lr: 0.0010\n",
      "Epoch 30/100\n",
      "148/148 [==============================] - 128s 862ms/step - loss: 2.3089 - accuracy: 0.0987 - val_loss: 2.3085 - val_accuracy: 0.1017 - lr: 0.0010\n",
      "Epoch 31/100\n",
      "148/148 [==============================] - 122s 827ms/step - loss: 2.3051 - accuracy: 0.0967 - val_loss: 2.3039 - val_accuracy: 0.0991 - lr: 3.0000e-04\n",
      "Epoch 32/100\n",
      "148/148 [==============================] - 119s 807ms/step - loss: 2.3046 - accuracy: 0.0967 - val_loss: 2.3068 - val_accuracy: 0.0991 - lr: 3.0000e-04\n",
      "Epoch 33/100\n",
      "148/148 [==============================] - 121s 817ms/step - loss: 2.3036 - accuracy: 0.1034 - val_loss: 2.3039 - val_accuracy: 0.0991 - lr: 3.0000e-04\n",
      "Epoch 34/100\n",
      "148/148 [==============================] - 121s 816ms/step - loss: 2.3043 - accuracy: 0.1034 - val_loss: 2.3056 - val_accuracy: 0.0994 - lr: 3.0000e-04\n",
      "Epoch 35/100\n",
      "148/148 [==============================] - 121s 817ms/step - loss: 2.3045 - accuracy: 0.0960 - val_loss: 2.3063 - val_accuracy: 0.0994 - lr: 3.0000e-04\n",
      "Epoch 36/100\n",
      "148/148 [==============================] - 121s 816ms/step - loss: 2.3049 - accuracy: 0.1014 - val_loss: 2.3050 - val_accuracy: 0.0994 - lr: 3.0000e-04\n",
      "Epoch 37/100\n",
      "148/148 [==============================] - 121s 817ms/step - loss: 2.3052 - accuracy: 0.1029 - val_loss: 2.3048 - val_accuracy: 0.1004 - lr: 3.0000e-04\n",
      "Epoch 38/100\n",
      "148/148 [==============================] - 121s 816ms/step - loss: 2.3048 - accuracy: 0.0999 - val_loss: 2.3039 - val_accuracy: 0.0994 - lr: 3.0000e-04\n",
      "Epoch 39/100\n",
      "148/148 [==============================] - 121s 816ms/step - loss: 2.3048 - accuracy: 0.0986 - val_loss: 2.3050 - val_accuracy: 0.1004 - lr: 3.0000e-04\n",
      "Epoch 40/100\n",
      "148/148 [==============================] - 122s 823ms/step - loss: 2.3056 - accuracy: 0.1017 - val_loss: 2.3083 - val_accuracy: 0.0910 - lr: 3.0000e-04\n",
      "Epoch 41/100\n",
      "148/148 [==============================] - 123s 829ms/step - loss: 2.3044 - accuracy: 0.1000 - val_loss: 2.3073 - val_accuracy: 0.0910 - lr: 3.0000e-04\n",
      "Epoch 42/100\n",
      "148/148 [==============================] - 124s 838ms/step - loss: 2.3049 - accuracy: 0.0963 - val_loss: 2.3041 - val_accuracy: 0.0910 - lr: 3.0000e-04\n",
      "Epoch 43/100\n",
      "102/148 [===================>..........] - ETA: 34s - loss: 2.3058 - accuracy: 0.0913"
     ]
    }
   ],
   "source": [
    "run_experiment(\n",
    "    structure='unstructured', \n",
    "    method='magnitude', \n",
    "    scope='local', \n",
    "    iterations=ITERATIONS\n",
    ")"
   ]
  },
  {
   "cell_type": "code",
   "execution_count": null,
   "metadata": {},
   "outputs": [],
   "source": [
    "run_experiment(\n",
    "    structure='unstructured', \n",
    "    method='magnitude', \n",
    "    scope='global', \n",
    "    iterations=ITERATIONS\n",
    ")"
   ]
  },
  {
   "cell_type": "code",
   "execution_count": null,
   "metadata": {},
   "outputs": [],
   "source": [
    "run_experiment(\n",
    "    structure='structured', \n",
    "    method='random', \n",
    "    scope='local', \n",
    "    iterations=ITERATIONS\n",
    ")"
   ]
  },
  {
   "cell_type": "code",
   "execution_count": null,
   "metadata": {},
   "outputs": [],
   "source": [
    "run_experiment(\n",
    "    structure='structured', \n",
    "    method='magnitude', \n",
    "    scope='local', \n",
    "    iterations=ITERATIONS\n",
    ")"
   ]
  },
  {
   "cell_type": "code",
   "execution_count": null,
   "metadata": {},
   "outputs": [],
   "source": [
    "run_experiment(\n",
    "    structure='structured', \n",
    "    method='magnitude', \n",
    "    scope='global', \n",
    "    iterations=ITERATIONS\n",
    ")"
   ]
  },
  {
   "cell_type": "code",
   "execution_count": 3,
   "metadata": {},
   "outputs": [],
   "source": [
    "def run_experiment(structure='unstructured', method='random', scope='global', iterations=10):\n",
    "    experiment_name = f'{EXPERIMENT_TYPE}-{ARCHITECTURE}-{method}-{scope}-{structure}'\n",
    "    cols = ['iteration','experiment_name','structure','method','scope','pruning_ratio','accuracy','loss','pgd_linf','cw_l2','bb_l0', 'total_params', 'params_left']\n",
    "    results = pd.DataFrame(columns=cols, dtype='object')\n",
    "    pgd_success_rates = []\n",
    "    cw_success_rates = []\n",
    "    bb0_success_rates = []\n",
    "    all_accuracies = []\n",
    "\n",
    "    \n",
    "    compression_rates = [tf.math.pow(2, x).numpy() for x in range(7)]\n",
    "    pruning_ratios = [1-1/x for x in compression_rates]\n",
    "\n",
    "    \n",
    "    for j in tqdm(range(iterations)):\n",
    "        accuracies = []\n",
    "        pgd_success_rate = []\n",
    "        cw_success_rate = []\n",
    "        bb0_success_rate = []\n",
    "        try: \n",
    "            del model\n",
    "        except:\n",
    "            ;\n",
    "        tf.compat.v1.reset_default_graph()\n",
    "        tf.keras.backend.clear_session()\n",
    "        \n",
    "        model = initialize_base_model(j ,experiment_name=experiment_name, lr=1e-3, )\n",
    "\n",
    "        for index, pruning_ratio in tqdm(enumerate(pruning_ratios)):\n",
    "\n",
    "            #model.load_weights(f'./saved-weights/{experiment_name}-{j}')\n",
    "            #print(f'./saved-weights/{experiment_name}-{j}')\n",
    "\n",
    "            #for i in range(index + 1):\n",
    "                print(f'current pruning ratio is{pruning_ratio}, current iteration is {j}')\n",
    "                #if i != index:\n",
    "\n",
    "                if  method=='random' and scope=='global' and structure=='unstructured':\n",
    "                    model.prune_random_global_unstruct(pruning_ratio)\n",
    "                elif  method=='random' and scope=='global' and structure=='structured':\n",
    "                    model.prune_random_global_struct(pruning_ratio)\n",
    "                elif  method=='random' and scope=='local' and structure=='unstructured':\n",
    "                    model.prune_random_local_unstruct(pruning_ratio)\n",
    "                elif  method=='random' and scope=='local' and structure=='structured':\n",
    "                    model.prune_random_local_struct(pruning_ratio)\n",
    "                elif  method=='magnitude' and scope=='global' and structure=='unstructured':\n",
    "                    model.prune_magnitude_global_unstruct(pruning_ratio)\n",
    "                elif  method=='magnitude' and scope=='global' and structure=='structured':\n",
    "                    model.prune_magnitude_global_struct(pruning_ratio)\n",
    "                elif  method=='magnitude' and scope=='local' and structure=='unstructured':\n",
    "                    model.prune_magnitude_local_unstruct(pruning_ratio)\n",
    "                elif  method=='magnitude' and scope=='local' and structure=='structured':\n",
    "                    model.prune_magnitude_local_struct(pruning_ratio)\n",
    "                else:\n",
    "                    raise ValueError(\"pruning method invalid\")\n",
    "\n",
    "                zeros_ratio, non_zeros, param_count = get_zeros_ratio(model)\n",
    "                compile_model(model)\n",
    "                hist = train_model(model, to_convergence=True)\n",
    "                zeros_ratio, non_zeros, param_count = get_zeros_ratio(model)\n",
    "                res = model.evaluate(ds_test, verbose=0)\n",
    "                #accuracies.append()\n",
    "                plot_hist(hist)\n",
    "                #pgd_success_rate.append()\n",
    "                \n",
    "                if res[1] > .40:\n",
    "                    bb0_success = bb0_attack(model)\n",
    "                else: \n",
    "                    bb0_success = 'not successful'\n",
    "                vals = {\n",
    "                    'iteration':j,\n",
    "                    'experiment_name':experiment_name,\n",
    "                    'structure':structure,\n",
    "                    'method':method,\n",
    "                    'scope':scope,\n",
    "                    'pruning_ratio':pruning_ratio,\n",
    "                    'accuracy':res[1],\n",
    "                    'loss':res[0],\n",
    "                    'pgd_linf':pgd_attack(model),\n",
    "                    'cw_l2':cw2_attack(model),\n",
    "                    'bb_l0':bb0_success,\n",
    "                    'total_params':param_count,\n",
    "                    'params_left':non_zeros\n",
    "                }\n",
    "                results = results.append(pd.DataFrame([vals], index=[0], dtype='object'))\n",
    "                results.to_pickle(f'./final-results/{experiment_name}.pkl')\n",
    "                results.to_csv(f'./final-results/{experiment_name}.csv', index=False)\n",
    "        #all_accuracies.append(accuracies)\n",
    "        #pgd_success_rates.append(pgd_success_rate)\n",
    "        #cw_success_rates.append(cw_success_rate)\n",
    "        #bb0_success_rates.append(bb0_success_rate)\n",
    "    \n",
    "    \n",
    "    results.to_pickle(f'./final-results/{experiment_name}.pkl')\n",
    "    results.to_csv(f'./final-results/{experiment_name}.csv', index=False)\n",
    "    "
   ]
  },
  {
   "cell_type": "code",
   "execution_count": null,
   "metadata": {},
   "outputs": [],
   "source": []
  },
  {
   "cell_type": "code",
   "execution_count": 9,
   "metadata": {},
   "outputs": [],
   "source": [
    "\n",
    "\n",
    "def compile_model(model, lr=1e-3):\n",
    "    model.compile(\n",
    "        loss='sparse_categorical_crossentropy',\n",
    "        optimizer=tf.keras.optimizers.Adam(lr),\n",
    "        metrics=['accuracy'],\n",
    "        experimental_run_tf_function=True\n",
    "    )\n",
    "    return True\n",
    "    \n",
    "\n",
    "def initialize_base_model(index, experiment_name, lr=1e-3, save_weights=False):\n",
    "    \n",
    "    model = CustomResNetModel()\n",
    "\n",
    "    model.compile(\n",
    "        loss='sparse_categorical_crossentropy',\n",
    "        optimizer=tf.keras.optimizers.Adam(lr),\n",
    "        metrics=['accuracy'],\n",
    "        experimental_run_tf_function=True\n",
    "    )\n",
    "    \n",
    "    model.fit(\n",
    "        x=ds_train,\n",
    "        #steps_per_epoch=1,\n",
    "        epochs=1,\n",
    "        validation_data=ds_test,\n",
    "        #verbose=0\n",
    "    )\n",
    "    \n",
    "    \n",
    "    #if save_weights == True:\n",
    "        #model.save_weights(f'./saved-weights/{experiment_name}-{index}')\n",
    "    return model\n",
    "\n",
    "\n",
    "\n",
    "def train_model(model, to_convergence=True, epochs=5):\n",
    "    '''class CustomReduceLROnPlateau(tf.keras.callbacks.ReduceLROnPlateau):\n",
    "        #def __init__(self,\n",
    "               monitor='val_loss',\n",
    "               factor=0.1,\n",
    "               patience=10,\n",
    "               verbose=0,\n",
    "               mode='auto',\n",
    "               min_delta=1e-4,\n",
    "               cooldown=0,\n",
    "               min_lr=0,\n",
    "               **kwargs):\n",
    "            print('initing')\n",
    "            super(CustomReduceLROnPlateau, self).__init__()\n",
    "            self.monitor = monitor\n",
    "            if factor >= 1.0:\n",
    "                raise ValueError('ReduceLROnPlateau ' 'does not support a factor >= 1.0.')\n",
    "            if 'epsilon' in kwargs:\n",
    "                min_delta = kwargs.pop('epsilon')\n",
    "                logging.warning('`epsilon` argument is deprecated and '\n",
    "                              'will be removed, use `min_delta` instead.')\n",
    "            self.factor = factor\n",
    "            self.min_lr = min_lr\n",
    "            self.min_delta = min_delta\n",
    "            self.patience = patience\n",
    "            self.verbose = verbose\n",
    "            self.cooldown = cooldown\n",
    "            self.cooldown_counter = 0  # Cooldown counter.\n",
    "            self.wait = 0\n",
    "            self.best = 0\n",
    "            self.mode = mode\n",
    "            self.monitor_op = None\n",
    "            self._reset()\n",
    "    \n",
    "    \n",
    "        def on_epoch_end(self, epoch, logs=None):\n",
    "            print('reduce lr callback invoked')\n",
    "            print('self.patience:',self.patience)\n",
    "            print('self.monitor:', self.monitor)\n",
    "            print('self.min_lr:', self.min_lr)\n",
    "            logs = logs or {}\n",
    "            logs['lr'] = K.get_value(self.model.optimizer.lr)\n",
    "            current = logs.get(self.monitor)\n",
    "            if current is None:\n",
    "                logging.warning('Reduce LR on plateau conditioned on metric `%s` '\n",
    "                                'which is not available. Available metrics are: %s',\n",
    "                                self.monitor, ','.join(list(logs.keys())))\n",
    "\n",
    "            else:\n",
    "                print('current is not none')\n",
    "                if self.in_cooldown():\n",
    "                    self.cooldown_counter -= 1\n",
    "                    self.wait = 0\n",
    "\n",
    "                if self.monitor_op(current, self.best):\n",
    "                    self.best = current\n",
    "                    self.wait = 0\n",
    "                elif not self.in_cooldown():\n",
    "                    print('not in cooldown anymore')\n",
    "                    self.wait += 1\n",
    "                    print('wait:', self.wait)\n",
    "                    print('patience:',self.patience)\n",
    "                    if self.wait >= self.patience:\n",
    "                        print('patience ran out')\n",
    "                        old_lr = float(K.get_value(self.model.optimizer.lr))\n",
    "                        if old_lr > self.min_lr:\n",
    "                            new_lr = old_lr * self.factor\n",
    "                            new_lr = max(new_lr, self.min_lr)\n",
    "                            print('setting new lr value')\n",
    "                            K.set_value(self.model.optimizer.lr, new_lr)\n",
    "                            print('new lr value set')\n",
    "                            print('setting new weights')\n",
    "                            model.load_weights('/tmp/checkpoint')\n",
    "                            print('new weights set')\n",
    "                            if self.verbose > 0:\n",
    "\n",
    "                                print('\\nEpoch %05d: ReduceLROnPlateau reducing learning '\n",
    "                                      'rate to %s.' % (epoch + 1, new_lr))\n",
    "                            self.cooldown_counter = self.cooldown\n",
    "                            self.wait = 0\n",
    "                            \n",
    "    reduce_lr = CustomReduceLROnPlateau(\n",
    "        monitor='val_loss', \n",
    "        factor=0.3,\n",
    "        patience=3, \n",
    "        min_lr=1e-6)\n",
    "    '''\n",
    "    def scheduler(epoch):\n",
    "        #if epoch > 10 and epoch % 10 == 0:\n",
    "            #model.load_weights('/tmp/checkpoint')\n",
    "        if epoch < 30:\n",
    "            return 1e-3\n",
    "        if epoch < 50:\n",
    "            return 3e-4\n",
    "        if epoch < 70:\n",
    "            return 1e-4\n",
    "        if epoch < 90:\n",
    "            return 3e-5\n",
    "\n",
    "        \n",
    "\n",
    "    reduce_lr = tf.keras.callbacks.LearningRateScheduler(scheduler)\n",
    "\n",
    "    \n",
    "    early_stopping = tf.keras.callbacks.EarlyStopping(\n",
    "        monitor='val_loss', \n",
    "        patience=20\n",
    "    )\n",
    "    checkpoint_filepath = '/tmp/checkpoint'\n",
    "    model_checkpoint_callback = tf.keras.callbacks.ModelCheckpoint(\n",
    "        filepath=checkpoint_filepath,\n",
    "        save_weights_only=True,\n",
    "        monitor='val_loss',\n",
    "        mode='max',\n",
    "        save_best_only=True)\n",
    "\n",
    "    if to_convergence == True:\n",
    "        epochs = 100\n",
    "    \n",
    "    \n",
    "    \n",
    "    hist = model.fit(\n",
    "        x=ds_train,\n",
    "            #steps_per_epoch=1,\n",
    "        epochs=epochs,\n",
    "        validation_data=ds_test,\n",
    "        callbacks=[reduce_lr, early_stopping, model_checkpoint_callback],\n",
    "    )\n",
    "    #model.load_weights(checkpoint_filepath)\n",
    "    return hist\n",
    "\n",
    "def print_time(text=''):\n",
    "    now = datetime.now()\n",
    "    dt_string = now.strftime(\"%H:%M:%S\")\n",
    "    print(text, dt_string)\n",
    "\n",
    "def pgd_attack(model_to_attack):\n",
    "    print_time(text='starting pgd')\n",
    "    fmodel = fb.models.TensorFlowModel(model_to_attack, bounds=(0,1))\n",
    "    attack = fb.attacks.LinfProjectedGradientDescentAttack()\n",
    "    res = [[],[],[],[],[],]\n",
    "    strengths = [2,4,8,16,32]\n",
    "    for i in range(4):\n",
    "        print_time(text=f'pgd batch {i}')\n",
    "        adversarials, _, success = attack(\n",
    "            fmodel,\n",
    "            attack_images[i*32:(i+1)*32],\n",
    "            attack_labels[i*32:(i+1)*32],\n",
    "            epsilons=[x/255 for x in strengths]\n",
    "        )\n",
    "        for j in range(len(strengths)):\n",
    "            res[j] = res[j]+list(success[j])\n",
    "    print_time(text='ending pgd')\n",
    "    return [np.count_nonzero(eps_res)/len(attack_labels) for eps_res in res]\n",
    "\n",
    "\n",
    "\n",
    "def cw2_attack(model_to_attack, eps=[10]):\n",
    "    print_time(text=f'starting cw')\n",
    "    fmodel = fb.models.TensorFlowModel(model_to_attack, bounds=(0,1))\n",
    "    attack = fb.attacks.L2CarliniWagnerAttack(\n",
    "        binary_search_steps = 9,\n",
    "        steps= 5000,\n",
    "        stepsize = 1,\n",
    "        confidence = 0,\n",
    "        initial_const = 100,\n",
    "        abort_early = True,\n",
    "    )\n",
    "    success = []\n",
    "    dists = [] \n",
    "    for i in range(4):\n",
    "        print_time(text=f'cw batch {i}')\n",
    "        attack_batch = attack_images[i*32:(i+1)*32]\n",
    "        attack_batch_labels = attack_labels[i*32:(i+1)*32]\n",
    "        adversarials, _, batch_success = attack(\n",
    "            fmodel,\n",
    "            attack_batch,\n",
    "            attack_batch_labels,\n",
    "            epsilons=eps\n",
    "        )\n",
    "        success = success + list(batch_success)\n",
    "        dists = dists + [tf.norm(attack_batch[j]-adversarials[0][j]).numpy() for j in range(len(attack_batch))]\n",
    "    print_time(text=f'ending cw')\n",
    "    return dists, success\n",
    "\n",
    "def bb0_attack(model_to_attack):\n",
    "    print_time(text=f'starting bb0')\n",
    "    fmodel = fb.models.TensorFlowModel(model_to_attack, bounds=(0,1))\n",
    "    init_attack = fb.attacks.DatasetAttack()\n",
    "    batches = [\n",
    "        (attack_images[:32], attack_labels[:32]), \n",
    "        (attack_images[32:64], attack_labels[32:64]),\n",
    "        (attack_images[64:96], attack_labels[64:96]), \n",
    "        (attack_images[96:128], attack_labels[96:128])\n",
    "    ]\n",
    "\n",
    "    # create attack that picks adversarials from given dataset of samples\n",
    "    #init_attack = fb.attacks.DatasetAttack()\n",
    "    init_attack = fb.attacks.DatasetAttack()\n",
    "\n",
    "    init_attack.feed(fmodel, batches[0][0])   # feed 1st batch of inputs\n",
    "    init_attack.feed(fmodel, batches[1][0])   # feed 2nd batch of inputs\n",
    "    init_attack.feed(fmodel, batches[2][0])   # feed 1st batch of inputs\n",
    "    init_attack.feed(fmodel, batches[3][0])   # feed 2nd batch of inputs\n",
    "    attack = fb.attacks.L0BrendelBethgeAttack(binary_search_steps=30, steps=500,lr_num_decay=30, lr=1e7, init_attack=init_attack)\n",
    "\n",
    "    success = []\n",
    "    dists = [] \n",
    "    for i in range(4):\n",
    "        print_time(text=f'bb0 batch {i}')\n",
    "        attack_batch = attack_images[i*32:(i+1)*32]\n",
    "        attack_batch_labels = attack_labels[i*32:(i+1)*32]\n",
    "        adversarials, _, batch_success = attack(\n",
    "            fmodel,\n",
    "            attack_batch,\n",
    "            criterion=fb.criteria.Misclassification(attack_batch_labels),\n",
    "            epsilons=[None]\n",
    "        )\n",
    "        \n",
    "        success = success + list(batch_success)\n",
    "        dists = dists + [np.count_nonzero(attack_batch[j]-adversarials[0][j]) for j in range(len(attack_batch))]\n",
    "    print_time(text=f'ending bb0')\n",
    "    return dists, success\n",
    "\n",
    "\n",
    "\n",
    "def convert_from_hwio_to_iohw(weights_nchw):\n",
    "    return tf.transpose(weights_nchw, [2, 3, 0, 1])\n",
    "\n",
    "\n",
    "\n",
    "def convert_from_iohw_to_hwio(weights_nhwc):\n",
    "    return tf.transpose(weights_nhwc, [2, 3, 0, 1])\n",
    "\n",
    "def get_zeros_ratio(model):\n",
    "    layers_to_examine = model.dense_masks+model.conv_masks\n",
    "    weights = model.get_weights()\n",
    "    all_weights = np.array([])\n",
    "    for x in layers_to_examine:\n",
    "\n",
    "        all_weights = np.append(all_weights, weights[x].flatten())\n",
    "    return np.count_nonzero(all_weights)/len(all_weights), np.count_nonzero(all_weights), len(all_weights)"
   ]
  },
  {
   "cell_type": "code",
   "execution_count": 5,
   "metadata": {
    "scrolled": true
   },
   "outputs": [],
   "source": [
    "def convert(image, label):\n",
    "    image = tf.image.convert_image_dtype(image, tf.float32) # Cast and normalize the image to [0,1]\n",
    "    return image, label\n",
    "\n",
    "def augment(image,label):\n",
    "    \n",
    "    image,label = convert(image, label)\n",
    "    \n",
    "    image = tf.image.convert_image_dtype(image, tf.float32) # Cast and normalize the image to [0,1]\n",
    "    image = tf.image.resize_with_crop_or_pad(image, 224+60, 224+60) # Add 6 pixels of padding\n",
    "    \n",
    "    image = tf.image.random_crop(image, size=[224,224,3]) # Random crop back to 28x28\n",
    "    image = tf.image.random_brightness(image, max_delta=0.5) # Random brightness\n",
    "\n",
    "    return image,label\n",
    "\n",
    "\n",
    "ds, info = tfds.load(name=\"imagenette\", with_info=True, split=[\"train[:100%]\",\"validation[:100%]\"])\n",
    "ds_train=ds[0]\n",
    "ds_test=ds[1]\n",
    "assert isinstance(ds_train, tf.data.Dataset)\n",
    "\n",
    "def normalize(x):\n",
    "    y = {'image': tf.image.convert_image_dtype(x['image'], tf.float32), 'label': x['label']}\n",
    "    y = (tf.image.resize(y['image'], (224,224)), y['label'])\n",
    "    return y\n",
    "\n",
    "\n",
    "num_train_examples= info.splits['train'].num_examples\n",
    "BATCH_SIZE = 64\n",
    "\n",
    "ds_train = (\n",
    "    ds_train\n",
    "    .map(normalize)\n",
    "    .take(num_train_examples)\n",
    "    .cache()\n",
    "    .shuffle(num_train_examples)\n",
    "    # The augmentation is added here.\n",
    "    .map(augment, num_parallel_calls=AUTOTUNE)\n",
    "    .batch(BATCH_SIZE)\n",
    "    .prefetch(AUTOTUNE)\n",
    ") \n",
    "\n",
    "ds_test = ds_test.map(\n",
    "    normalize, num_parallel_calls=tf.data.experimental.AUTOTUNE)\n",
    "ds_test = ds_test.batch(BATCH_SIZE)\n",
    "ds_test = ds_test.cache()\n",
    "ds_test = ds_test.prefetch(tf.data.experimental.AUTOTUNE)\n",
    "\n",
    "@tf.function\n",
    "def load_image_test(datapoint):\n",
    "    input_image, label = normalize(datapoint)\n",
    "    #input_image = datapoint['image']\n",
    "    #label = datapoint['label']\n",
    "    \n",
    "    return input_image, label\n",
    "\n",
    "attack_set = list(ds[1].map(load_image_test))[:128]\n",
    "\n",
    "attack_images = tf.convert_to_tensor([sample[0] for sample in attack_set])\n",
    "attack_labels = tf.convert_to_tensor([sample[1] for sample in attack_set])"
   ]
  },
  {
   "cell_type": "code",
   "execution_count": 6,
   "metadata": {},
   "outputs": [],
   "source": [
    "\n",
    "#conv2D with bias and relu activation\n",
    "\n",
    "class CustomConvLayer(layers.Layer):\n",
    "\n",
    "#    def __init__(self, weights, mask, biases, stride=1, padding='SAME'):\n",
    "    def __init__(self, input_channels, output_channels, filter_size=3, stride=1, padding='SAME'):\n",
    "        \n",
    "        super(CustomConvLayer, self).__init__()\n",
    "        self.w = self.add_weight(\n",
    "            shape=(filter_size, filter_size, input_channels, output_channels),\n",
    "            initializer='glorot_uniform',\n",
    "            trainable=True,\n",
    "            name='w'\n",
    "        )\n",
    "        self.m = self.add_weight(\n",
    "            shape=(filter_size, filter_size, input_channels, output_channels),\n",
    "            initializer='ones',\n",
    "            trainable=False,\n",
    "            name='m'\n",
    "        )\n",
    "        #self.b = self.add_weight(\n",
    "        #    shape=(output_channels),\n",
    "        #    initializer='zeros',\n",
    "        #    trainable=True,\n",
    "        #    name='b'\n",
    "        #)\n",
    "        self.s = stride\n",
    "        self.p = padding\n",
    "\n",
    "        \n",
    "    def call(self, inputs):\n",
    "        #print(inputs.shape)\n",
    "        x = tf.nn.conv2d(inputs, tf.multiply(self.w, self.m), strides=[1, self.s, self.s, 1], padding=self.p)\n",
    "        #x = tf.nn.bias_add(x, self.b)\n",
    "        return tf.nn.relu(x)\n",
    "    \n",
    "\n",
    "\n",
    "\n",
    "    \n",
    "class ResNetBlock(tf.keras.layers.Layer):\n",
    "    def __init__(self, input_channels=3 ,output_channels = 64, stride=1):\n",
    "        super(ResNetBlock, self).__init__()\n",
    "        self.stride = stride\n",
    "        #self.conv1 = layers.Conv2D(filters, 3, strides=(self.stride, self.stride), activation='relu', padding='same')\n",
    "        self.conv1 = CustomConvLayer(input_channels, output_channels, filter_size=3)\n",
    "        self.bn1 = layers.BatchNormalization()\n",
    "        #self.conv2 = layers.Conv2D(filters, 3, padding='same')\n",
    "        self.conv2 = CustomConvLayer(output_channels, output_channels, filter_size=3)\n",
    "        self.bn2 = layers.BatchNormalization()\n",
    "        if stride == 2:\n",
    "            self.conv3 = CustomConvLayer(output_channels, output_channels, filter_size=1, stride=self.stride)\n",
    "            self.bn3 = layers.BatchNormalization()\n",
    "        self.add1 = layers.Add()\n",
    "    \n",
    "    def call(self, inputs, training=False):\n",
    "        x = self.bn1(inputs, training=training)\n",
    "        x = tf.nn.relu(x)\n",
    "        x = self.conv1(x)\n",
    "        x = self.bn2(x, training=training)\n",
    "        x = tf.nn.relu(x)\n",
    "        x = self.conv2(x)\n",
    "        \n",
    "        if self.stride == 2:\n",
    "            inputs = self.conv3(x)\n",
    "            inputs = self.bn3(x)\n",
    "        return (self.add1([x, inputs]))\n",
    "    \n",
    "class DataAugmentationLayer(layers.Layer):\n",
    "    def __init__(self):\n",
    "        super(DataAugmentationLayer, self).__init__()\n",
    "        self.rotate = tf.keras.layers.experimental.preprocessing.RandomRotation(.5)\n",
    "        self.contrast = tf.keras.layers.experimental.preprocessing.RandomContrast(.8)\n",
    "        self.flip = tf.keras.layers.experimental.preprocessing.RandomFlip()\n",
    "        self.translate = tf.keras.layers.experimental.preprocessing.RandomTranslation(.25, .25, interpolation='bilinear')\n",
    "        #self.crop = tf.keras.layers.experimental.preprocessing.CenterCrop(random.uniform(0,0.5), random.uniform(0,0.5))\n",
    "    \n",
    "    def call(self, inputs, training=False):\n",
    "        x = inputs\n",
    "        x = self.rotate(x, training=training)\n",
    "        x = self.contrast(x, training=training)\n",
    "        x = self.flip(x, training=training)\n",
    "        x = self.translate(x, training=training)\n",
    "        #x = self.crop(x)\n",
    "        return x\n",
    "    \n",
    "#Dense Layer with Bias\n",
    "class CustomDenseLayer(layers.Layer):\n",
    "    \n",
    "    def __init__(self, input_shape, output_shape, activation = 'relu'):\n",
    "        super(CustomDenseLayer, self).__init__()\n",
    "        self.w = self.add_weight(\n",
    "            shape=(input_shape, output_shape),\n",
    "            initializer='glorot_uniform',\n",
    "            trainable=True,\n",
    "            name='w'\n",
    "        )\n",
    "        self.m = self.add_weight(\n",
    "            shape=(input_shape, output_shape),\n",
    "            initializer='ones',\n",
    "            trainable=False,\n",
    "            name='m'\n",
    "        )\n",
    "        self.b = self.add_weight(\n",
    "            shape=(output_shape),\n",
    "            initializer='zeros',\n",
    "            trainable=True,\n",
    "            name='b'\n",
    "        )\n",
    "        self.a = activation\n",
    "        \n",
    "        \n",
    "    def call(self, inputs):\n",
    "        #print('dense w',self.w)\n",
    "        #print('dense i',inputs)\n",
    "        x = tf.matmul(inputs, tf.multiply(self.w, self.m))\n",
    "        #print('dense x',x)\n",
    "        x = tf.nn.bias_add(x, self.b)\n",
    "        if self.a == 'relu':\n",
    "            return tf.nn.relu(x)\n",
    "        if self.a == 'softmax':\n",
    "            return tf.nn.softmax(x)\n",
    "    \n",
    "\n",
    "class CustomResNetModel(tf.keras.Model):\n",
    "    def __init__(self):\n",
    "        super(CustomResNetModel, self).__init__()\n",
    "        #self.conv1 = layers.Conv2D(64, 7, strides=(2, 2), padding='same')\n",
    "        #self.aug = DataAugmentationLayer()\n",
    "        self.conv1 = CustomConvLayer(3, 64, filter_size=7, stride=2)\n",
    "        self.pool1 = layers.MaxPool2D(pool_size=(3,3), strides=(2,2), padding='same')\n",
    "        self.res_block1 = ResNetBlock(64, 64)\n",
    "        #self.res_block2 = ResNetBlock(64, 64)\n",
    "        self.res_block3 = ResNetBlock(64, 64)\n",
    "        self.res_block4 = ResNetBlock(64, 128, 2)\n",
    "        #self.res_block5 = ResNetBlock(128, 128)\n",
    "        #self.res_block6 = ResNetBlock(128, 128)\n",
    "        self.res_block7 = ResNetBlock(128, 128)\n",
    "        self.res_block8 = ResNetBlock(128, 256, 2)\n",
    "        #self.res_block9 = ResNetBlock(256, 256)\n",
    "        #self.res_block10 = ResNetBlock(256, 256)\n",
    "        #self.res_block11 = ResNetBlock(256, 256)\n",
    "        #self.res_block12 = ResNetBlock(256, 256)\n",
    "        self.res_block13 = ResNetBlock(256, 256)\n",
    "        self.res_block14 = ResNetBlock(256 ,512, 2)\n",
    "        #self.res_block15 = ResNetBlock(512, 512)\n",
    "        self.res_block16 = ResNetBlock(512, 512)\n",
    "        self.pool2 = layers.GlobalAveragePooling2D()\n",
    "        self.dense1 = CustomDenseLayer(512, 1000)\n",
    "        self.dense2 = CustomDenseLayer(1000, 10, activation='softmax')\n",
    "        #self.conv_layers = []\n",
    "        #self.conv_masks = []\n",
    "        #self.dense_layers = []\n",
    "        #self.dense_masks = []\n",
    "        self.conv_layers = [0, 2, 5, 14, 17, 26, 29, 44, 47, 56, 59, 74, 77, 86, 89, 104, 107]\n",
    "        self.conv_masks = [1, 8, 11, 20, 23, 35, 38, 50, 53, 65, 68, 80, 83, 95, 98, 110, 113]\n",
    "        self.dense_layers = [116, 119]\n",
    "        self.dense_masks = [118, 121]\n",
    "        \n",
    "\n",
    "\n",
    "        \n",
    "        \n",
    "    def call(self,inputs, training=False):\n",
    "        #x = tf.keras.layers.experimental.preprocessing.RandomRotation(.25)(inputs)\n",
    "        #x = tf.keras.layers.experimental.preprocessing.RandomContrast(.8)(x)\n",
    "        #x = tf.keras.layers.experimental.preprocessing.RandomFlip()(x)\n",
    "        #x = tf.keras.layers.experimental.preprocessing.RandomTranslation(.25, .25, interpolation='bilinear')(x)\n",
    "        #x = self.aug(inputs, training)\n",
    "        x = self.conv1(inputs)\n",
    "        x = self.pool1(x)\n",
    "        x = self.res_block1(x)\n",
    "        #x = self.res_block2(x)\n",
    "        x = self.res_block3(x)\n",
    "        x = self.res_block4(x)\n",
    "        #x = self.res_block5(x)\n",
    "        #x = self.res_block6(x)\n",
    "        x = self.res_block7(x)\n",
    "        x = self.res_block8(x)\n",
    "        #x = self.res_block9(x)\n",
    "        #x = self.res_block10(x)\n",
    "        #x = self.res_block11(x)\n",
    "        #x = self.res_block12(x)\n",
    "        x = self.res_block13(x)\n",
    "        x = self.res_block14(x)\n",
    "        #x = self.res_block15(x)\n",
    "        x = self.res_block16(x)\n",
    "        x = self.pool2(x)\n",
    "        x = self.dense1(x)\n",
    "        \n",
    "        return self.dense2(x)\n",
    "    \n",
    "    def prune_random_local_unstruct(self, ratio):\n",
    "        def prune_conv_layers_locally(self, ratio):\n",
    "            weights = self.get_weights()\n",
    "            for i, layer in enumerate(self.conv_layers):\n",
    "                converted_weights = convert_from_hwio_to_iohw(weights[layer]).numpy()\n",
    "                converted_mask = convert_from_hwio_to_iohw(weights[self.conv_masks[i]]).numpy()\n",
    "                for input_index, input_layer in enumerate(converted_weights):\n",
    "                    for kernel_index, kernel in enumerate(input_layer):\n",
    "                        shape = kernel.shape\n",
    "                        flat_weights = kernel.flatten()\n",
    "                        flat_masks = converted_mask[input_index][kernel_index].flatten()\n",
    "                        \n",
    "                        no_of_weighs_to_prune = int(np.round(ratio * len(flat_weights)))\n",
    "                        # find unpruned weights\n",
    "                        non_zero_weights = np.nonzero(flat_masks)[0]\n",
    "                        # calculate the amount of weights to be pruned this round\n",
    "                        no_of_weights_to_prune_left = int(no_of_weighs_to_prune - (len(flat_weights) - len(non_zero_weights)) )\n",
    "                        # shuffle all non-zero weights\n",
    "                        random.shuffle(non_zero_weights)\n",
    "                        # and take the indices of the first x weights where x is the number of weights to be pruned this round\n",
    "                        indices_to_delete = non_zero_weights[:no_of_weights_to_prune_left]\n",
    "                        \n",
    "                        for idx_to_delete in indices_to_delete:\n",
    "                            flat_masks[idx_to_delete] = 0\n",
    "                            flat_weights[idx_to_delete] = 0\n",
    "                        converted_mask[input_index][kernel_index] = flat_masks.reshape(shape)\n",
    "                        converted_weights[input_index][kernel_index] = flat_weights.reshape(shape)\n",
    "                back_converted_mask = convert_from_iohw_to_hwio(converted_mask)\n",
    "                back_converted_weights = convert_from_iohw_to_hwio(converted_weights)\n",
    "                weights[layer] = back_converted_weights\n",
    "                weights[self.conv_masks[i]] = back_converted_mask\n",
    "            self.set_weights(weights)\n",
    "            return True\n",
    "        \n",
    "        def prune_dense_layers_locally(self, ratio):\n",
    "            weights = self.get_weights()\n",
    "#            for index, weight in enumerate(weights):\n",
    "            for i, layer in enumerate(self.dense_layers):\n",
    "#                if index in dense_layer_to_prune:\n",
    "                    shape = weights[layer].shape\n",
    "                    flat_weights = weights[layer].flatten()\n",
    "                    flat_mask = weights[self.dense_masks[i]].flatten()\n",
    "                    no_of_weighs_to_prune = int(np.round(ratio * len(flat_weights)))\n",
    "                    # find unpruned weights\n",
    "                    non_zero_weights = np.nonzero(flat_mask)[0]\n",
    "                    # calculate the amount of weights to be pruned this round\n",
    "                    no_of_weights_to_prune_left = int(no_of_weighs_to_prune - (len(flat_weights) - len(non_zero_weights)) )\n",
    "                    # shuffle all non-zero weights\n",
    "                    random.shuffle(non_zero_weights)\n",
    "                    # and take the indices of the first x weights where x is the number of weights to be pruned this round\n",
    "                    indices_to_delete = non_zero_weights[:no_of_weights_to_prune_left]\n",
    "                    for idx_to_delete in indices_to_delete:\n",
    "                        flat_mask[idx_to_delete] = 0\n",
    "                        flat_weights[idx_to_delete] = 0\n",
    "\n",
    "                    mask_reshaped = flat_mask.reshape(shape)\n",
    "                    weights_reshaped = flat_weights.reshape(shape)\n",
    "                    weights[self.dense_masks[i]] = mask_reshaped\n",
    "                    weights[layer] = weights_reshaped\n",
    "            self.set_weights(weights)\n",
    "            return weights\n",
    "        weights = prune_conv_layers_locally(self, ratio)\n",
    "        weights = prune_dense_layers_locally(self,ratio)\n",
    "        return True\n",
    "    \n",
    "    def prune_magnitude_global_unstruct(self, ratio):\n",
    "\n",
    "        weights = self.get_weights()\n",
    "        flat_weights = []\n",
    "        flat_mask = []\n",
    "        all_masks = self.conv_masks + self.dense_masks\n",
    "        for i, x in enumerate(self.conv_layers + self.dense_layers):\n",
    "            flat_weights = np.append(flat_weights, weights[x].flatten())\n",
    "            flat_mask = np.append(flat_mask, weights[all_masks[i]].flatten())\n",
    "            \n",
    "        no_of_weights_to_prune = int(np.round(len(flat_weights)*ratio))\n",
    "        #print('total weights',len(flat_weights))\n",
    "        #print('weights to prune w/o round',int(len(flat_weights)*ratio))\n",
    "        #print('weights to prune with round',int(np.round(len(flat_weights)*ratio)))\n",
    "        indices_to_delete = np.abs(flat_weights).argsort(0)[:no_of_weights_to_prune]\n",
    "        \n",
    "        for idx_to_delete in indices_to_delete:\n",
    "            flat_mask[idx_to_delete] = 0\n",
    "            flat_weights[idx_to_delete] = 0\n",
    "        z = 0\n",
    "        for i, x in enumerate(self.conv_layers + self.dense_layers):\n",
    "            weights[x] = flat_weights[z:z + np.prod(weights[x].shape)].reshape(weights[x].shape)\n",
    "            weights[all_masks[i]] = flat_mask[z:z + np.prod(weights[x].shape)].reshape(weights[x].shape)\n",
    "            z = z + np.prod(weights[x].shape)            \n",
    "        self.set_weights(weights)\n",
    "        return True\n",
    "    \n",
    "    \n",
    "    def prune_random_local_struct(self, ratio):\n",
    "        def prune_conv_layers(self, ratio):\n",
    "            weights = self.get_weights()\n",
    "            for i, x in enumerate(self.conv_layers):\n",
    "\n",
    "                vals = []\n",
    "                iohw_weights = convert_from_hwio_to_iohw(weights[x])\n",
    "                iohw_mask = convert_from_hwio_to_iohw(weights[self.conv_masks[i]])\n",
    "                converted_shape = iohw_weights.shape\n",
    "                no_of_channels = converted_shape[0]*converted_shape[1]\n",
    "                no_of_channels_to_prune = int(np.round(ratio * no_of_channels))\n",
    "                channels = tf.reshape(iohw_weights, (no_of_channels,converted_shape[2],converted_shape[3])).numpy()\n",
    "                #print(channels)\n",
    "                non_zero_channels = np.nonzero([np.sum(channel) for channel in channels])[0]\n",
    "                #print(non_zero_channels)\n",
    "                no_of_channels_to_prune_left = no_of_channels_to_prune - (len(channels) - len(non_zero_channels))\n",
    "                random.shuffle(non_zero_channels)\n",
    "                channels_to_prune = non_zero_channels[:no_of_channels_to_prune_left]\n",
    "                mask = tf.reshape(iohw_mask, \n",
    "                                  (no_of_channels,converted_shape[2],converted_shape[3])).numpy()\n",
    "\n",
    "                for channel_to_prune in channels_to_prune:\n",
    "                    channels[channel_to_prune] = tf.zeros([converted_shape[2],converted_shape[3]])\n",
    "                    mask[channel_to_prune] = tf.zeros([converted_shape[2],converted_shape[3]])\n",
    "\n",
    "                reshaped_mask = tf.reshape(mask, converted_shape)\n",
    "                reshaped_weights = tf.reshape(channels, converted_shape)\n",
    "                weights[x] = convert_from_iohw_to_hwio(reshaped_weights)\n",
    "                weights[self.conv_masks[i]] = convert_from_iohw_to_hwio(reshaped_mask)\n",
    "            self.set_weights(weights)\n",
    "            return True\n",
    "        def prune_dense_layers(self, ratio):\n",
    "            weights = self.get_weights()\n",
    "            for i, layer_to_prune in enumerate(self.dense_layers):\n",
    "                rows = weights[layer_to_prune]\n",
    "                no_of_rows_to_prune = int(np.round(ratio * len(weights[layer_to_prune])))\n",
    "                non_zero_rows = np.nonzero([np.sum(row) for row in rows])[0]\n",
    "                no_of_rows_to_prune_left = no_of_rows_to_prune - (len(rows) - len(non_zero_rows))\n",
    "                random.shuffle(non_zero_rows)\n",
    "                rows_to_prune = non_zero_rows[:no_of_rows_to_prune_left]\n",
    "                \n",
    "                for row_to_prune in rows_to_prune:\n",
    "                    weights[layer_to_prune][row_to_prune] = tf.zeros(len(weights[layer_to_prune][row_to_prune]))\n",
    "                    weights[self.dense_masks[i]][row_to_prune] = tf.zeros(len(weights[layer_to_prune][row_to_prune]))\n",
    "            self.set_weights(weights)\n",
    "            return True\n",
    "        prune_conv_layers(self, ratio)\n",
    "        prune_dense_layers(self, ratio)\n",
    "        \n",
    "        return True\n",
    "\n",
    "    def prune_random_global_struct(self, ratio):\n",
    "        raise Warning('Not yet implemented')\n",
    "        return False\n",
    "    \n",
    "    def prune_magnitude_local_struct(self, ratio):\n",
    "        def prune_conv_layers(self, ratio):\n",
    "            weights = self.get_weights()\n",
    "            for i, x in enumerate(self.conv_layers):\n",
    "                vals = []\n",
    "                iohw_weights = convert_from_hwio_to_iohw(weights[x])\n",
    "                iohw_mask = convert_from_hwio_to_iohw(weights[self.conv_masks[i]])\n",
    "                converted_shape = iohw_weights.shape\n",
    "                no_of_channels = converted_shape[0]*converted_shape[1]\n",
    "                no_of_channels_to_prune = int(np.round(ratio * no_of_channels))\n",
    "                channels = tf.reshape(iohw_weights, (no_of_channels,converted_shape[2],converted_shape[3])).numpy()\n",
    "                \n",
    "                mask = tf.reshape(iohw_mask, (no_of_channels,converted_shape[2],converted_shape[3])).numpy()\n",
    "                for channel in channels:\n",
    "                    vals.append(tf.math.reduce_sum(tf.math.abs(channel)))\n",
    "                channels_to_prune = np.argsort(vals)[:no_of_channels_to_prune]\n",
    "\n",
    "                for channel_to_prune in channels_to_prune:\n",
    "                    channels[channel_to_prune] = tf.zeros([converted_shape[2],converted_shape[3]])\n",
    "                    mask[channel_to_prune] = tf.zeros([converted_shape[2],converted_shape[3]])\n",
    "\n",
    "                reshaped_mask = tf.reshape(mask, converted_shape)\n",
    "                reshaped_weights = tf.reshape(channels, converted_shape)\n",
    "                weights[x] = convert_from_iohw_to_hwio(reshaped_weights)\n",
    "                weights[self.conv_masks[i]] = convert_from_iohw_to_hwio(reshaped_mask)\n",
    "            self.set_weights(weights)\n",
    "            return weights\n",
    "        def prune_dense_layers(self, ratio):\n",
    "            weights = self.get_weights()\n",
    "            for i, layer_to_prune in enumerate(self.dense_layers):\n",
    "                no_of_rows_to_prune = int(np.round(ratio * len(weights[layer_to_prune])))\n",
    "                vals = []\n",
    "                for row in weights[layer_to_prune]:\n",
    "                    vals.append(np.sum(np.abs(row)))\n",
    "                rows_to_prune = np.argsort(vals)[:no_of_rows_to_prune]\n",
    "                for row_to_prune in rows_to_prune:\n",
    "\n",
    "                    weights[layer_to_prune][row_to_prune] = tf.zeros(len(weights[layer_to_prune][row_to_prune]))\n",
    "                    weights[self.dense_masks[i]][row_to_prune] = tf.zeros(len(weights[layer_to_prune][row_to_prune]))\n",
    "            self.set_weights(weights)\n",
    "            return weights\n",
    "        weights = self.get_weights()\n",
    "        weights = prune_conv_layers(self, ratio)\n",
    "        weights = prune_dense_layers(self, ratio)\n",
    "        self.set_weights(weights)\n",
    "        return True\n",
    "        \n",
    "    def prune_magnitude_global_struct(self, ratio):\n",
    "        def prune_conv_layers(self, ratio):\n",
    "            all_channels = []\n",
    "            all_masks = []\n",
    "            vals = []\n",
    "            for layer_to_prune in self.conv_layers:\n",
    "                # convert from e.g. (3,3,1,6) to (1,6,3,3)\n",
    "                iohw_weights = convert_from_hwio_to_iohw(weights[layer_to_prune])\n",
    "                converted_shape = iohw_weights.shape\n",
    "                no_of_channels = converted_shape[0]*converted_shape[1]\n",
    "                #convert from (1,6,3,3) to (6,3,3)\n",
    "                channels = tf.reshape(iohw_weights, (no_of_channels,converted_shape[2],converted_shape[3])).numpy()\n",
    "                mask = np.ones((no_of_channels,converted_shape[2],converted_shape[3]))\n",
    "                #calculate average magnitude for each filter\n",
    "                vals = vals + [np.sum(np.abs(channel)) / np.prod(channel.shape) for channel in channels]\n",
    "                #vals = vals + [np.sum(np.abs(channel)) for channel in channels]\n",
    "                all_channels = list(all_channels) +  list(channels)\n",
    "                all_masks = list(all_masks) + list(mask)\n",
    "            #vals = [np.sum(np.abs(channel)) for channel in all_channels]\n",
    "            no_of_channels_to_prune = int(np.round(ratio * len(vals)))\n",
    "            #print('lenght of vals',len(vals))\n",
    "            #print('number of all channels',no_of_channels)\n",
    "            #print('channels',no_of_channels_to_prune)\n",
    "            channels_to_prune = np.argsort(vals)[:no_of_channels_to_prune]\n",
    "            \n",
    "            for channel_to_prune in channels_to_prune:\n",
    "                #print(all_channels[channel_to_prune].shape)\n",
    "                all_channels[channel_to_prune] = tf.zeros(all_channels[channel_to_prune].shape) \n",
    "                all_masks[channel_to_prune] = tf.zeros(all_channels[channel_to_prune].shape) \n",
    "            z = 0\n",
    "            for i, layer_to_prune in enumerate(self.conv_layers):\n",
    "                original_shape = convert_from_hwio_to_iohw(weights[layer_to_prune]).shape\n",
    "                pruned_layer = tf.reshape(all_channels[z:z + original_shape[0]*original_shape[1]], original_shape)\n",
    "                pruned_mask = tf.reshape(all_masks[z:z + original_shape[0]*original_shape[1]], original_shape)\n",
    "                weights[layer_to_prune] = convert_from_iohw_to_hwio(pruned_layer)\n",
    "                weights[self.conv_masks[i]] = convert_from_iohw_to_hwio(pruned_mask)\n",
    "                z = original_shape[0]*original_shape[1]\n",
    "            self.set_weights(weights)\n",
    "            return weights\n",
    "        \n",
    "        def prune_dense_layers(self, ratio):\n",
    "            vals = []\n",
    "            lengths = []\n",
    "            for layer_to_prune in self.dense_layers:\n",
    "                #print('dense',layer_to_prune)\n",
    "                lengths.append(weights[layer_to_prune].shape[0])\n",
    "                vals = vals + [np.sum(np.abs(row)) / len(row) for row in weights[layer_to_prune]]\n",
    "                #vals = vals + [np.sum(np.abs(row)) for row in weights[layer_to_prune]]\n",
    "            no_of_rows_to_prune = int(np.round(ratio * len(vals)))\n",
    "            #print('rows', no_of_rows_to_prune)\n",
    "            rows_to_prune = np.argsort(vals)[:no_of_rows_to_prune]\n",
    "            for i, layer_to_prune in enumerate(self.dense_layers):\n",
    "                for row_to_prune in rows_to_prune:\n",
    "                    if row_to_prune in range(int(np.sum(lengths[:i])), int(np.sum(lengths[:i+1]))):\n",
    "                        weights[layer_to_prune][row_to_prune - int(np.sum(lengths[:i]))] = tf.zeros(weights[layer_to_prune][row_to_prune - int(np.sum(lengths[:i]))].shape)\n",
    "                        weights[self.dense_masks[i]][row_to_prune - int(np.sum(lengths[:i]))] = tf.zeros(weights[layer_to_prune][row_to_prune - int(np.sum(lengths[:i]))].shape)                \n",
    "            self.set_weights(weights)        \n",
    "            return weights\n",
    "        weights = self.get_weights()\n",
    "        weights = prune_conv_layers(self, ratio)\n",
    "        weights = prune_dense_layers(self, ratio)\n",
    "        #self.set_weights(weights)\n",
    "        return True\n",
    "    \n",
    "    \n",
    "    def prune_magnitude_local_unstruct(self, ratio):\n",
    "        def prune_conv_layers_locally(self, ratio):\n",
    "\n",
    "            #print('inside conv prune func',get_zeros_ratio(self.get_weights()))\n",
    "            weights = self.get_weights()\n",
    "            #for w in weights:\n",
    "                #print(w.shape)\n",
    "            for layer_index, layer in enumerate(self.conv_layers):\n",
    "                #print(layer)\n",
    "                mask = self.conv_masks[layer_index]\n",
    "\n",
    "                converted_weights = convert_from_hwio_to_iohw(weights[layer]).numpy()\n",
    "                converted_mask = convert_from_hwio_to_iohw(weights[mask]).numpy()\n",
    "            \n",
    "                #print('convert weights',converted_weights.shape)\n",
    "                for input_index, input_layer in enumerate(converted_weights):\n",
    "                    #print(input_index, '/', len(converted_weights))\n",
    "                    for kernel_index, kernel in enumerate(input_layer):\n",
    "                        shape = kernel.shape\n",
    "                        #print('kernel',shape)\n",
    "                        flat_weights = kernel.flatten()\n",
    "                        flat_masks = converted_mask[input_index][kernel_index].flatten()\n",
    "                        #flat_weights_df = pd.DataFrame(flat_weights)\n",
    "                        #flat_mask_df = pd.DataFrame(flat_masks)\n",
    "                        no_of_weights_to_prune = int(np.round(len(flat_weights)*ratio))\n",
    "                        #print('weights to prune',no_of_weights_to_prune)\n",
    "                        #print('total weights here', np.round(len(flat_weights)))\n",
    "                        #indices_to_delete = flat_weights_df.abs().values.argsort(0)[:no_of_weights_to_prune]\n",
    "                        indices_to_delete = np.abs(flat_weights).argsort(0)[:no_of_weights_to_prune]\n",
    "                        #print('flat weights shape',flat_weights.shape)\n",
    "                        #print('flat_masks shape',flat_masks.shape)\n",
    "                        #print('indices to delete and amount of weights to prune',indices_to_delete, no_of_weights_to_prune)\n",
    "                        for idx_to_delete in indices_to_delete:\n",
    "                            \n",
    "                            flat_masks[idx_to_delete] = 0\n",
    "                            flat_weights[idx_to_delete] = 0\n",
    "\n",
    "                        converted_mask[input_index][kernel_index] = flat_masks.reshape(shape)\n",
    "                        converted_weights[input_index][kernel_index] = flat_weights.reshape(shape)\n",
    "                back_converted_mask = convert_from_iohw_to_hwio(converted_mask)\n",
    "                back_converted_weights = convert_from_iohw_to_hwio(converted_weights)\n",
    "                weights[layer] = back_converted_weights\n",
    "                weights[mask] = back_converted_mask\n",
    "            self.set_weights(weights)\n",
    "            return weights\n",
    "        \n",
    "        def prune_dense_layers_locally(self, ratio):\n",
    "            weights = self.get_weights()\n",
    "            for index, layer in enumerate(self.dense_layers):\n",
    "                shape = weights[layer].shape\n",
    "                flat_weights = weights[layer].flatten()\n",
    "                flat_mask = weights[self.dense_masks[index]].flatten()\n",
    "\n",
    "                no_of_weights_to_prune = int(np.round(len(flat_weights)*ratio))\n",
    "                indices_to_delete = np.abs(flat_weights).argsort()[:no_of_weights_to_prune]\n",
    "                for idx_to_delete in indices_to_delete:\n",
    "                    flat_mask[idx_to_delete] = 0\n",
    "                    flat_weights[idx_to_delete] = 0\n",
    "                mask_reshaped = flat_mask.reshape(shape)\n",
    "                weights_reshaped = flat_weights.reshape(shape)\n",
    "                weights[self.dense_masks[index]] = mask_reshaped\n",
    "                weights[layer] = weights_reshaped\n",
    "            self.set_weights(weights)\n",
    "            return weights\n",
    "        \n",
    "        weights = prune_conv_layers_locally(self,ratio)\n",
    "        weights = prune_dense_layers_locally(self,ratio)\n",
    "        return True\n",
    "    \n",
    "    def find_layers_and_masks(self):\n",
    "        if len(self.conv_layers) != 0:\n",
    "            return True\n",
    "        for i, w in enumerate(self.get_weights()):\n",
    "            print(i ,'/', len(self.get_weights()))\n",
    "            if len(w.shape) == 4 and w.shape[0] != 1: \n",
    "                if np.all([x == 0 or x == 1 for x in w.flatten()]) == False: \n",
    "                    self.conv_layers.append(i)\n",
    "                else:\n",
    "                    self.conv_masks.append(i)\n",
    "            if len(w.shape) == 2: \n",
    "                if np.all([x == 0 or x == 1 for x in w.flatten()]) == False: \n",
    "                    self.dense_layers.append(i)\n",
    "                else:\n",
    "                    self.dense_masks.append(i)\n",
    "        return True\n",
    "    "
   ]
  },
  {
   "cell_type": "code",
   "execution_count": 7,
   "metadata": {},
   "outputs": [],
   "source": [
    "def plot_hist(hist):\n",
    "    # summarize history for accuracy\n",
    "    plt.plot(hist.history['accuracy'])\n",
    "    plt.plot(hist.history['val_accuracy'])\n",
    "    plt.title('model accuracy')\n",
    "    plt.ylabel('accuracy')\n",
    "    plt.xlabel('epoch')\n",
    "    plt.legend(['train', 'test'], loc='upper left')\n",
    "    plt.show()\n",
    "    # summarize history for loss\n",
    "    plt.plot(hist.history['loss'])\n",
    "    plt.plot(hist.history['val_loss'])\n",
    "    plt.title('model loss')\n",
    "    plt.ylabel('loss')\n",
    "    plt.xlabel('epoch')\n",
    "    plt.legend(['train', 'test'], loc='upper left')\n",
    "    plt.show()\n",
    "    # summarize history for lr\n",
    "    plt.plot(hist.history['lr'])\n",
    "    plt.title('model lr')\n",
    "    plt.ylabel('lr')\n",
    "    plt.xlabel('epoch')\n",
    "    #plt.legend(['train', 'test'], loc='upper left')\n",
    "    plt.show()"
   ]
  },
  {
   "cell_type": "markdown",
   "metadata": {},
   "source": [
    "# newer"
   ]
  },
  {
   "cell_type": "code",
   "execution_count": 8,
   "metadata": {
    "scrolled": true
   },
   "outputs": [
    {
     "name": "stdout",
     "output_type": "stream",
     "text": [
      "WARNING:tensorflow:Gradients do not exist for variables ['w:0', 'w:0', 'w:0'] when minimizing the loss.\n"
     ]
    },
    {
     "name": "stderr",
     "output_type": "stream",
     "text": [
      "WARNING:tensorflow:Gradients do not exist for variables ['w:0', 'w:0', 'w:0'] when minimizing the loss.\n"
     ]
    },
    {
     "name": "stdout",
     "output_type": "stream",
     "text": [
      "WARNING:tensorflow:Gradients do not exist for variables ['w:0', 'w:0', 'w:0'] when minimizing the loss.\n"
     ]
    },
    {
     "name": "stderr",
     "output_type": "stream",
     "text": [
      "WARNING:tensorflow:Gradients do not exist for variables ['w:0', 'w:0', 'w:0'] when minimizing the loss.\n"
     ]
    },
    {
     "name": "stdout",
     "output_type": "stream",
     "text": [
      "WARNING:tensorflow:Gradients do not exist for variables ['w:0', 'w:0', 'w:0'] when minimizing the loss.\n"
     ]
    },
    {
     "name": "stderr",
     "output_type": "stream",
     "text": [
      "WARNING:tensorflow:Gradients do not exist for variables ['w:0', 'w:0', 'w:0'] when minimizing the loss.\n"
     ]
    },
    {
     "name": "stdout",
     "output_type": "stream",
     "text": [
      "WARNING:tensorflow:Gradients do not exist for variables ['w:0', 'w:0', 'w:0'] when minimizing the loss.\n"
     ]
    },
    {
     "name": "stderr",
     "output_type": "stream",
     "text": [
      "WARNING:tensorflow:Gradients do not exist for variables ['w:0', 'w:0', 'w:0'] when minimizing the loss.\n"
     ]
    },
    {
     "name": "stdout",
     "output_type": "stream",
     "text": [
      "148/148 [==============================] - 108s 728ms/step - loss: 2.2274 - accuracy: 0.2380 - val_loss: 2.8175 - val_accuracy: 0.0915\n",
      "Epoch 1/1000\n",
      "148/148 [==============================] - 102s 692ms/step - loss: 1.8630 - accuracy: 0.3448 - val_loss: 3.9512 - val_accuracy: 0.0994 - lr: 0.0010\n",
      "Epoch 2/1000\n",
      "148/148 [==============================] - 103s 699ms/step - loss: 1.7258 - accuracy: 0.3986 - val_loss: 1.9875 - val_accuracy: 0.3096 - lr: 0.0010\n",
      "Epoch 3/1000\n",
      " 10/148 [=>............................] - ETA: 1:19 - loss: 1.6412 - accuracy: 0.4422"
     ]
    },
    {
     "ename": "KeyboardInterrupt",
     "evalue": "",
     "output_type": "error",
     "traceback": [
      "\u001b[0;31m---------------------------------------------------------------------------\u001b[0m",
      "\u001b[0;31mKeyboardInterrupt\u001b[0m                         Traceback (most recent call last)",
      "\u001b[0;32m<ipython-input-8-49bc22d58bdd>\u001b[0m in \u001b[0;36m<module>\u001b[0;34m\u001b[0m\n\u001b[1;32m      1\u001b[0m \u001b[0mmodel\u001b[0m \u001b[0;34m=\u001b[0m \u001b[0minitialize_base_model\u001b[0m\u001b[0;34m(\u001b[0m\u001b[0;34m''\u001b[0m\u001b[0;34m,\u001b[0m\u001b[0;36m1\u001b[0m\u001b[0;34m,\u001b[0m \u001b[0mlr\u001b[0m\u001b[0;34m=\u001b[0m\u001b[0;36m1e-3\u001b[0m\u001b[0;34m)\u001b[0m\u001b[0;34m\u001b[0m\u001b[0;34m\u001b[0m\u001b[0m\n\u001b[0;32m----> 2\u001b[0;31m \u001b[0mhist\u001b[0m \u001b[0;34m=\u001b[0m \u001b[0mtrain_model\u001b[0m\u001b[0;34m(\u001b[0m\u001b[0mmodel\u001b[0m\u001b[0;34m)\u001b[0m\u001b[0;34m\u001b[0m\u001b[0;34m\u001b[0m\u001b[0m\n\u001b[0m",
      "\u001b[0;32m<ipython-input-1-552b3f3edc1a>\u001b[0m in \u001b[0;36mtrain_model\u001b[0;34m(model, to_convergence, epochs)\u001b[0m\n\u001b[1;32m    157\u001b[0m \u001b[0;34m\u001b[0m\u001b[0m\n\u001b[1;32m    158\u001b[0m \u001b[0;34m\u001b[0m\u001b[0m\n\u001b[0;32m--> 159\u001b[0;31m     hist = model.fit(\n\u001b[0m\u001b[1;32m    160\u001b[0m         \u001b[0mx\u001b[0m\u001b[0;34m=\u001b[0m\u001b[0mds_train\u001b[0m\u001b[0;34m,\u001b[0m\u001b[0;34m\u001b[0m\u001b[0;34m\u001b[0m\u001b[0m\n\u001b[1;32m    161\u001b[0m             \u001b[0;31m#steps_per_epoch=1,\u001b[0m\u001b[0;34m\u001b[0m\u001b[0;34m\u001b[0m\u001b[0;34m\u001b[0m\u001b[0m\n",
      "\u001b[0;32m~/anaconda2/envs/master-thesis/lib/python3.8/site-packages/tensorflow/python/keras/engine/training.py\u001b[0m in \u001b[0;36m_method_wrapper\u001b[0;34m(self, *args, **kwargs)\u001b[0m\n\u001b[1;32m     64\u001b[0m   \u001b[0;32mdef\u001b[0m \u001b[0m_method_wrapper\u001b[0m\u001b[0;34m(\u001b[0m\u001b[0mself\u001b[0m\u001b[0;34m,\u001b[0m \u001b[0;34m*\u001b[0m\u001b[0margs\u001b[0m\u001b[0;34m,\u001b[0m \u001b[0;34m**\u001b[0m\u001b[0mkwargs\u001b[0m\u001b[0;34m)\u001b[0m\u001b[0;34m:\u001b[0m\u001b[0;34m\u001b[0m\u001b[0;34m\u001b[0m\u001b[0m\n\u001b[1;32m     65\u001b[0m     \u001b[0;32mif\u001b[0m \u001b[0;32mnot\u001b[0m \u001b[0mself\u001b[0m\u001b[0;34m.\u001b[0m\u001b[0m_in_multi_worker_mode\u001b[0m\u001b[0;34m(\u001b[0m\u001b[0;34m)\u001b[0m\u001b[0;34m:\u001b[0m  \u001b[0;31m# pylint: disable=protected-access\u001b[0m\u001b[0;34m\u001b[0m\u001b[0;34m\u001b[0m\u001b[0m\n\u001b[0;32m---> 66\u001b[0;31m       \u001b[0;32mreturn\u001b[0m \u001b[0mmethod\u001b[0m\u001b[0;34m(\u001b[0m\u001b[0mself\u001b[0m\u001b[0;34m,\u001b[0m \u001b[0;34m*\u001b[0m\u001b[0margs\u001b[0m\u001b[0;34m,\u001b[0m \u001b[0;34m**\u001b[0m\u001b[0mkwargs\u001b[0m\u001b[0;34m)\u001b[0m\u001b[0;34m\u001b[0m\u001b[0;34m\u001b[0m\u001b[0m\n\u001b[0m\u001b[1;32m     67\u001b[0m \u001b[0;34m\u001b[0m\u001b[0m\n\u001b[1;32m     68\u001b[0m     \u001b[0;31m# Running inside `run_distribute_coordinator` already.\u001b[0m\u001b[0;34m\u001b[0m\u001b[0;34m\u001b[0m\u001b[0;34m\u001b[0m\u001b[0m\n",
      "\u001b[0;32m~/anaconda2/envs/master-thesis/lib/python3.8/site-packages/tensorflow/python/keras/engine/training.py\u001b[0m in \u001b[0;36mfit\u001b[0;34m(self, x, y, batch_size, epochs, verbose, callbacks, validation_split, validation_data, shuffle, class_weight, sample_weight, initial_epoch, steps_per_epoch, validation_steps, validation_batch_size, validation_freq, max_queue_size, workers, use_multiprocessing)\u001b[0m\n\u001b[1;32m    853\u001b[0m                 \u001b[0mcontext\u001b[0m\u001b[0;34m.\u001b[0m\u001b[0masync_wait\u001b[0m\u001b[0;34m(\u001b[0m\u001b[0;34m)\u001b[0m\u001b[0;34m\u001b[0m\u001b[0;34m\u001b[0m\u001b[0m\n\u001b[1;32m    854\u001b[0m               \u001b[0mlogs\u001b[0m \u001b[0;34m=\u001b[0m \u001b[0mtmp_logs\u001b[0m  \u001b[0;31m# No error, now safe to assign to logs.\u001b[0m\u001b[0;34m\u001b[0m\u001b[0;34m\u001b[0m\u001b[0m\n\u001b[0;32m--> 855\u001b[0;31m               \u001b[0mcallbacks\u001b[0m\u001b[0;34m.\u001b[0m\u001b[0mon_train_batch_end\u001b[0m\u001b[0;34m(\u001b[0m\u001b[0mstep\u001b[0m\u001b[0;34m,\u001b[0m \u001b[0mlogs\u001b[0m\u001b[0;34m)\u001b[0m\u001b[0;34m\u001b[0m\u001b[0;34m\u001b[0m\u001b[0m\n\u001b[0m\u001b[1;32m    856\u001b[0m         \u001b[0mepoch_logs\u001b[0m \u001b[0;34m=\u001b[0m \u001b[0mcopy\u001b[0m\u001b[0;34m.\u001b[0m\u001b[0mcopy\u001b[0m\u001b[0;34m(\u001b[0m\u001b[0mlogs\u001b[0m\u001b[0;34m)\u001b[0m\u001b[0;34m\u001b[0m\u001b[0;34m\u001b[0m\u001b[0m\n\u001b[1;32m    857\u001b[0m \u001b[0;34m\u001b[0m\u001b[0m\n",
      "\u001b[0;32m~/anaconda2/envs/master-thesis/lib/python3.8/site-packages/tensorflow/python/keras/callbacks.py\u001b[0m in \u001b[0;36mon_train_batch_end\u001b[0;34m(self, batch, logs)\u001b[0m\n\u001b[1;32m    387\u001b[0m     \"\"\"\n\u001b[1;32m    388\u001b[0m     \u001b[0;32mif\u001b[0m \u001b[0mself\u001b[0m\u001b[0;34m.\u001b[0m\u001b[0m_should_call_train_batch_hooks\u001b[0m\u001b[0;34m:\u001b[0m\u001b[0;34m\u001b[0m\u001b[0;34m\u001b[0m\u001b[0m\n\u001b[0;32m--> 389\u001b[0;31m       \u001b[0mlogs\u001b[0m \u001b[0;34m=\u001b[0m \u001b[0mself\u001b[0m\u001b[0;34m.\u001b[0m\u001b[0m_process_logs\u001b[0m\u001b[0;34m(\u001b[0m\u001b[0mlogs\u001b[0m\u001b[0;34m)\u001b[0m\u001b[0;34m\u001b[0m\u001b[0;34m\u001b[0m\u001b[0m\n\u001b[0m\u001b[1;32m    390\u001b[0m       \u001b[0mself\u001b[0m\u001b[0;34m.\u001b[0m\u001b[0m_call_batch_hook\u001b[0m\u001b[0;34m(\u001b[0m\u001b[0mModeKeys\u001b[0m\u001b[0;34m.\u001b[0m\u001b[0mTRAIN\u001b[0m\u001b[0;34m,\u001b[0m \u001b[0;34m'end'\u001b[0m\u001b[0;34m,\u001b[0m \u001b[0mbatch\u001b[0m\u001b[0;34m,\u001b[0m \u001b[0mlogs\u001b[0m\u001b[0;34m=\u001b[0m\u001b[0mlogs\u001b[0m\u001b[0;34m)\u001b[0m\u001b[0;34m\u001b[0m\u001b[0;34m\u001b[0m\u001b[0m\n\u001b[1;32m    391\u001b[0m \u001b[0;34m\u001b[0m\u001b[0m\n",
      "\u001b[0;32m~/anaconda2/envs/master-thesis/lib/python3.8/site-packages/tensorflow/python/keras/callbacks.py\u001b[0m in \u001b[0;36m_process_logs\u001b[0;34m(self, logs)\u001b[0m\n\u001b[1;32m    263\u001b[0m     \u001b[0;34m\"\"\"Turns tensors into numpy arrays or Python scalars.\"\"\"\u001b[0m\u001b[0;34m\u001b[0m\u001b[0;34m\u001b[0m\u001b[0m\n\u001b[1;32m    264\u001b[0m     \u001b[0;32mif\u001b[0m \u001b[0mlogs\u001b[0m\u001b[0;34m:\u001b[0m\u001b[0;34m\u001b[0m\u001b[0;34m\u001b[0m\u001b[0m\n\u001b[0;32m--> 265\u001b[0;31m       \u001b[0;32mreturn\u001b[0m \u001b[0mtf_utils\u001b[0m\u001b[0;34m.\u001b[0m\u001b[0mto_numpy_or_python_type\u001b[0m\u001b[0;34m(\u001b[0m\u001b[0mlogs\u001b[0m\u001b[0;34m)\u001b[0m\u001b[0;34m\u001b[0m\u001b[0;34m\u001b[0m\u001b[0m\n\u001b[0m\u001b[1;32m    266\u001b[0m     \u001b[0;32mreturn\u001b[0m \u001b[0;34m{\u001b[0m\u001b[0;34m}\u001b[0m\u001b[0;34m\u001b[0m\u001b[0;34m\u001b[0m\u001b[0m\n\u001b[1;32m    267\u001b[0m \u001b[0;34m\u001b[0m\u001b[0m\n",
      "\u001b[0;32m~/anaconda2/envs/master-thesis/lib/python3.8/site-packages/tensorflow/python/keras/utils/tf_utils.py\u001b[0m in \u001b[0;36mto_numpy_or_python_type\u001b[0;34m(tensors)\u001b[0m\n\u001b[1;32m    521\u001b[0m     \u001b[0;32mreturn\u001b[0m \u001b[0mt\u001b[0m  \u001b[0;31m# Don't turn ragged or sparse tensors to NumPy.\u001b[0m\u001b[0;34m\u001b[0m\u001b[0;34m\u001b[0m\u001b[0m\n\u001b[1;32m    522\u001b[0m \u001b[0;34m\u001b[0m\u001b[0m\n\u001b[0;32m--> 523\u001b[0;31m   \u001b[0;32mreturn\u001b[0m \u001b[0mnest\u001b[0m\u001b[0;34m.\u001b[0m\u001b[0mmap_structure\u001b[0m\u001b[0;34m(\u001b[0m\u001b[0m_to_single_numpy_or_python_type\u001b[0m\u001b[0;34m,\u001b[0m \u001b[0mtensors\u001b[0m\u001b[0;34m)\u001b[0m\u001b[0;34m\u001b[0m\u001b[0;34m\u001b[0m\u001b[0m\n\u001b[0m\u001b[1;32m    524\u001b[0m \u001b[0;34m\u001b[0m\u001b[0m\n",
      "\u001b[0;32m~/anaconda2/envs/master-thesis/lib/python3.8/site-packages/tensorflow/python/util/nest.py\u001b[0m in \u001b[0;36mmap_structure\u001b[0;34m(func, *structure, **kwargs)\u001b[0m\n\u001b[1;32m    615\u001b[0m \u001b[0;34m\u001b[0m\u001b[0m\n\u001b[1;32m    616\u001b[0m   return pack_sequence_as(\n\u001b[0;32m--> 617\u001b[0;31m       \u001b[0mstructure\u001b[0m\u001b[0;34m[\u001b[0m\u001b[0;36m0\u001b[0m\u001b[0;34m]\u001b[0m\u001b[0;34m,\u001b[0m \u001b[0;34m[\u001b[0m\u001b[0mfunc\u001b[0m\u001b[0;34m(\u001b[0m\u001b[0;34m*\u001b[0m\u001b[0mx\u001b[0m\u001b[0;34m)\u001b[0m \u001b[0;32mfor\u001b[0m \u001b[0mx\u001b[0m \u001b[0;32min\u001b[0m \u001b[0mentries\u001b[0m\u001b[0;34m]\u001b[0m\u001b[0;34m,\u001b[0m\u001b[0;34m\u001b[0m\u001b[0;34m\u001b[0m\u001b[0m\n\u001b[0m\u001b[1;32m    618\u001b[0m       expand_composites=expand_composites)\n\u001b[1;32m    619\u001b[0m \u001b[0;34m\u001b[0m\u001b[0m\n",
      "\u001b[0;32m~/anaconda2/envs/master-thesis/lib/python3.8/site-packages/tensorflow/python/util/nest.py\u001b[0m in \u001b[0;36m<listcomp>\u001b[0;34m(.0)\u001b[0m\n\u001b[1;32m    615\u001b[0m \u001b[0;34m\u001b[0m\u001b[0m\n\u001b[1;32m    616\u001b[0m   return pack_sequence_as(\n\u001b[0;32m--> 617\u001b[0;31m       \u001b[0mstructure\u001b[0m\u001b[0;34m[\u001b[0m\u001b[0;36m0\u001b[0m\u001b[0;34m]\u001b[0m\u001b[0;34m,\u001b[0m \u001b[0;34m[\u001b[0m\u001b[0mfunc\u001b[0m\u001b[0;34m(\u001b[0m\u001b[0;34m*\u001b[0m\u001b[0mx\u001b[0m\u001b[0;34m)\u001b[0m \u001b[0;32mfor\u001b[0m \u001b[0mx\u001b[0m \u001b[0;32min\u001b[0m \u001b[0mentries\u001b[0m\u001b[0;34m]\u001b[0m\u001b[0;34m,\u001b[0m\u001b[0;34m\u001b[0m\u001b[0;34m\u001b[0m\u001b[0m\n\u001b[0m\u001b[1;32m    618\u001b[0m       expand_composites=expand_composites)\n\u001b[1;32m    619\u001b[0m \u001b[0;34m\u001b[0m\u001b[0m\n",
      "\u001b[0;32m~/anaconda2/envs/master-thesis/lib/python3.8/site-packages/tensorflow/python/keras/utils/tf_utils.py\u001b[0m in \u001b[0;36m_to_single_numpy_or_python_type\u001b[0;34m(t)\u001b[0m\n\u001b[1;32m    517\u001b[0m   \u001b[0;32mdef\u001b[0m \u001b[0m_to_single_numpy_or_python_type\u001b[0m\u001b[0;34m(\u001b[0m\u001b[0mt\u001b[0m\u001b[0;34m)\u001b[0m\u001b[0;34m:\u001b[0m\u001b[0;34m\u001b[0m\u001b[0;34m\u001b[0m\u001b[0m\n\u001b[1;32m    518\u001b[0m     \u001b[0;32mif\u001b[0m \u001b[0misinstance\u001b[0m\u001b[0;34m(\u001b[0m\u001b[0mt\u001b[0m\u001b[0;34m,\u001b[0m \u001b[0mops\u001b[0m\u001b[0;34m.\u001b[0m\u001b[0mTensor\u001b[0m\u001b[0;34m)\u001b[0m\u001b[0;34m:\u001b[0m\u001b[0;34m\u001b[0m\u001b[0;34m\u001b[0m\u001b[0m\n\u001b[0;32m--> 519\u001b[0;31m       \u001b[0mx\u001b[0m \u001b[0;34m=\u001b[0m \u001b[0mt\u001b[0m\u001b[0;34m.\u001b[0m\u001b[0mnumpy\u001b[0m\u001b[0;34m(\u001b[0m\u001b[0;34m)\u001b[0m\u001b[0;34m\u001b[0m\u001b[0;34m\u001b[0m\u001b[0m\n\u001b[0m\u001b[1;32m    520\u001b[0m       \u001b[0;32mreturn\u001b[0m \u001b[0mx\u001b[0m\u001b[0;34m.\u001b[0m\u001b[0mitem\u001b[0m\u001b[0;34m(\u001b[0m\u001b[0;34m)\u001b[0m \u001b[0;32mif\u001b[0m \u001b[0mnp\u001b[0m\u001b[0;34m.\u001b[0m\u001b[0mndim\u001b[0m\u001b[0;34m(\u001b[0m\u001b[0mx\u001b[0m\u001b[0;34m)\u001b[0m \u001b[0;34m==\u001b[0m \u001b[0;36m0\u001b[0m \u001b[0;32melse\u001b[0m \u001b[0mx\u001b[0m\u001b[0;34m\u001b[0m\u001b[0;34m\u001b[0m\u001b[0m\n\u001b[1;32m    521\u001b[0m     \u001b[0;32mreturn\u001b[0m \u001b[0mt\u001b[0m  \u001b[0;31m# Don't turn ragged or sparse tensors to NumPy.\u001b[0m\u001b[0;34m\u001b[0m\u001b[0;34m\u001b[0m\u001b[0m\n",
      "\u001b[0;32m~/anaconda2/envs/master-thesis/lib/python3.8/site-packages/tensorflow/python/framework/ops.py\u001b[0m in \u001b[0;36mnumpy\u001b[0;34m(self)\u001b[0m\n\u001b[1;32m    959\u001b[0m     \"\"\"\n\u001b[1;32m    960\u001b[0m     \u001b[0;31m# TODO(slebedev): Consider avoiding a copy for non-CPU or remote tensors.\u001b[0m\u001b[0;34m\u001b[0m\u001b[0;34m\u001b[0m\u001b[0;34m\u001b[0m\u001b[0m\n\u001b[0;32m--> 961\u001b[0;31m     \u001b[0mmaybe_arr\u001b[0m \u001b[0;34m=\u001b[0m \u001b[0mself\u001b[0m\u001b[0;34m.\u001b[0m\u001b[0m_numpy\u001b[0m\u001b[0;34m(\u001b[0m\u001b[0;34m)\u001b[0m  \u001b[0;31m# pylint: disable=protected-access\u001b[0m\u001b[0;34m\u001b[0m\u001b[0;34m\u001b[0m\u001b[0m\n\u001b[0m\u001b[1;32m    962\u001b[0m     \u001b[0;32mreturn\u001b[0m \u001b[0mmaybe_arr\u001b[0m\u001b[0;34m.\u001b[0m\u001b[0mcopy\u001b[0m\u001b[0;34m(\u001b[0m\u001b[0;34m)\u001b[0m \u001b[0;32mif\u001b[0m \u001b[0misinstance\u001b[0m\u001b[0;34m(\u001b[0m\u001b[0mmaybe_arr\u001b[0m\u001b[0;34m,\u001b[0m \u001b[0mnp\u001b[0m\u001b[0;34m.\u001b[0m\u001b[0mndarray\u001b[0m\u001b[0;34m)\u001b[0m \u001b[0;32melse\u001b[0m \u001b[0mmaybe_arr\u001b[0m\u001b[0;34m\u001b[0m\u001b[0;34m\u001b[0m\u001b[0m\n\u001b[1;32m    963\u001b[0m \u001b[0;34m\u001b[0m\u001b[0m\n",
      "\u001b[0;32m~/anaconda2/envs/master-thesis/lib/python3.8/site-packages/tensorflow/python/framework/ops.py\u001b[0m in \u001b[0;36m_numpy\u001b[0;34m(self)\u001b[0m\n\u001b[1;32m    925\u001b[0m     \u001b[0;31m# pylint: disable=protected-access\u001b[0m\u001b[0;34m\u001b[0m\u001b[0;34m\u001b[0m\u001b[0;34m\u001b[0m\u001b[0m\n\u001b[1;32m    926\u001b[0m     \u001b[0;32mtry\u001b[0m\u001b[0;34m:\u001b[0m\u001b[0;34m\u001b[0m\u001b[0;34m\u001b[0m\u001b[0m\n\u001b[0;32m--> 927\u001b[0;31m       \u001b[0;32mreturn\u001b[0m \u001b[0mself\u001b[0m\u001b[0;34m.\u001b[0m\u001b[0m_numpy_internal\u001b[0m\u001b[0;34m(\u001b[0m\u001b[0;34m)\u001b[0m\u001b[0;34m\u001b[0m\u001b[0;34m\u001b[0m\u001b[0m\n\u001b[0m\u001b[1;32m    928\u001b[0m     \u001b[0;32mexcept\u001b[0m \u001b[0mcore\u001b[0m\u001b[0;34m.\u001b[0m\u001b[0m_NotOkStatusException\u001b[0m \u001b[0;32mas\u001b[0m \u001b[0me\u001b[0m\u001b[0;34m:\u001b[0m\u001b[0;34m\u001b[0m\u001b[0;34m\u001b[0m\u001b[0m\n\u001b[1;32m    929\u001b[0m       \u001b[0msix\u001b[0m\u001b[0;34m.\u001b[0m\u001b[0mraise_from\u001b[0m\u001b[0;34m(\u001b[0m\u001b[0mcore\u001b[0m\u001b[0;34m.\u001b[0m\u001b[0m_status_to_exception\u001b[0m\u001b[0;34m(\u001b[0m\u001b[0me\u001b[0m\u001b[0;34m.\u001b[0m\u001b[0mcode\u001b[0m\u001b[0;34m,\u001b[0m \u001b[0me\u001b[0m\u001b[0;34m.\u001b[0m\u001b[0mmessage\u001b[0m\u001b[0;34m)\u001b[0m\u001b[0;34m,\u001b[0m \u001b[0;32mNone\u001b[0m\u001b[0;34m)\u001b[0m\u001b[0;34m\u001b[0m\u001b[0;34m\u001b[0m\u001b[0m\n",
      "\u001b[0;31mKeyboardInterrupt\u001b[0m: "
     ]
    }
   ],
   "source": [
    "model = initialize_base_model('',1, lr=1e-3)\n",
    "hist = train_model(model)"
   ]
  },
  {
   "cell_type": "markdown",
   "metadata": {},
   "source": [
    "# with pre-augmentation"
   ]
  },
  {
   "cell_type": "code",
   "execution_count": 20,
   "metadata": {
    "scrolled": true
   },
   "outputs": [
    {
     "name": "stdout",
     "output_type": "stream",
     "text": [
      "WARNING:tensorflow:Gradients do not exist for variables ['w:0', 'w:0', 'w:0'] when minimizing the loss.\n"
     ]
    },
    {
     "name": "stderr",
     "output_type": "stream",
     "text": [
      "WARNING:tensorflow:Gradients do not exist for variables ['w:0', 'w:0', 'w:0'] when minimizing the loss.\n"
     ]
    },
    {
     "name": "stdout",
     "output_type": "stream",
     "text": [
      "WARNING:tensorflow:Gradients do not exist for variables ['w:0', 'w:0', 'w:0'] when minimizing the loss.\n"
     ]
    },
    {
     "name": "stderr",
     "output_type": "stream",
     "text": [
      "WARNING:tensorflow:Gradients do not exist for variables ['w:0', 'w:0', 'w:0'] when minimizing the loss.\n"
     ]
    },
    {
     "name": "stdout",
     "output_type": "stream",
     "text": [
      "WARNING:tensorflow:Gradients do not exist for variables ['w:0', 'w:0', 'w:0'] when minimizing the loss.\n"
     ]
    },
    {
     "name": "stderr",
     "output_type": "stream",
     "text": [
      "WARNING:tensorflow:Gradients do not exist for variables ['w:0', 'w:0', 'w:0'] when minimizing the loss.\n"
     ]
    },
    {
     "name": "stdout",
     "output_type": "stream",
     "text": [
      "WARNING:tensorflow:Gradients do not exist for variables ['w:0', 'w:0', 'w:0'] when minimizing the loss.\n"
     ]
    },
    {
     "name": "stderr",
     "output_type": "stream",
     "text": [
      "WARNING:tensorflow:Gradients do not exist for variables ['w:0', 'w:0', 'w:0'] when minimizing the loss.\n"
     ]
    },
    {
     "name": "stdout",
     "output_type": "stream",
     "text": [
      "148/148 [==============================] - 117s 790ms/step - loss: 2.2112 - accuracy: 0.2591 - val_loss: 2.4087 - val_accuracy: 0.1432\n",
      "Epoch 1/3\n",
      "148/148 [==============================] - 116s 783ms/step - loss: 1.7842 - accuracy: 0.3839 - val_loss: 3.3392 - val_accuracy: 0.1702 - lr: 0.0010\n",
      "Epoch 2/3\n",
      "148/148 [==============================] - 116s 785ms/step - loss: 1.6117 - accuracy: 0.4557 - val_loss: 15.0710 - val_accuracy: 0.1417 - lr: 0.0010\n",
      "Epoch 3/3\n",
      "148/148 [==============================] - 116s 783ms/step - loss: 1.4498 - accuracy: 0.5136 - val_loss: 1.7841 - val_accuracy: 0.4296 - lr: 0.0010\n"
     ]
    }
   ],
   "source": [
    "model = initialize_base_model('',1, lr=1e-3)\n",
    "hist = train_model(model,epochs=3, to_convergence=False)"
   ]
  },
  {
   "cell_type": "code",
   "execution_count": 21,
   "metadata": {},
   "outputs": [
    {
     "name": "stdout",
     "output_type": "stream",
     "text": [
      "62/62 [==============================] - 10s 162ms/step - loss: 1.7841 - accuracy: 0.4296\n"
     ]
    }
   ],
   "source": [
    "res = model.evaluate(ds_test, verbose=1) "
   ]
  },
  {
   "cell_type": "code",
   "execution_count": 22,
   "metadata": {
    "scrolled": true
   },
   "outputs": [
    {
     "name": "stdout",
     "output_type": "stream",
     "text": [
      "WARNING:tensorflow:Gradients do not exist for variables ['w:0', 'w:0', 'w:0'] when minimizing the loss.\n"
     ]
    },
    {
     "name": "stderr",
     "output_type": "stream",
     "text": [
      "WARNING:tensorflow:Gradients do not exist for variables ['w:0', 'w:0', 'w:0'] when minimizing the loss.\n"
     ]
    },
    {
     "name": "stdout",
     "output_type": "stream",
     "text": [
      "WARNING:tensorflow:Gradients do not exist for variables ['w:0', 'w:0', 'w:0'] when minimizing the loss.\n"
     ]
    },
    {
     "name": "stderr",
     "output_type": "stream",
     "text": [
      "WARNING:tensorflow:Gradients do not exist for variables ['w:0', 'w:0', 'w:0'] when minimizing the loss.\n"
     ]
    },
    {
     "name": "stdout",
     "output_type": "stream",
     "text": [
      "WARNING:tensorflow:Gradients do not exist for variables ['w:0', 'w:0', 'w:0'] when minimizing the loss.\n"
     ]
    },
    {
     "name": "stderr",
     "output_type": "stream",
     "text": [
      "WARNING:tensorflow:Gradients do not exist for variables ['w:0', 'w:0', 'w:0'] when minimizing the loss.\n"
     ]
    },
    {
     "name": "stdout",
     "output_type": "stream",
     "text": [
      "WARNING:tensorflow:Gradients do not exist for variables ['w:0', 'w:0', 'w:0'] when minimizing the loss.\n"
     ]
    },
    {
     "name": "stderr",
     "output_type": "stream",
     "text": [
      "WARNING:tensorflow:Gradients do not exist for variables ['w:0', 'w:0', 'w:0'] when minimizing the loss.\n"
     ]
    },
    {
     "name": "stdout",
     "output_type": "stream",
     "text": [
      "148/148 [==============================] - 116s 783ms/step - loss: 2.2029 - accuracy: 0.2576 - val_loss: 2.9789 - val_accuracy: 0.0950\n",
      "Epoch 1/3\n",
      "148/148 [==============================] - 116s 785ms/step - loss: 1.8276 - accuracy: 0.3637 - val_loss: 3.1887 - val_accuracy: 0.1684 - lr: 0.0010\n",
      "Epoch 2/3\n",
      "148/148 [==============================] - 116s 782ms/step - loss: 1.5790 - accuracy: 0.4620 - val_loss: 1.6618 - val_accuracy: 0.4510 - lr: 0.0010\n",
      "Epoch 3/3\n",
      "148/148 [==============================] - 116s 781ms/step - loss: 1.4372 - accuracy: 0.5184 - val_loss: 1.7527 - val_accuracy: 0.4535 - lr: 0.0010\n"
     ]
    }
   ],
   "source": [
    "model = initialize_base_model('',1, lr=1e-3)\n",
    "hist = train_model(model,epochs=3, to_convergence=False)"
   ]
  },
  {
   "cell_type": "code",
   "execution_count": 23,
   "metadata": {},
   "outputs": [
    {
     "name": "stdout",
     "output_type": "stream",
     "text": [
      "62/62 [==============================] - 10s 162ms/step - loss: 1.7527 - accuracy: 0.4535\n"
     ]
    }
   ],
   "source": [
    "res = model.evaluate(ds_test, verbose=1) "
   ]
  },
  {
   "cell_type": "code",
   "execution_count": 25,
   "metadata": {
    "scrolled": true
   },
   "outputs": [
    {
     "name": "stdout",
     "output_type": "stream",
     "text": [
      "WARNING:tensorflow:Gradients do not exist for variables ['w:0', 'w:0', 'w:0'] when minimizing the loss.\n"
     ]
    },
    {
     "name": "stderr",
     "output_type": "stream",
     "text": [
      "WARNING:tensorflow:Gradients do not exist for variables ['w:0', 'w:0', 'w:0'] when minimizing the loss.\n"
     ]
    },
    {
     "name": "stdout",
     "output_type": "stream",
     "text": [
      "WARNING:tensorflow:Gradients do not exist for variables ['w:0', 'w:0', 'w:0'] when minimizing the loss.\n"
     ]
    },
    {
     "name": "stderr",
     "output_type": "stream",
     "text": [
      "WARNING:tensorflow:Gradients do not exist for variables ['w:0', 'w:0', 'w:0'] when minimizing the loss.\n"
     ]
    },
    {
     "name": "stdout",
     "output_type": "stream",
     "text": [
      "WARNING:tensorflow:Gradients do not exist for variables ['w:0', 'w:0', 'w:0'] when minimizing the loss.\n"
     ]
    },
    {
     "name": "stderr",
     "output_type": "stream",
     "text": [
      "WARNING:tensorflow:Gradients do not exist for variables ['w:0', 'w:0', 'w:0'] when minimizing the loss.\n"
     ]
    },
    {
     "name": "stdout",
     "output_type": "stream",
     "text": [
      "WARNING:tensorflow:Gradients do not exist for variables ['w:0', 'w:0', 'w:0'] when minimizing the loss.\n"
     ]
    },
    {
     "name": "stderr",
     "output_type": "stream",
     "text": [
      "WARNING:tensorflow:Gradients do not exist for variables ['w:0', 'w:0', 'w:0'] when minimizing the loss.\n"
     ]
    },
    {
     "name": "stdout",
     "output_type": "stream",
     "text": [
      "148/148 [==============================] - 116s 782ms/step - loss: 2.1848 - accuracy: 0.2730 - val_loss: 3.8927 - val_accuracy: 0.1017\n",
      "Epoch 1/3\n",
      "148/148 [==============================] - 116s 782ms/step - loss: 1.8048 - accuracy: 0.3743 - val_loss: 3.5496 - val_accuracy: 0.1330 - lr: 0.0010\n",
      "Epoch 2/3\n",
      "148/148 [==============================] - 115s 779ms/step - loss: 1.6672 - accuracy: 0.4274 - val_loss: 2.1978 - val_accuracy: 0.2711 - lr: 0.0010\n",
      "Epoch 3/3\n",
      "148/148 [==============================] - 115s 779ms/step - loss: 1.5265 - accuracy: 0.4873 - val_loss: 1.9622 - val_accuracy: 0.3223 - lr: 0.0010\n"
     ]
    }
   ],
   "source": [
    "model = initialize_base_model('',1, lr=1e-3)\n",
    "hist = train_model(model,epochs=3, to_convergence=False)"
   ]
  },
  {
   "cell_type": "code",
   "execution_count": 26,
   "metadata": {},
   "outputs": [
    {
     "name": "stdout",
     "output_type": "stream",
     "text": [
      "62/62 [==============================] - 10s 160ms/step - loss: 1.9622 - accuracy: 0.3223\n"
     ]
    }
   ],
   "source": [
    "res = model.evaluate(ds_test, verbose=1) "
   ]
  },
  {
   "cell_type": "code",
   "execution_count": 27,
   "metadata": {
    "scrolled": true
   },
   "outputs": [
    {
     "name": "stdout",
     "output_type": "stream",
     "text": [
      "WARNING:tensorflow:Gradients do not exist for variables ['w:0', 'w:0', 'w:0'] when minimizing the loss.\n"
     ]
    },
    {
     "name": "stderr",
     "output_type": "stream",
     "text": [
      "WARNING:tensorflow:Gradients do not exist for variables ['w:0', 'w:0', 'w:0'] when minimizing the loss.\n"
     ]
    },
    {
     "name": "stdout",
     "output_type": "stream",
     "text": [
      "WARNING:tensorflow:Gradients do not exist for variables ['w:0', 'w:0', 'w:0'] when minimizing the loss.\n"
     ]
    },
    {
     "name": "stderr",
     "output_type": "stream",
     "text": [
      "WARNING:tensorflow:Gradients do not exist for variables ['w:0', 'w:0', 'w:0'] when minimizing the loss.\n"
     ]
    },
    {
     "name": "stdout",
     "output_type": "stream",
     "text": [
      "WARNING:tensorflow:Gradients do not exist for variables ['w:0', 'w:0', 'w:0'] when minimizing the loss.\n"
     ]
    },
    {
     "name": "stderr",
     "output_type": "stream",
     "text": [
      "WARNING:tensorflow:Gradients do not exist for variables ['w:0', 'w:0', 'w:0'] when minimizing the loss.\n"
     ]
    },
    {
     "name": "stdout",
     "output_type": "stream",
     "text": [
      "WARNING:tensorflow:Gradients do not exist for variables ['w:0', 'w:0', 'w:0'] when minimizing the loss.\n"
     ]
    },
    {
     "name": "stderr",
     "output_type": "stream",
     "text": [
      "WARNING:tensorflow:Gradients do not exist for variables ['w:0', 'w:0', 'w:0'] when minimizing the loss.\n"
     ]
    },
    {
     "name": "stdout",
     "output_type": "stream",
     "text": [
      "148/148 [==============================] - 116s 783ms/step - loss: 2.1706 - accuracy: 0.2685 - val_loss: 2.9913 - val_accuracy: 0.1093\n",
      "Epoch 1/3\n",
      "148/148 [==============================] - 116s 783ms/step - loss: 1.8418 - accuracy: 0.3605 - val_loss: 3.5483 - val_accuracy: 0.1231 - lr: 0.0010\n",
      "Epoch 2/3\n",
      "148/148 [==============================] - 116s 781ms/step - loss: 1.6596 - accuracy: 0.4338 - val_loss: 2.1663 - val_accuracy: 0.3152 - lr: 0.0010\n",
      "Epoch 3/3\n",
      "148/148 [==============================] - 116s 783ms/step - loss: 1.5094 - accuracy: 0.4876 - val_loss: 4.0797 - val_accuracy: 0.1954 - lr: 0.0010\n"
     ]
    }
   ],
   "source": [
    "model = initialize_base_model('',1, lr=1e-3)\n",
    "hist = train_model(model,epochs=3, to_convergence=False)"
   ]
  },
  {
   "cell_type": "code",
   "execution_count": 28,
   "metadata": {},
   "outputs": [
    {
     "name": "stdout",
     "output_type": "stream",
     "text": [
      "62/62 [==============================] - 10s 161ms/step - loss: 4.0797 - accuracy: 0.1954\n"
     ]
    }
   ],
   "source": [
    "res = model.evaluate(ds_test, verbose=1) "
   ]
  },
  {
   "cell_type": "code",
   "execution_count": null,
   "metadata": {},
   "outputs": [],
   "source": []
  },
  {
   "cell_type": "code",
   "execution_count": null,
   "metadata": {},
   "outputs": [],
   "source": []
  },
  {
   "cell_type": "code",
   "execution_count": null,
   "metadata": {},
   "outputs": [],
   "source": []
  },
  {
   "cell_type": "code",
   "execution_count": null,
   "metadata": {},
   "outputs": [],
   "source": []
  },
  {
   "cell_type": "code",
   "execution_count": null,
   "metadata": {},
   "outputs": [],
   "source": []
  },
  {
   "cell_type": "code",
   "execution_count": null,
   "metadata": {},
   "outputs": [],
   "source": [
    "ratio = .75\n",
    "\n",
    "\n",
    "#random, local, unstructured\n",
    "model = initialize_base_model('',99)\n",
    "model.prune_random_local_unstruct(ratio)\n",
    "compile_model(model)\n",
    "print('random, local, unstructured')\n",
    "print('pre fine-tuning',get_zeros_ratio(model))\n",
    "train_model(model, to_convergence=False, epochs=1)\n",
    "print('post fine-tuning',get_zeros_ratio(model))\n",
    "\n",
    "\n",
    "#random, local, structured\n",
    "model = initialize_base_model('',99)\n",
    "model.prune_random_local_struct(ratio)\n",
    "compile_model(model)\n",
    "print('random, local, structured')\n",
    "print('pre fine-tuning',get_zeros_ratio(model))\n",
    "train_model(model, to_convergence=False, epochs=1)\n",
    "print('post fine-tuning',get_zeros_ratio(model))\n",
    "\n",
    "#magnitude, local, structured\n",
    "model = initialize_base_model('',99)\n",
    "model.prune_magnitude_local_struct(ratio)\n",
    "compile_model(model)\n",
    "print('magnitude, local, structured')\n",
    "print('pre fine-tuning',get_zeros_ratio(model))\n",
    "train_model(model, to_convergence=False, epochs=1)\n",
    "print('post fine-tuning',get_zeros_ratio(model))\n",
    "\n",
    "#magnitude, local, unstructured\n",
    "model = initialize_base_model('',99)\n",
    "model.prune_magnitude_local_unstruct(ratio)\n",
    "compile_model(model)\n",
    "print('magnitude, local, unstructured')\n",
    "print('pre fine-tuning',get_zeros_ratio(model))\n",
    "train_model(model, to_convergence=False, epochs=1)\n",
    "print('post fine-tuning',get_zeros_ratio(model))\n",
    "\n",
    "#magnitude, global, unstructured\n",
    "model = initialize_base_model('',99)\n",
    "model.prune_magnitude_global_unstruct(ratio)\n",
    "compile_model(model)\n",
    "print('magnitude, global, unstructured')\n",
    "print('pre fine-tuning',get_zeros_ratio(model))\n",
    "train_model(model, to_convergence=False, epochs=1)\n",
    "print('post fine-tuning',get_zeros_ratio(model))\n",
    "\n",
    "ratio=.75\n",
    "\n",
    "#magnitude, global, structured\n",
    "model = initialize_base_model('',99)\n",
    "model.prune_magnitude_global_struct(ratio)\n",
    "compile_model(model)\n",
    "print('magnitude, global, structured')\n",
    "print('pre fine-tuning',get_zeros_ratio(model))\n",
    "train_model(model, to_convergence=False, epochs=1)\n",
    "print('post fine-tuning',get_zeros_ratio(model))\n",
    "\n",
    "\n",
    "model = initialize_base_model('',99)\n",
    "model.prune_magnitude_global_struct(ratio)\n",
    "compile_model(model)\n",
    "print('magnitude, global, structured')\n",
    "print('pre fine-tuning',get_zeros_ratio(model))\n",
    "train_model(model, to_convergence=False, epochs=1)\n",
    "print('post fine-tuning',get_zeros_ratio(model))"
   ]
  },
  {
   "cell_type": "code",
   "execution_count": null,
   "metadata": {},
   "outputs": [],
   "source": [
    "class CustomReduceLROnPlateau(tf.keras.callbacks.ReduceLROnPlateau):\n",
    "    def __init__(self,\n",
    "           \n",
    "           monitor='val_loss',\n",
    "            factor=0.1,\n",
    "           patience=10,\n",
    "           verbose=0,\n",
    "           mode='auto',\n",
    "            min_delta=1e-4,\n",
    "           cooldown=0,\n",
    "           min_lr=0,\n",
    "           **kwargs):\n",
    "        print('initing')\n",
    "        super(CustomReduceLROnPlateau, self).__init__()\n",
    "        self.monitor = monitor\n",
    "        if factor >= 1.0:\n",
    "            raise ValueError('ReduceLROnPlateau ' 'does not support a factor >= 1.0.')\n",
    "        if 'epsilon' in kwargs:\n",
    "            min_delta = kwargs.pop('epsilon')\n",
    "            logging.warning('`epsilon` argument is deprecated and '\n",
    "                          'will be removed, use `min_delta` instead.')\n",
    "        self.factor = factor\n",
    "        self.min_lr = min_lr\n",
    "        self.min_delta = min_delta\n",
    "        self.patience = patience\n",
    "        self.verbose = verbose\n",
    "        self.cooldown = cooldown\n",
    "        self.cooldown_counter = 0  # Cooldown counter.\n",
    "        self.wait = 0\n",
    "        self.best = 0\n",
    "        self.mode = mode\n",
    "        self.monitor_op = None\n",
    "        \n",
    "        self._reset()\n",
    "    \n",
    "    \n",
    "    def on_epoch_end(self, epoch, logs=None):\n",
    "    \n",
    "        logs = logs or {}\n",
    "\n",
    "        new_lr = current_lr + .001\n",
    "        \n",
    "        logs['lr'] = tf.keras.backend.get_value(self.model.optimizer.lr)\n",
    "        current = logs.get(self.monitor)\n",
    "        if current is None:\n",
    "            logging.warning('Reduce LR on plateau conditioned on metric `%s` '\n",
    "                            'which is not available. Available metrics are: %s',\n",
    "                            self.monitor, ','.join(list(logs.keys())))\n",
    "\n",
    "        else:\n",
    "            print('current is not none')\n",
    "            if self.in_cooldown():\n",
    "                self.cooldown_counter -= 1\n",
    "                self.wait = 0\n",
    "\n",
    "            if self.monitor_op(current, self.best):\n",
    "                self.best = current\n",
    "                self.wait = 0\n",
    "            elif not self.in_cooldown():\n",
    "                \n",
    "                self.wait += 1\n",
    "\n",
    "                if self.wait >= self.patience:\n",
    "\n",
    "                    old_lr = float(tf.keras.backend.get_value(self.model.optimizer.lr))\n",
    "                    if old_lr > self.min_lr:\n",
    "                        new_lr = old_lr * self.factor\n",
    "                        new_lr = max(new_lr, self.min_lr)\n",
    "                        print('setting new lr value')\n",
    "                        tf.keras.backend.set_value(model.optimizer.lr, new_lr)\n",
    "                        print('new lr value is: ', tf.keras.backend.get_value(self.model.optimizer.lr))\n",
    "                        print('setting new weights')\n",
    "                        model.load_weights('/tmp/checkpoint')\n",
    "                        #compile_model(model)\n",
    "                        print('new weights set')\n",
    "                        if self.verbose > 0:\n",
    "\n",
    "                            print('\\nEpoch %05d: ReduceLROnPlateau reducing learning '\n",
    "                                    'rate to %s.' % (epoch + 1, new_lr))\n",
    "                        self.cooldown_counter = self.cooldown\n",
    "                        self.wait = 0"
   ]
  },
  {
   "cell_type": "code",
   "execution_count": 1,
   "metadata": {},
   "outputs": [
    {
     "ename": "NameError",
     "evalue": "name 'tf' is not defined",
     "output_type": "error",
     "traceback": [
      "\u001b[0;31m---------------------------------------------------------------------------\u001b[0m",
      "\u001b[0;31mNameError\u001b[0m                                 Traceback (most recent call last)",
      "\u001b[0;32m<ipython-input-1-1f9fcfa3b0ee>\u001b[0m in \u001b[0;36m<module>\u001b[0;34m\u001b[0m\n\u001b[0;32m----> 1\u001b[0;31m \u001b[0mtf\u001b[0m\u001b[0;34m.\u001b[0m\u001b[0mkeras\u001b[0m\u001b[0;34m.\u001b[0m\u001b[0mutils\u001b[0m\u001b[0;34m.\u001b[0m\u001b[0mplot_model\u001b[0m\u001b[0;34m(\u001b[0m\u001b[0mmodel\u001b[0m\u001b[0;34m,\u001b[0m \u001b[0mto_file\u001b[0m\u001b[0;34m=\u001b[0m\u001b[0;34m'./resnet'\u001b[0m\u001b[0;34m,\u001b[0m \u001b[0mshow_layer_names\u001b[0m\u001b[0;34m=\u001b[0m\u001b[0;32mFalse\u001b[0m\u001b[0;34m,\u001b[0m\u001b[0mshow_shapes\u001b[0m\u001b[0;34m=\u001b[0m\u001b[0;32mTrue\u001b[0m\u001b[0;34m)\u001b[0m\u001b[0;34m\u001b[0m\u001b[0;34m\u001b[0m\u001b[0m\n\u001b[0m\u001b[1;32m      2\u001b[0m \u001b[0;31m#tf.keras.utils.plot_model(model, to_file='model.png', show_shapes=False, show_layer_names=True, rankdir='TB', expand_nested=False, dpi=96)\u001b[0m\u001b[0;34m\u001b[0m\u001b[0;34m\u001b[0m\u001b[0;34m\u001b[0m\u001b[0m\n",
      "\u001b[0;31mNameError\u001b[0m: name 'tf' is not defined"
     ]
    }
   ],
   "source": [
    "tf.keras.utils.plot_model(model, to_file='./resnet', show_layer_names=False,show_shapes=True)\n",
    "#tf.keras.utils.plot_model(model, to_file='model.png', show_shapes=False, show_layer_names=True, rankdir='TB', expand_nested=False, dpi=96)\n"
   ]
  },
  {
   "cell_type": "code",
   "execution_count": null,
   "metadata": {},
   "outputs": [],
   "source": []
  }
 ],
 "metadata": {
  "kernelspec": {
   "display_name": "Python 3",
   "language": "python",
   "name": "python3"
  },
  "language_info": {
   "codemirror_mode": {
    "name": "ipython",
    "version": 3
   },
   "file_extension": ".py",
   "mimetype": "text/x-python",
   "name": "python",
   "nbconvert_exporter": "python",
   "pygments_lexer": "ipython3",
   "version": "3.8.3"
  }
 },
 "nbformat": 4,
 "nbformat_minor": 2
}
