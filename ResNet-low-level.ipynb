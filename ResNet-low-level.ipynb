{
 "cells": [
  {
   "cell_type": "code",
   "execution_count": 1,
   "metadata": {},
   "outputs": [
    {
     "data": {
      "text/plain": [
       "True"
      ]
     },
     "execution_count": 1,
     "metadata": {},
     "output_type": "execute_result"
    }
   ],
   "source": [
    "from __future__ import absolute_import, division, print_function, unicode_literals\n",
    "\n",
    "import tensorflow as tf\n",
    "import tensorflow_datasets as tfds\n",
    "import numpy as np\n",
    "import pandas as pd\n",
    "from tensorflow.keras import layers\n",
    "from tqdm import tqdm\n",
    "import matplotlib.pyplot as plt\n",
    "import pathlib\n",
    "import os\n",
    "\n",
    "AUTOTUNE = tf.data.experimental.AUTOTUNE\n",
    "tf.keras.backend.clear_session()  # For easy reset of notebook state.\n",
    "\n",
    "tf.__version__\n",
    "tf.executing_eagerly()\n"
   ]
  },
  {
   "cell_type": "code",
   "execution_count": 2,
   "metadata": {},
   "outputs": [],
   "source": [
    "\n",
    "ds = tfds.load(name=\"imagenette\", with_info=True, split=[\"train\",\"validation\"])\n",
    "ds_train=ds[0][0]\n",
    "ds_test=ds[0][1]\n",
    "assert isinstance(ds_train, tf.data.Dataset)\n",
    "\n",
    "def normalize(x):\n",
    "    y = {'image': tf.image.convert_image_dtype(x['image'], tf.float32), 'label': x['label']}\n",
    "    y = (tf.image.resize(y['image'], (224,224)), y['label'])\n",
    "    return y\n",
    "    \n",
    "ds_train = ds_train.map(lambda x: normalize(x))\n",
    "ds_train = ds_train.cache()\n",
    "ds_train = ds_train.shuffle(100)\n",
    "ds_train = ds_train.batch(8)\n",
    "ds_train = ds_train.prefetch(tf.data.experimental.AUTOTUNE)\n",
    "\n",
    "ds_test = ds_test.map(\n",
    "    normalize, num_parallel_calls=tf.data.experimental.AUTOTUNE)\n",
    "ds_test = ds_test.batch(8)\n",
    "ds_test = ds_test.cache()\n",
    "ds_test = ds_test.prefetch(tf.data.experimental.AUTOTUNE)"
   ]
  },
  {
   "cell_type": "code",
   "execution_count": null,
   "metadata": {},
   "outputs": [],
   "source": []
  },
  {
   "cell_type": "code",
   "execution_count": 3,
   "metadata": {},
   "outputs": [],
   "source": [
    "#conv2D with bias and relu activation\n",
    "\n",
    "class CustomConvLayer(layers.Layer):\n",
    "\n",
    "    def __init__(self, weights, mask, biases, stride=1, padding='SAME'):\n",
    "        \n",
    "        super(CustomConvLayer, self).__init__()\n",
    "        self.w = weights\n",
    "        self.m = mask\n",
    "        self.b = biases\n",
    "        self.s = stride\n",
    "        self.p = padding\n",
    "\n",
    "        \n",
    "    def call(self, inputs):\n",
    "        x = tf.nn.conv2d(inputs, tf.multiply(self.w, self.m), strides=[1, self.s, self.s, 1], padding=self.p)\n",
    "        x = tf.nn.bias_add(x, self.b)\n",
    "        return tf.nn.relu(x)\n",
    "    \n",
    "#Dense Layer with Bias\n",
    "class CustomDenseLayer(layers.Layer):\n",
    "    \n",
    "    def __init__(self, weights, mask, bias, activation = 'relu'):\n",
    "        super(CustomDenseLayer, self).__init__()\n",
    "        self.w = weights\n",
    "        self.b = bias\n",
    "        self.a = activation\n",
    "        self.m = mask\n",
    "        \n",
    "    def call(self, inputs):\n",
    "        #print('dense w',self.w)\n",
    "        #print('dense i',inputs)\n",
    "        x = tf.matmul(inputs, tf.multiply(self.w, self.m))\n",
    "        #print('dense x',x)\n",
    "        x = tf.nn.bias_add(x, self.b)\n",
    "        if self.a == 'relu':\n",
    "            return tf.nn.relu(x)\n",
    "        if self.a == 'softmax':\n",
    "            return tf.nn.softmax(x)\n",
    "\n",
    "\n",
    "    \n",
    "class ResNetBlock(tf.keras.layers.Layer):\n",
    "    def __init__(self, input_channels=3 ,output_channels = 64, stride=1):\n",
    "        super(ResNetBlock, self).__init__()\n",
    "        self.stride = stride\n",
    "        #self.conv1 = layers.Conv2D(filters, 3, strides=(self.stride, self.stride), activation='relu', padding='same')\n",
    "        self.conv1 = CustomConvLayer(tf.Variable(tf.keras.initializers.glorot_uniform()([3, 3, input_channels, output_channels])),\n",
    "                                     tf.Variable(tf.ones([3, 3, input_channels, output_channels]), trainable=False),\n",
    "                                     tf.Variable(tf.zeros([output_channels]))\n",
    "                                    )\n",
    "        self.bn1 = layers.BatchNormalization()\n",
    "        #self.conv2 = layers.Conv2D(filters, 3, padding='same')\n",
    "        self.conv2 = CustomConvLayer(tf.Variable(tf.keras.initializers.glorot_uniform()([3, 3, output_channels, output_channels])),\n",
    "                                     tf.Variable(tf.ones([3, 3, output_channels, output_channels]), trainable=False),\n",
    "                                     tf.Variable(tf.zeros([output_channels]))\n",
    "                                    )\n",
    "        self.bn2 = layers.BatchNormalization()\n",
    "        if stride == 2:\n",
    "            self.conv3 = CustomConvLayer(tf.Variable(tf.keras.initializers.glorot_uniform()([1, 1, output_channels, output_channels])),\n",
    "                                         tf.Variable(tf.ones([1, 1, output_channels, output_channels]), trainable=False),\n",
    "                                         tf.Variable(tf.zeros([output_channels])),\n",
    "                                         stride=self.stride)\n",
    "            self.bn3 = layers.BatchNormalization()\n",
    "        self.add1 = layers.Add()\n",
    "    \n",
    "    def call(self, inputs, training=False):\n",
    "        x = self.conv1(inputs)\n",
    "        x = self.bn1(x, training=training)\n",
    "        x = self.conv2(x)\n",
    "        x = self.bn2(x, training=training)\n",
    "        if self.stride == 2:\n",
    "            inputs = self.conv3(x)\n",
    "            inputs = self.bn3(x)\n",
    "        return tf.nn.relu(self.add1([x, inputs]))\n",
    "    \n",
    "\n",
    "class CustomResNetModel(tf.keras.Model):\n",
    "    def __init__(self):\n",
    "        super(CustomResNetModel, self).__init__()\n",
    "        #self.conv1 = layers.Conv2D(64, 7, strides=(2, 2), padding='same')\n",
    "        self.conv1 = CustomConvLayer(tf.Variable(tf.keras.initializers.glorot_uniform()([7, 7, 3, 64])),\n",
    "                                     tf.Variable(tf.ones([7, 7, 3, 64]), trainable=False),\n",
    "                                     tf.Variable(tf.zeros([64])),\n",
    "                                     stride=2)\n",
    "        self.pool1 = layers.MaxPool2D(pool_size=(3,3), strides=(2,2), padding='same')\n",
    "        self.res_block1 = ResNetBlock(64, 64)\n",
    "        #self.res_block2 = ResNetBlock(64, 64)\n",
    "        self.res_block3 = ResNetBlock(64, 64)\n",
    "        self.res_block4 = ResNetBlock(64, 128, 2)\n",
    "        #self.res_block5 = ResNetBlock(128, 128)\n",
    "        #self.res_block6 = ResNetBlock(128, 128)\n",
    "        self.res_block7 = ResNetBlock(128, 128)\n",
    "        self.res_block8 = ResNetBlock(128, 256, 2)\n",
    "        #self.res_block9 = ResNetBlock(256, 256)\n",
    "        #self.res_block10 = ResNetBlock(256, 256)\n",
    "        #self.res_block11 = ResNetBlock(256, 256)\n",
    "        #self.res_block12 = ResNetBlock(256, 256)\n",
    "        self.res_block13 = ResNetBlock(256, 256)\n",
    "        self.res_block14 = ResNetBlock(256 ,512, 2)\n",
    "        #self.res_block15 = ResNetBlock(512, 512)\n",
    "        self.res_block16 = ResNetBlock(512, 512)\n",
    "        self.pool2 = layers.GlobalAveragePooling2D()\n",
    "        self.dense1 = CustomDenseLayer(\n",
    "            tf.Variable(tf.keras.initializers.glorot_uniform()([512, 1000])),\n",
    "            tf.Variable(tf.ones([512, 1000]), trainable=False),\n",
    "            tf.Variable(tf.zeros([1000])),\n",
    "        )\n",
    "        self.dense2 = CustomDenseLayer(\n",
    "            tf.Variable(tf.keras.initializers.glorot_uniform()([1000, 10])),\n",
    "            tf.Variable(tf.ones([1000, 10]), trainable=False),\n",
    "            tf.Variable(tf.zeros([10])),\n",
    "            activation='softmax'\n",
    "        )\n",
    "\n",
    "    def call(self,inputs):\n",
    "        x = self.conv1(inputs)\n",
    "        x = self.pool1(x)\n",
    "        x = self.res_block1(x)\n",
    "        #x = self.res_block2(x)\n",
    "        x = self.res_block3(x)\n",
    "        x = self.res_block4(x)\n",
    "        #x = self.res_block5(x)\n",
    "        #x = self.res_block6(x)\n",
    "        x = self.res_block7(x)\n",
    "        x = self.res_block8(x)\n",
    "        #x = self.res_block9(x)\n",
    "        #x = self.res_block10(x)\n",
    "        #x = self.res_block11(x)\n",
    "        #x = self.res_block12(x)\n",
    "        x = self.res_block13(x)\n",
    "        x = self.res_block14(x)\n",
    "        #x = self.res_block15(x)\n",
    "        x = self.res_block16(x)\n",
    "        x = self.pool2(x)\n",
    "        x = self.dense1(x)\n",
    "        \n",
    "        return self.dense2(x)"
   ]
  },
  {
   "cell_type": "code",
   "execution_count": 27,
   "metadata": {},
   "outputs": [
    {
     "data": {
      "text/plain": [
       "21439680"
      ]
     },
     "execution_count": 27,
     "metadata": {},
     "output_type": "execute_result"
    }
   ],
   "source": [
    "7* 7* 3*64+ 3*3*64*64*3*2+3*3*64*128+3*3*128*128+1*1*128*128++3*3*128*128*2*3+3*3*128*256+3*3*256*256+1*1*256*256++3*3*256*256*2*5+3*3*256*512+3*3*512*512+1*1*512*512+3*3*512*512*2*2\n"
   ]
  },
  {
   "cell_type": "code",
   "execution_count": 4,
   "metadata": {},
   "outputs": [],
   "source": [
    "model = CustomResNetModel()\n",
    "\n",
    "model.compile(\n",
    "    loss='sparse_categorical_crossentropy',\n",
    "    optimizer=tf.keras.optimizers.Adam(0.001),\n",
    "    metrics=['accuracy'],\n",
    ")\n"
   ]
  },
  {
   "cell_type": "code",
   "execution_count": 5,
   "metadata": {
    "scrolled": true
   },
   "outputs": [
    {
     "name": "stdout",
     "output_type": "stream",
     "text": [
      "Epoch 1/3\n",
      "WARNING:tensorflow:Gradients do not exist for variables ['Variable:0', 'Variable:0', 'Variable:0', 'Variable:0', 'Variable:0', 'Variable:0'] when minimizing the loss.\n"
     ]
    },
    {
     "name": "stderr",
     "output_type": "stream",
     "text": [
      "WARNING:tensorflow:Gradients do not exist for variables ['Variable:0', 'Variable:0', 'Variable:0', 'Variable:0', 'Variable:0', 'Variable:0'] when minimizing the loss.\n"
     ]
    },
    {
     "name": "stdout",
     "output_type": "stream",
     "text": [
      "WARNING:tensorflow:Gradients do not exist for variables ['Variable:0', 'Variable:0', 'Variable:0', 'Variable:0', 'Variable:0', 'Variable:0'] when minimizing the loss.\n"
     ]
    },
    {
     "name": "stderr",
     "output_type": "stream",
     "text": [
      "WARNING:tensorflow:Gradients do not exist for variables ['Variable:0', 'Variable:0', 'Variable:0', 'Variable:0', 'Variable:0', 'Variable:0'] when minimizing the loss.\n"
     ]
    },
    {
     "name": "stdout",
     "output_type": "stream",
     "text": [
      "1612/1612 [==============================] - 817s 507ms/step - loss: 2.0603 - accuracy: 0.2648 - val_loss: 2.5609 - val_accuracy: 0.1420\n",
      "Epoch 2/3\n",
      "1612/1612 [==============================] - 788s 489ms/step - loss: 1.7746 - accuracy: 0.3775 - val_loss: 1.7329 - val_accuracy: 0.4320\n",
      "Epoch 3/3\n",
      "1612/1612 [==============================] - 795s 493ms/step - loss: 1.6349 - accuracy: 0.4328 - val_loss: 2.6725 - val_accuracy: 0.3620\n"
     ]
    }
   ],
   "source": [
    "model.fit(\n",
    "    x=ds_train,\n",
    "    #steps_per_epoch=1,\n",
    "    epochs=3,\n",
    "    validation_data=ds_test,\n",
    ")\n",
    "model.run_eagerly = False"
   ]
  },
  {
   "cell_type": "code",
   "execution_count": 6,
   "metadata": {},
   "outputs": [
    {
     "name": "stdout",
     "output_type": "stream",
     "text": [
      "Model: \"custom_res_net_model\"\n",
      "_________________________________________________________________\n",
      "Layer (type)                 Output Shape              Param #   \n",
      "=================================================================\n",
      "custom_conv_layer (CustomCon multiple                  18880     \n",
      "_________________________________________________________________\n",
      "max_pooling2d (MaxPooling2D) multiple                  0         \n",
      "_________________________________________________________________\n",
      "res_net_block (ResNetBlock)  multiple                  148096    \n",
      "_________________________________________________________________\n",
      "res_net_block_1 (ResNetBlock multiple                  148096    \n",
      "_________________________________________________________________\n",
      "res_net_block_2 (ResNetBlock multiple                  477056    \n",
      "_________________________________________________________________\n",
      "res_net_block_3 (ResNetBlock multiple                  591104    \n",
      "_________________________________________________________________\n",
      "res_net_block_4 (ResNetBlock multiple                  1904384   \n",
      "_________________________________________________________________\n",
      "res_net_block_5 (ResNetBlock multiple                  2361856   \n",
      "_________________________________________________________________\n",
      "res_net_block_6 (ResNetBlock multiple                  7609856   \n",
      "_________________________________________________________________\n",
      "res_net_block_7 (ResNetBlock multiple                  9442304   \n",
      "_________________________________________________________________\n",
      "global_average_pooling2d (Gl multiple                  0         \n",
      "_________________________________________________________________\n",
      "custom_dense_layer (CustomDe multiple                  1025000   \n",
      "_________________________________________________________________\n",
      "custom_dense_layer_1 (Custom multiple                  20010     \n",
      "=================================================================\n",
      "Total params: 23,746,642\n",
      "Trainable params: 11,876,226\n",
      "Non-trainable params: 11,870,416\n",
      "_________________________________________________________________\n"
     ]
    }
   ],
   "source": [
    "model.summary()"
   ]
  },
  {
   "cell_type": "code",
   "execution_count": 22,
   "metadata": {},
   "outputs": [
    {
     "data": {
      "text/plain": [
       "21961680"
      ]
     },
     "execution_count": 22,
     "metadata": {},
     "output_type": "execute_result"
    }
   ],
   "source": [
    "(21978576)-16896"
   ]
  },
  {
   "cell_type": "code",
   "execution_count": 41,
   "metadata": {},
   "outputs": [
    {
     "data": {
      "text/plain": [
       "21961282"
      ]
     },
     "execution_count": 41,
     "metadata": {},
     "output_type": "execute_result"
    }
   ],
   "source": [
    "\n"
   ]
  },
  {
   "cell_type": "code",
   "execution_count": 40,
   "metadata": {},
   "outputs": [
    {
     "data": {
      "text/plain": [
       "4723712"
      ]
     },
     "execution_count": 40,
     "metadata": {},
     "output_type": "execute_result"
    }
   ],
   "source": [
    "2*3*3*512*512+512+512+2*2048"
   ]
  },
  {
   "cell_type": "code",
   "execution_count": null,
   "metadata": {},
   "outputs": [],
   "source": []
  },
  {
   "cell_type": "code",
   "execution_count": null,
   "metadata": {},
   "outputs": [],
   "source": []
  },
  {
   "cell_type": "code",
   "execution_count": null,
   "metadata": {},
   "outputs": [],
   "source": []
  },
  {
   "cell_type": "code",
   "execution_count": null,
   "metadata": {},
   "outputs": [],
   "source": [
    "glorot_uniform_initializer = tf.keras.initializers.glorot_uniform()\n",
    "x = glorot_uniform_initializer((3, 3, 64, 64))"
   ]
  },
  {
   "cell_type": "code",
   "execution_count": null,
   "metadata": {},
   "outputs": [],
   "source": [
    "tf.Variable(x)"
   ]
  },
  {
   "cell_type": "code",
   "execution_count": null,
   "metadata": {},
   "outputs": [],
   "source": []
  }
 ],
 "metadata": {
  "kernelspec": {
   "display_name": "Python 3",
   "language": "python",
   "name": "python3"
  },
  "language_info": {
   "codemirror_mode": {
    "name": "ipython",
    "version": 3
   },
   "file_extension": ".py",
   "mimetype": "text/x-python",
   "name": "python",
   "nbconvert_exporter": "python",
   "pygments_lexer": "ipython3",
   "version": "3.6.6"
  }
 },
 "nbformat": 4,
 "nbformat_minor": 2
}
