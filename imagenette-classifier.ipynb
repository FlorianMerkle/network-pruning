{
 "cells": [
  {
   "cell_type": "code",
   "execution_count": 3,
   "metadata": {},
   "outputs": [
    {
     "data": {
      "text/plain": [
       "True"
      ]
     },
     "execution_count": 3,
     "metadata": {},
     "output_type": "execute_result"
    }
   ],
   "source": [
    "from __future__ import absolute_import, division, print_function, unicode_literals\n",
    "\n",
    "import tensorflow as tf\n",
    "import tensorflow_datasets as tfds\n",
    "import numpy as np\n",
    "import pandas as pd\n",
    "from tensorflow.keras import layers\n",
    "from tqdm import tqdm\n",
    "import matplotlib.pyplot as plt\n",
    "import pathlib\n",
    "import os\n",
    "\n",
    "AUTOTUNE = tf.data.experimental.AUTOTUNE\n",
    "tf.keras.backend.clear_session()  # For easy reset of notebook state.\n",
    "\n",
    "tf.__version__\n",
    "tf.executing_eagerly()\n"
   ]
  },
  {
   "cell_type": "code",
   "execution_count": 4,
   "metadata": {},
   "outputs": [],
   "source": [
    "\n",
    "ds = tfds.load(name=\"imagenette\", with_info=True, split=[\"train\",\"validation\"])\n",
    "ds_train=ds[0][0]\n",
    "ds_test=ds[0][1]\n",
    "assert isinstance(ds_train, tf.data.Dataset)\n",
    "\n",
    "def normalize(x):\n",
    "    y = {'image': tf.image.convert_image_dtype(x['image'], tf.float32), 'label': x['label']}\n",
    "    y = (tf.image.resize(y['image'], (224,224)), y['label'])\n",
    "    return y\n",
    "    \n",
    "ds_train = ds_train.map(lambda x: normalize(x))\n",
    "ds_train = ds_train.cache()\n",
    "ds_train = ds_train.shuffle(100)\n",
    "ds_train = ds_train.batch(32)\n",
    "ds_train = ds_train.prefetch(tf.data.experimental.AUTOTUNE)\n",
    "\n",
    "ds_test = ds_test.map(\n",
    "    normalize, num_parallel_calls=tf.data.experimental.AUTOTUNE)\n",
    "ds_test = ds_test.batch(32)\n",
    "ds_test = ds_test.cache()\n",
    "ds_test = ds_test.prefetch(tf.data.experimental.AUTOTUNE)\n"
   ]
  },
  {
   "cell_type": "code",
   "execution_count": null,
   "metadata": {
    "scrolled": false
   },
   "outputs": [
    {
     "name": "stdout",
     "output_type": "stream",
     "text": [
      "Tensor(\"custom_model_6/custom_conv_layer_24/Identity:0\", shape=(None, 224, 224, 16), dtype=float32)\n",
      "Tensor(\"custom_model_6/custom_pool_layer_24/Identity:0\", shape=(None, 112, 112, 16), dtype=float32)\n",
      "Tensor(\"custom_model_6/custom_pool_layer_27/Identity:0\", shape=(None, 14, 14, 128), dtype=float32)\n",
      "Epoch 1/15\n",
      "Tensor(\"custom_model_6/custom_conv_layer_24/Relu:0\", shape=(None, 224, 224, 16), dtype=float32)\n",
      "Tensor(\"custom_model_6/custom_pool_layer_24/MaxPool2d:0\", shape=(None, 112, 112, 16), dtype=float32)\n",
      "Tensor(\"custom_model_6/custom_pool_layer_27/MaxPool2d:0\", shape=(None, 14, 14, 128), dtype=float32)\n",
      "Tensor(\"custom_model_6/custom_conv_layer_24/Relu:0\", shape=(None, 224, 224, 16), dtype=float32)\n",
      "Tensor(\"custom_model_6/custom_pool_layer_24/MaxPool2d:0\", shape=(None, 112, 112, 16), dtype=float32)\n",
      "Tensor(\"custom_model_6/custom_pool_layer_27/MaxPool2d:0\", shape=(None, 14, 14, 128), dtype=float32)\n",
      "    403/Unknown - 14s 36ms/step - loss: 3020758494047.9204 - accuracy: 8.5311e-04Tensor(\"custom_model_6/custom_conv_layer_24/Relu:0\", shape=(None, 224, 224, 16), dtype=float32)\n",
      "Tensor(\"custom_model_6/custom_pool_layer_24/MaxPool2d:0\", shape=(None, 112, 112, 16), dtype=float32)\n",
      "Tensor(\"custom_model_6/custom_pool_layer_27/MaxPool2d:0\", shape=(None, 14, 14, 128), dtype=float32)\n",
      "403/403 [==============================] - 15s 37ms/step - loss: 3020756019389.8291 - accuracy: 8.5311e-04 - val_loss: 8338949865472.0000 - val_accuracy: 0.0000e+00\n",
      "Epoch 2/15\n",
      "397/403 [============================>.] - ETA: 0s - loss: 18003084153770.8828 - accuracy: 0.0000e+00"
     ]
    }
   ],
   "source": [
    "class CustomModel(tf.keras.Model):\n",
    "    def __init__(self):\n",
    "        super(CustomModel, self).__init__()\n",
    "        self.conv1 = CustomConvLayer(masks['mask_conv_1'], masks['mask_conv_1'], biases['bias_conv_1'], 1)\n",
    "        self.pool1 = CustomPoolLayer()\n",
    "        self.conv2 = CustomConvLayer(masks['mask_conv_2'], masks['mask_conv_2'], biases['bias_conv_2'], 1)\n",
    "        self.pool2 = CustomPoolLayer()\n",
    "        self.conv3 = CustomConvLayer(masks['mask_conv_3'], masks['mask_conv_3'], biases['bias_conv_3'], 1)\n",
    "        self.pool3 = CustomPoolLayer()\n",
    "        self.conv4 = CustomConvLayer(masks['mask_conv_4'], masks['mask_conv_4'], biases['bias_conv_4'], 1)\n",
    "        self.pool4 = CustomPoolLayer()\n",
    "        self.dense1 = layers.Dense(1024, activation='relu')\n",
    "        self.dense2 = layers.Dense(512, activation='relu')\n",
    "        self.dense3 = layers.Dense(10, activation='softmax')\n",
    "    def call(self,inputs):\n",
    "        x = self.conv1(inputs)\n",
    "        print(x)\n",
    "        x = self.pool1(x)\n",
    "        print(x)\n",
    "        x = self.conv2(x)\n",
    "        x = self.pool2(x)\n",
    "        x = self.conv3(x)\n",
    "        x = self.pool3(x)\n",
    "        x = self.conv4(x)\n",
    "        x = self.pool4(x)\n",
    "        print(x)\n",
    "        x = layers.Flatten()(x)\n",
    "        #print(x)\n",
    "        x = self.dense1(x)\n",
    "        x = self.dense2(x)\n",
    "        return self.dense3(x)\n",
    "\n",
    "model = tf.keras.models.Sequential([\n",
    "  tf.keras.layers.Flatten(input_shape=(224, 224, 3)),\n",
    "  tf.keras.layers.Dense(128,activation='relu'),\n",
    "  tf.keras.layers.Dense(10, activation='softmax')\n",
    "])\n",
    "\n",
    "model = CustomModel()\n",
    "\n",
    "model.compile(\n",
    "    loss=tf.keras.losses.CategoricalCrossentropy(),\n",
    "    optimizer=tf.keras.optimizers.Adam(0.00001),\n",
    "    metrics=['accuracy'],\n",
    ")\n",
    "\n",
    "model.fit(\n",
    "    x=ds_train,\n",
    "    #steps_per_epoch=1,\n",
    "    epochs=15,\n",
    "    validation_data=ds_test,\n",
    ")"
   ]
  },
  {
   "cell_type": "code",
   "execution_count": null,
   "metadata": {
    "scrolled": true
   },
   "outputs": [],
   "source": [
    "for example in ds_train.take(1):  # Only take a single example\n",
    "    print(example['image'].shape)\n",
    "    image, label = example[\"image\"], example[\"label\"]\n",
    "    plt.imshow(image.numpy()[:, :, 0].astype(np.float32), cmap=plt.get_cmap(\"gray\"))\n",
    "    print(\"Label: %d\" % label.numpy())"
   ]
  },
  {
   "cell_type": "code",
   "execution_count": null,
   "metadata": {},
   "outputs": [],
   "source": [
    "ds_train = ds_train.repeat().shuffle(1024).batch(32)\n",
    "\n",
    "# prefetch will enable the input pipeline to asynchronously fetch batches while\n",
    "# your model is training.\n",
    "ds_train = ds_train.prefetch(tf.data.experimental.AUTOTUNE)"
   ]
  },
  {
   "cell_type": "code",
   "execution_count": null,
   "metadata": {},
   "outputs": [],
   "source": [
    "tfds.show_examples(ds_train[1] ,ds_train[0]['train'])"
   ]
  },
  {
   "cell_type": "code",
   "execution_count": null,
   "metadata": {},
   "outputs": [],
   "source": []
  },
  {
   "cell_type": "code",
   "execution_count": 15,
   "metadata": {},
   "outputs": [
    {
     "name": "stdout",
     "output_type": "stream",
     "text": [
      "Model: \"custom_model_5\"\n",
      "_________________________________________________________________\n",
      "Layer (type)                 Output Shape              Param #   \n",
      "=================================================================\n",
      "custom_conv_layer_20 (Custom multiple                  448       \n",
      "_________________________________________________________________\n",
      "custom_pool_layer_20 (Custom multiple                  0         \n",
      "_________________________________________________________________\n",
      "custom_conv_layer_21 (Custom multiple                  4640      \n",
      "_________________________________________________________________\n",
      "custom_pool_layer_21 (Custom multiple                  0         \n",
      "_________________________________________________________________\n",
      "custom_conv_layer_22 (Custom multiple                  18496     \n",
      "_________________________________________________________________\n",
      "custom_pool_layer_22 (Custom multiple                  0         \n",
      "_________________________________________________________________\n",
      "custom_conv_layer_23 (Custom multiple                  73856     \n",
      "_________________________________________________________________\n",
      "custom_pool_layer_23 (Custom multiple                  0         \n",
      "_________________________________________________________________\n",
      "dense_27 (Dense)             multiple                  25691136  \n",
      "_________________________________________________________________\n",
      "dense_28 (Dense)             multiple                  524800    \n",
      "_________________________________________________________________\n",
      "dense_29 (Dense)             multiple                  5130      \n",
      "=================================================================\n",
      "Total params: 26,318,506\n",
      "Trainable params: 26,221,066\n",
      "Non-trainable params: 97,440\n",
      "_________________________________________________________________\n"
     ]
    }
   ],
   "source": [
    "model.summary()"
   ]
  },
  {
   "cell_type": "code",
   "execution_count": 17,
   "metadata": {},
   "outputs": [
    {
     "name": "stdout",
     "output_type": "stream",
     "text": [
      "Tensor(\"custom_model_5/custom_conv_layer_20/Relu:0\", shape=(32, 224, 224, 16), dtype=float32)\n",
      "Tensor(\"custom_model_5/custom_pool_layer_20/MaxPool2d:0\", shape=(32, 112, 112, 16), dtype=float32)\n",
      "Tensor(\"custom_model_5/custom_pool_layer_23/MaxPool2d:0\", shape=(32, 14, 14, 128), dtype=float32)\n"
     ]
    },
    {
     "data": {
      "text/plain": [
       "<tf.Tensor: shape=(32, 10), dtype=float32, numpy=\n",
       "array([[0., 0., 1., 0., 0., 0., 0., 0., 0., 0.],\n",
       "       [1., 0., 0., 0., 0., 0., 0., 0., 0., 0.],\n",
       "       [0., 0., 0., 0., 0., 0., 0., 0., 0., 1.],\n",
       "       [0., 0., 0., 0., 0., 1., 0., 0., 0., 0.],\n",
       "       [1., 0., 0., 0., 0., 0., 0., 0., 0., 0.],\n",
       "       [0., 0., 0., 0., 0., 0., 0., 0., 0., 1.],\n",
       "       [1., 0., 0., 0., 0., 0., 0., 0., 0., 0.],\n",
       "       [0., 0., 1., 0., 0., 0., 0., 0., 0., 0.],\n",
       "       [1., 0., 0., 0., 0., 0., 0., 0., 0., 0.],\n",
       "       [1., 0., 0., 0., 0., 0., 0., 0., 0., 0.],\n",
       "       [0., 0., 0., 0., 1., 0., 0., 0., 0., 0.],\n",
       "       [1., 0., 0., 0., 0., 0., 0., 0., 0., 0.],\n",
       "       [0., 0., 0., 0., 1., 0., 0., 0., 0., 0.],\n",
       "       [1., 0., 0., 0., 0., 0., 0., 0., 0., 0.],\n",
       "       [0., 0., 0., 0., 0., 1., 0., 0., 0., 0.],\n",
       "       [1., 0., 0., 0., 0., 0., 0., 0., 0., 0.],\n",
       "       [0., 0., 0., 0., 0., 0., 0., 0., 0., 1.],\n",
       "       [1., 0., 0., 0., 0., 0., 0., 0., 0., 0.],\n",
       "       [0., 0., 0., 0., 0., 0., 0., 0., 0., 1.],\n",
       "       [0., 0., 0., 0., 0., 0., 0., 0., 0., 1.],\n",
       "       [0., 0., 1., 0., 0., 0., 0., 0., 0., 0.],\n",
       "       [0., 0., 1., 0., 0., 0., 0., 0., 0., 0.],\n",
       "       [0., 0., 0., 0., 0., 0., 0., 0., 0., 1.],\n",
       "       [0., 0., 0., 0., 0., 0., 0., 0., 0., 1.],\n",
       "       [1., 0., 0., 0., 0., 0., 0., 0., 0., 0.],\n",
       "       [0., 0., 1., 0., 0., 0., 0., 0., 0., 0.],\n",
       "       [0., 0., 0., 0., 1., 0., 0., 0., 0., 0.],\n",
       "       [0., 0., 1., 0., 0., 0., 0., 0., 0., 0.],\n",
       "       [0., 0., 1., 0., 0., 0., 0., 0., 0., 0.],\n",
       "       [0., 0., 0., 0., 0., 0., 0., 0., 0., 1.],\n",
       "       [0., 0., 0., 0., 0., 0., 0., 0., 0., 1.],\n",
       "       [0., 0., 0., 0., 0., 1., 0., 0., 0., 0.]], dtype=float32)>"
      ]
     },
     "execution_count": 17,
     "metadata": {},
     "output_type": "execute_result"
    }
   ],
   "source": [
    "model.predict_on_batch(ds_train)"
   ]
  },
  {
   "cell_type": "code",
   "execution_count": null,
   "metadata": {},
   "outputs": [],
   "source": []
  },
  {
   "cell_type": "code",
   "execution_count": null,
   "metadata": {},
   "outputs": [],
   "source": []
  },
  {
   "cell_type": "code",
   "execution_count": null,
   "metadata": {},
   "outputs": [],
   "source": []
  },
  {
   "cell_type": "code",
   "execution_count": null,
   "metadata": {},
   "outputs": [],
   "source": []
  },
  {
   "cell_type": "code",
   "execution_count": null,
   "metadata": {},
   "outputs": [],
   "source": []
  },
  {
   "cell_type": "code",
   "execution_count": 6,
   "metadata": {},
   "outputs": [],
   "source": [
    "weights = {\n",
    "    'weights_conv_1': tf.Variable(tf.random.normal([3, 3, 3, 16])),\n",
    "    'weights_conv_2': tf.Variable(tf.random.normal([3, 3, 16, 32])),\n",
    "    'weights_conv_3': tf.Variable(tf.random.normal([3, 3, 32, 64])),\n",
    "    'weights_conv_4': tf.Variable(tf.random.normal([3, 3, 64, 128])),\n",
    "    'weights_conv_5': tf.Variable(tf.random.normal([3, 3, 12, 24])),\n",
    "    'weights_conv_6': tf.Variable(tf.random.normal([3, 3, 24, 24])),\n",
    "    'weights_conv_7': tf.Variable(tf.random.normal([3, 3, 24, 24])),\n",
    "    'weights_conv_8': tf.Variable(tf.random.normal([3, 3, 24, 48])),\n",
    "    'weights_conv_9': tf.Variable(tf.random.normal([3, 3, 48, 48])),\n",
    "    'weights_conv_10': tf.Variable(tf.random.normal([3, 3, 48, 48])),\n",
    "    'weights_conv_11': tf.Variable(tf.random.normal([3, 3, 48, 48])),\n",
    "    'weights_conv_12': tf.Variable(tf.random.normal([3, 3, 48, 48])),\n",
    "    'weights_conv_13': tf.Variable(tf.random.normal([3, 3, 48, 48])),\n",
    "\n",
    "\n",
    "}\n",
    "\n",
    "masks = {\n",
    "    \n",
    "    'mask_conv_1': tf.Variable(tf.ones([3, 3, 3, 16]), trainable=False),\n",
    "    'mask_conv_2': tf.Variable(tf.ones([3, 3, 16, 32]), trainable=False),\n",
    "    'mask_conv_3': tf.Variable(tf.ones([3, 3, 32, 64]), trainable=False),\n",
    "    'mask_conv_4': tf.Variable(tf.ones([3, 3, 64, 128]), trainable=False),\n",
    "    'mask_conv_5': tf.Variable(tf.ones([3, 3, 12, 24]), trainable=False),\n",
    "    'mask_conv_6': tf.Variable(tf.ones([3, 3, 24, 24]), trainable=False),\n",
    "    'mask_conv_7': tf.Variable(tf.ones([3, 3, 24, 24]), trainable=False),\n",
    "    'mask_conv_8': tf.Variable(tf.ones([3, 3, 24, 48]), trainable=False),\n",
    "    'mask_conv_9': tf.Variable(tf.ones([3, 3, 48, 48]), trainable=False),\n",
    "    'mask_conv_10': tf.Variable(tf.ones([3, 3, 48, 48]), trainable=False),\n",
    "    'mask_conv_11': tf.Variable(tf.ones([3, 3, 48, 48]), trainable=False),\n",
    "    'mask_conv_12': tf.Variable(tf.ones([3, 3, 48, 48]), trainable=False),\n",
    "    'mask_conv_13': tf.Variable(tf.ones([3, 3, 48, 48]), trainable=False),\n",
    "    # 224x224 input --> 5 maxpool layers --> \n",
    "\n",
    "}\n",
    "\n",
    "biases = {\n",
    "    #output depth\n",
    "    'bias_conv_1': tf.Variable(tf.zeros([16]), trainable=False),\n",
    "    'bias_conv_2': tf.Variable(tf.zeros([32]), trainable=False),\n",
    "    'bias_conv_3': tf.Variable(tf.zeros([64]), trainable=False),\n",
    "    'bias_conv_4': tf.Variable(tf.zeros([128]), trainable=False),\n",
    "    'bias_conv_5': tf.Variable(tf.zeros([24]), trainable=False),\n",
    "    'bias_conv_6': tf.Variable(tf.zeros([24]), trainable=False),\n",
    "    'bias_conv_7': tf.Variable(tf.zeros([24]), trainable=False),\n",
    "    'bias_conv_8': tf.Variable(tf.zeros([48]), trainable=False),\n",
    "    'bias_conv_9': tf.Variable(tf.zeros([48]), trainable=False),\n",
    "    'bias_conv_10': tf.Variable(tf.zeros([48]), trainable=False),\n",
    "    'bias_conv_11': tf.Variable(tf.zeros([48]), trainable=False),\n",
    "    'bias_conv_12': tf.Variable(tf.zeros([48]), trainable=False),\n",
    "    'bias_conv_13': tf.Variable(tf.zeros([48]), trainable=False),\n",
    "    \n",
    "\n",
    "\n",
    "}"
   ]
  },
  {
   "cell_type": "code",
   "execution_count": 5,
   "metadata": {},
   "outputs": [],
   "source": [
    "#conv2D with bias and relu activation\n",
    "\n",
    "class CustomConvLayer(layers.Layer):\n",
    "\n",
    "    def __init__(self, weights, mask, biases, strides, padding='SAME'):\n",
    "        \n",
    "        super(CustomConvLayer, self).__init__()\n",
    "        self.w = weights\n",
    "        self.m = mask\n",
    "        self.b = biases\n",
    "        self.s = strides\n",
    "        self.p = padding\n",
    "\n",
    "        \n",
    "    def call(self, inputs):\n",
    "        x = tf.nn.conv2d(inputs, tf.multiply(self.w, self.m), strides=[1, self.s, self.s, 1], padding=self.p)\n",
    "        x = tf.nn.bias_add(x, self.b)\n",
    "        return tf.nn.relu(x)\n",
    "        \n",
    "\n",
    "#Average Pooling Layer\n",
    "class CustomPoolLayer(layers.Layer):\n",
    "    \n",
    "    def __init__(self, k=2, padding='SAME'):#padding='VALID'):\n",
    "        super(CustomPoolLayer, self).__init__()\n",
    "        self.k = k\n",
    "        self.p = padding\n",
    "    \n",
    "    def call(self, inputs):\n",
    "        return tf.nn.max_pool2d(inputs, ksize=[1, self.k, self.k,1], strides=[1, self.k, self.k, 1], padding=self.p)\n",
    "    \n",
    "#Dense Layer with Bias\n",
    "class CustomDenseLayer(layers.Layer):\n",
    "    \n",
    "    def __init__(self, weights, mask, bias, activation = 'relu'):\n",
    "        super(CustomDenseLayer, self).__init__()\n",
    "        self.w = weights\n",
    "        self.b = bias\n",
    "        self.a = activation\n",
    "        self.m = mask\n",
    "        \n",
    "    def call(self, inputs):\n",
    "        #print('dense w',self.w)\n",
    "        #print('dense i',inputs)\n",
    "        x = tf.matmul(inputs, tf.multiply(self.w, self.m))\n",
    "        #print('dense x',x)\n",
    "        x = tf.nn.bias_add(x, self.b)\n",
    "        if self.a == 'relu':\n",
    "            return tf.nn.relu(x)\n",
    "        if self.a == 'softmax':\n",
    "            return tf.nn.softmax(x)\n",
    "        if self.a == 'sigmoid':\n",
    "            return tf.nn.sigmoid(x)\n",
    "    "
   ]
  },
  {
   "cell_type": "code",
   "execution_count": null,
   "metadata": {},
   "outputs": [],
   "source": []
  },
  {
   "cell_type": "code",
   "execution_count": null,
   "metadata": {},
   "outputs": [],
   "source": []
  }
 ],
 "metadata": {
  "kernelspec": {
   "display_name": "Python 3",
   "language": "python",
   "name": "python3"
  },
  "language_info": {
   "codemirror_mode": {
    "name": "ipython",
    "version": 3
   },
   "file_extension": ".py",
   "mimetype": "text/x-python",
   "name": "python",
   "nbconvert_exporter": "python",
   "pygments_lexer": "ipython3",
   "version": "3.6.6"
  }
 },
 "nbformat": 4,
 "nbformat_minor": 2
}
