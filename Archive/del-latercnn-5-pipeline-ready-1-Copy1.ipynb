{
 "cells": [
  {
   "cell_type": "markdown",
   "metadata": {},
   "source": [
    "done"
   ]
  },
  {
   "cell_type": "code",
   "execution_count": 13,
   "metadata": {},
   "outputs": [],
   "source": [
    "ARCHITECTURE = 'cnn'\n",
    "EXPERIMENT_TYPE = 'variable-eps'\n",
    "ITERATIONS = 10"
   ]
  },
  {
   "cell_type": "code",
   "execution_count": 14,
   "metadata": {},
   "outputs": [],
   "source": [
    "from __future__ import absolute_import, division, print_function, unicode_literals\n",
    "\n",
    "import tensorflow as tf\n",
    "import numpy as np\n",
    "import pandas as pd\n",
    "from tensorflow.keras import layers\n",
    "from tqdm import tqdm\n",
    "import matplotlib.pyplot as plt\n",
    "from tqdm import tqdm\n",
    "import foolbox as fb\n",
    "import random\n",
    "import json\n",
    "from cleverhans.future.tf2.attacks import projected_gradient_descent, fast_gradient_method, carlini_wagner_l2\n",
    "\n",
    "\n",
    "#tf.compat.v1.enable_eager_execution()\n",
    "tf.keras.backend.clear_session()  # For easy reset of notebook state."
   ]
  },
  {
   "cell_type": "code",
   "execution_count": 3,
   "metadata": {},
   "outputs": [
    {
     "name": "stdout",
     "output_type": "stream",
     "text": [
      "1 Physical GPUs, 1 Logical GPUs\n"
     ]
    }
   ],
   "source": [
    "gpus = tf.config.experimental.list_physical_devices('GPU')\n",
    "if gpus:\n",
    "    # Restrict TensorFlow to only allocate 1GB * 2 of memory on the first GPU\n",
    "    try:\n",
    "        tf.config.experimental.set_virtual_device_configuration(\n",
    "            gpus[0],\n",
    "            [tf.config.experimental.VirtualDeviceConfiguration(memory_limit=1024 * 4)])\n",
    "        logical_gpus = tf.config.experimental.list_logical_devices('GPU')\n",
    "        print(len(gpus), \"Physical GPUs,\", len(logical_gpus), \"Logical GPUs\")\n",
    "    except RuntimeError as e:\n",
    "        # Virtual devices must be set before GPUs have been initialized\n",
    "        print(e)\n"
   ]
  },
  {
   "cell_type": "code",
   "execution_count": null,
   "metadata": {},
   "outputs": [],
   "source": []
  },
  {
   "cell_type": "code",
   "execution_count": 17,
   "metadata": {
    "scrolled": true
   },
   "outputs": [
    {
     "name": "stderr",
     "output_type": "stream",
     "text": [
      "\r",
      "  0%|          | 0/10 [00:00<?, ?it/s]"
     ]
    },
    {
     "name": "stdout",
     "output_type": "stream",
     "text": [
      "938/938 [==============================] - 2s 3ms/step - loss: 1.5901 - accuracy: 0.8918 - val_loss: 1.5088 - val_accuracy: 0.9570\n"
     ]
    },
    {
     "name": "stderr",
     "output_type": "stream",
     "text": [
      "\n",
      "0it [00:00, ?it/s]\u001b[A"
     ]
    },
    {
     "name": "stdout",
     "output_type": "stream",
     "text": [
      "current pruning ratio is0.0, current iteration is 0\n",
      "Epoch 1/500\n",
      "938/938 [==============================] - 3s 3ms/step - loss: 1.5029 - accuracy: 0.9611 - val_loss: 1.4976 - val_accuracy: 0.9641\n",
      "Epoch 2/500\n",
      "938/938 [==============================] - 3s 3ms/step - loss: 1.4901 - accuracy: 0.9736 - val_loss: 1.4859 - val_accuracy: 0.9767\n",
      "Epoch 3/500\n",
      "938/938 [==============================] - 3s 3ms/step - loss: 1.4851 - accuracy: 0.9776 - val_loss: 1.4876 - val_accuracy: 0.9746\n",
      "Epoch 4/500\n",
      "938/938 [==============================] - 3s 3ms/step - loss: 1.4810 - accuracy: 0.9815 - val_loss: 1.4826 - val_accuracy: 0.9793\n",
      "Epoch 5/500\n",
      "938/938 [==============================] - 3s 3ms/step - loss: 1.4781 - accuracy: 0.9842 - val_loss: 1.4803 - val_accuracy: 0.9809\n",
      "Epoch 6/500\n",
      "938/938 [==============================] - 3s 3ms/step - loss: 1.4767 - accuracy: 0.9854 - val_loss: 1.4823 - val_accuracy: 0.9796\n",
      "Epoch 7/500\n",
      "938/938 [==============================] - 3s 3ms/step - loss: 1.4747 - accuracy: 0.9873 - val_loss: 1.4771 - val_accuracy: 0.9848\n",
      "Epoch 8/500\n",
      "938/938 [==============================] - 3s 3ms/step - loss: 1.4730 - accuracy: 0.9890 - val_loss: 1.4778 - val_accuracy: 0.9831\n",
      "Epoch 9/500\n",
      "938/938 [==============================] - 3s 3ms/step - loss: 1.4729 - accuracy: 0.9887 - val_loss: 1.4768 - val_accuracy: 0.9851\n",
      "Epoch 10/500\n",
      "938/938 [==============================] - 3s 3ms/step - loss: 1.4715 - accuracy: 0.9902 - val_loss: 1.4764 - val_accuracy: 0.9852\n",
      "Epoch 11/500\n",
      "938/938 [==============================] - 3s 3ms/step - loss: 1.4711 - accuracy: 0.9906 - val_loss: 1.4763 - val_accuracy: 0.9850\n",
      "Epoch 12/500\n",
      "938/938 [==============================] - 3s 3ms/step - loss: 1.4700 - accuracy: 0.9916 - val_loss: 1.4745 - val_accuracy: 0.9866\n",
      "Epoch 13/500\n",
      "938/938 [==============================] - 3s 3ms/step - loss: 1.4699 - accuracy: 0.9916 - val_loss: 1.4764 - val_accuracy: 0.9852\n",
      "Epoch 14/500\n",
      "938/938 [==============================] - 3s 3ms/step - loss: 1.4693 - accuracy: 0.9923 - val_loss: 1.4753 - val_accuracy: 0.9861\n",
      "Epoch 15/500\n",
      "938/938 [==============================] - 3s 3ms/step - loss: 1.4688 - accuracy: 0.9928 - val_loss: 1.4751 - val_accuracy: 0.9861\n"
     ]
    },
    {
     "name": "stderr",
     "output_type": "stream",
     "text": [
      "\n",
      "1it [04:47, 287.27s/it]\u001b[A"
     ]
    },
    {
     "name": "stdout",
     "output_type": "stream",
     "text": [
      "current pruning ratio is0.5, current iteration is 0\n",
      "Epoch 1/500\n",
      "938/938 [==============================] - 3s 4ms/step - loss: 1.4837 - accuracy: 0.9839 - val_loss: 1.4791 - val_accuracy: 0.9848\n",
      "Epoch 2/500\n",
      "938/938 [==============================] - 3s 4ms/step - loss: 1.4742 - accuracy: 0.9893 - val_loss: 1.4760 - val_accuracy: 0.9872\n",
      "Epoch 3/500\n",
      "938/938 [==============================] - 3s 3ms/step - loss: 1.4713 - accuracy: 0.9917 - val_loss: 1.4751 - val_accuracy: 0.9874\n",
      "Epoch 4/500\n",
      "938/938 [==============================] - 3s 3ms/step - loss: 1.4702 - accuracy: 0.9928 - val_loss: 1.4758 - val_accuracy: 0.9863\n",
      "Epoch 5/500\n",
      "938/938 [==============================] - 3s 3ms/step - loss: 1.4689 - accuracy: 0.9935 - val_loss: 1.4764 - val_accuracy: 0.9852\n",
      "Epoch 6/500\n",
      "938/938 [==============================] - 3s 4ms/step - loss: 1.4683 - accuracy: 0.9940 - val_loss: 1.4741 - val_accuracy: 0.9879\n",
      "Epoch 7/500\n",
      "938/938 [==============================] - 3s 3ms/step - loss: 1.4677 - accuracy: 0.9944 - val_loss: 1.4747 - val_accuracy: 0.9874\n",
      "Epoch 8/500\n",
      "938/938 [==============================] - 3s 3ms/step - loss: 1.4674 - accuracy: 0.9946 - val_loss: 1.4749 - val_accuracy: 0.9863\n",
      "Epoch 9/500\n",
      "938/938 [==============================] - 3s 3ms/step - loss: 1.4666 - accuracy: 0.9954 - val_loss: 1.4741 - val_accuracy: 0.9871\n",
      "Epoch 10/500\n",
      "938/938 [==============================] - 3s 3ms/step - loss: 1.4666 - accuracy: 0.9954 - val_loss: 1.4748 - val_accuracy: 0.9869\n",
      "Epoch 11/500\n",
      "938/938 [==============================] - 3s 3ms/step - loss: 1.4663 - accuracy: 0.9957 - val_loss: 1.4733 - val_accuracy: 0.9888\n",
      "Epoch 12/500\n",
      "938/938 [==============================] - 3s 3ms/step - loss: 1.4659 - accuracy: 0.9959 - val_loss: 1.4760 - val_accuracy: 0.9855\n",
      "Epoch 13/500\n",
      "938/938 [==============================] - 3s 3ms/step - loss: 1.4654 - accuracy: 0.9963 - val_loss: 1.4744 - val_accuracy: 0.9872\n",
      "Epoch 14/500\n",
      "938/938 [==============================] - 3s 3ms/step - loss: 1.4657 - accuracy: 0.9960 - val_loss: 1.4747 - val_accuracy: 0.9869\n"
     ]
    },
    {
     "name": "stderr",
     "output_type": "stream",
     "text": [
      "\n",
      "2it [09:39, 288.76s/it]\u001b[A"
     ]
    },
    {
     "name": "stdout",
     "output_type": "stream",
     "text": [
      "current pruning ratio is0.75, current iteration is 0\n",
      "Epoch 1/500\n",
      "938/938 [==============================] - 3s 3ms/step - loss: 1.5070 - accuracy: 0.9700 - val_loss: 1.4862 - val_accuracy: 0.9810\n",
      "Epoch 2/500\n",
      "938/938 [==============================] - 3s 3ms/step - loss: 1.4816 - accuracy: 0.9851 - val_loss: 1.4802 - val_accuracy: 0.9850\n",
      "Epoch 3/500\n",
      "938/938 [==============================] - 3s 3ms/step - loss: 1.4759 - accuracy: 0.9897 - val_loss: 1.4781 - val_accuracy: 0.9859\n",
      "Epoch 4/500\n",
      "938/938 [==============================] - 3s 3ms/step - loss: 1.4736 - accuracy: 0.9906 - val_loss: 1.4770 - val_accuracy: 0.9866\n",
      "Epoch 5/500\n",
      "938/938 [==============================] - 3s 3ms/step - loss: 1.4718 - accuracy: 0.9920 - val_loss: 1.4767 - val_accuracy: 0.9869\n",
      "Epoch 6/500\n",
      "938/938 [==============================] - 3s 3ms/step - loss: 1.4706 - accuracy: 0.9929 - val_loss: 1.4753 - val_accuracy: 0.9876\n",
      "Epoch 7/500\n",
      "938/938 [==============================] - 3s 3ms/step - loss: 1.4698 - accuracy: 0.9932 - val_loss: 1.4752 - val_accuracy: 0.9881\n",
      "Epoch 8/500\n",
      "938/938 [==============================] - 3s 3ms/step - loss: 1.4690 - accuracy: 0.9938 - val_loss: 1.4751 - val_accuracy: 0.9869\n",
      "Epoch 9/500\n",
      "938/938 [==============================] - 3s 3ms/step - loss: 1.4679 - accuracy: 0.9945 - val_loss: 1.4747 - val_accuracy: 0.9877\n",
      "Epoch 10/500\n",
      "938/938 [==============================] - 3s 3ms/step - loss: 1.4677 - accuracy: 0.9948 - val_loss: 1.4747 - val_accuracy: 0.9870\n",
      "Epoch 11/500\n",
      "938/938 [==============================] - 3s 3ms/step - loss: 1.4671 - accuracy: 0.9952 - val_loss: 1.4752 - val_accuracy: 0.9868\n",
      "Epoch 12/500\n",
      "938/938 [==============================] - 3s 3ms/step - loss: 1.4668 - accuracy: 0.9955 - val_loss: 1.4738 - val_accuracy: 0.9879\n",
      "Epoch 13/500\n",
      "938/938 [==============================] - 3s 3ms/step - loss: 1.4663 - accuracy: 0.9960 - val_loss: 1.4736 - val_accuracy: 0.9883\n",
      "Epoch 14/500\n",
      "938/938 [==============================] - 3s 3ms/step - loss: 1.4659 - accuracy: 0.9963 - val_loss: 1.4736 - val_accuracy: 0.9887\n",
      "Epoch 15/500\n",
      "938/938 [==============================] - 3s 3ms/step - loss: 1.4658 - accuracy: 0.9962 - val_loss: 1.4740 - val_accuracy: 0.9876\n",
      "Epoch 16/500\n",
      "938/938 [==============================] - 3s 3ms/step - loss: 1.4654 - accuracy: 0.9966 - val_loss: 1.4747 - val_accuracy: 0.9875\n",
      "Epoch 17/500\n",
      "938/938 [==============================] - 3s 3ms/step - loss: 1.4655 - accuracy: 0.9964 - val_loss: 1.4732 - val_accuracy: 0.9889\n",
      "Epoch 18/500\n",
      "938/938 [==============================] - 3s 3ms/step - loss: 1.4650 - accuracy: 0.9967 - val_loss: 1.4737 - val_accuracy: 0.9877\n",
      "Epoch 19/500\n",
      "938/938 [==============================] - 3s 3ms/step - loss: 1.4651 - accuracy: 0.9969 - val_loss: 1.4733 - val_accuracy: 0.9883\n",
      "Epoch 20/500\n",
      "938/938 [==============================] - 3s 3ms/step - loss: 1.4651 - accuracy: 0.9967 - val_loss: 1.4739 - val_accuracy: 0.9877\n"
     ]
    },
    {
     "name": "stderr",
     "output_type": "stream",
     "text": [
      "\n",
      "3it [14:43, 293.25s/it]\u001b[A"
     ]
    },
    {
     "name": "stdout",
     "output_type": "stream",
     "text": [
      "current pruning ratio is0.875, current iteration is 0\n",
      "Epoch 1/500\n",
      "938/938 [==============================] - 3s 3ms/step - loss: 1.5758 - accuracy: 0.9104 - val_loss: 1.5100 - val_accuracy: 0.9629\n",
      "Epoch 2/500\n",
      "938/938 [==============================] - 3s 3ms/step - loss: 1.5031 - accuracy: 0.9680 - val_loss: 1.4957 - val_accuracy: 0.9725\n",
      "Epoch 3/500\n",
      "938/938 [==============================] - 2s 3ms/step - loss: 1.4924 - accuracy: 0.9761 - val_loss: 1.4894 - val_accuracy: 0.9769\n",
      "Epoch 4/500\n",
      "938/938 [==============================] - 2s 3ms/step - loss: 1.4864 - accuracy: 0.9801 - val_loss: 1.4864 - val_accuracy: 0.9800\n",
      "Epoch 5/500\n",
      "938/938 [==============================] - 3s 3ms/step - loss: 1.4829 - accuracy: 0.9826 - val_loss: 1.4864 - val_accuracy: 0.9790\n",
      "Epoch 6/500\n",
      "938/938 [==============================] - 3s 3ms/step - loss: 1.4805 - accuracy: 0.9846 - val_loss: 1.4814 - val_accuracy: 0.9836\n",
      "Epoch 7/500\n",
      "938/938 [==============================] - 3s 3ms/step - loss: 1.4786 - accuracy: 0.9862 - val_loss: 1.4809 - val_accuracy: 0.9833\n",
      "Epoch 8/500\n",
      "938/938 [==============================] - 2s 3ms/step - loss: 1.4769 - accuracy: 0.9876 - val_loss: 1.4808 - val_accuracy: 0.9827\n",
      "Epoch 9/500\n",
      "938/938 [==============================] - 2s 3ms/step - loss: 1.4759 - accuracy: 0.9881 - val_loss: 1.4794 - val_accuracy: 0.9844\n",
      "Epoch 10/500\n",
      "938/938 [==============================] - 2s 3ms/step - loss: 1.4748 - accuracy: 0.9890 - val_loss: 1.4796 - val_accuracy: 0.9838\n",
      "Epoch 11/500\n",
      "938/938 [==============================] - 2s 3ms/step - loss: 1.4740 - accuracy: 0.9896 - val_loss: 1.4802 - val_accuracy: 0.9833\n",
      "Epoch 12/500\n",
      "938/938 [==============================] - 2s 3ms/step - loss: 1.4733 - accuracy: 0.9902 - val_loss: 1.4783 - val_accuracy: 0.9850\n",
      "Epoch 13/500\n",
      "938/938 [==============================] - 2s 3ms/step - loss: 1.4727 - accuracy: 0.9909 - val_loss: 1.4775 - val_accuracy: 0.9854\n",
      "Epoch 14/500\n",
      "938/938 [==============================] - 2s 3ms/step - loss: 1.4720 - accuracy: 0.9911 - val_loss: 1.4782 - val_accuracy: 0.9848\n",
      "Epoch 15/500\n",
      "938/938 [==============================] - 3s 3ms/step - loss: 1.4716 - accuracy: 0.9914 - val_loss: 1.4773 - val_accuracy: 0.9850\n",
      "Epoch 16/500\n",
      "938/938 [==============================] - 3s 3ms/step - loss: 1.4707 - accuracy: 0.9923 - val_loss: 1.4767 - val_accuracy: 0.9856\n",
      "Epoch 17/500\n",
      "938/938 [==============================] - 2s 3ms/step - loss: 1.4703 - accuracy: 0.9927 - val_loss: 1.4769 - val_accuracy: 0.9860\n",
      "Epoch 18/500\n",
      "938/938 [==============================] - 2s 3ms/step - loss: 1.4699 - accuracy: 0.9931 - val_loss: 1.4765 - val_accuracy: 0.9858\n",
      "Epoch 19/500\n",
      "938/938 [==============================] - 2s 3ms/step - loss: 1.4696 - accuracy: 0.9933 - val_loss: 1.4765 - val_accuracy: 0.9856\n",
      "Epoch 20/500\n",
      "938/938 [==============================] - 2s 3ms/step - loss: 1.4693 - accuracy: 0.9933 - val_loss: 1.4754 - val_accuracy: 0.9865\n",
      "Epoch 21/500\n",
      "938/938 [==============================] - 2s 3ms/step - loss: 1.4688 - accuracy: 0.9940 - val_loss: 1.4763 - val_accuracy: 0.9854\n",
      "Epoch 22/500\n",
      "938/938 [==============================] - 2s 3ms/step - loss: 1.4685 - accuracy: 0.9941 - val_loss: 1.4761 - val_accuracy: 0.9860\n",
      "Epoch 23/500\n",
      "938/938 [==============================] - 2s 3ms/step - loss: 1.4683 - accuracy: 0.9942 - val_loss: 1.4750 - val_accuracy: 0.9872\n",
      "Epoch 24/500\n",
      "938/938 [==============================] - 3s 3ms/step - loss: 1.4682 - accuracy: 0.9944 - val_loss: 1.4761 - val_accuracy: 0.9863\n",
      "Epoch 25/500\n",
      "938/938 [==============================] - 3s 3ms/step - loss: 1.4678 - accuracy: 0.9946 - val_loss: 1.4763 - val_accuracy: 0.9852\n",
      "Epoch 26/500\n",
      "938/938 [==============================] - 3s 3ms/step - loss: 1.4675 - accuracy: 0.9947 - val_loss: 1.4756 - val_accuracy: 0.9861\n"
     ]
    },
    {
     "name": "stderr",
     "output_type": "stream",
     "text": [
      "\n",
      "4it [20:19, 304.92s/it]\u001b[A\n",
      " 10%|█         | 1/10 [20:22<3:03:22, 1222.53s/it]"
     ]
    },
    {
     "name": "stdout",
     "output_type": "stream",
     "text": [
      "938/938 [==============================] - 3s 3ms/step - loss: 1.5886 - accuracy: 0.8946 - val_loss: 1.5126 - val_accuracy: 0.9550\n"
     ]
    },
    {
     "name": "stderr",
     "output_type": "stream",
     "text": [
      "\n",
      "0it [00:00, ?it/s]\u001b[A"
     ]
    },
    {
     "name": "stdout",
     "output_type": "stream",
     "text": [
      "current pruning ratio is0.0, current iteration is 1\n",
      "Epoch 1/500\n",
      "938/938 [==============================] - 3s 3ms/step - loss: 1.5019 - accuracy: 0.9625 - val_loss: 1.4934 - val_accuracy: 0.9701\n",
      "Epoch 2/500\n",
      "938/938 [==============================] - 3s 3ms/step - loss: 1.4908 - accuracy: 0.9721 - val_loss: 1.4870 - val_accuracy: 0.9762\n",
      "Epoch 3/500\n",
      "938/938 [==============================] - 3s 3ms/step - loss: 1.4850 - accuracy: 0.9776 - val_loss: 1.4831 - val_accuracy: 0.9797\n",
      "Epoch 4/500\n",
      "938/938 [==============================] - 3s 3ms/step - loss: 1.4814 - accuracy: 0.9812 - val_loss: 1.4850 - val_accuracy: 0.9769\n",
      "Epoch 5/500\n",
      "938/938 [==============================] - 3s 3ms/step - loss: 1.4787 - accuracy: 0.9835 - val_loss: 1.4801 - val_accuracy: 0.9822\n",
      "Epoch 6/500\n",
      "938/938 [==============================] - 3s 3ms/step - loss: 1.4777 - accuracy: 0.9843 - val_loss: 1.4799 - val_accuracy: 0.9820\n",
      "Epoch 7/500\n",
      "938/938 [==============================] - 3s 3ms/step - loss: 1.4757 - accuracy: 0.9862 - val_loss: 1.4796 - val_accuracy: 0.9819\n",
      "Epoch 8/500\n",
      "938/938 [==============================] - 2s 3ms/step - loss: 1.4749 - accuracy: 0.9871 - val_loss: 1.4766 - val_accuracy: 0.9852\n",
      "Epoch 9/500\n",
      "938/938 [==============================] - 3s 3ms/step - loss: 1.4739 - accuracy: 0.9880 - val_loss: 1.4766 - val_accuracy: 0.9852\n",
      "Epoch 10/500\n",
      "938/938 [==============================] - 3s 3ms/step - loss: 1.4724 - accuracy: 0.9895 - val_loss: 1.4773 - val_accuracy: 0.9842\n",
      "Epoch 11/500\n",
      "938/938 [==============================] - 3s 3ms/step - loss: 1.4722 - accuracy: 0.9897 - val_loss: 1.4789 - val_accuracy: 0.9823\n"
     ]
    },
    {
     "name": "stderr",
     "output_type": "stream",
     "text": [
      "\n",
      "1it [04:29, 269.82s/it]\u001b[A"
     ]
    },
    {
     "name": "stdout",
     "output_type": "stream",
     "text": [
      "current pruning ratio is0.5, current iteration is 1\n",
      "Epoch 1/500\n",
      "938/938 [==============================] - 3s 3ms/step - loss: 1.4920 - accuracy: 0.9785 - val_loss: 1.4832 - val_accuracy: 0.9826\n",
      "Epoch 2/500\n",
      "938/938 [==============================] - 3s 3ms/step - loss: 1.4774 - accuracy: 0.9873 - val_loss: 1.4781 - val_accuracy: 0.9852\n",
      "Epoch 3/500\n",
      "938/938 [==============================] - 3s 3ms/step - loss: 1.4743 - accuracy: 0.9887 - val_loss: 1.4777 - val_accuracy: 0.9856\n",
      "Epoch 4/500\n",
      "938/938 [==============================] - 3s 3ms/step - loss: 1.4725 - accuracy: 0.9905 - val_loss: 1.4768 - val_accuracy: 0.9865\n",
      "Epoch 5/500\n",
      "938/938 [==============================] - 3s 3ms/step - loss: 1.4714 - accuracy: 0.9912 - val_loss: 1.4760 - val_accuracy: 0.9866\n",
      "Epoch 6/500\n",
      "938/938 [==============================] - 3s 3ms/step - loss: 1.4702 - accuracy: 0.9922 - val_loss: 1.4760 - val_accuracy: 0.9859\n",
      "Epoch 7/500\n",
      "938/938 [==============================] - 3s 3ms/step - loss: 1.4697 - accuracy: 0.9924 - val_loss: 1.4748 - val_accuracy: 0.9869\n",
      "Epoch 8/500\n",
      "938/938 [==============================] - 3s 3ms/step - loss: 1.4686 - accuracy: 0.9934 - val_loss: 1.4751 - val_accuracy: 0.9861\n",
      "Epoch 9/500\n",
      "938/938 [==============================] - 3s 3ms/step - loss: 1.4681 - accuracy: 0.9941 - val_loss: 1.4767 - val_accuracy: 0.9857\n",
      "Epoch 10/500\n",
      "938/938 [==============================] - 3s 3ms/step - loss: 1.4680 - accuracy: 0.9939 - val_loss: 1.4736 - val_accuracy: 0.9880\n",
      "Epoch 11/500\n",
      "938/938 [==============================] - 3s 3ms/step - loss: 1.4675 - accuracy: 0.9943 - val_loss: 1.4741 - val_accuracy: 0.9878\n",
      "Epoch 12/500\n",
      "938/938 [==============================] - 3s 3ms/step - loss: 1.4669 - accuracy: 0.9949 - val_loss: 1.4737 - val_accuracy: 0.9881\n",
      "Epoch 13/500\n",
      "938/938 [==============================] - 3s 3ms/step - loss: 1.4666 - accuracy: 0.9952 - val_loss: 1.4765 - val_accuracy: 0.9846\n"
     ]
    },
    {
     "name": "stderr",
     "output_type": "stream",
     "text": [
      "\n",
      "2it [09:02, 270.64s/it]\u001b[A"
     ]
    },
    {
     "name": "stdout",
     "output_type": "stream",
     "text": [
      "current pruning ratio is0.75, current iteration is 1\n",
      "Epoch 1/500\n",
      "938/938 [==============================] - 3s 3ms/step - loss: 1.5230 - accuracy: 0.9557 - val_loss: 1.4909 - val_accuracy: 0.9774\n",
      "Epoch 2/500\n",
      "938/938 [==============================] - 2s 3ms/step - loss: 1.4864 - accuracy: 0.9805 - val_loss: 1.4837 - val_accuracy: 0.9813\n",
      "Epoch 3/500\n",
      "938/938 [==============================] - 2s 3ms/step - loss: 1.4803 - accuracy: 0.9847 - val_loss: 1.4810 - val_accuracy: 0.9835\n",
      "Epoch 4/500\n",
      "938/938 [==============================] - 3s 3ms/step - loss: 1.4767 - accuracy: 0.9877 - val_loss: 1.4807 - val_accuracy: 0.9826\n",
      "Epoch 5/500\n",
      "938/938 [==============================] - 3s 3ms/step - loss: 1.4748 - accuracy: 0.9889 - val_loss: 1.4782 - val_accuracy: 0.9850\n",
      "Epoch 6/500\n",
      "938/938 [==============================] - 3s 3ms/step - loss: 1.4727 - accuracy: 0.9910 - val_loss: 1.4777 - val_accuracy: 0.9860\n",
      "Epoch 7/500\n",
      "938/938 [==============================] - 3s 3ms/step - loss: 1.4720 - accuracy: 0.9913 - val_loss: 1.4762 - val_accuracy: 0.9865\n",
      "Epoch 8/500\n",
      "938/938 [==============================] - 3s 3ms/step - loss: 1.4707 - accuracy: 0.9923 - val_loss: 1.4771 - val_accuracy: 0.9859\n",
      "Epoch 9/500\n",
      "938/938 [==============================] - 3s 3ms/step - loss: 1.4704 - accuracy: 0.9924 - val_loss: 1.4759 - val_accuracy: 0.9862\n",
      "Epoch 10/500\n",
      "938/938 [==============================] - 3s 3ms/step - loss: 1.4693 - accuracy: 0.9933 - val_loss: 1.4748 - val_accuracy: 0.9871\n",
      "Epoch 11/500\n",
      "938/938 [==============================] - 3s 3ms/step - loss: 1.4687 - accuracy: 0.9940 - val_loss: 1.4747 - val_accuracy: 0.9872\n",
      "Epoch 12/500\n",
      "938/938 [==============================] - 3s 3ms/step - loss: 1.4683 - accuracy: 0.9942 - val_loss: 1.4772 - val_accuracy: 0.9847\n",
      "Epoch 13/500\n",
      "938/938 [==============================] - 3s 3ms/step - loss: 1.4681 - accuracy: 0.9943 - val_loss: 1.4740 - val_accuracy: 0.9875\n",
      "Epoch 14/500\n",
      "938/938 [==============================] - 3s 3ms/step - loss: 1.4675 - accuracy: 0.9947 - val_loss: 1.4742 - val_accuracy: 0.9878\n",
      "Epoch 15/500\n",
      "938/938 [==============================] - 3s 3ms/step - loss: 1.4670 - accuracy: 0.9953 - val_loss: 1.4750 - val_accuracy: 0.9865\n",
      "Epoch 16/500\n",
      "938/938 [==============================] - 4s 4ms/step - loss: 1.4669 - accuracy: 0.9953 - val_loss: 1.4739 - val_accuracy: 0.9882\n",
      "Epoch 17/500\n",
      "938/938 [==============================] - 3s 4ms/step - loss: 1.4666 - accuracy: 0.9955 - val_loss: 1.4736 - val_accuracy: 0.9884\n",
      "Epoch 18/500\n",
      "938/938 [==============================] - 4s 4ms/step - loss: 1.4662 - accuracy: 0.9956 - val_loss: 1.4735 - val_accuracy: 0.9885\n",
      "Epoch 19/500\n",
      "938/938 [==============================] - 3s 4ms/step - loss: 1.4661 - accuracy: 0.9958 - val_loss: 1.4745 - val_accuracy: 0.9868\n",
      "Epoch 20/500\n",
      "938/938 [==============================] - 3s 4ms/step - loss: 1.4660 - accuracy: 0.9960 - val_loss: 1.4741 - val_accuracy: 0.9882\n",
      "Epoch 21/500\n",
      "938/938 [==============================] - 3s 3ms/step - loss: 1.4656 - accuracy: 0.9962 - val_loss: 1.4740 - val_accuracy: 0.9873\n"
     ]
    },
    {
     "name": "stderr",
     "output_type": "stream",
     "text": [
      "\n",
      "3it [14:25, 286.24s/it]\u001b[A"
     ]
    },
    {
     "name": "stdout",
     "output_type": "stream",
     "text": [
      "current pruning ratio is0.875, current iteration is 1\n",
      "Epoch 1/500\n",
      "938/938 [==============================] - 3s 3ms/step - loss: 1.5605 - accuracy: 0.9227 - val_loss: 1.5077 - val_accuracy: 0.9640\n",
      "Epoch 2/500\n",
      "938/938 [==============================] - 3s 3ms/step - loss: 1.5004 - accuracy: 0.9700 - val_loss: 1.4949 - val_accuracy: 0.9733\n",
      "Epoch 3/500\n",
      "938/938 [==============================] - 3s 3ms/step - loss: 1.4909 - accuracy: 0.9764 - val_loss: 1.4902 - val_accuracy: 0.9764\n",
      "Epoch 4/500\n",
      "938/938 [==============================] - 3s 3ms/step - loss: 1.4864 - accuracy: 0.9798 - val_loss: 1.4873 - val_accuracy: 0.9784\n",
      "Epoch 5/500\n",
      "938/938 [==============================] - 3s 3ms/step - loss: 1.4833 - accuracy: 0.9821 - val_loss: 1.4862 - val_accuracy: 0.9786\n",
      "Epoch 6/500\n",
      "938/938 [==============================] - 3s 3ms/step - loss: 1.4813 - accuracy: 0.9834 - val_loss: 1.4840 - val_accuracy: 0.9806\n",
      "Epoch 7/500\n",
      "938/938 [==============================] - 3s 3ms/step - loss: 1.4792 - accuracy: 0.9852 - val_loss: 1.4811 - val_accuracy: 0.9831\n",
      "Epoch 8/500\n",
      "938/938 [==============================] - 3s 3ms/step - loss: 1.4777 - accuracy: 0.9869 - val_loss: 1.4839 - val_accuracy: 0.9804\n",
      "Epoch 9/500\n",
      "938/938 [==============================] - 3s 3ms/step - loss: 1.4764 - accuracy: 0.9878 - val_loss: 1.4809 - val_accuracy: 0.9828\n",
      "Epoch 10/500\n",
      "938/938 [==============================] - 3s 3ms/step - loss: 1.4753 - accuracy: 0.9885 - val_loss: 1.4814 - val_accuracy: 0.9823\n",
      "Epoch 11/500\n",
      "938/938 [==============================] - 3s 3ms/step - loss: 1.4745 - accuracy: 0.9893 - val_loss: 1.4802 - val_accuracy: 0.9831\n",
      "Epoch 12/500\n",
      "938/938 [==============================] - 3s 3ms/step - loss: 1.4736 - accuracy: 0.9898 - val_loss: 1.4820 - val_accuracy: 0.9811\n",
      "Epoch 13/500\n",
      "938/938 [==============================] - 3s 3ms/step - loss: 1.4729 - accuracy: 0.9905 - val_loss: 1.4792 - val_accuracy: 0.9837\n",
      "Epoch 14/500\n",
      "938/938 [==============================] - 3s 3ms/step - loss: 1.4722 - accuracy: 0.9911 - val_loss: 1.4783 - val_accuracy: 0.9838\n",
      "Epoch 15/500\n",
      "938/938 [==============================] - 3s 3ms/step - loss: 1.4720 - accuracy: 0.9911 - val_loss: 1.4790 - val_accuracy: 0.9843\n",
      "Epoch 16/500\n",
      "938/938 [==============================] - 3s 3ms/step - loss: 1.4711 - accuracy: 0.9920 - val_loss: 1.4778 - val_accuracy: 0.9847\n",
      "Epoch 17/500\n",
      "938/938 [==============================] - 3s 3ms/step - loss: 1.4707 - accuracy: 0.9924 - val_loss: 1.4786 - val_accuracy: 0.9838\n",
      "Epoch 18/500\n",
      "938/938 [==============================] - 3s 3ms/step - loss: 1.4703 - accuracy: 0.9924 - val_loss: 1.4772 - val_accuracy: 0.9842\n",
      "Epoch 19/500\n",
      "938/938 [==============================] - 3s 3ms/step - loss: 1.4700 - accuracy: 0.9930 - val_loss: 1.4770 - val_accuracy: 0.9856\n",
      "Epoch 20/500\n",
      "938/938 [==============================] - 3s 3ms/step - loss: 1.4694 - accuracy: 0.9936 - val_loss: 1.4767 - val_accuracy: 0.9856\n",
      "Epoch 21/500\n",
      "938/938 [==============================] - 3s 3ms/step - loss: 1.4691 - accuracy: 0.9938 - val_loss: 1.4775 - val_accuracy: 0.9841\n",
      "Epoch 22/500\n",
      "938/938 [==============================] - 3s 3ms/step - loss: 1.4689 - accuracy: 0.9936 - val_loss: 1.4771 - val_accuracy: 0.9859\n",
      "Epoch 23/500\n",
      "938/938 [==============================] - 3s 3ms/step - loss: 1.4685 - accuracy: 0.9940 - val_loss: 1.4771 - val_accuracy: 0.9849\n"
     ]
    },
    {
     "name": "stderr",
     "output_type": "stream",
     "text": [
      "\n",
      "4it [19:51, 297.84s/it]\u001b[A\n",
      " 20%|██        | 2/10 [40:17<2:41:53, 1214.25s/it]"
     ]
    },
    {
     "name": "stdout",
     "output_type": "stream",
     "text": [
      "938/938 [==============================] - 3s 4ms/step - loss: 1.5936 - accuracy: 0.8862 - val_loss: 1.5119 - val_accuracy: 0.9537\n"
     ]
    },
    {
     "name": "stderr",
     "output_type": "stream",
     "text": [
      "\n",
      "0it [00:00, ?it/s]\u001b[A"
     ]
    },
    {
     "name": "stdout",
     "output_type": "stream",
     "text": [
      "current pruning ratio is0.0, current iteration is 2\n",
      "Epoch 1/500\n",
      "938/938 [==============================] - 3s 3ms/step - loss: 1.5066 - accuracy: 0.9577 - val_loss: 1.4970 - val_accuracy: 0.9667\n",
      "Epoch 2/500\n",
      "938/938 [==============================] - 3s 3ms/step - loss: 1.4935 - accuracy: 0.9698 - val_loss: 1.4906 - val_accuracy: 0.9721\n",
      "Epoch 3/500\n",
      "938/938 [==============================] - 3s 3ms/step - loss: 1.4866 - accuracy: 0.9762 - val_loss: 1.4877 - val_accuracy: 0.9742\n",
      "Epoch 4/500\n",
      "938/938 [==============================] - 3s 3ms/step - loss: 1.4827 - accuracy: 0.9797 - val_loss: 1.4846 - val_accuracy: 0.9779\n",
      "Epoch 5/500\n",
      "938/938 [==============================] - 3s 3ms/step - loss: 1.4803 - accuracy: 0.9820 - val_loss: 1.4812 - val_accuracy: 0.9811\n",
      "Epoch 6/500\n",
      "938/938 [==============================] - 3s 3ms/step - loss: 1.4778 - accuracy: 0.9842 - val_loss: 1.4843 - val_accuracy: 0.9778\n",
      "Epoch 7/500\n",
      "938/938 [==============================] - 3s 3ms/step - loss: 1.4769 - accuracy: 0.9850 - val_loss: 1.4793 - val_accuracy: 0.9821\n",
      "Epoch 8/500\n",
      "938/938 [==============================] - 3s 3ms/step - loss: 1.4757 - accuracy: 0.9862 - val_loss: 1.4784 - val_accuracy: 0.9828\n",
      "Epoch 9/500\n",
      "938/938 [==============================] - 3s 3ms/step - loss: 1.4741 - accuracy: 0.9876 - val_loss: 1.4791 - val_accuracy: 0.9825\n",
      "Epoch 10/500\n",
      "938/938 [==============================] - 3s 3ms/step - loss: 1.4727 - accuracy: 0.9893 - val_loss: 1.4762 - val_accuracy: 0.9852\n",
      "Epoch 11/500\n",
      "938/938 [==============================] - 3s 3ms/step - loss: 1.4728 - accuracy: 0.9889 - val_loss: 1.4770 - val_accuracy: 0.9848\n",
      "Epoch 12/500\n",
      "938/938 [==============================] - 3s 3ms/step - loss: 1.4713 - accuracy: 0.9905 - val_loss: 1.4783 - val_accuracy: 0.9834\n",
      "Epoch 13/500\n",
      "938/938 [==============================] - 3s 3ms/step - loss: 1.4708 - accuracy: 0.9908 - val_loss: 1.4770 - val_accuracy: 0.9848\n"
     ]
    },
    {
     "name": "stderr",
     "output_type": "stream",
     "text": [
      "0it [02:01, ?it/s]\n",
      " 20%|██        | 2/10 [42:22<2:49:30, 1271.35s/it]\n"
     ]
    },
    {
     "ename": "KeyboardInterrupt",
     "evalue": "",
     "output_type": "error",
     "traceback": [
      "\u001b[0;31m---------------------------------------------------------------------------\u001b[0m",
      "\u001b[0;31mKeyboardInterrupt\u001b[0m                         Traceback (most recent call last)",
      "\u001b[0;32m<ipython-input-17-85b2f47289a4>\u001b[0m in \u001b[0;36m<module>\u001b[0;34m\u001b[0m\n\u001b[0;32m----> 1\u001b[0;31m run_experiment(\n\u001b[0m\u001b[1;32m      2\u001b[0m     \u001b[0mstructure\u001b[0m\u001b[0;34m=\u001b[0m\u001b[0;34m'unstructured'\u001b[0m\u001b[0;34m,\u001b[0m\u001b[0;34m\u001b[0m\u001b[0;34m\u001b[0m\u001b[0m\n\u001b[1;32m      3\u001b[0m     \u001b[0mmethod\u001b[0m\u001b[0;34m=\u001b[0m\u001b[0;34m'random'\u001b[0m\u001b[0;34m,\u001b[0m\u001b[0;34m\u001b[0m\u001b[0;34m\u001b[0m\u001b[0m\n\u001b[1;32m      4\u001b[0m     \u001b[0mscope\u001b[0m\u001b[0;34m=\u001b[0m\u001b[0;34m'local'\u001b[0m\u001b[0;34m,\u001b[0m\u001b[0;34m\u001b[0m\u001b[0;34m\u001b[0m\u001b[0m\n\u001b[1;32m      5\u001b[0m     \u001b[0miterations\u001b[0m\u001b[0;34m=\u001b[0m\u001b[0mITERATIONS\u001b[0m\u001b[0;34m\u001b[0m\u001b[0;34m\u001b[0m\u001b[0m\n",
      "\u001b[0;32m<ipython-input-16-87375c78aa61>\u001b[0m in \u001b[0;36mrun_experiment\u001b[0;34m(structure, method, scope, iterations)\u001b[0m\n\u001b[1;32m     83\u001b[0m                     \u001b[0;34m'loss'\u001b[0m\u001b[0;34m:\u001b[0m\u001b[0mres\u001b[0m\u001b[0;34m[\u001b[0m\u001b[0;36m0\u001b[0m\u001b[0;34m]\u001b[0m\u001b[0;34m,\u001b[0m\u001b[0;34m\u001b[0m\u001b[0;34m\u001b[0m\u001b[0m\n\u001b[1;32m     84\u001b[0m                     \u001b[0;34m'pgd_linf'\u001b[0m\u001b[0;34m:\u001b[0m\u001b[0mpgd_attack\u001b[0m\u001b[0;34m(\u001b[0m\u001b[0mmodel\u001b[0m\u001b[0;34m)\u001b[0m\u001b[0;34m,\u001b[0m\u001b[0;34m\u001b[0m\u001b[0;34m\u001b[0m\u001b[0m\n\u001b[0;32m---> 85\u001b[0;31m                     \u001b[0;34m'cw_l2'\u001b[0m\u001b[0;34m:\u001b[0m\u001b[0mcw2_attack\u001b[0m\u001b[0;34m(\u001b[0m\u001b[0mmodel\u001b[0m\u001b[0;34m)\u001b[0m\u001b[0;34m,\u001b[0m\u001b[0;34m\u001b[0m\u001b[0;34m\u001b[0m\u001b[0m\n\u001b[0m\u001b[1;32m     86\u001b[0m                     \u001b[0;34m'bb_l0'\u001b[0m\u001b[0;34m:\u001b[0m\u001b[0mbb0_success\u001b[0m\u001b[0;34m,\u001b[0m\u001b[0;34m\u001b[0m\u001b[0;34m\u001b[0m\u001b[0m\n\u001b[1;32m     87\u001b[0m                     \u001b[0;34m'total_params'\u001b[0m\u001b[0;34m:\u001b[0m\u001b[0mparam_count\u001b[0m\u001b[0;34m,\u001b[0m\u001b[0;34m\u001b[0m\u001b[0;34m\u001b[0m\u001b[0m\n",
      "\u001b[0;32m<ipython-input-12-d9c1cb21193b>\u001b[0m in \u001b[0;36mcw2_attack\u001b[0;34m(model_to_attack, eps)\u001b[0m\n\u001b[1;32m     68\u001b[0m     \u001b[0mfmodel\u001b[0m \u001b[0;34m=\u001b[0m \u001b[0mfb\u001b[0m\u001b[0;34m.\u001b[0m\u001b[0mmodels\u001b[0m\u001b[0;34m.\u001b[0m\u001b[0mTensorFlowModel\u001b[0m\u001b[0;34m(\u001b[0m\u001b[0mmodel_to_attack\u001b[0m\u001b[0;34m,\u001b[0m \u001b[0mbounds\u001b[0m\u001b[0;34m=\u001b[0m\u001b[0;34m(\u001b[0m\u001b[0;36m0\u001b[0m\u001b[0;34m,\u001b[0m\u001b[0;36m1\u001b[0m\u001b[0;34m)\u001b[0m\u001b[0;34m)\u001b[0m\u001b[0;34m\u001b[0m\u001b[0;34m\u001b[0m\u001b[0m\n\u001b[1;32m     69\u001b[0m     \u001b[0mattack\u001b[0m \u001b[0;34m=\u001b[0m \u001b[0mfb\u001b[0m\u001b[0;34m.\u001b[0m\u001b[0mattacks\u001b[0m\u001b[0;34m.\u001b[0m\u001b[0mL2CarliniWagnerAttack\u001b[0m\u001b[0;34m(\u001b[0m\u001b[0;34m)\u001b[0m\u001b[0;34m\u001b[0m\u001b[0;34m\u001b[0m\u001b[0m\n\u001b[0;32m---> 70\u001b[0;31m     adversarials, _, success = attack(\n\u001b[0m\u001b[1;32m     71\u001b[0m         \u001b[0mfmodel\u001b[0m\u001b[0;34m,\u001b[0m\u001b[0;34m\u001b[0m\u001b[0;34m\u001b[0m\u001b[0m\n\u001b[1;32m     72\u001b[0m         \u001b[0mx_to_attack\u001b[0m\u001b[0;34m,\u001b[0m\u001b[0;34m\u001b[0m\u001b[0;34m\u001b[0m\u001b[0m\n",
      "\u001b[0;32m~/dev/foolbox/foolbox/attacks/base.py\u001b[0m in \u001b[0;36m__call__\u001b[0;34m(***failed resolving arguments***)\u001b[0m\n\u001b[1;32m    408\u001b[0m \u001b[0;34m\u001b[0m\u001b[0m\n\u001b[1;32m    409\u001b[0m         \u001b[0;31m# run the actual attack\u001b[0m\u001b[0;34m\u001b[0m\u001b[0;34m\u001b[0m\u001b[0;34m\u001b[0m\u001b[0m\n\u001b[0;32m--> 410\u001b[0;31m         \u001b[0mxp\u001b[0m \u001b[0;34m=\u001b[0m \u001b[0mself\u001b[0m\u001b[0;34m.\u001b[0m\u001b[0mrun\u001b[0m\u001b[0;34m(\u001b[0m\u001b[0mmodel\u001b[0m\u001b[0;34m,\u001b[0m \u001b[0mx\u001b[0m\u001b[0;34m,\u001b[0m \u001b[0mcriterion\u001b[0m\u001b[0;34m,\u001b[0m \u001b[0mearly_stop\u001b[0m\u001b[0;34m=\u001b[0m\u001b[0mearly_stop\u001b[0m\u001b[0;34m,\u001b[0m \u001b[0;34m**\u001b[0m\u001b[0mkwargs\u001b[0m\u001b[0;34m)\u001b[0m\u001b[0;34m\u001b[0m\u001b[0;34m\u001b[0m\u001b[0m\n\u001b[0m\u001b[1;32m    411\u001b[0m \u001b[0;34m\u001b[0m\u001b[0m\n\u001b[1;32m    412\u001b[0m         \u001b[0mxpcs\u001b[0m \u001b[0;34m=\u001b[0m \u001b[0;34m[\u001b[0m\u001b[0;34m]\u001b[0m\u001b[0;34m\u001b[0m\u001b[0;34m\u001b[0m\u001b[0m\n",
      "\u001b[0;32m~/dev/foolbox/foolbox/attacks/carlini_wagner.py\u001b[0m in \u001b[0;36mrun\u001b[0;34m(***failed resolving arguments***)\u001b[0m\n\u001b[1;32m    163\u001b[0m \u001b[0;34m\u001b[0m\u001b[0m\n\u001b[1;32m    164\u001b[0m             \u001b[0;32mfor\u001b[0m \u001b[0mstep\u001b[0m \u001b[0;32min\u001b[0m \u001b[0mrange\u001b[0m\u001b[0;34m(\u001b[0m\u001b[0mself\u001b[0m\u001b[0;34m.\u001b[0m\u001b[0msteps\u001b[0m\u001b[0;34m)\u001b[0m\u001b[0;34m:\u001b[0m\u001b[0;34m\u001b[0m\u001b[0;34m\u001b[0m\u001b[0m\n\u001b[0;32m--> 165\u001b[0;31m                 \u001b[0mloss\u001b[0m\u001b[0;34m,\u001b[0m \u001b[0;34m(\u001b[0m\u001b[0mperturbed\u001b[0m\u001b[0;34m,\u001b[0m \u001b[0mlogits\u001b[0m\u001b[0;34m)\u001b[0m\u001b[0;34m,\u001b[0m \u001b[0mgradient\u001b[0m \u001b[0;34m=\u001b[0m \u001b[0mloss_aux_and_grad\u001b[0m\u001b[0;34m(\u001b[0m\u001b[0mdelta\u001b[0m\u001b[0;34m,\u001b[0m \u001b[0mconsts_\u001b[0m\u001b[0;34m)\u001b[0m\u001b[0;34m\u001b[0m\u001b[0;34m\u001b[0m\u001b[0m\n\u001b[0m\u001b[1;32m    166\u001b[0m                 \u001b[0mdelta\u001b[0m \u001b[0;34m+=\u001b[0m \u001b[0moptimizer\u001b[0m\u001b[0;34m(\u001b[0m\u001b[0mgradient\u001b[0m\u001b[0;34m,\u001b[0m \u001b[0mself\u001b[0m\u001b[0;34m.\u001b[0m\u001b[0mstepsize\u001b[0m\u001b[0;34m)\u001b[0m\u001b[0;34m\u001b[0m\u001b[0;34m\u001b[0m\u001b[0m\n\u001b[1;32m    167\u001b[0m \u001b[0;34m\u001b[0m\u001b[0m\n",
      "\u001b[0;32m~/anaconda2/envs/master-thesis/lib/python3.8/site-packages/eagerpy/tensor/tensorflow.py\u001b[0m in \u001b[0;36mvalue_and_grad\u001b[0;34m(***failed resolving arguments***)\u001b[0m\n\u001b[1;32m    460\u001b[0m                 \u001b[0mtape\u001b[0m\u001b[0;34m.\u001b[0m\u001b[0mwatch\u001b[0m\u001b[0;34m(\u001b[0m\u001b[0mx_\u001b[0m\u001b[0;34m.\u001b[0m\u001b[0mraw\u001b[0m\u001b[0;34m)\u001b[0m\u001b[0;34m\u001b[0m\u001b[0;34m\u001b[0m\u001b[0m\n\u001b[1;32m    461\u001b[0m                 \u001b[0;32mif\u001b[0m \u001b[0mhas_aux\u001b[0m\u001b[0;34m:\u001b[0m\u001b[0;34m\u001b[0m\u001b[0;34m\u001b[0m\u001b[0m\n\u001b[0;32m--> 462\u001b[0;31m                     \u001b[0mloss\u001b[0m\u001b[0;34m,\u001b[0m \u001b[0maux\u001b[0m \u001b[0;34m=\u001b[0m \u001b[0mf\u001b[0m\u001b[0;34m(\u001b[0m\u001b[0mx_\u001b[0m\u001b[0;34m,\u001b[0m \u001b[0;34m*\u001b[0m\u001b[0margs\u001b[0m\u001b[0;34m,\u001b[0m \u001b[0;34m**\u001b[0m\u001b[0mkwargs\u001b[0m\u001b[0;34m)\u001b[0m\u001b[0;34m\u001b[0m\u001b[0;34m\u001b[0m\u001b[0m\n\u001b[0m\u001b[1;32m    463\u001b[0m                 \u001b[0;32melse\u001b[0m\u001b[0;34m:\u001b[0m\u001b[0;34m\u001b[0m\u001b[0;34m\u001b[0m\u001b[0m\n\u001b[1;32m    464\u001b[0m                     \u001b[0mloss\u001b[0m \u001b[0;34m=\u001b[0m \u001b[0mf\u001b[0m\u001b[0;34m(\u001b[0m\u001b[0mx_\u001b[0m\u001b[0;34m,\u001b[0m \u001b[0;34m*\u001b[0m\u001b[0margs\u001b[0m\u001b[0;34m,\u001b[0m \u001b[0;34m**\u001b[0m\u001b[0mkwargs\u001b[0m\u001b[0;34m)\u001b[0m\u001b[0;34m\u001b[0m\u001b[0;34m\u001b[0m\u001b[0m\n",
      "\u001b[0;32m~/dev/foolbox/foolbox/attacks/carlini_wagner.py\u001b[0m in \u001b[0;36mloss_fun\u001b[0;34m(delta, consts)\u001b[0m\n\u001b[1;32m    114\u001b[0m \u001b[0;34m\u001b[0m\u001b[0m\n\u001b[1;32m    115\u001b[0m             \u001b[0mx\u001b[0m \u001b[0;34m=\u001b[0m \u001b[0mto_model_space\u001b[0m\u001b[0;34m(\u001b[0m\u001b[0mx_attack\u001b[0m \u001b[0;34m+\u001b[0m \u001b[0mdelta\u001b[0m\u001b[0;34m)\u001b[0m\u001b[0;34m\u001b[0m\u001b[0;34m\u001b[0m\u001b[0m\n\u001b[0;32m--> 116\u001b[0;31m             \u001b[0mlogits\u001b[0m \u001b[0;34m=\u001b[0m \u001b[0mmodel\u001b[0m\u001b[0;34m(\u001b[0m\u001b[0mx\u001b[0m\u001b[0;34m)\u001b[0m\u001b[0;34m\u001b[0m\u001b[0;34m\u001b[0m\u001b[0m\n\u001b[0m\u001b[1;32m    117\u001b[0m \u001b[0;34m\u001b[0m\u001b[0m\n\u001b[1;32m    118\u001b[0m             \u001b[0;32mif\u001b[0m \u001b[0mtargeted\u001b[0m\u001b[0;34m:\u001b[0m\u001b[0;34m\u001b[0m\u001b[0;34m\u001b[0m\u001b[0m\n",
      "\u001b[0;32m~/dev/foolbox/foolbox/models/base.py\u001b[0m in \u001b[0;36m__call__\u001b[0;34m(self, inputs)\u001b[0m\n\u001b[1;32m    100\u001b[0m         \u001b[0mx\u001b[0m\u001b[0;34m,\u001b[0m \u001b[0mrestore_type\u001b[0m \u001b[0;34m=\u001b[0m \u001b[0mep\u001b[0m\u001b[0;34m.\u001b[0m\u001b[0mastensor_\u001b[0m\u001b[0;34m(\u001b[0m\u001b[0minputs\u001b[0m\u001b[0;34m)\u001b[0m\u001b[0;34m\u001b[0m\u001b[0;34m\u001b[0m\u001b[0m\n\u001b[1;32m    101\u001b[0m         \u001b[0my\u001b[0m \u001b[0;34m=\u001b[0m \u001b[0mself\u001b[0m\u001b[0;34m.\u001b[0m\u001b[0m_preprocess\u001b[0m\u001b[0;34m(\u001b[0m\u001b[0mx\u001b[0m\u001b[0;34m)\u001b[0m\u001b[0;34m\u001b[0m\u001b[0;34m\u001b[0m\u001b[0m\n\u001b[0;32m--> 102\u001b[0;31m         \u001b[0mz\u001b[0m \u001b[0;34m=\u001b[0m \u001b[0mep\u001b[0m\u001b[0;34m.\u001b[0m\u001b[0mastensor\u001b[0m\u001b[0;34m(\u001b[0m\u001b[0mself\u001b[0m\u001b[0;34m.\u001b[0m\u001b[0m_model\u001b[0m\u001b[0;34m(\u001b[0m\u001b[0my\u001b[0m\u001b[0;34m.\u001b[0m\u001b[0mraw\u001b[0m\u001b[0;34m)\u001b[0m\u001b[0;34m)\u001b[0m\u001b[0;34m\u001b[0m\u001b[0;34m\u001b[0m\u001b[0m\n\u001b[0m\u001b[1;32m    103\u001b[0m         \u001b[0;32mreturn\u001b[0m \u001b[0mrestore_type\u001b[0m\u001b[0;34m(\u001b[0m\u001b[0mz\u001b[0m\u001b[0;34m)\u001b[0m\u001b[0;34m\u001b[0m\u001b[0;34m\u001b[0m\u001b[0m\n\u001b[1;32m    104\u001b[0m \u001b[0;34m\u001b[0m\u001b[0m\n",
      "\u001b[0;32m~/anaconda2/envs/master-thesis/lib/python3.8/site-packages/tensorflow/python/keras/engine/base_layer.py\u001b[0m in \u001b[0;36m__call__\u001b[0;34m(self, *args, **kwargs)\u001b[0m\n\u001b[1;32m    966\u001b[0m           with base_layer_utils.autocast_context_manager(\n\u001b[1;32m    967\u001b[0m               self._compute_dtype):\n\u001b[0;32m--> 968\u001b[0;31m             \u001b[0moutputs\u001b[0m \u001b[0;34m=\u001b[0m \u001b[0mself\u001b[0m\u001b[0;34m.\u001b[0m\u001b[0mcall\u001b[0m\u001b[0;34m(\u001b[0m\u001b[0mcast_inputs\u001b[0m\u001b[0;34m,\u001b[0m \u001b[0;34m*\u001b[0m\u001b[0margs\u001b[0m\u001b[0;34m,\u001b[0m \u001b[0;34m**\u001b[0m\u001b[0mkwargs\u001b[0m\u001b[0;34m)\u001b[0m\u001b[0;34m\u001b[0m\u001b[0;34m\u001b[0m\u001b[0m\n\u001b[0m\u001b[1;32m    969\u001b[0m           \u001b[0mself\u001b[0m\u001b[0;34m.\u001b[0m\u001b[0m_handle_activity_regularization\u001b[0m\u001b[0;34m(\u001b[0m\u001b[0minputs\u001b[0m\u001b[0;34m,\u001b[0m \u001b[0moutputs\u001b[0m\u001b[0;34m)\u001b[0m\u001b[0;34m\u001b[0m\u001b[0;34m\u001b[0m\u001b[0m\n\u001b[1;32m    970\u001b[0m           \u001b[0mself\u001b[0m\u001b[0;34m.\u001b[0m\u001b[0m_set_mask_metadata\u001b[0m\u001b[0;34m(\u001b[0m\u001b[0minputs\u001b[0m\u001b[0;34m,\u001b[0m \u001b[0moutputs\u001b[0m\u001b[0;34m,\u001b[0m \u001b[0minput_masks\u001b[0m\u001b[0;34m)\u001b[0m\u001b[0;34m\u001b[0m\u001b[0;34m\u001b[0m\u001b[0m\n",
      "\u001b[0;32m<ipython-input-7-894c4d941069>\u001b[0m in \u001b[0;36mcall\u001b[0;34m(self, inputs)\u001b[0m\n\u001b[1;32m    141\u001b[0m         \u001b[0mx\u001b[0m \u001b[0;34m=\u001b[0m \u001b[0mself\u001b[0m\u001b[0;34m.\u001b[0m\u001b[0mmaxpool2\u001b[0m\u001b[0;34m(\u001b[0m\u001b[0mx\u001b[0m\u001b[0;34m)\u001b[0m\u001b[0;34m\u001b[0m\u001b[0;34m\u001b[0m\u001b[0m\n\u001b[1;32m    142\u001b[0m         \u001b[0mx\u001b[0m \u001b[0;34m=\u001b[0m \u001b[0mlayers\u001b[0m\u001b[0;34m.\u001b[0m\u001b[0mFlatten\u001b[0m\u001b[0;34m(\u001b[0m\u001b[0;34m)\u001b[0m\u001b[0;34m(\u001b[0m\u001b[0mx\u001b[0m\u001b[0;34m)\u001b[0m\u001b[0;34m\u001b[0m\u001b[0;34m\u001b[0m\u001b[0m\n\u001b[0;32m--> 143\u001b[0;31m         \u001b[0mx\u001b[0m \u001b[0;34m=\u001b[0m \u001b[0mself\u001b[0m\u001b[0;34m.\u001b[0m\u001b[0mdense1\u001b[0m\u001b[0;34m(\u001b[0m\u001b[0mx\u001b[0m\u001b[0;34m)\u001b[0m\u001b[0;34m\u001b[0m\u001b[0;34m\u001b[0m\u001b[0m\n\u001b[0m\u001b[1;32m    144\u001b[0m         \u001b[0mx\u001b[0m \u001b[0;34m=\u001b[0m \u001b[0mself\u001b[0m\u001b[0;34m.\u001b[0m\u001b[0mdense2\u001b[0m\u001b[0;34m(\u001b[0m\u001b[0mx\u001b[0m\u001b[0;34m)\u001b[0m\u001b[0;34m\u001b[0m\u001b[0;34m\u001b[0m\u001b[0m\n\u001b[1;32m    145\u001b[0m         \u001b[0mx\u001b[0m \u001b[0;34m=\u001b[0m  \u001b[0mself\u001b[0m\u001b[0;34m.\u001b[0m\u001b[0mdense3\u001b[0m\u001b[0;34m(\u001b[0m\u001b[0mx\u001b[0m\u001b[0;34m)\u001b[0m\u001b[0;34m\u001b[0m\u001b[0;34m\u001b[0m\u001b[0m\n",
      "\u001b[0;32m~/anaconda2/envs/master-thesis/lib/python3.8/site-packages/tensorflow/python/keras/engine/base_layer.py\u001b[0m in \u001b[0;36m__call__\u001b[0;34m(self, *args, **kwargs)\u001b[0m\n\u001b[1;32m    966\u001b[0m           with base_layer_utils.autocast_context_manager(\n\u001b[1;32m    967\u001b[0m               self._compute_dtype):\n\u001b[0;32m--> 968\u001b[0;31m             \u001b[0moutputs\u001b[0m \u001b[0;34m=\u001b[0m \u001b[0mself\u001b[0m\u001b[0;34m.\u001b[0m\u001b[0mcall\u001b[0m\u001b[0;34m(\u001b[0m\u001b[0mcast_inputs\u001b[0m\u001b[0;34m,\u001b[0m \u001b[0;34m*\u001b[0m\u001b[0margs\u001b[0m\u001b[0;34m,\u001b[0m \u001b[0;34m**\u001b[0m\u001b[0mkwargs\u001b[0m\u001b[0;34m)\u001b[0m\u001b[0;34m\u001b[0m\u001b[0;34m\u001b[0m\u001b[0m\n\u001b[0m\u001b[1;32m    969\u001b[0m           \u001b[0mself\u001b[0m\u001b[0;34m.\u001b[0m\u001b[0m_handle_activity_regularization\u001b[0m\u001b[0;34m(\u001b[0m\u001b[0minputs\u001b[0m\u001b[0;34m,\u001b[0m \u001b[0moutputs\u001b[0m\u001b[0;34m)\u001b[0m\u001b[0;34m\u001b[0m\u001b[0;34m\u001b[0m\u001b[0m\n\u001b[1;32m    970\u001b[0m           \u001b[0mself\u001b[0m\u001b[0;34m.\u001b[0m\u001b[0m_set_mask_metadata\u001b[0m\u001b[0;34m(\u001b[0m\u001b[0minputs\u001b[0m\u001b[0;34m,\u001b[0m \u001b[0moutputs\u001b[0m\u001b[0;34m,\u001b[0m \u001b[0minput_masks\u001b[0m\u001b[0;34m)\u001b[0m\u001b[0;34m\u001b[0m\u001b[0;34m\u001b[0m\u001b[0m\n",
      "\u001b[0;32m<ipython-input-7-894c4d941069>\u001b[0m in \u001b[0;36mcall\u001b[0;34m(self, inputs)\u001b[0m\n\u001b[1;32m    114\u001b[0m \u001b[0;34m\u001b[0m\u001b[0m\n\u001b[1;32m    115\u001b[0m     \u001b[0;32mdef\u001b[0m \u001b[0mcall\u001b[0m\u001b[0;34m(\u001b[0m\u001b[0mself\u001b[0m\u001b[0;34m,\u001b[0m \u001b[0minputs\u001b[0m\u001b[0;34m)\u001b[0m\u001b[0;34m:\u001b[0m\u001b[0;34m\u001b[0m\u001b[0;34m\u001b[0m\u001b[0m\n\u001b[0;32m--> 116\u001b[0;31m         \u001b[0mx\u001b[0m \u001b[0;34m=\u001b[0m \u001b[0mtf\u001b[0m\u001b[0;34m.\u001b[0m\u001b[0mmatmul\u001b[0m\u001b[0;34m(\u001b[0m\u001b[0minputs\u001b[0m\u001b[0;34m,\u001b[0m \u001b[0mtf\u001b[0m\u001b[0;34m.\u001b[0m\u001b[0mmultiply\u001b[0m\u001b[0;34m(\u001b[0m\u001b[0mself\u001b[0m\u001b[0;34m.\u001b[0m\u001b[0mw\u001b[0m\u001b[0;34m,\u001b[0m \u001b[0mself\u001b[0m\u001b[0;34m.\u001b[0m\u001b[0mm\u001b[0m\u001b[0;34m)\u001b[0m\u001b[0;34m)\u001b[0m\u001b[0;34m\u001b[0m\u001b[0;34m\u001b[0m\u001b[0m\n\u001b[0m\u001b[1;32m    117\u001b[0m         \u001b[0mx\u001b[0m \u001b[0;34m=\u001b[0m \u001b[0mtf\u001b[0m\u001b[0;34m.\u001b[0m\u001b[0mnn\u001b[0m\u001b[0;34m.\u001b[0m\u001b[0mbias_add\u001b[0m\u001b[0;34m(\u001b[0m\u001b[0mx\u001b[0m\u001b[0;34m,\u001b[0m \u001b[0mself\u001b[0m\u001b[0;34m.\u001b[0m\u001b[0mb\u001b[0m\u001b[0;34m)\u001b[0m\u001b[0;34m\u001b[0m\u001b[0;34m\u001b[0m\u001b[0m\n\u001b[1;32m    118\u001b[0m         \u001b[0;32mif\u001b[0m \u001b[0mself\u001b[0m\u001b[0;34m.\u001b[0m\u001b[0ma\u001b[0m \u001b[0;34m==\u001b[0m \u001b[0;34m'tanh'\u001b[0m\u001b[0;34m:\u001b[0m\u001b[0;34m\u001b[0m\u001b[0;34m\u001b[0m\u001b[0m\n",
      "\u001b[0;32m~/anaconda2/envs/master-thesis/lib/python3.8/site-packages/tensorflow/python/util/dispatch.py\u001b[0m in \u001b[0;36mwrapper\u001b[0;34m(*args, **kwargs)\u001b[0m\n\u001b[1;32m    178\u001b[0m     \u001b[0;34m\"\"\"Call target, and fall back on dispatchers if there is a TypeError.\"\"\"\u001b[0m\u001b[0;34m\u001b[0m\u001b[0;34m\u001b[0m\u001b[0m\n\u001b[1;32m    179\u001b[0m     \u001b[0;32mtry\u001b[0m\u001b[0;34m:\u001b[0m\u001b[0;34m\u001b[0m\u001b[0;34m\u001b[0m\u001b[0m\n\u001b[0;32m--> 180\u001b[0;31m       \u001b[0;32mreturn\u001b[0m \u001b[0mtarget\u001b[0m\u001b[0;34m(\u001b[0m\u001b[0;34m*\u001b[0m\u001b[0margs\u001b[0m\u001b[0;34m,\u001b[0m \u001b[0;34m**\u001b[0m\u001b[0mkwargs\u001b[0m\u001b[0;34m)\u001b[0m\u001b[0;34m\u001b[0m\u001b[0;34m\u001b[0m\u001b[0m\n\u001b[0m\u001b[1;32m    181\u001b[0m     \u001b[0;32mexcept\u001b[0m \u001b[0;34m(\u001b[0m\u001b[0mTypeError\u001b[0m\u001b[0;34m,\u001b[0m \u001b[0mValueError\u001b[0m\u001b[0;34m)\u001b[0m\u001b[0;34m:\u001b[0m\u001b[0;34m\u001b[0m\u001b[0;34m\u001b[0m\u001b[0m\n\u001b[1;32m    182\u001b[0m       \u001b[0;31m# Note: convert_to_eager_tensor currently raises a ValueError, not a\u001b[0m\u001b[0;34m\u001b[0m\u001b[0;34m\u001b[0m\u001b[0;34m\u001b[0m\u001b[0m\n",
      "\u001b[0;32m~/anaconda2/envs/master-thesis/lib/python3.8/site-packages/tensorflow/python/ops/math_ops.py\u001b[0m in \u001b[0;36mmultiply\u001b[0;34m(x, y, name)\u001b[0m\n\u001b[1;32m    379\u001b[0m   \"\"\"\n\u001b[1;32m    380\u001b[0m \u001b[0;34m\u001b[0m\u001b[0m\n\u001b[0;32m--> 381\u001b[0;31m   \u001b[0;32mreturn\u001b[0m \u001b[0mgen_math_ops\u001b[0m\u001b[0;34m.\u001b[0m\u001b[0mmul\u001b[0m\u001b[0;34m(\u001b[0m\u001b[0mx\u001b[0m\u001b[0;34m,\u001b[0m \u001b[0my\u001b[0m\u001b[0;34m,\u001b[0m \u001b[0mname\u001b[0m\u001b[0;34m)\u001b[0m\u001b[0;34m\u001b[0m\u001b[0;34m\u001b[0m\u001b[0m\n\u001b[0m\u001b[1;32m    382\u001b[0m \u001b[0;34m\u001b[0m\u001b[0m\n\u001b[1;32m    383\u001b[0m \u001b[0;34m\u001b[0m\u001b[0m\n",
      "\u001b[0;32m~/anaconda2/envs/master-thesis/lib/python3.8/site-packages/tensorflow/python/ops/gen_math_ops.py\u001b[0m in \u001b[0;36mmul\u001b[0;34m(x, y, name)\u001b[0m\n\u001b[1;32m   6076\u001b[0m   \u001b[0;32mif\u001b[0m \u001b[0mtld\u001b[0m\u001b[0;34m.\u001b[0m\u001b[0mis_eager\u001b[0m\u001b[0;34m:\u001b[0m\u001b[0;34m\u001b[0m\u001b[0;34m\u001b[0m\u001b[0m\n\u001b[1;32m   6077\u001b[0m     \u001b[0;32mtry\u001b[0m\u001b[0;34m:\u001b[0m\u001b[0;34m\u001b[0m\u001b[0;34m\u001b[0m\u001b[0m\n\u001b[0;32m-> 6078\u001b[0;31m       _result = pywrap_tfe.TFE_Py_FastPathExecute(\n\u001b[0m\u001b[1;32m   6079\u001b[0m         \u001b[0m_ctx\u001b[0m\u001b[0;34m.\u001b[0m\u001b[0m_context_handle\u001b[0m\u001b[0;34m,\u001b[0m \u001b[0mtld\u001b[0m\u001b[0;34m.\u001b[0m\u001b[0mdevice_name\u001b[0m\u001b[0;34m,\u001b[0m \u001b[0;34m\"Mul\"\u001b[0m\u001b[0;34m,\u001b[0m \u001b[0mname\u001b[0m\u001b[0;34m,\u001b[0m \u001b[0mtld\u001b[0m\u001b[0;34m.\u001b[0m\u001b[0mop_callbacks\u001b[0m\u001b[0;34m,\u001b[0m\u001b[0;34m\u001b[0m\u001b[0;34m\u001b[0m\u001b[0m\n\u001b[1;32m   6080\u001b[0m         x, y)\n",
      "\u001b[0;31mKeyboardInterrupt\u001b[0m: "
     ]
    }
   ],
   "source": [
    "run_experiment(\n",
    "    structure='unstructured', \n",
    "    method='random', \n",
    "    scope='local', \n",
    "    iterations=ITERATIONS\n",
    ")"
   ]
  },
  {
   "cell_type": "code",
   "execution_count": null,
   "metadata": {},
   "outputs": [],
   "source": [
    "run_experiment(\n",
    "    structure='unstructured', \n",
    "    method='magnitude', \n",
    "    scope='local', \n",
    "    iterations=ITERATIONS\n",
    ")"
   ]
  },
  {
   "cell_type": "code",
   "execution_count": null,
   "metadata": {},
   "outputs": [],
   "source": [
    "run_experiment(\n",
    "    structure='unstructured', \n",
    "    method='magnitude', \n",
    "    scope='global', \n",
    "    iterations=ITERATIONS\n",
    ")"
   ]
  },
  {
   "cell_type": "code",
   "execution_count": null,
   "metadata": {
    "scrolled": true
   },
   "outputs": [],
   "source": [
    "run_experiment(\n",
    "    structure='structured', \n",
    "    method='random', \n",
    "    scope='local', \n",
    "    iterations=ITERATIONS\n",
    ")"
   ]
  },
  {
   "cell_type": "code",
   "execution_count": null,
   "metadata": {},
   "outputs": [],
   "source": [
    "run_experiment(\n",
    "    structure='structured', \n",
    "    method='magnitude', \n",
    "    scope='local', \n",
    "    iterations=ITERATIONS\n",
    ")"
   ]
  },
  {
   "cell_type": "code",
   "execution_count": null,
   "metadata": {},
   "outputs": [],
   "source": [
    "run_experiment(\n",
    "    structure='structured', \n",
    "    method='magnitude', \n",
    "    scope='global', \n",
    "    iterations=ITERATIONS\n",
    ")"
   ]
  },
  {
   "cell_type": "code",
   "execution_count": null,
   "metadata": {},
   "outputs": [],
   "source": []
  },
  {
   "cell_type": "code",
   "execution_count": null,
   "metadata": {},
   "outputs": [],
   "source": []
  },
  {
   "cell_type": "markdown",
   "metadata": {},
   "source": [
    "# Prune, Train Attack Pipeline"
   ]
  },
  {
   "cell_type": "code",
   "execution_count": 16,
   "metadata": {},
   "outputs": [],
   "source": [
    "def run_experiment(structure='unstructured', method='random', scope='global', iterations=10):\n",
    "    csv_file_name = f'{ARCHITECTURE}-fixed-eps.csv'\n",
    "    pkl_file_name = f'{ARCHITECTURE}-fixed-eps.pkl'\n",
    "    experiment_name = f'{ARCHITECTURE}-{method}-{scope}-{structure}'\n",
    "    cols = ['iteration','experiment_name','structure','method','scope','pruning_ratio','accuracy','loss','pgd_linf','cw_l2','bb_l0', 'total_params', 'params_left']\n",
    "    results = pd.DataFrame(columns=cols, dtype='object')\n",
    "    pgd_success_rates = []\n",
    "    cw_success_rates = []\n",
    "    bb0_success_rates = []\n",
    "    all_accuracies = []\n",
    "\n",
    "    \n",
    "    compression_rates = [tf.math.pow(2, x).numpy() for x in range(4)]\n",
    "    pruning_ratios = [1-1/x for x in compression_rates]\n",
    "\n",
    "    \n",
    "    for j in tqdm(range(iterations)):\n",
    "        accuracies = []\n",
    "        pgd_success_rate = []\n",
    "        cw_success_rate = []\n",
    "        bb0_success_rate = []\n",
    "        try: \n",
    "            del model\n",
    "        except:\n",
    "            ;\n",
    "        tf.compat.v1.reset_default_graph()\n",
    "        tf.keras.backend.clear_session()\n",
    "        \n",
    "        model = initialize_base_model(j, experiment_name=experiment_name, save_weights=True)\n",
    "        for index, pruning_ratio in tqdm(enumerate(pruning_ratios)):\n",
    "\n",
    "            #model.load_weights(f'./saved-weights/{experiment_name}-{j}')\n",
    "            #print(f'./saved-weights/{experiment_name}-{j}')\n",
    "\n",
    "            #for i in range(index + 1):\n",
    "                print(f'current pruning ratio is{pruning_ratio}, current iteration is {j}')\n",
    "                #if i != index:\n",
    "\n",
    "                if  method=='random' and scope=='global' and structure=='unstructured':\n",
    "                    model.prune_random_global_unstruct(pruning_ratio)\n",
    "                elif  method=='random' and scope=='global' and structure=='structured':\n",
    "                    model.prune_random_global_struct(pruning_ratio)\n",
    "                elif  method=='random' and scope=='local' and structure=='unstructured':\n",
    "                    model.prune_random_local_unstruct(pruning_ratio)\n",
    "                elif  method=='random' and scope=='local' and structure=='structured':\n",
    "                    model.prune_random_local_struct(pruning_ratio)\n",
    "                elif  method=='magnitude' and scope=='global' and structure=='unstructured':\n",
    "                    model.prune_magnitude_global_unstruct(pruning_ratio)\n",
    "                elif  method=='magnitude' and scope=='global' and structure=='structured':\n",
    "                    model.prune_magnitude_global_struct(pruning_ratio)\n",
    "                elif  method=='magnitude' and scope=='local' and structure=='unstructured':\n",
    "                    model.prune_magnitude_local_unstruct(pruning_ratio)\n",
    "                elif  method=='magnitude' and scope=='local' and structure=='structured':\n",
    "                    model.prune_magnitude_local_struct(pruning_ratio)\n",
    "                else:\n",
    "                    raise ValueError(\"pruning method invalid\")\n",
    "\n",
    "                zeros_ratio, non_zeros, param_count = get_zeros_ratio(model.get_weights())\n",
    "                model.compile(optimizer=tf.keras.optimizers.Adam(learning_rate=1e-3),\n",
    "                              loss=tf.keras.losses.SparseCategoricalCrossentropy(from_logits=True) ,\n",
    "                              metrics=['accuracy'],\n",
    "                              experimental_run_tf_function=False\n",
    "                             )\n",
    "                model = train_model(model, to_convergence=True)\n",
    "                zeros_ratio, non_zeros, param_count = get_zeros_ratio(model.get_weights())\n",
    "                res = model.evaluate(x_test, y_test, verbose=0)\n",
    "                #accuracies.append()\n",
    "                \n",
    "                #pgd_success_rate.append()\n",
    "                \n",
    "                if res[1] > .40:\n",
    "                    bb0_success = bb0_attack(model)\n",
    "                else: \n",
    "                    bb0_success = 'not successful'\n",
    "                vals = {\n",
    "                    'iteration':index,\n",
    "                    'experiment_name':experiment_name,\n",
    "                    'structure':structure,\n",
    "                    'method':method,\n",
    "                    'scope':scope,\n",
    "                    'pruning_ratio':pruning_ratio,\n",
    "                    'accuracy':res[1],\n",
    "                    'loss':res[0],\n",
    "                    'pgd_linf':pgd_attack(model),\n",
    "                    'cw_l2':cw2_attack(model),\n",
    "                    'bb_l0':bb0_success,\n",
    "                    'total_params':param_count,\n",
    "                    'params_left':non_zeros\n",
    "                }\n",
    "                results = results.append(pd.DataFrame([vals], index=[0], dtype='object'))\n",
    "                results.to_pickle(pkl_file_name)\n",
    "                results.to_csv(csv_file_name, index=False)\n",
    "        #all_accuracies.append(accuracies)\n",
    "        #pgd_success_rates.append(pgd_success_rate)\n",
    "        #cw_success_rates.append(cw_success_rate)\n",
    "        #bb0_success_rates.append(bb0_success_rate)\n",
    "    \n",
    "    \n",
    "    results.to_pickle(pkl_file_name)\n",
    "    results.to_csv(csv_file_name, index=False)"
   ]
  },
  {
   "cell_type": "markdown",
   "metadata": {},
   "source": [
    "# Helper Functions"
   ]
  },
  {
   "cell_type": "code",
   "execution_count": 12,
   "metadata": {},
   "outputs": [],
   "source": [
    "def get_zeros_ratio(weights):\n",
    "    layers_to_examine = [0,3,6,9,12]\n",
    "    all_weights = np.array([])\n",
    "    for x in layers_to_examine:\n",
    "\n",
    "        all_weights = np.append(all_weights, weights[x].flatten())\n",
    "    return np.count_nonzero(all_weights)/len(all_weights), np.count_nonzero(all_weights), len(all_weights)\n",
    "\n",
    "def initialize_base_model(index, experiment_name, save_weights=False):\n",
    "\n",
    "    model = CustomConvModel()\n",
    "\n",
    "    model.compile(optimizer=tf.keras.optimizers.Adam(learning_rate=1e-3),\n",
    "                  loss=tf.keras.losses.SparseCategoricalCrossentropy(from_logits=True) ,\n",
    "                  metrics=['accuracy'],\n",
    "                  experimental_run_tf_function=False\n",
    "                 )\n",
    "\n",
    "    callback = tf.keras.callbacks.EarlyStopping(monitor='val_loss', patience=3)\n",
    "    model.fit(x=x_train,\n",
    "              y=y_train,\n",
    "              batch_size=64,\n",
    "              epochs=1,\n",
    "              callbacks=[callback],\n",
    "              validation_data=(x_test, y_test),\n",
    "             )\n",
    "    if save_weights == True:\n",
    "        model.save_weights(f'./saved-weights/{experiment_name}-{index}')\n",
    "    return model\n",
    "\n",
    "\n",
    "\n",
    "def train_model(model, to_convergence=True, epochs = 5):\n",
    "    if to_convergence == True:\n",
    "        callback = tf.keras.callbacks.EarlyStopping(monitor='val_loss', patience=3)\n",
    "        model.fit(\n",
    "            x=x_train,\n",
    "            y=y_train,\n",
    "            batch_size=64,\n",
    "            epochs=500,\n",
    "            callbacks=[callback],\n",
    "            validation_data=(x_test, y_test),\n",
    "            )\n",
    "    if to_convergence == False:\n",
    "        callback = tf.keras.callbacks.EarlyStopping(monitor='val_loss', patience=3)\n",
    "        model.fit(\n",
    "            x=x_train,\n",
    "            y=y_train,\n",
    "            batch_size=64,\n",
    "            epochs=epochs,\n",
    "            callbacks=[callback],\n",
    "            validation_data=(x_test, y_test),\n",
    "            )\n",
    "    return model\n",
    "\n",
    "def pgd_attack(model_to_attack):\n",
    "    fmodel = fb.models.TensorFlowModel(model_to_attack, bounds=(0,1))\n",
    "    attack = fb.attacks.LinfProjectedGradientDescentAttack()\n",
    "    adversarials, _, success = attack(\n",
    "        fmodel,\n",
    "        x_to_attack,\n",
    "        y_to_attack,\n",
    "        epsilons=[x/255 for x in [2,4,8,16,32]]\n",
    "    )\n",
    "    return np.count_nonzero(success)/len(y_to_attack)\n",
    "\n",
    "def cw2_attack(model_to_attack, eps=[.5]):\n",
    "    fmodel = fb.models.TensorFlowModel(model_to_attack, bounds=(0,1))\n",
    "    attack = fb.attacks.L2CarliniWagnerAttack()\n",
    "    adversarials, _, success = attack(\n",
    "        fmodel,\n",
    "        x_to_attack,\n",
    "        y_to_attack,\n",
    "        epsilons=eps\n",
    "    )\n",
    "    dists = [tf.norm(x_to_attack[i]-adversarials[0][i]).numpy() for i in range(len(x_to_attack))]\n",
    "    return dists, success.numpy().tolist()\n",
    "\n",
    "def bb0_attack(model_to_attack):\n",
    "    fmodel = fb.models.TensorFlowModel(model_to_attack, bounds=(0,1))\n",
    "    init_attack = fb.attacks.DatasetAttack()\n",
    "    batches = [(x_to_attack[:500], y_to_attack[:500]), (x_to_attack[500:], y_to_attack[500:])]\n",
    "\n",
    "    # create attack that picks adversarials from given dataset of samples\n",
    "    #init_attack = fb.attacks.DatasetAttack()\n",
    "    init_attack = fb.attacks.DatasetAttack()\n",
    "\n",
    "    init_attack.feed(fmodel, batches[0][0])   # feed 1st batch of inputs\n",
    "    init_attack.feed(fmodel, batches[1][0])   # feed 2nd batch of inputs\n",
    "    attack = fb.attacks.L0BrendelBethgeAttack(binary_search_steps=30, steps=500,lr_num_decay=30, lr=1e7, init_attack=init_attack)\n",
    "    adversarials, _, success = attack(\n",
    "        fmodel,\n",
    "        x_to_attack,\n",
    "        criterion=fb.criteria.Misclassification(y_to_attack),\n",
    "        epsilons=[None]\n",
    "    )\n",
    "    dists = [np.count_nonzero(x_to_attack[i]-adversarials[0][i]) for i in range(len(x_to_attack))]\n",
    "    return dists, success.numpy().tolist()\n",
    "        \n",
    "def prune_conv_layers(pruning_ratio):\n",
    "    layer_to_prune = [0, 3]\n",
    "    pruned_weights = model.get_weights()\n",
    "    \n",
    "    for layer in layer_to_prune:\n",
    "        converted_weights = convert_from_hwio_to_iohw(model.get_weights()[layer])\n",
    "        converted_mask = convert_from_hwio_to_iohw(model.get_weights()[layer + 2]).numpy()\n",
    "        for input_index, input_layer in enumerate(converted_weights):\n",
    "\n",
    "            for kernel_index, kernel in enumerate(input_layer):\n",
    "                dims = kernel.shape\n",
    "                flat_weights = kernel.numpy().flatten()\n",
    "                flat_masks = converted_mask[input_index][kernel_index].flatten()\n",
    "                flat_weights_df = pd.DataFrame(flat_weights)\n",
    "                flat_mask_df = pd.DataFrame(flat_masks)\n",
    "                no_of_weights_to_prune = int(len(flat_weights)*pruning_ratio)\n",
    "                #print(no_of_weights_to_prune)\n",
    "                indices_to_delete = flat_weights_df.abs().values.argsort(0)[:no_of_weights_to_prune]\n",
    "                for idx_to_delete in indices_to_delete:\n",
    "                    flat_masks[idx_to_delete] = 0\n",
    "\n",
    "                converted_mask[input_index][kernel_index] = flat_masks.reshape(dims)\n",
    "        back_converted_mask = convert_from_iohw_to_hwio(converted_mask)\n",
    "        pruned_weights[layer+2] = back_converted_mask\n",
    "    \n",
    "    return pruned_weights\n",
    "\n",
    "def convert_from_hwio_to_iohw(weights_nchw):\n",
    "    return tf.transpose(weights_nchw, [2, 3, 0, 1])\n",
    "\n",
    "\n",
    "\n",
    "def convert_from_iohw_to_hwio(weights_nhwc):\n",
    "    return tf.transpose(weights_nhwc, [2, 3, 0, 1])\n",
    "\n",
    "\n",
    "def get_average_accuracies(all_accuracies):\n",
    "    acc_per_pruning_rate=[]\n",
    "    for i in range(len(all_accuracies)):\n",
    "        for j in range(len(all_accuracies[i])):\n",
    "\n",
    "            try:\n",
    "                acc_per_pruning_rate[j].append(all_accuracies[i][j][1])\n",
    "            except:\n",
    "                acc_per_pruning_rate.append([])\n",
    "                acc_per_pruning_rate[j].append(all_accuracies[i][j][1])\n",
    "    avg_acc_per_pruning_rate = [sum(x)/len(x) for x in acc_per_pruning_rate]; avg_acc_per_pruning_rate\n",
    "    return avg_acc_per_pruning_rate\n",
    "\n",
    "def get_average_success_rates(all_success_rates):\n",
    "    success_per_pruning_rate=[]\n",
    "    for i in range(len(all_success_rates)):\n",
    "        for j in range(len(all_success_rates[i])):\n",
    "\n",
    "            try:\n",
    "                success_per_pruning_rate[j].append(all_success_rates[i][j])\n",
    "            except:\n",
    "                success_per_pruning_rate.append([])\n",
    "                success_per_pruning_rate[j].append(all_success_rates[i][j])\n",
    "    avg_success_per_pruning_rate = [sum(x)/len(x) for x in success_per_pruning_rate];avg_success_per_pruning_rate\n",
    "    return avg_success_per_pruning_rate"
   ]
  },
  {
   "cell_type": "markdown",
   "metadata": {},
   "source": [
    "# Load Data"
   ]
  },
  {
   "cell_type": "code",
   "execution_count": 6,
   "metadata": {},
   "outputs": [],
   "source": [
    "(x_train, y_train), (x_test, y_test) = tf.keras.datasets.mnist.load_data()\n",
    "\n",
    "x_train = x_train.reshape(60000, 784).astype('float32') / 255\n",
    "x_test = x_test.reshape(10000, 784).astype('float32') / 255\n",
    "\n",
    "x_to_attack = tf.convert_to_tensor(x_train[0:1000].reshape(1000,28*28))\n",
    "y_to_attack = tf.convert_to_tensor([y_train[0:1000]])[0];"
   ]
  },
  {
   "cell_type": "markdown",
   "metadata": {},
   "source": [
    "# Define Model"
   ]
  },
  {
   "cell_type": "code",
   "execution_count": 7,
   "metadata": {},
   "outputs": [],
   "source": [
    "shapes = {\n",
    "    # 5x5 conv, 1 input, 6 outputs\n",
    "    'conv_1': (5, 5, 1, 6),\n",
    "    # 5x5 conv, 6 inputs, 16 outputs\n",
    "    'conv_2': (5, 5, 6, 16),\n",
    "    #5x5 conv as in paper, 16 inputs, 120 outputs\n",
    "    'conv_3': (1, 1, 16, 120),\n",
    "    # fully connected, 5*5*16 inputs, 120 outputs\n",
    "    'dense_1': (5*5*16, 120),\n",
    "    # fully connected, 120 inputs, 84 outputs\n",
    "    'dense_2': (120, 84),\n",
    "    # 84 inputs, 10 outputs (class prediction)\n",
    "    'dense_3': (84, 10),\n",
    "}\n",
    "bias_shapes = {\n",
    "    #output depth\n",
    "    'conv_1': (6),\n",
    "    'conv_2': (16),\n",
    "    'dense_1': (120),\n",
    "    'dense_2': (84),\n",
    "    'dense_3': (10),\n",
    "}\n",
    "\n",
    "#conv2D with bias and relu activation\n",
    "\n",
    "class CustomConvLayer(layers.Layer):\n",
    "\n",
    "    def __init__(self, weights, mask, biases, strides, padding='SAME'):\n",
    "        \n",
    "        super(CustomConvLayer, self).__init__()\n",
    "        self.w = weights\n",
    "        self.m = mask\n",
    "        self.b = biases\n",
    "        self.s = strides\n",
    "        self.p = padding\n",
    "\n",
    "        \n",
    "    def call(self, inputs):\n",
    "        x = tf.nn.conv2d(inputs, tf.multiply(self.w, self.m), strides=[1, self.s, self.s, 1], padding=self.p,)# data_format='NCHW')\n",
    "        x = tf.nn.bias_add(x, self.b,)# 'NC...')\n",
    "        return tf.nn.tanh(x)\n",
    "        \n",
    "\n",
    "#Average Pooling Layer\n",
    "class CustomPoolLayer(layers.Layer):\n",
    "    \n",
    "    def __init__(self, k=2, padding='valid'):#padding='VALID'):\n",
    "        super(CustomPoolLayer, self).__init__()\n",
    "        self.k = k\n",
    "        self.p = padding\n",
    "    \n",
    "    def call(self, inputs):\n",
    "#        return tf.keras.layers.AveragePooling2D(pool_size=(self.k, self.k), strides=None, padding=self.p, data_format='channels_first')(inputs)\n",
    "        return tf.nn.avg_pool2d(inputs, ksize=[1, self.k, self.k,1], strides=[1, self.k, self.k, 1], padding=self.p,)# data_format='NCHW')\n",
    "    \n",
    "\n",
    "        \n",
    "class CustomConvLayer(layers.Layer):\n",
    "\n",
    "    def __init__(self, shape, bias, strides, padding='SAME'):\n",
    "        \n",
    "        super(CustomConvLayer, self).__init__()\n",
    "        self.w = self.add_weight(\n",
    "            shape=shape,\n",
    "            initializer='random_normal',\n",
    "            trainable=True,\n",
    "            name='w'\n",
    "        )\n",
    "        self.m = self.add_weight(\n",
    "            shape=shape,\n",
    "            initializer='ones',\n",
    "            trainable=False,\n",
    "            name='m'\n",
    "        )\n",
    "        self.b = self.add_weight(\n",
    "            shape = (shape[-1]),\n",
    "            initializer = 'zeros',\n",
    "            trainable = True,\n",
    "            name='b'\n",
    "        )\n",
    "        self.s = strides\n",
    "        self.p = padding\n",
    "\n",
    "        \n",
    "    def call(self, inputs):\n",
    "        x = tf.nn.conv2d(inputs, tf.multiply(self.w, self.m), strides=[1, self.s, self.s, 1], padding=self.p,)# data_format='NCHW')\n",
    "        x = tf.nn.bias_add(x, self.b,)# 'NC...')\n",
    "        return tf.nn.tanh(x)\n",
    "\n",
    "#Dense Layer with Bias\n",
    "class CustomDenseLayer(layers.Layer):\n",
    "    def __init__(self, shape, bias, activation = 'tanh'):\n",
    "        super(CustomDenseLayer, self).__init__()\n",
    "        self.w = self.add_weight(\n",
    "            shape = shape,\n",
    "            initializer='random_normal',\n",
    "            trainable = True,\n",
    "            name='w'\n",
    "        )\n",
    "        self.m = self.add_weight(\n",
    "            shape = shape,\n",
    "            initializer='ones',\n",
    "            trainable = False,\n",
    "            name='m'\n",
    "        )\n",
    "        self.b = self.add_weight(\n",
    "            shape = (shape[-1]),\n",
    "            initializer = 'zeros',\n",
    "            trainable = True,\n",
    "            name='b'\n",
    "        )\n",
    "        self.a = activation\n",
    "        \n",
    "        \n",
    "    def call(self, inputs):\n",
    "        x = tf.matmul(inputs, tf.multiply(self.w, self.m))\n",
    "        x = tf.nn.bias_add(x, self.b)\n",
    "        if self.a == 'tanh':\n",
    "            return tf.nn.tanh(x)\n",
    "        if self.a == 'softmax':\n",
    "            return tf.nn.softmax(x)\n",
    "        \n",
    "        \n",
    "class CustomConvModel(tf.keras.Model):\n",
    "    def __init__(self):\n",
    "        super(CustomConvModel, self).__init__()\n",
    "        self.conv1 = CustomConvLayer(shapes['conv_1'], True, 1, 'SAME')#'VALID')\n",
    "        self.maxpool1 = CustomPoolLayer(k=2, padding='SAME')\n",
    "        self.conv2 = CustomConvLayer(shapes['conv_2'], True, 1, 'VALID')\n",
    "        self.maxpool2 = CustomPoolLayer(k=2, padding='VALID')\n",
    "\n",
    "        self.dense1 = CustomDenseLayer(shapes['dense_1'], True, 'tanh')\n",
    "        self.dense2 = CustomDenseLayer(shapes['dense_2'], True, 'tanh')\n",
    "        self.dense3 = CustomDenseLayer(shapes['dense_3'], True, 'softmax')\n",
    "        \n",
    "    def call(self, inputs):\n",
    "        x = tf.reshape(inputs, shape=[-1,28, 28, 1])\n",
    "        x = self.conv1(x)\n",
    "        x = self.maxpool1(x)\n",
    "        x = self.conv2(x)\n",
    "        x = self.maxpool2(x)\n",
    "        x = layers.Flatten()(x)\n",
    "        x = self.dense1(x)\n",
    "        x = self.dense2(x)\n",
    "        x =  self.dense3(x)\n",
    "        return x\n",
    "    \n",
    "    def prune_random_local_unstruct(self, ratio):\n",
    "        def prune_conv_layers_locally(self, ratio):\n",
    "            conv_layer_to_prune = [0, 3]\n",
    "            weights = self.get_weights()\n",
    "            for layer in conv_layer_to_prune:\n",
    "                converted_weights = convert_from_hwio_to_iohw(weights[layer]).numpy()\n",
    "                converted_mask = convert_from_hwio_to_iohw(weights[layer + 2]).numpy()\n",
    "                for input_index, input_layer in enumerate(converted_weights):\n",
    "                    for kernel_index, kernel in enumerate(input_layer):\n",
    "                        shape = kernel.shape\n",
    "                        flat_weights = kernel.flatten()\n",
    "                        flat_masks = converted_mask[input_index][kernel_index].flatten()\n",
    "                        \n",
    "                        no_of_weighs_to_prune = ratio * len(flat_weights)\n",
    "                        # find unpruned weights\n",
    "                        non_zero_weights = np.nonzero(flat_masks)[0]\n",
    "                        # calculate the amount of weights to be pruned this round\n",
    "                        no_of_weights_to_prune_left = int(no_of_weighs_to_prune - (len(flat_weights) - len(non_zero_weights)) )\n",
    "                        # shuffle all non-zero weights\n",
    "                        random.shuffle(non_zero_weights)\n",
    "                        # and take the indices of the first x weights where x is the number of weights to be pruned this round\n",
    "                        indices_to_delete = non_zero_weights[:no_of_weights_to_prune_left]\n",
    "                        \n",
    "                        for idx_to_delete in indices_to_delete:\n",
    "                            flat_masks[idx_to_delete] = 0\n",
    "                            flat_weights[idx_to_delete] = 0\n",
    "                        converted_mask[input_index][kernel_index] = flat_masks.reshape(shape)\n",
    "                        converted_weights[input_index][kernel_index] = flat_weights.reshape(shape)\n",
    "                back_converted_mask = convert_from_iohw_to_hwio(converted_mask)\n",
    "                back_converted_weights = convert_from_iohw_to_hwio(converted_weights)\n",
    "                weights[layer] = back_converted_weights\n",
    "                weights[layer+2] = back_converted_mask\n",
    "            self.set_weights(weights)\n",
    "            return True\n",
    "        \n",
    "        def prune_dense_layers_locally(self, ratio):\n",
    "            dense_layer_to_prune = [6, 9, 12]\n",
    "            weights = self.get_weights()\n",
    "            for index, weight in enumerate(weights):\n",
    "                if index in dense_layer_to_prune:\n",
    "                    shape = weight.shape\n",
    "                    flat_weights = weight.flatten()\n",
    "                    flat_mask = weights[index+2].flatten()\n",
    "                    no_of_weighs_to_prune = ratio * len(flat_weights)\n",
    "                    # find unpruned weights\n",
    "                    non_zero_weights = np.nonzero(flat_mask)[0]\n",
    "                    # calculate the amount of weights to be pruned this round\n",
    "                    no_of_weights_to_prune_left = int(no_of_weighs_to_prune - (len(flat_weights) - len(non_zero_weights)) )\n",
    "                    # shuffle all non-zero weights\n",
    "                    random.shuffle(non_zero_weights)\n",
    "                    # and take the indices of the first x weights where x is the number of weights to be pruned this round\n",
    "                    indices_to_delete = non_zero_weights[:no_of_weights_to_prune_left]\n",
    "                    for idx_to_delete in indices_to_delete:\n",
    "                        flat_mask[idx_to_delete] = 0\n",
    "                        flat_weights[idx_to_delete] = 0\n",
    "\n",
    "                    mask_reshaped = flat_mask.reshape(shape)\n",
    "                    weights_reshaped = flat_weights.reshape(shape)\n",
    "                    weights[index+2] = mask_reshaped\n",
    "                    weights[index] = weights_reshaped\n",
    "            self.set_weights(weights)\n",
    "            return True\n",
    "        prune_conv_layers_locally(self, ratio)\n",
    "        prune_dense_layers_locally(self,ratio)\n",
    "    \n",
    "    def prune_magnitude_global_unstruct(self, ratio):\n",
    "        #flat out all weights:\n",
    "        conv_layer_to_prune = [0, 3]\n",
    "        dense_layer_to_prune = [6, 9, 12]\n",
    "        weights = self.get_weights()\n",
    "        flat_weights = []\n",
    "        flat_mask = []\n",
    "        for x in conv_layer_to_prune + dense_layer_to_prune:\n",
    "            flat_weights = np.append(flat_weights, weights[x])\n",
    "            flat_mask = np.append(flat_mask, weights[x+2])\n",
    "            \n",
    "        no_of_weights_to_prune = int(len(flat_weights)*ratio)\n",
    "        indices_to_delete = np.abs(flat_weights).argsort(0)[:no_of_weights_to_prune]\n",
    "        \n",
    "        for idx_to_delete in indices_to_delete:\n",
    "            flat_mask[idx_to_delete] = 0\n",
    "            flat_weights[idx_to_delete] = 0\n",
    "        z = 0\n",
    "        for x in conv_layer_to_prune + dense_layer_to_prune:\n",
    "            weights[x] = flat_weights[z:z + np.prod(weights[x].shape)].reshape(weights[x].shape)\n",
    "            weights[x + 2] = flat_mask[z:z + np.prod(weights[x].shape)].reshape(weights[x].shape)\n",
    "            z = z + np.prod(weights[x].shape)            \n",
    "        self.set_weights(weights)\n",
    "        \n",
    "        \n",
    "            \n",
    "        \n",
    "        \n",
    "    \n",
    "    def prune_magnitude_local_unstruct(self, ratio):\n",
    "        def prune_conv_layers_locally(self, ratio):\n",
    "            conv_layer_to_prune = [0, 3]\n",
    "            #print('inside conv prune func',get_zeros_ratio(self.get_weights()))\n",
    "            weights = self.get_weights()\n",
    "            \n",
    "            for layer in conv_layer_to_prune:\n",
    "                converted_weights = convert_from_hwio_to_iohw(weights[layer]).numpy()\n",
    "                converted_mask = convert_from_hwio_to_iohw(weights[layer + 2]).numpy()\n",
    "                for input_index, input_layer in enumerate(converted_weights):\n",
    "                    for kernel_index, kernel in enumerate(input_layer):\n",
    "                        shape = kernel.shape\n",
    "                        flat_weights = kernel.flatten()\n",
    "                        flat_masks = converted_mask[input_index][kernel_index].flatten()\n",
    "                        #flat_weights_df = pd.DataFrame(flat_weights)\n",
    "                        #flat_mask_df = pd.DataFrame(flat_masks)\n",
    "                        no_of_weights_to_prune = int(len(flat_weights)*ratio)\n",
    "                        #print(no_of_weights_to_prune)\n",
    "                        #indices_to_delete = flat_weights_df.abs().values.argsort(0)[:no_of_weights_to_prune]\n",
    "                        indices_to_delete = np.abs(flat_weights).argsort(0)[:no_of_weights_to_prune]\n",
    "\n",
    "\n",
    "                        for idx_to_delete in indices_to_delete:\n",
    "                            flat_masks[idx_to_delete] = 0\n",
    "                            flat_weights[idx_to_delete] = 0\n",
    "\n",
    "                        converted_mask[input_index][kernel_index] = flat_masks.reshape(shape)\n",
    "                        converted_weights[input_index][kernel_index] = flat_weights.reshape(shape)\n",
    "                back_converted_mask = convert_from_iohw_to_hwio(converted_mask)\n",
    "                back_converted_weights = convert_from_iohw_to_hwio(converted_weights)\n",
    "                weights[layer] = back_converted_weights\n",
    "                weights[layer+2] = back_converted_mask\n",
    "            self.set_weights(weights)\n",
    "            return True\n",
    "        \n",
    "        def prune_dense_layers_locally(self, ratio):\n",
    "            \n",
    "            dense_layer_to_prune = [6, 9, 12]\n",
    "            weights = self.get_weights()\n",
    "            for index, weight in enumerate(weights):\n",
    "                if index in dense_layer_to_prune:\n",
    "                    shape = weight.shape\n",
    "                    flat_weights = weight.flatten()\n",
    "                    flat_mask = weights[index+2].flatten()\n",
    "\n",
    "                    no_of_weights_to_prune = int(len(flat_weights)*ratio)\n",
    "                    indices_to_delete = np.abs(flat_weights).argsort()[:no_of_weights_to_prune]\n",
    "                    for idx_to_delete in indices_to_delete:\n",
    "                        flat_mask[idx_to_delete] = 0\n",
    "                        flat_weights[idx_to_delete] = 0\n",
    "                    mask_reshaped = flat_mask.reshape(shape)\n",
    "                    weights_reshaped = flat_weights.reshape(shape)\n",
    "                    weights[index+2] = mask_reshaped\n",
    "                    weights[index] = weights_reshaped\n",
    "            self.set_weights(weights)\n",
    "            return True\n",
    "        prune_conv_layers_locally(self,ratio)\n",
    "        prune_dense_layers_locally(self,ratio)\n",
    "        return\n",
    "    \n",
    "    def prune_random_local_struct(self, ratio):\n",
    "        def prune_conv_layers(conv_layers_to_prune, weights):\n",
    "            for x in conv_layers_to_prune:\n",
    "\n",
    "                vals = []\n",
    "                iohw_weights = convert_from_hwio_to_iohw(weights[x])\n",
    "                iohw_mask = convert_from_hwio_to_iohw(weights[x+2])\n",
    "                converted_shape = iohw_weights.shape\n",
    "                no_of_channels = converted_shape[0]*converted_shape[1]\n",
    "                no_of_channels_to_prune = int(np.round(ratio * no_of_channels))\n",
    "                channels = tf.reshape(iohw_weights, (no_of_channels,converted_shape[2],converted_shape[3])).numpy()\n",
    "                #print(channels)\n",
    "                non_zero_channels = np.nonzero([np.sum(channel) for channel in channels])[0]\n",
    "                #print(non_zero_channels)\n",
    "                no_of_channels_to_prune_left = no_of_channels_to_prune - (len(channels) - len(non_zero_channels))\n",
    "                random.shuffle(non_zero_channels)\n",
    "                channels_to_prune = non_zero_channels[:no_of_channels_to_prune_left]\n",
    "                mask = tf.reshape(iohw_mask, (no_of_channels,converted_shape[2],converted_shape[3])).numpy()\n",
    "\n",
    "                for channel_to_prune in channels_to_prune:\n",
    "                    channels[channel_to_prune] = tf.zeros([converted_shape[2],converted_shape[3]])\n",
    "                    mask[channel_to_prune] = tf.zeros([converted_shape[2],converted_shape[3]])\n",
    "\n",
    "                reshaped_mask = tf.reshape(mask, converted_shape)\n",
    "                reshaped_weights = tf.reshape(channels, converted_shape)\n",
    "                weights[x] = convert_from_iohw_to_hwio(reshaped_weights)\n",
    "                weights[x+2] = convert_from_iohw_to_hwio(reshaped_mask)\n",
    "            #self.set_weights(weights)\n",
    "            return True\n",
    "        def prune_dense_layers(dense_layers_to_prune, weights):\n",
    "            for layer_to_prune in dense_layers_to_prune:\n",
    "                rows = weights[layer_to_prune]\n",
    "                no_of_rows_to_prune = int(ratio * len(weights[layer_to_prune]))\n",
    "                non_zero_rows = np.nonzero([np.sum(row) for row in rows])[0]\n",
    "                no_of_rows_to_prune_left = no_of_rows_to_prune - (len(rows) - len(non_zero_rows))\n",
    "                random.shuffle(non_zero_rows)\n",
    "                rows_to_prune = non_zero_rows[:no_of_rows_to_prune_left]\n",
    "                \n",
    "                for row_to_prune in rows_to_prune:\n",
    "                    weights[layer_to_prune][row_to_prune] = tf.zeros(len(weights[layer_to_prune][row_to_prune]))\n",
    "                    weights[layer_to_prune+2][row_to_prune] = tf.zeros(len(weights[layer_to_prune][row_to_prune]))\n",
    "            return True\n",
    "        weights = self.get_weights()\n",
    "        conv_layers_to_prune = [0,3]\n",
    "        dense_layers_to_prune = [6,9,12]\n",
    "        prune_conv_layers(conv_layers_to_prune, weights)\n",
    "        prune_dense_layers(dense_layers_to_prune, weights)\n",
    "        self.set_weights(weights)\n",
    "        return True\n",
    "\n",
    "    def prune_random_global_struct(self, ratio):\n",
    "        raise Warning('Not yet implemented')\n",
    "        return False\n",
    "    def prune_magnitude_local_struct(self, ratio):\n",
    "        def prune_conv_layers(conv_layers_to_prune, weights):\n",
    "            for x in conv_layers_to_prune:\n",
    "\n",
    "                vals = []\n",
    "                iohw_weights = convert_from_hwio_to_iohw(weights[x])\n",
    "                iohw_mask = convert_from_hwio_to_iohw(weights[x+2])\n",
    "                converted_shape = iohw_weights.shape\n",
    "                no_of_channels = converted_shape[0]*converted_shape[1]\n",
    "                no_of_channels_to_prune = int(np.round(ratio * no_of_channels))\n",
    "                channels = tf.reshape(iohw_weights, (no_of_channels,converted_shape[2],converted_shape[3])).numpy()\n",
    "                \n",
    "                mask = tf.reshape(iohw_mask, (no_of_channels,converted_shape[2],converted_shape[3])).numpy()\n",
    "                for channel in channels:\n",
    "                    vals.append(tf.math.reduce_sum(tf.math.abs(channel)))\n",
    "                channels_to_prune = np.argsort(vals)[:no_of_channels_to_prune]\n",
    "\n",
    "                for channel_to_prune in channels_to_prune:\n",
    "                    channels[channel_to_prune] = tf.zeros([converted_shape[2],converted_shape[3]])\n",
    "                    mask[channel_to_prune] = tf.zeros([converted_shape[2],converted_shape[3]])\n",
    "\n",
    "                reshaped_mask = tf.reshape(mask, converted_shape)\n",
    "                reshaped_weights = tf.reshape(channels, converted_shape)\n",
    "                weights[x] = convert_from_iohw_to_hwio(reshaped_weights)\n",
    "                weights[x+2] = convert_from_iohw_to_hwio(reshaped_mask)\n",
    "            #self.set_weights(weights)\n",
    "            return weights\n",
    "        def prune_dense_layers(dense_layers_to_prune, weights):\n",
    "            for layer_to_prune in dense_layers_to_prune:\n",
    "                no_of_rows_to_prune = int(ratio * len(weights[layer_to_prune]))\n",
    "                vals = []\n",
    "                for row in weights[layer_to_prune]:\n",
    "                    vals.append(np.sum(np.abs(row)))\n",
    "                rows_to_prune = np.argsort(vals)[:no_of_rows_to_prune]\n",
    "                for row_to_prune in rows_to_prune:\n",
    "\n",
    "                    weights[layer_to_prune][row_to_prune] = tf.zeros(len(weights[layer_to_prune][row_to_prune]))\n",
    "                    weights[layer_to_prune+2][row_to_prune] = tf.zeros(len(weights[layer_to_prune][row_to_prune]))\n",
    "            return weights\n",
    "        weights = self.get_weights()\n",
    "        conv_layers_to_prune = [0,3]\n",
    "        dense_layers_to_prune = [6,9,12]\n",
    "        weights = prune_conv_layers(conv_layers_to_prune, weights)\n",
    "        weights = prune_dense_layers(dense_layers_to_prune, weights)\n",
    "        self.set_weights(weights)\n",
    "        return True\n",
    "        \n",
    "    def prune_magnitude_global_struct(self, ratio):\n",
    "        def prune_conv_layers(conv_layers_to_prune, weights):\n",
    "            all_channels = np.empty((0,5,5))\n",
    "            original_shapes = []\n",
    "            for layer_to_prune in conv_layers_to_prune:\n",
    "                iohw_weights = convert_from_hwio_to_iohw(weights[layer_to_prune])\n",
    "                converted_shape = iohw_weights.shape\n",
    "                no_of_channels = converted_shape[0]*converted_shape[1]\n",
    "                channels = tf.reshape(iohw_weights, (no_of_channels,converted_shape[2],converted_shape[3])).numpy()\n",
    "                all_channels = np.concatenate((all_channels, channels))\n",
    "            mask = np.ones(all_channels.shape)\n",
    "            vals = [np.sum(np.abs(channel)) for channel in all_channels]\n",
    "            no_of_channels_to_prune = int(ratio * len(vals))\n",
    "            channels_to_prune = np.argsort(vals)[:no_of_channels_to_prune]\n",
    "\n",
    "            for channel_to_prune in channels_to_prune:\n",
    "                all_channels[channel_to_prune] = tf.zeros((5,5))\n",
    "                mask[channel_to_prune] = tf.zeros((5,5))\n",
    "            z = 0\n",
    "            for i, layer_to_prune in enumerate(conv_layers_to_prune):\n",
    "                original_shape = convert_from_hwio_to_iohw(weights[layer_to_prune]).shape\n",
    "                pruned_layer = tf.reshape(all_channels[z:z + original_shape[0]*original_shape[1]], original_shape)\n",
    "                pruned_mask = tf.reshape(mask[z:z + original_shape[0]*original_shape[1]], original_shape)\n",
    "                weights[layer_to_prune] = convert_from_iohw_to_hwio(pruned_layer)\n",
    "                weights[layer_to_prune + 2] = convert_from_iohw_to_hwio(pruned_mask)\n",
    "                z = original_shape[0]*original_shape[1]    \n",
    "            return weights\n",
    "        \n",
    "        def prune_dense_layers(dense_layers_to_prune, weights):\n",
    "            vals = []\n",
    "            lengths = []\n",
    "            for layer_to_prune in dense_layers_to_prune:\n",
    "                lengths.append(weights[layer_to_prune].shape[0])\n",
    "                vals = vals + [np.sum(np.abs(row)) / len(row) for row in weights[layer_to_prune]]\n",
    "            no_of_rows_to_prune = int(ratio * len(vals))\n",
    "            rows_to_prune = np.argsort(vals)[:no_of_rows_to_prune]\n",
    "            for i, layer_to_prune in enumerate(dense_layers_to_prune):\n",
    "                for row_to_prune in rows_to_prune:\n",
    "                    if row_to_prune in range(int(np.sum(lengths[:i])), int(np.sum(lengths[:i+1]))):\n",
    "                        weights[layer_to_prune][row_to_prune - int(np.sum(lengths[:i]))] = tf.zeros(weights[layer_to_prune][row_to_prune - int(np.sum(lengths[:i]))].shape)\n",
    "                        weights[layer_to_prune + 2][row_to_prune - int(np.sum(lengths[:i]))] = tf.zeros(weights[layer_to_prune][row_to_prune - int(np.sum(lengths[:i]))].shape)                \n",
    "            return weights\n",
    "        weights = self.get_weights()\n",
    "        conv_layers_to_prune = [0,3]\n",
    "        dense_layers_to_prune = [6,9,12]\n",
    "        weights = prune_conv_layers(conv_layers_to_prune, weights)\n",
    "        weights = prune_dense_layers(dense_layers_to_prune, weights)\n",
    "        self.set_weights(weights)\n",
    "        return True\n",
    "\n",
    "        \n"
   ]
  },
  {
   "cell_type": "markdown",
   "metadata": {},
   "source": [
    "# Compile and Train Model"
   ]
  },
  {
   "cell_type": "code",
   "execution_count": 9,
   "metadata": {},
   "outputs": [
    {
     "name": "stdout",
     "output_type": "stream",
     "text": [
      "469/469 [==============================] - 2s 4ms/step - loss: 1.6316 - accuracy: 0.8646 - val_loss: 1.5164 - val_accuracy: 0.9518\n"
     ]
    },
    {
     "data": {
      "text/plain": [
       "<tensorflow.python.keras.callbacks.History at 0x7f27dc34a2b0>"
      ]
     },
     "execution_count": 9,
     "metadata": {},
     "output_type": "execute_result"
    }
   ],
   "source": [
    "model = CustomConvModel()\n",
    "\n",
    "model.compile(optimizer=tf.keras.optimizers.Adam(learning_rate=1e-3),\n",
    "              loss=tf.keras.losses.SparseCategoricalCrossentropy(from_logits=True) ,\n",
    "              metrics=['accuracy'],\n",
    "              experimental_run_tf_function=False\n",
    "              \n",
    "             )\n",
    "\n",
    "callback = tf.keras.callbacks.EarlyStopping(monitor='val_loss', patience=3)\n",
    "model.fit(x=x_train,\n",
    "          y=y_train,\n",
    "          batch_size=128,\n",
    "          epochs=1,\n",
    "          callbacks=[callback],\n",
    "          validation_data=(x_test, y_test),\n",
    "         )\n",
    "#model.save('./saved-models/mini-pipeline-CNN-baseline-model')\n"
   ]
  },
  {
   "cell_type": "code",
   "execution_count": 9,
   "metadata": {},
   "outputs": [
    {
     "name": "stdout",
     "output_type": "stream",
     "text": [
      "938/938 [==============================] - 3s 3ms/step - loss: 1.5944 - accuracy: 0.8848 - val_loss: 1.5112 - val_accuracy: 0.9530\n",
      "Epoch 1/500\n",
      "938/938 [==============================] - 3s 3ms/step - loss: 1.5043 - accuracy: 0.9603 - val_loss: 1.4958 - val_accuracy: 0.9673\n",
      "Epoch 2/500\n",
      "938/938 [==============================] - 2s 3ms/step - loss: 1.4919 - accuracy: 0.9715 - val_loss: 1.4893 - val_accuracy: 0.9740\n",
      "Epoch 3/500\n",
      "938/938 [==============================] - 2s 3ms/step - loss: 1.4855 - accuracy: 0.9776 - val_loss: 1.4838 - val_accuracy: 0.9786\n",
      "Epoch 4/500\n",
      "938/938 [==============================] - 2s 3ms/step - loss: 1.4825 - accuracy: 0.9797 - val_loss: 1.4833 - val_accuracy: 0.9790\n",
      "Epoch 5/500\n",
      "938/938 [==============================] - 2s 3ms/step - loss: 1.4796 - accuracy: 0.9824 - val_loss: 1.4791 - val_accuracy: 0.9832\n",
      "Epoch 6/500\n",
      "938/938 [==============================] - 3s 3ms/step - loss: 1.4774 - accuracy: 0.9847 - val_loss: 1.4787 - val_accuracy: 0.9833\n",
      "Epoch 7/500\n",
      "938/938 [==============================] - 3s 3ms/step - loss: 1.4757 - accuracy: 0.9861 - val_loss: 1.4774 - val_accuracy: 0.9849\n",
      "Epoch 8/500\n",
      "938/938 [==============================] - 2s 3ms/step - loss: 1.4739 - accuracy: 0.9880 - val_loss: 1.4777 - val_accuracy: 0.9837\n",
      "Epoch 9/500\n",
      "938/938 [==============================] - 2s 3ms/step - loss: 1.4726 - accuracy: 0.9892 - val_loss: 1.4762 - val_accuracy: 0.9853\n",
      "Epoch 10/500\n",
      "938/938 [==============================] - 2s 3ms/step - loss: 1.4720 - accuracy: 0.9897 - val_loss: 1.4766 - val_accuracy: 0.9849\n",
      "Epoch 11/500\n",
      "938/938 [==============================] - 2s 3ms/step - loss: 1.4717 - accuracy: 0.9901 - val_loss: 1.4758 - val_accuracy: 0.9853\n",
      "Epoch 12/500\n",
      "938/938 [==============================] - 2s 3ms/step - loss: 1.4706 - accuracy: 0.9911 - val_loss: 1.4750 - val_accuracy: 0.9864\n",
      "Epoch 13/500\n",
      "938/938 [==============================] - 3s 3ms/step - loss: 1.4694 - accuracy: 0.9922 - val_loss: 1.4774 - val_accuracy: 0.9838\n",
      "Epoch 14/500\n",
      "938/938 [==============================] - 3s 3ms/step - loss: 1.4695 - accuracy: 0.9919 - val_loss: 1.4750 - val_accuracy: 0.9864\n",
      "Epoch 15/500\n",
      "938/938 [==============================] - 3s 3ms/step - loss: 1.4699 - accuracy: 0.9916 - val_loss: 1.4761 - val_accuracy: 0.9858\n"
     ]
    },
    {
     "data": {
      "text/plain": [
       "<__main__.CustomConvModel at 0x7f50f804a220>"
      ]
     },
     "execution_count": 9,
     "metadata": {},
     "output_type": "execute_result"
    }
   ],
   "source": [
    "model = initialize_base_model(999,'')\n",
    "train_model(model)"
   ]
  },
  {
   "cell_type": "code",
   "execution_count": null,
   "metadata": {},
   "outputs": [],
   "source": []
  },
  {
   "cell_type": "code",
   "execution_count": 20,
   "metadata": {
    "scrolled": true
   },
   "outputs": [
    {
     "name": "stdout",
     "output_type": "stream",
     "text": [
      "going to be asserted TensorFlowTensor(<tf.Tensor: shape=(1000,), dtype=bool, numpy=\n",
      "                 array([ True,  True,  True,  True,  True,  True,  True,  True,  True,\n",
      "                         True,  True,  True,  True,  True,  True,  True,  True,  True,\n",
      "                         True,  True,  True,  True,  True,  True,  True,  True,  True,\n",
      "                         True,  True,  True,  True,  True,  True,  True,  True,  True,\n",
      "                         True,  True,  True,  True,  True,  True,  True,  True,  True,\n",
      "                         True,  True,  True,  True,  True,  True,  True,  True,  True,\n",
      "                         True,  True,  True,  True,  True,  True,  True,  True,  True,\n",
      "                         True,  True,  True,  True,  True,  True,  True,  True,  True,\n",
      "                         True,  True,  True,  True,  True,  True,  True,  True,  True,\n",
      "                         True,  True,  True,  True,  True,  True,  True,  True,  True,\n",
      "                         True,  True,  True,  True,  True,  True,  True,  True,  True,\n",
      "                         True,  True,  True,  True,  True,  True,  True,  True,  True,\n",
      "                         True,  True,  True,  True,  True,  True,  True,  True,  True,\n",
      "                         True,  True,  True,  True,  True,  True,  True,  True,  True,\n",
      "                         True,  True,  True,  True,  True,  True,  True,  True,  True,\n",
      "                         True,  True,  True,  True,  True,  True,  True,  True,  True,\n",
      "                         True,  True,  True,  True,  True,  True,  True,  True,  True,\n",
      "                         True,  True,  True,  True,  True,  True,  True,  True,  True,\n",
      "                         True,  True,  True,  True,  True,  True,  True,  True,  True,\n",
      "                         True,  True,  True,  True,  True,  True,  True,  True,  True,\n",
      "                         True,  True,  True,  True,  True,  True,  True,  True,  True,\n",
      "                         True,  True,  True,  True,  True,  True,  True,  True,  True,\n",
      "                         True,  True,  True,  True,  True,  True,  True,  True,  True,\n",
      "                         True,  True,  True,  True,  True,  True,  True,  True,  True,\n",
      "                         True,  True,  True,  True,  True,  True,  True,  True,  True,\n",
      "                         True,  True,  True,  True,  True,  True,  True,  True,  True,\n",
      "                         True,  True,  True,  True,  True,  True,  True,  True,  True,\n",
      "                         True,  True,  True,  True,  True,  True,  True,  True,  True,\n",
      "                         True,  True,  True,  True,  True,  True,  True,  True,  True,\n",
      "                         True,  True,  True,  True,  True,  True,  True,  True,  True,\n",
      "                         True,  True,  True,  True,  True,  True,  True,  True,  True,\n",
      "                         True,  True,  True,  True,  True,  True,  True,  True,  True,\n",
      "                         True,  True,  True,  True,  True,  True,  True,  True,  True,\n",
      "                         True,  True,  True,  True,  True,  True,  True,  True,  True,\n",
      "                         True,  True,  True,  True,  True,  True,  True,  True,  True,\n",
      "                         True,  True,  True,  True,  True,  True,  True,  True,  True,\n",
      "                         True,  True,  True,  True,  True,  True,  True,  True,  True,\n",
      "                         True,  True,  True,  True,  True,  True,  True,  True,  True,\n",
      "                         True,  True,  True,  True,  True,  True,  True,  True,  True,\n",
      "                         True,  True,  True,  True,  True,  True,  True,  True,  True,\n",
      "                         True,  True,  True,  True,  True,  True,  True,  True,  True,\n",
      "                         True,  True,  True,  True,  True,  True,  True,  True,  True,\n",
      "                         True,  True,  True,  True,  True,  True,  True,  True,  True,\n",
      "                         True,  True,  True,  True,  True,  True,  True,  True,  True,\n",
      "                         True,  True,  True,  True,  True,  True,  True,  True,  True,\n",
      "                         True,  True,  True,  True,  True,  True,  True,  True,  True,\n",
      "                         True,  True,  True,  True,  True,  True,  True,  True,  True,\n",
      "                         True,  True,  True,  True,  True,  True,  True,  True,  True,\n",
      "                         True,  True,  True,  True,  True,  True,  True,  True,  True,\n",
      "                         True,  True,  True,  True,  True,  True,  True,  True,  True,\n",
      "                         True,  True,  True,  True,  True,  True,  True,  True,  True,\n",
      "                         True,  True,  True,  True,  True,  True,  True,  True,  True,\n",
      "                         True,  True,  True,  True,  True,  True,  True,  True,  True,\n",
      "                         True,  True,  True,  True,  True,  True,  True,  True,  True,\n",
      "                         True,  True,  True,  True,  True,  True,  True,  True,  True,\n",
      "                         True,  True,  True,  True,  True,  True,  True,  True,  True,\n",
      "                         True,  True,  True,  True,  True,  True,  True,  True,  True,\n",
      "                         True,  True,  True,  True,  True,  True,  True,  True,  True,\n",
      "                         True,  True,  True,  True,  True,  True,  True,  True,  True,\n",
      "                         True,  True,  True,  True,  True,  True,  True,  True,  True,\n",
      "                         True,  True,  True,  True,  True,  True,  True,  True,  True,\n",
      "                         True,  True,  True,  True,  True,  True,  True,  True,  True,\n",
      "                         True,  True,  True,  True,  True,  True,  True,  True,  True,\n",
      "                         True,  True,  True,  True,  True,  True,  True,  True,  True,\n",
      "                         True,  True,  True,  True,  True,  True,  True,  True,  True,\n",
      "                         True,  True,  True,  True,  True,  True,  True,  True,  True,\n",
      "                         True,  True,  True,  True,  True,  True,  True,  True,  True,\n",
      "                         True,  True,  True,  True,  True,  True,  True,  True,  True,\n",
      "                         True,  True,  True,  True,  True,  True,  True,  True,  True,\n",
      "                         True,  True,  True,  True,  True,  True,  True,  True,  True,\n",
      "                         True,  True,  True,  True,  True,  True,  True,  True,  True,\n",
      "                         True,  True,  True,  True,  True,  True,  True,  True,  True,\n",
      "                         True,  True,  True,  True,  True,  True,  True,  True,  True,\n",
      "                         True,  True,  True,  True,  True,  True,  True,  True,  True,\n",
      "                         True,  True,  True,  True,  True,  True,  True,  True,  True,\n",
      "                         True,  True,  True,  True,  True,  True,  True,  True,  True,\n",
      "                         True,  True,  True,  True,  True,  True,  True,  True,  True,\n",
      "                         True,  True,  True,  True,  True,  True,  True,  True,  True,\n",
      "                         True,  True,  True,  True,  True,  True,  True,  True,  True,\n",
      "                         True,  True,  True,  True,  True,  True,  True,  True,  True,\n",
      "                         True,  True,  True,  True,  True,  True,  True,  True,  True,\n",
      "                         True,  True,  True,  True,  True,  True,  True,  True,  True,\n",
      "                         True,  True,  True,  True,  True,  True,  True,  True,  True,\n",
      "                         True,  True,  True,  True,  True,  True,  True,  True,  True,\n",
      "                         True,  True,  True,  True,  True,  True,  True,  True,  True,\n",
      "                         True,  True,  True,  True,  True,  True,  True,  True,  True,\n",
      "                         True,  True,  True,  True,  True,  True,  True,  True,  True,\n",
      "                         True,  True,  True,  True,  True,  True,  True,  True,  True,\n",
      "                         True,  True,  True,  True,  True,  True,  True,  True,  True,\n",
      "                         True,  True,  True,  True,  True,  True,  True,  True,  True,\n",
      "                         True,  True,  True,  True,  True,  True,  True,  True,  True,\n",
      "                         True,  True,  True,  True,  True,  True,  True,  True,  True,\n",
      "                         True,  True,  True,  True,  True,  True,  True,  True,  True,\n",
      "                         True,  True,  True,  True,  True,  True,  True,  True,  True,\n",
      "                         True,  True,  True,  True,  True,  True,  True,  True,  True,\n",
      "                         True,  True,  True,  True,  True,  True,  True,  True,  True,\n",
      "                         True,  True,  True,  True,  True,  True,  True,  True,  True,\n",
      "                         True,  True,  True,  True,  True,  True,  True,  True,  True,\n",
      "                         True,  True,  True,  True,  True,  True,  True,  True,  True,\n",
      "                         True,  True,  True,  True,  True,  True,  True,  True,  True,\n",
      "                         True,  True,  True,  True,  True,  True,  True,  True,  True,\n",
      "                         True,  True,  True,  True,  True,  True,  True,  True,  True,\n",
      "                         True,  True,  True,  True,  True,  True,  True,  True,  True,\n",
      "                         True,  True,  True,  True,  True,  True,  True,  True,  True,\n",
      "                         True,  True,  True,  True,  True,  True,  True,  True,  True,\n",
      "                         True,  True,  True,  True,  True,  True,  True,  True,  True,\n",
      "                         True,  True,  True,  True,  True,  True,  True,  True,  True,\n",
      "                         True,  True,  True,  True,  True,  True,  True,  True,  True,\n",
      "                         True,  True,  True,  True,  True,  True,  True,  True,  True,\n",
      "                         True,  True,  True,  True,  True,  True,  True,  True,  True,\n",
      "                         True,  True,  True,  True,  True,  True,  True,  True,  True,\n",
      "                         True])>)\n",
      "in attack 9 9\n",
      "in attack 8 8\n",
      "in attack 0 0\n",
      "in attack 5 5\n",
      "in attack 0 0\n",
      "in attack 5 5\n"
     ]
    },
    {
     "name": "stdout",
     "output_type": "stream",
     "text": [
      "in attack 9 9\n",
      "in attack 7 7\n",
      "in attack 2 2\n",
      "in attack 5 5\n",
      "in attack 0 0\n",
      "in attack 7 7\n",
      "in attack 9 9\n",
      "in attack 8 8\n",
      "in attack 3 3\n",
      "in attack 0 0\n",
      "in attack 9 9\n",
      "in attack 7 7\n",
      "in attack 7 7\n",
      "in attack 2 2\n",
      "in attack 7 7\n",
      "in attack 2 2\n",
      "in attack 5 5\n",
      "in attack 3 3\n",
      "in attack 5 5\n",
      "in attack 7 7\n",
      "in attack 5 5\n",
      "in attack 7 7\n",
      "in attack 9 9\n",
      "in attack 8 8\n",
      "in attack 7 7\n",
      "in attack 9 9\n",
      "in attack 2 2\n",
      "in attack 7 7\n",
      "in attack 3 3\n",
      "in attack 6 6\n",
      "in attack 5 5\n",
      "in attack 2 2\n",
      "in attack 5 5\n",
      "in attack 8 8\n",
      "in attack 8 8\n",
      "in attack 3 3\n",
      "in attack 0 0\n",
      "in attack 0 0\n",
      "in attack 5 5\n",
      "in attack 9 9\n",
      "in attack 9 9\n",
      "in attack 2 2\n",
      "in attack 5 5\n",
      "in attack 3 3\n",
      "in attack 6 6\n",
      "in attack 5 5\n",
      "in attack 5 5\n",
      "in attack 8 8\n",
      "in attack 6 6\n",
      "in attack 9 9\n",
      "in attack 5 5\n",
      "in attack 8 8\n",
      "in attack 9 9\n",
      "in attack 8 8\n",
      "in attack 5 5\n",
      "in attack 9 9\n",
      "in attack 5 5\n",
      "in attack 2 2\n",
      "in attack 9 9\n",
      "in attack 7 7\n",
      "in attack 5 5\n",
      "in attack 5 5\n",
      "in attack 6 6\n",
      "in attack 9 9\n",
      "in attack 3 3\n",
      "in attack 9 9\n",
      "in attack 7 7\n",
      "in attack 3 3\n",
      "in attack 7 7\n",
      "in attack 2 2\n",
      "in attack 9 9\n",
      "in attack 6 6\n",
      "in attack 5 5\n",
      "in attack 7 7\n",
      "in attack 7 7\n",
      "in attack 0 0\n",
      "in attack 9 9\n",
      "in attack 9 9\n",
      "in attack 9 9\n",
      "in attack 8 8\n",
      "in attack 7 7\n",
      "in attack 5 5\n",
      "in attack 7 7\n",
      "in attack 3 3\n",
      "in attack 0 0\n",
      "in attack 0 0\n",
      "in attack 3 3\n",
      "in attack 0 0\n",
      "in attack 5 5\n",
      "in attack 6 6\n",
      "in attack 7 7\n",
      "in attack 9 9\n",
      "in attack 7 7\n",
      "in attack 5 5\n",
      "in attack 8 8\n",
      "in attack 8 8\n",
      "in attack 0 0\n",
      "in attack 3 3\n",
      "in attack 5 5\n",
      "in attack 5 5\n",
      "in attack 8 8\n",
      "in attack 9 9\n",
      "in attack 2 2\n",
      "in attack 8 8\n",
      "in attack 2 2\n",
      "in attack 9 9\n",
      "in attack 8 8\n",
      "in attack 0 0\n",
      "in attack 5 5\n",
      "in attack 6 6\n",
      "in attack 8 8\n",
      "in attack 3 3\n",
      "in attack 9 9\n",
      "in attack 7 7\n",
      "in attack 9 9\n",
      "in attack 5 5\n",
      "in attack 7 7\n",
      "in attack 3 3\n",
      "in attack 8 8\n",
      "in attack 9 9\n",
      "in attack 5 5\n",
      "in attack 7 7\n",
      "in attack 7 7\n",
      "in attack 5 5\n",
      "in attack 7 7\n",
      "in attack 3 3\n",
      "in attack 5 5\n",
      "in attack 9 9\n",
      "in attack 9 9\n",
      "in attack 7 7\n",
      "in attack 9 9\n",
      "in attack 5 5\n",
      "in attack 6 6\n",
      "in attack 0 0\n",
      "in attack 5 5\n",
      "in attack 7 7\n",
      "in attack 9 9\n",
      "in attack 3 3\n",
      "in attack 9 9\n",
      "in attack 9 9\n",
      "in attack 9 9\n",
      "in attack 2 2\n",
      "in attack 3 3\n",
      "in attack 7 7\n",
      "in attack 3 3\n",
      "in attack 8 8\n",
      "in attack 5 5\n",
      "in attack 6 6\n",
      "in attack 7 7\n",
      "in attack 3 3\n",
      "in attack 8 8\n",
      "in attack 9 9\n",
      "in attack 9 9\n",
      "in attack 9 9\n",
      "in attack 7 7\n",
      "in attack 9 9\n",
      "in attack 9 9\n",
      "in attack 9 9\n",
      "in attack 0 0\n",
      "in attack 9 9\n",
      "in attack 8 8\n",
      "in attack 5 5\n",
      "in attack 8 8\n",
      "in attack 9 9\n",
      "in attack 9 9\n",
      "in attack 8 8\n",
      "in attack 8 8\n",
      "in attack 5 5\n",
      "in attack 8 8\n",
      "in attack 0 0\n",
      "in attack 9 9\n",
      "in attack 5 5\n",
      "in attack 9 9\n",
      "in attack 5 5\n",
      "in attack 9 9\n",
      "in attack 9 9\n",
      "in attack 9 9\n",
      "in attack 7 7\n",
      "in attack 5 5\n",
      "in attack 9 9\n",
      "in attack 5 5\n",
      "in attack 3 3\n",
      "in attack 5 5\n",
      "in attack 8 8\n",
      "in attack 5 5\n",
      "in attack 9 9\n",
      "in attack 0 0\n",
      "in attack 5 5\n",
      "in attack 5 5\n",
      "in attack 7 7\n",
      "in attack 9 9\n",
      "in attack 2 2\n",
      "in attack 3 3\n",
      "in attack 7 7\n",
      "in attack 7 7\n",
      "in attack 0 0\n",
      "in attack 2 2\n",
      "in attack 0 0\n",
      "in attack 7 7\n",
      "in attack 9 9\n",
      "in attack 7 7\n",
      "in attack 6 6\n",
      "in attack 9 9\n",
      "in attack 8 8\n",
      "in attack 5 5\n",
      "in attack 8 8\n",
      "in attack 5 5\n",
      "in attack 5 5\n",
      "in attack 3 3\n",
      "in attack 9 9\n",
      "in attack 9 9\n",
      "in attack 7 7\n",
      "in attack 5 5\n",
      "in attack 5 5\n",
      "in attack 6 6\n",
      "in attack 8 8\n",
      "in attack 7 7\n",
      "in attack 0 0\n",
      "in attack 9 9\n",
      "in attack 9 9\n",
      "in attack 9 9\n",
      "in attack 5 5\n",
      "in attack 5 5\n",
      "in attack 7 7\n",
      "in attack 8 8\n",
      "in attack 8 8\n",
      "in attack 8 8\n",
      "in attack 7 7\n",
      "in attack 8 8\n",
      "in attack 7 7\n",
      "in attack 7 7\n",
      "in attack 6 6\n",
      "in attack 8 8\n",
      "in attack 8 8\n",
      "in attack 9 9\n",
      "in attack 6 6\n",
      "in attack 7 7\n",
      "in attack 6 6\n",
      "in attack 7 7\n",
      "in attack 7 7\n",
      "in attack 6 6\n",
      "in attack 8 8\n",
      "in attack 9 9\n",
      "in attack 3 3\n",
      "in attack 8 8\n",
      "in attack 8 8\n",
      "in attack 8 8\n",
      "in attack 7 7\n",
      "in attack 5 5\n",
      "in attack 2 2\n",
      "in attack 5 5\n",
      "in attack 9 9\n",
      "in attack 2 2\n",
      "in attack 0 0\n",
      "in attack 0 0\n",
      "in attack 5 5\n",
      "in attack 8 8\n",
      "in attack 9 9\n",
      "in attack 5 5\n",
      "in attack 6 6\n",
      "in attack 3 3\n",
      "in attack 9 9\n",
      "in attack 2 2\n",
      "in attack 2 2\n",
      "in attack 5 5\n",
      "in attack 3 3\n",
      "in attack 5 5\n",
      "in attack 7 7\n",
      "in attack 7 7\n",
      "in attack 8 8\n",
      "in attack 8 8\n",
      "in attack 7 7\n",
      "in attack 9 9\n",
      "in attack 8 8\n",
      "in attack 8 8\n",
      "in attack 3 3\n",
      "in attack 9 9\n",
      "in attack 8 8\n",
      "in attack 3 3\n",
      "in attack 7 7\n",
      "in attack 2 2\n",
      "in attack 8 8\n",
      "in attack 8 8\n",
      "in attack 6 6\n",
      "in attack 5 5\n",
      "in attack 7 7\n",
      "in attack 9 9\n",
      "in attack 0 0\n",
      "in attack 9 9\n",
      "in attack 8 8\n",
      "in attack 9 9\n",
      "in attack 8 8\n",
      "in attack 9 9\n",
      "in attack 7 7\n",
      "in attack 9 9\n",
      "in attack 5 5\n",
      "in attack 3 3\n",
      "in attack 3 3\n",
      "in attack 2 2\n",
      "in attack 6 6\n",
      "in attack 9 9\n",
      "in attack 8 8\n",
      "in attack 5 5\n",
      "in attack 7 7\n",
      "in attack 8 8\n",
      "in attack 5 5\n",
      "in attack 3 3\n",
      "in attack 3 3\n",
      "in attack 9 9\n",
      "in attack 8 8\n",
      "in attack 9 9\n",
      "in attack 5 5\n",
      "in attack 7 7\n",
      "in attack 9 9\n",
      "in attack 2 2\n",
      "in attack 8 8\n",
      "in attack 9 9\n",
      "in attack 7 7\n",
      "in attack 9 9\n",
      "in attack 7 7\n",
      "in attack 2 2\n",
      "in attack 7 7\n",
      "in attack 8 8\n",
      "in attack 0 0\n",
      "in attack 8 8\n",
      "in attack 6 6\n",
      "in attack 5 5\n",
      "in attack 9 9\n",
      "in attack 5 5\n",
      "in attack 9 9\n",
      "in attack 7 7\n",
      "in attack 3 3\n",
      "in attack 6 6\n",
      "in attack 8 8\n",
      "in attack 9 9\n",
      "in attack 0 0\n",
      "in attack 5 5\n",
      "in attack 8 8\n",
      "in attack 9 9\n",
      "in attack 8 8\n",
      "in attack 3 3\n",
      "in attack 9 9\n",
      "in attack 7 7\n",
      "in attack 9 9\n",
      "in attack 3 3\n",
      "in attack 5 5\n",
      "in attack 8 8\n",
      "in attack 2 2\n",
      "in attack 9 9\n",
      "in attack 7 7\n",
      "in attack 3 3\n",
      "in attack 3 3\n",
      "in attack 5 5\n",
      "in attack 8 8\n",
      "in attack 9 9\n",
      "in attack 9 9\n",
      "in attack 8 8\n",
      "in attack 7 7\n",
      "in attack 5 5\n",
      "in attack 2 2\n",
      "in attack 6 6\n",
      "in attack 9 9\n",
      "in attack 6 6\n",
      "in attack 8 8\n",
      "in attack 9 9\n",
      "in attack 3 3\n",
      "in attack 9 9\n",
      "in attack 2 2\n",
      "in attack 0 0\n",
      "in attack 5 5\n",
      "in attack 8 8\n",
      "in attack 2 2\n",
      "in attack 7 7\n",
      "in attack 2 2\n",
      "in attack 7 7\n",
      "in attack 8 8\n",
      "in attack 5 5\n",
      "in attack 6 6\n",
      "in attack 8 8\n",
      "in attack 8 8\n",
      "in attack 8 8\n",
      "in attack 9 9\n",
      "in attack 9 9\n",
      "in attack 2 2\n",
      "in attack 8 8\n",
      "in attack 9 9\n",
      "in attack 0 0\n",
      "in attack 5 5\n",
      "in attack 8 8\n",
      "in attack 0 0\n",
      "in attack 9 9\n",
      "in attack 8 8\n",
      "in attack 5 5\n",
      "in attack 7 7\n",
      "in attack 8 8\n",
      "in attack 8 8\n",
      "in attack 9 9\n",
      "in attack 8 8\n",
      "in attack 8 8\n",
      "in attack 3 3\n",
      "in attack 5 5\n",
      "in attack 9 9\n",
      "in attack 0 0\n",
      "in attack 9 9\n",
      "in attack 9 9\n",
      "in attack 9 9\n",
      "in attack 2 2\n",
      "in attack 9 9\n",
      "in attack 9 9\n",
      "in attack 9 9\n",
      "in attack 9 9\n",
      "in attack 7 7\n",
      "in attack 0 0\n",
      "in attack 3 3\n",
      "in attack 5 5\n",
      "in attack 8 8\n",
      "in attack 2 2\n",
      "in attack 0 0\n",
      "in attack 3 3\n",
      "in attack 9 9\n",
      "in attack 5 5\n",
      "in attack 7 7\n",
      "in attack 2 2\n",
      "in attack 7 7\n",
      "in attack 3 3\n",
      "in attack 8 8\n",
      "in attack 7 7\n",
      "in attack 9 9\n",
      "in attack 9 9\n",
      "in attack 7 7\n",
      "in attack 7 7\n",
      "in attack 0 0\n",
      "in attack 8 8\n",
      "in attack 9 9\n",
      "in attack 0 0\n",
      "in attack 9 9\n",
      "in attack 7 7\n",
      "in attack 8 8\n",
      "in attack 8 8\n",
      "in attack 8 8\n",
      "in attack 6 6\n",
      "in attack 7 7\n",
      "in attack 9 9\n",
      "in attack 0 0\n",
      "in attack 7 7\n",
      "in attack 3 3\n",
      "in attack 9 9\n",
      "in attack 8 8\n",
      "in attack 3 3\n",
      "in attack 2 2\n",
      "in attack 2 2\n",
      "in attack 9 9\n",
      "in attack 8 8\n",
      "in attack 7 7\n",
      "in attack 8 8\n",
      "in attack 9 9\n",
      "in attack 8 8\n",
      "in attack 9 9\n",
      "in attack 9 9\n",
      "in attack 8 8\n",
      "in attack 8 8\n",
      "in attack 5 5\n",
      "in attack 9 9\n",
      "in attack 9 9\n",
      "in attack 0 0\n",
      "in attack 3 3\n",
      "in attack 5 5\n",
      "in attack 0 0\n",
      "in attack 5 5\n",
      "in attack 9 9\n",
      "in attack 7 7\n",
      "in attack 7 7\n",
      "in attack 9 9\n",
      "in attack 2 2\n",
      "in attack 9 9\n",
      "in attack 9 9\n",
      "in attack 6 6\n",
      "in attack 8 8\n",
      "in attack 9 9\n"
     ]
    }
   ],
   "source": [
    "res = bb0_attack(model)"
   ]
  },
  {
   "cell_type": "code",
   "execution_count": 30,
   "metadata": {},
   "outputs": [
    {
     "data": {
      "text/plain": [
       "1000"
      ]
     },
     "execution_count": 30,
     "metadata": {},
     "output_type": "execute_result"
    }
   ],
   "source": []
  },
  {
   "cell_type": "code",
   "execution_count": 10,
   "metadata": {
    "scrolled": true
   },
   "outputs": [
    {
     "name": "stdout",
     "output_type": "stream",
     "text": [
      "Epoch 1/5\n",
      "938/938 [==============================] - 3s 3ms/step - loss: 2.2468 - accuracy: 0.2511 - val_loss: 2.1632 - val_accuracy: 0.3376\n",
      "Epoch 2/5\n",
      "938/938 [==============================] - 2s 3ms/step - loss: 2.1188 - accuracy: 0.3875 - val_loss: 2.0858 - val_accuracy: 0.4054\n",
      "Epoch 3/5\n",
      "938/938 [==============================] - 2s 3ms/step - loss: 2.0621 - accuracy: 0.4275 - val_loss: 2.0286 - val_accuracy: 0.4638\n",
      "Epoch 4/5\n",
      "938/938 [==============================] - 2s 3ms/step - loss: 2.0145 - accuracy: 0.4689 - val_loss: 2.0005 - val_accuracy: 0.4819\n",
      "Epoch 5/5\n",
      "938/938 [==============================] - 2s 3ms/step - loss: 1.9934 - accuracy: 0.4827 - val_loss: 1.9861 - val_accuracy: 0.4888\n"
     ]
    },
    {
     "data": {
      "text/plain": [
       "<__main__.CustomConvModel at 0x7f50f804a220>"
      ]
     },
     "execution_count": 10,
     "metadata": {},
     "output_type": "execute_result"
    }
   ],
   "source": [
    "model.prune_magnitude_global_unstruct(.995)\n",
    "model.compile(optimizer=tf.keras.optimizers.Adam(learning_rate=1e-3),\n",
    "              loss=tf.keras.losses.SparseCategoricalCrossentropy(from_logits=True),\n",
    "              metrics=['accuracy'],\n",
    "              experimental_run_tf_function=False\n",
    "             )\n",
    "train_model(model, to_convergence=False)"
   ]
  },
  {
   "cell_type": "code",
   "execution_count": 104,
   "metadata": {},
   "outputs": [
    {
     "data": {
      "text/plain": [
       "(0.005010574263868554, 308, 61470)"
      ]
     },
     "execution_count": 104,
     "metadata": {},
     "output_type": "execute_result"
    }
   ],
   "source": [
    "get_zeros_ratio(model.get_weights())"
   ]
  },
  {
   "cell_type": "code",
   "execution_count": 90,
   "metadata": {},
   "outputs": [
    {
     "data": {
      "text/plain": [
       "1000"
      ]
     },
     "execution_count": 90,
     "metadata": {},
     "output_type": "execute_result"
    }
   ],
   "source": [
    "len(starting_points)\n"
   ]
  },
  {
   "cell_type": "code",
   "execution_count": 108,
   "metadata": {},
   "outputs": [
    {
     "data": {
      "text/plain": [
       "False"
      ]
     },
     "execution_count": 108,
     "metadata": {},
     "output_type": "execute_result"
    }
   ],
   "source": [
    "5 in cls_samples"
   ]
  },
  {
   "cell_type": "code",
   "execution_count": 111,
   "metadata": {},
   "outputs": [
    {
     "name": "stdout",
     "output_type": "stream",
     "text": [
      "yay\n"
     ]
    }
   ],
   "source": [
    "least_likely = 5\n",
    "if least_likely in cls_samples and np.argmax(model_to_attack(cls_samples[least_likely])) != np.argmax(model_to_attack(x)):\n",
    "    starting_points.append(cls_samples[least_likely])\n",
    "else:\n",
    "    print('yay')"
   ]
  },
  {
   "cell_type": "code",
   "execution_count": 43,
   "metadata": {
    "scrolled": true
   },
   "outputs": [],
   "source": [
    "model_to_attack = model\n",
    "fmodel = fb.models.TensorFlowModel(model_to_attack, bounds=(0,1))\n",
    "init_attack = fb.attacks.DatasetAttack()\n",
    "batches = [(x_to_attack[:500], y_to_attack[:500]), (x_to_attack[500:], y_to_attack[500:])]\n",
    "\n",
    "# create attack that picks adversarials from given dataset of samples\n",
    "#init_attack = fb.attacks.DatasetAttack()\n",
    "init_attack = fb.attacks.DatasetAttack()\n",
    "\n",
    "init_attack.feed(fmodel, batches[0][0])   # feed 1st batch of inputs\n",
    "init_attack.feed(fmodel, batches[1][0])   # feed 2nd batch of inputs\n",
    "attack = fb.attacks.L0BrendelBethgeAttack(binary_search_steps=30, steps=500,lr_num_decay=30, lr=1e7, init_attack=init_attack)\n",
    "adversarials, _, success = attack(\n",
    "    fmodel,\n",
    "    x_to_attack,\n",
    "    criterion=fb.criteria.Misclassification(y_to_attack),\n",
    "    epsilons=[None]\n",
    ")\n",
    "dists = [np.count_nonzero(x_to_attack[i]-adversarials[0][i]) for i in range(len(x_to_attack))]\n",
    "#return dists, ([x.numpy().tolist() for x in adversarials], success.numpy().tolist())"
   ]
  },
  {
   "cell_type": "code",
   "execution_count": 80,
   "metadata": {},
   "outputs": [],
   "source": [
    "sample = 429"
   ]
  },
  {
   "cell_type": "code",
   "execution_count": 119,
   "metadata": {},
   "outputs": [
    {
     "name": "stdout",
     "output_type": "stream",
     "text": [
      "2\n",
      "label =  0\n"
     ]
    },
    {
     "data": {
      "image/png": "[encoded data removed]",
      "text/plain": [
       "<Figure size 432x288 with 1 Axes>"
      ]
     },
     "metadata": {
      "needs_background": "light"
     },
     "output_type": "display_data"
    }
   ],
   "source": [
    "plt.imshow(tf.reshape(adversarials[0][sample], (28,28)))\n",
    "print(np.argmax(model_to_attack(adversarials[0][sample])))\n",
    "print('label = ',y_to_attack[sample].numpy())"
   ]
  },
  {
   "cell_type": "code",
   "execution_count": 118,
   "metadata": {},
   "outputs": [
    {
     "data": {
      "text/plain": [
       "0"
      ]
     },
     "execution_count": 118,
     "metadata": {},
     "output_type": "execute_result"
    },
    {
     "data": {
      "image/png": "[encoded data removed]",
      "text/plain": [
       "<Figure size 432x288 with 1 Axes>"
      ]
     },
     "metadata": {
      "needs_background": "light"
     },
     "output_type": "display_data"
    }
   ],
   "source": [
    "plt.imshow(tf.reshape(x_to_attack[sample], (28,28)))\n",
    "np.argmax(model_to_attack(x_to_attack[sample]))"
   ]
  },
  {
   "cell_type": "code",
   "execution_count": 95,
   "metadata": {},
   "outputs": [
    {
     "data": {
      "text/plain": [
       "14.261"
      ]
     },
     "execution_count": 95,
     "metadata": {},
     "output_type": "execute_result"
    }
   ],
   "source": [
    "#lr 1e7\n",
    "sum(dists)/1000"
   ]
  },
  {
   "cell_type": "code",
   "execution_count": 98,
   "metadata": {},
   "outputs": [
    {
     "data": {
      "text/plain": [
       "14.258"
      ]
     },
     "execution_count": 98,
     "metadata": {},
     "output_type": "execute_result"
    }
   ],
   "source": [
    "#lr 1e10\n",
    "sum(dists)/1000"
   ]
  },
  {
   "cell_type": "code",
   "execution_count": 100,
   "metadata": {},
   "outputs": [
    {
     "data": {
      "text/plain": [
       "15.779"
      ]
     },
     "execution_count": 100,
     "metadata": {},
     "output_type": "execute_result"
    }
   ],
   "source": [
    "#lr 1e15\n",
    "sum(dists)/1000"
   ]
  },
  {
   "cell_type": "code",
   "execution_count": 103,
   "metadata": {},
   "outputs": [
    {
     "data": {
      "text/plain": [
       "18.635"
      ]
     },
     "execution_count": 103,
     "metadata": {},
     "output_type": "execute_result"
    }
   ],
   "source": [
    "#lr 1e3 mit l0 dist datasetattack\n",
    "sum(dists)/1000"
   ]
  },
  {
   "cell_type": "code",
   "execution_count": 105,
   "metadata": {},
   "outputs": [
    {
     "data": {
      "text/plain": [
       "16.218"
      ]
     },
     "execution_count": 105,
     "metadata": {},
     "output_type": "execute_result"
    }
   ],
   "source": [
    "#lr 1e3\n",
    "sum(dists)/1000"
   ]
  },
  {
   "cell_type": "code",
   "execution_count": 103,
   "metadata": {},
   "outputs": [
    {
     "data": {
      "text/plain": [
       "18.635"
      ]
     },
     "execution_count": 103,
     "metadata": {},
     "output_type": "execute_result"
    }
   ],
   "source": [
    "#lr 1e7 mit l0 dist datasetattack\n",
    "sum(dists)/1000"
   ]
  },
  {
   "cell_type": "code",
   "execution_count": 107,
   "metadata": {},
   "outputs": [
    {
     "data": {
      "text/plain": [
       "15.352"
      ]
     },
     "execution_count": 107,
     "metadata": {},
     "output_type": "execute_result"
    }
   ],
   "source": [
    "#lr 1e7 mit l2 dist datasetattack\n",
    "sum(dists)/1000"
   ]
  },
  {
   "cell_type": "code",
   "execution_count": 110,
   "metadata": {},
   "outputs": [
    {
     "data": {
      "text/plain": [
       "15.402"
      ]
     },
     "execution_count": 110,
     "metadata": {},
     "output_type": "execute_result"
    }
   ],
   "source": [
    "#lr 1e7 mit 5000 steps 50 binary steps\n",
    "sum(dists)/1000"
   ]
  },
  {
   "cell_type": "code",
   "execution_count": 112,
   "metadata": {},
   "outputs": [
    {
     "data": {
      "text/plain": [
       "15.19"
      ]
     },
     "execution_count": 112,
     "metadata": {},
     "output_type": "execute_result"
    }
   ],
   "source": [
    "#lr 1e5 mit 5000 steps 50 binary steps\n",
    "sum(dists)/1000"
   ]
  },
  {
   "cell_type": "code",
   "execution_count": 114,
   "metadata": {},
   "outputs": [
    {
     "data": {
      "text/plain": [
       "14.014"
      ]
     },
     "execution_count": 114,
     "metadata": {},
     "output_type": "execute_result"
    }
   ],
   "source": [
    "#lr 1e3 mit 5000 steps 50 binary steps\n",
    "sum(dists)/1000"
   ]
  },
  {
   "cell_type": "code",
   "execution_count": 121,
   "metadata": {},
   "outputs": [
    {
     "data": {
      "text/plain": [
       "15.332"
      ]
     },
     "execution_count": 121,
     "metadata": {},
     "output_type": "execute_result"
    }
   ],
   "source": [
    "#lr 1e3 mit 5000 steps 10 binary steps\n",
    "sum(dists)/1000"
   ]
  },
  {
   "cell_type": "code",
   "execution_count": 123,
   "metadata": {},
   "outputs": [
    {
     "data": {
      "text/plain": [
       "16.215"
      ]
     },
     "execution_count": 123,
     "metadata": {},
     "output_type": "execute_result"
    }
   ],
   "source": [
    "#lr num decay=5, lr 1e3 mit 5000 steps 10 binary steps\n",
    "sum(dists)/1000"
   ]
  },
  {
   "cell_type": "code",
   "execution_count": 125,
   "metadata": {},
   "outputs": [
    {
     "data": {
      "text/plain": [
       "11.85"
      ]
     },
     "execution_count": 125,
     "metadata": {},
     "output_type": "execute_result"
    }
   ],
   "source": [
    "#lr num decay=40, lr 1e3 mit 5000 steps 10 binary steps\n",
    "sum(dists)/1000"
   ]
  },
  {
   "cell_type": "code",
   "execution_count": 127,
   "metadata": {},
   "outputs": [
    {
     "data": {
      "text/plain": [
       "13.066"
      ]
     },
     "execution_count": 127,
     "metadata": {},
     "output_type": "execute_result"
    }
   ],
   "source": [
    "#lr num decay=40, lr 1e7 mit 5000 steps 10 binary steps\n",
    "sum(dists)/1000"
   ]
  },
  {
   "cell_type": "code",
   "execution_count": 12,
   "metadata": {},
   "outputs": [
    {
     "data": {
      "text/plain": [
       "9.63"
      ]
     },
     "execution_count": 12,
     "metadata": {},
     "output_type": "execute_result"
    }
   ],
   "source": [
    "#lr num decay=30, lr 1e3 mit 1000 steps 10 binary steps\n",
    "sum(dists)/1000"
   ]
  },
  {
   "cell_type": "code",
   "execution_count": 14,
   "metadata": {},
   "outputs": [
    {
     "data": {
      "text/plain": [
       "10.005"
      ]
     },
     "execution_count": 14,
     "metadata": {},
     "output_type": "execute_result"
    }
   ],
   "source": [
    "#lr num decay=30, lr 1e2 mit 1000 steps 10 binary steps\n",
    "sum(dists)/1000"
   ]
  },
  {
   "cell_type": "code",
   "execution_count": 16,
   "metadata": {},
   "outputs": [
    {
     "data": {
      "text/plain": [
       "8.635"
      ]
     },
     "execution_count": 16,
     "metadata": {},
     "output_type": "execute_result"
    }
   ],
   "source": [
    "#lr num decay=20, lr 1e4 mit 1000 steps 10 binary steps\n",
    "sum(dists)/1000"
   ]
  },
  {
   "cell_type": "code",
   "execution_count": 18,
   "metadata": {},
   "outputs": [
    {
     "data": {
      "text/plain": [
       "8.667"
      ]
     },
     "execution_count": 18,
     "metadata": {},
     "output_type": "execute_result"
    }
   ],
   "source": [
    "#lr num decay=20, lr 1e4 mit 1000 steps 10 binary steps\n",
    "sum(dists)/1000"
   ]
  },
  {
   "cell_type": "code",
   "execution_count": 20,
   "metadata": {},
   "outputs": [
    {
     "data": {
      "text/plain": [
       "8.0"
      ]
     },
     "execution_count": 20,
     "metadata": {},
     "output_type": "execute_result"
    }
   ],
   "source": [
    "#lr num decay=20, lr 1e4 mit 1000 steps 20 binary steps\n",
    "sum(dists)/1000"
   ]
  },
  {
   "cell_type": "code",
   "execution_count": 22,
   "metadata": {},
   "outputs": [
    {
     "data": {
      "text/plain": [
       "8.125"
      ]
     },
     "execution_count": 22,
     "metadata": {},
     "output_type": "execute_result"
    }
   ],
   "source": [
    "#lr num decay=20, lr 1e5 mit 2000 steps 10 binary steps\n",
    "sum(dists)/1000"
   ]
  },
  {
   "cell_type": "code",
   "execution_count": 24,
   "metadata": {},
   "outputs": [
    {
     "data": {
      "text/plain": [
       "8.041"
      ]
     },
     "execution_count": 24,
     "metadata": {},
     "output_type": "execute_result"
    }
   ],
   "source": [
    "#lr num decay=20, lr 1e5 mit 500 steps 30 binary steps\n",
    "sum(dists)/1000"
   ]
  },
  {
   "cell_type": "code",
   "execution_count": 27,
   "metadata": {},
   "outputs": [
    {
     "data": {
      "text/plain": [
       "7.655"
      ]
     },
     "execution_count": 27,
     "metadata": {},
     "output_type": "execute_result"
    }
   ],
   "source": [
    "#lr num decay=20, lr 1e6 mit 500 steps 30 binary steps\n",
    "sum(dists)/1000"
   ]
  },
  {
   "cell_type": "code",
   "execution_count": 29,
   "metadata": {},
   "outputs": [
    {
     "data": {
      "text/plain": [
       "7.211"
      ]
     },
     "execution_count": 29,
     "metadata": {},
     "output_type": "execute_result"
    }
   ],
   "source": [
    "#lr num decay=20, lr 1e7 mit 500 steps 30 binary steps\n",
    "sum(dists)/1000"
   ]
  },
  {
   "cell_type": "code",
   "execution_count": 44,
   "metadata": {},
   "outputs": [
    {
     "data": {
      "text/plain": [
       "8.208"
      ]
     },
     "execution_count": 44,
     "metadata": {},
     "output_type": "execute_result"
    }
   ],
   "source": [
    "#lr num decay=40, lr 1e6 mit 500 steps 30 binary steps\n",
    "sum(dists)/1000"
   ]
  },
  {
   "cell_type": "code",
   "execution_count": 31,
   "metadata": {},
   "outputs": [
    {
     "data": {
      "text/plain": [
       "12.12"
      ]
     },
     "execution_count": 31,
     "metadata": {},
     "output_type": "execute_result"
    }
   ],
   "source": [
    "#lr num decay=20, lr 1e7 mit 500 steps 40 binary steps\n",
    "sum(dists)/1000"
   ]
  },
  {
   "cell_type": "code",
   "execution_count": 45,
   "metadata": {},
   "outputs": [
    {
     "data": {
      "text/plain": [
       "<tf.Tensor: shape=(1, 1000), dtype=bool, numpy=\n",
       "array([[ True,  True,  True,  True,  True,  True,  True,  True,  True,\n",
       "         True,  True,  True,  True,  True,  True,  True,  True,  True,\n",
       "         True,  True,  True,  True,  True,  True,  True,  True,  True,\n",
       "         True,  True,  True,  True,  True,  True,  True,  True,  True,\n",
       "         True,  True,  True,  True,  True,  True,  True,  True,  True,\n",
       "         True,  True,  True,  True,  True,  True,  True,  True,  True,\n",
       "         True,  True,  True,  True,  True,  True,  True,  True,  True,\n",
       "         True,  True,  True,  True,  True,  True,  True,  True,  True,\n",
       "         True,  True,  True,  True,  True,  True,  True,  True,  True,\n",
       "         True,  True,  True,  True,  True,  True,  True,  True,  True,\n",
       "         True,  True,  True,  True,  True,  True,  True,  True,  True,\n",
       "         True,  True,  True,  True,  True,  True,  True,  True,  True,\n",
       "         True,  True,  True,  True,  True,  True,  True,  True,  True,\n",
       "         True,  True,  True,  True,  True,  True,  True,  True,  True,\n",
       "         True,  True,  True,  True,  True,  True,  True,  True,  True,\n",
       "         True,  True,  True,  True,  True,  True,  True,  True,  True,\n",
       "         True,  True,  True,  True,  True,  True,  True,  True,  True,\n",
       "         True,  True,  True,  True,  True,  True,  True,  True,  True,\n",
       "         True,  True,  True,  True,  True,  True,  True,  True,  True,\n",
       "         True,  True,  True,  True,  True,  True,  True,  True,  True,\n",
       "         True,  True,  True,  True,  True,  True,  True,  True,  True,\n",
       "         True,  True,  True,  True,  True,  True,  True,  True,  True,\n",
       "         True,  True,  True,  True,  True,  True,  True,  True,  True,\n",
       "         True,  True,  True,  True,  True,  True,  True,  True,  True,\n",
       "         True,  True,  True,  True,  True,  True,  True,  True,  True,\n",
       "         True,  True,  True,  True,  True,  True,  True,  True,  True,\n",
       "         True,  True,  True,  True,  True,  True,  True,  True,  True,\n",
       "         True,  True,  True,  True,  True,  True,  True,  True,  True,\n",
       "         True,  True,  True,  True,  True,  True,  True,  True,  True,\n",
       "         True,  True,  True,  True,  True,  True,  True,  True,  True,\n",
       "         True,  True,  True,  True,  True,  True,  True,  True,  True,\n",
       "         True,  True,  True,  True,  True,  True,  True,  True,  True,\n",
       "         True,  True,  True,  True,  True,  True,  True,  True,  True,\n",
       "         True,  True,  True,  True,  True,  True,  True,  True,  True,\n",
       "         True,  True,  True,  True,  True,  True,  True,  True,  True,\n",
       "         True,  True,  True,  True,  True,  True,  True,  True,  True,\n",
       "         True,  True,  True,  True,  True,  True,  True,  True,  True,\n",
       "         True,  True,  True,  True,  True,  True,  True,  True,  True,\n",
       "         True,  True,  True,  True,  True,  True,  True,  True,  True,\n",
       "         True,  True,  True,  True,  True,  True,  True,  True,  True,\n",
       "         True,  True,  True,  True,  True,  True,  True,  True,  True,\n",
       "         True,  True,  True,  True,  True,  True,  True,  True,  True,\n",
       "         True,  True,  True,  True,  True,  True,  True,  True,  True,\n",
       "         True,  True,  True,  True,  True,  True,  True,  True,  True,\n",
       "         True,  True,  True,  True,  True,  True,  True,  True,  True,\n",
       "         True,  True,  True,  True,  True,  True,  True,  True,  True,\n",
       "         True,  True,  True,  True,  True,  True,  True,  True,  True,\n",
       "         True,  True,  True,  True,  True,  True,  True,  True,  True,\n",
       "         True,  True,  True,  True,  True,  True,  True,  True,  True,\n",
       "         True,  True,  True,  True,  True,  True,  True,  True,  True,\n",
       "         True,  True,  True,  True,  True,  True,  True,  True,  True,\n",
       "         True,  True,  True,  True,  True,  True,  True,  True,  True,\n",
       "         True,  True,  True,  True,  True,  True,  True,  True,  True,\n",
       "         True,  True,  True,  True,  True,  True,  True,  True,  True,\n",
       "         True,  True,  True,  True,  True,  True,  True,  True,  True,\n",
       "         True,  True,  True,  True,  True,  True,  True,  True,  True,\n",
       "         True,  True,  True,  True,  True,  True,  True,  True,  True,\n",
       "         True,  True,  True,  True,  True,  True,  True,  True,  True,\n",
       "         True,  True,  True,  True,  True,  True,  True,  True,  True,\n",
       "         True,  True,  True,  True,  True,  True,  True,  True,  True,\n",
       "         True,  True,  True,  True,  True,  True,  True,  True,  True,\n",
       "         True,  True,  True,  True,  True,  True,  True,  True,  True,\n",
       "         True,  True,  True,  True,  True,  True,  True,  True,  True,\n",
       "         True,  True,  True,  True,  True,  True,  True,  True,  True,\n",
       "         True,  True,  True,  True,  True,  True,  True,  True,  True,\n",
       "         True,  True,  True,  True,  True,  True,  True,  True,  True,\n",
       "         True,  True,  True,  True,  True,  True,  True,  True,  True,\n",
       "         True,  True,  True,  True,  True,  True,  True,  True,  True,\n",
       "         True,  True,  True,  True,  True,  True,  True,  True,  True,\n",
       "         True,  True,  True,  True,  True,  True,  True,  True,  True,\n",
       "         True,  True,  True,  True,  True,  True,  True,  True,  True,\n",
       "         True,  True,  True,  True,  True,  True,  True,  True,  True,\n",
       "         True,  True,  True,  True,  True,  True,  True,  True,  True,\n",
       "         True,  True,  True,  True,  True,  True,  True,  True,  True,\n",
       "         True,  True,  True,  True,  True,  True,  True,  True,  True,\n",
       "         True,  True,  True,  True,  True,  True,  True,  True,  True,\n",
       "         True,  True,  True,  True,  True,  True,  True,  True,  True,\n",
       "         True,  True,  True,  True,  True,  True,  True,  True,  True,\n",
       "         True,  True,  True,  True,  True,  True,  True,  True,  True,\n",
       "         True,  True,  True,  True,  True,  True,  True,  True,  True,\n",
       "         True,  True,  True,  True,  True,  True,  True,  True,  True,\n",
       "         True,  True,  True,  True,  True,  True,  True,  True,  True,\n",
       "         True,  True,  True,  True,  True,  True,  True,  True,  True,\n",
       "         True,  True,  True,  True,  True,  True,  True,  True,  True,\n",
       "         True,  True,  True,  True,  True,  True,  True,  True,  True,\n",
       "         True,  True,  True,  True,  True,  True,  True,  True,  True,\n",
       "         True,  True,  True,  True,  True,  True,  True,  True,  True,\n",
       "         True,  True,  True,  True,  True,  True,  True,  True,  True,\n",
       "         True,  True,  True,  True,  True,  True,  True,  True,  True,\n",
       "         True,  True,  True,  True,  True,  True,  True,  True,  True,\n",
       "         True,  True,  True,  True,  True,  True,  True,  True,  True,\n",
       "         True,  True,  True,  True,  True,  True,  True,  True,  True,\n",
       "         True,  True,  True,  True,  True,  True,  True,  True,  True,\n",
       "         True,  True,  True,  True,  True,  True,  True,  True,  True,\n",
       "         True,  True,  True,  True,  True,  True,  True,  True,  True,\n",
       "         True,  True,  True,  True,  True,  True,  True,  True,  True,\n",
       "         True,  True,  True,  True,  True,  True,  True,  True,  True,\n",
       "         True,  True,  True,  True,  True,  True,  True,  True,  True,\n",
       "         True,  True,  True,  True,  True,  True,  True,  True,  True,\n",
       "         True,  True,  True,  True,  True,  True,  True,  True,  True,\n",
       "         True,  True,  True,  True,  True,  True,  True,  True,  True,\n",
       "         True,  True,  True,  True,  True,  True,  True,  True,  True,\n",
       "         True,  True,  True,  True,  True,  True,  True,  True,  True,\n",
       "         True,  True,  True,  True,  True,  True,  True,  True,  True,\n",
       "         True,  True,  True,  True,  True,  True,  True,  True,  True,\n",
       "         True,  True,  True,  True,  True,  True,  True,  True,  True,\n",
       "         True,  True,  True,  True,  True,  True,  True,  True,  True,\n",
       "         True,  True,  True,  True,  True,  True,  True,  True,  True,\n",
       "         True,  True,  True,  True,  True,  True,  True,  True,  True,\n",
       "         True,  True,  True,  True,  True,  True,  True,  True,  True,\n",
       "         True,  True,  True,  True,  True,  True,  True,  True,  True,\n",
       "         True]])>"
      ]
     },
     "execution_count": 45,
     "metadata": {},
     "output_type": "execute_result"
    }
   ],
   "source": [
    "success"
   ]
  },
  {
   "cell_type": "code",
   "execution_count": null,
   "metadata": {},
   "outputs": [],
   "source": []
  }
 ],
 "metadata": {
  "kernelspec": {
   "display_name": "Python 3",
   "language": "python",
   "name": "python3"
  },
  "language_info": {
   "codemirror_mode": {
    "name": "ipython",
    "version": 3
   },
   "file_extension": ".py",
   "mimetype": "text/x-python",
   "name": "python",
   "nbconvert_exporter": "python",
   "pygments_lexer": "ipython3",
   "version": "3.8.3"
  }
 },
 "nbformat": 4,
 "nbformat_minor": 4
}
