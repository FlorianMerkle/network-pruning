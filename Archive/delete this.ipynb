{
 "cells": [
  {
   "cell_type": "code",
   "execution_count": 5,
   "metadata": {},
   "outputs": [
    {
     "data": {
      "text/plain": [
       "'/Users/florianmerkle/dev/network-pruning/Adversarial'"
      ]
     },
     "execution_count": 5,
     "metadata": {},
     "output_type": "execute_result"
    }
   ],
   "source": [
    "import os \n",
    "os.getcwd()"
   ]
  },
  {
   "cell_type": "code",
   "execution_count": 2,
   "metadata": {},
   "outputs": [
    {
     "ename": "ModuleNotFoundError",
     "evalue": "No module named 'tensorflow'",
     "output_type": "error",
     "traceback": [
      "\u001b[0;31m---------------------------------------------------------------------------\u001b[0m",
      "\u001b[0;31mModuleNotFoundError\u001b[0m                       Traceback (most recent call last)",
      "\u001b[0;32m<ipython-input-2-cc1ecd409c69>\u001b[0m in \u001b[0;36m<module>\u001b[0;34m\u001b[0m\n\u001b[0;32m----> 1\u001b[0;31m \u001b[0;32mimport\u001b[0m \u001b[0mtensorflow\u001b[0m \u001b[0;32mas\u001b[0m \u001b[0mtf\u001b[0m\u001b[0;34m\u001b[0m\u001b[0;34m\u001b[0m\u001b[0m\n\u001b[0m\u001b[1;32m      2\u001b[0m \u001b[0;34m\u001b[0m\u001b[0m\n\u001b[1;32m      3\u001b[0m \u001b[0;34m\u001b[0m\u001b[0m\n\u001b[1;32m      4\u001b[0m \u001b[0;34m\u001b[0m\u001b[0m\n\u001b[1;32m      5\u001b[0m \u001b[0;31m# instantiate a model\u001b[0m\u001b[0;34m\u001b[0m\u001b[0;34m\u001b[0m\u001b[0;34m\u001b[0m\u001b[0m\n",
      "\u001b[0;31mModuleNotFoundError\u001b[0m: No module named 'tensorflow'"
     ]
    }
   ],
   "source": [
    "import tensorflow as tf\n",
    "\n",
    "\n",
    "\n",
    "# instantiate a model\n",
    "model = models.resnet18(pretrained=True).eval()\n",
    "preprocessing = dict(mean=[0.485, 0.456, 0.406], std=[0.229, 0.224, 0.225], axis=-3)\n",
    "fmodel = PyTorchModel(model, bounds=(0, 1), preprocessing=preprocessing)\n",
    "\n",
    "    # get data and test the model\n",
    "    # wrapping the tensors with ep.astensors is optional, but it allows\n",
    "    # us to work with EagerPy tensors in the following\n",
    "images, labels = ep.astensors(*samples(fmodel, dataset=\"imagenet\", batchsize=16))\n",
    "print(\"accuracy\")\n",
    "print(accuracy(fmodel, images, labels))\n",
    "print(\"\")\n",
    "\n",
    "attacks = [\n",
    "    fa.FGSM(),\n",
    "    fa.LinfPGD(),\n",
    "    fa.LinfBasicIterativeAttack(),\n",
    "    fa.LinfAdditiveUniformNoiseAttack(),\n",
    "    fa.LinfDeepFoolAttack(),\n",
    "]\n",
    "\n",
    "epsilons = [\n",
    "\n",
    "    0.5\n",
    "    ]\n",
    "print(\"epsilons\")\n",
    "print(epsilons)\n",
    "print(\"\")\n",
    "\n",
    "attack_success = np.zeros((len(attacks), len(epsilons), len(images)), dtype=np.bool)\n",
    "for i, attack in enumerate(attacks):\n",
    "    _, _, success = attack(fmodel, images, labels, epsilons=epsilons)\n",
    "    assert success.shape == (len(epsilons), len(images))\n",
    "    success_ = success.numpy()\n",
    "    assert success_.dtype == np.bool\n",
    "    attack_success[i] = success_\n",
    "    print(attack)\n",
    "    print(\"  \", 1.0 - success_.mean(axis=-1).round(2))\n",
    "\n",
    "robust_accuracy = 1.0 - attack_success.max(axis=0).mean(axis=-1)\n",
    "print(\"\")\n",
    "print(\"-\" * 79)\n",
    "print(\"\")\n",
    "print(\"worst case (best attack per-sample)\")\n",
    "print(\"  \", robust_accuracy.round(2))"
   ]
  },
  {
   "cell_type": "code",
   "execution_count": null,
   "metadata": {},
   "outputs": [],
   "source": []
  }
 ],
 "metadata": {
  "kernelspec": {
   "display_name": "Python 3",
   "language": "python",
   "name": "python3"
  },
  "language_info": {
   "codemirror_mode": {
    "name": "ipython",
    "version": 3
   },
   "file_extension": ".py",
   "mimetype": "text/x-python",
   "name": "python",
   "nbconvert_exporter": "python",
   "pygments_lexer": "ipython3",
   "version": "3.8.2"
  }
 },
 "nbformat": 4,
 "nbformat_minor": 4
}
