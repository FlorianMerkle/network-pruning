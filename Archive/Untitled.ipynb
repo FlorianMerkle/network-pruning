{
 "cells": [
  {
   "cell_type": "markdown",
   "metadata": {},
   "source": [
    "for architecture in architectures:\n",
    "    for i in range 10:\n",
    "        train model (with early stopping)\n",
    "        for pruning_ration in pruning_ratios:\n",
    "            prune model\n",
    "            retrain model with early stopping\n",
    "            for attack in attacks:\n",
    "                attack model"
   ]
  }
 ],
 "metadata": {
  "kernelspec": {
   "display_name": "Python 3",
   "language": "python",
   "name": "python3"
  },
  "language_info": {
   "codemirror_mode": {
    "name": "ipython",
    "version": 3
   },
   "file_extension": ".py",
   "mimetype": "text/x-python",
   "name": "python",
   "nbconvert_exporter": "python",
   "pygments_lexer": "ipython3",
   "version": "3.7.7"
  }
 },
 "nbformat": 4,
 "nbformat_minor": 2
}
