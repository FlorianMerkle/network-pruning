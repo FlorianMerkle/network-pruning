{
 "cells": [
  {
   "cell_type": "code",
   "execution_count": 1,
   "metadata": {},
   "outputs": [
    {
     "data": {
      "text/plain": [
       "True"
      ]
     },
     "execution_count": 1,
     "metadata": {},
     "output_type": "execute_result"
    }
   ],
   "source": [
    "from __future__ import absolute_import, division, print_function, unicode_literals\n",
    "\n",
    "import tensorflow as tf\n",
    "import tensorflow_datasets as tfds\n",
    "import numpy as np\n",
    "import pandas as pd\n",
    "from tensorflow.keras import layers\n",
    "from tqdm import tqdm\n",
    "import matplotlib.pyplot as plt\n",
    "import pathlib\n",
    "import os\n",
    "\n",
    "AUTOTUNE = tf.data.experimental.AUTOTUNE\n",
    "tf.keras.backend.clear_session()  # For easy reset of notebook state.\n",
    "\n",
    "tf.__version__\n",
    "tf.executing_eagerly()\n"
   ]
  },
  {
   "cell_type": "code",
   "execution_count": 2,
   "metadata": {},
   "outputs": [],
   "source": [
    "\n",
    "ds = tfds.load(name=\"imagenette\", with_info=True, split=[\"train\",\"validation\"])\n",
    "ds_train=ds[0][0]\n",
    "ds_test=ds[0][1]\n",
    "assert isinstance(ds_train, tf.data.Dataset)\n",
    "\n",
    "def normalize(x):\n",
    "    y = {'image': tf.image.convert_image_dtype(x['image'], tf.float32), 'label': x['label']}\n",
    "    y = (tf.image.resize(y['image'], (224,224)), y['label'])\n",
    "    return y\n",
    "    \n",
    "ds_train = ds_train.map(lambda x: normalize(x))\n",
    "ds_train = ds_train.cache()\n",
    "ds_train = ds_train.shuffle(100)\n",
    "ds_train = ds_train.batch(8)\n",
    "ds_train = ds_train.prefetch(tf.data.experimental.AUTOTUNE)\n",
    "\n",
    "ds_test = ds_test.map(\n",
    "    normalize, num_parallel_calls=tf.data.experimental.AUTOTUNE)\n",
    "ds_test = ds_test.batch(8)\n",
    "ds_test = ds_test.cache()\n",
    "ds_test = ds_test.prefetch(tf.data.experimental.AUTOTUNE)"
   ]
  },
  {
   "cell_type": "code",
   "execution_count": 3,
   "metadata": {},
   "outputs": [],
   "source": [
    "class ResNetBlock(tf.keras.layers.Layer):\n",
    "    def __init__(self, filters=64, stride=1):\n",
    "        super(ResNetBlock, self).__init__()\n",
    "        self.stride = stride\n",
    "        self.conv1 = layers.Conv2D(filters, 3, strides=(self.stride, self.stride), activation='relu', padding='same')\n",
    "        self.bn1 = layers.BatchNormalization()\n",
    "        self.conv2 = layers.Conv2D(filters, 3, padding='same')\n",
    "        self.bn2 = layers.BatchNormalization()\n",
    "        if stride == 2:\n",
    "            self.conv3 = layers.Conv2D(filters,1, strides=(self.stride, self.stride), padding='same' )\n",
    "            self.bn3 = layers.BatchNormalization()\n",
    "        self.add1 = layers.Add()\n",
    "    \n",
    "    def call(self, inputs, training=False):\n",
    "        x = self.conv1(inputs)\n",
    "        x = self.bn1(x, training=training)\n",
    "        x = self.conv2(x)\n",
    "        x = self.bn2(x, training=training)\n",
    "        if self.stride == 2:\n",
    "            inputs = self.conv3(x)\n",
    "            inputs = self.bn3(x)\n",
    "        return tf.nn.relu(self.add1([x, inputs]))\n",
    "    \n",
    "\n",
    "class CustomResNetModel(tf.keras.Model):\n",
    "    def __init__(self):\n",
    "        super(CustomResNetModel, self).__init__()\n",
    "        self.conv1 = layers.Conv2D(64, 7, strides=(2, 2), padding='same')\n",
    "        self.pool1 = layers.MaxPool2D(pool_size=(3,3), strides=(2,2), padding='same')\n",
    "        self.res_block1 = ResNetBlock(64)\n",
    "        self.res_block2 = ResNetBlock(64)\n",
    "        self.res_block3 = ResNetBlock(64)\n",
    "        self.res_block4 = ResNetBlock(128, 2)\n",
    "        self.res_block5 = ResNetBlock(128)\n",
    "        self.res_block6 = ResNetBlock(128)\n",
    "        self.res_block7 = ResNetBlock(128)\n",
    "        self.res_block8 = ResNetBlock(256, 2)\n",
    "        self.res_block9 = ResNetBlock(256)\n",
    "        self.res_block10 = ResNetBlock(256)\n",
    "        self.res_block11 = ResNetBlock(256)\n",
    "        self.res_block12 = ResNetBlock(256)\n",
    "        self.res_block13 = ResNetBlock(256)\n",
    "        self.res_block14 = ResNetBlock(512, 2)\n",
    "        self.res_block15 = ResNetBlock(512)\n",
    "        self.res_block16 = ResNetBlock(512)\n",
    "        self.pool2 = layers.GlobalAveragePooling2D()\n",
    "        self.dense1 = layers.Dense(1000, activation='relu')\n",
    "        self.dense2 = layers.Dense(10, activation='softmax')\n",
    "\n",
    "    def call(self,inputs):\n",
    "        x = self.conv1(inputs)\n",
    "        x = self.pool1(x)\n",
    "        x = self.res_block1(x)\n",
    "        x = self.res_block2(x)\n",
    "        x = self.res_block3(x)\n",
    "        x = self.res_block4(x)\n",
    "        x = self.res_block5(x)\n",
    "        x = self.res_block6(x)\n",
    "        x = self.res_block7(x)\n",
    "        x = self.res_block8(x)\n",
    "        x = self.res_block9(x)\n",
    "        x = self.res_block10(x)\n",
    "        x = self.res_block11(x)\n",
    "        x = self.res_block12(x)\n",
    "        x = self.res_block13(x)\n",
    "        x = self.res_block14(x)\n",
    "        x = self.res_block15(x)\n",
    "        x = self.res_block16(x)\n",
    "        x = self.pool2(x)\n",
    "        x = self.dense1(x)\n",
    "        \n",
    "        return self.dense2(x)"
   ]
  },
  {
   "cell_type": "code",
   "execution_count": 4,
   "metadata": {},
   "outputs": [],
   "source": [
    "model = CustomResNetModel()\n",
    "\n",
    "model.compile(\n",
    "    loss='sparse_categorical_crossentropy',\n",
    "    optimizer=tf.keras.optimizers.Adam(0.001),\n",
    "    metrics=['accuracy'],\n",
    ")\n"
   ]
  },
  {
   "cell_type": "code",
   "execution_count": null,
   "metadata": {},
   "outputs": [
    {
     "name": "stdout",
     "output_type": "stream",
     "text": [
      "WARNING:tensorflow:Gradients do not exist for variables ['custom_res_net_model/res_net_block_3/conv2d_9/kernel:0', 'custom_res_net_model/res_net_block_3/conv2d_9/bias:0', 'custom_res_net_model/res_net_block_7/conv2d_18/kernel:0', 'custom_res_net_model/res_net_block_7/conv2d_18/bias:0', 'custom_res_net_model/res_net_block_13/conv2d_31/kernel:0', 'custom_res_net_model/res_net_block_13/conv2d_31/bias:0'] when minimizing the loss.\n"
     ]
    },
    {
     "name": "stderr",
     "output_type": "stream",
     "text": [
      "WARNING:tensorflow:Gradients do not exist for variables ['custom_res_net_model/res_net_block_3/conv2d_9/kernel:0', 'custom_res_net_model/res_net_block_3/conv2d_9/bias:0', 'custom_res_net_model/res_net_block_7/conv2d_18/kernel:0', 'custom_res_net_model/res_net_block_7/conv2d_18/bias:0', 'custom_res_net_model/res_net_block_13/conv2d_31/kernel:0', 'custom_res_net_model/res_net_block_13/conv2d_31/bias:0'] when minimizing the loss.\n"
     ]
    },
    {
     "name": "stdout",
     "output_type": "stream",
     "text": [
      "WARNING:tensorflow:Gradients do not exist for variables ['custom_res_net_model/res_net_block_3/conv2d_9/kernel:0', 'custom_res_net_model/res_net_block_3/conv2d_9/bias:0', 'custom_res_net_model/res_net_block_7/conv2d_18/kernel:0', 'custom_res_net_model/res_net_block_7/conv2d_18/bias:0', 'custom_res_net_model/res_net_block_13/conv2d_31/kernel:0', 'custom_res_net_model/res_net_block_13/conv2d_31/bias:0'] when minimizing the loss.\n"
     ]
    },
    {
     "name": "stderr",
     "output_type": "stream",
     "text": [
      "WARNING:tensorflow:Gradients do not exist for variables ['custom_res_net_model/res_net_block_3/conv2d_9/kernel:0', 'custom_res_net_model/res_net_block_3/conv2d_9/bias:0', 'custom_res_net_model/res_net_block_7/conv2d_18/kernel:0', 'custom_res_net_model/res_net_block_7/conv2d_18/bias:0', 'custom_res_net_model/res_net_block_13/conv2d_31/kernel:0', 'custom_res_net_model/res_net_block_13/conv2d_31/bias:0'] when minimizing the loss.\n"
     ]
    },
    {
     "name": "stdout",
     "output_type": "stream",
     "text": [
      "    365/Unknown - 1382s 4s/step - loss: 2.3927 - accuracy: 0.1887"
     ]
    }
   ],
   "source": [
    "model.fit(\n",
    "    x=ds_train,\n",
    "    #steps_per_epoch=1,\n",
    "    epochs=1,\n",
    "    validation_data=ds_test,\n",
    ")\n",
    "model.run_eagerly = False"
   ]
  },
  {
   "cell_type": "code",
   "execution_count": null,
   "metadata": {},
   "outputs": [],
   "source": [
    "model.summary()"
   ]
  },
  {
   "cell_type": "code",
   "execution_count": 12,
   "metadata": {},
   "outputs": [],
   "source": [
    "# w/o mask\n",
    "\n",
    "tot_params = 22004994\n",
    "train_params = 21988098\n",
    "non_train_params = 16896\n",
    "\n",
    "# w mask\n",
    "\n",
    "m_tot_params = 43435266\n",
    "m_train_params = 21988098\n",
    "m_non_train_params = 21447168"
   ]
  },
  {
   "cell_type": "code",
   "execution_count": 17,
   "metadata": {},
   "outputs": [
    {
     "data": {
      "text/plain": [
       "43976196"
      ]
     },
     "execution_count": 17,
     "metadata": {},
     "output_type": "execute_result"
    }
   ],
   "source": [
    "m_train_params == train_params\n",
    "m_train_params + m_non_train_params == m_tot_params \n",
    "2 * train_params"
   ]
  },
  {
   "cell_type": "code",
   "execution_count": null,
   "metadata": {},
   "outputs": [],
   "source": [
    "res_net"
   ]
  },
  {
   "cell_type": "code",
   "execution_count": null,
   "metadata": {},
   "outputs": [],
   "source": [
    "model.fit(\n",
    "    x=ds_train,\n",
    "    #steps_per_epoch=1,\n",
    "    epochs=3,\n",
    "    validation_data=ds_test,\n",
    ")\n",
    "model.run_eagerly = False"
   ]
  },
  {
   "cell_type": "code",
   "execution_count": null,
   "metadata": {},
   "outputs": [],
   "source": [
    "model.fit(\n",
    "    x=ds_train,\n",
    "    #steps_per_epoch=1,\n",
    "    epochs=3,\n",
    "    validation_data=ds_test,\n",
    ")\n",
    "model.run_eagerly = False"
   ]
  },
  {
   "cell_type": "code",
   "execution_count": null,
   "metadata": {},
   "outputs": [],
   "source": [
    "model.fit(\n",
    "    x=ds_train,\n",
    "    #steps_per_epoch=1,\n",
    "    epochs=3,\n",
    "    validation_data=ds_test,\n",
    ")\n",
    "model.run_eagerly = False"
   ]
  },
  {
   "cell_type": "code",
   "execution_count": null,
   "metadata": {},
   "outputs": [],
   "source": []
  }
 ],
 "metadata": {
  "kernelspec": {
   "display_name": "Python 3",
   "language": "python",
   "name": "python3"
  },
  "language_info": {
   "codemirror_mode": {
    "name": "ipython",
    "version": 3
   },
   "file_extension": ".py",
   "mimetype": "text/x-python",
   "name": "python",
   "nbconvert_exporter": "python",
   "pygments_lexer": "ipython3",
   "version": "3.7.7"
  }
 },
 "nbformat": 4,
 "nbformat_minor": 2
}
