{
 "cells": [
  {
   "cell_type": "code",
   "execution_count": 4,
   "metadata": {},
   "outputs": [],
   "source": [
    "from __future__ import absolute_import, division, print_function, unicode_literals\n",
    "\n",
    "import tensorflow as tf\n",
    "import numpy as np\n",
    "import pandas as pd\n",
    "from tensorflow.keras import layers\n",
    "from tqdm import tqdm\n",
    "import matplotlib.pyplot as plt\n",
    "\n",
    "\n",
    "tf.compat.v1.enable_eager_execution()\n",
    "tf.keras.backend.clear_session()  # For easy reset of notebook state."
   ]
  },
  {
   "cell_type": "code",
   "execution_count": 5,
   "metadata": {},
   "outputs": [],
   "source": [
    "(x_train, y_train), (x_test, y_test) = tf.keras.datasets.mnist.load_data()\n",
    "\n",
    "x_train = x_train.reshape(60000, 784).astype('float32') / 255\n",
    "x_test = x_test.reshape(10000, 784).astype('float32') / 255"
   ]
  },
  {
   "cell_type": "code",
   "execution_count": 6,
   "metadata": {},
   "outputs": [],
   "source": [
    "class CustomLayer(layers.Layer):\n",
    "\n",
    "    def __init__(self, units=32, activation='relu'):\n",
    "        super(CustomLayer, self).__init__()\n",
    "        self.units = units\n",
    "        self.activation = activation\n",
    "\n",
    "    def build(self, input_shape):\n",
    "        #print(input_shape)\n",
    "        self.w = self.add_weight(shape=(input_shape[-1], self.units),\n",
    "                                 initializer='random_normal',\n",
    "                                 trainable=True)\n",
    "        self.mask = self.add_weight(shape=(self.w.shape),\n",
    "                                    initializer='ones',\n",
    "                                    trainable=False)\n",
    "        self.mask_2 = tf.Variable(name='yo-this-is-better',initial_value= tf.ones(shape=self.w.get_shape())\n",
    "            , trainable=False)\n",
    "        self.pruned_w = self.add_weight(shape=(input_shape[-1], self.units),\n",
    "                                 initializer='ones',\n",
    "                                 trainable=False)\n",
    "        self.pruned_w_2 = tf.Variable(initial_value= tf.ones(shape=self.w.get_shape()),\n",
    "                                 trainable=False)\n",
    "        \n",
    "    def call(self, inputs):\n",
    "        #self.mask_2 = tf.multiply(self.mask, self.mask_2)\n",
    "        self.pruned_w = tf.multiply(self.w, self.mask)\n",
    "        #print(self.pruned_w.eval())\n",
    "        x = tf.matmul(inputs, self.pruned_w)\n",
    "        \n",
    "        if self.activation == 'relu':\n",
    "            return tf.keras.activations.relu(x)\n",
    "        if self.activation == 'softmax':\n",
    "            return tf.keras.activations.softmax(x)\n",
    "        raise ValueError('Activation function not implemented')\n",
    "\n",
    "\n",
    "  "
   ]
  },
  {
   "cell_type": "code",
   "execution_count": 7,
   "metadata": {},
   "outputs": [],
   "source": [
    "class LeNet300_100(tf.keras.Model):\n",
    "    def __init__(self):\n",
    "        super(LeNet300_100, self).__init__()\n",
    "        self.dense1 = CustomLayer(300)\n",
    "        self.dense2 = CustomLayer(100)\n",
    "        self.dense3 = CustomLayer(10, activation='softmax')\n",
    "        \n",
    "    def call(self, inputs):\n",
    "        \n",
    "        x = self.dense1(inputs)\n",
    "        #print(x.shape)\n",
    "        x = self.dense2(x)\n",
    "        #print(x.shape)\n",
    "        return self.dense3(x)\n",
    "    \n"
   ]
  },
  {
   "cell_type": "code",
   "execution_count": 8,
   "metadata": {
    "scrolled": true
   },
   "outputs": [
    {
     "name": "stdout",
     "output_type": "stream",
     "text": [
      "Train on 60000 samples, validate on 10000 samples\n",
      "60000/60000 [==============================] - 10s 166us/sample - loss: 1.5763 - accuracy: 0.8982 - val_loss: 1.5176 - val_accuracy: 0.9479\n"
     ]
    },
    {
     "data": {
      "text/plain": [
       "<tensorflow.python.keras.callbacks.History at 0x657819a50>"
      ]
     },
     "execution_count": 8,
     "metadata": {},
     "output_type": "execute_result"
    }
   ],
   "source": [
    "model = LeNet300_100()\n",
    "model.compile(optimizer=tf.keras.optimizers.Adam(learning_rate=1e-3),\n",
    "              loss=tf.keras.losses.SparseCategoricalCrossentropy(from_logits=True) ,\n",
    "              metrics=['accuracy'],\n",
    "              experimental_run_tf_function=False\n",
    "              \n",
    "             )\n",
    "model.fit(x=x_train,\n",
    "          y=y_train,\n",
    "          batch_size=64,\n",
    "          epochs=1,\n",
    "          validation_data=(x_test, y_test),\n",
    "         )"
   ]
  },
  {
   "cell_type": "code",
   "execution_count": 9,
   "metadata": {},
   "outputs": [],
   "source": [
    "def prune_weights(model, pruning_ratio):\n",
    "    weights = model.get_weights()\n",
    "    weights_to_prune = model.get_weights()\n",
    "    for index, weight in enumerate(weights):\n",
    "        if (index == 0) or (index == 2) or (index == 4):\n",
    "            flat_weights = weight.flatten()\n",
    "            flat_weights_to_prune = weights_to_prune[index+1].flatten()\n",
    "            #print (flat_weights_to_prune.shape, flat_weights.shape)\n",
    "            flat_weights_df = pd.DataFrame(flat_weights)\n",
    "            flat_weights_to_prune_df = pd.DataFrame(flat_weights_to_prune)\n",
    "            no_of_weights_to_prune = int(len(flat_weights)*pruning_ratio)\n",
    "            #print(no_of_weights_to_prune)\n",
    "            indices_to_delete = flat_weights_df.abs().values.argsort(0)[:no_of_weights_to_prune]\n",
    "            for idx_to_delete in indices_to_delete:\n",
    "                flat_weights_to_prune[idx_to_delete] = 0\n",
    "            dims = weights_to_prune[index+1].shape\n",
    "            weights_reshaped = flat_weights_to_prune.reshape(dims)\n",
    "            print('yoyoyo',type(weights_to_prune[index+1]))\n",
    "            weights_to_prune[index+1] = weights_reshaped\n",
    "    #print(weights_to_prune)\n",
    "    return weights_to_prune\n",
    "    "
   ]
  },
  {
   "cell_type": "code",
   "execution_count": null,
   "metadata": {},
   "outputs": [],
   "source": []
  },
  {
   "cell_type": "code",
   "execution_count": null,
   "metadata": {},
   "outputs": [],
   "source": []
  },
  {
   "cell_type": "code",
   "execution_count": null,
   "metadata": {},
   "outputs": [],
   "source": []
  },
  {
   "cell_type": "code",
   "execution_count": null,
   "metadata": {},
   "outputs": [],
   "source": []
  },
  {
   "cell_type": "code",
   "execution_count": null,
   "metadata": {},
   "outputs": [],
   "source": []
  },
  {
   "cell_type": "code",
   "execution_count": null,
   "metadata": {},
   "outputs": [],
   "source": []
  },
  {
   "cell_type": "code",
   "execution_count": null,
   "metadata": {},
   "outputs": [],
   "source": []
  },
  {
   "cell_type": "code",
   "execution_count": null,
   "metadata": {},
   "outputs": [],
   "source": []
  },
  {
   "cell_type": "code",
   "execution_count": null,
   "metadata": {},
   "outputs": [],
   "source": []
  },
  {
   "cell_type": "code",
   "execution_count": null,
   "metadata": {},
   "outputs": [],
   "source": []
  },
  {
   "cell_type": "code",
   "execution_count": 10,
   "metadata": {},
   "outputs": [
    {
     "name": "stderr",
     "output_type": "stream",
     "text": [
      "\r",
      "  0%|          | 0/3 [00:00<?, ?it/s]"
     ]
    },
    {
     "name": "stdout",
     "output_type": "stream",
     "text": [
      "yoyoyo <class 'numpy.ndarray'>\n",
      "yoyoyo <class 'numpy.ndarray'>\n",
      "yoyoyo <class 'numpy.ndarray'>\n",
      "Train on 60000 samples, validate on 10000 samples\n",
      "60000/60000 [==============================] - 9s 152us/sample - loss: 1.5095 - accuracy: 0.9547 - val_loss: 1.5068 - val_accuracy: 0.9558\n"
     ]
    },
    {
     "name": "stderr",
     "output_type": "stream",
     "text": [
      "\r",
      " 33%|███▎      | 1/3 [00:11<00:22, 11.25s/it]"
     ]
    },
    {
     "name": "stdout",
     "output_type": "stream",
     "text": [
      "yoyoyo <class 'numpy.ndarray'>\n",
      "yoyoyo <class 'numpy.ndarray'>\n",
      "yoyoyo <class 'numpy.ndarray'>\n",
      "Train on 60000 samples, validate on 10000 samples\n",
      "60000/60000 [==============================] - 9s 149us/sample - loss: 1.4945 - accuracy: 0.9691 - val_loss: 1.4943 - val_accuracy: 0.9679\n"
     ]
    },
    {
     "name": "stderr",
     "output_type": "stream",
     "text": [
      "\r",
      " 67%|██████▋   | 2/3 [00:22<00:11, 11.16s/it]"
     ]
    },
    {
     "name": "stdout",
     "output_type": "stream",
     "text": [
      "yoyoyo <class 'numpy.ndarray'>\n",
      "yoyoyo <class 'numpy.ndarray'>\n",
      "yoyoyo <class 'numpy.ndarray'>\n",
      "Train on 60000 samples, validate on 10000 samples\n",
      "60000/60000 [==============================] - 9s 146us/sample - loss: 1.5015 - accuracy: 0.9706 - val_loss: 1.4940 - val_accuracy: 0.9707\n"
     ]
    },
    {
     "name": "stderr",
     "output_type": "stream",
     "text": [
      "100%|██████████| 3/3 [00:33<00:00, 11.01s/it]\n"
     ]
    }
   ],
   "source": [
    "#pruning_ratios = [0.0, 0.3, 0.5, 0.7, 0.8, 0.9, 0.95, .97, .99, .995, .999]\n",
    "pruning_ratios = [0.0, 0.5, 0.9]\n",
    "pre_pruning_weight_archive = []\n",
    "post_pruning_weight_archive = []\n",
    "post_fine_tune_weight_archive = []\n",
    "pre_fine_tune_results = []\n",
    "post_fine_tune_results = []\n",
    "\n",
    "for pruning_ratio in tqdm(pruning_ratios):\n",
    "    pre_pruning_weight_archive.append(model.get_weights())\n",
    "    pruned_weights = prune_weights(model, pruning_ratio)\n",
    "    model.set_weights(pruned_weights)\n",
    "    post_pruning_weight_archive.append(model.get_weights())\n",
    "    #print(len([number for number in model.get_weights()[1].flatten() if number == 0]))\n",
    "    #zeros = len([number for number in model.get_weights()[1].flatten() if number == 0])+len([number for number in model.get_weights()[3].flatten() if number == 0])+len([number for number in model.get_weights()[5].flatten() if number == 0])\n",
    "    #total = len(model.get_weights()[1].flatten()) + len(model.get_weights()[3].flatten()) + len(model.get_weights()[5].flatten())\n",
    "    #print('measured pruning ratio = ', zeros/total )\n",
    "    pre_fine_tune_results.append(model.evaluate(x_test, y_test, verbose=0))\n",
    "    model.fit(x=x_train,\n",
    "          y=y_train,\n",
    "          batch_size=64,\n",
    "          epochs=1,\n",
    "          validation_data=(x_test, y_test),\n",
    "         )\n",
    "    post_fine_tune_results.append(model.evaluate(x_test, y_test, verbose=0))\n",
    "    \n",
    "    post_fine_tune_weight_archive.append(model.get_weights())\n",
    "    \n",
    "    \n",
    "    "
   ]
  },
  {
   "cell_type": "code",
   "execution_count": 11,
   "metadata": {
    "scrolled": true
   },
   "outputs": [
    {
     "name": "stdout",
     "output_type": "stream",
     "text": [
      "pruning ratio:  0.0 accuracy before fine tuning:  0.9479 accuracy after fine tuning:  0.9558\n",
      "pruning ratio:  0.5 accuracy before fine tuning:  0.9588 accuracy after fine tuning:  0.9679\n",
      "pruning ratio:  0.9 accuracy before fine tuning:  0.8503 accuracy after fine tuning:  0.9707\n"
     ]
    }
   ],
   "source": [
    "\n",
    "for index,res in enumerate(pruning_ratios):\n",
    "    print('pruning ratio: ', \n",
    "          res, \n",
    "          'accuracy before fine tuning: ',\n",
    "          pre_fine_tune_results[index][1],\n",
    "          'accuracy after fine tuning: ',\n",
    "          post_fine_tune_results[index][1])"
   ]
  },
  {
   "cell_type": "code",
   "execution_count": 12,
   "metadata": {},
   "outputs": [],
   "source": [
    "def get_masked_weights(raw_weights):\n",
    "    masked_weights = []\n",
    "    for weights in raw_weights[0:]:\n",
    "        #print(np.array_equal(pre_pruning_weight_archive[0][1].flatten(), pre_pruning_weight_archive[1][1].flatten()))\n",
    "        masked_layers = []\n",
    "        masked_layers.append(tf.multiply(weights[0], weights[1]))\n",
    "        masked_layers.append(tf.multiply(weights[2], weights[3]))\n",
    "        masked_layers.append(tf.multiply(weights[4], weights[5]))\n",
    "        masked_weights.append(masked_layers)\n",
    "    return masked_weights"
   ]
  },
  {
   "cell_type": "code",
   "execution_count": 13,
   "metadata": {},
   "outputs": [],
   "source": [
    "pre_pruning_masked_weights = get_masked_weights(pre_pruning_weight_archive)\n",
    "post_pruning_masked_weights = get_masked_weights(post_pruning_weight_archive)\n",
    "post_fine_tuning_masked_weights = get_masked_weights(post_fine_tune_weight_archive)\n"
   ]
  },
  {
   "cell_type": "code",
   "execution_count": null,
   "metadata": {},
   "outputs": [],
   "source": []
  },
  {
   "cell_type": "code",
   "execution_count": 14,
   "metadata": {},
   "outputs": [],
   "source": [
    "def print_weight_hist(weights):\n",
    "    plt.figure(2, figsize=(25,10))\n",
    "    plt.subplots_adjust(hspace=2)\n",
    "\n",
    "    for i, layer in enumerate(weights):\n",
    "        #print(i,weights)\n",
    "        plt.subplot(4,1,i+1)\n",
    "        plt.title(\"Layer {}\".format(i+1))\n",
    "        try:\n",
    "            plt.hist(layer.numpy().reshape(-1), bins=100)\n",
    "        except:\n",
    "            plt.hist(layer.reshape(-1), bins=100)\n",
    "        plt.yscale(\"log\")\n",
    "        plt.xlim(-.5, .5);"
   ]
  },
  {
   "cell_type": "markdown",
   "metadata": {},
   "source": [
    "# Weights before Pruning"
   ]
  },
  {
   "cell_type": "code",
   "execution_count": 340,
   "metadata": {
    "scrolled": true
   },
   "outputs": [
    {
     "data": {
      "image/png": "[encoded data removed]",
      "text/plain": [
       "<Figure size 1800x720 with 3 Axes>"
      ]
     },
     "metadata": {
      "needs_background": "light"
     },
     "output_type": "display_data"
    }
   ],
   "source": [
    "print_weight_hist(pre_pruning_masked_weights[2])"
   ]
  },
  {
   "cell_type": "markdown",
   "metadata": {},
   "source": [
    "# Weights after Pruning"
   ]
  },
  {
   "cell_type": "code",
   "execution_count": 341,
   "metadata": {
    "scrolled": true
   },
   "outputs": [
    {
     "data": {
      "image/png": "[encoded data removed]",
      "text/plain": [
       "<Figure size 1800x720 with 3 Axes>"
      ]
     },
     "metadata": {
      "needs_background": "light"
     },
     "output_type": "display_data"
    }
   ],
   "source": [
    "print_weight_hist(post_pruning_masked_weights[2])"
   ]
  },
  {
   "cell_type": "markdown",
   "metadata": {},
   "source": [
    "# Weights after Fine-tuning"
   ]
  },
  {
   "cell_type": "code",
   "execution_count": 342,
   "metadata": {
    "scrolled": true
   },
   "outputs": [
    {
     "data": {
      "image/png": "[encoded data removed]",
      "text/plain": [
       "<Figure size 1800x720 with 3 Axes>"
      ]
     },
     "metadata": {
      "needs_background": "light"
     },
     "output_type": "display_data"
    }
   ],
   "source": [
    "print_weight_hist(post_fine_tuning_masked_weights[2])"
   ]
  },
  {
   "cell_type": "code",
   "execution_count": null,
   "metadata": {},
   "outputs": [],
   "source": []
  },
  {
   "cell_type": "code",
   "execution_count": null,
   "metadata": {},
   "outputs": [],
   "source": []
  },
  {
   "cell_type": "code",
   "execution_count": null,
   "metadata": {},
   "outputs": [],
   "source": []
  },
  {
   "cell_type": "code",
   "execution_count": null,
   "metadata": {},
   "outputs": [],
   "source": []
  },
  {
   "cell_type": "code",
   "execution_count": null,
   "metadata": {},
   "outputs": [],
   "source": []
  },
  {
   "cell_type": "code",
   "execution_count": null,
   "metadata": {},
   "outputs": [],
   "source": []
  },
  {
   "cell_type": "code",
   "execution_count": null,
   "metadata": {},
   "outputs": [],
   "source": []
  },
  {
   "cell_type": "code",
   "execution_count": null,
   "metadata": {},
   "outputs": [],
   "source": []
  },
  {
   "cell_type": "code",
   "execution_count": null,
   "metadata": {},
   "outputs": [],
   "source": []
  },
  {
   "cell_type": "code",
   "execution_count": null,
   "metadata": {},
   "outputs": [],
   "source": []
  },
  {
   "cell_type": "code",
   "execution_count": null,
   "metadata": {},
   "outputs": [],
   "source": []
  },
  {
   "cell_type": "code",
   "execution_count": null,
   "metadata": {},
   "outputs": [],
   "source": []
  },
  {
   "cell_type": "code",
   "execution_count": null,
   "metadata": {},
   "outputs": [],
   "source": []
  },
  {
   "cell_type": "code",
   "execution_count": null,
   "metadata": {},
   "outputs": [],
   "source": []
  },
  {
   "cell_type": "markdown",
   "metadata": {},
   "source": [
    "# Sanity Tests"
   ]
  },
  {
   "cell_type": "code",
   "execution_count": null,
   "metadata": {},
   "outputs": [],
   "source": []
  },
  {
   "cell_type": "code",
   "execution_count": 351,
   "metadata": {},
   "outputs": [
    {
     "name": "stdout",
     "output_type": "stream",
     "text": [
      "Train on 10000 samples, validate on 10000 samples\n",
      "10000/10000 [==============================] - 4s 356us/sample - loss: 1.7539 - accuracy: 0.7632 - val_loss: 1.5973 - val_accuracy: 0.8802\n"
     ]
    },
    {
     "name": "stderr",
     "output_type": "stream",
     "text": [
      "\r",
      "  0%|          | 0/1 [00:00<?, ?it/s]"
     ]
    },
    {
     "name": "stdout",
     "output_type": "stream",
     "text": [
      "measured pruning ratio =  0.9\n"
     ]
    },
    {
     "name": "stderr",
     "output_type": "stream",
     "text": [
      "100%|██████████| 1/1 [00:04<00:00,  4.28s/it]\n"
     ]
    },
    {
     "name": "stdout",
     "output_type": "stream",
     "text": [
      "[[ 0.         -0.         -0.          0.          0.         -0.\n",
      "   0.          0.2785092  -0.         -0.        ]\n",
      " [-0.3374859  -0.         -0.          0.         -0.          0.\n",
      "  -0.          0.          0.          0.        ]\n",
      " [-0.          0.         -0.          0.          0.          0.\n",
      "   0.         -0.          0.          0.        ]\n",
      " [ 0.         -0.         -0.         -0.         -0.17024063  0.13210315\n",
      "  -0.          0.          0.          0.        ]\n",
      " [ 0.         -0.          0.         -0.         -0.          0.\n",
      "   0.         -0.24685715  0.         -0.        ]\n",
      " [-0.2610079   0.         -0.         -0.         -0.         -0.\n",
      "  -0.         -0.         -0.          0.        ]\n",
      " [-0.         -0.         -0.          0.         -0.          0.\n",
      "  -0.          0.          0.          0.        ]\n",
      " [ 0.         -0.         -0.3139406   0.         -0.          0.14136147\n",
      "   0.          0.         -0.22402331  0.        ]\n",
      " [-0.          0.         -0.41287926 -0.         -0.          0.\n",
      "  -0.30834317 -0.24084258 -0.         -0.        ]\n",
      " [-0.          0.19706634 -0.         -0.          0.          0.\n",
      "   0.          0.         -0.27494335 -0.        ]\n",
      " [-0.         -0.         -0.         -0.          0.         -0.\n",
      "   0.          0.         -0.         -0.        ]\n",
      " [-0.         -0.          0.         -0.          0.         -0.28853565\n",
      "   0.         -0.         -0.         -0.        ]\n",
      " [ 0.          0.          0.          0.         -0.         -0.\n",
      "   0.23386867  0.         -0.         -0.        ]\n",
      " [-0.         -0.         -0.         -0.26429296  0.          0.\n",
      "  -0.          0.          0.          0.        ]\n",
      " [ 0.32946366 -0.          0.          0.         -0.          0.\n",
      "  -0.         -0.          0.          0.        ]\n",
      " [ 0.         -0.2967655   0.         -0.         -0.          0.\n",
      "   0.          0.         -0.2207157   0.        ]\n",
      " [ 0.         -0.         -0.         -0.23874712  0.2505794  -0.\n",
      "  -0.          0.         -0.          0.        ]\n",
      " [-0.         -0.          0.          0.         -0.          0.\n",
      "  -0.32106146  0.          0.          0.        ]\n",
      " [-0.          0.         -0.         -0.          0.         -0.\n",
      "  -0.          0.         -0.          0.        ]\n",
      " [ 0.         -0.          0.         -0.         -0.         -0.\n",
      "   0.         -0.32219592 -0.         -0.        ]\n",
      " [ 0.         -0.          0.         -0.          0.19560592  0.\n",
      "   0.         -0.         -0.         -0.        ]\n",
      " [ 0.         -0.         -0.32085893 -0.         -0.          0.\n",
      "   0.          0.         -0.          0.        ]\n",
      " [ 0.         -0.2737551   0.         -0.         -0.          0.\n",
      "  -0.          0.         -0.         -0.        ]\n",
      " [ 0.          0.         -0.         -0.         -0.          0.\n",
      "  -0.         -0.         -0.          0.        ]\n",
      " [-0.         -0.          0.21754761 -0.          0.2101784  -0.\n",
      "   0.         -0.          0.          0.        ]\n",
      " [-0.          0.          0.          0.         -0.         -0.\n",
      "   0.          0.         -0.         -0.        ]\n",
      " [-0.27972585 -0.         -0.          0.          0.         -0.\n",
      "   0.          0.         -0.21153165  0.        ]\n",
      " [ 0.         -0.          0.          0.          0.          0.\n",
      "  -0.         -0.          0.          0.        ]\n",
      " [ 0.         -0.2288792   0.          0.         -0.2098347   0.\n",
      "   0.         -0.          0.          0.        ]\n",
      " [-0.          0.19470976 -0.          0.          0.         -0.\n",
      "  -0.          0.          0.          0.        ]\n",
      " [ 0.          0.         -0.         -0.         -0.         -0.\n",
      "  -0.         -0.         -0.         -0.        ]\n",
      " [-0.         -0.         -0.          0.          0.          0.\n",
      "  -0.         -0.          0.          0.        ]\n",
      " [ 0.         -0.          0.24903995 -0.          0.          0.\n",
      "  -0.          0.         -0.          0.        ]\n",
      " [ 0.          0.         -0.27887005 -0.26941556  0.         -0.\n",
      "  -0.          0.          0.          0.        ]\n",
      " [ 0.          0.          0.          0.          0.         -0.\n",
      "   0.         -0.          0.         -0.        ]\n",
      " [ 0.          0.          0.          0.          0.         -0.\n",
      "  -0.          0.         -0.         -0.        ]\n",
      " [-0.3821155   0.         -0.          0.         -0.         -0.33152056\n",
      "   0.          0.         -0.         -0.        ]\n",
      " [-0.          0.          0.         -0.         -0.          0.\n",
      "   0.          0.          0.         -0.        ]\n",
      " [ 0.         -0.         -0.         -0.27741075  0.         -0.\n",
      "   0.          0.         -0.          0.        ]\n",
      " [-0.          0.          0.          0.22271267 -0.          0.\n",
      "  -0.         -0.          0.         -0.        ]\n",
      " [-0.         -0.          0.         -0.          0.          0.\n",
      "  -0.          0.         -0.          0.        ]\n",
      " [ 0.          0.          0.          0.         -0.29773155  0.\n",
      "  -0.31046885  0.         -0.22400506 -0.        ]\n",
      " [-0.          0.26284465  0.         -0.         -0.         -0.\n",
      "   0.          0.          0.         -0.37030846]\n",
      " [ 0.          0.          0.         -0.         -0.25245667  0.\n",
      "  -0.          0.          0.         -0.        ]\n",
      " [ 0.          0.         -0.         -0.         -0.27807093 -0.\n",
      "   0.         -0.          0.          0.        ]\n",
      " [-0.          0.          0.23918425 -0.         -0.         -0.\n",
      "   0.         -0.          0.          0.        ]\n",
      " [ 0.         -0.         -0.         -0.         -0.295444    0.\n",
      "  -0.         -0.2639908  -0.         -0.        ]\n",
      " [-0.         -0.2561912  -0.         -0.          0.         -0.\n",
      "   0.         -0.          0.          0.        ]\n",
      " [ 0.         -0.         -0.          0.2343011  -0.          0.\n",
      "  -0.          0.         -0.         -0.        ]\n",
      " [-0.         -0.         -0.33820102 -0.          0.          0.\n",
      "   0.          0.         -0.         -0.        ]\n",
      " [ 0.         -0.         -0.         -0.          0.         -0.\n",
      "   0.          0.         -0.31184992 -0.        ]\n",
      " [-0.32521525  0.         -0.         -0.          0.          0.\n",
      "  -0.         -0.          0.          0.        ]\n",
      " [ 0.         -0.          0.          0.          0.          0.\n",
      "  -0.         -0.         -0.         -0.        ]\n",
      " [-0.         -0.          0.         -0.         -0.          0.\n",
      "   0.         -0.          0.         -0.        ]\n",
      " [-0.         -0.         -0.          0.          0.         -0.\n",
      "   0.         -0.24693961 -0.          0.        ]\n",
      " [-0.30347815  0.          0.          0.         -0.          0.\n",
      "  -0.          0.         -0.         -0.        ]\n",
      " [-0.          0.         -0.          0.         -0.          0.\n",
      "  -0.34948352 -0.          0.         -0.        ]\n",
      " [-0.          0.          0.          0.          0.          0.\n",
      "   0.23333988 -0.         -0.         -0.43108618]\n",
      " [ 0.         -0.          0.          0.23430976 -0.         -0.\n",
      "   0.         -0.         -0.         -0.        ]\n",
      " [-0.          0.          0.          0.          0.         -0.\n",
      "  -0.29378933 -0.         -0.          0.        ]\n",
      " [-0.          0.          0.          0.         -0.          0.\n",
      "  -0.         -0.          0.         -0.        ]\n",
      " [-0.          0.         -0.          0.         -0.         -0.\n",
      "  -0.         -0.         -0.         -0.        ]\n",
      " [ 0.          0.         -0.          0.         -0.23284721  0.\n",
      "  -0.          0.         -0.          0.        ]\n",
      " [ 0.          0.          0.          0.          0.          0.\n",
      "   0.22644046 -0.         -0.         -0.        ]\n",
      " [-0.         -0.          0.          0.          0.          0.\n",
      "   0.23041838 -0.          0.         -0.        ]\n",
      " [ 0.         -0.30495393  0.         -0.         -0.         -0.\n",
      "   0.         -0.         -0.          0.        ]\n",
      " [ 0.          0.          0.          0.         -0.          0.\n",
      "  -0.         -0.28899497  0.         -0.        ]\n",
      " [-0.          0.28408366 -0.17770815 -0.         -0.          0.\n",
      "   0.         -0.         -0.19824043 -0.        ]\n",
      " [-0.         -0.          0.          0.         -0.         -0.\n",
      "  -0.          0.          0.          0.        ]\n",
      " [-0.         -0.         -0.         -0.          0.          0.\n",
      "   0.          0.23124102 -0.          0.        ]\n",
      " [ 0.         -0.32530397 -0.          0.          0.         -0.\n",
      "  -0.         -0.         -0.         -0.        ]\n",
      " [ 0.          0.         -0.         -0.         -0.22914614  0.\n",
      "   0.29053387  0.         -0.         -0.        ]\n",
      " [ 0.          0.         -0.2847462   0.          0.         -0.\n",
      "   0.          0.          0.         -0.        ]\n",
      " [-0.          0.          0.         -0.         -0.3001063  -0.\n",
      "  -0.         -0.          0.         -0.        ]\n",
      " [-0.          0.         -0.          0.          0.          0.\n",
      "   0.         -0.30167702 -0.         -0.        ]\n",
      " [ 0.         -0.          0.         -0.          0.         -0.\n",
      "   0.          0.         -0.2617386   0.        ]\n",
      " [-0.          0.         -0.         -0.          0.         -0.\n",
      "   0.         -0.          0.          0.        ]\n",
      " [ 0.          0.          0.         -0.         -0.         -0.\n",
      "   0.          0.         -0.         -0.        ]\n",
      " [ 0.         -0.         -0.         -0.         -0.          0.19314596\n",
      "   0.         -0.          0.          0.        ]\n",
      " [ 0.         -0.275032    0.         -0.          0.          0.\n",
      "   0.         -0.          0.         -0.        ]\n",
      " [-0.         -0.          0.         -0.          0.          0.12706146\n",
      "   0.         -0.          0.          0.        ]\n",
      " [ 0.          0.         -0.          0.         -0.          0.\n",
      "   0.          0.          0.         -0.        ]\n",
      " [ 0.         -0.34827745 -0.          0.          0.         -0.\n",
      "  -0.          0.          0.         -0.        ]\n",
      " [-0.          0.          0.         -0.          0.          0.\n",
      "  -0.         -0.          0.         -0.        ]\n",
      " [ 0.         -0.          0.         -0.         -0.          0.\n",
      "  -0.          0.          0.         -0.        ]\n",
      " [ 0.         -0.         -0.          0.          0.         -0.\n",
      "   0.         -0.          0.         -0.        ]\n",
      " [ 0.          0.          0.          0.         -0.          0.\n",
      "  -0.         -0.          0.         -0.        ]\n",
      " [-0.         -0.         -0.24134223  0.21827875  0.          0.\n",
      "   0.         -0.          0.          0.        ]\n",
      " [-0.          0.         -0.          0.          0.          0.\n",
      "  -0.         -0.          0.21702293 -0.        ]\n",
      " [-0.          0.2209134  -0.         -0.         -0.         -0.28711706\n",
      "  -0.          0.         -0.          0.        ]\n",
      " [-0.          0.         -0.         -0.          0.          0.\n",
      "   0.         -0.29531503 -0.          0.        ]\n",
      " [ 0.          0.         -0.         -0.         -0.         -0.\n",
      "  -0.          0.24149197 -0.          0.        ]\n",
      " [-0.          0.          0.         -0.          0.          0.\n",
      "   0.         -0.          0.         -0.        ]\n",
      " [ 0.          0.2548299  -0.          0.          0.         -0.\n",
      "  -0.          0.          0.          0.        ]\n",
      " [ 0.         -0.32513717 -0.         -0.24757855 -0.          0.\n",
      "  -0.         -0.          0.18677823 -0.        ]\n",
      " [ 0.          0.         -0.         -0.         -0.          0.\n",
      "  -0.          0.          0.         -0.        ]\n",
      " [ 0.         -0.          0.          0.          0.         -0.\n",
      "  -0.          0.         -0.         -0.11572112]\n",
      " [-0.         -0.         -0.         -0.24658886  0.         -0.\n",
      "   0.          0.          0.          0.        ]\n",
      " [ 0.         -0.3045433   0.          0.         -0.2965624   0.\n",
      "  -0.          0.          0.15148711  0.        ]\n",
      " [-0.         -0.          0.          0.          0.         -0.31651855\n",
      "  -0.          0.         -0.         -0.        ]]\n"
     ]
    }
   ],
   "source": [
    "with tf.compat.v1.Session() as sess:\n",
    "    test_model = LeNet300_100()\n",
    "    test_model.compile(optimizer=tf.keras.optimizers.Adam(learning_rate=1e-3),\n",
    "                  loss=tf.keras.losses.SparseCategoricalCrossentropy(from_logits=True) ,\n",
    "                  metrics=['accuracy'],\n",
    "                  experimental_run_tf_function=False\n",
    "\n",
    "                 )\n",
    "    test_model.fit(x=x_train[:10000],\n",
    "              y=y_train[:10000],\n",
    "              batch_size=64,\n",
    "              epochs=1,\n",
    "              validation_data=(x_test, y_test),\n",
    "              verbose=False\n",
    "             )\n",
    "    pruning_ratios = [0.9]\n",
    "    for pruning_ratio in tqdm(pruning_ratios):\n",
    "        pruned_weights = prune_weights(test_model, pruning_ratio)\n",
    "        test_model.set_weights(pruned_weights)\n",
    "        #print(len([number for number in model.get_weights()[1].flatten() if number == 0]))\n",
    "        zeros = len([number for number in test_model.get_weights()[1].flatten() if number == 0])+len([number for number in test_model.get_weights()[3].flatten() if number == 0])+len([number for number in test_model.get_weights()[5].flatten() if number == 0])\n",
    "        total = len(test_model.get_weights()[1].flatten()) + len(test_model.get_weights()[3].flatten()) + len(test_model.get_weights()[5].flatten())\n",
    "        print('measured pruning ratio = ', zeros/total )\n",
    "        test_model.fit(x=x_train[:10000],\n",
    "              y=y_train[:10000],\n",
    "              batch_size=64,\n",
    "              epochs=1,\n",
    "              validation_data=(x_test, y_test),\n",
    "              verbose=False\n",
    "             )\n",
    "    np.set_printoptions(suppress=True)\n",
    "    #print(model.layers[2].pruned_w.eval().flatten())\n",
    "    #print(model.layers[2].w.eval().flatten())\n",
    "    print(test_model.layers[2].pruned_w.eval())\n"
   ]
  },
  {
   "cell_type": "code",
   "execution_count": null,
   "metadata": {},
   "outputs": [],
   "source": []
  }
 ],
 "metadata": {
  "kernelspec": {
   "display_name": "Python 3",
   "language": "python",
   "name": "python3"
  },
  "language_info": {
   "codemirror_mode": {
    "name": "ipython",
    "version": 3
   },
   "file_extension": ".py",
   "mimetype": "text/x-python",
   "name": "python",
   "nbconvert_exporter": "python",
   "pygments_lexer": "ipython3",
   "version": "3.7.6"
  }
 },
 "nbformat": 4,
 "nbformat_minor": 4
}
