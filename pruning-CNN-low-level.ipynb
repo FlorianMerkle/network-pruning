{
 "cells": [
  {
   "cell_type": "code",
   "execution_count": 1,
   "metadata": {},
   "outputs": [],
   "source": [
    "from __future__ import absolute_import, division, print_function, unicode_literals\n",
    "\n",
    "import tensorflow as tf\n",
    "import numpy as np\n",
    "import pandas as pd\n",
    "from tensorflow.keras import layers\n",
    "from tqdm import tqdm\n",
    "import matplotlib.pyplot as plt\n",
    "\n",
    "\n",
    "#tf.compat.v1.enable_eager_execution()\n",
    "#tf.keras.backend.clear_session()  # For easy reset of notebook state."
   ]
  },
  {
   "cell_type": "code",
   "execution_count": 2,
   "metadata": {},
   "outputs": [],
   "source": [
    "(x_train, y_train), (x_test, y_test) = tf.keras.datasets.mnist.load_data()\n",
    "x_train = x_train.reshape(60000, 784).astype('float32') / 255\n",
    "x_test = x_test.reshape(10000, 784).astype('float32') / 255"
   ]
  },
  {
   "cell_type": "markdown",
   "metadata": {},
   "source": [
    "# Weights"
   ]
  },
  {
   "cell_type": "code",
   "execution_count": 3,
   "metadata": {},
   "outputs": [],
   "source": [
    "weights = {\n",
    "    # 5x5 conv, 1 input, 6 outputs\n",
    "    'weights_conv_1': tf.Variable(tf.random.normal([5, 5, 1, 6])),\n",
    "    # 5x5 conv, 6 inputs, 16 outputs\n",
    "    'weights_conv_2': tf.Variable(tf.random.normal([5, 5, 6, 16])),\n",
    "    #5x5 conv as in paper, 16 inputs, 120 outputs\n",
    "    'weights_conv_3': tf.Variable(tf.random.normal([5, 5, 16, 120])),\n",
    "    # fully connected, 5*5*16 inputs, 120 outputs\n",
    "    'weights_dense_1': tf.Variable(tf.random.normal([5*5*16, 120])),\n",
    "    # fully connected, 120 inputs, 84 outputs\n",
    "    'weights_dense_2': tf.Variable(tf.random.normal([120, 84])),\n",
    "    # 84 inputs, 10 outputs (class prediction)\n",
    "    'weights_dense_3': tf.Variable(tf.random.normal([84, 10])),\n",
    "}\n",
    "\n",
    "masks = {\n",
    "    # 5x5 conv, 1 input, 6 outputs\n",
    "    'mask_conv_1': tf.Variable(tf.ones([5, 5, 1, 6]), trainable=False),\n",
    "    # 5x5 conv, 6 inputs, 16 outputs\n",
    "    'mask_conv_2': tf.Variable(tf.ones([5, 5, 6, 16]), trainable=False),\n",
    "    #5x5 conv as in paper, 16 inputs, 120 outputs\n",
    "    'mask_conv_3': tf.Variable(tf.ones([5, 5, 16, 120]), trainable=False),\n",
    "    # fully connected, 5*5*16 inputs, 120 outputs\n",
    "    'mask_dense_1': tf.Variable(tf.ones([5*5*16, 120]), trainable=False),\n",
    "    # fully connected, 120 inputs, 84 outputs\n",
    "    'mask_dense_2': tf.Variable(tf.ones([120, 84]), trainable=False),\n",
    "    # 84 inputs, 10 outputs (class prediction)\n",
    "    'mask_dense_3': tf.Variable(tf.ones([84, 10]), trainable=False),\n",
    "}\n",
    "\n",
    "biases = {\n",
    "    #output depth\n",
    "    'bias_conv_1': tf.Variable(tf.random.normal([6])),\n",
    "    'bias_conv_2': tf.Variable(tf.random.normal([16])),\n",
    "    'bias_dense_1': tf.Variable(tf.random.normal([120])),\n",
    "    'bias_dense_2': tf.Variable(tf.random.normal([84])),\n",
    "    'bias_dense_3': tf.Variable(tf.random.normal([10])),\n",
    "}\n",
    "\n"
   ]
  },
  {
   "cell_type": "markdown",
   "metadata": {},
   "source": [
    "# Wrappers"
   ]
  },
  {
   "cell_type": "code",
   "execution_count": 4,
   "metadata": {},
   "outputs": [],
   "source": [
    "#conv2D with bias and relu activation\n",
    "\n",
    "class CustomConvLayer(layers.Layer):\n",
    "\n",
    "    def __init__(self, weights, mask, biases, strides, padding='SAME'):\n",
    "        \n",
    "        super(CustomConvLayer, self).__init__()\n",
    "        self.w = weights\n",
    "        self.m = mask\n",
    "        self.b = biases\n",
    "        self.s = strides\n",
    "        self.p = padding\n",
    "\n",
    "        \n",
    "    def call(self, inputs):\n",
    "        print('inputs',inputs)\n",
    "        #print('weights', self.w)\n",
    "        #print('masks', self.m)\n",
    "        print('weights * masks',tf.multiply(self.w, self.m))\n",
    "        x = tf.nn.conv2d(inputs, tf.multiply(self.w, self.m), strides=[1, self.s, self.s, 1], padding=self.p, data_format='NCHW')\n",
    "        print('x', x)\n",
    "        #print('bias', self.b)\n",
    "        x = tf.nn.bias_add(x, self.b, 'NC...')\n",
    "        #print('x', x)\n",
    "        return tf.nn.tanh(x)\n",
    "        \n",
    "\n",
    "#Average Pooling Layer\n",
    "class CustomPoolLayer(layers.Layer):\n",
    "    \n",
    "    def __init__(self, k=2, padding='valid'):#padding='VALID'):\n",
    "        super(CustomPoolLayer, self).__init__()\n",
    "        self.k = k\n",
    "        self.p = padding\n",
    "    \n",
    "    def call(self, inputs):\n",
    "        return tf.keras.layers.AveragePooling2D(pool_size=(self.k, self.k), strides=None, padding=self.p, data_format='channels_first')(inputs)\n",
    "#        return tf.nn.avg_pool2d(inputs, ksize=[1, self.k, self.k,1], strides=[1, self.k, self.k, 1], padding=self.p, data_format='NCHW')\n",
    "    \n",
    "#Dense Layer with Bias\n",
    "class CustomDenseLayer(layers.Layer):\n",
    "    \n",
    "    def __init__(self, weights, mask, bias, activation = 'tanh'):\n",
    "        super(CustomDenseLayer, self).__init__()\n",
    "        self.w = weights\n",
    "        self.b = bias\n",
    "        self.a = activation\n",
    "        self.m = mask\n",
    "        \n",
    "    def call(self, inputs):\n",
    "        #print('dense w',self.w)\n",
    "        #print('dense i',inputs)\n",
    "        x = tf.matmul(inputs, tf.multiply(self.w, self.m))\n",
    "        #print('dense x',x)\n",
    "        x = tf.nn.bias_add(x, self.b)\n",
    "        if self.a == 'tanh':\n",
    "            return tf.nn.tanh(x)\n",
    "        if self.a == 'softmax':\n",
    "            return tf.nn.softmax(x)\n"
   ]
  },
  {
   "cell_type": "markdown",
   "metadata": {},
   "source": [
    "# Create Model"
   ]
  },
  {
   "cell_type": "code",
   "execution_count": 5,
   "metadata": {},
   "outputs": [],
   "source": [
    "class CustomConvModel(tf.keras.Model):\n",
    "    def __init__(self):\n",
    "        super(CustomConvModel, self).__init__()\n",
    "        self.conv1 = CustomConvLayer(weights['weights_conv_1'], masks['mask_conv_1'], biases['bias_conv_1'], 1, 'SAME')#'VALID')\n",
    "        self.maxpool1 = CustomPoolLayer(k=2, padding='SAME')\n",
    "        self.conv2 = CustomConvLayer(weights['weights_conv_2'], masks['mask_conv_2'], biases['bias_conv_2'], 1, 'VALID')\n",
    "        self.maxpool2 = CustomPoolLayer(k=2, padding='VALID')\n",
    "        self.conv3 = CustomConvLayer(weights['weights_conv_3'], masks['mask_conv_3'], biases['bias_dense_1'], 1, 'VALID')\n",
    "        #self.dense1 = CustomDenseLayer(weights['weights_dense_1'], biases['bias_dense_1'], 'tanh')\n",
    "        self.dense2 = CustomDenseLayer(weights['weights_dense_2'], masks['mask_dense_2'], biases['bias_dense_2'], 'tanh')\n",
    "        self.dense3 = CustomDenseLayer(weights['weights_dense_3'], masks['mask_dense_3'], biases['bias_dense_3'], 'softmax')\n",
    "        \n",
    "    def call(self, inputs):\n",
    "        x = tf.reshape(inputs, shape=[-1, 1, 28, 28])\n",
    "        #print(x.shape)\n",
    "        x = self.conv1(x)\n",
    "        print('after conv1', x.shape)\n",
    "        x = self.maxpool1(x)\n",
    "        print('after pool1',x.shape)\n",
    "        x = self.conv2(x)\n",
    "        #print('after conv2',x.shape)\n",
    "        x = self.maxpool2(x)\n",
    "        #print('yo',x.shape)\n",
    "        #x = layers.Flatten()(x)\n",
    "        print('after pool2',x.shape)\n",
    "        x = self.conv3(x)\n",
    "        print('after conv3',x.shape)\n",
    "        x = layers.Flatten()(x)\n",
    "        print('after flatten',x.shape)\n",
    "        x =  self.dense2(x)\n",
    "        print(x.shape)\n",
    "        x =  self.dense3(x)\n",
    "        print(x.shape)\n",
    "        return x\n",
    "        "
   ]
  },
  {
   "cell_type": "code",
   "execution_count": null,
   "metadata": {},
   "outputs": [],
   "source": []
  },
  {
   "cell_type": "code",
   "execution_count": null,
   "metadata": {},
   "outputs": [],
   "source": []
  },
  {
   "cell_type": "code",
   "execution_count": null,
   "metadata": {},
   "outputs": [],
   "source": []
  },
  {
   "cell_type": "code",
   "execution_count": 6,
   "metadata": {},
   "outputs": [],
   "source": [
    "model = CustomConvModel()"
   ]
  },
  {
   "cell_type": "code",
   "execution_count": 7,
   "metadata": {},
   "outputs": [],
   "source": [
    "model.compile(optimizer='adam',\n",
    "              loss=tf.keras.losses.SparseCategoricalCrossentropy(from_logits=True) ,\n",
    "              metrics=['accuracy'],\n",
    "              experimental_run_tf_function=False\n",
    "             )"
   ]
  },
  {
   "cell_type": "code",
   "execution_count": 11,
   "metadata": {
    "scrolled": true
   },
   "outputs": [
    {
     "name": "stdout",
     "output_type": "stream",
     "text": [
      "inputs Tensor(\"custom_conv_model/Reshape:0\", shape=(None, 1, 28, 28), dtype=float32)\n",
      "weights * masks Tensor(\"custom_conv_model/custom_conv_layer/Mul:0\", shape=(5, 5, 1, 6), dtype=float32)\n",
      "x Tensor(\"custom_conv_model/custom_conv_layer/Conv2D:0\", shape=(None, 6, 28, 28), dtype=float32)\n",
      "after conv1 (None, 6, 28, 28)\n",
      "after pool1 (None, 6, 14, 14)\n",
      "inputs Tensor(\"custom_conv_model/custom_pool_layer/Identity:0\", shape=(None, 6, 14, 14), dtype=float32)\n",
      "weights * masks Tensor(\"custom_conv_model/custom_conv_layer_1/Mul:0\", shape=(5, 5, 6, 16), dtype=float32)\n",
      "x Tensor(\"custom_conv_model/custom_conv_layer_1/Conv2D:0\", shape=(None, 16, 10, 10), dtype=float32)\n",
      "after pool2 (None, 16, 5, 5)\n",
      "inputs Tensor(\"custom_conv_model/custom_pool_layer_1/Identity:0\", shape=(None, 16, 5, 5), dtype=float32)\n",
      "weights * masks Tensor(\"custom_conv_model/custom_conv_layer_2/Mul:0\", shape=(5, 5, 16, 120), dtype=float32)\n",
      "x Tensor(\"custom_conv_model/custom_conv_layer_2/Conv2D:0\", shape=(None, 120, 1, 1), dtype=float32)\n",
      "after conv3 (None, 120, 1, 1)\n",
      "after flatten (None, 120)\n",
      "(None, 84)\n",
      "(None, 10)\n",
      "Train on 60000 samples, validate on 10000 samples\n",
      "Epoch 1/20\n",
      "60000/60000 [==============================] - 67s 1ms/sample - loss: 2.1161 - accuracy: 0.3383 - val_loss: 2.0156 - val_accuracy: 0.4419\n",
      "Epoch 2/20\n",
      "60000/60000 [==============================] - 68s 1ms/sample - loss: 1.9930 - accuracy: 0.4647 - val_loss: 1.9662 - val_accuracy: 0.4925\n",
      "Epoch 3/20\n",
      "60000/60000 [==============================] - 75s 1ms/sample - loss: 1.9135 - accuracy: 0.5454 - val_loss: 1.8451 - val_accuracy: 0.6139\n",
      "Epoch 4/20\n",
      "60000/60000 [==============================] - 70s 1ms/sample - loss: 1.8435 - accuracy: 0.6162 - val_loss: 1.8283 - val_accuracy: 0.6308\n",
      "Epoch 5/20\n",
      "60000/60000 [==============================] - 70s 1ms/sample - loss: 1.8309 - accuracy: 0.6287 - val_loss: 1.8150 - val_accuracy: 0.6457\n",
      "Epoch 6/20\n",
      "60000/60000 [==============================] - 70s 1ms/sample - loss: 1.7989 - accuracy: 0.6610 - val_loss: 1.7758 - val_accuracy: 0.6854\n",
      "Epoch 7/20\n",
      "60000/60000 [==============================] - 70s 1ms/sample - loss: 1.7670 - accuracy: 0.6937 - val_loss: 1.7488 - val_accuracy: 0.7125\n",
      "Epoch 8/20\n",
      "60000/60000 [==============================] - 74s 1ms/sample - loss: 1.7526 - accuracy: 0.7077 - val_loss: 1.7468 - val_accuracy: 0.7125\n",
      "Epoch 9/20\n",
      "60000/60000 [==============================] - 70s 1ms/sample - loss: 1.7444 - accuracy: 0.7164 - val_loss: 1.7379 - val_accuracy: 0.7215\n",
      "Epoch 10/20\n",
      "60000/60000 [==============================] - 69s 1ms/sample - loss: 1.7392 - accuracy: 0.7211 - val_loss: 1.7350 - val_accuracy: 0.7256\n",
      "Epoch 11/20\n",
      "60000/60000 [==============================] - 66s 1ms/sample - loss: 1.7337 - accuracy: 0.7269 - val_loss: 1.7242 - val_accuracy: 0.7375\n",
      "Epoch 12/20\n",
      "60000/60000 [==============================] - 63s 1ms/sample - loss: 1.7291 - accuracy: 0.7315 - val_loss: 1.7205 - val_accuracy: 0.7412\n",
      "Epoch 13/20\n",
      "60000/60000 [==============================] - 63s 1ms/sample - loss: 1.6573 - accuracy: 0.8037 - val_loss: 1.6360 - val_accuracy: 0.8252\n",
      "Epoch 14/20\n",
      "60000/60000 [==============================] - 64s 1ms/sample - loss: 1.6385 - accuracy: 0.8228 - val_loss: 1.6339 - val_accuracy: 0.8270\n",
      "Epoch 15/20\n",
      "60000/60000 [==============================] - 64s 1ms/sample - loss: 1.6317 - accuracy: 0.8292 - val_loss: 1.6250 - val_accuracy: 0.8370\n",
      "Epoch 16/20\n",
      "60000/60000 [==============================] - 65s 1ms/sample - loss: 1.6260 - accuracy: 0.8350 - val_loss: 1.6217 - val_accuracy: 0.8394\n",
      "Epoch 17/20\n",
      "60000/60000 [==============================] - 68s 1ms/sample - loss: 1.6260 - accuracy: 0.8350 - val_loss: 1.6203 - val_accuracy: 0.8409\n",
      "Epoch 18/20\n",
      "60000/60000 [==============================] - 66s 1ms/sample - loss: 1.6234 - accuracy: 0.8379 - val_loss: 1.6182 - val_accuracy: 0.8433\n",
      "Epoch 19/20\n",
      "60000/60000 [==============================] - 63s 1ms/sample - loss: 1.6201 - accuracy: 0.8406 - val_loss: 1.6129 - val_accuracy: 0.8480\n",
      "Epoch 20/20\n",
      "60000/60000 [==============================] - 63s 1ms/sample - loss: 1.6174 - accuracy: 0.8436 - val_loss: 1.6151 - val_accuracy: 0.8456\n"
     ]
    },
    {
     "data": {
      "text/plain": [
       "<tensorflow.python.keras.callbacks.History at 0x654c48950>"
      ]
     },
     "execution_count": 11,
     "metadata": {},
     "output_type": "execute_result"
    }
   ],
   "source": [
    "model.fit(x=x_train,\n",
    "          y=y_train,\n",
    "          batch_size=64,\n",
    "          epochs=20,\n",
    "          validation_data=(x_test, y_test),\n",
    "         )"
   ]
  },
  {
   "cell_type": "code",
   "execution_count": null,
   "metadata": {},
   "outputs": [],
   "source": [
    "for layer in model.get_weights():\n",
    "    print(layer.shape)"
   ]
  },
  {
   "cell_type": "code",
   "execution_count": null,
   "metadata": {},
   "outputs": [],
   "source": [
    "len(model.get_weights())"
   ]
  },
  {
   "cell_type": "code",
   "execution_count": 10,
   "metadata": {},
   "outputs": [],
   "source": [
    "def prune_conv_layers(pruning_ratio):\n",
    "    layer_to_prune = [0, 3, 6]\n",
    "    pruned_weights = model.get_weights()\n",
    "    \n",
    "    for layer in layer_to_prune:\n",
    "        converted_weights = convert_from_hwio_to_iohw(model.get_weights()[layer])\n",
    "        converted_mask = convert_from_hwio_to_iohw(model.get_weights()[layer + 2]).numpy()\n",
    "        for input_index, input_layer in enumerate(converted_weights):\n",
    "\n",
    "            for kernel_index, kernel in enumerate(input_layer):\n",
    "                dims = kernel.shape\n",
    "                flat_weights = kernel.numpy().flatten()\n",
    "                flat_masks = converted_mask[input_index][kernel_index].flatten()\n",
    "                flat_weights_df = pd.DataFrame(flat_weights)\n",
    "                flat_mask_df = pd.DataFrame(flat_masks)\n",
    "                no_of_weights_to_prune = int(len(flat_weights)*pruning_ratio)\n",
    "                #print(no_of_weights_to_prune)\n",
    "                indices_to_delete = flat_weights_df.abs().values.argsort(0)[:no_of_weights_to_prune]\n",
    "                for idx_to_delete in indices_to_delete:\n",
    "                    flat_masks[idx_to_delete] = 0\n",
    "\n",
    "                converted_mask[input_index][kernel_index] = flat_masks.reshape(dims)\n",
    "        back_converted_mask = convert_from_iohw_to_hwio(converted_mask)\n",
    "        pruned_weights[layer+2] = back_converted_mask\n",
    "    \n",
    "    return pruned_weights\n",
    "            \n",
    "            "
   ]
  },
  {
   "cell_type": "code",
   "execution_count": 12,
   "metadata": {},
   "outputs": [
    {
     "name": "stderr",
     "output_type": "stream",
     "text": [
      "\r",
      "  0%|          | 0/4 [00:00<?, ?it/s]"
     ]
    },
    {
     "name": "stdout",
     "output_type": "stream",
     "text": [
      "(120, 84)\n",
      "(84, 10)\n",
      "Train on 60000 samples, validate on 10000 samples\n",
      "Epoch 1/5\n",
      "60000/60000 [==============================] - 62s 1ms/sample - loss: 1.6163 - accuracy: 0.8442 - val_loss: 1.6095 - val_accuracy: 0.8517\n",
      "Epoch 2/5\n",
      "60000/60000 [==============================] - 62s 1ms/sample - loss: 1.6157 - accuracy: 0.8454 - val_loss: 1.6094 - val_accuracy: 0.8518\n",
      "Epoch 3/5\n",
      "60000/60000 [==============================] - 63s 1ms/sample - loss: 1.6116 - accuracy: 0.8490 - val_loss: 1.6098 - val_accuracy: 0.8514\n",
      "Epoch 4/5\n",
      "60000/60000 [==============================] - 63s 1ms/sample - loss: 1.6104 - accuracy: 0.8505 - val_loss: 1.6077 - val_accuracy: 0.8533\n",
      "Epoch 5/5\n",
      "60000/60000 [==============================] - 62s 1ms/sample - loss: 1.6092 - accuracy: 0.8516 - val_loss: 1.6081 - val_accuracy: 0.8531\n"
     ]
    },
    {
     "name": "stderr",
     "output_type": "stream",
     "text": [
      "\r",
      " 25%|██▌       | 1/4 [05:25<16:17, 325.69s/it]"
     ]
    },
    {
     "name": "stdout",
     "output_type": "stream",
     "text": [
      "(120, 84)\n",
      "(84, 10)\n",
      "Train on 60000 samples, validate on 10000 samples\n",
      "Epoch 1/5\n",
      "60000/60000 [==============================] - 62s 1ms/sample - loss: 1.6300 - accuracy: 0.8311 - val_loss: 1.6132 - val_accuracy: 0.8475\n",
      "Epoch 2/5\n",
      "60000/60000 [==============================] - 63s 1ms/sample - loss: 1.6160 - accuracy: 0.8448 - val_loss: 1.6126 - val_accuracy: 0.8486\n",
      "Epoch 3/5\n",
      "60000/60000 [==============================] - 62s 1ms/sample - loss: 1.6110 - accuracy: 0.8498 - val_loss: 1.6087 - val_accuracy: 0.8512\n",
      "Epoch 4/5\n",
      "60000/60000 [==============================] - 61s 1ms/sample - loss: 1.6089 - accuracy: 0.8519 - val_loss: 1.6072 - val_accuracy: 0.8536\n",
      "Epoch 5/5\n",
      "60000/60000 [==============================] - 61s 1ms/sample - loss: 1.6080 - accuracy: 0.8528 - val_loss: 1.6045 - val_accuracy: 0.8556\n"
     ]
    },
    {
     "name": "stderr",
     "output_type": "stream",
     "text": [
      "\r",
      " 50%|█████     | 2/4 [10:47<10:49, 324.63s/it]"
     ]
    },
    {
     "name": "stdout",
     "output_type": "stream",
     "text": [
      "(120, 84)\n",
      "(84, 10)\n",
      "Train on 60000 samples, validate on 10000 samples\n",
      "Epoch 1/5\n",
      "60000/60000 [==============================] - 62s 1ms/sample - loss: 1.8082 - accuracy: 0.6531 - val_loss: 1.7180 - val_accuracy: 0.7448\n",
      "Epoch 2/5\n",
      "60000/60000 [==============================] - 71s 1ms/sample - loss: 1.6805 - accuracy: 0.7834 - val_loss: 1.6308 - val_accuracy: 0.8329\n",
      "Epoch 3/5\n",
      "60000/60000 [==============================] - 67s 1ms/sample - loss: 1.6234 - accuracy: 0.8409 - val_loss: 1.6021 - val_accuracy: 0.8624\n",
      "Epoch 4/5\n",
      "60000/60000 [==============================] - 66s 1ms/sample - loss: 1.6006 - accuracy: 0.8635 - val_loss: 1.5888 - val_accuracy: 0.8733\n",
      "Epoch 5/5\n",
      "60000/60000 [==============================] - 66s 1ms/sample - loss: 1.5846 - accuracy: 0.8795 - val_loss: 1.5781 - val_accuracy: 0.8845\n"
     ]
    },
    {
     "name": "stderr",
     "output_type": "stream",
     "text": [
      "\r",
      " 75%|███████▌  | 3/4 [16:33<05:30, 330.87s/it]"
     ]
    },
    {
     "name": "stdout",
     "output_type": "stream",
     "text": [
      "(120, 84)\n",
      "(84, 10)\n",
      "Train on 60000 samples, validate on 10000 samples\n",
      "Epoch 1/5\n",
      "60000/60000 [==============================] - 62s 1ms/sample - loss: 1.8687 - accuracy: 0.5963 - val_loss: 1.8082 - val_accuracy: 0.6562\n",
      "Epoch 2/5\n",
      "60000/60000 [==============================] - 63s 1ms/sample - loss: 1.7732 - accuracy: 0.6915 - val_loss: 1.7118 - val_accuracy: 0.7539\n",
      "Epoch 3/5\n",
      "60000/60000 [==============================] - 66s 1ms/sample - loss: 1.6957 - accuracy: 0.7697 - val_loss: 1.6756 - val_accuracy: 0.7874\n",
      "Epoch 4/5\n",
      "60000/60000 [==============================] - 64s 1ms/sample - loss: 1.6445 - accuracy: 0.8225 - val_loss: 1.6195 - val_accuracy: 0.8480\n",
      "Epoch 5/5\n",
      "60000/60000 [==============================] - 61s 1ms/sample - loss: 1.6139 - accuracy: 0.8529 - val_loss: 1.6015 - val_accuracy: 0.8653\n"
     ]
    },
    {
     "name": "stderr",
     "output_type": "stream",
     "text": [
      "100%|██████████| 4/4 [22:03<00:00, 330.94s/it]\n"
     ]
    }
   ],
   "source": [
    "pruning_ratios = [0.0, .5, 0.8, 0.9]\n",
    "pre_pruning_weight_archive = []\n",
    "post_pruning_weight_archive = []\n",
    "post_fine_tune_weight_archive = []\n",
    "pre_fine_tune_results = []\n",
    "post_fine_tune_results = []\n",
    "\n",
    "for pruning_ratio in tqdm(pruning_ratios):\n",
    "    pre_pruning_weight_archive.append(model.get_weights())\n",
    "    pruned_weights = prune_conv_layers(pruning_ratio)\n",
    "    model.set_weights(pruned_weights)\n",
    "    pruned_weights = prune_weights(model, pruning_ratio)\n",
    "    model.set_weights(pruned_weights)\n",
    "    post_pruning_weight_archive.append(model.get_weights())\n",
    "    pre_fine_tune_results.append(model.evaluate(x_test, y_test, verbose=0))\n",
    "    model.fit(x=x_train,\n",
    "          y=y_train,\n",
    "          batch_size=64,\n",
    "          epochs=5,\n",
    "          validation_data=(x_test, y_test),\n",
    "         )\n",
    "    post_fine_tune_results.append(model.evaluate(x_test, y_test, verbose=0))\n",
    "    post_fine_tune_weight_archive.append(model.get_weights())"
   ]
  },
  {
   "cell_type": "code",
   "execution_count": null,
   "metadata": {
    "scrolled": true
   },
   "outputs": [],
   "source": [
    "pruned_weights"
   ]
  },
  {
   "cell_type": "code",
   "execution_count": null,
   "metadata": {},
   "outputs": [],
   "source": [
    "model.set_weights(pruned_weights)\n"
   ]
  },
  {
   "cell_type": "code",
   "execution_count": 9,
   "metadata": {},
   "outputs": [],
   "source": [
    "def prune_weights(model, pruning_ratio):\n",
    "    weights = model.get_weights()\n",
    "    weights_to_prune = model.get_weights()\n",
    "    for index, weight in enumerate(weights):\n",
    "        if (index == 9) or (index == 12) :\n",
    "            print(weight.shape)\n",
    "            flat_weights = weight.flatten()\n",
    "            flat_weights_to_prune = weights_to_prune[index+2].flatten()\n",
    "            #print (flat_weights_to_prune.shape, flat_weights.shape)\n",
    "            flat_weights_df = pd.DataFrame(flat_weights)\n",
    "            flat_weights_to_prune_df = pd.DataFrame(flat_weights_to_prune)\n",
    "            no_of_weights_to_prune = int(len(flat_weights)*pruning_ratio)\n",
    "            #print(no_of_weights_to_prune)\n",
    "            indices_to_delete = flat_weights_df.abs().values.argsort(0)[:no_of_weights_to_prune]\n",
    "            for idx_to_delete in indices_to_delete:\n",
    "                flat_weights_to_prune[idx_to_delete] = 0\n",
    "            dims = weights_to_prune[index+2].shape\n",
    "            weights_reshaped = flat_weights_to_prune.reshape(dims)\n",
    "            weights_to_prune[index+2] = weights_reshaped\n",
    "    #print(weights_to_prune)\n",
    "    return weights_to_prune"
   ]
  },
  {
   "cell_type": "code",
   "execution_count": null,
   "metadata": {},
   "outputs": [],
   "source": [
    "model.evaluate(x_test, y_test)"
   ]
  },
  {
   "cell_type": "code",
   "execution_count": 14,
   "metadata": {},
   "outputs": [
    {
     "name": "stdout",
     "output_type": "stream",
     "text": [
      "pruning ratio:  0.0 accuracy before fine tuning:  0.8456 accuracy after fine tuning:  0.8531\n",
      "pruning ratio:  0.5 accuracy before fine tuning:  0.7877 accuracy after fine tuning:  0.8556\n",
      "pruning ratio:  0.8 accuracy before fine tuning:  0.3247 accuracy after fine tuning:  0.8845\n",
      "pruning ratio:  0.9 accuracy before fine tuning:  0.3505 accuracy after fine tuning:  0.8653\n"
     ]
    }
   ],
   "source": [
    "\n",
    "for index,res in enumerate(pruning_ratios):\n",
    "    print('pruning ratio: ', \n",
    "          res, \n",
    "          'accuracy before fine tuning: ',\n",
    "          pre_fine_tune_results[index][1],\n",
    "          'accuracy after fine tuning: ',\n",
    "          post_fine_tune_results[index][1])"
   ]
  },
  {
   "cell_type": "code",
   "execution_count": null,
   "metadata": {},
   "outputs": [],
   "source": []
  },
  {
   "cell_type": "code",
   "execution_count": null,
   "metadata": {},
   "outputs": [],
   "source": [
    "model.get_weights()[0].shape"
   ]
  },
  {
   "cell_type": "code",
   "execution_count": null,
   "metadata": {
    "scrolled": true
   },
   "outputs": [],
   "source": [
    "print(convert_from_hwio_to_iohw(model.get_weights()[0]).shape)"
   ]
  },
  {
   "cell_type": "code",
   "execution_count": 8,
   "metadata": {},
   "outputs": [],
   "source": [
    "def convert_from_hwio_to_iohw(weights_nchw):\n",
    "    return tf.transpose(weights_nchw, [2, 3, 0, 1])\n",
    "\n",
    "\n",
    "\n",
    "def convert_from_iohw_to_hwio(weights_nhwc):\n",
    "    return tf.transpose(weights_nhwc, [2, 3, 0, 1])"
   ]
  },
  {
   "cell_type": "code",
   "execution_count": null,
   "metadata": {},
   "outputs": [],
   "source": []
  },
  {
   "cell_type": "code",
   "execution_count": null,
   "metadata": {},
   "outputs": [],
   "source": []
  },
  {
   "cell_type": "code",
   "execution_count": null,
   "metadata": {},
   "outputs": [],
   "source": []
  },
  {
   "cell_type": "code",
   "execution_count": null,
   "metadata": {},
   "outputs": [],
   "source": []
  },
  {
   "cell_type": "code",
   "execution_count": null,
   "metadata": {},
   "outputs": [],
   "source": []
  },
  {
   "cell_type": "code",
   "execution_count": null,
   "metadata": {},
   "outputs": [],
   "source": [
    "keras_model = tf.keras.Sequential()\n",
    "keras_model.add(layers.Reshape((28, 28,1)))\n",
    "#differences convolutional layer: \n",
    "#keras.layers.Conv2D uses 'glorot_uniform' initializer\n",
    "#keras.layers.Conv2D uses padding method 'valid' as default\n",
    "keras_model.add(layers.Conv2D(filters=6, kernel_size=(5,5), activation='tanh', padding='SAME',input_shape=(28,28,1)))\n",
    "#differences pooling layer: \n",
    "#keras.layers.AvgPooling2D uses padding method 'valid' (vs. 'SAME' in custom) as default\n",
    "keras_model.add(layers.AvgPool2D(padding='SAME'))\n",
    "keras_model.add(layers.Conv2D(filters=16, kernel_size=(5,5), activation='tanh'))\n",
    "keras_model.add(layers.AvgPool2D())\n",
    "keras_model.add(layers.Flatten())\n",
    "keras_model.add(layers.Dense(120, activation='tanh'))\n",
    "keras_model.add(layers.Dense(84, activation='tanh'))\n",
    "keras_model.add(layers.Dense(10, activation='softmax'))"
   ]
  },
  {
   "cell_type": "code",
   "execution_count": null,
   "metadata": {},
   "outputs": [],
   "source": [
    "keras_model.compile(optimizer='adam',\n",
    "                    loss=tf.keras.losses.SparseCategoricalCrossentropy(from_logits=True) ,\n",
    "                    metrics=['accuracy'],\n",
    "                    experimental_run_tf_function=False\n",
    "                   )"
   ]
  },
  {
   "cell_type": "code",
   "execution_count": null,
   "metadata": {},
   "outputs": [],
   "source": [
    "keras_model.fit(x=x_train,\n",
    "                y=y_train,\n",
    "                batch_size=64,\n",
    "                epochs=2,\n",
    "                validation_data=(x_test, y_test),\n",
    "         )"
   ]
  },
  {
   "cell_type": "code",
   "execution_count": null,
   "metadata": {
    "scrolled": false
   },
   "outputs": [],
   "source": [
    "keras_model.summary()"
   ]
  },
  {
   "cell_type": "code",
   "execution_count": null,
   "metadata": {},
   "outputs": [],
   "source": []
  },
  {
   "cell_type": "code",
   "execution_count": null,
   "metadata": {},
   "outputs": [],
   "source": []
  },
  {
   "cell_type": "code",
   "execution_count": null,
   "metadata": {},
   "outputs": [],
   "source": []
  },
  {
   "cell_type": "code",
   "execution_count": null,
   "metadata": {},
   "outputs": [],
   "source": []
  },
  {
   "cell_type": "code",
   "execution_count": null,
   "metadata": {},
   "outputs": [],
   "source": [
    "preds = map (lambda pred: np.argmax(pred), model.predict(x_test[:30]))\n",
    "preds = list(preds)"
   ]
  },
  {
   "cell_type": "code",
   "execution_count": null,
   "metadata": {},
   "outputs": [],
   "source": [
    "\n",
    "\n",
    "plt.figure(figsize=(10,10))\n",
    "for i in range(25):\n",
    "    img = tf.reshape(x_test[i], shape=[28, 28])\n",
    "    plt.subplot(5,5,i+1)\n",
    "    plt.xticks([])\n",
    "    plt.yticks([])\n",
    "    plt.grid(False)\n",
    "    plt.imshow(img)\n",
    "\n",
    "    plt.xlabel(preds[i])\n",
    "plt.show()"
   ]
  },
  {
   "cell_type": "code",
   "execution_count": null,
   "metadata": {},
   "outputs": [],
   "source": []
  },
  {
   "cell_type": "code",
   "execution_count": null,
   "metadata": {},
   "outputs": [],
   "source": []
  },
  {
   "cell_type": "code",
   "execution_count": null,
   "metadata": {},
   "outputs": [],
   "source": [
    "def weight_mask_variable(var, scope):\n",
    "\n",
    "    mask = tf.Variable(initial_value = tf.ones(var.shape),\n",
    "                       trainable=False\n",
    "                      )\n",
    "    return mask\n",
    "\n",
    "def apply_mask(x, scope=''):\n",
    "    #print(x.shape)\n",
    "    mask = weight_mask_variable(x, scope)\n",
    "    #threshold = weight_threshold_variable(x, scope)\n",
    "\n",
    "    x = tf.cast(x, tf.float32)\n",
    "    masked_weights = tf.multiply(mask, x)\n",
    "    \n",
    "\n",
    "    return masked_weights"
   ]
  },
  {
   "cell_type": "code",
   "execution_count": null,
   "metadata": {},
   "outputs": [],
   "source": []
  }
 ],
 "metadata": {
  "kernelspec": {
   "display_name": "Python 3",
   "language": "python",
   "name": "python3"
  },
  "language_info": {
   "codemirror_mode": {
    "name": "ipython",
    "version": 3
   },
   "file_extension": ".py",
   "mimetype": "text/x-python",
   "name": "python",
   "nbconvert_exporter": "python",
   "pygments_lexer": "ipython3",
   "version": "3.7.7"
  }
 },
 "nbformat": 4,
 "nbformat_minor": 4
}
