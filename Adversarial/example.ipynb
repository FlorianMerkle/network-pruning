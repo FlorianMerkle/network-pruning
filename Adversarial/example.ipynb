{
 "cells": [
  {
   "cell_type": "code",
   "execution_count": 3,
   "metadata": {},
   "outputs": [
    {
     "name": "stdout",
     "output_type": "stream",
     "text": [
      "accuracy\n",
      "0.9375\n",
      "\n",
      "epsilons\n",
      "[0.01, 0.5, 0.9]\n",
      "\n",
      "LinfFastGradientAttack(rel_stepsize=1.0, abs_stepsize=None, steps=1, random_start=False)\n",
      "   [0. 0. 0.]\n",
      "LinfBasicIterativeAttack(rel_stepsize=0.2, abs_stepsize=None, steps=10, random_start=False)\n",
      "   [0. 0. 0.]\n",
      "LinfAdditiveUniformNoiseAttack()\n",
      "   [0.94 0.12 0.  ]\n",
      "LinfDeepFoolAttack(steps=50, candidates=10, overshoot=0.02, loss=logits)\n",
      "   [0. 0. 0.]\n",
      "\n",
      "-------------------------------------------------------------------------------\n",
      "\n",
      "worst case (best attack per-sample)\n",
      "   [0. 0. 0.]\n"
     ]
    }
   ],
   "source": [
    "import torchvision.models as models\n",
    "import eagerpy as ep\n",
    "from foolbox import PyTorchModel, accuracy, samples\n",
    "import foolbox.attacks as fa\n",
    "import numpy as np\n",
    "\n",
    "\n",
    "\n",
    "# instantiate a model\n",
    "model = models.resnet18(pretrained=True).eval()\n",
    "preprocessing = dict(mean=[0.485, 0.456, 0.406], std=[0.229, 0.224, 0.225], axis=-3)\n",
    "fmodel = PyTorchModel(model, bounds=(0, 1), preprocessing=preprocessing)\n",
    "\n",
    "    # get data and test the model\n",
    "    # wrapping the tensors with ep.astensors is optional, but it allows\n",
    "    # us to work with EagerPy tensors in the following\n",
    "images, labels = ep.astensors(*samples(fmodel, dataset=\"imagenet\", batchsize=16))\n",
    "print(\"accuracy\")\n",
    "print(accuracy(fmodel, images, labels))\n",
    "print(\"\")\n",
    "\n",
    "attacks = [\n",
    "    fa.FGSM(),\n",
    "    #fa.LinfPGD(),\n",
    "    fa.LinfBasicIterativeAttack(),\n",
    "    fa.LinfAdditiveUniformNoiseAttack(),\n",
    "    fa.LinfDeepFoolAttack(),\n",
    "]\n",
    "\n",
    "epsilons = [\n",
    "    .01,\n",
    "    0.5,\n",
    "    .9\n",
    "    ]\n",
    "print(\"epsilons\")\n",
    "print(epsilons)\n",
    "print(\"\")\n",
    "\n",
    "attack_success = np.zeros((len(attacks), len(epsilons), len(images)), dtype=np.bool)\n",
    "for i, attack in enumerate(attacks):\n",
    "    _, _, success = attack(fmodel, images, labels, epsilons=epsilons)\n",
    "    assert success.shape == (len(epsilons), len(images))\n",
    "    success_ = success.numpy()\n",
    "    assert success_.dtype == np.bool\n",
    "    attack_success[i] = success_\n",
    "    print(attack)\n",
    "    print(\"  \", 1.0 - success_.mean(axis=-1).round(2))\n",
    "\n",
    "robust_accuracy = 1.0 - attack_success.max(axis=0).mean(axis=-1)\n",
    "print(\"\")\n",
    "print(\"-\" * 79)\n",
    "print(\"\")\n",
    "print(\"worst case (best attack per-sample)\")\n",
    "print(\"  \", robust_accuracy.round(2))\n"
   ]
  },
  {
   "cell_type": "code",
   "execution_count": null,
   "metadata": {},
   "outputs": [],
   "source": []
  }
 ],
 "metadata": {
  "kernelspec": {
   "display_name": "Python 3",
   "language": "python",
   "name": "python3"
  },
  "language_info": {
   "codemirror_mode": {
    "name": "ipython",
    "version": 3
   },
   "file_extension": ".py",
   "mimetype": "text/x-python",
   "name": "python",
   "nbconvert_exporter": "python",
   "pygments_lexer": "ipython3",
   "version": "3.8.3"
  }
 },
 "nbformat": 4,
 "nbformat_minor": 2
}
