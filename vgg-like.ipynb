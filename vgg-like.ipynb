{
 "cells": [
  {
   "cell_type": "code",
   "execution_count": 1,
   "metadata": {},
   "outputs": [],
   "source": [
    "from __future__ import absolute_import, division, print_function, unicode_literals\n",
    "\n",
    "import tensorflow as tf\n",
    "import tensorflow_datasets as tfds\n",
    "import numpy as np\n",
    "import pandas as pd\n",
    "from tensorflow.keras import layers\n",
    "from tqdm import tqdm\n",
    "import matplotlib.pyplot as plt\n",
    "import pathlib\n",
    "import os\n",
    "\n",
    "AUTOTUNE = tf.data.experimental.AUTOTUNE\n"
   ]
  },
  {
   "cell_type": "code",
   "execution_count": 2,
   "metadata": {},
   "outputs": [],
   "source": [
    "weights = {\n",
    "    'weights_conv_1': tf.Variable(tf.random.normal([3, 3, 3, 64])),\n",
    "    'weights_conv_2': tf.Variable(tf.random.normal([3, 3, 64, 64])),\n",
    "    'weights_conv_3': tf.Variable(tf.random.normal([3, 3, 64, 128])),\n",
    "    'weights_conv_4': tf.Variable(tf.random.normal([3, 3, 128, 128])),\n",
    "    'weights_conv_5': tf.Variable(tf.random.normal([3, 3, 128, 256])),\n",
    "    'weights_conv_6': tf.Variable(tf.random.normal([3, 3, 256, 256])),\n",
    "    'weights_conv_7': tf.Variable(tf.random.normal([3, 3, 256, 256])),\n",
    "    'weights_conv_8': tf.Variable(tf.random.normal([3, 3, 256, 512])),\n",
    "    'weights_conv_9': tf.Variable(tf.random.normal([3, 3, 512, 512])),\n",
    "    'weights_conv_10': tf.Variable(tf.random.normal([3, 3, 512, 512])),\n",
    "    'weights_conv_11': tf.Variable(tf.random.normal([3, 3, 512, 512])),\n",
    "    'weights_conv_12': tf.Variable(tf.random.normal([3, 3, 512, 512])),\n",
    "    'weights_conv_13': tf.Variable(tf.random.normal([3, 3, 512, 512])),\n",
    "\n",
    "    'weights_dense_1': tf.Variable(tf.random.normal([7*7*512, 4096])),\n",
    "    'weights_dense_2': tf.Variable(tf.random.normal([4096, 4096])),\n",
    "    'weights_dense_3': tf.Variable(tf.random.normal([4096, 10])),\n",
    "}\n",
    "\n",
    "masks = {\n",
    "    \n",
    "    'mask_conv_1': tf.Variable(tf.ones([3, 3, 3, 64]), trainable=False),\n",
    "    'mask_conv_2': tf.Variable(tf.ones([3, 3, 64, 64]), trainable=False),\n",
    "    'mask_conv_3': tf.Variable(tf.ones([3, 3, 64, 128]), trainable=False),\n",
    "    'mask_conv_4': tf.Variable(tf.ones([3, 3, 128, 128]), trainable=False),\n",
    "    'mask_conv_5': tf.Variable(tf.ones([3, 3, 128, 256]), trainable=False),\n",
    "    'mask_conv_6': tf.Variable(tf.ones([3, 3, 256, 256]), trainable=False),\n",
    "    'mask_conv_7': tf.Variable(tf.ones([3, 3, 256, 256]), trainable=False),\n",
    "    'mask_conv_8': tf.Variable(tf.ones([3, 3, 256, 512]), trainable=False),\n",
    "    'mask_conv_9': tf.Variable(tf.ones([3, 3, 512, 512]), trainable=False),\n",
    "    'mask_conv_10': tf.Variable(tf.ones([3, 3, 512, 512]), trainable=False),\n",
    "    'mask_conv_11': tf.Variable(tf.ones([3, 3, 512, 512]), trainable=False),\n",
    "    'mask_conv_12': tf.Variable(tf.ones([3, 3, 512, 512]), trainable=False),\n",
    "    'mask_conv_13': tf.Variable(tf.ones([3, 3, 512, 512]), trainable=False),\n",
    "    # 224x224 input --> 5 maxpool layers --> \n",
    "    'mask_dense_1': tf.Variable(tf.ones([7*7*512, 4096]), trainable=False),\n",
    "    'mask_dense_2': tf.Variable(tf.ones([4096, 4096]), trainable=False),\n",
    "    'mask_dense_3': tf.Variable(tf.ones([4096, 10]), trainable=False),\n",
    "}\n",
    "\n",
    "biases = {\n",
    "    #output depth\n",
    "    'bias_conv_1': tf.Variable(tf.random.normal([64])),\n",
    "    'bias_conv_2': tf.Variable(tf.random.normal([64])),\n",
    "    'bias_conv_3': tf.Variable(tf.random.normal([128])),\n",
    "    'bias_conv_4': tf.Variable(tf.random.normal([128])),\n",
    "    'bias_conv_5': tf.Variable(tf.random.normal([256])),\n",
    "    'bias_conv_6': tf.Variable(tf.random.normal([256])),\n",
    "    'bias_conv_7': tf.Variable(tf.random.normal([256])),\n",
    "    'bias_conv_8': tf.Variable(tf.random.normal([512])),\n",
    "    'bias_conv_9': tf.Variable(tf.random.normal([512])),\n",
    "    'bias_conv_10': tf.Variable(tf.random.normal([512])),\n",
    "    'bias_conv_11': tf.Variable(tf.random.normal([512])),\n",
    "    'bias_conv_12': tf.Variable(tf.random.normal([512])),\n",
    "    'bias_conv_13': tf.Variable(tf.random.normal([512])),\n",
    "    \n",
    "    'bias_dense_1': tf.Variable(tf.random.normal([4096])),\n",
    "    'bias_dense_2': tf.Variable(tf.random.normal([4096])),\n",
    "    'bias_dense_3': tf.Variable(tf.random.normal([10])),\n",
    "\n",
    "}\n"
   ]
  },
  {
   "cell_type": "code",
   "execution_count": 3,
   "metadata": {},
   "outputs": [],
   "source": [
    "#conv2D with bias and relu activation\n",
    "\n",
    "class CustomConvLayer(layers.Layer):\n",
    "\n",
    "    def __init__(self, weights, mask, biases, strides, padding='SAME'):\n",
    "        \n",
    "        super(CustomConvLayer, self).__init__()\n",
    "        self.w = weights\n",
    "        self.m = mask\n",
    "        self.b = biases\n",
    "        self.s = strides\n",
    "        self.p = padding\n",
    "\n",
    "        \n",
    "    def call(self, inputs):\n",
    "        x = tf.nn.conv2d(inputs, tf.multiply(self.w, self.m), strides=[1, self.s, self.s, 1], padding=self.p)\n",
    "        x = tf.nn.bias_add(x, self.b)\n",
    "        return tf.nn.relu(x)\n",
    "        \n",
    "\n",
    "#Average Pooling Layer\n",
    "class CustomPoolLayer(layers.Layer):\n",
    "    \n",
    "    def __init__(self, k=2, padding='SAME'):#padding='VALID'):\n",
    "        super(CustomPoolLayer, self).__init__()\n",
    "        self.k = k\n",
    "        self.p = padding\n",
    "    \n",
    "    def call(self, inputs):\n",
    "        return tf.nn.max_pool2d(inputs, ksize=[1, self.k, self.k,1], strides=[1, self.k, self.k, 1], padding=self.p)\n",
    "    \n",
    "#Dense Layer with Bias\n",
    "class CustomDenseLayer(layers.Layer):\n",
    "    \n",
    "    def __init__(self, weights, mask, bias, activation = 'relu'):\n",
    "        super(CustomDenseLayer, self).__init__()\n",
    "        self.w = weights\n",
    "        self.b = bias\n",
    "        self.a = activation\n",
    "        self.m = mask\n",
    "        \n",
    "    def call(self, inputs):\n",
    "        #print('dense w',self.w)\n",
    "        #print('dense i',inputs)\n",
    "        x = tf.matmul(inputs, tf.multiply(self.w, self.m))\n",
    "        #print('dense x',x)\n",
    "        x = tf.nn.bias_add(x, self.b)\n",
    "        if self.a == 'relu':\n",
    "            return tf.nn.relu(x)\n",
    "        if self.a == 'softmax':\n",
    "            return tf.nn.softmax(x)\n"
   ]
  },
  {
   "cell_type": "code",
   "execution_count": 12,
   "metadata": {},
   "outputs": [],
   "source": [
    "class VGG16(tf.keras.Model):\n",
    "    def __init__(self):\n",
    "        super(VGG16, self).__init__()\n",
    "        self.conv1 = CustomConvLayer(weights['weights_conv_1'], masks['mask_conv_1'], biases['bias_conv_1'], 1)\n",
    "        #self.conv2 = CustomConvLayer(weights['weights_conv_2'], masks['mask_conv_2'], biases['bias_conv_2'], 1)\n",
    "        self.maxpool1 = CustomPoolLayer(k=2)\n",
    "        self.conv3 = CustomConvLayer(weights['weights_conv_3'], masks['mask_conv_3'], biases['bias_conv_3'], 1)\n",
    "        #self.conv4 = CustomConvLayer(weights['weights_conv_4'], masks['mask_conv_4'], biases['bias_conv_4'], 1)\n",
    "        self.maxpool2 = CustomPoolLayer(k=2)\n",
    "        self.conv5 = CustomConvLayer(weights['weights_conv_5'], masks['mask_conv_5'], biases['bias_conv_5'], 1)\n",
    "        #self.conv6 = CustomConvLayer(weights['weights_conv_6'], masks['mask_conv_6'], biases['bias_conv_6'], 1)\n",
    "        #self.conv7 = CustomConvLayer(weights['weights_conv_7'], masks['mask_conv_7'], biases['bias_conv_7'], 1)\n",
    "        self.maxpool3 = CustomPoolLayer(k=2)\n",
    "        self.conv8 = CustomConvLayer(weights['weights_conv_8'], masks['mask_conv_8'], biases['bias_conv_8'], 1)\n",
    "        #self.conv9 = CustomConvLayer(weights['weights_conv_9'], masks['mask_conv_9'], biases['bias_conv_9'], 1)\n",
    "        #self.conv10 = CustomConvLayer(weights['weights_conv_10'], masks['mask_conv_10'], biases['bias_conv_10'], 1)\n",
    "        self.maxpool4 = CustomPoolLayer(k=2)\n",
    "        #self.conv11 = CustomConvLayer(weights['weights_conv_11'], masks['mask_conv_11'], biases['bias_conv_11'], 1)\n",
    "        #self.conv12 = CustomConvLayer(weights['weights_conv_12'], masks['mask_conv_12'], biases['bias_conv_12'], 1)\n",
    "        self.conv13 = CustomConvLayer(weights['weights_conv_13'], masks['mask_conv_13'], biases['bias_conv_13'], 1)\n",
    "        self.maxpool5 = CustomPoolLayer(k=2)\n",
    "        self.dense1 = CustomDenseLayer(weights['weights_dense_1'], masks['mask_dense_1'], biases['bias_dense_1'], 'relu')\n",
    "        #self.dense2 = CustomDenseLayer(weights['weights_dense_2'], masks['mask_dense_2'], biases['bias_dense_2'], 'relu')\n",
    "        self.dense3 = CustomDenseLayer(weights['weights_dense_3'], masks['mask_dense_3'], biases['bias_dense_3'], 'softmax')\n",
    "        \n",
    "    def call(self, inputs):\n",
    "        #x = tf.reshape(inputs, shape=[-1, 28, 28, 1])\n",
    "        x = self.conv1(inputs)\n",
    "        #x = self.conv2(x)\n",
    "        x = self.maxpool1(x)\n",
    "        x = self.conv3(x)\n",
    "        #x = self.conv4(x)\n",
    "        x = self.maxpool2(x)\n",
    "        x = self.conv5(x)\n",
    "        #x = self.conv6(x)\n",
    "        #x = self.conv7(x)\n",
    "        x = self.maxpool3(x)\n",
    "        x = self.conv8(x)\n",
    "        #x = self.conv9(x)\n",
    "        #x = self.conv10(x)\n",
    "        x = self.maxpool4(x)\n",
    "        #x = self.conv11(x)\n",
    "        #x = self.conv12(x)\n",
    "        x = self.conv13(x)\n",
    "        x = self.maxpool4(x)\n",
    "        print(x.shape)\n",
    "        x = layers.Flatten()(x)\n",
    "        print(x.shape)\n",
    "        x =  self.dense1(x)\n",
    "        #x =  self.dense2(x)\n",
    "        x =  self.dense3(x)\n",
    "        return x\n",
    "        "
   ]
  },
  {
   "cell_type": "code",
   "execution_count": 13,
   "metadata": {},
   "outputs": [],
   "source": [
    "model = VGG16()"
   ]
  },
  {
   "cell_type": "code",
   "execution_count": 14,
   "metadata": {},
   "outputs": [],
   "source": [
    "model.compile(optimizer='sgd',\n",
    "              loss=tf.keras.losses.CategoricalCrossentropy(from_logits=True) ,\n",
    "              metrics=['accuracy'],\n",
    "              experimental_run_tf_function=False\n",
    "             )"
   ]
  },
  {
   "cell_type": "code",
   "execution_count": 15,
   "metadata": {},
   "outputs": [],
   "source": [
    "\n",
    "def create_data_set(PATH):\n",
    "    data_dir = pathlib.Path(PATH)\n",
    "    CLASS_NAMES = np.array([item.name for item in data_dir.glob('*') if (item.name != \"LICENSE.txt\" and item.name != '.DS_Store')])\n",
    "    image_count = len(list(data_dir.glob('*/*.jpg')))\n",
    "    IMG_HEIGHT = 224\n",
    "    IMG_WIDTH = 224\n",
    "    \n",
    "    def get_label(file_path):\n",
    "        # convert the path to a list of path components\n",
    "        \n",
    "        parts = tf.strings.split(file_path, os.path.sep)\n",
    "        # The second to last is the class-directory\n",
    "        return parts[-2] == CLASS_NAMES\n",
    "\n",
    "    def decode_img(img):\n",
    "        # convert the compressed string to a 3D uint8 tensor\n",
    "        img = tf.image.decode_jpeg(img, channels=3)\n",
    "        # Use `convert_image_dtype` to convert to floats in the [0,1] range.\n",
    "        img = tf.image.convert_image_dtype(img, tf.float32)\n",
    "        # resize the image to the desired size.\n",
    "        img = tf.image.resize(img, [IMG_WIDTH, IMG_HEIGHT])\n",
    "        print(img)\n",
    "        return img\n",
    "\n",
    "    def process_path(file_path):\n",
    "        label = get_label(file_path)\n",
    "        # load the raw data from the file as a string\n",
    "        img = tf.io.read_file(file_path)\n",
    "        img = decode_img(img)\n",
    "        return img, label\n",
    "    \n",
    "    list_ds = tf.data.Dataset.list_files(str(data_dir/'*/*'))\n",
    "    labeled_ds = list_ds.map(process_path, num_parallel_calls=AUTOTUNE)\n",
    "    print('type', type(labeled_ds))\n",
    "    return labeled_ds\n",
    "    \n"
   ]
  },
  {
   "cell_type": "code",
   "execution_count": 16,
   "metadata": {
    "scrolled": true
   },
   "outputs": [
    {
     "name": "stdout",
     "output_type": "stream",
     "text": [
      "Tensor(\"resize/Squeeze:0\", shape=(224, 224, 3), dtype=float32)\n",
      "type <class 'tensorflow.python.data.ops.dataset_ops.ParallelMapDataset'>\n",
      "Tensor(\"resize/Squeeze:0\", shape=(224, 224, 3), dtype=float32)\n",
      "type <class 'tensorflow.python.data.ops.dataset_ops.ParallelMapDataset'>\n"
     ]
    }
   ],
   "source": [
    "TRAIN_PATH = '/Users/florianmerkle/tensorflow_datasets/downloads/extracted/TAR_GZ.s3_fast-ai-imageclas_imagenetteG9ZQvBaITKiOTw9TfthWmx-Neuhl0366js3YfZzZ3Po.tgz/imagenette/train'\n",
    "train_data = create_data_set(TRAIN_PATH)\n",
    "VAL_PATH = '/Users/florianmerkle/tensorflow_datasets/downloads/extracted/TAR_GZ.s3_fast-ai-imageclas_imagenetteG9ZQvBaITKiOTw9TfthWmx-Neuhl0366js3YfZzZ3Po.tgz/imagenette/val/'\n",
    "val_data = create_data_set(VAL_PATH)"
   ]
  },
  {
   "cell_type": "code",
   "execution_count": null,
   "metadata": {},
   "outputs": [],
   "source": []
  },
  {
   "cell_type": "code",
   "execution_count": 17,
   "metadata": {},
   "outputs": [],
   "source": [
    "def prepare_for_training(ds, cache=True, shuffle_buffer_size=1000):\n",
    "  # This is a small dataset, only load it once, and keep it in memory.\n",
    "  # use `.cache(filename)` to cache preprocessing work for datasets that don't\n",
    "  # fit in memory.\n",
    "    if cache:\n",
    "        if isinstance(cache, str):\n",
    "            ds = ds.cache(cache)\n",
    "        else:\n",
    "            ds = ds.cache()\n",
    "\n",
    "    ds = ds.shuffle(buffer_size=shuffle_buffer_size)\n",
    "\n",
    "    # Repeat forever\n",
    "    ds = ds.repeat(1)\n",
    "\n",
    "    ds = ds.batch(BATCH_SIZE)\n",
    "\n",
    "    # `prefetch` lets the dataset fetch batches in the background while the model\n",
    "    # is training.\n",
    "    ds = ds.prefetch(buffer_size=AUTOTUNE)\n",
    "\n",
    "    return ds"
   ]
  },
  {
   "cell_type": "code",
   "execution_count": 18,
   "metadata": {},
   "outputs": [],
   "source": [
    "BATCH_SIZE = 8\n",
    "train_ds = prepare_for_training(train_data)"
   ]
  },
  {
   "cell_type": "code",
   "execution_count": null,
   "metadata": {},
   "outputs": [],
   "source": []
  },
  {
   "cell_type": "code",
   "execution_count": null,
   "metadata": {
    "scrolled": true
   },
   "outputs": [
    {
     "name": "stdout",
     "output_type": "stream",
     "text": [
      "(None, 7, 7, 512)\n",
      "(None, 25088)\n",
      "  23/1612 [..............................] - ETA: 1:08:41 - loss: 2.3253 - accuracy: 0.1462"
     ]
    }
   ],
   "source": [
    "model.fit(x=train_ds,\n",
    "         epochs=1)"
   ]
  },
  {
   "cell_type": "code",
   "execution_count": null,
   "metadata": {},
   "outputs": [],
   "source": []
  },
  {
   "cell_type": "code",
   "execution_count": null,
   "metadata": {},
   "outputs": [],
   "source": [
    "\n",
    "def show_batch(image_batch, label_batch):\n",
    "  plt.figure(figsize=(10,10))\n",
    "  for n in range(25):\n",
    "      ax = plt.subplot(5,5,n+1)\n",
    "      plt.imshow(image_batch[n])\n",
    "      plt.title(CLASS_NAMES[label_batch[n]==1][0].title())\n",
    "      plt.axis('off')\n",
    "        \n",
    "image_batch, label_batch = next(iter(train_ds))\n",
    "\n",
    "show_batch(image_batch.numpy(), label_batch.numpy())\n"
   ]
  },
  {
   "cell_type": "code",
   "execution_count": null,
   "metadata": {},
   "outputs": [],
   "source": [
    "data_dir = pathlib.Path(TRAIN_PATH)\n",
    "CLASS_NAMES = np.array([item.name for item in data_dir.glob('*') if (item.name != \"LICENSE.txt\" and item.name != '.DS_Store')])\n",
    "image_count = len(list(data_dir.glob('**/*.JPEG')))"
   ]
  },
  {
   "cell_type": "code",
   "execution_count": null,
   "metadata": {},
   "outputs": [],
   "source": [
    "STEPS_PER_EPOCH = np.ceil(image_count/BATCH_SIZE)\n",
    "STEPS_PER_EPOCH"
   ]
  },
  {
   "cell_type": "code",
   "execution_count": null,
   "metadata": {},
   "outputs": [],
   "source": [
    "image_count"
   ]
  },
  {
   "cell_type": "code",
   "execution_count": null,
   "metadata": {},
   "outputs": [],
   "source": []
  }
 ],
 "metadata": {
  "kernelspec": {
   "display_name": "Python 3",
   "language": "python",
   "name": "python3"
  },
  "language_info": {
   "codemirror_mode": {
    "name": "ipython",
    "version": 3
   },
   "file_extension": ".py",
   "mimetype": "text/x-python",
   "name": "python",
   "nbconvert_exporter": "python",
   "pygments_lexer": "ipython3",
   "version": "3.7.5"
  }
 },
 "nbformat": 4,
 "nbformat_minor": 4
}
