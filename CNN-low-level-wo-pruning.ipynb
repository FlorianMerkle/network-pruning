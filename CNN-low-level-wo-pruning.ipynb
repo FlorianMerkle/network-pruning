{
 "cells": [
  {
   "cell_type": "code",
   "execution_count": 1,
   "metadata": {},
   "outputs": [],
   "source": [
    "\n",
    "from __future__ import absolute_import, division, print_function, unicode_literals\n",
    "import numpy as np\n",
    "import math\n",
    "import numpy as np\n",
    "import tensorflow as tf\n",
    "import tensorflow_datasets as tfds\n",
    "from absl import app, flags\n",
    "from easydict import EasyDict\n",
    "from tensorflow.keras import Model\n",
    "from tensorflow.keras.layers import AveragePooling2D, Dense, Flatten, Conv2D, MaxPool2D\n",
    "\n",
    "from tensorflow.keras import layers\n",
    "from tqdm import tqdm\n",
    "import matplotlib.pyplot as plt\n",
    "\n",
    "from cleverhans.future.tf2.attacks import projected_gradient_descent, fast_gradient_method\n",
    "\n",
    "#tf.compat.v1.enable_eager_execution()\n",
    "tf.keras.backend.clear_session()  # For easy reset of notebook state."
   ]
  },
  {
   "cell_type": "code",
   "execution_count": 2,
   "metadata": {},
   "outputs": [],
   "source": [
    "(x_train, y_train), (x_test, y_test) = tf.keras.datasets.mnist.load_data()\n",
    "x_train = [x_train.reshape(60000, 784).astype('float32') / 255]\n",
    "x_test = x_test.reshape(10000, 784).astype('float32') / 255"
   ]
  },
  {
   "cell_type": "markdown",
   "metadata": {},
   "source": [
    "# Weights"
   ]
  },
  {
   "cell_type": "code",
   "execution_count": 3,
   "metadata": {},
   "outputs": [],
   "source": [
    "weights = {\n",
    "    # 5x5 conv, 1 input, 6 outputs\n",
    "    'weights_conv_1': tf.Variable(tf.random.normal([5, 5, 1, 6])),\n",
    "    # 5x5 conv, 6 inputs, 16 outputs\n",
    "    'weights_conv_2': tf.Variable(tf.random.normal([5, 5, 6, 16])),\n",
    "    #5x5 conv as in paper, 16 inputs, 120 outputs\n",
    "    'weights_conv_3': tf.Variable(tf.random.normal([5, 5, 16, 120])),\n",
    "    # fully connected, 5*5*16 inputs, 120 outputs\n",
    "    'weights_dense_1': tf.Variable(tf.random.normal([5*5*16, 120])),\n",
    "    # fully connected, 120 inputs, 84 outputs\n",
    "    'weights_dense_2': tf.Variable(tf.random.normal([120, 84])),\n",
    "    # 84 inputs, 10 outputs (class prediction)\n",
    "    'weights_dense_3': tf.Variable(tf.random.normal([84, 10])),\n",
    "}\n",
    "\n",
    "biases = {\n",
    "    #output depth\n",
    "    'bias_conv_1': tf.Variable(tf.random.normal([6])),\n",
    "    'bias_conv_2': tf.Variable(tf.random.normal([16])),\n",
    "    'bias_dense_1': tf.Variable(tf.random.normal([120])),\n",
    "    'bias_dense_2': tf.Variable(tf.random.normal([84])),\n",
    "    'bias_dense_3': tf.Variable(tf.random.normal([10])),\n",
    "}\n",
    "\n"
   ]
  },
  {
   "cell_type": "markdown",
   "metadata": {},
   "source": [
    "# Wrappers"
   ]
  },
  {
   "cell_type": "code",
   "execution_count": 4,
   "metadata": {},
   "outputs": [],
   "source": [
    "#conv2D with bias and relu activation\n",
    "\n",
    "class CustomConvLayer(layers.Layer):\n",
    "\n",
    "    def __init__(self, weights, biases, strides, padding='SAME'):\n",
    "        \n",
    "        super(CustomConvLayer, self).__init__()\n",
    "        self.w = weights\n",
    "        self.b = biases\n",
    "        self.s = strides\n",
    "        self.p = padding\n",
    "\n",
    "        \n",
    "    def call(self, inputs):\n",
    "        x = tf.nn.conv2d(inputs, self.w, strides=[1, self.s, self.s, 1], padding=self.p)\n",
    "        x = tf.nn.bias_add(x, self.b)\n",
    "        return tf.nn.tanh(x)\n",
    "        \n",
    "\n",
    "#Average Pooling Layer\n",
    "class CustomPoolLayer(layers.Layer):\n",
    "    \n",
    "    def __init__(self, k=2, padding='VALID'):\n",
    "        super(CustomPoolLayer, self).__init__()\n",
    "        self.k = k\n",
    "        self.p = padding\n",
    "    \n",
    "    def call(self, inputs):\n",
    "        return tf.nn.avg_pool2d(inputs, ksize=[1, self.k, self.k,1], strides=[1, self.k, self.k, 1], padding=self.p)\n",
    "\n",
    "    \n",
    "#Dense Layer with Bias\n",
    "class CustomDenseLayer(layers.Layer):\n",
    "    \n",
    "    def __init__(self, weights, bias, activation = 'tanh'):\n",
    "        super(CustomDenseLayer, self).__init__()\n",
    "        self.w = weights\n",
    "        self.b = bias\n",
    "        self.a = activation\n",
    "        \n",
    "    def call(self, inputs):\n",
    "        #print(self.w)\n",
    "        #print(inputs)\n",
    "        x = tf.matmul(inputs, self.w)\n",
    "        #print(x)\n",
    "        x = tf.nn.bias_add(x, self.b)\n",
    "        if self.a == 'tanh':\n",
    "            return tf.nn.tanh(x)\n",
    "        if self.a == 'softmax':\n",
    "            return tf.nn.softmax(x)\n"
   ]
  },
  {
   "cell_type": "markdown",
   "metadata": {},
   "source": [
    "# Create Model"
   ]
  },
  {
   "cell_type": "code",
   "execution_count": 69,
   "metadata": {},
   "outputs": [],
   "source": [
    "class CustomConvModel(tf.keras.Model):\n",
    "    def __init__(self):\n",
    "        super(CustomConvModel, self).__init__()\n",
    "        self.conv1 = CustomConvLayer(weights['weights_conv_1'], biases['bias_conv_1'], 1, 'SAME')#'VALID')\n",
    "        self.maxpool1 = CustomPoolLayer(k=2, padding='SAME')\n",
    "        self.conv2 = CustomConvLayer(weights['weights_conv_2'], biases['bias_conv_2'], 1, 'VALID')\n",
    "        self.maxpool2 = CustomPoolLayer(k=2, padding='VALID')\n",
    "        self.conv3 = CustomConvLayer(weights['weights_conv_3'], biases['bias_dense_1'], 1, 'VALID')\n",
    "        #self.dense1 = CustomDenseLayer(weights['weights_dense_1'], biases['bias_dense_1'], 'tanh')\n",
    "        self.dense2 = CustomDenseLayer(weights['weights_dense_2'], biases['bias_dense_2'], 'tanh')\n",
    "        self.dense3 = CustomDenseLayer(weights['weights_dense_3'], biases['bias_dense_3'], 'softmax')\n",
    "        self.bn1 = tf.keras.layers.BatchNormalization()\n",
    "        self.bn2 = tf.keras.layers.BatchNormalization()\n",
    "        self.bn3 = tf.keras.layers.BatchNormalization()\n",
    "        \n",
    "    def call(self, inputs):\n",
    "        x = tf.reshape(inputs, shape=[-1, 28, 28, 1])\n",
    "        print(x.shape)\n",
    "        x = self.conv1(x)\n",
    "        x = self.bn1(x)\n",
    "        print(x.shape)\n",
    "        x = self.maxpool1(x)\n",
    "        print(x.shape)\n",
    "        x = self.conv2(x)\n",
    "        x = self.bn2(x)\n",
    "        print(x.shape)\n",
    "        x = self.maxpool2(x)\n",
    "        #print('yo',x.shape)\n",
    "        #x = layers.Flatten()(x)\n",
    "        print(x.shape)\n",
    "        x = self.conv3(x)\n",
    "        print(x.shape)\n",
    "        x = layers.Flatten()(x)\n",
    "        print(x.shape)\n",
    "        x = self.bn3(x)\n",
    "        x =  self.dense2(x)\n",
    "        print(x.shape)\n",
    "        x =  self.dense3(x)\n",
    "        print(x.shape)\n",
    "        return x\n",
    "        "
   ]
  },
  {
   "cell_type": "code",
   "execution_count": null,
   "metadata": {},
   "outputs": [],
   "source": []
  },
  {
   "cell_type": "code",
   "execution_count": null,
   "metadata": {},
   "outputs": [],
   "source": []
  },
  {
   "cell_type": "code",
   "execution_count": null,
   "metadata": {},
   "outputs": [],
   "source": []
  },
  {
   "cell_type": "code",
   "execution_count": 70,
   "metadata": {},
   "outputs": [],
   "source": [
    "model = CustomConvModel()"
   ]
  },
  {
   "cell_type": "code",
   "execution_count": 71,
   "metadata": {},
   "outputs": [],
   "source": [
    "model.compile(optimizer='adam',\n",
    "              loss=tf.keras.losses.SparseCategoricalCrossentropy(from_logits=True),\n",
    "              metrics=['accuracy'],\n",
    "              experimental_run_tf_function=False\n",
    "             )"
   ]
  },
  {
   "cell_type": "code",
   "execution_count": 72,
   "metadata": {
    "scrolled": true
   },
   "outputs": [
    {
     "name": "stdout",
     "output_type": "stream",
     "text": [
      "(None, 28, 28, 1)\n",
      "(None, 28, 28, 6)\n",
      "(None, 14, 14, 6)\n",
      "(None, 10, 10, 16)\n",
      "(None, 5, 5, 16)\n",
      "(None, 1, 1, 120)\n",
      "(None, 120)\n",
      "(None, 84)\n",
      "(None, 10)\n",
      "Train on 60000 samples, validate on 10000 samples\n",
      "Epoch 1/10\n",
      "60000/60000 [==============================] - 26s 441us/sample - loss: 1.7810 - accuracy: 0.6781 - val_loss: 1.6577 - val_accuracy: 0.8030\n",
      "Epoch 2/10\n",
      "60000/60000 [==============================] - 27s 444us/sample - loss: 1.6432 - accuracy: 0.8173 - val_loss: 1.6048 - val_accuracy: 0.8562\n",
      "Epoch 3/10\n",
      "60000/60000 [==============================] - 27s 444us/sample - loss: 1.6076 - accuracy: 0.8531 - val_loss: 1.5888 - val_accuracy: 0.8728\n",
      "Epoch 4/10\n",
      "60000/60000 [==============================] - 27s 447us/sample - loss: 1.5898 - accuracy: 0.8710 - val_loss: 1.5711 - val_accuracy: 0.8902\n",
      "Epoch 5/10\n",
      "60000/60000 [==============================] - 27s 450us/sample - loss: 1.5730 - accuracy: 0.8881 - val_loss: 1.5592 - val_accuracy: 0.9025\n",
      "Epoch 6/10\n",
      "60000/60000 [==============================] - 27s 455us/sample - loss: 1.5641 - accuracy: 0.8973 - val_loss: 1.5530 - val_accuracy: 0.9071\n",
      "Epoch 7/10\n",
      "60000/60000 [==============================] - 28s 459us/sample - loss: 1.5571 - accuracy: 0.9041 - val_loss: 1.5496 - val_accuracy: 0.9113\n",
      "Epoch 8/10\n",
      "60000/60000 [==============================] - 27s 457us/sample - loss: 1.5511 - accuracy: 0.9104 - val_loss: 1.5433 - val_accuracy: 0.9177\n",
      "Epoch 9/10\n",
      "60000/60000 [==============================] - 28s 465us/sample - loss: 1.5456 - accuracy: 0.9154 - val_loss: 1.5410 - val_accuracy: 0.9200\n",
      "Epoch 10/10\n",
      "60000/60000 [==============================] - 28s 467us/sample - loss: 1.5438 - accuracy: 0.9172 - val_loss: 1.5365 - val_accuracy: 0.9245\n"
     ]
    },
    {
     "data": {
      "text/plain": [
       "<tensorflow.python.keras.callbacks.History at 0x159924c10>"
      ]
     },
     "execution_count": 72,
     "metadata": {},
     "output_type": "execute_result"
    }
   ],
   "source": [
    "model.fit(x=x_train,\n",
    "          y=y_train,\n",
    "          batch_size=64,\n",
    "          epochs=10,\n",
    "          validation_data=(x_test, y_test),\n",
    "         )"
   ]
  },
  {
   "cell_type": "code",
   "execution_count": null,
   "metadata": {},
   "outputs": [],
   "source": []
  },
  {
   "cell_type": "code",
   "execution_count": null,
   "metadata": {},
   "outputs": [],
   "source": [
    "def ld_mnist():\n",
    "    \"\"\"Load training and test data.\"\"\"\n",
    "\n",
    "    def convert_types(image, label):\n",
    "        image = tf.cast(image, tf.float32)\n",
    "        image /= 255\n",
    "        return image, label\n",
    "\n",
    "    dataset, info = tfds.load('mnist', \n",
    "                              data_dir='gs://tfds-data/datasets', \n",
    "                              with_info=True,\n",
    "                              as_supervised=True)\n",
    "    mnist_train, mnist_test = dataset['train'], dataset['test']\n",
    "    mnist_train = mnist_train.map(convert_types).shuffle(10000).batch(128)\n",
    "    mnist_test = mnist_test.map(convert_types).batch(128)\n",
    "    return EasyDict(train=mnist_train, test=mnist_test)\n",
    "data = ld_mnist()"
   ]
  },
  {
   "cell_type": "code",
   "execution_count": 10,
   "metadata": {},
   "outputs": [
    {
     "data": {
      "text/plain": [
       "(784,)"
      ]
     },
     "execution_count": 10,
     "metadata": {},
     "output_type": "execute_result"
    }
   ],
   "source": []
  },
  {
   "cell_type": "code",
   "execution_count": 68,
   "metadata": {},
   "outputs": [
    {
     "name": "stdout",
     "output_type": "stream",
     "text": [
      "(784,)\n",
      "(1, 28, 28, 1)\n",
      "(1, 28, 28, 6)\n",
      "(1, 14, 14, 6)\n",
      "(1, 10, 10, 16)\n",
      "(1, 5, 5, 16)\n",
      "(1, 1, 1, 120)\n",
      "(1, 120)\n",
      "(1, 84)\n",
      "(1, 10)\n",
      "(1, 28, 28, 1)\n",
      "(1, 28, 28, 6)\n",
      "(1, 14, 14, 6)\n",
      "(1, 10, 10, 16)\n",
      "(1, 5, 5, 16)\n",
      "(1, 1, 1, 120)\n",
      "(1, 120)\n",
      "(1, 84)\n",
      "(1, 10)\n",
      "(1, 28, 28, 1)\n",
      "(1, 28, 28, 6)\n",
      "(1, 14, 14, 6)\n",
      "(1, 10, 10, 16)\n",
      "(1, 5, 5, 16)\n",
      "(1, 1, 1, 120)\n",
      "(1, 120)\n",
      "(1, 84)\n",
      "(1, 10)\n"
     ]
    },
    {
     "ename": "FailedPreconditionError",
     "evalue": " Error while reading resource variable custom_conv_model_3/batch_normalization/beta_65259 from Container: localhost. This could mean that the variable was uninitialized. Not found: Resource localhost/custom_conv_model_3/batch_normalization/beta_65259/N10tensorflow3VarE does not exist.\n\t [[node custom_conv_model_3/batch_normalization/ReadVariableOp_1 (defined at <ipython-input-56-29a6d4bcc7cd>:17) ]] [Op:__inference_compute_gradient_65384]\n\nFunction call stack:\ncompute_gradient\n",
     "output_type": "error",
     "traceback": [
      "\u001b[0;31m---------------------------------------------------------------------------\u001b[0m",
      "\u001b[0;31mFailedPreconditionError\u001b[0m                   Traceback (most recent call last)",
      "\u001b[0;32m<ipython-input-68-ceea946c6987>\u001b[0m in \u001b[0;36m<module>\u001b[0;34m\u001b[0m\n\u001b[1;32m     12\u001b[0m     \u001b[0mpreds\u001b[0m\u001b[0;34m.\u001b[0m\u001b[0mappend\u001b[0m\u001b[0;34m(\u001b[0m\u001b[0mmodel\u001b[0m\u001b[0;34m(\u001b[0m\u001b[0mx_test\u001b[0m\u001b[0;34m[\u001b[0m\u001b[0mi\u001b[0m\u001b[0;34m]\u001b[0m\u001b[0;34m)\u001b[0m\u001b[0;34m)\u001b[0m\u001b[0;34m\u001b[0m\u001b[0;34m\u001b[0m\u001b[0m\n\u001b[1;32m     13\u001b[0m     \u001b[0;31m#x_fgm = fast_gradient_method(model, x_test[i], .25, np.inf)\u001b[0m\u001b[0;34m\u001b[0m\u001b[0;34m\u001b[0m\u001b[0;34m\u001b[0m\u001b[0m\n\u001b[0;32m---> 14\u001b[0;31m     \u001b[0mx_pgd\u001b[0m \u001b[0;34m=\u001b[0m \u001b[0mprojected_gradient_descent\u001b[0m\u001b[0;34m(\u001b[0m\u001b[0mmodel\u001b[0m\u001b[0;34m,\u001b[0m \u001b[0mx_test\u001b[0m\u001b[0;34m[\u001b[0m\u001b[0mi\u001b[0m\u001b[0;34m]\u001b[0m\u001b[0;34m,\u001b[0m \u001b[0;36m.5\u001b[0m\u001b[0;34m,\u001b[0m \u001b[0;36m0.01\u001b[0m\u001b[0;34m,\u001b[0m \u001b[0;36m40\u001b[0m\u001b[0;34m,\u001b[0m \u001b[0mnp\u001b[0m\u001b[0;34m.\u001b[0m\u001b[0minf\u001b[0m\u001b[0;34m)\u001b[0m\u001b[0;34m\u001b[0m\u001b[0;34m\u001b[0m\u001b[0m\n\u001b[0m\u001b[1;32m     15\u001b[0m     \u001b[0madvs\u001b[0m\u001b[0;34m.\u001b[0m\u001b[0mappend\u001b[0m\u001b[0;34m(\u001b[0m\u001b[0mx_pgd\u001b[0m\u001b[0;34m)\u001b[0m\u001b[0;34m\u001b[0m\u001b[0;34m\u001b[0m\u001b[0m\n\u001b[1;32m     16\u001b[0m     \u001b[0my_pred_fgm\u001b[0m \u001b[0;34m=\u001b[0m \u001b[0mmodel\u001b[0m\u001b[0;34m(\u001b[0m\u001b[0mx_pgd\u001b[0m\u001b[0;34m)\u001b[0m\u001b[0;34m\u001b[0m\u001b[0;34m\u001b[0m\u001b[0m\n",
      "\u001b[0;32m~/dev/cleverhans/cleverhans/future/tf2/attacks/projected_gradient_descent.py\u001b[0m in \u001b[0;36mprojected_gradient_descent\u001b[0;34m(model_fn, x, eps, eps_iter, nb_iter, norm, clip_min, clip_max, y, targeted, rand_init, rand_minmax, sanity_checks)\u001b[0m\n\u001b[1;32m     77\u001b[0m   \u001b[0;32mwhile\u001b[0m \u001b[0mi\u001b[0m \u001b[0;34m<\u001b[0m \u001b[0mnb_iter\u001b[0m\u001b[0;34m:\u001b[0m\u001b[0;34m\u001b[0m\u001b[0;34m\u001b[0m\u001b[0m\n\u001b[1;32m     78\u001b[0m     adv_x = fast_gradient_method(model_fn, adv_x, eps_iter, norm, clip_min=clip_min,\n\u001b[0;32m---> 79\u001b[0;31m                                  clip_max=clip_max, y=y, targeted=targeted)\n\u001b[0m\u001b[1;32m     80\u001b[0m \u001b[0;34m\u001b[0m\u001b[0m\n\u001b[1;32m     81\u001b[0m     \u001b[0;31m# Clipping perturbation eta to norm norm ball\u001b[0m\u001b[0;34m\u001b[0m\u001b[0;34m\u001b[0m\u001b[0;34m\u001b[0m\u001b[0m\n",
      "\u001b[0;32m~/dev/cleverhans/cleverhans/future/tf2/attacks/fast_gradient_method.py\u001b[0m in \u001b[0;36mfast_gradient_method\u001b[0;34m(model_fn, x, eps, norm, clip_min, clip_max, y, targeted, sanity_checks)\u001b[0m\n\u001b[1;32m     43\u001b[0m     \u001b[0my\u001b[0m \u001b[0;34m=\u001b[0m \u001b[0mtf\u001b[0m\u001b[0;34m.\u001b[0m\u001b[0margmax\u001b[0m\u001b[0;34m(\u001b[0m\u001b[0mmodel_fn\u001b[0m\u001b[0;34m(\u001b[0m\u001b[0mx\u001b[0m\u001b[0;34m)\u001b[0m\u001b[0;34m,\u001b[0m \u001b[0;36m1\u001b[0m\u001b[0;34m)\u001b[0m\u001b[0;34m\u001b[0m\u001b[0;34m\u001b[0m\u001b[0m\n\u001b[1;32m     44\u001b[0m \u001b[0;34m\u001b[0m\u001b[0m\n\u001b[0;32m---> 45\u001b[0;31m   \u001b[0mgrad\u001b[0m \u001b[0;34m=\u001b[0m \u001b[0mcompute_gradient\u001b[0m\u001b[0;34m(\u001b[0m\u001b[0mmodel_fn\u001b[0m\u001b[0;34m,\u001b[0m \u001b[0mx\u001b[0m\u001b[0;34m,\u001b[0m \u001b[0my\u001b[0m\u001b[0;34m,\u001b[0m \u001b[0mtargeted\u001b[0m\u001b[0;34m)\u001b[0m\u001b[0;34m\u001b[0m\u001b[0;34m\u001b[0m\u001b[0m\n\u001b[0m\u001b[1;32m     46\u001b[0m \u001b[0;34m\u001b[0m\u001b[0m\n\u001b[1;32m     47\u001b[0m   \u001b[0moptimal_perturbation\u001b[0m \u001b[0;34m=\u001b[0m \u001b[0moptimize_linear\u001b[0m\u001b[0;34m(\u001b[0m\u001b[0mgrad\u001b[0m\u001b[0;34m,\u001b[0m \u001b[0meps\u001b[0m\u001b[0;34m,\u001b[0m \u001b[0mnorm\u001b[0m\u001b[0;34m)\u001b[0m\u001b[0;34m\u001b[0m\u001b[0;34m\u001b[0m\u001b[0m\n",
      "\u001b[0;32m/usr/local/lib/python3.7/site-packages/tensorflow_core/python/eager/def_function.py\u001b[0m in \u001b[0;36m__call__\u001b[0;34m(self, *args, **kwds)\u001b[0m\n\u001b[1;32m    566\u001b[0m         \u001b[0mxla_context\u001b[0m\u001b[0;34m.\u001b[0m\u001b[0mExit\u001b[0m\u001b[0;34m(\u001b[0m\u001b[0;34m)\u001b[0m\u001b[0;34m\u001b[0m\u001b[0;34m\u001b[0m\u001b[0m\n\u001b[1;32m    567\u001b[0m     \u001b[0;32melse\u001b[0m\u001b[0;34m:\u001b[0m\u001b[0;34m\u001b[0m\u001b[0;34m\u001b[0m\u001b[0m\n\u001b[0;32m--> 568\u001b[0;31m       \u001b[0mresult\u001b[0m \u001b[0;34m=\u001b[0m \u001b[0mself\u001b[0m\u001b[0;34m.\u001b[0m\u001b[0m_call\u001b[0m\u001b[0;34m(\u001b[0m\u001b[0;34m*\u001b[0m\u001b[0margs\u001b[0m\u001b[0;34m,\u001b[0m \u001b[0;34m**\u001b[0m\u001b[0mkwds\u001b[0m\u001b[0;34m)\u001b[0m\u001b[0;34m\u001b[0m\u001b[0;34m\u001b[0m\u001b[0m\n\u001b[0m\u001b[1;32m    569\u001b[0m \u001b[0;34m\u001b[0m\u001b[0m\n\u001b[1;32m    570\u001b[0m     \u001b[0;32mif\u001b[0m \u001b[0mtracing_count\u001b[0m \u001b[0;34m==\u001b[0m \u001b[0mself\u001b[0m\u001b[0;34m.\u001b[0m\u001b[0m_get_tracing_count\u001b[0m\u001b[0;34m(\u001b[0m\u001b[0;34m)\u001b[0m\u001b[0;34m:\u001b[0m\u001b[0;34m\u001b[0m\u001b[0;34m\u001b[0m\u001b[0m\n",
      "\u001b[0;32m/usr/local/lib/python3.7/site-packages/tensorflow_core/python/eager/def_function.py\u001b[0m in \u001b[0;36m_call\u001b[0;34m(self, *args, **kwds)\u001b[0m\n\u001b[1;32m    604\u001b[0m       \u001b[0;31m# In this case we have not created variables on the first call. So we can\u001b[0m\u001b[0;34m\u001b[0m\u001b[0;34m\u001b[0m\u001b[0;34m\u001b[0m\u001b[0m\n\u001b[1;32m    605\u001b[0m       \u001b[0;31m# run the first trace but we should fail if variables are created.\u001b[0m\u001b[0;34m\u001b[0m\u001b[0;34m\u001b[0m\u001b[0;34m\u001b[0m\u001b[0m\n\u001b[0;32m--> 606\u001b[0;31m       \u001b[0mresults\u001b[0m \u001b[0;34m=\u001b[0m \u001b[0mself\u001b[0m\u001b[0;34m.\u001b[0m\u001b[0m_stateful_fn\u001b[0m\u001b[0;34m(\u001b[0m\u001b[0;34m*\u001b[0m\u001b[0margs\u001b[0m\u001b[0;34m,\u001b[0m \u001b[0;34m**\u001b[0m\u001b[0mkwds\u001b[0m\u001b[0;34m)\u001b[0m\u001b[0;34m\u001b[0m\u001b[0;34m\u001b[0m\u001b[0m\n\u001b[0m\u001b[1;32m    607\u001b[0m       \u001b[0;32mif\u001b[0m \u001b[0mself\u001b[0m\u001b[0;34m.\u001b[0m\u001b[0m_created_variables\u001b[0m\u001b[0;34m:\u001b[0m\u001b[0;34m\u001b[0m\u001b[0;34m\u001b[0m\u001b[0m\n\u001b[1;32m    608\u001b[0m         raise ValueError(\"Creating variables on a non-first call to a function\"\n",
      "\u001b[0;32m/usr/local/lib/python3.7/site-packages/tensorflow_core/python/eager/function.py\u001b[0m in \u001b[0;36m__call__\u001b[0;34m(self, *args, **kwargs)\u001b[0m\n\u001b[1;32m   2361\u001b[0m     \u001b[0;32mwith\u001b[0m \u001b[0mself\u001b[0m\u001b[0;34m.\u001b[0m\u001b[0m_lock\u001b[0m\u001b[0;34m:\u001b[0m\u001b[0;34m\u001b[0m\u001b[0;34m\u001b[0m\u001b[0m\n\u001b[1;32m   2362\u001b[0m       \u001b[0mgraph_function\u001b[0m\u001b[0;34m,\u001b[0m \u001b[0margs\u001b[0m\u001b[0;34m,\u001b[0m \u001b[0mkwargs\u001b[0m \u001b[0;34m=\u001b[0m \u001b[0mself\u001b[0m\u001b[0;34m.\u001b[0m\u001b[0m_maybe_define_function\u001b[0m\u001b[0;34m(\u001b[0m\u001b[0margs\u001b[0m\u001b[0;34m,\u001b[0m \u001b[0mkwargs\u001b[0m\u001b[0;34m)\u001b[0m\u001b[0;34m\u001b[0m\u001b[0;34m\u001b[0m\u001b[0m\n\u001b[0;32m-> 2363\u001b[0;31m     \u001b[0;32mreturn\u001b[0m \u001b[0mgraph_function\u001b[0m\u001b[0;34m.\u001b[0m\u001b[0m_filtered_call\u001b[0m\u001b[0;34m(\u001b[0m\u001b[0margs\u001b[0m\u001b[0;34m,\u001b[0m \u001b[0mkwargs\u001b[0m\u001b[0;34m)\u001b[0m  \u001b[0;31m# pylint: disable=protected-access\u001b[0m\u001b[0;34m\u001b[0m\u001b[0;34m\u001b[0m\u001b[0m\n\u001b[0m\u001b[1;32m   2364\u001b[0m \u001b[0;34m\u001b[0m\u001b[0m\n\u001b[1;32m   2365\u001b[0m   \u001b[0;34m@\u001b[0m\u001b[0mproperty\u001b[0m\u001b[0;34m\u001b[0m\u001b[0;34m\u001b[0m\u001b[0m\n",
      "\u001b[0;32m/usr/local/lib/python3.7/site-packages/tensorflow_core/python/eager/function.py\u001b[0m in \u001b[0;36m_filtered_call\u001b[0;34m(self, args, kwargs)\u001b[0m\n\u001b[1;32m   1609\u001b[0m          if isinstance(t, (ops.Tensor,\n\u001b[1;32m   1610\u001b[0m                            resource_variable_ops.BaseResourceVariable))),\n\u001b[0;32m-> 1611\u001b[0;31m         self.captured_inputs)\n\u001b[0m\u001b[1;32m   1612\u001b[0m \u001b[0;34m\u001b[0m\u001b[0m\n\u001b[1;32m   1613\u001b[0m   \u001b[0;32mdef\u001b[0m \u001b[0m_call_flat\u001b[0m\u001b[0;34m(\u001b[0m\u001b[0mself\u001b[0m\u001b[0;34m,\u001b[0m \u001b[0margs\u001b[0m\u001b[0;34m,\u001b[0m \u001b[0mcaptured_inputs\u001b[0m\u001b[0;34m,\u001b[0m \u001b[0mcancellation_manager\u001b[0m\u001b[0;34m=\u001b[0m\u001b[0;32mNone\u001b[0m\u001b[0;34m)\u001b[0m\u001b[0;34m:\u001b[0m\u001b[0;34m\u001b[0m\u001b[0;34m\u001b[0m\u001b[0m\n",
      "\u001b[0;32m/usr/local/lib/python3.7/site-packages/tensorflow_core/python/eager/function.py\u001b[0m in \u001b[0;36m_call_flat\u001b[0;34m(self, args, captured_inputs, cancellation_manager)\u001b[0m\n\u001b[1;32m   1690\u001b[0m       \u001b[0;31m# No tape is watching; skip to running the function.\u001b[0m\u001b[0;34m\u001b[0m\u001b[0;34m\u001b[0m\u001b[0;34m\u001b[0m\u001b[0m\n\u001b[1;32m   1691\u001b[0m       return self._build_call_outputs(self._inference_function.call(\n\u001b[0;32m-> 1692\u001b[0;31m           ctx, args, cancellation_manager=cancellation_manager))\n\u001b[0m\u001b[1;32m   1693\u001b[0m     forward_backward = self._select_forward_and_backward_functions(\n\u001b[1;32m   1694\u001b[0m         \u001b[0margs\u001b[0m\u001b[0;34m,\u001b[0m\u001b[0;34m\u001b[0m\u001b[0;34m\u001b[0m\u001b[0m\n",
      "\u001b[0;32m/usr/local/lib/python3.7/site-packages/tensorflow_core/python/eager/function.py\u001b[0m in \u001b[0;36mcall\u001b[0;34m(self, ctx, args, cancellation_manager)\u001b[0m\n\u001b[1;32m    543\u001b[0m               \u001b[0minputs\u001b[0m\u001b[0;34m=\u001b[0m\u001b[0margs\u001b[0m\u001b[0;34m,\u001b[0m\u001b[0;34m\u001b[0m\u001b[0;34m\u001b[0m\u001b[0m\n\u001b[1;32m    544\u001b[0m               \u001b[0mattrs\u001b[0m\u001b[0;34m=\u001b[0m\u001b[0;34m(\u001b[0m\u001b[0;34m\"executor_type\"\u001b[0m\u001b[0;34m,\u001b[0m \u001b[0mexecutor_type\u001b[0m\u001b[0;34m,\u001b[0m \u001b[0;34m\"config_proto\"\u001b[0m\u001b[0;34m,\u001b[0m \u001b[0mconfig\u001b[0m\u001b[0;34m)\u001b[0m\u001b[0;34m,\u001b[0m\u001b[0;34m\u001b[0m\u001b[0;34m\u001b[0m\u001b[0m\n\u001b[0;32m--> 545\u001b[0;31m               ctx=ctx)\n\u001b[0m\u001b[1;32m    546\u001b[0m         \u001b[0;32melse\u001b[0m\u001b[0;34m:\u001b[0m\u001b[0;34m\u001b[0m\u001b[0;34m\u001b[0m\u001b[0m\n\u001b[1;32m    547\u001b[0m           outputs = execute.execute_with_cancellation(\n",
      "\u001b[0;32m/usr/local/lib/python3.7/site-packages/tensorflow_core/python/eager/execute.py\u001b[0m in \u001b[0;36mquick_execute\u001b[0;34m(op_name, num_outputs, inputs, attrs, ctx, name)\u001b[0m\n\u001b[1;32m     65\u001b[0m     \u001b[0;32melse\u001b[0m\u001b[0;34m:\u001b[0m\u001b[0;34m\u001b[0m\u001b[0;34m\u001b[0m\u001b[0m\n\u001b[1;32m     66\u001b[0m       \u001b[0mmessage\u001b[0m \u001b[0;34m=\u001b[0m \u001b[0me\u001b[0m\u001b[0;34m.\u001b[0m\u001b[0mmessage\u001b[0m\u001b[0;34m\u001b[0m\u001b[0;34m\u001b[0m\u001b[0m\n\u001b[0;32m---> 67\u001b[0;31m     \u001b[0msix\u001b[0m\u001b[0;34m.\u001b[0m\u001b[0mraise_from\u001b[0m\u001b[0;34m(\u001b[0m\u001b[0mcore\u001b[0m\u001b[0;34m.\u001b[0m\u001b[0m_status_to_exception\u001b[0m\u001b[0;34m(\u001b[0m\u001b[0me\u001b[0m\u001b[0;34m.\u001b[0m\u001b[0mcode\u001b[0m\u001b[0;34m,\u001b[0m \u001b[0mmessage\u001b[0m\u001b[0;34m)\u001b[0m\u001b[0;34m,\u001b[0m \u001b[0;32mNone\u001b[0m\u001b[0;34m)\u001b[0m\u001b[0;34m\u001b[0m\u001b[0;34m\u001b[0m\u001b[0m\n\u001b[0m\u001b[1;32m     68\u001b[0m   \u001b[0;32mexcept\u001b[0m \u001b[0mTypeError\u001b[0m \u001b[0;32mas\u001b[0m \u001b[0me\u001b[0m\u001b[0;34m:\u001b[0m\u001b[0;34m\u001b[0m\u001b[0;34m\u001b[0m\u001b[0m\n\u001b[1;32m     69\u001b[0m     keras_symbolic_tensors = [\n",
      "\u001b[0;32m/usr/local/Cellar/ipython/7.7.0/libexec/vendor/lib/python3.7/site-packages/six.py\u001b[0m in \u001b[0;36mraise_from\u001b[0;34m(value, from_value)\u001b[0m\n",
      "\u001b[0;31mFailedPreconditionError\u001b[0m:  Error while reading resource variable custom_conv_model_3/batch_normalization/beta_65259 from Container: localhost. This could mean that the variable was uninitialized. Not found: Resource localhost/custom_conv_model_3/batch_normalization/beta_65259/N10tensorflow3VarE does not exist.\n\t [[node custom_conv_model_3/batch_normalization/ReadVariableOp_1 (defined at <ipython-input-56-29a6d4bcc7cd>:17) ]] [Op:__inference_compute_gradient_65384]\n\nFunction call stack:\ncompute_gradient\n"
     ]
    }
   ],
   "source": [
    "eps = .2\n",
    "#x = data.test.take(1)\n",
    "advs = []\n",
    "preds = []\n",
    "adv_preds = []\n",
    "\n",
    "for i in range(10):\n",
    "    x = x_test[i]#.reshape((28,28,1))\n",
    "    print(x.shape)\n",
    "    #y_pred = model(x)\n",
    "    #test_acc_clean(y, y_pred)\n",
    "    preds.append(model(x_test[i]))\n",
    "    #x_fgm = fast_gradient_method(model, x_test[i], .25, np.inf)\n",
    "    x_pgd = projected_gradient_descent(model, x_test[i], .2, 0.01, 40, np.inf)\n",
    "    advs.append(x_pgd)\n",
    "    y_pred_fgm = model(x_pgd)\n",
    "    adv_preds.append(y_pred_fgm)\n",
    "    #test_acc_fgsm(y_test[i], y_pred_fgm)"
   ]
  },
  {
   "cell_type": "code",
   "execution_count": 45,
   "metadata": {},
   "outputs": [
    {
     "data": {
      "text/plain": [
       "[<tf.Tensor: shape=(1, 10), dtype=float32, numpy=\n",
       " array([[1.5737187e-12, 1.0706759e-09, 5.4812085e-13, 9.9968553e-01,\n",
       "         1.4514441e-07, 8.0126221e-05, 6.3448751e-14, 1.9334652e-18,\n",
       "         7.7577510e-12, 2.3430106e-04]], dtype=float32)>,\n",
       " <tf.Tensor: shape=(1, 10), dtype=float32, numpy=\n",
       " array([[4.6621690e-10, 1.0692909e-11, 1.0000000e+00, 1.7553202e-10,\n",
       "         3.8383426e-20, 7.5098566e-11, 6.5398238e-12, 2.4605982e-14,\n",
       "         3.5703709e-10, 4.6205559e-20]], dtype=float32)>,\n",
       " <tf.Tensor: shape=(1, 10), dtype=float32, numpy=\n",
       " array([[2.8417220e-16, 1.0000000e+00, 4.0348040e-09, 8.1193553e-13,\n",
       "         1.2328502e-13, 3.2742309e-11, 1.0803149e-09, 9.4257454e-18,\n",
       "         2.3411191e-09, 5.7201101e-15]], dtype=float32)>,\n",
       " <tf.Tensor: shape=(1, 10), dtype=float32, numpy=\n",
       " array([[1.0000000e+00, 2.7668981e-15, 5.7501460e-12, 2.2685742e-10,\n",
       "         1.1416085e-12, 1.6638741e-13, 8.7135682e-10, 1.9949954e-18,\n",
       "         1.9139745e-10, 9.6524058e-13]], dtype=float32)>,\n",
       " <tf.Tensor: shape=(1, 10), dtype=float32, numpy=\n",
       " array([[1.2287288e-19, 6.1962168e-14, 1.1935679e-18, 3.1729324e-21,\n",
       "         1.0000000e+00, 5.5256516e-13, 1.2976419e-13, 4.4793439e-24,\n",
       "         2.5159544e-17, 1.4026548e-09]], dtype=float32)>,\n",
       " <tf.Tensor: shape=(1, 10), dtype=float32, numpy=\n",
       " array([[3.2846601e-21, 1.0000000e+00, 8.8653532e-17, 1.1704646e-10,\n",
       "         2.7250185e-16, 5.4324953e-14, 5.8678245e-18, 1.1464896e-20,\n",
       "         2.9689995e-10, 1.4694319e-12]], dtype=float32)>,\n",
       " <tf.Tensor: shape=(1, 10), dtype=float32, numpy=\n",
       " array([[5.1982737e-23, 8.8199298e-14, 4.1431175e-21, 5.9312878e-18,\n",
       "         1.0000000e+00, 1.0859899e-13, 3.8301573e-17, 1.2157252e-27,\n",
       "         7.7115288e-16, 1.0742543e-11]], dtype=float32)>,\n",
       " <tf.Tensor: shape=(1, 10), dtype=float32, numpy=\n",
       " array([[2.0369278e-13, 2.2991554e-10, 9.7033221e-13, 1.3538800e-09,\n",
       "         9.7768563e-01, 5.4502658e-07, 1.4499348e-06, 3.1094824e-17,\n",
       "         1.4894328e-09, 2.2312446e-02]], dtype=float32)>,\n",
       " <tf.Tensor: shape=(1, 10), dtype=float32, numpy=\n",
       " array([[1.0678158e-14, 2.1921354e-11, 9.8394570e-10, 2.4583010e-13,\n",
       "         1.8326503e-10, 3.4128199e-04, 9.9965870e-01, 1.2278570e-16,\n",
       "         4.8320224e-13, 2.1011128e-09]], dtype=float32)>,\n",
       " <tf.Tensor: shape=(1, 10), dtype=float32, numpy=\n",
       " array([[5.1177875e-20, 1.3912182e-14, 4.0339578e-24, 1.0335240e-15,\n",
       "         2.7574144e-08, 1.9184030e-15, 2.3612459e-20, 3.8523120e-25,\n",
       "         7.2399218e-15, 1.0000000e+00]], dtype=float32)>]"
      ]
     },
     "execution_count": 45,
     "metadata": {},
     "output_type": "execute_result"
    }
   ],
   "source": [
    "preds"
   ]
  },
  {
   "cell_type": "code",
   "execution_count": 46,
   "metadata": {},
   "outputs": [],
   "source": [
    "po = [np.argmax(x) for x in preds]"
   ]
  },
  {
   "cell_type": "code",
   "execution_count": 47,
   "metadata": {},
   "outputs": [
    {
     "data": {
      "text/plain": [
       "[3, 2, 1, 0, 4, 1, 4, 4, 6, 9]"
      ]
     },
     "execution_count": 47,
     "metadata": {},
     "output_type": "execute_result"
    }
   ],
   "source": [
    "po"
   ]
  },
  {
   "cell_type": "code",
   "execution_count": 48,
   "metadata": {},
   "outputs": [
    {
     "data": {
      "text/plain": [
       "[9, 2, 1, 6, 9, 1, 9, 9, 4, 4]"
      ]
     },
     "execution_count": 48,
     "metadata": {},
     "output_type": "execute_result"
    }
   ],
   "source": [
    "pa = [np.argmax(x) for x in adv_preds]\n",
    "pa"
   ]
  },
  {
   "cell_type": "code",
   "execution_count": 49,
   "metadata": {},
   "outputs": [
    {
     "data": {
      "text/plain": [
       "array([0.        , 0.        , 0.        , 0.        , 0.        ,\n",
       "       0.        , 0.        , 0.        , 0.        , 0.        ,\n",
       "       0.        , 0.        , 0.        , 0.        , 0.        ,\n",
       "       0.        , 0.        , 0.        , 0.        , 0.        ,\n",
       "       0.        , 0.        , 0.        , 0.        , 0.        ,\n",
       "       0.        , 0.        , 0.        , 0.        , 0.        ,\n",
       "       0.        , 0.        , 0.        , 0.        , 0.        ,\n",
       "       0.        , 0.        , 0.        , 0.        , 0.        ,\n",
       "       0.        , 0.        , 0.        , 0.        , 0.        ,\n",
       "       0.        , 0.        , 0.        , 0.        , 0.        ,\n",
       "       0.        , 0.        , 0.        , 0.        , 0.        ,\n",
       "       0.        , 0.        , 0.        , 0.        , 0.        ,\n",
       "       0.        , 0.        , 0.        , 0.        , 0.        ,\n",
       "       0.        , 0.        , 0.        , 0.        , 0.        ,\n",
       "       0.        , 0.        , 0.        , 0.        , 0.        ,\n",
       "       0.        , 0.        , 0.        , 0.        , 0.        ,\n",
       "       0.        , 0.        , 0.        , 0.        , 0.        ,\n",
       "       0.        , 0.        , 0.        , 0.        , 0.        ,\n",
       "       0.        , 0.        , 0.        , 0.        , 0.        ,\n",
       "       0.        , 0.        , 0.        , 0.        , 0.        ,\n",
       "       0.        , 0.        , 0.        , 0.        , 0.        ,\n",
       "       0.        , 0.        , 0.        , 0.        , 0.        ,\n",
       "       0.        , 0.        , 0.        , 0.        , 0.        ,\n",
       "       0.        , 0.        , 0.        , 0.        , 0.        ,\n",
       "       0.        , 0.        , 0.        , 0.        , 0.        ,\n",
       "       0.        , 0.        , 0.        , 0.        , 0.        ,\n",
       "       0.        , 0.        , 0.        , 0.        , 0.        ,\n",
       "       0.        , 0.        , 0.        , 0.        , 0.        ,\n",
       "       0.        , 0.        , 0.        , 0.        , 0.        ,\n",
       "       0.        , 0.        , 0.        , 0.        , 0.        ,\n",
       "       0.        , 0.        , 0.        , 0.        , 0.        ,\n",
       "       0.        , 0.        , 0.        , 0.        , 0.        ,\n",
       "       0.        , 0.        , 0.        , 0.        , 0.        ,\n",
       "       0.        , 0.        , 0.        , 0.        , 0.        ,\n",
       "       0.        , 0.        , 0.        , 0.        , 0.        ,\n",
       "       0.        , 0.        , 0.        , 0.        , 0.        ,\n",
       "       0.        , 0.        , 0.        , 0.        , 0.        ,\n",
       "       0.        , 0.        , 0.        , 0.        , 0.        ,\n",
       "       0.        , 0.        , 0.        , 0.        , 0.        ,\n",
       "       0.        , 0.        , 0.        , 0.        , 0.        ,\n",
       "       0.        , 0.        , 0.32941177, 0.7254902 , 0.62352943,\n",
       "       0.5921569 , 0.23529412, 0.14117648, 0.        , 0.        ,\n",
       "       0.        , 0.        , 0.        , 0.        , 0.        ,\n",
       "       0.        , 0.        , 0.        , 0.        , 0.        ,\n",
       "       0.        , 0.        , 0.        , 0.        , 0.        ,\n",
       "       0.        , 0.        , 0.        , 0.        , 0.        ,\n",
       "       0.87058824, 0.99607843, 0.99607843, 0.99607843, 0.99607843,\n",
       "       0.94509804, 0.7764706 , 0.7764706 , 0.7764706 , 0.7764706 ,\n",
       "       0.7764706 , 0.7764706 , 0.7764706 , 0.7764706 , 0.6666667 ,\n",
       "       0.20392157, 0.        , 0.        , 0.        , 0.        ,\n",
       "       0.        , 0.        , 0.        , 0.        , 0.        ,\n",
       "       0.        , 0.        , 0.        , 0.2627451 , 0.44705883,\n",
       "       0.28235295, 0.44705883, 0.6392157 , 0.8901961 , 0.99607843,\n",
       "       0.88235295, 0.99607843, 0.99607843, 0.99607843, 0.98039216,\n",
       "       0.8980392 , 0.99607843, 0.99607843, 0.54901963, 0.        ,\n",
       "       0.        , 0.        , 0.        , 0.        , 0.        ,\n",
       "       0.        , 0.        , 0.        , 0.        , 0.        ,\n",
       "       0.        , 0.        , 0.        , 0.        , 0.        ,\n",
       "       0.        , 0.06666667, 0.25882354, 0.05490196, 0.2627451 ,\n",
       "       0.2627451 , 0.2627451 , 0.23137255, 0.08235294, 0.9254902 ,\n",
       "       0.99607843, 0.41568628, 0.        , 0.        , 0.        ,\n",
       "       0.        , 0.        , 0.        , 0.        , 0.        ,\n",
       "       0.        , 0.        , 0.        , 0.        , 0.        ,\n",
       "       0.        , 0.        , 0.        , 0.        , 0.        ,\n",
       "       0.        , 0.        , 0.        , 0.        , 0.        ,\n",
       "       0.        , 0.3254902 , 0.99215686, 0.81960785, 0.07058824,\n",
       "       0.        , 0.        , 0.        , 0.        , 0.        ,\n",
       "       0.        , 0.        , 0.        , 0.        , 0.        ,\n",
       "       0.        , 0.        , 0.        , 0.        , 0.        ,\n",
       "       0.        , 0.        , 0.        , 0.        , 0.        ,\n",
       "       0.        , 0.        , 0.        , 0.08627451, 0.9137255 ,\n",
       "       1.        , 0.3254902 , 0.        , 0.        , 0.        ,\n",
       "       0.        , 0.        , 0.        , 0.        , 0.        ,\n",
       "       0.        , 0.        , 0.        , 0.        , 0.        ,\n",
       "       0.        , 0.        , 0.        , 0.        , 0.        ,\n",
       "       0.        , 0.        , 0.        , 0.        , 0.        ,\n",
       "       0.        , 0.5058824 , 0.99607843, 0.93333334, 0.17254902,\n",
       "       0.        , 0.        , 0.        , 0.        , 0.        ,\n",
       "       0.        , 0.        , 0.        , 0.        , 0.        ,\n",
       "       0.        , 0.        , 0.        , 0.        , 0.        ,\n",
       "       0.        , 0.        , 0.        , 0.        , 0.        ,\n",
       "       0.        , 0.        , 0.        , 0.23137255, 0.9764706 ,\n",
       "       0.99607843, 0.24313726, 0.        , 0.        , 0.        ,\n",
       "       0.        , 0.        , 0.        , 0.        , 0.        ,\n",
       "       0.        , 0.        , 0.        , 0.        , 0.        ,\n",
       "       0.        , 0.        , 0.        , 0.        , 0.        ,\n",
       "       0.        , 0.        , 0.        , 0.        , 0.        ,\n",
       "       0.        , 0.52156866, 0.99607843, 0.73333335, 0.01960784,\n",
       "       0.        , 0.        , 0.        , 0.        , 0.        ,\n",
       "       0.        , 0.        , 0.        , 0.        , 0.        ,\n",
       "       0.        , 0.        , 0.        , 0.        , 0.        ,\n",
       "       0.        , 0.        , 0.        , 0.        , 0.        ,\n",
       "       0.        , 0.        , 0.        , 0.03529412, 0.8039216 ,\n",
       "       0.972549  , 0.22745098, 0.        , 0.        , 0.        ,\n",
       "       0.        , 0.        , 0.        , 0.        , 0.        ,\n",
       "       0.        , 0.        , 0.        , 0.        , 0.        ,\n",
       "       0.        , 0.        , 0.        , 0.        , 0.        ,\n",
       "       0.        , 0.        , 0.        , 0.        , 0.        ,\n",
       "       0.        , 0.49411765, 0.99607843, 0.7137255 , 0.        ,\n",
       "       0.        , 0.        , 0.        , 0.        , 0.        ,\n",
       "       0.        , 0.        , 0.        , 0.        , 0.        ,\n",
       "       0.        , 0.        , 0.        , 0.        , 0.        ,\n",
       "       0.        , 0.        , 0.        , 0.        , 0.        ,\n",
       "       0.        , 0.        , 0.        , 0.29411766, 0.9843137 ,\n",
       "       0.9411765 , 0.22352941, 0.        , 0.        , 0.        ,\n",
       "       0.        , 0.        , 0.        , 0.        , 0.        ,\n",
       "       0.        , 0.        , 0.        , 0.        , 0.        ,\n",
       "       0.        , 0.        , 0.        , 0.        , 0.        ,\n",
       "       0.        , 0.        , 0.        , 0.        , 0.        ,\n",
       "       0.07450981, 0.8666667 , 0.99607843, 0.6509804 , 0.        ,\n",
       "       0.        , 0.        , 0.        , 0.        , 0.        ,\n",
       "       0.        , 0.        , 0.        , 0.        , 0.        ,\n",
       "       0.        , 0.        , 0.        , 0.        , 0.        ,\n",
       "       0.        , 0.        , 0.        , 0.        , 0.        ,\n",
       "       0.        , 0.        , 0.01176471, 0.79607844, 0.99607843,\n",
       "       0.85882354, 0.13725491, 0.        , 0.        , 0.        ,\n",
       "       0.        , 0.        , 0.        , 0.        , 0.        ,\n",
       "       0.        , 0.        , 0.        , 0.        , 0.        ,\n",
       "       0.        , 0.        , 0.        , 0.        , 0.        ,\n",
       "       0.        , 0.        , 0.        , 0.        , 0.        ,\n",
       "       0.14901961, 0.99607843, 0.99607843, 0.3019608 , 0.        ,\n",
       "       0.        , 0.        , 0.        , 0.        , 0.        ,\n",
       "       0.        , 0.        , 0.        , 0.        , 0.        ,\n",
       "       0.        , 0.        , 0.        , 0.        , 0.        ,\n",
       "       0.        , 0.        , 0.        , 0.        , 0.        ,\n",
       "       0.        , 0.        , 0.12156863, 0.8784314 , 0.99607843,\n",
       "       0.4509804 , 0.00392157, 0.        , 0.        , 0.        ,\n",
       "       0.        , 0.        , 0.        , 0.        , 0.        ,\n",
       "       0.        , 0.        , 0.        , 0.        , 0.        ,\n",
       "       0.        , 0.        , 0.        , 0.        , 0.        ,\n",
       "       0.        , 0.        , 0.        , 0.        , 0.        ,\n",
       "       0.52156866, 0.99607843, 0.99607843, 0.20392157, 0.        ,\n",
       "       0.        , 0.        , 0.        , 0.        , 0.        ,\n",
       "       0.        , 0.        , 0.        , 0.        , 0.        ,\n",
       "       0.        , 0.        , 0.        , 0.        , 0.        ,\n",
       "       0.        , 0.        , 0.        , 0.        , 0.        ,\n",
       "       0.        , 0.        , 0.23921569, 0.9490196 , 0.99607843,\n",
       "       0.99607843, 0.20392157, 0.        , 0.        , 0.        ,\n",
       "       0.        , 0.        , 0.        , 0.        , 0.        ,\n",
       "       0.        , 0.        , 0.        , 0.        , 0.        ,\n",
       "       0.        , 0.        , 0.        , 0.        , 0.        ,\n",
       "       0.        , 0.        , 0.        , 0.        , 0.        ,\n",
       "       0.4745098 , 0.99607843, 0.99607843, 0.85882354, 0.15686275,\n",
       "       0.        , 0.        , 0.        , 0.        , 0.        ,\n",
       "       0.        , 0.        , 0.        , 0.        , 0.        ,\n",
       "       0.        , 0.        , 0.        , 0.        , 0.        ,\n",
       "       0.        , 0.        , 0.        , 0.        , 0.        ,\n",
       "       0.        , 0.        , 0.        , 0.4745098 , 0.99607843,\n",
       "       0.8117647 , 0.07058824, 0.        , 0.        , 0.        ,\n",
       "       0.        , 0.        , 0.        , 0.        , 0.        ,\n",
       "       0.        , 0.        , 0.        , 0.        , 0.        ,\n",
       "       0.        , 0.        , 0.        , 0.        , 0.        ,\n",
       "       0.        , 0.        , 0.        , 0.        , 0.        ,\n",
       "       0.        , 0.        , 0.        , 0.        , 0.        ,\n",
       "       0.        , 0.        , 0.        , 0.        , 0.        ,\n",
       "       0.        , 0.        , 0.        , 0.        , 0.        ,\n",
       "       0.        , 0.        , 0.        , 0.        ], dtype=float32)"
      ]
     },
     "execution_count": 49,
     "metadata": {},
     "output_type": "execute_result"
    }
   ],
   "source": [
    "x_test[:10][0]"
   ]
  },
  {
   "cell_type": "code",
   "execution_count": 50,
   "metadata": {},
   "outputs": [
    {
     "data": {
      "text/plain": [
       "<tf.Tensor: shape=(784,), dtype=float32, numpy=\n",
       "array([-0.04      ,  0.07999999,  0.11999998, -0.02      ,  0.02      ,\n",
       "       -0.04      , -0.02      , -0.07999999, -0.02      , -0.05999999,\n",
       "       -0.05999999,  0.        , -0.04      ,  0.05999999, -0.05999999,\n",
       "       -0.07999999,  0.07999999,  0.09999999,  0.04      , -0.02      ,\n",
       "       -0.02      ,  0.02      ,  0.02      , -0.09999999, -0.05999999,\n",
       "       -0.04      , -0.02      ,  0.        , -0.02      ,  0.05999999,\n",
       "        0.02      ,  0.        ,  0.        ,  0.05999999, -0.02      ,\n",
       "        0.02      ,  0.        , -0.05999999, -0.02      ,  0.02      ,\n",
       "        0.04      , -0.11999998, -0.09999999, -0.04      ,  0.02      ,\n",
       "        0.07999999, -0.02      , -0.05999999,  0.05999999,  0.11999998,\n",
       "        0.16      , -0.09999999,  0.04      , -0.09999999,  0.        ,\n",
       "        0.        ,  0.04      ,  0.07999999,  0.05999999, -0.02      ,\n",
       "        0.04      ,  0.05999999,  0.05999999, -0.04      ,  0.04      ,\n",
       "        0.02      , -0.04      , -0.02      ,  0.        ,  0.02      ,\n",
       "        0.        ,  0.02      ,  0.11999998,  0.04      ,  0.04      ,\n",
       "        0.07999999, -0.07999999, -0.04      ,  0.        ,  0.        ,\n",
       "       -0.05999999,  0.        ,  0.02      ,  0.        ,  0.05999999,\n",
       "        0.05999999,  0.07999999,  0.        ,  0.04      ,  0.02      ,\n",
       "        0.05999999,  0.04      ,  0.02      ,  0.02      , -0.07999999,\n",
       "        0.05999999,  0.02      , -0.05999999,  0.02      ,  0.07999999,\n",
       "        0.09999999, -0.02      ,  0.02      ,  0.02      , -0.04      ,\n",
       "        0.        , -0.04      , -0.09999999, -0.04      , -0.02      ,\n",
       "        0.02      ,  0.        , -0.02      , -0.02      ,  0.04      ,\n",
       "        0.02      ,  0.04      , -0.02      , -0.02      ,  0.02      ,\n",
       "       -0.07999999, -0.05999999, -0.07999999, -0.07999999, -0.04      ,\n",
       "       -0.16      , -0.07999999,  0.        , -0.04      ,  0.02      ,\n",
       "        0.05999999,  0.04      ,  0.05999999, -0.02      ,  0.        ,\n",
       "       -0.02      , -0.02      ,  0.07999999,  0.04      ,  0.04      ,\n",
       "       -0.04      , -0.04      , -0.02      , -0.02      , -0.05999999,\n",
       "       -0.02      , -0.09999999,  0.        , -0.09999999, -0.16      ,\n",
       "       -0.07999999, -0.09999999, -0.05999999, -0.07999999, -0.05999999,\n",
       "       -0.02      ,  0.        ,  0.11999998,  0.05999999, -0.02      ,\n",
       "        0.05999999, -0.07999999, -0.04      , -0.02      ,  0.        ,\n",
       "        0.02      ,  0.07999999,  0.        , -0.05999999, -0.09999999,\n",
       "       -0.04      , -0.04      , -0.07999999, -0.11999998,  0.04      ,\n",
       "       -0.04      , -0.04      , -0.04      , -0.09999999, -0.07999999,\n",
       "       -0.05999999, -0.04      ,  0.02      ,  0.        ,  0.05999999,\n",
       "       -0.02      , -0.09999999, -0.05999999,  0.05999999, -0.02      ,\n",
       "       -0.02      , -0.07999999,  0.05999999,  0.05999999,  0.        ,\n",
       "        0.02      , -0.02      , -0.16      ,  0.02      ,  0.02      ,\n",
       "       -0.07999999, -0.04      ,  0.3094118 ,  0.80549014,  0.5835295 ,\n",
       "        0.61215687,  0.2352941 ,  0.1811765 ,  0.02      ,  0.        ,\n",
       "        0.05999999,  0.02      ,  0.09999999,  0.04      , -0.09999999,\n",
       "       -0.02      ,  0.        ,  0.04      , -0.04      , -0.04      ,\n",
       "        0.04      ,  0.        ,  0.02      , -0.02      , -0.07999999,\n",
       "       -0.04      ,  0.        ,  0.        ,  0.02      ,  0.04      ,\n",
       "        0.85058826,  1.0760784 ,  1.0160785 ,  0.9960785 ,  1.0560784 ,\n",
       "        1.025098  ,  0.73647064,  0.8564705 ,  0.81647056,  0.7964706 ,\n",
       "        0.7564706 ,  0.7564706 ,  0.73647064,  0.6564707 ,  0.7266666 ,\n",
       "        0.22392158, -0.09999999, -0.04      ,  0.        ,  0.04      ,\n",
       "       -0.02      ,  0.04      , -0.09999999, -0.04      ,  0.02      ,\n",
       "        0.07999999,  0.11999998,  0.11999998,  0.34274504,  0.46705884,\n",
       "        0.30235294,  0.54705876,  0.6392157 ,  0.8701961 ,  1.0160785 ,\n",
       "        0.9023529 ,  0.9960785 ,  0.9360785 ,  0.9560785 ,  0.9803922 ,\n",
       "        0.8380393 ,  0.93607855,  0.93607855,  0.5890196 , -0.05999999,\n",
       "        0.        ,  0.04      ,  0.04      ,  0.05999999,  0.04      ,\n",
       "       -0.02      , -0.02      ,  0.04      ,  0.09999999,  0.09999999,\n",
       "        0.07999999, -0.04      , -0.04      ,  0.        , -0.02      ,\n",
       "       -0.09999999,  0.00666668,  0.15882349,  0.03490197,  0.32274505,\n",
       "        0.2627451 ,  0.2227451 ,  0.33137247,  0.08235294,  0.9054902 ,\n",
       "        1.0560784 ,  0.35568634, -0.02      ,  0.02      ,  0.05999999,\n",
       "        0.        ,  0.02      ,  0.        , -0.02      , -0.04      ,\n",
       "        0.        ,  0.02      ,  0.07999999,  0.09999999, -0.04      ,\n",
       "       -0.05999999, -0.02      ,  0.09999999,  0.        , -0.04      ,\n",
       "        0.02      ,  0.02      ,  0.04      , -0.04      , -0.05999999,\n",
       "        0.        ,  0.36549017,  0.91215694,  0.93960774,  0.11058823,\n",
       "        0.05999999,  0.05999999,  0.02      ,  0.04      , -0.04      ,\n",
       "       -0.02      ,  0.        ,  0.        ,  0.05999999,  0.09999999,\n",
       "        0.09999999,  0.09999999, -0.02      , -0.04      ,  0.        ,\n",
       "        0.09999999, -0.05999999, -0.07999999,  0.13999999,  0.05999999,\n",
       "       -0.04      , -0.11999998,  0.11999998,  0.08627452,  1.0137254 ,\n",
       "        1.1199999 ,  0.3454902 ,  0.09999999,  0.09999999,  0.04      ,\n",
       "        0.05999999,  0.02      , -0.09999999,  0.        ,  0.05999999,\n",
       "        0.02      ,  0.05999999,  0.        ,  0.07999999,  0.09999999,\n",
       "       -0.02      ,  0.        ,  0.04      ,  0.05999999, -0.02      ,\n",
       "        0.02      ,  0.05999999, -0.05999999, -0.07999999,  0.05999999,\n",
       "        0.        ,  0.5858823 ,  1.0160785 ,  1.0333333 ,  0.17254902,\n",
       "        0.05999999,  0.        ,  0.05999999,  0.        , -0.09999999,\n",
       "       -0.11999998,  0.02      ,  0.05999999,  0.13999999,  0.04      ,\n",
       "        0.04      ,  0.13999999,  0.09999999, -0.04      , -0.02      ,\n",
       "        0.18      ,  0.02      , -0.05999999, -0.02      ,  0.        ,\n",
       "       -0.02      ,  0.05999999,  0.05999999,  0.2913725 ,  0.91647065,\n",
       "        0.9960785 ,  0.28313723,  0.11999998, -0.09999999,  0.02      ,\n",
       "        0.11999998,  0.02      , -0.02      , -0.04      ,  0.04      ,\n",
       "        0.04      ,  0.09999999,  0.05999999,  0.        ,  0.04      ,\n",
       "        0.05999999,  0.02      , -0.02      ,  0.05999999,  0.02      ,\n",
       "       -0.09999999, -0.05999999, -0.05999999,  0.        ,  0.02      ,\n",
       "        0.07999999,  0.54156864,  0.99607843,  0.7733333 ,  0.07960784,\n",
       "       -0.02      , -0.04      ,  0.        , -0.04      , -0.04      ,\n",
       "        0.07999999, -0.02      ,  0.        ,  0.07999999,  0.09999999,\n",
       "        0.13999999, -0.04      ,  0.07999999,  0.05999999, -0.05999999,\n",
       "       -0.05999999, -0.05999999,  0.05999999, -0.11999998, -0.02      ,\n",
       "       -0.02      ,  0.05999999,  0.02      ,  0.09529411,  0.9039215 ,\n",
       "        0.972549  ,  0.20745097,  0.04      ,  0.02      , -0.04      ,\n",
       "        0.07999999,  0.        , -0.11999998, -0.02      , -0.02      ,\n",
       "        0.        ,  0.09999999,  0.07999999,  0.02      ,  0.        ,\n",
       "        0.07999999,  0.07999999, -0.04      ,  0.        ,  0.05999999,\n",
       "        0.02      , -0.02      ,  0.04      ,  0.02      ,  0.02      ,\n",
       "        0.05999999,  0.45411772,  0.9760785 ,  0.6937255 , -0.02      ,\n",
       "       -0.04      , -0.02      , -0.02      ,  0.        ,  0.07999999,\n",
       "        0.02      , -0.05999999, -0.09999999, -0.05999999, -0.02      ,\n",
       "        0.        ,  0.04      ,  0.        ,  0.05999999,  0.02      ,\n",
       "       -0.09999999,  0.        ,  0.05999999,  0.02      ,  0.05999999,\n",
       "        0.11999998,  0.05999999,  0.04      ,  0.37411758,  0.9843137 ,\n",
       "        1.0211765 ,  0.16352938, -0.02      , -0.02      ,  0.02      ,\n",
       "        0.04      ,  0.09999999,  0.09999999,  0.09999999,  0.09999999,\n",
       "       -0.09999999, -0.11999998,  0.02      , -0.04      , -0.02      ,\n",
       "       -0.02      , -0.02      ,  0.02      , -0.07999999, -0.04      ,\n",
       "        0.02      ,  0.04      ,  0.05999999,  0.02      ,  0.        ,\n",
       "        0.07450981,  0.88666666,  1.0160785 ,  0.61098045, -0.02      ,\n",
       "       -0.02      ,  0.02      ,  0.04      ,  0.11999998,  0.02      ,\n",
       "        0.        ,  0.13999999,  0.04      , -0.09999999, -0.07999999,\n",
       "        0.        , -0.04      ,  0.        ,  0.        ,  0.02      ,\n",
       "       -0.05999999, -0.04      , -0.04      ,  0.04      ,  0.02      ,\n",
       "        0.05999999,  0.04      ,  0.01176468,  0.8160784 ,  0.9960785 ,\n",
       "        0.8788235 ,  0.15725492,  0.09999999,  0.        ,  0.        ,\n",
       "       -0.02      , -0.05999999, -0.02      , -0.02      ,  0.09999999,\n",
       "        0.04      , -0.09999999, -0.04      , -0.02      ,  0.04      ,\n",
       "        0.02      ,  0.02      , -0.05999999, -0.04      ,  0.05999999,\n",
       "       -0.04      , -0.04      ,  0.07999999,  0.02      ,  0.05999999,\n",
       "        0.08901961,  0.9560785 ,  0.91607857,  0.3019608 , -0.09999999,\n",
       "        0.02      , -0.05999999,  0.        , -0.04      , -0.07999999,\n",
       "       -0.04      , -0.04      ,  0.07999999, -0.02      , -0.02      ,\n",
       "        0.        ,  0.        , -0.04      ,  0.07999999,  0.09999999,\n",
       "        0.        , -0.02      , -0.02      ,  0.04      , -0.02      ,\n",
       "       -0.02      ,  0.07999999,  0.12156863,  1.0184313 ,  0.9760785 ,\n",
       "        0.3309805 , -0.09607842,  0.05999999, -0.09999999,  0.07999999,\n",
       "        0.04      , -0.07999999, -0.04      , -0.05999999, -0.07999999,\n",
       "       -0.05999999, -0.04      , -0.04      , -0.05999999,  0.04      ,\n",
       "       -0.04      ,  0.05999999,  0.07999999,  0.02      , -0.04      ,\n",
       "        0.05999999, -0.02      ,  0.        ,  0.02      , -0.02      ,\n",
       "        0.52156866,  1.0560784 ,  0.93607855,  0.32392153,  0.        ,\n",
       "       -0.07999999,  0.02      ,  0.05999999,  0.09999999,  0.05999999,\n",
       "        0.        ,  0.05999999,  0.04      , -0.07999999, -0.18      ,\n",
       "       -0.09999999, -0.05999999,  0.02      , -0.05999999,  0.09999999,\n",
       "        0.09999999, -0.05999999,  0.05999999,  0.02      , -0.04      ,\n",
       "        0.        ,  0.02      ,  0.15921563,  0.9490196 ,  1.0760784 ,\n",
       "        0.9960785 ,  0.14392154, -0.02      , -0.07999999, -0.05999999,\n",
       "        0.07999999,  0.09999999,  0.13999999,  0.04      ,  0.05999999,\n",
       "        0.04      , -0.05999999, -0.04      , -0.04      , -0.05999999,\n",
       "       -0.04      , -0.04      ,  0.        ,  0.02      ,  0.02      ,\n",
       "        0.07999999, -0.07999999, -0.11999998,  0.05999999, -0.02      ,\n",
       "        0.49450982,  1.0360785 ,  1.0360785 ,  0.85882354,  0.15686275,\n",
       "       -0.02      , -0.13999999, -0.11999998,  0.02      ,  0.04      ,\n",
       "        0.13999999,  0.02      ,  0.02      ,  0.        ,  0.        ,\n",
       "       -0.02      ,  0.05999999,  0.02      , -0.09999999, -0.09999999,\n",
       "        0.        , -0.04      , -0.05999999, -0.07999999,  0.        ,\n",
       "       -0.07999999, -0.02      , -0.02      ,  0.5145098 ,  1.0560784 ,\n",
       "        0.9117646 ,  0.13058823,  0.05999999,  0.04      , -0.04      ,\n",
       "       -0.04      ,  0.02      ,  0.02      ,  0.04      , -0.05999999,\n",
       "       -0.04      ,  0.        , -0.02      , -0.09999999,  0.04      ,\n",
       "        0.13999999, -0.05999999, -0.07999999,  0.        , -0.04      ,\n",
       "       -0.02      ,  0.05999999, -0.04      ,  0.        ,  0.        ,\n",
       "        0.07999999,  0.        , -0.09999999,  0.13999999,  0.05999999,\n",
       "        0.05999999,  0.09999999,  0.13999999,  0.09999999,  0.04      ,\n",
       "        0.05999999,  0.02      , -0.07999999, -0.05999999, -0.04      ,\n",
       "       -0.05999999,  0.05999999,  0.09999999,  0.05999999], dtype=float32)>"
      ]
     },
     "execution_count": 50,
     "metadata": {},
     "output_type": "execute_result"
    }
   ],
   "source": [
    "advs[0]"
   ]
  },
  {
   "cell_type": "code",
   "execution_count": null,
   "metadata": {},
   "outputs": [],
   "source": []
  },
  {
   "cell_type": "code",
   "execution_count": null,
   "metadata": {},
   "outputs": [],
   "source": []
  },
  {
   "cell_type": "code",
   "execution_count": null,
   "metadata": {},
   "outputs": [],
   "source": []
  },
  {
   "cell_type": "code",
   "execution_count": null,
   "metadata": {},
   "outputs": [],
   "source": []
  },
  {
   "cell_type": "code",
   "execution_count": null,
   "metadata": {},
   "outputs": [],
   "source": []
  },
  {
   "cell_type": "code",
   "execution_count": null,
   "metadata": {},
   "outputs": [],
   "source": []
  },
  {
   "cell_type": "code",
   "execution_count": null,
   "metadata": {},
   "outputs": [],
   "source": []
  },
  {
   "cell_type": "code",
   "execution_count": null,
   "metadata": {},
   "outputs": [],
   "source": []
  },
  {
   "cell_type": "code",
   "execution_count": null,
   "metadata": {},
   "outputs": [],
   "source": []
  },
  {
   "cell_type": "code",
   "execution_count": null,
   "metadata": {},
   "outputs": [],
   "source": []
  },
  {
   "cell_type": "code",
   "execution_count": null,
   "metadata": {},
   "outputs": [],
   "source": []
  },
  {
   "cell_type": "code",
   "execution_count": null,
   "metadata": {},
   "outputs": [],
   "source": []
  },
  {
   "cell_type": "code",
   "execution_count": null,
   "metadata": {},
   "outputs": [],
   "source": []
  },
  {
   "cell_type": "code",
   "execution_count": 11,
   "metadata": {},
   "outputs": [],
   "source": [
    "keras_model = tf.keras.Sequential()\n",
    "keras_model.add(layers.Reshape((28, 28,1)))\n",
    "#differences convolutional layer: \n",
    "#keras.layers.Conv2D uses 'glorot_uniform' initializer\n",
    "#keras.layers.Conv2D uses padding method 'valid' as default\n",
    "keras_model.add(layers.Conv2D(filters=6, kernel_size=(5,5), activation='tanh', padding='SAME',input_shape=(28,28,1)))\n",
    "#differences pooling layer: \n",
    "#keras.layers.AvgPooling2D uses padding method 'valid' (vs. 'SAME' in custom) as default\n",
    "keras_model.add(layers.AvgPool2D(padding='SAME'))\n",
    "keras_model.add(layers.Conv2D(filters=16, kernel_size=(5,5), activation='tanh'))\n",
    "keras_model.add(layers.AvgPool2D())\n",
    "keras_model.add(layers.Flatten())\n",
    "keras_model.add(layers.Dense(120, activation='tanh'))\n",
    "keras_model.add(layers.Dense(84, activation='tanh'))\n",
    "keras_model.add(layers.Dense(10, activation='softmax'))"
   ]
  },
  {
   "cell_type": "code",
   "execution_count": 12,
   "metadata": {},
   "outputs": [],
   "source": [
    "keras_model.compile(optimizer='adam',\n",
    "                    loss=tf.keras.losses.SparseCategoricalCrossentropy(from_logits=True) ,\n",
    "                    metrics=['accuracy'],\n",
    "                    experimental_run_tf_function=False\n",
    "                   )"
   ]
  },
  {
   "cell_type": "code",
   "execution_count": 13,
   "metadata": {},
   "outputs": [
    {
     "name": "stdout",
     "output_type": "stream",
     "text": [
      "Train on 60000 samples, validate on 10000 samples\n",
      "Epoch 1/2\n",
      "60000/60000 [==============================] - 74s 1ms/sample - loss: 1.5745 - accuracy: 0.9003 - val_loss: 1.5084 - val_accuracy: 0.9577\n",
      "Epoch 2/2\n",
      "60000/60000 [==============================] - 65s 1ms/sample - loss: 1.5016 - accuracy: 0.9635 - val_loss: 1.5019 - val_accuracy: 0.9636\n"
     ]
    },
    {
     "data": {
      "text/plain": [
       "<tensorflow.python.keras.callbacks.History at 0x653f22850>"
      ]
     },
     "execution_count": 13,
     "metadata": {},
     "output_type": "execute_result"
    }
   ],
   "source": [
    "keras_model.fit(x=x_train,\n",
    "                y=y_train,\n",
    "                batch_size=64,\n",
    "                epochs=2,\n",
    "                validation_data=(x_test, y_test),\n",
    "         )"
   ]
  },
  {
   "cell_type": "code",
   "execution_count": 14,
   "metadata": {
    "scrolled": false
   },
   "outputs": [
    {
     "name": "stdout",
     "output_type": "stream",
     "text": [
      "Model: \"sequential\"\n",
      "_________________________________________________________________\n",
      "Layer (type)                 Output Shape              Param #   \n",
      "=================================================================\n",
      "reshape (Reshape)            multiple                  0         \n",
      "_________________________________________________________________\n",
      "conv2d (Conv2D)              multiple                  156       \n",
      "_________________________________________________________________\n",
      "average_pooling2d (AveragePo multiple                  0         \n",
      "_________________________________________________________________\n",
      "conv2d_1 (Conv2D)            multiple                  2416      \n",
      "_________________________________________________________________\n",
      "average_pooling2d_1 (Average multiple                  0         \n",
      "_________________________________________________________________\n",
      "flatten (Flatten)            multiple                  0         \n",
      "_________________________________________________________________\n",
      "dense (Dense)                multiple                  48120     \n",
      "_________________________________________________________________\n",
      "dense_1 (Dense)              multiple                  10164     \n",
      "_________________________________________________________________\n",
      "dense_2 (Dense)              multiple                  850       \n",
      "=================================================================\n",
      "Total params: 61,706\n",
      "Trainable params: 61,706\n",
      "Non-trainable params: 0\n",
      "_________________________________________________________________\n"
     ]
    }
   ],
   "source": [
    "keras_model.summary()"
   ]
  },
  {
   "cell_type": "code",
   "execution_count": null,
   "metadata": {},
   "outputs": [],
   "source": []
  },
  {
   "cell_type": "code",
   "execution_count": null,
   "metadata": {},
   "outputs": [],
   "source": []
  },
  {
   "cell_type": "code",
   "execution_count": 10,
   "metadata": {},
   "outputs": [
    {
     "data": {
      "text/plain": [
       "array([[6.35625406e-12, 6.20581169e-13, 8.41046815e-25, 2.38803269e-19,\n",
       "        1.40027533e-17, 3.86657338e-20, 9.72242780e-18, 1.00000000e+00,\n",
       "        1.99408374e-13, 3.77477075e-13],\n",
       "       [3.77606344e-03, 4.01094854e-01, 4.59477046e-16, 1.63717158e-17,\n",
       "        5.91337326e-08, 7.55477538e-12, 4.32101637e-01, 3.84465864e-08,\n",
       "        1.63027346e-01, 1.68447634e-09],\n",
       "       [8.96663370e-18, 9.99999881e-01, 6.93186090e-19, 6.18410483e-17,\n",
       "        6.55287167e-08, 1.15881764e-14, 4.43668817e-11, 1.26690827e-08,\n",
       "        5.57403733e-13, 1.86160657e-13],\n",
       "       [1.00000000e+00, 9.12209949e-17, 4.11805966e-23, 2.51894551e-21,\n",
       "        1.14765705e-14, 8.38130207e-15, 4.21458493e-11, 1.40661580e-11,\n",
       "        1.89742771e-15, 5.97348017e-13],\n",
       "       [2.69392294e-17, 6.44719762e-08, 4.00727415e-19, 2.62377587e-20,\n",
       "        9.99994516e-01, 6.64652195e-17, 3.16971005e-13, 9.48840508e-08,\n",
       "        4.65597765e-17, 5.33139882e-06],\n",
       "       [3.12816234e-15, 1.00000000e+00, 1.80921076e-17, 1.24080840e-15,\n",
       "        3.85930798e-09, 4.17352513e-14, 2.54044036e-10, 1.46391548e-08,\n",
       "        1.13300810e-11, 1.70997309e-12],\n",
       "       [7.08357295e-16, 3.06171963e-11, 5.16384074e-17, 3.19802368e-22,\n",
       "        1.00000000e+00, 4.14869293e-17, 6.34985283e-13, 3.55261529e-13,\n",
       "        1.22813120e-08, 6.27256649e-11],\n",
       "       [8.48704787e-11, 2.37246001e-10, 5.84101374e-16, 5.69966927e-20,\n",
       "        7.73501635e-01, 8.06006801e-16, 8.12691147e-12, 2.47757441e-07,\n",
       "        1.28436888e-12, 2.26498067e-01],\n",
       "       [5.18367585e-07, 8.96271004e-08, 2.61212198e-11, 2.14300834e-11,\n",
       "        6.74618129e-03, 2.88960109e-08, 2.11620980e-04, 8.40840570e-04,\n",
       "        2.41116425e-07, 9.92200553e-01],\n",
       "       [3.14329007e-10, 4.23823986e-17, 1.76037353e-13, 6.06046203e-12,\n",
       "        6.67414901e-10, 3.40971216e-14, 1.26625774e-13, 2.39265774e-10,\n",
       "        5.85568998e-08, 1.00000000e+00],\n",
       "       [1.00000000e+00, 3.41267563e-16, 1.83253347e-19, 1.37099322e-17,\n",
       "        5.82589302e-18, 7.72580538e-17, 3.32757072e-10, 8.10232252e-13,\n",
       "        7.30295425e-12, 6.07496041e-13],\n",
       "       [2.06663433e-08, 2.69365574e-09, 2.87048094e-15, 9.14883678e-19,\n",
       "        1.32840605e-05, 3.10439137e-16, 9.99986649e-01, 2.44469167e-15,\n",
       "        3.26350225e-10, 1.01952442e-12],\n",
       "       [1.18217597e-11, 1.23058138e-16, 1.06069222e-12, 2.49243974e-18,\n",
       "        1.62948675e-06, 1.19693996e-18, 5.12163713e-16, 6.97606362e-10,\n",
       "        3.63374941e-10, 9.99998331e-01],\n",
       "       [1.00000000e+00, 8.52329614e-15, 2.33819192e-20, 5.41415147e-19,\n",
       "        3.82361949e-16, 6.29249663e-14, 2.43489756e-10, 2.41984818e-12,\n",
       "        1.37625571e-11, 5.31705235e-12],\n",
       "       [8.14213967e-16, 1.00000000e+00, 7.31031077e-20, 1.02126144e-14,\n",
       "        1.48186229e-14, 3.26557527e-14, 2.74733347e-09, 5.07642192e-12,\n",
       "        5.24343242e-12, 6.09723318e-14],\n",
       "       [9.01385427e-01, 1.09247782e-03, 5.65870271e-15, 2.03497294e-14,\n",
       "        1.49597071e-11, 3.55689522e-09, 9.50382203e-02, 2.90623802e-06,\n",
       "        2.48098793e-03, 4.31617034e-11],\n",
       "       [4.71684150e-12, 1.55383529e-17, 2.42595030e-14, 7.98742858e-16,\n",
       "        9.46071129e-13, 9.25235533e-19, 2.39403194e-21, 1.21805838e-11,\n",
       "        1.51680263e-12, 1.00000000e+00],\n",
       "       [4.85929873e-12, 1.92506025e-14, 2.46977795e-24, 2.94181589e-19,\n",
       "        1.74185518e-15, 3.30958861e-21, 3.77103163e-19, 1.00000000e+00,\n",
       "        2.34553228e-15, 1.04230329e-12],\n",
       "       [1.98105555e-02, 8.05135187e-06, 1.24712696e-09, 9.45957979e-10,\n",
       "        4.21079858e-06, 2.99565761e-10, 8.41289237e-02, 7.87500918e-01,\n",
       "        1.08545184e-01, 2.09489122e-06],\n",
       "       [1.16559156e-15, 8.09701178e-12, 4.39884744e-22, 1.74127666e-23,\n",
       "        1.00000000e+00, 5.32391084e-20, 1.12346850e-15, 3.30616379e-09,\n",
       "        8.20299476e-16, 1.88251050e-08],\n",
       "       [6.16772786e-06, 1.25779205e-12, 9.55294263e-18, 3.11919165e-13,\n",
       "        5.06616052e-05, 2.47317156e-16, 1.46615999e-14, 6.21937931e-01,\n",
       "        8.47504289e-09, 3.78005177e-01],\n",
       "       [6.79518797e-09, 3.95483823e-09, 2.54020731e-17, 1.66194439e-21,\n",
       "        4.23907579e-07, 1.76192801e-13, 9.99999523e-01, 3.26981479e-16,\n",
       "        8.62100880e-09, 2.67253046e-08],\n",
       "       [3.37606652e-05, 7.01170620e-06, 6.77620534e-16, 2.77884776e-17,\n",
       "        3.61927390e-01, 2.26848854e-13, 6.38029099e-01, 1.35778722e-08,\n",
       "        3.84669491e-10, 2.80946483e-06],\n",
       "       [2.40935187e-05, 5.04486561e-02, 5.23695887e-13, 1.92205077e-17,\n",
       "        4.17884402e-02, 1.02949775e-11, 9.05868948e-01, 1.03958932e-10,\n",
       "        1.82266778e-03, 4.72564316e-05],\n",
       "       [2.84335034e-12, 7.25009119e-09, 4.13749684e-21, 2.10652351e-20,\n",
       "        9.99550521e-01, 1.51237385e-17, 4.81115104e-12, 5.96441030e-09,\n",
       "        4.17291852e-12, 4.49412852e-04],\n",
       "       [1.00000000e+00, 8.58485842e-18, 8.80669420e-19, 6.05153704e-22,\n",
       "        1.15861772e-16, 7.59837576e-16, 2.57087795e-09, 1.93120192e-14,\n",
       "        3.28864608e-14, 2.32474257e-14],\n",
       "       [1.75299919e-09, 1.53681825e-15, 3.23256448e-21, 4.00145167e-16,\n",
       "        9.41326444e-13, 1.10272869e-19, 2.76664838e-20, 1.00000000e+00,\n",
       "        2.42216143e-12, 5.44379153e-10],\n",
       "       [1.05269879e-15, 9.79907995e-13, 1.86364176e-21, 1.11900215e-24,\n",
       "        9.99999881e-01, 4.03642845e-20, 2.71611512e-15, 1.46351803e-13,\n",
       "        2.08970376e-15, 1.08003981e-07],\n",
       "       [9.99999166e-01, 8.16205962e-14, 2.41773713e-20, 7.79827521e-19,\n",
       "        4.04002486e-15, 2.49983844e-12, 7.30842817e-11, 1.68234079e-12,\n",
       "        8.23217079e-07, 1.52364607e-10],\n",
       "       [2.43256348e-12, 9.99997616e-01, 3.63717304e-17, 5.15269412e-16,\n",
       "        4.08887217e-08, 5.37396369e-15, 1.71040071e-07, 2.15778732e-06,\n",
       "        2.53317129e-14, 7.25179472e-10]], dtype=float32)"
      ]
     },
     "execution_count": 10,
     "metadata": {},
     "output_type": "execute_result"
    }
   ],
   "source": [
    "model.predict(x_test[:30])"
   ]
  },
  {
   "cell_type": "code",
   "execution_count": null,
   "metadata": {},
   "outputs": [],
   "source": []
  },
  {
   "cell_type": "code",
   "execution_count": 54,
   "metadata": {},
   "outputs": [],
   "source": [
    "preds = map (lambda pred: np.argmax(pred), model.predict(x_test[:30]))\n",
    "preds = list(preds)"
   ]
  },
  {
   "cell_type": "code",
   "execution_count": 55,
   "metadata": {},
   "outputs": [
    {
     "data": {
      "image/png": "[encoded data removed]",
      "text/plain": [
       "<Figure size 720x720 with 10 Axes>"
      ]
     },
     "metadata": {},
     "output_type": "display_data"
    }
   ],
   "source": [
    "\n",
    "\n",
    "plt.figure(figsize=(10,10))\n",
    "for i in range(10):\n",
    "    img = tf.reshape(advs[i], shape=[28, 28])\n",
    "    plt.subplot(5,5,i+1)\n",
    "    plt.xticks([])\n",
    "    plt.yticks([])\n",
    "    plt.grid(False)\n",
    "    plt.imshow(img)\n",
    "    plt.ylabel(po[i])\n",
    "    plt.xlabel(pa[i])\n",
    "plt.show()"
   ]
  },
  {
   "cell_type": "code",
   "execution_count": null,
   "metadata": {},
   "outputs": [],
   "source": []
  },
  {
   "cell_type": "code",
   "execution_count": null,
   "metadata": {},
   "outputs": [],
   "source": []
  },
  {
   "cell_type": "code",
   "execution_count": null,
   "metadata": {},
   "outputs": [],
   "source": []
  }
 ],
 "metadata": {
  "kernelspec": {
   "display_name": "Python 3",
   "language": "python",
   "name": "python3"
  },
  "language_info": {
   "codemirror_mode": {
    "name": "ipython",
    "version": 3
   },
   "file_extension": ".py",
   "mimetype": "text/x-python",
   "name": "python",
   "nbconvert_exporter": "python",
   "pygments_lexer": "ipython3",
   "version": "3.7.7"
  }
 },
 "nbformat": 4,
 "nbformat_minor": 4
}
