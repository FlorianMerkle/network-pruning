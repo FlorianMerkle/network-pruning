{
 "cells": [
  {
   "cell_type": "code",
   "execution_count": 1,
   "metadata": {},
   "outputs": [],
   "source": [
    "from __future__ import absolute_import, division, print_function, unicode_literals\n",
    "\n",
    "import tensorflow as tf\n",
    "import numpy as np\n",
    "import pandas as pd\n",
    "from tensorflow.keras import layers\n",
    "from tqdm import tqdm\n",
    "import matplotlib.pyplot as plt\n",
    "\n",
    "\n",
    "#tf.compat.v1.enable_eager_execution()\n",
    "tf.keras.backend.clear_session()  # For easy reset of notebook state."
   ]
  },
  {
   "cell_type": "code",
   "execution_count": 2,
   "metadata": {},
   "outputs": [],
   "source": [
    "(x_train, y_train), (x_test, y_test) = tf.keras.datasets.mnist.load_data()\n",
    "x_train = [x_train.reshape(60000, 784).astype('float32') / 255]\n",
    "x_test = x_test.reshape(10000, 784).astype('float32') / 255"
   ]
  },
  {
   "cell_type": "markdown",
   "metadata": {},
   "source": [
    "# Weights"
   ]
  },
  {
   "cell_type": "code",
   "execution_count": 3,
   "metadata": {},
   "outputs": [],
   "source": [
    "weights = {\n",
    "    # 5x5 conv, 1 input, 6 outputs\n",
    "    'weights_conv_1': tf.Variable(tf.random.normal([5, 5, 1, 6])),\n",
    "    # 5x5 conv, 6 inputs, 16 outputs\n",
    "    'weights_conv_2': tf.Variable(tf.random.normal([5, 5, 6, 16])),\n",
    "    #5x5 conv as in paper, 16 inputs, 120 outputs\n",
    "    'weights_conv_3': tf.Variable(tf.random.normal([5, 5, 16, 120])),\n",
    "    # fully connected, 5*5*16 inputs, 120 outputs\n",
    "    'weights_dense_1': tf.Variable(tf.random.normal([5*5*16, 120])),\n",
    "    # fully connected, 120 inputs, 84 outputs\n",
    "    'weights_dense_2': tf.Variable(tf.random.normal([120, 84])),\n",
    "    # 84 inputs, 10 outputs (class prediction)\n",
    "    'weights_dense_3': tf.Variable(tf.random.normal([84, 10])),\n",
    "}\n",
    "\n",
    "biases = {\n",
    "    #output depth\n",
    "    'bias_conv_1': tf.Variable(tf.random.normal([6])),\n",
    "    'bias_conv_2': tf.Variable(tf.random.normal([16])),\n",
    "    'bias_dense_1': tf.Variable(tf.random.normal([120])),\n",
    "    'bias_dense_2': tf.Variable(tf.random.normal([84])),\n",
    "    'bias_dense_3': tf.Variable(tf.random.normal([10])),\n",
    "}\n",
    "\n"
   ]
  },
  {
   "cell_type": "markdown",
   "metadata": {},
   "source": [
    "# Wrappers"
   ]
  },
  {
   "cell_type": "code",
   "execution_count": 4,
   "metadata": {},
   "outputs": [],
   "source": [
    "#conv2D with bias and relu activation\n",
    "\n",
    "class CustomConvLayer(layers.Layer):\n",
    "\n",
    "    def __init__(self, weights, biases, strides, padding='SAME'):\n",
    "        \n",
    "        super(CustomConvLayer, self).__init__()\n",
    "        self.w = weights\n",
    "        self.b = biases\n",
    "        self.s = strides\n",
    "        self.p = padding\n",
    "\n",
    "        \n",
    "    def call(self, inputs):\n",
    "        x = tf.nn.conv2d(inputs, self.w, strides=[1, self.s, self.s, 1], padding=self.p)\n",
    "        x = tf.nn.bias_add(x, self.b)\n",
    "        return tf.nn.tanh(x)\n",
    "        \n",
    "\n",
    "#Average Pooling Layer\n",
    "class CustomPoolLayer(layers.Layer):\n",
    "    \n",
    "    def __init__(self, k=2, padding='VALID'):\n",
    "        super(CustomPoolLayer, self).__init__()\n",
    "        self.k = k\n",
    "        self.p = padding\n",
    "    \n",
    "    def call(self, inputs):\n",
    "        return tf.nn.avg_pool2d(inputs, ksize=[1, self.k, self.k,1], strides=[1, self.k, self.k, 1], padding=self.p)\n",
    "\n",
    "    \n",
    "#Dense Layer with Bias\n",
    "class CustomDenseLayer(layers.Layer):\n",
    "    \n",
    "    def __init__(self, weights, bias, activation = 'tanh'):\n",
    "        super(CustomDenseLayer, self).__init__()\n",
    "        self.w = weights\n",
    "        self.b = bias\n",
    "        self.a = activation\n",
    "        \n",
    "    def call(self, inputs):\n",
    "        #print(self.w)\n",
    "        #print(inputs)\n",
    "        x = tf.matmul(inputs, self.w)\n",
    "        #print(x)\n",
    "        x = tf.nn.bias_add(x, self.b)\n",
    "        if self.a == 'tanh':\n",
    "            return tf.nn.tanh(x)\n",
    "        if self.a == 'softmax':\n",
    "            return tf.nn.softmax(x)\n"
   ]
  },
  {
   "cell_type": "markdown",
   "metadata": {},
   "source": [
    "# Create Model"
   ]
  },
  {
   "cell_type": "code",
   "execution_count": 5,
   "metadata": {},
   "outputs": [],
   "source": [
    "class CustomConvModel(tf.keras.Model):\n",
    "    def __init__(self):\n",
    "        super(CustomConvModel, self).__init__()\n",
    "        self.conv1 = CustomConvLayer(weights['weights_conv_1'], biases['bias_conv_1'], 1, 'SAME')#'VALID')\n",
    "        self.maxpool1 = CustomPoolLayer(k=2, padding='SAME')\n",
    "        self.conv2 = CustomConvLayer(weights['weights_conv_2'], biases['bias_conv_2'], 1, 'VALID')\n",
    "        self.maxpool2 = CustomPoolLayer(k=2, padding='VALID')\n",
    "        self.conv3 = CustomConvLayer(weights['weights_conv_3'], biases['bias_dense_1'], 1, 'VALID')\n",
    "        #self.dense1 = CustomDenseLayer(weights['weights_dense_1'], biases['bias_dense_1'], 'tanh')\n",
    "        self.dense2 = CustomDenseLayer(weights['weights_dense_2'], biases['bias_dense_2'], 'tanh')\n",
    "        self.dense3 = CustomDenseLayer(weights['weights_dense_3'], biases['bias_dense_3'], 'softmax')\n",
    "        \n",
    "    def call(self, inputs):\n",
    "        x = tf.reshape(inputs, shape=[-1, 28, 28, 1])\n",
    "        print(x.shape)\n",
    "        x = self.conv1(x)\n",
    "        print(x.shape)\n",
    "        x = self.maxpool1(x)\n",
    "        print(x.shape)\n",
    "        x = self.conv2(x)\n",
    "        print(x.shape)\n",
    "        x = self.maxpool2(x)\n",
    "        #print('yo',x.shape)\n",
    "        #x = layers.Flatten()(x)\n",
    "        print(x.shape)\n",
    "        x = self.conv3(x)\n",
    "        print(x.shape)\n",
    "        x = layers.Flatten()(x)\n",
    "        print(x.shape)\n",
    "        x =  self.dense2(x)\n",
    "        print(x.shape)\n",
    "        x =  self.dense3(x)\n",
    "        print(x.shape)\n",
    "        return x\n",
    "        "
   ]
  },
  {
   "cell_type": "code",
   "execution_count": null,
   "metadata": {},
   "outputs": [],
   "source": []
  },
  {
   "cell_type": "code",
   "execution_count": null,
   "metadata": {},
   "outputs": [],
   "source": []
  },
  {
   "cell_type": "code",
   "execution_count": null,
   "metadata": {},
   "outputs": [],
   "source": []
  },
  {
   "cell_type": "code",
   "execution_count": 6,
   "metadata": {},
   "outputs": [],
   "source": [
    "model = CustomConvModel()"
   ]
  },
  {
   "cell_type": "code",
   "execution_count": 7,
   "metadata": {},
   "outputs": [],
   "source": [
    "model.compile(optimizer='adam',\n",
    "              loss=tf.keras.losses.SparseCategoricalCrossentropy(from_logits=True),\n",
    "              metrics=['accuracy'],\n",
    "              experimental_run_tf_function=False\n",
    "             )"
   ]
  },
  {
   "cell_type": "code",
   "execution_count": 8,
   "metadata": {
    "scrolled": true
   },
   "outputs": [
    {
     "name": "stdout",
     "output_type": "stream",
     "text": [
      "(None, 28, 28, 1)\n",
      "(None, 28, 28, 6)\n",
      "(None, 14, 14, 6)\n",
      "(None, 10, 10, 16)\n",
      "(None, 5, 5, 16)\n",
      "(None, 1, 1, 120)\n",
      "(None, 120)\n",
      "(None, 84)\n",
      "(None, 10)\n",
      "Train on 60000 samples, validate on 10000 samples\n",
      "Epoch 1/10\n",
      "60000/60000 [==============================] - 17s 288us/sample - loss: 2.0004 - accuracy: 0.4564 - val_loss: 1.8849 - val_accuracy: 0.5758\n",
      "Epoch 2/10\n",
      "60000/60000 [==============================] - 16s 271us/sample - loss: 1.8604 - accuracy: 0.5989 - val_loss: 1.8397 - val_accuracy: 0.6198\n",
      "Epoch 3/10\n",
      "60000/60000 [==============================] - 15s 252us/sample - loss: 1.8314 - accuracy: 0.6280 - val_loss: 1.8180 - val_accuracy: 0.6425\n",
      "Epoch 4/10\n",
      "60000/60000 [==============================] - 15s 255us/sample - loss: 1.8192 - accuracy: 0.6405 - val_loss: 1.8152 - val_accuracy: 0.6451\n",
      "Epoch 5/10\n",
      "60000/60000 [==============================] - 17s 288us/sample - loss: 1.8112 - accuracy: 0.6484 - val_loss: 1.8049 - val_accuracy: 0.6549\n",
      "Epoch 6/10\n",
      "60000/60000 [==============================] - 18s 299us/sample - loss: 1.8025 - accuracy: 0.6568 - val_loss: 1.7999 - val_accuracy: 0.6591\n",
      "Epoch 7/10\n",
      "60000/60000 [==============================] - 18s 303us/sample - loss: 1.7979 - accuracy: 0.6614 - val_loss: 1.7988 - val_accuracy: 0.6614\n",
      "Epoch 8/10\n",
      "60000/60000 [==============================] - 18s 306us/sample - loss: 1.7927 - accuracy: 0.6668 - val_loss: 1.7893 - val_accuracy: 0.6703\n",
      "Epoch 9/10\n",
      "60000/60000 [==============================] - 17s 282us/sample - loss: 1.7911 - accuracy: 0.6684 - val_loss: 1.7917 - val_accuracy: 0.6679\n",
      "Epoch 10/10\n",
      "60000/60000 [==============================] - 19s 309us/sample - loss: 1.7916 - accuracy: 0.6683 - val_loss: 1.7900 - val_accuracy: 0.6692\n"
     ]
    },
    {
     "data": {
      "text/plain": [
       "<tensorflow.python.keras.callbacks.History at 0x1481af5d0>"
      ]
     },
     "execution_count": 8,
     "metadata": {},
     "output_type": "execute_result"
    }
   ],
   "source": [
    "model.fit(x=x_train,\n",
    "          y=y_train,\n",
    "          batch_size=64,\n",
    "          epochs=10,\n",
    "          validation_data=(x_test, y_test),\n",
    "         )"
   ]
  },
  {
   "cell_type": "code",
   "execution_count": null,
   "metadata": {},
   "outputs": [],
   "source": []
  },
  {
   "cell_type": "code",
   "execution_count": null,
   "metadata": {},
   "outputs": [],
   "source": []
  },
  {
   "cell_type": "code",
   "execution_count": null,
   "metadata": {},
   "outputs": [],
   "source": []
  },
  {
   "cell_type": "code",
   "execution_count": null,
   "metadata": {},
   "outputs": [],
   "source": []
  },
  {
   "cell_type": "code",
   "execution_count": null,
   "metadata": {},
   "outputs": [],
   "source": []
  },
  {
   "cell_type": "code",
   "execution_count": null,
   "metadata": {},
   "outputs": [],
   "source": []
  },
  {
   "cell_type": "code",
   "execution_count": null,
   "metadata": {},
   "outputs": [],
   "source": []
  },
  {
   "cell_type": "code",
   "execution_count": null,
   "metadata": {},
   "outputs": [],
   "source": []
  },
  {
   "cell_type": "code",
   "execution_count": null,
   "metadata": {},
   "outputs": [],
   "source": []
  },
  {
   "cell_type": "code",
   "execution_count": null,
   "metadata": {},
   "outputs": [],
   "source": []
  },
  {
   "cell_type": "code",
   "execution_count": 11,
   "metadata": {},
   "outputs": [],
   "source": [
    "keras_model = tf.keras.Sequential()\n",
    "keras_model.add(layers.Reshape((28, 28,1)))\n",
    "#differences convolutional layer: \n",
    "#keras.layers.Conv2D uses 'glorot_uniform' initializer\n",
    "#keras.layers.Conv2D uses padding method 'valid' as default\n",
    "keras_model.add(layers.Conv2D(filters=6, kernel_size=(5,5), activation='tanh', padding='SAME',input_shape=(28,28,1)))\n",
    "#differences pooling layer: \n",
    "#keras.layers.AvgPooling2D uses padding method 'valid' (vs. 'SAME' in custom) as default\n",
    "keras_model.add(layers.AvgPool2D(padding='SAME'))\n",
    "keras_model.add(layers.Conv2D(filters=16, kernel_size=(5,5), activation='tanh'))\n",
    "keras_model.add(layers.AvgPool2D())\n",
    "keras_model.add(layers.Flatten())\n",
    "keras_model.add(layers.Dense(120, activation='tanh'))\n",
    "keras_model.add(layers.Dense(84, activation='tanh'))\n",
    "keras_model.add(layers.Dense(10, activation='softmax'))"
   ]
  },
  {
   "cell_type": "code",
   "execution_count": 12,
   "metadata": {},
   "outputs": [],
   "source": [
    "keras_model.compile(optimizer='adam',\n",
    "                    loss=tf.keras.losses.SparseCategoricalCrossentropy(from_logits=True) ,\n",
    "                    metrics=['accuracy'],\n",
    "                    experimental_run_tf_function=False\n",
    "                   )"
   ]
  },
  {
   "cell_type": "code",
   "execution_count": 13,
   "metadata": {},
   "outputs": [
    {
     "name": "stdout",
     "output_type": "stream",
     "text": [
      "Train on 60000 samples, validate on 10000 samples\n",
      "Epoch 1/2\n",
      "60000/60000 [==============================] - 74s 1ms/sample - loss: 1.5745 - accuracy: 0.9003 - val_loss: 1.5084 - val_accuracy: 0.9577\n",
      "Epoch 2/2\n",
      "60000/60000 [==============================] - 65s 1ms/sample - loss: 1.5016 - accuracy: 0.9635 - val_loss: 1.5019 - val_accuracy: 0.9636\n"
     ]
    },
    {
     "data": {
      "text/plain": [
       "<tensorflow.python.keras.callbacks.History at 0x653f22850>"
      ]
     },
     "execution_count": 13,
     "metadata": {},
     "output_type": "execute_result"
    }
   ],
   "source": [
    "keras_model.fit(x=x_train,\n",
    "                y=y_train,\n",
    "                batch_size=64,\n",
    "                epochs=2,\n",
    "                validation_data=(x_test, y_test),\n",
    "         )"
   ]
  },
  {
   "cell_type": "code",
   "execution_count": 14,
   "metadata": {
    "scrolled": false
   },
   "outputs": [
    {
     "name": "stdout",
     "output_type": "stream",
     "text": [
      "Model: \"sequential\"\n",
      "_________________________________________________________________\n",
      "Layer (type)                 Output Shape              Param #   \n",
      "=================================================================\n",
      "reshape (Reshape)            multiple                  0         \n",
      "_________________________________________________________________\n",
      "conv2d (Conv2D)              multiple                  156       \n",
      "_________________________________________________________________\n",
      "average_pooling2d (AveragePo multiple                  0         \n",
      "_________________________________________________________________\n",
      "conv2d_1 (Conv2D)            multiple                  2416      \n",
      "_________________________________________________________________\n",
      "average_pooling2d_1 (Average multiple                  0         \n",
      "_________________________________________________________________\n",
      "flatten (Flatten)            multiple                  0         \n",
      "_________________________________________________________________\n",
      "dense (Dense)                multiple                  48120     \n",
      "_________________________________________________________________\n",
      "dense_1 (Dense)              multiple                  10164     \n",
      "_________________________________________________________________\n",
      "dense_2 (Dense)              multiple                  850       \n",
      "=================================================================\n",
      "Total params: 61,706\n",
      "Trainable params: 61,706\n",
      "Non-trainable params: 0\n",
      "_________________________________________________________________\n"
     ]
    }
   ],
   "source": [
    "keras_model.summary()"
   ]
  },
  {
   "cell_type": "code",
   "execution_count": null,
   "metadata": {},
   "outputs": [],
   "source": []
  },
  {
   "cell_type": "code",
   "execution_count": null,
   "metadata": {},
   "outputs": [],
   "source": []
  },
  {
   "cell_type": "code",
   "execution_count": 10,
   "metadata": {},
   "outputs": [
    {
     "data": {
      "text/plain": [
       "array([[6.35625406e-12, 6.20581169e-13, 8.41046815e-25, 2.38803269e-19,\n",
       "        1.40027533e-17, 3.86657338e-20, 9.72242780e-18, 1.00000000e+00,\n",
       "        1.99408374e-13, 3.77477075e-13],\n",
       "       [3.77606344e-03, 4.01094854e-01, 4.59477046e-16, 1.63717158e-17,\n",
       "        5.91337326e-08, 7.55477538e-12, 4.32101637e-01, 3.84465864e-08,\n",
       "        1.63027346e-01, 1.68447634e-09],\n",
       "       [8.96663370e-18, 9.99999881e-01, 6.93186090e-19, 6.18410483e-17,\n",
       "        6.55287167e-08, 1.15881764e-14, 4.43668817e-11, 1.26690827e-08,\n",
       "        5.57403733e-13, 1.86160657e-13],\n",
       "       [1.00000000e+00, 9.12209949e-17, 4.11805966e-23, 2.51894551e-21,\n",
       "        1.14765705e-14, 8.38130207e-15, 4.21458493e-11, 1.40661580e-11,\n",
       "        1.89742771e-15, 5.97348017e-13],\n",
       "       [2.69392294e-17, 6.44719762e-08, 4.00727415e-19, 2.62377587e-20,\n",
       "        9.99994516e-01, 6.64652195e-17, 3.16971005e-13, 9.48840508e-08,\n",
       "        4.65597765e-17, 5.33139882e-06],\n",
       "       [3.12816234e-15, 1.00000000e+00, 1.80921076e-17, 1.24080840e-15,\n",
       "        3.85930798e-09, 4.17352513e-14, 2.54044036e-10, 1.46391548e-08,\n",
       "        1.13300810e-11, 1.70997309e-12],\n",
       "       [7.08357295e-16, 3.06171963e-11, 5.16384074e-17, 3.19802368e-22,\n",
       "        1.00000000e+00, 4.14869293e-17, 6.34985283e-13, 3.55261529e-13,\n",
       "        1.22813120e-08, 6.27256649e-11],\n",
       "       [8.48704787e-11, 2.37246001e-10, 5.84101374e-16, 5.69966927e-20,\n",
       "        7.73501635e-01, 8.06006801e-16, 8.12691147e-12, 2.47757441e-07,\n",
       "        1.28436888e-12, 2.26498067e-01],\n",
       "       [5.18367585e-07, 8.96271004e-08, 2.61212198e-11, 2.14300834e-11,\n",
       "        6.74618129e-03, 2.88960109e-08, 2.11620980e-04, 8.40840570e-04,\n",
       "        2.41116425e-07, 9.92200553e-01],\n",
       "       [3.14329007e-10, 4.23823986e-17, 1.76037353e-13, 6.06046203e-12,\n",
       "        6.67414901e-10, 3.40971216e-14, 1.26625774e-13, 2.39265774e-10,\n",
       "        5.85568998e-08, 1.00000000e+00],\n",
       "       [1.00000000e+00, 3.41267563e-16, 1.83253347e-19, 1.37099322e-17,\n",
       "        5.82589302e-18, 7.72580538e-17, 3.32757072e-10, 8.10232252e-13,\n",
       "        7.30295425e-12, 6.07496041e-13],\n",
       "       [2.06663433e-08, 2.69365574e-09, 2.87048094e-15, 9.14883678e-19,\n",
       "        1.32840605e-05, 3.10439137e-16, 9.99986649e-01, 2.44469167e-15,\n",
       "        3.26350225e-10, 1.01952442e-12],\n",
       "       [1.18217597e-11, 1.23058138e-16, 1.06069222e-12, 2.49243974e-18,\n",
       "        1.62948675e-06, 1.19693996e-18, 5.12163713e-16, 6.97606362e-10,\n",
       "        3.63374941e-10, 9.99998331e-01],\n",
       "       [1.00000000e+00, 8.52329614e-15, 2.33819192e-20, 5.41415147e-19,\n",
       "        3.82361949e-16, 6.29249663e-14, 2.43489756e-10, 2.41984818e-12,\n",
       "        1.37625571e-11, 5.31705235e-12],\n",
       "       [8.14213967e-16, 1.00000000e+00, 7.31031077e-20, 1.02126144e-14,\n",
       "        1.48186229e-14, 3.26557527e-14, 2.74733347e-09, 5.07642192e-12,\n",
       "        5.24343242e-12, 6.09723318e-14],\n",
       "       [9.01385427e-01, 1.09247782e-03, 5.65870271e-15, 2.03497294e-14,\n",
       "        1.49597071e-11, 3.55689522e-09, 9.50382203e-02, 2.90623802e-06,\n",
       "        2.48098793e-03, 4.31617034e-11],\n",
       "       [4.71684150e-12, 1.55383529e-17, 2.42595030e-14, 7.98742858e-16,\n",
       "        9.46071129e-13, 9.25235533e-19, 2.39403194e-21, 1.21805838e-11,\n",
       "        1.51680263e-12, 1.00000000e+00],\n",
       "       [4.85929873e-12, 1.92506025e-14, 2.46977795e-24, 2.94181589e-19,\n",
       "        1.74185518e-15, 3.30958861e-21, 3.77103163e-19, 1.00000000e+00,\n",
       "        2.34553228e-15, 1.04230329e-12],\n",
       "       [1.98105555e-02, 8.05135187e-06, 1.24712696e-09, 9.45957979e-10,\n",
       "        4.21079858e-06, 2.99565761e-10, 8.41289237e-02, 7.87500918e-01,\n",
       "        1.08545184e-01, 2.09489122e-06],\n",
       "       [1.16559156e-15, 8.09701178e-12, 4.39884744e-22, 1.74127666e-23,\n",
       "        1.00000000e+00, 5.32391084e-20, 1.12346850e-15, 3.30616379e-09,\n",
       "        8.20299476e-16, 1.88251050e-08],\n",
       "       [6.16772786e-06, 1.25779205e-12, 9.55294263e-18, 3.11919165e-13,\n",
       "        5.06616052e-05, 2.47317156e-16, 1.46615999e-14, 6.21937931e-01,\n",
       "        8.47504289e-09, 3.78005177e-01],\n",
       "       [6.79518797e-09, 3.95483823e-09, 2.54020731e-17, 1.66194439e-21,\n",
       "        4.23907579e-07, 1.76192801e-13, 9.99999523e-01, 3.26981479e-16,\n",
       "        8.62100880e-09, 2.67253046e-08],\n",
       "       [3.37606652e-05, 7.01170620e-06, 6.77620534e-16, 2.77884776e-17,\n",
       "        3.61927390e-01, 2.26848854e-13, 6.38029099e-01, 1.35778722e-08,\n",
       "        3.84669491e-10, 2.80946483e-06],\n",
       "       [2.40935187e-05, 5.04486561e-02, 5.23695887e-13, 1.92205077e-17,\n",
       "        4.17884402e-02, 1.02949775e-11, 9.05868948e-01, 1.03958932e-10,\n",
       "        1.82266778e-03, 4.72564316e-05],\n",
       "       [2.84335034e-12, 7.25009119e-09, 4.13749684e-21, 2.10652351e-20,\n",
       "        9.99550521e-01, 1.51237385e-17, 4.81115104e-12, 5.96441030e-09,\n",
       "        4.17291852e-12, 4.49412852e-04],\n",
       "       [1.00000000e+00, 8.58485842e-18, 8.80669420e-19, 6.05153704e-22,\n",
       "        1.15861772e-16, 7.59837576e-16, 2.57087795e-09, 1.93120192e-14,\n",
       "        3.28864608e-14, 2.32474257e-14],\n",
       "       [1.75299919e-09, 1.53681825e-15, 3.23256448e-21, 4.00145167e-16,\n",
       "        9.41326444e-13, 1.10272869e-19, 2.76664838e-20, 1.00000000e+00,\n",
       "        2.42216143e-12, 5.44379153e-10],\n",
       "       [1.05269879e-15, 9.79907995e-13, 1.86364176e-21, 1.11900215e-24,\n",
       "        9.99999881e-01, 4.03642845e-20, 2.71611512e-15, 1.46351803e-13,\n",
       "        2.08970376e-15, 1.08003981e-07],\n",
       "       [9.99999166e-01, 8.16205962e-14, 2.41773713e-20, 7.79827521e-19,\n",
       "        4.04002486e-15, 2.49983844e-12, 7.30842817e-11, 1.68234079e-12,\n",
       "        8.23217079e-07, 1.52364607e-10],\n",
       "       [2.43256348e-12, 9.99997616e-01, 3.63717304e-17, 5.15269412e-16,\n",
       "        4.08887217e-08, 5.37396369e-15, 1.71040071e-07, 2.15778732e-06,\n",
       "        2.53317129e-14, 7.25179472e-10]], dtype=float32)"
      ]
     },
     "execution_count": 10,
     "metadata": {},
     "output_type": "execute_result"
    }
   ],
   "source": [
    "model.predict(x_test[:30])"
   ]
  },
  {
   "cell_type": "code",
   "execution_count": null,
   "metadata": {},
   "outputs": [],
   "source": []
  },
  {
   "cell_type": "code",
   "execution_count": 15,
   "metadata": {},
   "outputs": [],
   "source": [
    "preds = map (lambda pred: np.argmax(pred), model.predict(x_test[:30]))\n",
    "preds = list(preds)"
   ]
  },
  {
   "cell_type": "code",
   "execution_count": 16,
   "metadata": {},
   "outputs": [
    {
     "data": {
      "image/png": "[encoded data removed]",
      "text/plain": [
       "<Figure size 720x720 with 25 Axes>"
      ]
     },
     "metadata": {},
     "output_type": "display_data"
    }
   ],
   "source": [
    "\n",
    "\n",
    "plt.figure(figsize=(10,10))\n",
    "for i in range(25):\n",
    "    img = tf.reshape(x_test[i], shape=[28, 28])\n",
    "    plt.subplot(5,5,i+1)\n",
    "    plt.xticks([])\n",
    "    plt.yticks([])\n",
    "    plt.grid(False)\n",
    "    plt.imshow(img)\n",
    "\n",
    "    plt.xlabel(preds[i])\n",
    "plt.show()"
   ]
  },
  {
   "cell_type": "code",
   "execution_count": null,
   "metadata": {},
   "outputs": [],
   "source": []
  },
  {
   "cell_type": "code",
   "execution_count": null,
   "metadata": {},
   "outputs": [],
   "source": []
  },
  {
   "cell_type": "code",
   "execution_count": null,
   "metadata": {},
   "outputs": [],
   "source": []
  }
 ],
 "metadata": {
  "kernelspec": {
   "display_name": "Python 3",
   "language": "python",
   "name": "python3"
  },
  "language_info": {
   "codemirror_mode": {
    "name": "ipython",
    "version": 3
   },
   "file_extension": ".py",
   "mimetype": "text/x-python",
   "name": "python",
   "nbconvert_exporter": "python",
   "pygments_lexer": "ipython3",
   "version": "3.7.5"
  }
 },
 "nbformat": 4,
 "nbformat_minor": 4
}
