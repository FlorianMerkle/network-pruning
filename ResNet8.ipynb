{
 "cells": [
  {
   "cell_type": "code",
   "execution_count": 3,
   "metadata": {},
   "outputs": [
    {
     "name": "stdout",
     "output_type": "stream",
     "text": [
      "<PrefetchDataset shapes: ((None, 32, 32, 3), (None,)), types: (tf.float32, tf.int64)>\n"
     ]
    }
   ],
   "source": [
    "from __future__ import absolute_import, division, print_function, unicode_literals\n",
    "\n",
    "import tensorflow as tf\n",
    "from tensorflow.keras import layers\n",
    "import Pipelines.helperfiles.helpers as helpers\n",
    "from Pipelines.helperfiles.models import ResNet8\n",
    "data = helpers.load_data('cifar10')\n",
    "#data"
   ]
  },
  {
   "cell_type": "code",
   "execution_count": 4,
   "metadata": {},
   "outputs": [
    {
     "data": {
      "text/plain": [
       "TensorShape([128, 32, 32, 3])"
      ]
     },
     "execution_count": 4,
     "metadata": {},
     "output_type": "execute_result"
    }
   ],
   "source": [
    "x = next(iter(data[0]))[0]\n",
    "x.shape"
   ]
  },
  {
   "cell_type": "code",
   "execution_count": 5,
   "metadata": {},
   "outputs": [],
   "source": [
    "model = ResNet8()\n",
    "adam = tf.keras.optimizers.Adam()\n",
    "\n",
    "model.compile(optimizer=adam,\n",
    "              loss='sparse_categorical_crossentropy',\n",
    "              metrics=['accuracy'],\n",
    "             )"
   ]
  },
  {
   "cell_type": "code",
   "execution_count": 6,
   "metadata": {},
   "outputs": [
    {
     "name": "stdout",
     "output_type": "stream",
     "text": [
      "Epoch 1/100\n",
      "391/391 [==============================] - 3s 8ms/step - loss: 1.5814 - accuracy: 0.4436 - val_loss: 2.2067 - val_accuracy: 0.2960\n",
      "Epoch 2/100\n",
      "391/391 [==============================] - 2s 6ms/step - loss: 1.1630 - accuracy: 0.5841 - val_loss: 1.2194 - val_accuracy: 0.5783\n",
      "Epoch 3/100\n",
      "391/391 [==============================] - 2s 6ms/step - loss: 0.9905 - accuracy: 0.6481 - val_loss: 0.9886 - val_accuracy: 0.6594\n",
      "Epoch 4/100\n",
      "391/391 [==============================] - 2s 6ms/step - loss: 0.8827 - accuracy: 0.6895 - val_loss: 0.9030 - val_accuracy: 0.6856\n",
      "Epoch 5/100\n",
      "391/391 [==============================] - 2s 6ms/step - loss: 0.8038 - accuracy: 0.7184 - val_loss: 0.9379 - val_accuracy: 0.6874\n",
      "Epoch 6/100\n",
      "391/391 [==============================] - 2s 6ms/step - loss: 0.7492 - accuracy: 0.7387 - val_loss: 1.2825 - val_accuracy: 0.6028\n",
      "Epoch 7/100\n",
      "391/391 [==============================] - 2s 6ms/step - loss: 0.7074 - accuracy: 0.7516 - val_loss: 0.8229 - val_accuracy: 0.7173\n",
      "Epoch 8/100\n",
      "391/391 [==============================] - 2s 6ms/step - loss: 0.6662 - accuracy: 0.7671 - val_loss: 0.7603 - val_accuracy: 0.7368\n",
      "Epoch 9/100\n",
      "391/391 [==============================] - 2s 6ms/step - loss: 0.6282 - accuracy: 0.7794 - val_loss: 0.7786 - val_accuracy: 0.7356\n",
      "Epoch 10/100\n",
      "391/391 [==============================] - 2s 6ms/step - loss: 0.6063 - accuracy: 0.7879 - val_loss: 0.8149 - val_accuracy: 0.7339\n",
      "Epoch 11/100\n",
      "391/391 [==============================] - 2s 6ms/step - loss: 0.5811 - accuracy: 0.7957 - val_loss: 0.6983 - val_accuracy: 0.7650\n",
      "Epoch 12/100\n",
      "391/391 [==============================] - 2s 6ms/step - loss: 0.5573 - accuracy: 0.8066 - val_loss: 0.7417 - val_accuracy: 0.7586\n",
      "Epoch 13/100\n",
      "391/391 [==============================] - 2s 6ms/step - loss: 0.5454 - accuracy: 0.8087 - val_loss: 0.9088 - val_accuracy: 0.7210\n",
      "Epoch 14/100\n",
      "391/391 [==============================] - 2s 6ms/step - loss: 0.5272 - accuracy: 0.8156 - val_loss: 0.7209 - val_accuracy: 0.7460\n",
      "Epoch 15/100\n",
      "391/391 [==============================] - 2s 6ms/step - loss: 0.5103 - accuracy: 0.8212 - val_loss: 0.7168 - val_accuracy: 0.7666\n",
      "Epoch 16/100\n",
      "391/391 [==============================] - 2s 6ms/step - loss: 0.4891 - accuracy: 0.8270 - val_loss: 0.6704 - val_accuracy: 0.7792\n",
      "Epoch 17/100\n",
      "391/391 [==============================] - 2s 6ms/step - loss: 0.4777 - accuracy: 0.8326 - val_loss: 0.7010 - val_accuracy: 0.7761\n",
      "Epoch 18/100\n",
      "391/391 [==============================] - 2s 6ms/step - loss: 0.4709 - accuracy: 0.8341 - val_loss: 0.6659 - val_accuracy: 0.7749\n",
      "Epoch 19/100\n",
      "391/391 [==============================] - 2s 6ms/step - loss: 0.4504 - accuracy: 0.8399 - val_loss: 0.6682 - val_accuracy: 0.7794\n",
      "Epoch 20/100\n",
      "391/391 [==============================] - 2s 6ms/step - loss: 0.4417 - accuracy: 0.8444 - val_loss: 0.6946 - val_accuracy: 0.7872\n",
      "Epoch 21/100\n",
      "391/391 [==============================] - 2s 6ms/step - loss: 0.4222 - accuracy: 0.8516 - val_loss: 0.6276 - val_accuracy: 0.7987\n",
      "Epoch 22/100\n",
      "391/391 [==============================] - 2s 6ms/step - loss: 0.4198 - accuracy: 0.8518 - val_loss: 0.5827 - val_accuracy: 0.8062\n",
      "Epoch 23/100\n",
      "391/391 [==============================] - 2s 6ms/step - loss: 0.4078 - accuracy: 0.8572 - val_loss: 0.6696 - val_accuracy: 0.7805\n",
      "Epoch 24/100\n",
      "391/391 [==============================] - 2s 6ms/step - loss: 0.3974 - accuracy: 0.8603 - val_loss: 0.7788 - val_accuracy: 0.7628\n",
      "Epoch 25/100\n",
      "391/391 [==============================] - 2s 6ms/step - loss: 0.3846 - accuracy: 0.8630 - val_loss: 0.6723 - val_accuracy: 0.7871\n",
      "Epoch 26/100\n",
      "391/391 [==============================] - 2s 6ms/step - loss: 0.3778 - accuracy: 0.8664 - val_loss: 0.7832 - val_accuracy: 0.7600\n",
      "Epoch 27/100\n",
      "391/391 [==============================] - 2s 6ms/step - loss: 0.3698 - accuracy: 0.8697 - val_loss: 0.8737 - val_accuracy: 0.7389\n",
      "Epoch 28/100\n",
      "391/391 [==============================] - 2s 6ms/step - loss: 0.3618 - accuracy: 0.8708 - val_loss: 0.8024 - val_accuracy: 0.7597\n",
      "Epoch 29/100\n",
      "391/391 [==============================] - 2s 6ms/step - loss: 0.3523 - accuracy: 0.8759 - val_loss: 0.6710 - val_accuracy: 0.7926\n",
      "Epoch 30/100\n",
      "391/391 [==============================] - 2s 6ms/step - loss: 0.3505 - accuracy: 0.8754 - val_loss: 0.5809 - val_accuracy: 0.8211\n",
      "Epoch 31/100\n",
      "391/391 [==============================] - 2s 6ms/step - loss: 0.3382 - accuracy: 0.8792 - val_loss: 0.5425 - val_accuracy: 0.8290\n",
      "Epoch 32/100\n",
      "391/391 [==============================] - 2s 6ms/step - loss: 0.3335 - accuracy: 0.8827 - val_loss: 0.6027 - val_accuracy: 0.8183\n",
      "Epoch 33/100\n",
      "391/391 [==============================] - 2s 6ms/step - loss: 0.3199 - accuracy: 0.8872 - val_loss: 0.5678 - val_accuracy: 0.8216\n",
      "Epoch 34/100\n",
      "391/391 [==============================] - 2s 6ms/step - loss: 0.3142 - accuracy: 0.8885 - val_loss: 0.6663 - val_accuracy: 0.8007\n",
      "Epoch 35/100\n",
      "391/391 [==============================] - 2s 6ms/step - loss: 0.3133 - accuracy: 0.8881 - val_loss: 0.6569 - val_accuracy: 0.8015\n",
      "Epoch 36/100\n",
      "391/391 [==============================] - 2s 6ms/step - loss: 0.3034 - accuracy: 0.8911 - val_loss: 0.5813 - val_accuracy: 0.8256\n",
      "Epoch 37/100\n",
      "391/391 [==============================] - 2s 6ms/step - loss: 0.2994 - accuracy: 0.8940 - val_loss: 0.6121 - val_accuracy: 0.8165\n",
      "Epoch 38/100\n",
      "391/391 [==============================] - 2s 6ms/step - loss: 0.2935 - accuracy: 0.8970 - val_loss: 0.5673 - val_accuracy: 0.8277\n",
      "Epoch 39/100\n",
      "391/391 [==============================] - 2s 6ms/step - loss: 0.2864 - accuracy: 0.8977 - val_loss: 0.5965 - val_accuracy: 0.8218\n",
      "Epoch 40/100\n",
      "391/391 [==============================] - 2s 6ms/step - loss: 0.2847 - accuracy: 0.8986 - val_loss: 0.6027 - val_accuracy: 0.8174\n",
      "Epoch 41/100\n",
      "391/391 [==============================] - 2s 6ms/step - loss: 0.2774 - accuracy: 0.9006 - val_loss: 0.5901 - val_accuracy: 0.8265\n",
      "Epoch 42/100\n",
      "391/391 [==============================] - 2s 6ms/step - loss: 0.2757 - accuracy: 0.9027 - val_loss: 0.5960 - val_accuracy: 0.8230\n",
      "Epoch 43/100\n",
      "391/391 [==============================] - 2s 6ms/step - loss: 0.2729 - accuracy: 0.9041 - val_loss: 0.7732 - val_accuracy: 0.7857\n",
      "Epoch 44/100\n",
      "391/391 [==============================] - 2s 6ms/step - loss: 0.2630 - accuracy: 0.9057 - val_loss: 0.5636 - val_accuracy: 0.8319\n",
      "Epoch 45/100\n",
      "391/391 [==============================] - 2s 6ms/step - loss: 0.2607 - accuracy: 0.9072 - val_loss: 0.6698 - val_accuracy: 0.8043\n",
      "Epoch 46/100\n",
      "391/391 [==============================] - 2s 6ms/step - loss: 0.2583 - accuracy: 0.9087 - val_loss: 0.6818 - val_accuracy: 0.7988\n",
      "Epoch 47/100\n",
      "391/391 [==============================] - 2s 6ms/step - loss: 0.2491 - accuracy: 0.9116 - val_loss: 0.6515 - val_accuracy: 0.8123\n",
      "Epoch 48/100\n",
      "391/391 [==============================] - 2s 6ms/step - loss: 0.2494 - accuracy: 0.9110 - val_loss: 0.6657 - val_accuracy: 0.8084\n",
      "Epoch 49/100\n",
      "391/391 [==============================] - 2s 6ms/step - loss: 0.2439 - accuracy: 0.9139 - val_loss: 0.6252 - val_accuracy: 0.8225\n",
      "Epoch 50/100\n",
      "391/391 [==============================] - 2s 6ms/step - loss: 0.2376 - accuracy: 0.9154 - val_loss: 0.6475 - val_accuracy: 0.8108\n",
      "Epoch 51/100\n",
      "391/391 [==============================] - 2s 6ms/step - loss: 0.2358 - accuracy: 0.9160 - val_loss: 0.6334 - val_accuracy: 0.8205\n",
      "Epoch 52/100\n",
      "391/391 [==============================] - 2s 6ms/step - loss: 0.2285 - accuracy: 0.9197 - val_loss: 0.7992 - val_accuracy: 0.7925\n",
      "Epoch 53/100\n",
      "391/391 [==============================] - 2s 6ms/step - loss: 0.2308 - accuracy: 0.9170 - val_loss: 0.7387 - val_accuracy: 0.8059\n",
      "Epoch 54/100\n",
      "391/391 [==============================] - 2s 6ms/step - loss: 0.2259 - accuracy: 0.9195 - val_loss: 0.6239 - val_accuracy: 0.8295\n",
      "Epoch 55/100\n",
      "391/391 [==============================] - 2s 6ms/step - loss: 0.2203 - accuracy: 0.9221 - val_loss: 0.6576 - val_accuracy: 0.8188\n",
      "Epoch 56/100\n",
      "391/391 [==============================] - 2s 6ms/step - loss: 0.2142 - accuracy: 0.9236 - val_loss: 0.7597 - val_accuracy: 0.7947\n",
      "Epoch 57/100\n",
      "391/391 [==============================] - 2s 6ms/step - loss: 0.2156 - accuracy: 0.9224 - val_loss: 0.6451 - val_accuracy: 0.8265\n"
     ]
    },
    {
     "name": "stdout",
     "output_type": "stream",
     "text": [
      "Epoch 58/100\n",
      "391/391 [==============================] - 2s 6ms/step - loss: 0.2117 - accuracy: 0.9251 - val_loss: 0.6020 - val_accuracy: 0.8372\n",
      "Epoch 59/100\n",
      "391/391 [==============================] - 2s 6ms/step - loss: 0.2114 - accuracy: 0.9253 - val_loss: 0.6893 - val_accuracy: 0.8192\n",
      "Epoch 60/100\n",
      "391/391 [==============================] - 2s 6ms/step - loss: 0.2101 - accuracy: 0.9256 - val_loss: 0.6331 - val_accuracy: 0.8282\n",
      "Epoch 61/100\n",
      "391/391 [==============================] - 2s 6ms/step - loss: 0.2057 - accuracy: 0.9268 - val_loss: 0.6474 - val_accuracy: 0.8211\n",
      "Epoch 62/100\n",
      "391/391 [==============================] - 2s 6ms/step - loss: 0.2051 - accuracy: 0.9272 - val_loss: 0.6170 - val_accuracy: 0.8287\n",
      "Epoch 63/100\n",
      "391/391 [==============================] - 2s 6ms/step - loss: 0.2060 - accuracy: 0.9257 - val_loss: 0.6757 - val_accuracy: 0.8232\n",
      "Epoch 64/100\n",
      "391/391 [==============================] - 2s 6ms/step - loss: 0.1957 - accuracy: 0.9302 - val_loss: 0.6284 - val_accuracy: 0.8346\n",
      "Epoch 65/100\n",
      "391/391 [==============================] - 2s 6ms/step - loss: 0.1928 - accuracy: 0.9316 - val_loss: 0.8194 - val_accuracy: 0.8103\n",
      "Epoch 66/100\n",
      "391/391 [==============================] - 2s 6ms/step - loss: 0.1944 - accuracy: 0.9300 - val_loss: 0.8518 - val_accuracy: 0.7897\n",
      "Epoch 67/100\n",
      "391/391 [==============================] - 2s 6ms/step - loss: 0.1925 - accuracy: 0.9323 - val_loss: 0.6703 - val_accuracy: 0.8242\n",
      "Epoch 68/100\n",
      "391/391 [==============================] - 2s 6ms/step - loss: 0.1863 - accuracy: 0.9326 - val_loss: 0.6725 - val_accuracy: 0.8263\n",
      "Epoch 69/100\n",
      "391/391 [==============================] - 2s 6ms/step - loss: 0.1859 - accuracy: 0.9330 - val_loss: 0.6495 - val_accuracy: 0.8299\n",
      "Epoch 70/100\n",
      "391/391 [==============================] - 2s 6ms/step - loss: 0.1817 - accuracy: 0.9355 - val_loss: 0.6749 - val_accuracy: 0.8299\n",
      "Epoch 71/100\n",
      "391/391 [==============================] - 2s 6ms/step - loss: 0.1789 - accuracy: 0.9363 - val_loss: 0.7637 - val_accuracy: 0.8157\n",
      "Epoch 72/100\n",
      "391/391 [==============================] - 2s 6ms/step - loss: 0.1814 - accuracy: 0.9352 - val_loss: 0.8938 - val_accuracy: 0.7927\n",
      "Epoch 73/100\n",
      "391/391 [==============================] - 2s 6ms/step - loss: 0.1792 - accuracy: 0.9351 - val_loss: 0.6565 - val_accuracy: 0.8350\n",
      "Epoch 74/100\n",
      "391/391 [==============================] - 2s 6ms/step - loss: 0.1803 - accuracy: 0.9369 - val_loss: 0.9909 - val_accuracy: 0.7716\n",
      "Epoch 75/100\n",
      " 21/391 [>.............................] - ETA: 1s - loss: 0.1698 - accuracy: 0.9420"
     ]
    },
    {
     "ename": "KeyboardInterrupt",
     "evalue": "",
     "output_type": "error",
     "traceback": [
      "\u001b[0;31m---------------------------------------------------------------------------\u001b[0m",
      "\u001b[0;31mKeyboardInterrupt\u001b[0m                         Traceback (most recent call last)",
      "\u001b[0;32m<ipython-input-6-3e14bba13785>\u001b[0m in \u001b[0;36m<module>\u001b[0;34m\u001b[0m\n\u001b[0;32m----> 1\u001b[0;31m model.fit(\n\u001b[0m\u001b[1;32m      2\u001b[0m     \u001b[0mx\u001b[0m\u001b[0;34m=\u001b[0m\u001b[0mdata\u001b[0m\u001b[0;34m[\u001b[0m\u001b[0;36m0\u001b[0m\u001b[0;34m]\u001b[0m\u001b[0;34m,\u001b[0m\u001b[0;34m\u001b[0m\u001b[0;34m\u001b[0m\u001b[0m\n\u001b[1;32m      3\u001b[0m     \u001b[0;31m#steps_per_epoch=1,\u001b[0m\u001b[0;34m\u001b[0m\u001b[0;34m\u001b[0m\u001b[0;34m\u001b[0m\u001b[0m\n\u001b[1;32m      4\u001b[0m     \u001b[0mepochs\u001b[0m\u001b[0;34m=\u001b[0m\u001b[0;36m100\u001b[0m\u001b[0;34m,\u001b[0m\u001b[0;34m\u001b[0m\u001b[0;34m\u001b[0m\u001b[0m\n\u001b[1;32m      5\u001b[0m     \u001b[0mvalidation_data\u001b[0m\u001b[0;34m=\u001b[0m\u001b[0mdata\u001b[0m\u001b[0;34m[\u001b[0m\u001b[0;36m1\u001b[0m\u001b[0;34m]\u001b[0m\u001b[0;34m,\u001b[0m\u001b[0;34m\u001b[0m\u001b[0;34m\u001b[0m\u001b[0m\n",
      "\u001b[0;32m~/anaconda2/envs/master-thesis/lib/python3.8/site-packages/tensorflow/python/keras/engine/training.py\u001b[0m in \u001b[0;36m_method_wrapper\u001b[0;34m(self, *args, **kwargs)\u001b[0m\n\u001b[1;32m     64\u001b[0m   \u001b[0;32mdef\u001b[0m \u001b[0m_method_wrapper\u001b[0m\u001b[0;34m(\u001b[0m\u001b[0mself\u001b[0m\u001b[0;34m,\u001b[0m \u001b[0;34m*\u001b[0m\u001b[0margs\u001b[0m\u001b[0;34m,\u001b[0m \u001b[0;34m**\u001b[0m\u001b[0mkwargs\u001b[0m\u001b[0;34m)\u001b[0m\u001b[0;34m:\u001b[0m\u001b[0;34m\u001b[0m\u001b[0;34m\u001b[0m\u001b[0m\n\u001b[1;32m     65\u001b[0m     \u001b[0;32mif\u001b[0m \u001b[0;32mnot\u001b[0m \u001b[0mself\u001b[0m\u001b[0;34m.\u001b[0m\u001b[0m_in_multi_worker_mode\u001b[0m\u001b[0;34m(\u001b[0m\u001b[0;34m)\u001b[0m\u001b[0;34m:\u001b[0m  \u001b[0;31m# pylint: disable=protected-access\u001b[0m\u001b[0;34m\u001b[0m\u001b[0;34m\u001b[0m\u001b[0m\n\u001b[0;32m---> 66\u001b[0;31m       \u001b[0;32mreturn\u001b[0m \u001b[0mmethod\u001b[0m\u001b[0;34m(\u001b[0m\u001b[0mself\u001b[0m\u001b[0;34m,\u001b[0m \u001b[0;34m*\u001b[0m\u001b[0margs\u001b[0m\u001b[0;34m,\u001b[0m \u001b[0;34m**\u001b[0m\u001b[0mkwargs\u001b[0m\u001b[0;34m)\u001b[0m\u001b[0;34m\u001b[0m\u001b[0;34m\u001b[0m\u001b[0m\n\u001b[0m\u001b[1;32m     67\u001b[0m \u001b[0;34m\u001b[0m\u001b[0m\n\u001b[1;32m     68\u001b[0m     \u001b[0;31m# Running inside `run_distribute_coordinator` already.\u001b[0m\u001b[0;34m\u001b[0m\u001b[0;34m\u001b[0m\u001b[0;34m\u001b[0m\u001b[0m\n",
      "\u001b[0;32m~/anaconda2/envs/master-thesis/lib/python3.8/site-packages/tensorflow/python/keras/engine/training.py\u001b[0m in \u001b[0;36mfit\u001b[0;34m(self, x, y, batch_size, epochs, verbose, callbacks, validation_split, validation_data, shuffle, class_weight, sample_weight, initial_epoch, steps_per_epoch, validation_steps, validation_batch_size, validation_freq, max_queue_size, workers, use_multiprocessing)\u001b[0m\n\u001b[1;32m    846\u001b[0m                 batch_size=batch_size):\n\u001b[1;32m    847\u001b[0m               \u001b[0mcallbacks\u001b[0m\u001b[0;34m.\u001b[0m\u001b[0mon_train_batch_begin\u001b[0m\u001b[0;34m(\u001b[0m\u001b[0mstep\u001b[0m\u001b[0;34m)\u001b[0m\u001b[0;34m\u001b[0m\u001b[0;34m\u001b[0m\u001b[0m\n\u001b[0;32m--> 848\u001b[0;31m               \u001b[0mtmp_logs\u001b[0m \u001b[0;34m=\u001b[0m \u001b[0mtrain_function\u001b[0m\u001b[0;34m(\u001b[0m\u001b[0miterator\u001b[0m\u001b[0;34m)\u001b[0m\u001b[0;34m\u001b[0m\u001b[0;34m\u001b[0m\u001b[0m\n\u001b[0m\u001b[1;32m    849\u001b[0m               \u001b[0;31m# Catch OutOfRangeError for Datasets of unknown size.\u001b[0m\u001b[0;34m\u001b[0m\u001b[0;34m\u001b[0m\u001b[0;34m\u001b[0m\u001b[0m\n\u001b[1;32m    850\u001b[0m               \u001b[0;31m# This blocks until the batch has finished executing.\u001b[0m\u001b[0;34m\u001b[0m\u001b[0;34m\u001b[0m\u001b[0;34m\u001b[0m\u001b[0m\n",
      "\u001b[0;32m~/anaconda2/envs/master-thesis/lib/python3.8/site-packages/tensorflow/python/eager/def_function.py\u001b[0m in \u001b[0;36m__call__\u001b[0;34m(self, *args, **kwds)\u001b[0m\n\u001b[1;32m    578\u001b[0m         \u001b[0mxla_context\u001b[0m\u001b[0;34m.\u001b[0m\u001b[0mExit\u001b[0m\u001b[0;34m(\u001b[0m\u001b[0;34m)\u001b[0m\u001b[0;34m\u001b[0m\u001b[0;34m\u001b[0m\u001b[0m\n\u001b[1;32m    579\u001b[0m     \u001b[0;32melse\u001b[0m\u001b[0;34m:\u001b[0m\u001b[0;34m\u001b[0m\u001b[0;34m\u001b[0m\u001b[0m\n\u001b[0;32m--> 580\u001b[0;31m       \u001b[0mresult\u001b[0m \u001b[0;34m=\u001b[0m \u001b[0mself\u001b[0m\u001b[0;34m.\u001b[0m\u001b[0m_call\u001b[0m\u001b[0;34m(\u001b[0m\u001b[0;34m*\u001b[0m\u001b[0margs\u001b[0m\u001b[0;34m,\u001b[0m \u001b[0;34m**\u001b[0m\u001b[0mkwds\u001b[0m\u001b[0;34m)\u001b[0m\u001b[0;34m\u001b[0m\u001b[0;34m\u001b[0m\u001b[0m\n\u001b[0m\u001b[1;32m    581\u001b[0m \u001b[0;34m\u001b[0m\u001b[0m\n\u001b[1;32m    582\u001b[0m     \u001b[0;32mif\u001b[0m \u001b[0mtracing_count\u001b[0m \u001b[0;34m==\u001b[0m \u001b[0mself\u001b[0m\u001b[0;34m.\u001b[0m\u001b[0m_get_tracing_count\u001b[0m\u001b[0;34m(\u001b[0m\u001b[0;34m)\u001b[0m\u001b[0;34m:\u001b[0m\u001b[0;34m\u001b[0m\u001b[0;34m\u001b[0m\u001b[0m\n",
      "\u001b[0;32m~/anaconda2/envs/master-thesis/lib/python3.8/site-packages/tensorflow/python/eager/def_function.py\u001b[0m in \u001b[0;36m_call\u001b[0;34m(self, *args, **kwds)\u001b[0m\n\u001b[1;32m    609\u001b[0m       \u001b[0;31m# In this case we have created variables on the first call, so we run the\u001b[0m\u001b[0;34m\u001b[0m\u001b[0;34m\u001b[0m\u001b[0;34m\u001b[0m\u001b[0m\n\u001b[1;32m    610\u001b[0m       \u001b[0;31m# defunned version which is guaranteed to never create variables.\u001b[0m\u001b[0;34m\u001b[0m\u001b[0;34m\u001b[0m\u001b[0;34m\u001b[0m\u001b[0m\n\u001b[0;32m--> 611\u001b[0;31m       \u001b[0;32mreturn\u001b[0m \u001b[0mself\u001b[0m\u001b[0;34m.\u001b[0m\u001b[0m_stateless_fn\u001b[0m\u001b[0;34m(\u001b[0m\u001b[0;34m*\u001b[0m\u001b[0margs\u001b[0m\u001b[0;34m,\u001b[0m \u001b[0;34m**\u001b[0m\u001b[0mkwds\u001b[0m\u001b[0;34m)\u001b[0m  \u001b[0;31m# pylint: disable=not-callable\u001b[0m\u001b[0;34m\u001b[0m\u001b[0;34m\u001b[0m\u001b[0m\n\u001b[0m\u001b[1;32m    612\u001b[0m     \u001b[0;32melif\u001b[0m \u001b[0mself\u001b[0m\u001b[0;34m.\u001b[0m\u001b[0m_stateful_fn\u001b[0m \u001b[0;32mis\u001b[0m \u001b[0;32mnot\u001b[0m \u001b[0;32mNone\u001b[0m\u001b[0;34m:\u001b[0m\u001b[0;34m\u001b[0m\u001b[0;34m\u001b[0m\u001b[0m\n\u001b[1;32m    613\u001b[0m       \u001b[0;31m# Release the lock early so that multiple threads can perform the call\u001b[0m\u001b[0;34m\u001b[0m\u001b[0;34m\u001b[0m\u001b[0;34m\u001b[0m\u001b[0m\n",
      "\u001b[0;32m~/anaconda2/envs/master-thesis/lib/python3.8/site-packages/tensorflow/python/eager/function.py\u001b[0m in \u001b[0;36m__call__\u001b[0;34m(self, *args, **kwargs)\u001b[0m\n\u001b[1;32m   2418\u001b[0m     \u001b[0;32mwith\u001b[0m \u001b[0mself\u001b[0m\u001b[0;34m.\u001b[0m\u001b[0m_lock\u001b[0m\u001b[0;34m:\u001b[0m\u001b[0;34m\u001b[0m\u001b[0;34m\u001b[0m\u001b[0m\n\u001b[1;32m   2419\u001b[0m       \u001b[0mgraph_function\u001b[0m\u001b[0;34m,\u001b[0m \u001b[0margs\u001b[0m\u001b[0;34m,\u001b[0m \u001b[0mkwargs\u001b[0m \u001b[0;34m=\u001b[0m \u001b[0mself\u001b[0m\u001b[0;34m.\u001b[0m\u001b[0m_maybe_define_function\u001b[0m\u001b[0;34m(\u001b[0m\u001b[0margs\u001b[0m\u001b[0;34m,\u001b[0m \u001b[0mkwargs\u001b[0m\u001b[0;34m)\u001b[0m\u001b[0;34m\u001b[0m\u001b[0;34m\u001b[0m\u001b[0m\n\u001b[0;32m-> 2420\u001b[0;31m     \u001b[0;32mreturn\u001b[0m \u001b[0mgraph_function\u001b[0m\u001b[0;34m.\u001b[0m\u001b[0m_filtered_call\u001b[0m\u001b[0;34m(\u001b[0m\u001b[0margs\u001b[0m\u001b[0;34m,\u001b[0m \u001b[0mkwargs\u001b[0m\u001b[0;34m)\u001b[0m  \u001b[0;31m# pylint: disable=protected-access\u001b[0m\u001b[0;34m\u001b[0m\u001b[0;34m\u001b[0m\u001b[0m\n\u001b[0m\u001b[1;32m   2421\u001b[0m \u001b[0;34m\u001b[0m\u001b[0m\n\u001b[1;32m   2422\u001b[0m   \u001b[0;34m@\u001b[0m\u001b[0mproperty\u001b[0m\u001b[0;34m\u001b[0m\u001b[0;34m\u001b[0m\u001b[0m\n",
      "\u001b[0;32m~/anaconda2/envs/master-thesis/lib/python3.8/site-packages/tensorflow/python/eager/function.py\u001b[0m in \u001b[0;36m_filtered_call\u001b[0;34m(self, args, kwargs)\u001b[0m\n\u001b[1;32m   1659\u001b[0m       \u001b[0;31m`\u001b[0m\u001b[0margs\u001b[0m\u001b[0;31m`\u001b[0m \u001b[0;32mand\u001b[0m\u001b[0;31m \u001b[0m\u001b[0;31m`\u001b[0m\u001b[0mkwargs\u001b[0m\u001b[0;31m`\u001b[0m\u001b[0;34m.\u001b[0m\u001b[0;34m\u001b[0m\u001b[0;34m\u001b[0m\u001b[0m\n\u001b[1;32m   1660\u001b[0m     \"\"\"\n\u001b[0;32m-> 1661\u001b[0;31m     return self._call_flat(\n\u001b[0m\u001b[1;32m   1662\u001b[0m         (t for t in nest.flatten((args, kwargs), expand_composites=True)\n\u001b[1;32m   1663\u001b[0m          if isinstance(t, (ops.Tensor,\n",
      "\u001b[0;32m~/anaconda2/envs/master-thesis/lib/python3.8/site-packages/tensorflow/python/eager/function.py\u001b[0m in \u001b[0;36m_call_flat\u001b[0;34m(self, args, captured_inputs, cancellation_manager)\u001b[0m\n\u001b[1;32m   1743\u001b[0m         and executing_eagerly):\n\u001b[1;32m   1744\u001b[0m       \u001b[0;31m# No tape is watching; skip to running the function.\u001b[0m\u001b[0;34m\u001b[0m\u001b[0;34m\u001b[0m\u001b[0;34m\u001b[0m\u001b[0m\n\u001b[0;32m-> 1745\u001b[0;31m       return self._build_call_outputs(self._inference_function.call(\n\u001b[0m\u001b[1;32m   1746\u001b[0m           ctx, args, cancellation_manager=cancellation_manager))\n\u001b[1;32m   1747\u001b[0m     forward_backward = self._select_forward_and_backward_functions(\n",
      "\u001b[0;32m~/anaconda2/envs/master-thesis/lib/python3.8/site-packages/tensorflow/python/eager/function.py\u001b[0m in \u001b[0;36mcall\u001b[0;34m(self, ctx, args, cancellation_manager)\u001b[0m\n\u001b[1;32m    591\u001b[0m       \u001b[0;32mwith\u001b[0m \u001b[0m_InterpolateFunctionError\u001b[0m\u001b[0;34m(\u001b[0m\u001b[0mself\u001b[0m\u001b[0;34m)\u001b[0m\u001b[0;34m:\u001b[0m\u001b[0;34m\u001b[0m\u001b[0;34m\u001b[0m\u001b[0m\n\u001b[1;32m    592\u001b[0m         \u001b[0;32mif\u001b[0m \u001b[0mcancellation_manager\u001b[0m \u001b[0;32mis\u001b[0m \u001b[0;32mNone\u001b[0m\u001b[0;34m:\u001b[0m\u001b[0;34m\u001b[0m\u001b[0;34m\u001b[0m\u001b[0m\n\u001b[0;32m--> 593\u001b[0;31m           outputs = execute.execute(\n\u001b[0m\u001b[1;32m    594\u001b[0m               \u001b[0mstr\u001b[0m\u001b[0;34m(\u001b[0m\u001b[0mself\u001b[0m\u001b[0;34m.\u001b[0m\u001b[0msignature\u001b[0m\u001b[0;34m.\u001b[0m\u001b[0mname\u001b[0m\u001b[0;34m)\u001b[0m\u001b[0;34m,\u001b[0m\u001b[0;34m\u001b[0m\u001b[0;34m\u001b[0m\u001b[0m\n\u001b[1;32m    595\u001b[0m               \u001b[0mnum_outputs\u001b[0m\u001b[0;34m=\u001b[0m\u001b[0mself\u001b[0m\u001b[0;34m.\u001b[0m\u001b[0m_num_outputs\u001b[0m\u001b[0;34m,\u001b[0m\u001b[0;34m\u001b[0m\u001b[0;34m\u001b[0m\u001b[0m\n",
      "\u001b[0;32m~/anaconda2/envs/master-thesis/lib/python3.8/site-packages/tensorflow/python/eager/execute.py\u001b[0m in \u001b[0;36mquick_execute\u001b[0;34m(op_name, num_outputs, inputs, attrs, ctx, name)\u001b[0m\n\u001b[1;32m     57\u001b[0m   \u001b[0;32mtry\u001b[0m\u001b[0;34m:\u001b[0m\u001b[0;34m\u001b[0m\u001b[0;34m\u001b[0m\u001b[0m\n\u001b[1;32m     58\u001b[0m     \u001b[0mctx\u001b[0m\u001b[0;34m.\u001b[0m\u001b[0mensure_initialized\u001b[0m\u001b[0;34m(\u001b[0m\u001b[0;34m)\u001b[0m\u001b[0;34m\u001b[0m\u001b[0;34m\u001b[0m\u001b[0m\n\u001b[0;32m---> 59\u001b[0;31m     tensors = pywrap_tfe.TFE_Py_Execute(ctx._handle, device_name, op_name,\n\u001b[0m\u001b[1;32m     60\u001b[0m                                         inputs, attrs, num_outputs)\n\u001b[1;32m     61\u001b[0m   \u001b[0;32mexcept\u001b[0m \u001b[0mcore\u001b[0m\u001b[0;34m.\u001b[0m\u001b[0m_NotOkStatusException\u001b[0m \u001b[0;32mas\u001b[0m \u001b[0me\u001b[0m\u001b[0;34m:\u001b[0m\u001b[0;34m\u001b[0m\u001b[0;34m\u001b[0m\u001b[0m\n",
      "\u001b[0;31mKeyboardInterrupt\u001b[0m: "
     ]
    }
   ],
   "source": [
    "model.fit(\n",
    "    x=data[0],\n",
    "    #steps_per_epoch=1,\n",
    "    epochs=100,\n",
    "    validation_data=data[1],\n",
    ")"
   ]
  },
  {
   "cell_type": "code",
   "execution_count": 12,
   "metadata": {},
   "outputs": [],
   "source": [
    "import foolbox as fb\n",
    "fmodel = fb.models.TensorFlowModel(model, bounds=(0,1))\n",
    "attack = fb.attacks.LinfProjectedGradientDescentAttack()\n",
    "adversarials, _, success = attack(\n",
    "    fmodel,\n",
    "    data[2],\n",
    "    data[3],\n",
    "    epsilons=[x/255 for x in [2,4,8,16,32]]\n",
    ")"
   ]
  },
  {
   "cell_type": "code",
   "execution_count": 13,
   "metadata": {},
   "outputs": [
    {
     "data": {
      "text/plain": [
       "<tf.Tensor: shape=(5, 256), dtype=bool, numpy=\n",
       "array([[ True,  True,  True, ...,  True,  True,  True],\n",
       "       [ True,  True,  True, ...,  True,  True,  True],\n",
       "       [ True,  True,  True, ...,  True,  True,  True],\n",
       "       [ True,  True,  True, ...,  True,  True,  True],\n",
       "       [ True,  True,  True, ...,  True,  True,  True]])>"
      ]
     },
     "execution_count": 13,
     "metadata": {},
     "output_type": "execute_result"
    }
   ],
   "source": [
    "success"
   ]
  },
  {
   "cell_type": "code",
   "execution_count": 22,
   "metadata": {},
   "outputs": [
    {
     "ename": "NotFoundError",
     "evalue": "Could not find valid device for node.\nNode:{{node Sum}}\nAll kernels registered for op Sum :\n  device='XLA_CPU'; Tidx in [DT_INT32, DT_INT64]; T in [DT_FLOAT, DT_DOUBLE, DT_INT32, DT_UINT8, DT_INT16, ..., DT_UINT16, DT_COMPLEX128, DT_HALF, DT_UINT32, DT_UINT64]\n  device='XLA_GPU'; Tidx in [DT_INT32, DT_INT64]; T in [DT_FLOAT, DT_DOUBLE, DT_INT32, DT_UINT8, DT_INT16, ..., DT_UINT16, DT_COMPLEX128, DT_HALF, DT_UINT32, DT_UINT64]\n  device='XLA_CPU_JIT'; Tidx in [DT_INT32, DT_INT64]; T in [DT_FLOAT, DT_DOUBLE, DT_INT32, DT_UINT8, DT_INT16, ..., DT_UINT16, DT_COMPLEX128, DT_HALF, DT_UINT32, DT_UINT64]\n  device='XLA_GPU_JIT'; Tidx in [DT_INT32, DT_INT64]; T in [DT_FLOAT, DT_DOUBLE, DT_INT32, DT_UINT8, DT_INT16, ..., DT_UINT16, DT_COMPLEX128, DT_HALF, DT_UINT32, DT_UINT64]\n  device='CPU'; T in [DT_COMPLEX128]; Tidx in [DT_INT64]\n  device='CPU'; T in [DT_COMPLEX128]; Tidx in [DT_INT32]\n  device='CPU'; T in [DT_COMPLEX64]; Tidx in [DT_INT64]\n  device='CPU'; T in [DT_COMPLEX64]; Tidx in [DT_INT32]\n  device='CPU'; T in [DT_DOUBLE]; Tidx in [DT_INT64]\n  device='CPU'; T in [DT_DOUBLE]; Tidx in [DT_INT32]\n  device='CPU'; T in [DT_FLOAT]; Tidx in [DT_INT64]\n  device='CPU'; T in [DT_FLOAT]; Tidx in [DT_INT32]\n  device='CPU'; T in [DT_BFLOAT16]; Tidx in [DT_INT64]\n  device='CPU'; T in [DT_BFLOAT16]; Tidx in [DT_INT32]\n  device='CPU'; T in [DT_HALF]; Tidx in [DT_INT64]\n  device='CPU'; T in [DT_HALF]; Tidx in [DT_INT32]\n  device='CPU'; T in [DT_INT8]; Tidx in [DT_INT64]\n  device='CPU'; T in [DT_INT8]; Tidx in [DT_INT32]\n  device='CPU'; T in [DT_UINT8]; Tidx in [DT_INT64]\n  device='CPU'; T in [DT_UINT8]; Tidx in [DT_INT32]\n  device='CPU'; T in [DT_INT16]; Tidx in [DT_INT64]\n  device='CPU'; T in [DT_INT16]; Tidx in [DT_INT32]\n  device='CPU'; T in [DT_UINT16]; Tidx in [DT_INT64]\n  device='CPU'; T in [DT_UINT16]; Tidx in [DT_INT32]\n  device='CPU'; T in [DT_INT32]; Tidx in [DT_INT64]\n  device='CPU'; T in [DT_INT32]; Tidx in [DT_INT32]\n  device='CPU'; T in [DT_INT64]; Tidx in [DT_INT64]\n  device='CPU'; T in [DT_INT64]; Tidx in [DT_INT32]\n  device='GPU'; T in [DT_INT32]; Tidx in [DT_INT64]\n  device='GPU'; T in [DT_INT32]; Tidx in [DT_INT32]\n  device='GPU'; T in [DT_COMPLEX128]; Tidx in [DT_INT64]\n  device='GPU'; T in [DT_COMPLEX128]; Tidx in [DT_INT32]\n  device='GPU'; T in [DT_COMPLEX64]; Tidx in [DT_INT64]\n  device='GPU'; T in [DT_COMPLEX64]; Tidx in [DT_INT32]\n  device='GPU'; T in [DT_INT64]; Tidx in [DT_INT64]\n  device='GPU'; T in [DT_INT64]; Tidx in [DT_INT32]\n  device='GPU'; T in [DT_DOUBLE]; Tidx in [DT_INT64]\n  device='GPU'; T in [DT_DOUBLE]; Tidx in [DT_INT32]\n  device='GPU'; T in [DT_FLOAT]; Tidx in [DT_INT64]\n  device='GPU'; T in [DT_FLOAT]; Tidx in [DT_INT32]\n  device='GPU'; T in [DT_HALF]; Tidx in [DT_INT64]\n  device='GPU'; T in [DT_HALF]; Tidx in [DT_INT32]\n [Op:Sum]",
     "output_type": "error",
     "traceback": [
      "\u001b[0;31m---------------------------------------------------------------------------\u001b[0m",
      "\u001b[0;31mNotFoundError\u001b[0m                             Traceback (most recent call last)",
      "\u001b[0;32m<ipython-input-22-2b4c23c78bcd>\u001b[0m in \u001b[0;36m<module>\u001b[0;34m\u001b[0m\n\u001b[1;32m      1\u001b[0m \u001b[0;32mfor\u001b[0m \u001b[0ms\u001b[0m \u001b[0;32min\u001b[0m \u001b[0msuccess\u001b[0m\u001b[0;34m:\u001b[0m\u001b[0;34m\u001b[0m\u001b[0;34m\u001b[0m\u001b[0m\n\u001b[0;32m----> 2\u001b[0;31m     \u001b[0mprint\u001b[0m\u001b[0;34m(\u001b[0m\u001b[0mtf\u001b[0m\u001b[0;34m.\u001b[0m\u001b[0mmath\u001b[0m\u001b[0;34m.\u001b[0m\u001b[0mreduce_sum\u001b[0m\u001b[0;34m(\u001b[0m\u001b[0ms\u001b[0m\u001b[0;34m)\u001b[0m\u001b[0;34m)\u001b[0m\u001b[0;34m\u001b[0m\u001b[0;34m\u001b[0m\u001b[0m\n\u001b[0m",
      "\u001b[0;32m~/anaconda2/envs/master-thesis/lib/python3.8/site-packages/tensorflow/python/util/dispatch.py\u001b[0m in \u001b[0;36mwrapper\u001b[0;34m(*args, **kwargs)\u001b[0m\n\u001b[1;32m    178\u001b[0m     \u001b[0;34m\"\"\"Call target, and fall back on dispatchers if there is a TypeError.\"\"\"\u001b[0m\u001b[0;34m\u001b[0m\u001b[0;34m\u001b[0m\u001b[0m\n\u001b[1;32m    179\u001b[0m     \u001b[0;32mtry\u001b[0m\u001b[0;34m:\u001b[0m\u001b[0;34m\u001b[0m\u001b[0;34m\u001b[0m\u001b[0m\n\u001b[0;32m--> 180\u001b[0;31m       \u001b[0;32mreturn\u001b[0m \u001b[0mtarget\u001b[0m\u001b[0;34m(\u001b[0m\u001b[0;34m*\u001b[0m\u001b[0margs\u001b[0m\u001b[0;34m,\u001b[0m \u001b[0;34m**\u001b[0m\u001b[0mkwargs\u001b[0m\u001b[0;34m)\u001b[0m\u001b[0;34m\u001b[0m\u001b[0;34m\u001b[0m\u001b[0m\n\u001b[0m\u001b[1;32m    181\u001b[0m     \u001b[0;32mexcept\u001b[0m \u001b[0;34m(\u001b[0m\u001b[0mTypeError\u001b[0m\u001b[0;34m,\u001b[0m \u001b[0mValueError\u001b[0m\u001b[0;34m)\u001b[0m\u001b[0;34m:\u001b[0m\u001b[0;34m\u001b[0m\u001b[0;34m\u001b[0m\u001b[0m\n\u001b[1;32m    182\u001b[0m       \u001b[0;31m# Note: convert_to_eager_tensor currently raises a ValueError, not a\u001b[0m\u001b[0;34m\u001b[0m\u001b[0;34m\u001b[0m\u001b[0;34m\u001b[0m\u001b[0m\n",
      "\u001b[0;32m~/anaconda2/envs/master-thesis/lib/python3.8/site-packages/tensorflow/python/ops/math_ops.py\u001b[0m in \u001b[0;36mreduce_sum\u001b[0;34m(input_tensor, axis, keepdims, name)\u001b[0m\n\u001b[1;32m   1739\u001b[0m   \"\"\"\n\u001b[1;32m   1740\u001b[0m \u001b[0;34m\u001b[0m\u001b[0m\n\u001b[0;32m-> 1741\u001b[0;31m   return reduce_sum_with_dims(input_tensor, axis, keepdims, name,\n\u001b[0m\u001b[1;32m   1742\u001b[0m                               _ReductionDims(input_tensor, axis))\n\u001b[1;32m   1743\u001b[0m \u001b[0;34m\u001b[0m\u001b[0m\n",
      "\u001b[0;32m~/anaconda2/envs/master-thesis/lib/python3.8/site-packages/tensorflow/python/ops/math_ops.py\u001b[0m in \u001b[0;36mreduce_sum_with_dims\u001b[0;34m(input_tensor, axis, keepdims, name, dims)\u001b[0m\n\u001b[1;32m   1751\u001b[0m   return _may_reduce_to_scalar(\n\u001b[1;32m   1752\u001b[0m       \u001b[0mkeepdims\u001b[0m\u001b[0;34m,\u001b[0m \u001b[0maxis\u001b[0m\u001b[0;34m,\u001b[0m\u001b[0;34m\u001b[0m\u001b[0;34m\u001b[0m\u001b[0m\n\u001b[0;32m-> 1753\u001b[0;31m       gen_math_ops._sum(input_tensor, dims, keepdims, name=name))\n\u001b[0m\u001b[1;32m   1754\u001b[0m \u001b[0;34m\u001b[0m\u001b[0m\n\u001b[1;32m   1755\u001b[0m \u001b[0;34m\u001b[0m\u001b[0m\n",
      "\u001b[0;32m~/anaconda2/envs/master-thesis/lib/python3.8/site-packages/tensorflow/python/ops/gen_math_ops.py\u001b[0m in \u001b[0;36m_sum\u001b[0;34m(input, axis, keep_dims, name)\u001b[0m\n\u001b[1;32m  10164\u001b[0m         \u001b[0;32mpass\u001b[0m  \u001b[0;31m# Add nodes to the TensorFlow graph.\u001b[0m\u001b[0;34m\u001b[0m\u001b[0;34m\u001b[0m\u001b[0m\n\u001b[1;32m  10165\u001b[0m     \u001b[0;32mexcept\u001b[0m \u001b[0m_core\u001b[0m\u001b[0;34m.\u001b[0m\u001b[0m_NotOkStatusException\u001b[0m \u001b[0;32mas\u001b[0m \u001b[0me\u001b[0m\u001b[0;34m:\u001b[0m\u001b[0;34m\u001b[0m\u001b[0;34m\u001b[0m\u001b[0m\n\u001b[0;32m> 10166\u001b[0;31m       \u001b[0m_ops\u001b[0m\u001b[0;34m.\u001b[0m\u001b[0mraise_from_not_ok_status\u001b[0m\u001b[0;34m(\u001b[0m\u001b[0me\u001b[0m\u001b[0;34m,\u001b[0m \u001b[0mname\u001b[0m\u001b[0;34m)\u001b[0m\u001b[0;34m\u001b[0m\u001b[0;34m\u001b[0m\u001b[0m\n\u001b[0m\u001b[1;32m  10167\u001b[0m   \u001b[0;31m# Add nodes to the TensorFlow graph.\u001b[0m\u001b[0;34m\u001b[0m\u001b[0;34m\u001b[0m\u001b[0;34m\u001b[0m\u001b[0m\n\u001b[1;32m  10168\u001b[0m   \u001b[0;32mif\u001b[0m \u001b[0mkeep_dims\u001b[0m \u001b[0;32mis\u001b[0m \u001b[0;32mNone\u001b[0m\u001b[0;34m:\u001b[0m\u001b[0;34m\u001b[0m\u001b[0;34m\u001b[0m\u001b[0m\n",
      "\u001b[0;32m~/anaconda2/envs/master-thesis/lib/python3.8/site-packages/tensorflow/python/framework/ops.py\u001b[0m in \u001b[0;36mraise_from_not_ok_status\u001b[0;34m(e, name)\u001b[0m\n\u001b[1;32m   6651\u001b[0m   \u001b[0mmessage\u001b[0m \u001b[0;34m=\u001b[0m \u001b[0me\u001b[0m\u001b[0;34m.\u001b[0m\u001b[0mmessage\u001b[0m \u001b[0;34m+\u001b[0m \u001b[0;34m(\u001b[0m\u001b[0;34m\" name: \"\u001b[0m \u001b[0;34m+\u001b[0m \u001b[0mname\u001b[0m \u001b[0;32mif\u001b[0m \u001b[0mname\u001b[0m \u001b[0;32mis\u001b[0m \u001b[0;32mnot\u001b[0m \u001b[0;32mNone\u001b[0m \u001b[0;32melse\u001b[0m \u001b[0;34m\"\"\u001b[0m\u001b[0;34m)\u001b[0m\u001b[0;34m\u001b[0m\u001b[0;34m\u001b[0m\u001b[0m\n\u001b[1;32m   6652\u001b[0m   \u001b[0;31m# pylint: disable=protected-access\u001b[0m\u001b[0;34m\u001b[0m\u001b[0;34m\u001b[0m\u001b[0;34m\u001b[0m\u001b[0m\n\u001b[0;32m-> 6653\u001b[0;31m   \u001b[0msix\u001b[0m\u001b[0;34m.\u001b[0m\u001b[0mraise_from\u001b[0m\u001b[0;34m(\u001b[0m\u001b[0mcore\u001b[0m\u001b[0;34m.\u001b[0m\u001b[0m_status_to_exception\u001b[0m\u001b[0;34m(\u001b[0m\u001b[0me\u001b[0m\u001b[0;34m.\u001b[0m\u001b[0mcode\u001b[0m\u001b[0;34m,\u001b[0m \u001b[0mmessage\u001b[0m\u001b[0;34m)\u001b[0m\u001b[0;34m,\u001b[0m \u001b[0;32mNone\u001b[0m\u001b[0;34m)\u001b[0m\u001b[0;34m\u001b[0m\u001b[0;34m\u001b[0m\u001b[0m\n\u001b[0m\u001b[1;32m   6654\u001b[0m   \u001b[0;31m# pylint: enable=protected-access\u001b[0m\u001b[0;34m\u001b[0m\u001b[0;34m\u001b[0m\u001b[0;34m\u001b[0m\u001b[0m\n\u001b[1;32m   6655\u001b[0m \u001b[0;34m\u001b[0m\u001b[0m\n",
      "\u001b[0;32m~/anaconda2/envs/master-thesis/lib/python3.8/site-packages/six.py\u001b[0m in \u001b[0;36mraise_from\u001b[0;34m(value, from_value)\u001b[0m\n",
      "\u001b[0;31mNotFoundError\u001b[0m: Could not find valid device for node.\nNode:{{node Sum}}\nAll kernels registered for op Sum :\n  device='XLA_CPU'; Tidx in [DT_INT32, DT_INT64]; T in [DT_FLOAT, DT_DOUBLE, DT_INT32, DT_UINT8, DT_INT16, ..., DT_UINT16, DT_COMPLEX128, DT_HALF, DT_UINT32, DT_UINT64]\n  device='XLA_GPU'; Tidx in [DT_INT32, DT_INT64]; T in [DT_FLOAT, DT_DOUBLE, DT_INT32, DT_UINT8, DT_INT16, ..., DT_UINT16, DT_COMPLEX128, DT_HALF, DT_UINT32, DT_UINT64]\n  device='XLA_CPU_JIT'; Tidx in [DT_INT32, DT_INT64]; T in [DT_FLOAT, DT_DOUBLE, DT_INT32, DT_UINT8, DT_INT16, ..., DT_UINT16, DT_COMPLEX128, DT_HALF, DT_UINT32, DT_UINT64]\n  device='XLA_GPU_JIT'; Tidx in [DT_INT32, DT_INT64]; T in [DT_FLOAT, DT_DOUBLE, DT_INT32, DT_UINT8, DT_INT16, ..., DT_UINT16, DT_COMPLEX128, DT_HALF, DT_UINT32, DT_UINT64]\n  device='CPU'; T in [DT_COMPLEX128]; Tidx in [DT_INT64]\n  device='CPU'; T in [DT_COMPLEX128]; Tidx in [DT_INT32]\n  device='CPU'; T in [DT_COMPLEX64]; Tidx in [DT_INT64]\n  device='CPU'; T in [DT_COMPLEX64]; Tidx in [DT_INT32]\n  device='CPU'; T in [DT_DOUBLE]; Tidx in [DT_INT64]\n  device='CPU'; T in [DT_DOUBLE]; Tidx in [DT_INT32]\n  device='CPU'; T in [DT_FLOAT]; Tidx in [DT_INT64]\n  device='CPU'; T in [DT_FLOAT]; Tidx in [DT_INT32]\n  device='CPU'; T in [DT_BFLOAT16]; Tidx in [DT_INT64]\n  device='CPU'; T in [DT_BFLOAT16]; Tidx in [DT_INT32]\n  device='CPU'; T in [DT_HALF]; Tidx in [DT_INT64]\n  device='CPU'; T in [DT_HALF]; Tidx in [DT_INT32]\n  device='CPU'; T in [DT_INT8]; Tidx in [DT_INT64]\n  device='CPU'; T in [DT_INT8]; Tidx in [DT_INT32]\n  device='CPU'; T in [DT_UINT8]; Tidx in [DT_INT64]\n  device='CPU'; T in [DT_UINT8]; Tidx in [DT_INT32]\n  device='CPU'; T in [DT_INT16]; Tidx in [DT_INT64]\n  device='CPU'; T in [DT_INT16]; Tidx in [DT_INT32]\n  device='CPU'; T in [DT_UINT16]; Tidx in [DT_INT64]\n  device='CPU'; T in [DT_UINT16]; Tidx in [DT_INT32]\n  device='CPU'; T in [DT_INT32]; Tidx in [DT_INT64]\n  device='CPU'; T in [DT_INT32]; Tidx in [DT_INT32]\n  device='CPU'; T in [DT_INT64]; Tidx in [DT_INT64]\n  device='CPU'; T in [DT_INT64]; Tidx in [DT_INT32]\n  device='GPU'; T in [DT_INT32]; Tidx in [DT_INT64]\n  device='GPU'; T in [DT_INT32]; Tidx in [DT_INT32]\n  device='GPU'; T in [DT_COMPLEX128]; Tidx in [DT_INT64]\n  device='GPU'; T in [DT_COMPLEX128]; Tidx in [DT_INT32]\n  device='GPU'; T in [DT_COMPLEX64]; Tidx in [DT_INT64]\n  device='GPU'; T in [DT_COMPLEX64]; Tidx in [DT_INT32]\n  device='GPU'; T in [DT_INT64]; Tidx in [DT_INT64]\n  device='GPU'; T in [DT_INT64]; Tidx in [DT_INT32]\n  device='GPU'; T in [DT_DOUBLE]; Tidx in [DT_INT64]\n  device='GPU'; T in [DT_DOUBLE]; Tidx in [DT_INT32]\n  device='GPU'; T in [DT_FLOAT]; Tidx in [DT_INT64]\n  device='GPU'; T in [DT_FLOAT]; Tidx in [DT_INT32]\n  device='GPU'; T in [DT_HALF]; Tidx in [DT_INT64]\n  device='GPU'; T in [DT_HALF]; Tidx in [DT_INT32]\n [Op:Sum]"
     ]
    }
   ],
   "source": [
    "for s in success:\n",
    "    print(tf.math.reduce_sum(s))\n"
   ]
  },
  {
   "cell_type": "code",
   "execution_count": null,
   "metadata": {},
   "outputs": [],
   "source": []
  }
 ],
 "metadata": {
  "kernelspec": {
   "display_name": "Python 3",
   "language": "python",
   "name": "python3"
  },
  "language_info": {
   "codemirror_mode": {
    "name": "ipython",
    "version": 3
   },
   "file_extension": ".py",
   "mimetype": "text/x-python",
   "name": "python",
   "nbconvert_exporter": "python",
   "pygments_lexer": "ipython3",
   "version": "3.8.3"
  }
 },
 "nbformat": 4,
 "nbformat_minor": 4
}
